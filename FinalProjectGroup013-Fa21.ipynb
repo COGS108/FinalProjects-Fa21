{
 "cells": [
  {
   "cell_type": "markdown",
   "metadata": {},
   "source": [
    "# COGS 108 - Effect of Introducing Fairy Type Pokemon on Dragon Type Pokemon in Pokemon Showdown"
   ]
  },
  {
   "cell_type": "markdown",
   "metadata": {},
   "source": [
    "## Permissions\n",
    "\n",
    "Place an `X` in the appropriate bracket below to specify if you would like your group's project to be made available to the public. (Note that student names will be included (but PIDs will be scraped from any groups who include their PIDs).\n",
    "\n",
    "* [X] YES - make available\n",
    "* [  ] NO - keep private"
   ]
  },
  {
   "cell_type": "markdown",
   "metadata": {},
   "source": [
    "# Overview"
   ]
  },
  {
   "cell_type": "markdown",
   "metadata": {},
   "source": [
    "In our data project, we used publicly availably Pokemon Showdown Usage datasets before and after the inclusion of the new Fairy type. We analyzed whether its inclusion had an effect on the usage of Dragon types, as well as the usage of super effective moves against Dragon and Fairy types. Using two-tailed t-tests with an alpha level of 0.01, we found that there was a significant difference in both Dragon type usage and super effective move usage when comparing usage from before and after Fairy type's inclusion. "
   ]
  },
  {
   "cell_type": "markdown",
   "metadata": {},
   "source": [
    "# Names\n",
    "\n",
    "- Crystal Zhan\n",
    "- Akil Selvan Rajendra Janarthanan \n",
    "- Kristen Prescaro\n",
    "- Kristine Thipatima\n",
    "- Ethan Dinh-Luong"
   ]
  },
  {
   "cell_type": "markdown",
   "metadata": {},
   "source": [
    "<a id='research_question'></a>\n",
    "# Research Question"
   ]
  },
  {
   "cell_type": "markdown",
   "metadata": {},
   "source": [
    "How did the addition of the Fairy type Pokemon change competitive battling?"
   ]
  },
  {
   "cell_type": "markdown",
   "metadata": {},
   "source": [
    "<a id='background'></a>\n",
    "\n",
    "## Background & Prior Work"
   ]
  },
  {
   "cell_type": "markdown",
   "metadata": {},
   "source": [
    "Pokemon Showdown is a Pokemon battle simulator that allows players to build teams of Pokemon and battle each other online in various battle formats. In a Pokemon battle, each player has a team of 6 Pokemon, and each Pokemon has 4 different moves that can be used in battles. Every Pokemon has 1 or 2 types, which determines their strengths and weaknesses against other Pokemon types, and each move also has 1 type. Each Pokemon is assigned a limited pool of usable moves that can include other types besides its own. \n",
    "Prior to the 6th generation of Pokemon, there were 17 Pokemon types. However, Generation 6 saw the introduction of the Fairy type, which created a major shift in type dynamics. Fairy types are weak to Poison and Steel and super effective against Dark, Fighting, and, most notably, Dragon. Fairy is the only type that is both super effective against and completely immune to Dragon types, a type which has historically been popular in competitive Pokemon battles because of their high stats (the highest average stat total of all types, according to Bulbapedia) and few type weaknesses. Nicholas Vadivelu’s analysis on competitive Pokemon found that Fairy type Pokemon have become quite prominent in upper competitive tiers, which effectively puts them in direct competition with Dragon types.\n",
    "\n",
    "Pokemon Showdown has two major formats: Ubers and OU. Each format has different restrictions on what Pokemon are allowed based on how dominating a Pokemon is. OU has more restrictions on Pokemon than Ubers, banning Pokemon that are too powerful to allow Pokemon that are less used to be more effective. Ubers has the least restrictions and allows players to use the Pokemon that they would like with a few minor exceptions. The introduction of Fairy types in generation 6 affect the use of Dragon types differently in each format as different Fairy types are allowed in each tier. \n",
    "\n",
    "\n",
    "References (include links):\n",
    "- https://bulbapedia.bulbagarden.net/wiki/Dragon_(type)\n",
    "- https://github.com/n2cholas/pokemon-analysis/blob/master/Competitive-Pokemon-Analysis-and-Modelling.ipynb"
   ]
  },
  {
   "cell_type": "markdown",
   "metadata": {},
   "source": [
    "# Hypothesis\n"
   ]
  },
  {
   "cell_type": "markdown",
   "metadata": {},
   "source": [
    "With the addition of the new Fairy type in Generation 6, we predicted that types effective against Fairy type (Poison, Steel) would increase in usage, while the Dragon type, which is weak to Fairy type, would decrease in usage. We would also expect Ice types, another counter to Dragon types, to decrease in usage. We predicted that the trend would remain consistent as more Fairy type Pokemon are added to the game with each generation."
   ]
  },
  {
   "cell_type": "markdown",
   "metadata": {},
   "source": [
    "# Dataset(s)"
   ]
  },
  {
   "cell_type": "markdown",
   "metadata": {},
   "source": [
    "### Dataset Name: Pokedex\n",
    "- Link to the dataset: https://github.com/smogon/pokemon-showdown/blob/master/data/pokedex.ts\n",
    "- Number of observations: 1155\n",
    "- This dataset has every single Pokemon and many of their attributes, like name, gender, height, and stats. We are using their name and type. \n",
    "### Dataset Name: Moves\n",
    "- Link to the dataset: https://github.com/smogon/pokemon-showdown/blob/master/data/moves.ts\n",
    "- Number of observations: 859 \n",
    "- This dataset has every single move a Pokemon can learn and attributes, like power, accuracy, and type. We will be using the move's type and name. \n",
    "\n",
    "### Dataset Name: Pokemon Showdown Battle Stats \n",
    "- Link to the dataset: https://www.smogon.com/stats/\n",
    "- Number of observations: 6001\n",
    "- This dataset has all the statistics from Pokemon Showdown battles ranging from 2014 to now in different battle formats. We will extract the top Pokemon used in specific formats and months at high rating, alongside the Pokemon usage % and move usage %. \n",
    "\n",
    "### Joining the Datasets\n",
    "- **Battle Stats** and **Pokedex** will be merged on the Pokemon's Name.\n",
    "- **Battle Stats** and **Moves** will be merged on the Move Names."
   ]
  },
  {
   "cell_type": "markdown",
   "metadata": {},
   "source": [
    "# Setup"
   ]
  },
  {
   "cell_type": "code",
   "execution_count": 1,
   "metadata": {},
   "outputs": [],
   "source": [
    "import pandas as pd\n",
    "import numpy as np\n",
    "import seaborn as sns\n",
    "from scipy.stats import ttest_ind"
   ]
  },
  {
   "cell_type": "markdown",
   "metadata": {},
   "source": [
    "# Data Cleaning"
   ]
  },
  {
   "cell_type": "markdown",
   "metadata": {},
   "source": [
    "## Cleaning Informational Data (Pokemon Moves, Pokemon Types)\n",
    "\n",
    "The list of moves is in a semi-structed JSON file, which we needed to clean up so we only had the relevant information about the moves. "
   ]
  },
  {
   "cell_type": "code",
   "execution_count": 42,
   "metadata": {},
   "outputs": [
    {
     "data": {
      "text/html": [
       "<div>\n",
       "<style scoped>\n",
       "    .dataframe tbody tr th:only-of-type {\n",
       "        vertical-align: middle;\n",
       "    }\n",
       "\n",
       "    .dataframe tbody tr th {\n",
       "        vertical-align: top;\n",
       "    }\n",
       "\n",
       "    .dataframe thead th {\n",
       "        text-align: right;\n",
       "    }\n",
       "</style>\n",
       "<table border=\"1\" class=\"dataframe\">\n",
       "  <thead>\n",
       "    <tr style=\"text-align: right;\">\n",
       "      <th></th>\n",
       "      <th>10000000voltthunderbolt</th>\n",
       "      <th>absorb</th>\n",
       "      <th>accelerock</th>\n",
       "      <th>acid</th>\n",
       "      <th>acidarmor</th>\n",
       "      <th>aciddownpour</th>\n",
       "      <th>acidspray</th>\n",
       "      <th>acrobatics</th>\n",
       "      <th>acupressure</th>\n",
       "      <th>aerialace</th>\n",
       "      <th>...</th>\n",
       "      <th>workup</th>\n",
       "      <th>worryseed</th>\n",
       "      <th>wrap</th>\n",
       "      <th>wringout</th>\n",
       "      <th>xscissor</th>\n",
       "      <th>yawn</th>\n",
       "      <th>zapcannon</th>\n",
       "      <th>zenheadbutt</th>\n",
       "      <th>zingzap</th>\n",
       "      <th>zippyzap</th>\n",
       "    </tr>\n",
       "  </thead>\n",
       "  <tbody>\n",
       "    <tr>\n",
       "      <th>num</th>\n",
       "      <td>719</td>\n",
       "      <td>71</td>\n",
       "      <td>709</td>\n",
       "      <td>51</td>\n",
       "      <td>151</td>\n",
       "      <td>628</td>\n",
       "      <td>491</td>\n",
       "      <td>512</td>\n",
       "      <td>367</td>\n",
       "      <td>332</td>\n",
       "      <td>...</td>\n",
       "      <td>526</td>\n",
       "      <td>388</td>\n",
       "      <td>35</td>\n",
       "      <td>378</td>\n",
       "      <td>404</td>\n",
       "      <td>281</td>\n",
       "      <td>192</td>\n",
       "      <td>428</td>\n",
       "      <td>716</td>\n",
       "      <td>729</td>\n",
       "    </tr>\n",
       "    <tr>\n",
       "      <th>accuracy</th>\n",
       "      <td>True</td>\n",
       "      <td>100</td>\n",
       "      <td>100</td>\n",
       "      <td>100</td>\n",
       "      <td>True</td>\n",
       "      <td>True</td>\n",
       "      <td>100</td>\n",
       "      <td>100</td>\n",
       "      <td>True</td>\n",
       "      <td>True</td>\n",
       "      <td>...</td>\n",
       "      <td>True</td>\n",
       "      <td>100</td>\n",
       "      <td>90</td>\n",
       "      <td>100</td>\n",
       "      <td>100</td>\n",
       "      <td>True</td>\n",
       "      <td>50</td>\n",
       "      <td>90</td>\n",
       "      <td>100</td>\n",
       "      <td>100</td>\n",
       "    </tr>\n",
       "    <tr>\n",
       "      <th>basePower</th>\n",
       "      <td>195</td>\n",
       "      <td>20</td>\n",
       "      <td>40</td>\n",
       "      <td>40</td>\n",
       "      <td>0</td>\n",
       "      <td>1</td>\n",
       "      <td>40</td>\n",
       "      <td>55</td>\n",
       "      <td>0</td>\n",
       "      <td>60</td>\n",
       "      <td>...</td>\n",
       "      <td>0</td>\n",
       "      <td>0</td>\n",
       "      <td>15</td>\n",
       "      <td>0</td>\n",
       "      <td>80</td>\n",
       "      <td>0</td>\n",
       "      <td>120</td>\n",
       "      <td>80</td>\n",
       "      <td>80</td>\n",
       "      <td>80</td>\n",
       "    </tr>\n",
       "    <tr>\n",
       "      <th>category</th>\n",
       "      <td>Special</td>\n",
       "      <td>Special</td>\n",
       "      <td>Physical</td>\n",
       "      <td>Special</td>\n",
       "      <td>Status</td>\n",
       "      <td>Physical</td>\n",
       "      <td>Special</td>\n",
       "      <td>Physical</td>\n",
       "      <td>Status</td>\n",
       "      <td>Physical</td>\n",
       "      <td>...</td>\n",
       "      <td>Status</td>\n",
       "      <td>Status</td>\n",
       "      <td>Physical</td>\n",
       "      <td>Special</td>\n",
       "      <td>Physical</td>\n",
       "      <td>Status</td>\n",
       "      <td>Special</td>\n",
       "      <td>Physical</td>\n",
       "      <td>Physical</td>\n",
       "      <td>Physical</td>\n",
       "    </tr>\n",
       "    <tr>\n",
       "      <th>isNonstandard</th>\n",
       "      <td>Past</td>\n",
       "      <td>NaN</td>\n",
       "      <td>NaN</td>\n",
       "      <td>NaN</td>\n",
       "      <td>NaN</td>\n",
       "      <td>Past</td>\n",
       "      <td>NaN</td>\n",
       "      <td>NaN</td>\n",
       "      <td>NaN</td>\n",
       "      <td>NaN</td>\n",
       "      <td>...</td>\n",
       "      <td>NaN</td>\n",
       "      <td>NaN</td>\n",
       "      <td>NaN</td>\n",
       "      <td>Past</td>\n",
       "      <td>NaN</td>\n",
       "      <td>NaN</td>\n",
       "      <td>NaN</td>\n",
       "      <td>NaN</td>\n",
       "      <td>NaN</td>\n",
       "      <td>LGPE</td>\n",
       "    </tr>\n",
       "  </tbody>\n",
       "</table>\n",
       "<p>5 rows × 859 columns</p>\n",
       "</div>"
      ],
      "text/plain": [
       "              10000000voltthunderbolt   absorb accelerock     acid acidarmor  \\\n",
       "num                               719       71        709       51       151   \n",
       "accuracy                         True      100        100      100      True   \n",
       "basePower                         195       20         40       40         0   \n",
       "category                      Special  Special   Physical  Special    Status   \n",
       "isNonstandard                    Past      NaN        NaN      NaN       NaN   \n",
       "\n",
       "              aciddownpour acidspray acrobatics acupressure aerialace  ...  \\\n",
       "num                    628       491        512         367       332  ...   \n",
       "accuracy              True       100        100        True      True  ...   \n",
       "basePower                1        40         55           0        60  ...   \n",
       "category          Physical   Special   Physical      Status  Physical  ...   \n",
       "isNonstandard         Past       NaN        NaN         NaN       NaN  ...   \n",
       "\n",
       "               workup worryseed      wrap wringout  xscissor    yawn  \\\n",
       "num               526       388        35      378       404     281   \n",
       "accuracy         True       100        90      100       100    True   \n",
       "basePower           0         0        15        0        80       0   \n",
       "category       Status    Status  Physical  Special  Physical  Status   \n",
       "isNonstandard     NaN       NaN       NaN     Past       NaN     NaN   \n",
       "\n",
       "              zapcannon zenheadbutt   zingzap  zippyzap  \n",
       "num                 192         428       716       729  \n",
       "accuracy             50          90       100       100  \n",
       "basePower           120          80        80        80  \n",
       "category        Special    Physical  Physical  Physical  \n",
       "isNonstandard       NaN         NaN       NaN      LGPE  \n",
       "\n",
       "[5 rows x 859 columns]"
      ]
     },
     "execution_count": 42,
     "metadata": {},
     "output_type": "execute_result"
    }
   ],
   "source": [
    "moves = pd.read_json(\"Pokedex and Moves/data/moves.json\")\n",
    "moves.head()"
   ]
  },
  {
   "cell_type": "markdown",
   "metadata": {},
   "source": [
    "As can be seen, the names of the moves are the column names and the variables are the row names. However, we want it the other way around, with the move names as the index. \n",
    "\n",
    "We also only want the move name and the move type, so we remove all other variables. \n",
    "\n",
    "Next, we reset the index so there are index numbers and rename the index column to be called move.\n",
    "\n",
    "Now, our move dataset is clean. "
   ]
  },
  {
   "cell_type": "code",
   "execution_count": 43,
   "metadata": {},
   "outputs": [
    {
     "data": {
      "text/html": [
       "<div>\n",
       "<style scoped>\n",
       "    .dataframe tbody tr th:only-of-type {\n",
       "        vertical-align: middle;\n",
       "    }\n",
       "\n",
       "    .dataframe tbody tr th {\n",
       "        vertical-align: top;\n",
       "    }\n",
       "\n",
       "    .dataframe thead th {\n",
       "        text-align: right;\n",
       "    }\n",
       "</style>\n",
       "<table border=\"1\" class=\"dataframe\">\n",
       "  <thead>\n",
       "    <tr style=\"text-align: right;\">\n",
       "      <th></th>\n",
       "      <th>move</th>\n",
       "      <th>name</th>\n",
       "      <th>type</th>\n",
       "    </tr>\n",
       "  </thead>\n",
       "  <tbody>\n",
       "    <tr>\n",
       "      <th>0</th>\n",
       "      <td>10000000voltthunderbolt</td>\n",
       "      <td>10,000,000 Volt Thunderbolt</td>\n",
       "      <td>Electric</td>\n",
       "    </tr>\n",
       "    <tr>\n",
       "      <th>1</th>\n",
       "      <td>absorb</td>\n",
       "      <td>Absorb</td>\n",
       "      <td>Grass</td>\n",
       "    </tr>\n",
       "    <tr>\n",
       "      <th>2</th>\n",
       "      <td>accelerock</td>\n",
       "      <td>Accelerock</td>\n",
       "      <td>Rock</td>\n",
       "    </tr>\n",
       "    <tr>\n",
       "      <th>3</th>\n",
       "      <td>acid</td>\n",
       "      <td>Acid</td>\n",
       "      <td>Poison</td>\n",
       "    </tr>\n",
       "    <tr>\n",
       "      <th>4</th>\n",
       "      <td>acidarmor</td>\n",
       "      <td>Acid Armor</td>\n",
       "      <td>Poison</td>\n",
       "    </tr>\n",
       "  </tbody>\n",
       "</table>\n",
       "</div>"
      ],
      "text/plain": [
       "                      move                         name      type\n",
       "0  10000000voltthunderbolt  10,000,000 Volt Thunderbolt  Electric\n",
       "1                   absorb                       Absorb     Grass\n",
       "2               accelerock                   Accelerock      Rock\n",
       "3                     acid                         Acid    Poison\n",
       "4                acidarmor                   Acid Armor    Poison"
      ]
     },
     "execution_count": 43,
     "metadata": {},
     "output_type": "execute_result"
    }
   ],
   "source": [
    "# switching the column and row names \n",
    "moves = moves.T\n",
    "\n",
    "# removing all columns except move name & type\n",
    "moves = moves.loc[:,[\"name\", \"type\"]]\n",
    "\n",
    "#resetting the index numbers\n",
    "moves = moves.reset_index()\n",
    "\n",
    "#renaming index to be called move \n",
    "moves.rename(columns = {\"index\":\"move\"}, inplace=True)\n",
    "moves.head()"
   ]
  },
  {
   "cell_type": "markdown",
   "metadata": {},
   "source": [
    "Now, we apply the same cleaning steps with the list of Pokemon. \n",
    "\n",
    "However, there is an extra step of removing any Mega or Gmax form Pokemon, as our Pokemon Showdown dataset doesn't include them, nor would they affect the usage of Pokemon based on type. "
   ]
  },
  {
   "cell_type": "code",
   "execution_count": 44,
   "metadata": {},
   "outputs": [
    {
     "data": {
      "text/html": [
       "<div>\n",
       "<style scoped>\n",
       "    .dataframe tbody tr th:only-of-type {\n",
       "        vertical-align: middle;\n",
       "    }\n",
       "\n",
       "    .dataframe tbody tr th {\n",
       "        vertical-align: top;\n",
       "    }\n",
       "\n",
       "    .dataframe thead th {\n",
       "        text-align: right;\n",
       "    }\n",
       "</style>\n",
       "<table border=\"1\" class=\"dataframe\">\n",
       "  <thead>\n",
       "    <tr style=\"text-align: right;\">\n",
       "      <th></th>\n",
       "      <th>pokemon</th>\n",
       "      <th>name</th>\n",
       "      <th>types</th>\n",
       "    </tr>\n",
       "  </thead>\n",
       "  <tbody>\n",
       "    <tr>\n",
       "      <th>0</th>\n",
       "      <td>bulbasaur</td>\n",
       "      <td>Bulbasaur</td>\n",
       "      <td>[Grass, Poison]</td>\n",
       "    </tr>\n",
       "    <tr>\n",
       "      <th>1</th>\n",
       "      <td>ivysaur</td>\n",
       "      <td>Ivysaur</td>\n",
       "      <td>[Grass, Poison]</td>\n",
       "    </tr>\n",
       "    <tr>\n",
       "      <th>2</th>\n",
       "      <td>venusaur</td>\n",
       "      <td>Venusaur</td>\n",
       "      <td>[Grass, Poison]</td>\n",
       "    </tr>\n",
       "    <tr>\n",
       "      <th>5</th>\n",
       "      <td>charmander</td>\n",
       "      <td>Charmander</td>\n",
       "      <td>[Fire]</td>\n",
       "    </tr>\n",
       "    <tr>\n",
       "      <th>6</th>\n",
       "      <td>charmeleon</td>\n",
       "      <td>Charmeleon</td>\n",
       "      <td>[Fire]</td>\n",
       "    </tr>\n",
       "  </tbody>\n",
       "</table>\n",
       "</div>"
      ],
      "text/plain": [
       "      pokemon        name            types\n",
       "0   bulbasaur   Bulbasaur  [Grass, Poison]\n",
       "1     ivysaur     Ivysaur  [Grass, Poison]\n",
       "2    venusaur    Venusaur  [Grass, Poison]\n",
       "5  charmander  Charmander           [Fire]\n",
       "6  charmeleon  Charmeleon           [Fire]"
      ]
     },
     "execution_count": 44,
     "metadata": {},
     "output_type": "execute_result"
    }
   ],
   "source": [
    "pokemon = pd.read_json(\"Pokedex and Moves/data/pokedex.json\")\n",
    "\n",
    "#takes column name and row name and flips them\n",
    "pokemon = pokemon.T \n",
    "pokemon = pokemon.iloc[0:1155, :]\n",
    "\n",
    "#deletes all columns except for name and types\n",
    "pokemon = pokemon.loc[:,[\"name\", \"types\"]]\n",
    "pokemon = pokemon.reset_index()\n",
    "\n",
    "#renames index to be pokemon\n",
    "pokemon.rename(columns = {\"index\":\"pokemon\"}, inplace=True)\n",
    "\n",
    "#drop rows that contain the partial string \"gmax or mega\" in the pokemon column\n",
    "pokemon = pokemon[~pokemon.pokemon.str.contains(\"gmax\")]\n",
    "pokemon = pokemon[~pokemon.name.str.contains(\"-Mega\")]\n",
    "\n",
    "pokemon.head()\n"
   ]
  },
  {
   "cell_type": "markdown",
   "metadata": {},
   "source": [
    "The next step for the Pokemon list is to split the type column into two parts, as some Pokemon have two types, while others have one. For those with one type, we will put null for the 2nd type. "
   ]
  },
  {
   "cell_type": "code",
   "execution_count": 45,
   "metadata": {},
   "outputs": [
    {
     "data": {
      "text/html": [
       "<div>\n",
       "<style scoped>\n",
       "    .dataframe tbody tr th:only-of-type {\n",
       "        vertical-align: middle;\n",
       "    }\n",
       "\n",
       "    .dataframe tbody tr th {\n",
       "        vertical-align: top;\n",
       "    }\n",
       "\n",
       "    .dataframe thead th {\n",
       "        text-align: right;\n",
       "    }\n",
       "</style>\n",
       "<table border=\"1\" class=\"dataframe\">\n",
       "  <thead>\n",
       "    <tr style=\"text-align: right;\">\n",
       "      <th></th>\n",
       "      <th>pokemon</th>\n",
       "      <th>name</th>\n",
       "      <th>types</th>\n",
       "      <th>type2</th>\n",
       "    </tr>\n",
       "  </thead>\n",
       "  <tbody>\n",
       "    <tr>\n",
       "      <th>0</th>\n",
       "      <td>bulbasaur</td>\n",
       "      <td>Bulbasaur</td>\n",
       "      <td>Grass</td>\n",
       "      <td>Poison</td>\n",
       "    </tr>\n",
       "    <tr>\n",
       "      <th>1</th>\n",
       "      <td>ivysaur</td>\n",
       "      <td>Ivysaur</td>\n",
       "      <td>Grass</td>\n",
       "      <td>Poison</td>\n",
       "    </tr>\n",
       "    <tr>\n",
       "      <th>2</th>\n",
       "      <td>venusaur</td>\n",
       "      <td>Venusaur</td>\n",
       "      <td>Grass</td>\n",
       "      <td>Poison</td>\n",
       "    </tr>\n",
       "    <tr>\n",
       "      <th>5</th>\n",
       "      <td>charmander</td>\n",
       "      <td>Charmander</td>\n",
       "      <td>Fire</td>\n",
       "      <td>None</td>\n",
       "    </tr>\n",
       "    <tr>\n",
       "      <th>6</th>\n",
       "      <td>charmeleon</td>\n",
       "      <td>Charmeleon</td>\n",
       "      <td>Fire</td>\n",
       "      <td>None</td>\n",
       "    </tr>\n",
       "  </tbody>\n",
       "</table>\n",
       "</div>"
      ],
      "text/plain": [
       "      pokemon        name  types   type2\n",
       "0   bulbasaur   Bulbasaur  Grass  Poison\n",
       "1     ivysaur     Ivysaur  Grass  Poison\n",
       "2    venusaur    Venusaur  Grass  Poison\n",
       "5  charmander  Charmander   Fire    None\n",
       "6  charmeleon  Charmeleon   Fire    None"
      ]
     },
     "execution_count": 45,
     "metadata": {},
     "output_type": "execute_result"
    }
   ],
   "source": [
    "type1 = []\n",
    "type2 = []\n",
    "\n",
    "#loop through the list of pokemon and puts their types in their own columns\n",
    "#puts None if there's no secondary type\n",
    "for x in pokemon[\"types\"]:\n",
    "    type1.append(x[0])\n",
    "    if (len(x) == 2):\n",
    "        type2.append(x[1])\n",
    "    else:\n",
    "        type2.append(None)\n",
    "\n",
    "pokemon[\"types\"] = type1\n",
    "pokemon[\"type2\"] = type2\n",
    "pokemon.head()\n"
   ]
  },
  {
   "cell_type": "markdown",
   "metadata": {},
   "source": [
    "## Pokemon Showdown Battle Stats\n",
    "\n",
    "The data given by Pokemon Showdown is several semi-structured JSON format files, where cleaning was needed in every file to read the data into a usable format. \n",
    "\n",
    "*The cleaning process exampled below was repeated for all other JSON files.*\n",
    "\n",
    "Unnecessary data prior to our analysis was removed where data was null."
   ]
  },
  {
   "cell_type": "code",
   "execution_count": 46,
   "metadata": {},
   "outputs": [
    {
     "data": {
      "text/plain": [
       "Mr. Mime-Galar    {'Moves': {'': 32.0, 'healingwish': 226.0, 'bl...\n",
       "Eevee             {'Moves': {'': 197.0, 'rest': 7.0, 'mudslap': ...\n",
       "Torracat          {'Moves': {'': 1.0, 'firespin': 20.0, 'leechli...\n",
       "Poliwrath         {'Moves': {'': 58.0, 'counter': 48.0, 'liquida...\n",
       "Emolga            {'Moves': {'': 2.0, 'eerieimpulse': 47.0, 'ris...\n",
       "                                        ...                        \n",
       "Shedinja          {'Moves': {'': 578.0, 'absorb': 11.0, 'falsesw...\n",
       "Wishiwashi        {'Moves': {'': 67.0, 'liquidation': 393.0, 'be...\n",
       "Sneasel           {'Moves': {'counter': 3.0, 'beatup': 9.0, 'bli...\n",
       "Hitmontop         {'Moves': {'': 208.0, 'detect': 89.0, 'quickgu...\n",
       "Kingdra           {'Moves': {'': 57.0, 'icywind': 32.0, 'liquida...\n",
       "Name: data, Length: 440, dtype: object"
      ]
     },
     "execution_count": 46,
     "metadata": {},
     "output_type": "execute_result"
    }
   ],
   "source": [
    "raw = pd.read_json(\"Pokemon Usage/September/raw/gen8/gen8ou-0.json\")\n",
    "df = raw[raw['data'].notna()]['data']\n",
    "df"
   ]
  },
  {
   "cell_type": "markdown",
   "metadata": {},
   "source": [
    "To narrow down the data desired for our analysis, the following criteria were used to filter out the data:\n",
    "- Pokemon with at least 2% usage\n",
    "- Each Pokemon's Top 6 Moves (each Pokemon can have 4 moves in their moveset at a time)\n",
    "\n",
    "Additionally, each dataframe includes 4 more columns identifying which JSON file the data originated from, denoted by **Gen**, **Format**, **Rating**, and **Recent** given in the first few rows of the JSON file."
   ]
  },
  {
   "cell_type": "code",
   "execution_count": 47,
   "metadata": {},
   "outputs": [
    {
     "data": {
      "text/html": [
       "<div>\n",
       "<style scoped>\n",
       "    .dataframe tbody tr th:only-of-type {\n",
       "        vertical-align: middle;\n",
       "    }\n",
       "\n",
       "    .dataframe tbody tr th {\n",
       "        vertical-align: top;\n",
       "    }\n",
       "\n",
       "    .dataframe thead th {\n",
       "        text-align: right;\n",
       "    }\n",
       "</style>\n",
       "<table border=\"1\" class=\"dataframe\">\n",
       "  <thead>\n",
       "    <tr style=\"text-align: right;\">\n",
       "      <th></th>\n",
       "      <th>Moves</th>\n",
       "      <th>Usage</th>\n",
       "      <th>Gen</th>\n",
       "      <th>Format</th>\n",
       "      <th>Min Rating</th>\n",
       "    </tr>\n",
       "  </thead>\n",
       "  <tbody>\n",
       "    <tr>\n",
       "      <th>Landorus-Therian</th>\n",
       "      <td>[earthquake, uturn, stealthrock, knockoff, tox...</td>\n",
       "      <td>0.304108</td>\n",
       "      <td>8</td>\n",
       "      <td>ou</td>\n",
       "      <td>0.0</td>\n",
       "    </tr>\n",
       "    <tr>\n",
       "      <th>Blissey</th>\n",
       "      <td>[softboiled, seismictoss, toxic, teleport, thu...</td>\n",
       "      <td>0.084829</td>\n",
       "      <td>8</td>\n",
       "      <td>ou</td>\n",
       "      <td>0.0</td>\n",
       "    </tr>\n",
       "    <tr>\n",
       "      <th>Slowbro</th>\n",
       "      <td>[scald, teleport, slackoff, futuresight, icebe...</td>\n",
       "      <td>0.057747</td>\n",
       "      <td>8</td>\n",
       "      <td>ou</td>\n",
       "      <td>0.0</td>\n",
       "    </tr>\n",
       "    <tr>\n",
       "      <th>Crawdaunt</th>\n",
       "      <td>[aquajet, knockoff, crabhammer, swordsdance, c...</td>\n",
       "      <td>0.028303</td>\n",
       "      <td>8</td>\n",
       "      <td>ou</td>\n",
       "      <td>0.0</td>\n",
       "    </tr>\n",
       "    <tr>\n",
       "      <th>Urshifu-Rapid-Strike</th>\n",
       "      <td>[surgingstrikes, closecombat, aquajet, uturn, ...</td>\n",
       "      <td>0.129478</td>\n",
       "      <td>8</td>\n",
       "      <td>ou</td>\n",
       "      <td>0.0</td>\n",
       "    </tr>\n",
       "  </tbody>\n",
       "</table>\n",
       "</div>"
      ],
      "text/plain": [
       "                                                                  Moves  \\\n",
       "Landorus-Therian      [earthquake, uturn, stealthrock, knockoff, tox...   \n",
       "Blissey               [softboiled, seismictoss, toxic, teleport, thu...   \n",
       "Slowbro               [scald, teleport, slackoff, futuresight, icebe...   \n",
       "Crawdaunt             [aquajet, knockoff, crabhammer, swordsdance, c...   \n",
       "Urshifu-Rapid-Strike  [surgingstrikes, closecombat, aquajet, uturn, ...   \n",
       "\n",
       "                         Usage Gen Format  Min Rating  \n",
       "Landorus-Therian      0.304108   8     ou         0.0  \n",
       "Blissey               0.084829   8     ou         0.0  \n",
       "Slowbro               0.057747   8     ou         0.0  \n",
       "Crawdaunt             0.028303   8     ou         0.0  \n",
       "Urshifu-Rapid-Strike  0.129478   8     ou         0.0  "
      ]
     },
     "execution_count": 47,
     "metadata": {},
     "output_type": "execute_result"
    }
   ],
   "source": [
    "### Dictionary to make the DataFrame\n",
    "top_mons = {}\n",
    "\n",
    "### Saves the Pokemon as Indexes\n",
    "ix = list(df.index)\n",
    "\n",
    "### For each Observation\n",
    "for row in range(len(df)):\n",
    "\n",
    "    ### At least 2% Usage\n",
    "    if df[row]['usage'] >= .02:\n",
    "\n",
    "        ### Pokemon Name\n",
    "        mon = ix[row]\n",
    "\n",
    "        ### Finds the Top 6 Moves\n",
    "        top_6 = list(dict(sorted(df[row]['Moves'].items(), key=lambda item: item[1], reverse=True)))[:6]\n",
    "        \n",
    "        ### Saves info to dictionary\n",
    "        top_mons[mon] = [top_6, df[row]['usage']]\n",
    "\n",
    "### Output DataFrame\n",
    "cleaned = pd.DataFrame.from_dict(top_mons, orient = 'index').rename(columns = {0:\"Moves\", 1:\"Usage\"})\n",
    "\n",
    "### Format, Gen, Rating Variables\n",
    "metagame = raw.loc['metagame'][0]\n",
    "gen = metagame[3]\n",
    "format_name = metagame[4:]\n",
    "rating = raw.loc[\"cutoff\"][0]\n",
    "\n",
    "### Adding the Variables to the DF\n",
    "cleaned[\"Gen\"] = gen\n",
    "cleaned[\"Format\"] = format_name\n",
    "cleaned[\"Min Rating\"] = rating\n",
    "cleaned.head()\n"
   ]
  },
  {
   "cell_type": "markdown",
   "metadata": {},
   "source": [
    "## Joining the Datasets"
   ]
  },
  {
   "cell_type": "markdown",
   "metadata": {},
   "source": [
    "### Showdown Usage with Moves"
   ]
  },
  {
   "cell_type": "markdown",
   "metadata": {},
   "source": [
    "Firstly, we imported all the cleaned data from the prior section that was applied to all JSON files."
   ]
  },
  {
   "cell_type": "code",
   "execution_count": 48,
   "metadata": {},
   "outputs": [
    {
     "name": "stdout",
     "output_type": "stream",
     "text": [
      "(5916, 7)\n"
     ]
    },
    {
     "data": {
      "text/html": [
       "<div>\n",
       "<style scoped>\n",
       "    .dataframe tbody tr th:only-of-type {\n",
       "        vertical-align: middle;\n",
       "    }\n",
       "\n",
       "    .dataframe tbody tr th {\n",
       "        vertical-align: top;\n",
       "    }\n",
       "\n",
       "    .dataframe thead th {\n",
       "        text-align: right;\n",
       "    }\n",
       "</style>\n",
       "<table border=\"1\" class=\"dataframe\">\n",
       "  <thead>\n",
       "    <tr style=\"text-align: right;\">\n",
       "      <th></th>\n",
       "      <th>name</th>\n",
       "      <th>Moves</th>\n",
       "      <th>Usage</th>\n",
       "      <th>Gen</th>\n",
       "      <th>Format</th>\n",
       "      <th>Min Rating</th>\n",
       "      <th>Recent</th>\n",
       "    </tr>\n",
       "  </thead>\n",
       "  <tbody>\n",
       "    <tr>\n",
       "      <th>0</th>\n",
       "      <td>Bronzong</td>\n",
       "      <td>['gyroball', 'explosion', 'earthquake', 'steal...</td>\n",
       "      <td>0.124514</td>\n",
       "      <td>4.0</td>\n",
       "      <td>ou</td>\n",
       "      <td>0.0</td>\n",
       "      <td>1</td>\n",
       "    </tr>\n",
       "    <tr>\n",
       "      <th>1</th>\n",
       "      <td>Swampert</td>\n",
       "      <td>['earthquake', 'stealthrock', 'waterfall', 'ic...</td>\n",
       "      <td>0.120051</td>\n",
       "      <td>4.0</td>\n",
       "      <td>ou</td>\n",
       "      <td>0.0</td>\n",
       "      <td>1</td>\n",
       "    </tr>\n",
       "    <tr>\n",
       "      <th>2</th>\n",
       "      <td>Snorlax</td>\n",
       "      <td>['bodyslam', 'crunch', 'earthquake', 'curse', ...</td>\n",
       "      <td>0.040116</td>\n",
       "      <td>4.0</td>\n",
       "      <td>ou</td>\n",
       "      <td>0.0</td>\n",
       "      <td>1</td>\n",
       "    </tr>\n",
       "    <tr>\n",
       "      <th>3</th>\n",
       "      <td>Uxie</td>\n",
       "      <td>['stealthrock', 'uturn', 'thunderwave', 'psych...</td>\n",
       "      <td>0.023561</td>\n",
       "      <td>4.0</td>\n",
       "      <td>ou</td>\n",
       "      <td>0.0</td>\n",
       "      <td>1</td>\n",
       "    </tr>\n",
       "    <tr>\n",
       "      <th>4</th>\n",
       "      <td>Machamp</td>\n",
       "      <td>['dynamicpunch', 'payback', 'bulletpunch', 'ic...</td>\n",
       "      <td>0.102777</td>\n",
       "      <td>4.0</td>\n",
       "      <td>ou</td>\n",
       "      <td>0.0</td>\n",
       "      <td>1</td>\n",
       "    </tr>\n",
       "  </tbody>\n",
       "</table>\n",
       "</div>"
      ],
      "text/plain": [
       "       name                                              Moves     Usage  Gen  \\\n",
       "0  Bronzong  ['gyroball', 'explosion', 'earthquake', 'steal...  0.124514  4.0   \n",
       "1  Swampert  ['earthquake', 'stealthrock', 'waterfall', 'ic...  0.120051  4.0   \n",
       "2   Snorlax  ['bodyslam', 'crunch', 'earthquake', 'curse', ...  0.040116  4.0   \n",
       "3      Uxie  ['stealthrock', 'uturn', 'thunderwave', 'psych...  0.023561  4.0   \n",
       "4   Machamp  ['dynamicpunch', 'payback', 'bulletpunch', 'ic...  0.102777  4.0   \n",
       "\n",
       "  Format  Min Rating  Recent  \n",
       "0     ou         0.0       1  \n",
       "1     ou         0.0       1  \n",
       "2     ou         0.0       1  \n",
       "3     ou         0.0       1  \n",
       "4     ou         0.0       1  "
      ]
     },
     "execution_count": 48,
     "metadata": {},
     "output_type": "execute_result"
    }
   ],
   "source": [
    "### Importing Usage DFs and Merging Them\n",
    "recentdf = pd.read_csv(\"Pokemon Usage/SeptemberData.csv\",index_col=0).rename(columns = {'index':\"name\"})\n",
    "olddf =  pd.read_csv(\"Pokemon Usage/OldData.csv\",index_col=0).rename(columns = {'index':\"name\"})\n",
    "usagedf = recentdf.merge(olddf, how='outer')\n",
    "print(usagedf.shape)\n",
    "usagedf.head()"
   ]
  },
  {
   "cell_type": "markdown",
   "metadata": {},
   "source": [
    "The **Moves** column deceptively looks cleaned in a list format, but upon closer observation, it is actually a *string* representation of a list."
   ]
  },
  {
   "cell_type": "code",
   "execution_count": 49,
   "metadata": {},
   "outputs": [
    {
     "data": {
      "text/plain": [
       "str"
      ]
     },
     "execution_count": 49,
     "metadata": {},
     "output_type": "execute_result"
    }
   ],
   "source": [
    "type(usagedf[\"Moves\"][0])"
   ]
  },
  {
   "cell_type": "markdown",
   "metadata": {},
   "source": [
    "Addressing this, we will convert the string into a list by stripping the list representation and splitting the string by commas. Afterwards, we can proceed with standardizing the moves by its type."
   ]
  },
  {
   "cell_type": "code",
   "execution_count": 50,
   "metadata": {},
   "outputs": [
    {
     "data": {
      "text/html": [
       "<div>\n",
       "<style scoped>\n",
       "    .dataframe tbody tr th:only-of-type {\n",
       "        vertical-align: middle;\n",
       "    }\n",
       "\n",
       "    .dataframe tbody tr th {\n",
       "        vertical-align: top;\n",
       "    }\n",
       "\n",
       "    .dataframe thead th {\n",
       "        text-align: right;\n",
       "    }\n",
       "</style>\n",
       "<table border=\"1\" class=\"dataframe\">\n",
       "  <thead>\n",
       "    <tr style=\"text-align: right;\">\n",
       "      <th></th>\n",
       "      <th>name</th>\n",
       "      <th>Moves</th>\n",
       "      <th>Usage</th>\n",
       "      <th>Gen</th>\n",
       "      <th>Format</th>\n",
       "      <th>Min Rating</th>\n",
       "      <th>Recent</th>\n",
       "      <th>Type 1</th>\n",
       "      <th>Type 2</th>\n",
       "      <th>Type 3</th>\n",
       "      <th>Type 4</th>\n",
       "      <th>Type 5</th>\n",
       "      <th>Type 6</th>\n",
       "    </tr>\n",
       "  </thead>\n",
       "  <tbody>\n",
       "    <tr>\n",
       "      <th>0</th>\n",
       "      <td>Bronzong</td>\n",
       "      <td>['gyroball', 'explosion', 'earthquake', 'steal...</td>\n",
       "      <td>0.124514</td>\n",
       "      <td>4.0</td>\n",
       "      <td>ou</td>\n",
       "      <td>0.0</td>\n",
       "      <td>1</td>\n",
       "      <td>Steel</td>\n",
       "      <td>Normal</td>\n",
       "      <td>Ground</td>\n",
       "      <td>Rock</td>\n",
       "      <td>Psychic</td>\n",
       "      <td>Water</td>\n",
       "    </tr>\n",
       "    <tr>\n",
       "      <th>1</th>\n",
       "      <td>Swampert</td>\n",
       "      <td>['earthquake', 'stealthrock', 'waterfall', 'ic...</td>\n",
       "      <td>0.120051</td>\n",
       "      <td>4.0</td>\n",
       "      <td>ou</td>\n",
       "      <td>0.0</td>\n",
       "      <td>1</td>\n",
       "      <td>Ground</td>\n",
       "      <td>Rock</td>\n",
       "      <td>Water</td>\n",
       "      <td>Ice</td>\n",
       "      <td>Ice</td>\n",
       "      <td>Normal</td>\n",
       "    </tr>\n",
       "    <tr>\n",
       "      <th>2</th>\n",
       "      <td>Snorlax</td>\n",
       "      <td>['bodyslam', 'crunch', 'earthquake', 'curse', ...</td>\n",
       "      <td>0.040116</td>\n",
       "      <td>4.0</td>\n",
       "      <td>ou</td>\n",
       "      <td>0.0</td>\n",
       "      <td>1</td>\n",
       "      <td>Normal</td>\n",
       "      <td>Dark</td>\n",
       "      <td>Ground</td>\n",
       "      <td>Ghost</td>\n",
       "      <td>Psychic</td>\n",
       "      <td>Fire</td>\n",
       "    </tr>\n",
       "    <tr>\n",
       "      <th>3</th>\n",
       "      <td>Uxie</td>\n",
       "      <td>['stealthrock', 'uturn', 'thunderwave', 'psych...</td>\n",
       "      <td>0.023561</td>\n",
       "      <td>4.0</td>\n",
       "      <td>ou</td>\n",
       "      <td>0.0</td>\n",
       "      <td>1</td>\n",
       "      <td>Rock</td>\n",
       "      <td>Bug</td>\n",
       "      <td>Electric</td>\n",
       "      <td>Psychic</td>\n",
       "      <td>Psychic</td>\n",
       "      <td>Psychic</td>\n",
       "    </tr>\n",
       "    <tr>\n",
       "      <th>4</th>\n",
       "      <td>Machamp</td>\n",
       "      <td>['dynamicpunch', 'payback', 'bulletpunch', 'ic...</td>\n",
       "      <td>0.102777</td>\n",
       "      <td>4.0</td>\n",
       "      <td>ou</td>\n",
       "      <td>0.0</td>\n",
       "      <td>1</td>\n",
       "      <td>Fighting</td>\n",
       "      <td>Dark</td>\n",
       "      <td>Steel</td>\n",
       "      <td>Ice</td>\n",
       "      <td>Rock</td>\n",
       "      <td>Normal</td>\n",
       "    </tr>\n",
       "  </tbody>\n",
       "</table>\n",
       "</div>"
      ],
      "text/plain": [
       "       name                                              Moves     Usage  Gen  \\\n",
       "0  Bronzong  ['gyroball', 'explosion', 'earthquake', 'steal...  0.124514  4.0   \n",
       "1  Swampert  ['earthquake', 'stealthrock', 'waterfall', 'ic...  0.120051  4.0   \n",
       "2   Snorlax  ['bodyslam', 'crunch', 'earthquake', 'curse', ...  0.040116  4.0   \n",
       "3      Uxie  ['stealthrock', 'uturn', 'thunderwave', 'psych...  0.023561  4.0   \n",
       "4   Machamp  ['dynamicpunch', 'payback', 'bulletpunch', 'ic...  0.102777  4.0   \n",
       "\n",
       "  Format  Min Rating  Recent    Type 1  Type 2    Type 3   Type 4   Type 5  \\\n",
       "0     ou         0.0       1     Steel  Normal    Ground     Rock  Psychic   \n",
       "1     ou         0.0       1    Ground    Rock     Water      Ice      Ice   \n",
       "2     ou         0.0       1    Normal    Dark    Ground    Ghost  Psychic   \n",
       "3     ou         0.0       1      Rock     Bug  Electric  Psychic  Psychic   \n",
       "4     ou         0.0       1  Fighting    Dark     Steel      Ice     Rock   \n",
       "\n",
       "    Type 6  \n",
       "0    Water  \n",
       "1   Normal  \n",
       "2     Fire  \n",
       "3  Psychic  \n",
       "4   Normal  "
      ]
     },
     "execution_count": 50,
     "metadata": {},
     "output_type": "execute_result"
    }
   ],
   "source": [
    "### Importing Moves DF\n",
    "movesdf = pd.read_csv(\"Pokedex and Moves/moves.csv\", index_col=0).set_index('move')\n",
    "\n",
    "### Standardize the Moves\n",
    "def standardize_moves(df):\n",
    "\n",
    "    ### List Representations of each Column\n",
    "    type1 = []\n",
    "    type2 = []\n",
    "    type3 = []\n",
    "    type4 = []\n",
    "    type5 = []\n",
    "    type6 = []\n",
    "\n",
    "    ### List of Pointers to Column Lists\n",
    "    type_list = [type1, type2, type3, type4, type5, type6]\n",
    "\n",
    "    ### For Each Row\n",
    "    for row in range(len(df[\"Moves\"])):\n",
    "\n",
    "        ### Strip the List Borders and Create a List by Splitting on Commas in the String\n",
    "        moves = df[\"Moves\"][row].strip('][').split(', ')\n",
    "\n",
    "        ### Tracks which Column Each Move Belongs to\n",
    "        list_num = 0\n",
    "\n",
    "        ### For Each Column\n",
    "        for each in range(6):\n",
    "\n",
    "            ### If a Pokemon has less than 6 moves, return nan\n",
    "            if each >= len(moves):\n",
    "                move_type = np.nan\n",
    "                type_list[list_num].append(move_type)\n",
    "                list_num += 1\n",
    "\n",
    "            else:\n",
    "                ### Removes Outer Apostrophes, if any\n",
    "                string = moves[each].strip(\"'\")\n",
    "\n",
    "                ### If a Popular Move is an Empty Slot, return nan\n",
    "                if (string) == \"\":\n",
    "                    move_type = np.nan\n",
    "                    type_list[list_num].append(move_type)\n",
    "                    list_num += 1\n",
    "                else:\n",
    "\n",
    "                    ### Find Move in Move DF containing Type\n",
    "                    move_type = movesdf.loc[string]['type']\n",
    "\n",
    "                    ### Add to Column\n",
    "                    type_list[list_num].append(move_type)\n",
    "\n",
    "                    ### Change Column\n",
    "                    list_num += 1\n",
    "\n",
    "    ### Piecing Everything Together\n",
    "    df[\"Type 1\"] = type_list[0]\n",
    "    df[\"Type 2\"] = type_list[1]\n",
    "    df[\"Type 3\"] = type_list[2]\n",
    "    df[\"Type 4\"] = type_list[3]\n",
    "    df[\"Type 5\"] = type_list[4]\n",
    "    df[\"Type 6\"] = type_list[5]\n",
    "\n",
    "    return df\n",
    "\n",
    "usagemovesdf = standardize_moves(usagedf)\n",
    "usagemovesdf.head()"
   ]
  },
  {
   "cell_type": "markdown",
   "metadata": {},
   "source": [
    "### Showdown Usage with Pokemon Types"
   ]
  },
  {
   "cell_type": "markdown",
   "metadata": {},
   "source": [
    "As opposed to the complexity of joining moves with usage, simply joining the Pokemon Types DF stats on the Showdown Usage on **name** will add two new columns **Type 1** and **Type 2** to the Showdown Usage DF."
   ]
  },
  {
   "cell_type": "code",
   "execution_count": 51,
   "metadata": {},
   "outputs": [
    {
     "data": {
      "text/html": [
       "<div>\n",
       "<style scoped>\n",
       "    .dataframe tbody tr th:only-of-type {\n",
       "        vertical-align: middle;\n",
       "    }\n",
       "\n",
       "    .dataframe tbody tr th {\n",
       "        vertical-align: top;\n",
       "    }\n",
       "\n",
       "    .dataframe thead th {\n",
       "        text-align: right;\n",
       "    }\n",
       "</style>\n",
       "<table border=\"1\" class=\"dataframe\">\n",
       "  <thead>\n",
       "    <tr style=\"text-align: right;\">\n",
       "      <th></th>\n",
       "      <th>name</th>\n",
       "      <th>Moves</th>\n",
       "      <th>Usage</th>\n",
       "      <th>Gen</th>\n",
       "      <th>Format</th>\n",
       "      <th>Min Rating</th>\n",
       "      <th>Recent</th>\n",
       "      <th>Type 1</th>\n",
       "      <th>Type 2</th>\n",
       "    </tr>\n",
       "  </thead>\n",
       "  <tbody>\n",
       "    <tr>\n",
       "      <th>0</th>\n",
       "      <td>Bronzong</td>\n",
       "      <td>['gyroball', 'explosion', 'earthquake', 'steal...</td>\n",
       "      <td>0.124514</td>\n",
       "      <td>4.0</td>\n",
       "      <td>ou</td>\n",
       "      <td>0.0</td>\n",
       "      <td>1</td>\n",
       "      <td>Steel</td>\n",
       "      <td>Psychic</td>\n",
       "    </tr>\n",
       "    <tr>\n",
       "      <th>1</th>\n",
       "      <td>Swampert</td>\n",
       "      <td>['earthquake', 'stealthrock', 'waterfall', 'ic...</td>\n",
       "      <td>0.120051</td>\n",
       "      <td>4.0</td>\n",
       "      <td>ou</td>\n",
       "      <td>0.0</td>\n",
       "      <td>1</td>\n",
       "      <td>Water</td>\n",
       "      <td>Ground</td>\n",
       "    </tr>\n",
       "    <tr>\n",
       "      <th>2</th>\n",
       "      <td>Snorlax</td>\n",
       "      <td>['bodyslam', 'crunch', 'earthquake', 'curse', ...</td>\n",
       "      <td>0.040116</td>\n",
       "      <td>4.0</td>\n",
       "      <td>ou</td>\n",
       "      <td>0.0</td>\n",
       "      <td>1</td>\n",
       "      <td>Normal</td>\n",
       "      <td>NaN</td>\n",
       "    </tr>\n",
       "    <tr>\n",
       "      <th>3</th>\n",
       "      <td>Uxie</td>\n",
       "      <td>['stealthrock', 'uturn', 'thunderwave', 'psych...</td>\n",
       "      <td>0.023561</td>\n",
       "      <td>4.0</td>\n",
       "      <td>ou</td>\n",
       "      <td>0.0</td>\n",
       "      <td>1</td>\n",
       "      <td>Psychic</td>\n",
       "      <td>NaN</td>\n",
       "    </tr>\n",
       "    <tr>\n",
       "      <th>4</th>\n",
       "      <td>Machamp</td>\n",
       "      <td>['dynamicpunch', 'payback', 'bulletpunch', 'ic...</td>\n",
       "      <td>0.102777</td>\n",
       "      <td>4.0</td>\n",
       "      <td>ou</td>\n",
       "      <td>0.0</td>\n",
       "      <td>1</td>\n",
       "      <td>Fighting</td>\n",
       "      <td>NaN</td>\n",
       "    </tr>\n",
       "    <tr>\n",
       "      <th>...</th>\n",
       "      <td>...</td>\n",
       "      <td>...</td>\n",
       "      <td>...</td>\n",
       "      <td>...</td>\n",
       "      <td>...</td>\n",
       "      <td>...</td>\n",
       "      <td>...</td>\n",
       "      <td>...</td>\n",
       "      <td>...</td>\n",
       "    </tr>\n",
       "    <tr>\n",
       "      <th>5911</th>\n",
       "      <td>Charizard</td>\n",
       "      <td>['solarbeam', 'fireblast', 'hurricane', 'airsl...</td>\n",
       "      <td>0.030482</td>\n",
       "      <td>8.0</td>\n",
       "      <td>ubers</td>\n",
       "      <td>0.0</td>\n",
       "      <td>0</td>\n",
       "      <td>Fire</td>\n",
       "      <td>Flying</td>\n",
       "    </tr>\n",
       "    <tr>\n",
       "      <th>5912</th>\n",
       "      <td>Shuckle</td>\n",
       "      <td>['stickyweb', 'stealthrock', 'encore', 'finalg...</td>\n",
       "      <td>0.045773</td>\n",
       "      <td>8.0</td>\n",
       "      <td>ubers</td>\n",
       "      <td>0.0</td>\n",
       "      <td>0</td>\n",
       "      <td>Bug</td>\n",
       "      <td>Rock</td>\n",
       "    </tr>\n",
       "    <tr>\n",
       "      <th>5913</th>\n",
       "      <td>Hatterene</td>\n",
       "      <td>['mysticalfire', 'psychic', 'dazzlinggleam', '...</td>\n",
       "      <td>0.026064</td>\n",
       "      <td>8.0</td>\n",
       "      <td>ubers</td>\n",
       "      <td>0.0</td>\n",
       "      <td>0</td>\n",
       "      <td>Psychic</td>\n",
       "      <td>Fairy</td>\n",
       "    </tr>\n",
       "    <tr>\n",
       "      <th>5914</th>\n",
       "      <td>Zacian-Crowned</td>\n",
       "      <td>['behemothblade', 'playrough', 'swordsdance', ...</td>\n",
       "      <td>0.921806</td>\n",
       "      <td>8.0</td>\n",
       "      <td>ubers</td>\n",
       "      <td>0.0</td>\n",
       "      <td>0</td>\n",
       "      <td>Fairy</td>\n",
       "      <td>Steel</td>\n",
       "    </tr>\n",
       "    <tr>\n",
       "      <th>5915</th>\n",
       "      <td>Hydreigon</td>\n",
       "      <td>['dracometeor', 'nastyplot', 'flamethrower', '...</td>\n",
       "      <td>0.033010</td>\n",
       "      <td>8.0</td>\n",
       "      <td>ubers</td>\n",
       "      <td>0.0</td>\n",
       "      <td>0</td>\n",
       "      <td>Dark</td>\n",
       "      <td>Dragon</td>\n",
       "    </tr>\n",
       "  </tbody>\n",
       "</table>\n",
       "<p>5916 rows × 9 columns</p>\n",
       "</div>"
      ],
      "text/plain": [
       "                name                                              Moves  \\\n",
       "0           Bronzong  ['gyroball', 'explosion', 'earthquake', 'steal...   \n",
       "1           Swampert  ['earthquake', 'stealthrock', 'waterfall', 'ic...   \n",
       "2            Snorlax  ['bodyslam', 'crunch', 'earthquake', 'curse', ...   \n",
       "3               Uxie  ['stealthrock', 'uturn', 'thunderwave', 'psych...   \n",
       "4            Machamp  ['dynamicpunch', 'payback', 'bulletpunch', 'ic...   \n",
       "...              ...                                                ...   \n",
       "5911       Charizard  ['solarbeam', 'fireblast', 'hurricane', 'airsl...   \n",
       "5912         Shuckle  ['stickyweb', 'stealthrock', 'encore', 'finalg...   \n",
       "5913       Hatterene  ['mysticalfire', 'psychic', 'dazzlinggleam', '...   \n",
       "5914  Zacian-Crowned  ['behemothblade', 'playrough', 'swordsdance', ...   \n",
       "5915       Hydreigon  ['dracometeor', 'nastyplot', 'flamethrower', '...   \n",
       "\n",
       "         Usage  Gen Format  Min Rating  Recent    Type 1   Type 2  \n",
       "0     0.124514  4.0     ou         0.0       1     Steel  Psychic  \n",
       "1     0.120051  4.0     ou         0.0       1     Water   Ground  \n",
       "2     0.040116  4.0     ou         0.0       1    Normal      NaN  \n",
       "3     0.023561  4.0     ou         0.0       1   Psychic      NaN  \n",
       "4     0.102777  4.0     ou         0.0       1  Fighting      NaN  \n",
       "...        ...  ...    ...         ...     ...       ...      ...  \n",
       "5911  0.030482  8.0  ubers         0.0       0      Fire   Flying  \n",
       "5912  0.045773  8.0  ubers         0.0       0       Bug     Rock  \n",
       "5913  0.026064  8.0  ubers         0.0       0   Psychic    Fairy  \n",
       "5914  0.921806  8.0  ubers         0.0       0     Fairy    Steel  \n",
       "5915  0.033010  8.0  ubers         0.0       0      Dark   Dragon  \n",
       "\n",
       "[5916 rows x 9 columns]"
      ]
     },
     "execution_count": 51,
     "metadata": {},
     "output_type": "execute_result"
    }
   ],
   "source": [
    "### Import Usage Data\n",
    "usagedf = recentdf.merge(olddf, how='outer')\n",
    "\n",
    "### Import Pokemon Types Data\n",
    "pokedexdf = pd.read_csv(\"Pokedex and Moves/pokemon.csv\", index_col=0).set_index('name')[['types','type2']]\n",
    "\n",
    "### Left Join Usage DF with Pokemon Types DF on \"name\" while renaming the additional columns\n",
    "usagetypesdf = usagedf.join(pokedexdf, on=\"name\").rename(columns={'types': \"Type 1\", \"type2\": \"Type 2\"})\n",
    "usagetypesdf"
   ]
  },
  {
   "cell_type": "markdown",
   "metadata": {},
   "source": [
    "# Exploratory Data Analysis"
   ]
  },
  {
   "cell_type": "markdown",
   "metadata": {},
   "source": [
    "Before modeling our data, we want to extract the necessary labeled variables that we are analyzing into a quantitative variable, specifically the move types. We \"standardize\" these categoricals by counting how many moves within a Pokemon's Top 6 Moves are super effective against either Fairy or Dragon types and assign them to two new columns: **SE Dragon** and **SE Fairy**."
   ]
  },
  {
   "cell_type": "code",
   "execution_count": 52,
   "metadata": {},
   "outputs": [
    {
     "data": {
      "text/html": [
       "<div>\n",
       "<style scoped>\n",
       "    .dataframe tbody tr th:only-of-type {\n",
       "        vertical-align: middle;\n",
       "    }\n",
       "\n",
       "    .dataframe tbody tr th {\n",
       "        vertical-align: top;\n",
       "    }\n",
       "\n",
       "    .dataframe thead th {\n",
       "        text-align: right;\n",
       "    }\n",
       "</style>\n",
       "<table border=\"1\" class=\"dataframe\">\n",
       "  <thead>\n",
       "    <tr style=\"text-align: right;\">\n",
       "      <th></th>\n",
       "      <th>name</th>\n",
       "      <th>Moves</th>\n",
       "      <th>Usage</th>\n",
       "      <th>Gen</th>\n",
       "      <th>Format</th>\n",
       "      <th>Min Rating</th>\n",
       "      <th>Recent</th>\n",
       "      <th>Type 1</th>\n",
       "      <th>Type 2</th>\n",
       "      <th>Type 3</th>\n",
       "      <th>Type 4</th>\n",
       "      <th>Type 5</th>\n",
       "      <th>Type 6</th>\n",
       "      <th>SE Dragon</th>\n",
       "      <th>SE Fairy</th>\n",
       "    </tr>\n",
       "  </thead>\n",
       "  <tbody>\n",
       "    <tr>\n",
       "      <th>0</th>\n",
       "      <td>Bronzong</td>\n",
       "      <td>['gyroball', 'explosion', 'earthquake', 'steal...</td>\n",
       "      <td>0.124514</td>\n",
       "      <td>4.0</td>\n",
       "      <td>ou</td>\n",
       "      <td>0.0</td>\n",
       "      <td>1</td>\n",
       "      <td>Steel</td>\n",
       "      <td>Normal</td>\n",
       "      <td>Ground</td>\n",
       "      <td>Rock</td>\n",
       "      <td>Psychic</td>\n",
       "      <td>Water</td>\n",
       "      <td>0</td>\n",
       "      <td>1</td>\n",
       "    </tr>\n",
       "    <tr>\n",
       "      <th>1</th>\n",
       "      <td>Swampert</td>\n",
       "      <td>['earthquake', 'stealthrock', 'waterfall', 'ic...</td>\n",
       "      <td>0.120051</td>\n",
       "      <td>4.0</td>\n",
       "      <td>ou</td>\n",
       "      <td>0.0</td>\n",
       "      <td>1</td>\n",
       "      <td>Ground</td>\n",
       "      <td>Rock</td>\n",
       "      <td>Water</td>\n",
       "      <td>Ice</td>\n",
       "      <td>Ice</td>\n",
       "      <td>Normal</td>\n",
       "      <td>2</td>\n",
       "      <td>0</td>\n",
       "    </tr>\n",
       "    <tr>\n",
       "      <th>2</th>\n",
       "      <td>Snorlax</td>\n",
       "      <td>['bodyslam', 'crunch', 'earthquake', 'curse', ...</td>\n",
       "      <td>0.040116</td>\n",
       "      <td>4.0</td>\n",
       "      <td>ou</td>\n",
       "      <td>0.0</td>\n",
       "      <td>1</td>\n",
       "      <td>Normal</td>\n",
       "      <td>Dark</td>\n",
       "      <td>Ground</td>\n",
       "      <td>Ghost</td>\n",
       "      <td>Psychic</td>\n",
       "      <td>Fire</td>\n",
       "      <td>0</td>\n",
       "      <td>0</td>\n",
       "    </tr>\n",
       "    <tr>\n",
       "      <th>3</th>\n",
       "      <td>Uxie</td>\n",
       "      <td>['stealthrock', 'uturn', 'thunderwave', 'psych...</td>\n",
       "      <td>0.023561</td>\n",
       "      <td>4.0</td>\n",
       "      <td>ou</td>\n",
       "      <td>0.0</td>\n",
       "      <td>1</td>\n",
       "      <td>Rock</td>\n",
       "      <td>Bug</td>\n",
       "      <td>Electric</td>\n",
       "      <td>Psychic</td>\n",
       "      <td>Psychic</td>\n",
       "      <td>Psychic</td>\n",
       "      <td>0</td>\n",
       "      <td>0</td>\n",
       "    </tr>\n",
       "    <tr>\n",
       "      <th>4</th>\n",
       "      <td>Machamp</td>\n",
       "      <td>['dynamicpunch', 'payback', 'bulletpunch', 'ic...</td>\n",
       "      <td>0.102777</td>\n",
       "      <td>4.0</td>\n",
       "      <td>ou</td>\n",
       "      <td>0.0</td>\n",
       "      <td>1</td>\n",
       "      <td>Fighting</td>\n",
       "      <td>Dark</td>\n",
       "      <td>Steel</td>\n",
       "      <td>Ice</td>\n",
       "      <td>Rock</td>\n",
       "      <td>Normal</td>\n",
       "      <td>1</td>\n",
       "      <td>1</td>\n",
       "    </tr>\n",
       "  </tbody>\n",
       "</table>\n",
       "</div>"
      ],
      "text/plain": [
       "       name                                              Moves     Usage  Gen  \\\n",
       "0  Bronzong  ['gyroball', 'explosion', 'earthquake', 'steal...  0.124514  4.0   \n",
       "1  Swampert  ['earthquake', 'stealthrock', 'waterfall', 'ic...  0.120051  4.0   \n",
       "2   Snorlax  ['bodyslam', 'crunch', 'earthquake', 'curse', ...  0.040116  4.0   \n",
       "3      Uxie  ['stealthrock', 'uturn', 'thunderwave', 'psych...  0.023561  4.0   \n",
       "4   Machamp  ['dynamicpunch', 'payback', 'bulletpunch', 'ic...  0.102777  4.0   \n",
       "\n",
       "  Format  Min Rating  Recent    Type 1  Type 2    Type 3   Type 4   Type 5  \\\n",
       "0     ou         0.0       1     Steel  Normal    Ground     Rock  Psychic   \n",
       "1     ou         0.0       1    Ground    Rock     Water      Ice      Ice   \n",
       "2     ou         0.0       1    Normal    Dark    Ground    Ghost  Psychic   \n",
       "3     ou         0.0       1      Rock     Bug  Electric  Psychic  Psychic   \n",
       "4     ou         0.0       1  Fighting    Dark     Steel      Ice     Rock   \n",
       "\n",
       "    Type 6  SE Dragon  SE Fairy  \n",
       "0    Water          0         1  \n",
       "1   Normal          2         0  \n",
       "2     Fire          0         0  \n",
       "3  Psychic          0         0  \n",
       "4   Normal          1         1  "
      ]
     },
     "execution_count": 52,
     "metadata": {},
     "output_type": "execute_result"
    }
   ],
   "source": [
    "### Finds all Super Effective Moves in the column\n",
    "def SE_moves(move_type, df, col, binary=False):\n",
    "\n",
    "    ### Checks if Moves are supereffecctive against Dragon\n",
    "    if move_type == \"Dragon\":\n",
    "        SE_moves = [\"Ice\",\"Dragon\"]\n",
    "    \n",
    "    ### Checks if Moves are supereffective against Fairy\n",
    "    else:\n",
    "        SE_moves = [\"Steel\",\"Poison\"]\n",
    "\n",
    "    ### Creates New Variable\n",
    "    is_SE = None\n",
    "\n",
    "    ### For each Super Effective Move\n",
    "    for each in SE_moves:\n",
    "\n",
    "        ### First Iteration\n",
    "        if is_SE is None:\n",
    "            \n",
    "            ### Finds Supereffective Moves and marks them as 1\n",
    "            is_SE = (df[col] == each)*1\n",
    "        else:\n",
    "            ### Keeps count of Supereffective Moves\n",
    "            is_SE += (df[col] == each)*1\n",
    "    \n",
    "    ### Returns Column with Count of Supereffective Moves per Pokemon\n",
    "    return is_SE\n",
    "\n",
    "### Function that checks through all columns and types\n",
    "def find_all_SE(df, binary = False):\n",
    "    types = [\"Dragon\", \"Fairy\"]\n",
    "    col = [\"Type 1\", \"Type 2\", \"Type 3\", \"Type 4\", \"Type 5\", \"Type 6\"]\n",
    "    SE_col = [\"SE Dragon\", \"SE Fairy\"]\n",
    "\n",
    "    for each in types:\n",
    "\n",
    "        all_SE = None\n",
    "\n",
    "        for col_name in col:\n",
    "\n",
    "            if all_SE is None:\n",
    "                all_SE = SE_moves(each, df, col_name)\n",
    "            else:\n",
    "                all_SE += SE_moves(each, df, col_name)\n",
    "\n",
    "        ### Changes to binary results, if specified\n",
    "        if binary:\n",
    "            all_SE = (all_SE > 0) * 1\n",
    "        df[SE_col[0]] = all_SE\n",
    "        SE_col = SE_col[1:]\n",
    "    \n",
    "    return df\n",
    "\n",
    "usagemovesdf = find_all_SE(usagemovesdf)\n",
    "usagemovesdf.head()"
   ]
  },
  {
   "cell_type": "code",
   "execution_count": 53,
   "metadata": {},
   "outputs": [],
   "source": [
    "#takes the combined df of types of pokemon + their usages and splits them into usage of Dragon type and non Dragon type Pokemon\n",
    "\n",
    "def find_type(generation, format, type):\n",
    "    #makes new df that only has Pokemon of wanted generation + format\n",
    "    df = usagetypesdf[(usagetypesdf[\"Gen\"] == generation) & (usagetypesdf[\"Format\"] == format)]\n",
    "\n",
    "    #new df that only has wanted type\n",
    "    types = df.loc[((df['Type 1']==type) | (df['Type 2']==type)), :]\n",
    "    \n",
    "    #finds usage of the type\n",
    "    typesusage = types['Usage'].sum()\n",
    "\n",
    "    #new df that has any pokemon that's not the wanted type\n",
    "    nottype = df.loc[((df['Type 1']!=type) & (df['Type 2']!=type)), :]\n",
    "\n",
    "    #finds usage of not type\n",
    "    nottypeusage = nottype['Usage'].sum()\n",
    "    \n",
    "    #new array with usages to be returned\n",
    "    usagedf = [typesusage, nottypeusage]\n",
    "\n",
    "    return usagedf"
   ]
  },
  {
   "cell_type": "markdown",
   "metadata": {},
   "source": [
    "First, let us see how the usage of Dragon type pokemon was affected by the addition of Fairy type pokemon. We can also at how often Fairy type pokemon were used in each format to see how popular they were."
   ]
  },
  {
   "cell_type": "code",
   "execution_count": 54,
   "metadata": {},
   "outputs": [],
   "source": [
    "#finds the usage of dragon/fairy type in ubers format in each generation\n",
    "\n",
    "dgen4ubers = find_type (4, \"ubers\", \"Dragon\")\n",
    "dgen5ubers = find_type (5, \"ubers\", \"Dragon\")\n",
    "dgen6ubers = find_type (6, \"ubers\", \"Dragon\")\n",
    "dgen7ubers = find_type (7, \"ubers\", \"Dragon\")\n",
    "dgen8ubers = find_type (8, \"ubers\", \"Dragon\")\n",
    "\n",
    "fgen6ubers = find_type (6, \"ubers\", \"Fairy\")\n",
    "fgen7ubers = find_type (7, \"ubers\", \"Fairy\")\n",
    "fgen8ubers = find_type (8, \"ubers\", \"Fairy\")"
   ]
  },
  {
   "cell_type": "code",
   "execution_count": 55,
   "metadata": {},
   "outputs": [],
   "source": [
    "#finds the usage of dragon/fairy type in ou format in each generation\n",
    "\n",
    "dgen4ou = find_type (4, \"ou\", \"Dragon\")\n",
    "dgen5ou = find_type (5, \"ou\", \"Dragon\")\n",
    "dgen6ou = find_type (6, \"ou\", \"Dragon\")\n",
    "dgen7ou = find_type (7, \"ou\", \"Dragon\")\n",
    "dgen8ou = find_type (8, \"ou\", \"Dragon\")\n",
    "\n",
    "fgen6ou = find_type (6, \"ou\", \"Fairy\")\n",
    "fgen7ou = find_type (7, \"ou\", \"Fairy\")\n",
    "fgen8ou = find_type (8, \"ou\", \"Fairy\")"
   ]
  },
  {
   "cell_type": "code",
   "execution_count": 56,
   "metadata": {},
   "outputs": [
    {
     "data": {
      "image/png": "[encoded data removed]",
      "text/plain": [
       "<Figure size 432x288 with 1 Axes>"
      ]
     },
     "metadata": {
      "needs_background": "light"
     },
     "output_type": "display_data"
    }
   ],
   "source": [
    "#Using the values above, we made a dataframe with the usage % of dragon types and non-dragon types across generations in Ubers format.\n",
    "ubdragondf2= pd.DataFrame(\n",
    "    {\n",
    "        \"Generation\" : ['Gen 4', 'Gen 4', 'Gen 5', 'Gen 5', 'Gen 6', 'Gen 6','Gen 7', 'Gen 7','Gen 8', 'Gen 8'],\n",
    "        \"Type\": ['Dragon', 'Not Dragon', 'Dragon', 'Not Dragon','Dragon', 'Not Dragon','Dragon', 'Not Dragon', 'Dragon', 'Not Dragon'],\n",
    "        \"Usage %\": [dgen4ubers[0], dgen4ubers[1], dgen5ubers[0], dgen5ubers[1], dgen6ubers[0], dgen6ubers[1], dgen7ubers[0], dgen7ubers[1], dgen8ubers[0], dgen8ubers[1]],\n",
    "    },\n",
    ")\n",
    "# We then used this dataframe to create a barplot comparing dragon and not dragon usage in Ubers format.\n",
    "sns.barplot(x=\"Generation\", \n",
    "            y=\"Usage %\", \n",
    "            hue=\"Type\", \n",
    "            data=ubdragondf2,\n",
    "            palette='viridis'\n",
    "           ).set_title(\"Ubers Format\");\n"
   ]
  },
  {
   "cell_type": "markdown",
   "metadata": {},
   "source": [
    "In Ubers format, the % of dragon type usage shows a gradual decline until the increase of usage in Generation 8. Meanwhile, the usage % of non-dragon types declines a bit in Generation 5 but spikes up in Generations 7 and 8."
   ]
  },
  {
   "cell_type": "code",
   "execution_count": 57,
   "metadata": {},
   "outputs": [
    {
     "data": {
      "image/png": "[encoded data removed]",
      "text/plain": [
       "<Figure size 432x288 with 1 Axes>"
      ]
     },
     "metadata": {
      "needs_background": "light"
     },
     "output_type": "display_data"
    }
   ],
   "source": [
    "#Similarly, we created a dataframe containing the usage % of dragon types and not dragon types across generations in OU format. \n",
    "oudragondf2= pd.DataFrame(\n",
    "    {\n",
    "        \"Generation\" : ['Gen 4', 'Gen 4', 'Gen 5', 'Gen 5', 'Gen 6', 'Gen 6','Gen 7', 'Gen 7','Gen 8', 'Gen 8'],\n",
    "        \"Type\": ['Dragon', 'Not Dragon', 'Dragon', 'Not Dragon','Dragon', 'Not Dragon','Dragon', 'Not Dragon', 'Dragon', 'Not Dragon'],\n",
    "        \"Usage %\": [dgen4ou[0], dgen4ou[1], dgen5ou[0], dgen5ou[1], dgen6ou[0], dgen6ou[1], dgen7ou[0], dgen7ou[1], dgen8ou[0], dgen8ou[1]],\n",
    "    },\n",
    ")\n",
    "#We used this dataframe to create a barplot comparing dragon and not dragon usage in OU format.\n",
    "sns.barplot(x=\"Generation\", \n",
    "            y=\"Usage %\", \n",
    "            hue=\"Type\", \n",
    "            data=oudragondf2,\n",
    "            palette='viridis'\n",
    "           ).set_title(\"OU Format\");\n"
   ]
  },
  {
   "cell_type": "markdown",
   "metadata": {},
   "source": [
    "In the OU format, the % of not Dragon types decreases until Generation 7, where it goes to its highest and stays at that level in Generation 8. On the other hand, the % of Dragon types fluctuates, decreasing from 6 -> 7, then back up again in Generation 8."
   ]
  },
  {
   "cell_type": "code",
   "execution_count": 58,
   "metadata": {
    "scrolled": true
   },
   "outputs": [
    {
     "data": {
      "image/png": "[encoded data removed]",
      "text/plain": [
       "<Figure size 432x288 with 1 Axes>"
      ]
     },
     "metadata": {
      "needs_background": "light"
     },
     "output_type": "display_data"
    }
   ],
   "source": [
    "#We created a dataframe containing the usage % of fairy types and not fairy types across generations in Ubers format.\n",
    "ubFairydf2= pd.DataFrame(\n",
    "    {\n",
    "        \"Generation\" : ['Gen 6', 'Gen 6','Gen 7', 'Gen 7','Gen 8', 'Gen 8'],\n",
    "        \"Type\": ['Fairy', 'Not Fairy', 'Fairy', 'Not Fairy','Fairy', 'Not Fairy'],\n",
    "        \"Usage %\": [fgen6ubers[0], fgen6ubers[1], fgen7ubers[0], fgen7ubers[1], fgen8ubers[0], fgen8ubers[1]],\n",
    "    },\n",
    ")\n",
    "#We used the dataframe above to create a barplot that compares fairy and not fairy usage in Ubers format\n",
    "sns.barplot(x=\"Generation\", \n",
    "            y=\"Usage %\", \n",
    "            hue=\"Type\", \n",
    "            data=ubFairydf2,\n",
    "            palette='rocket'\n",
    "           ).set_title(\"Ubers Format\");"
   ]
  },
  {
   "cell_type": "markdown",
   "metadata": {},
   "source": [
    "In the Ubers format, the % of not Fairy types goes up from generation 6 to 7, then stays the same between 7 and 8. The % of Fairy types goes up very slightly, although that could be noise."
   ]
  },
  {
   "cell_type": "code",
   "execution_count": 59,
   "metadata": {},
   "outputs": [
    {
     "data": {
      "image/png": "[encoded data removed]",
      "text/plain": [
       "<Figure size 432x288 with 1 Axes>"
      ]
     },
     "metadata": {
      "needs_background": "light"
     },
     "output_type": "display_data"
    }
   ],
   "source": [
    "#We also created a dataframe containing the usage % of fairy types and not fairy types across generations in OU format.\n",
    "ouFairydf2= pd.DataFrame(\n",
    "    {\n",
    "        \"Generation\" : ['Gen 6', 'Gen 6','Gen 7', 'Gen 7','Gen 8', 'Gen 8'],\n",
    "        \"Type\": ['Fairy', 'Not Fairy', 'Fairy', 'Not Fairy','Fairy', 'Not Fairy'],\n",
    "        \"Usage %\": [fgen6ou[0], fgen6ou[1], fgen7ou[0], fgen7ou[1], fgen8ou[0], fgen8ou[1]],\n",
    "    },\n",
    ")\n",
    "#This dataframe was used to create a barplot comparing fairy and not fairy usage in OU format.\n",
    "sns.barplot(x=\"Generation\", \n",
    "            y=\"Usage %\", \n",
    "            hue=\"Type\", \n",
    "            data=ouFairydf2,\n",
    "            palette='rocket'\n",
    "           ).set_title(\"OU Format\");"
   ]
  },
  {
   "cell_type": "markdown",
   "metadata": {},
   "source": [
    "In each generation in the OU format, the % of not Fairy types goes up, while Fairy type increases in Generation 7 and declines a bit in Generation 8."
   ]
  },
  {
   "cell_type": "code",
   "execution_count": 60,
   "metadata": {},
   "outputs": [
    {
     "data": {
      "image/png": "[encoded data removed]",
      "text/plain": [
       "<Figure size 432x288 with 1 Axes>"
      ]
     },
     "metadata": {
      "needs_background": "light"
     },
     "output_type": "display_data"
    }
   ],
   "source": [
    "#Here we have made a new dataframe that contains the usage % of dragon types and fairy types across generations in Ubers format.\n",
    "ubdragonfairydf= pd.DataFrame(\n",
    "    {\n",
    "        \"Generation\" : ['Gen 4', 'Gen 4', 'Gen 5', 'Gen 5', 'Gen 6', 'Gen 6','Gen 7', 'Gen 7','Gen 8', 'Gen 8'],\n",
    "        \"Type\": ['Dragon', 'Fairy', 'Dragon', 'Fairy','Dragon', 'Fairy','Dragon', 'Fairy', 'Dragon', 'Fairy'],\n",
    "        \"Usage %\": [dgen4ubers[0], 0, dgen5ubers[0], 0, dgen6ubers[0], fgen6ubers[0], dgen7ubers[0], fgen7ubers[0], dgen8ubers[0], fgen8ubers[0]],\n",
    "    },\n",
    ")\n",
    "#Using this dataframe, we created a barplot comparing dragon and fairy usage in Ubers format.\n",
    "sns.barplot(x=\"Generation\", \n",
    "            y=\"Usage %\", \n",
    "            hue=\"Type\", \n",
    "            data=ubdragonfairydf,\n",
    "            palette='muted'\n",
    "           ).set_title(\"Ubers Format\");"
   ]
  },
  {
   "cell_type": "markdown",
   "metadata": {},
   "source": [
    "The number of Dragon type Pokemon fluctuates between each generation, although for each generation that Fairy type is in, usage seems to go up. In Generation 6 and 8, there are more Dragon than fairy types, although the reverse is true for Generation 7."
   ]
  },
  {
   "cell_type": "code",
   "execution_count": 61,
   "metadata": {},
   "outputs": [
    {
     "data": {
      "image/png": "[encoded data removed]",
      "text/plain": [
       "<Figure size 432x288 with 1 Axes>"
      ]
     },
     "metadata": {
      "needs_background": "light"
     },
     "output_type": "display_data"
    }
   ],
   "source": [
    "#We also created a new dataframe that contains the usage % of dragon types and fairy types across generations in ou format.\n",
    "oudragonfairydf= pd.DataFrame(\n",
    "    {\n",
    "        \"Generation\" : ['Gen 4', 'Gen 4', 'Gen 5', 'Gen 5', 'Gen 6', 'Gen 6','Gen 7', 'Gen 7','Gen 8', 'Gen 8'],\n",
    "        \"Type\": ['Dragon', 'Fairy', 'Dragon', 'Fairy','Dragon', 'Fairy','Dragon', 'Fairy', 'Dragon', 'Fairy'],\n",
    "        \"Usage %\": [dgen4ou[0], 0, dgen5ou[0], 0, dgen6ou[0], fgen6ou[0], dgen7ou[0], fgen7ou[0], dgen8ou[0], fgen8ou[0]],\n",
    "    },\n",
    ")\n",
    "# We used this dataframe to create a barplot that compares dragon and fairy usage in OU format.\n",
    "sns.barplot(x=\"Generation\", \n",
    "            y=\"Usage %\", \n",
    "            hue=\"Type\", \n",
    "            data=oudragonfairydf,\n",
    "            palette='muted'\n",
    "           ).set_title(\"OU Format\");"
   ]
  },
  {
   "cell_type": "markdown",
   "metadata": {},
   "source": [
    "In OU format, both Dragon and Fairy type usage seem to fluctuate. The usage % of dragon types decreases in Generation 6, when Fairy types are introduced, and it continues to decline in Generation 7 as Fairy type usage increases significantly. Generation 8 sees an increase in Dragon type usage while Fairy type usage decreases."
   ]
  },
  {
   "cell_type": "markdown",
   "metadata": {},
   "source": [
    "Now, le'ts look at how the movepools of Pokemon changed to reflect the addition of Fairy type Pokemon in generation 6."
   ]
  },
  {
   "cell_type": "code",
   "execution_count": 62,
   "metadata": {},
   "outputs": [
    {
     "data": {
      "text/html": [
       "<div>\n",
       "<style scoped>\n",
       "    .dataframe tbody tr th:only-of-type {\n",
       "        vertical-align: middle;\n",
       "    }\n",
       "\n",
       "    .dataframe tbody tr th {\n",
       "        vertical-align: top;\n",
       "    }\n",
       "\n",
       "    .dataframe thead th {\n",
       "        text-align: right;\n",
       "    }\n",
       "</style>\n",
       "<table border=\"1\" class=\"dataframe\">\n",
       "  <thead>\n",
       "    <tr style=\"text-align: right;\">\n",
       "      <th></th>\n",
       "      <th>name</th>\n",
       "      <th>Moves</th>\n",
       "      <th>Usage</th>\n",
       "      <th>Gen</th>\n",
       "      <th>Format</th>\n",
       "      <th>Min Rating</th>\n",
       "      <th>Recent</th>\n",
       "      <th>Type 1</th>\n",
       "      <th>Type 2</th>\n",
       "      <th>Type 3</th>\n",
       "      <th>Type 4</th>\n",
       "      <th>Type 5</th>\n",
       "      <th>Type 6</th>\n",
       "      <th>SE Dragon</th>\n",
       "      <th>SE Fairy</th>\n",
       "    </tr>\n",
       "  </thead>\n",
       "  <tbody>\n",
       "    <tr>\n",
       "      <th>0</th>\n",
       "      <td>Bronzong</td>\n",
       "      <td>['gyroball', 'explosion', 'earthquake', 'steal...</td>\n",
       "      <td>0.124514</td>\n",
       "      <td>4.0</td>\n",
       "      <td>ou</td>\n",
       "      <td>0.0</td>\n",
       "      <td>1</td>\n",
       "      <td>Steel</td>\n",
       "      <td>Normal</td>\n",
       "      <td>Ground</td>\n",
       "      <td>Rock</td>\n",
       "      <td>Psychic</td>\n",
       "      <td>Water</td>\n",
       "      <td>0</td>\n",
       "      <td>1</td>\n",
       "    </tr>\n",
       "    <tr>\n",
       "      <th>1</th>\n",
       "      <td>Swampert</td>\n",
       "      <td>['earthquake', 'stealthrock', 'waterfall', 'ic...</td>\n",
       "      <td>0.120051</td>\n",
       "      <td>4.0</td>\n",
       "      <td>ou</td>\n",
       "      <td>0.0</td>\n",
       "      <td>1</td>\n",
       "      <td>Ground</td>\n",
       "      <td>Rock</td>\n",
       "      <td>Water</td>\n",
       "      <td>Ice</td>\n",
       "      <td>Ice</td>\n",
       "      <td>Normal</td>\n",
       "      <td>2</td>\n",
       "      <td>0</td>\n",
       "    </tr>\n",
       "    <tr>\n",
       "      <th>2</th>\n",
       "      <td>Snorlax</td>\n",
       "      <td>['bodyslam', 'crunch', 'earthquake', 'curse', ...</td>\n",
       "      <td>0.040116</td>\n",
       "      <td>4.0</td>\n",
       "      <td>ou</td>\n",
       "      <td>0.0</td>\n",
       "      <td>1</td>\n",
       "      <td>Normal</td>\n",
       "      <td>Dark</td>\n",
       "      <td>Ground</td>\n",
       "      <td>Ghost</td>\n",
       "      <td>Psychic</td>\n",
       "      <td>Fire</td>\n",
       "      <td>0</td>\n",
       "      <td>0</td>\n",
       "    </tr>\n",
       "    <tr>\n",
       "      <th>3</th>\n",
       "      <td>Uxie</td>\n",
       "      <td>['stealthrock', 'uturn', 'thunderwave', 'psych...</td>\n",
       "      <td>0.023561</td>\n",
       "      <td>4.0</td>\n",
       "      <td>ou</td>\n",
       "      <td>0.0</td>\n",
       "      <td>1</td>\n",
       "      <td>Rock</td>\n",
       "      <td>Bug</td>\n",
       "      <td>Electric</td>\n",
       "      <td>Psychic</td>\n",
       "      <td>Psychic</td>\n",
       "      <td>Psychic</td>\n",
       "      <td>0</td>\n",
       "      <td>0</td>\n",
       "    </tr>\n",
       "    <tr>\n",
       "      <th>4</th>\n",
       "      <td>Machamp</td>\n",
       "      <td>['dynamicpunch', 'payback', 'bulletpunch', 'ic...</td>\n",
       "      <td>0.102777</td>\n",
       "      <td>4.0</td>\n",
       "      <td>ou</td>\n",
       "      <td>0.0</td>\n",
       "      <td>1</td>\n",
       "      <td>Fighting</td>\n",
       "      <td>Dark</td>\n",
       "      <td>Steel</td>\n",
       "      <td>Ice</td>\n",
       "      <td>Rock</td>\n",
       "      <td>Normal</td>\n",
       "      <td>1</td>\n",
       "      <td>1</td>\n",
       "    </tr>\n",
       "  </tbody>\n",
       "</table>\n",
       "</div>"
      ],
      "text/plain": [
       "       name                                              Moves     Usage  Gen  \\\n",
       "0  Bronzong  ['gyroball', 'explosion', 'earthquake', 'steal...  0.124514  4.0   \n",
       "1  Swampert  ['earthquake', 'stealthrock', 'waterfall', 'ic...  0.120051  4.0   \n",
       "2   Snorlax  ['bodyslam', 'crunch', 'earthquake', 'curse', ...  0.040116  4.0   \n",
       "3      Uxie  ['stealthrock', 'uturn', 'thunderwave', 'psych...  0.023561  4.0   \n",
       "4   Machamp  ['dynamicpunch', 'payback', 'bulletpunch', 'ic...  0.102777  4.0   \n",
       "\n",
       "  Format  Min Rating  Recent    Type 1  Type 2    Type 3   Type 4   Type 5  \\\n",
       "0     ou         0.0       1     Steel  Normal    Ground     Rock  Psychic   \n",
       "1     ou         0.0       1    Ground    Rock     Water      Ice      Ice   \n",
       "2     ou         0.0       1    Normal    Dark    Ground    Ghost  Psychic   \n",
       "3     ou         0.0       1      Rock     Bug  Electric  Psychic  Psychic   \n",
       "4     ou         0.0       1  Fighting    Dark     Steel      Ice     Rock   \n",
       "\n",
       "    Type 6  SE Dragon  SE Fairy  \n",
       "0    Water          0         1  \n",
       "1   Normal          2         0  \n",
       "2     Fire          0         0  \n",
       "3  Psychic          0         0  \n",
       "4   Normal          1         1  "
      ]
     },
     "execution_count": 62,
     "metadata": {},
     "output_type": "execute_result"
    }
   ],
   "source": [
    "usagemovesdf.head()"
   ]
  },
  {
   "cell_type": "code",
   "execution_count": 63,
   "metadata": {},
   "outputs": [
    {
     "name": "stdout",
     "output_type": "stream",
     "text": [
      "0.11412429378531073 0.12471264367816091 0.09877354358300482 0.09765715611227094 0.08610435252771019\n"
     ]
    },
    {
     "data": {
      "text/plain": [
       "0.15517241379310345"
      ]
     },
     "execution_count": 63,
     "metadata": {},
     "output_type": "execute_result"
    }
   ],
   "source": [
    "# We are only looking at ou and ubers formats\n",
    "usagemovesdf2 = usagemovesdf[(usagemovesdf['Format'] == 'ou') | (usagemovesdf['Format'] == 'ubers')] \n",
    "\n",
    "# We are looking at the % of moves SE against Dragons in both tiers\n",
    "# The reason we are calculating usage % this way is: usagemovesdf2[(usagemovesdf2['Gen'] == 4)]['SE Dragon'].sum() tells us how many SE moves were used in the 4th gen and (usagemovesdf2[(usagemovesdf2['Gen'] == 4)]['SE Dragon'].count() *6) tells us how many total moves were used in the 4th gen. We can simply multiply by 6 here because we are only looking at the top 6 moves! We use the same logic for calculating the rest of the SE percentages.\n",
    "gen4SEDragons = usagemovesdf2[(usagemovesdf2['Gen'] == 4)]['SE Dragon'].sum()/ (usagemovesdf2[(usagemovesdf2['Gen'] == 4)]['SE Dragon'].count() *6)\n",
    "gen5SEDragons = usagemovesdf2[(usagemovesdf2['Gen'] == 5)]['SE Dragon'].sum()/ (usagemovesdf2[(usagemovesdf2['Gen'] == 5)]['SE Dragon'].count() *6)\n",
    "gen6SEDragons = usagemovesdf2[(usagemovesdf2['Gen'] == 6)]['SE Dragon'].sum()/ (usagemovesdf2[(usagemovesdf2['Gen'] == 6)]['SE Dragon'].count() *6)\n",
    "gen7SEDragons = usagemovesdf2[(usagemovesdf2['Gen'] == 7)]['SE Dragon'].sum()/ (usagemovesdf2[(usagemovesdf2['Gen'] == 7)]['SE Dragon'].count() *6)\n",
    "gen8SEDragons = usagemovesdf2[(usagemovesdf2['Gen'] == 8)]['SE Dragon'].sum()/ (usagemovesdf2[(usagemovesdf2['Gen'] == 8)]['SE Dragon'].count() *6)\n",
    "\n",
    "# We are looking at the % of moves SE against Dragons in just Ubers\n",
    "gen4SEDragonsUbers = usagemovesdf2[(usagemovesdf2['Gen'] == 4) & (usagemovesdf2['Format'] == 'ubers')]['SE Dragon'].sum()/ (usagemovesdf2[(usagemovesdf2['Gen'] == 4) & (usagemovesdf2['Format'] == 'ubers')]['SE Dragon'].count() *6)\n",
    "\n",
    "gen5SEDragonsUbers = usagemovesdf2[(usagemovesdf2['Gen'] == 5) & (usagemovesdf2['Format'] == 'ubers')]['SE Dragon'].sum()/ (usagemovesdf2[(usagemovesdf2['Gen'] == 5) & (usagemovesdf2['Format'] == 'ubers')]['SE Dragon'].count() *6)\n",
    "\n",
    "gen6SEDragonsUbers = usagemovesdf2[(usagemovesdf2['Gen'] == 6) & (usagemovesdf2['Format'] == 'ubers')]['SE Dragon'].sum()/ (usagemovesdf2[(usagemovesdf2['Gen'] == 6) & (usagemovesdf2['Format'] == 'ubers')]['SE Dragon'].count() *6)\n",
    "\n",
    "gen7SEDragonsUbers = usagemovesdf2[(usagemovesdf2['Gen'] == 7) & (usagemovesdf2['Format'] == 'ubers')]['SE Dragon'].sum()/ (usagemovesdf2[(usagemovesdf2['Gen'] == 7) & (usagemovesdf2['Format'] == 'ubers')]['SE Dragon'].count() *6)\n",
    "\n",
    "gen8SEDragonsUbers = usagemovesdf2[(usagemovesdf2['Gen'] == 8) & (usagemovesdf2['Format'] == 'ubers')]['SE Dragon'].sum()/ (usagemovesdf2[(usagemovesdf2['Gen'] == 8) & (usagemovesdf2['Format'] == 'ubers')]['SE Dragon'].count() *6)\n",
    "\n",
    "# We are looking at the % of moves SE against Dragons in just OU\n",
    "gen4SEDragonsOU = usagemovesdf2[(usagemovesdf2['Gen'] == 4) & (usagemovesdf2['Format'] == 'ou')]['SE Dragon'].sum()/ (usagemovesdf2[(usagemovesdf2['Gen'] == 4) & (usagemovesdf2['Format'] == 'ou')]['SE Dragon'].count() *6)\n",
    "\n",
    "gen5SEDragonsOU = usagemovesdf2[(usagemovesdf2['Gen'] == 5) & (usagemovesdf2['Format'] == 'ou')]['SE Dragon'].sum()/ (usagemovesdf2[(usagemovesdf2['Gen'] == 5) & (usagemovesdf2['Format'] == 'ou')]['SE Dragon'].count() *6)\n",
    "\n",
    "gen6SEDragonsOU = usagemovesdf2[(usagemovesdf2['Gen'] == 6) & (usagemovesdf2['Format'] == 'ou')]['SE Dragon'].sum()/ (usagemovesdf2[(usagemovesdf2['Gen'] == 6) & (usagemovesdf2['Format'] == 'ou')]['SE Dragon'].count() *6)\n",
    "\n",
    "gen7SEDragonsOU = usagemovesdf2[(usagemovesdf2['Gen'] == 7) & (usagemovesdf2['Format'] == 'ou')]['SE Dragon'].sum()/ (usagemovesdf2[(usagemovesdf2['Gen'] == 7) & (usagemovesdf2['Format'] == 'ou')]['SE Dragon'].count() *6)\n",
    "\n",
    "gen8SEDragonsOU = usagemovesdf2[(usagemovesdf2['Gen'] == 8) & (usagemovesdf2['Format'] == 'ou')]['SE Dragon'].sum()/ (usagemovesdf2[(usagemovesdf2['Gen'] == 8) & (usagemovesdf2['Format'] == 'ou')]['SE Dragon'].count() *6)\n",
    "\n",
    "\n",
    "\n",
    "\n",
    "print(gen4SEDragons, gen5SEDragons, gen6SEDragons, gen7SEDragons, gen8SEDragons)\n",
    "\n",
    "gen4SEDragonsUbers"
   ]
  },
  {
   "cell_type": "code",
   "execution_count": 64,
   "metadata": {},
   "outputs": [
    {
     "data": {
      "text/plain": [
       "Text(0.5, 1.0, 'Moves SE against dragon in Generations 4-8')"
      ]
     },
     "execution_count": 64,
     "metadata": {},
     "output_type": "execute_result"
    },
    {
     "data": {
      "image/png": "[encoded data removed]",
      "text/plain": [
       "<Figure size 432x288 with 1 Axes>"
      ]
     },
     "metadata": {
      "needs_background": "light"
     },
     "output_type": "display_data"
    }
   ],
   "source": [
    "# We make a new dataframe with the % of moves SE against a Dragon from the numbers we calculated above.\n",
    "seDragonsDf = pd.DataFrame(\n",
    "    {\n",
    "        \"Generation\" : ['Gen 4', 'Gen 4','Gen 4', 'Gen 5', 'Gen 5','Gen 5', 'Gen 6', 'Gen 6','Gen 6','Gen 7', 'Gen 7','Gen 7','Gen 8', 'Gen 8', 'Gen 8'],\n",
    "        \"Format\": ['overall', 'ubers', 'ou', 'overall', 'ubers', 'ou', 'overall', 'ubers', 'ou', 'overall', 'ubers', 'ou','overall', 'ubers', 'ou'],\n",
    "        \"Percent of moves SE against dragons\": [gen4SEDragons, gen4SEDragonsUbers, gen4SEDragonsOU, gen5SEDragons, gen5SEDragonsUbers, gen5SEDragonsOU, gen6SEDragons, gen6SEDragonsUbers, gen6SEDragonsOU, gen7SEDragons, gen7SEDragonsUbers, gen7SEDragonsOU, gen8SEDragons, gen8SEDragonsUbers, gen8SEDragonsOU],\n",
    "    },\n",
    ")\n",
    "\n",
    "# change decimal into a percentage\n",
    "seDragonsDf[\"Percent of moves SE against dragons\"] = seDragonsDf[\"Percent of moves SE against dragons\"].apply(lambda x: x*100)\n",
    "\n",
    "sns.barplot(x=\"Generation\", \n",
    "            y=\"Percent of moves SE against dragons\", \n",
    "            hue=\"Format\", \n",
    "            data=seDragonsDf,\n",
    "            palette='magma'\n",
    "           ).set_title(\"Moves SE against dragon in Generations 4-8\")\n",
    "\n"
   ]
  },
  {
   "cell_type": "markdown",
   "metadata": {},
   "source": [
    "As we would expect, the number of Ice type and Dragon type moves, the types that Dragon is weak to, went down a noticable amount with the introduction of Fairy types in Generation 6. This is because Fairy type attacks were a new viable counter to Dragon types so players had more options to choose from and chose Ice and Dragon types much less. "
   ]
  },
  {
   "cell_type": "code",
   "execution_count": 65,
   "metadata": {},
   "outputs": [],
   "source": [
    "# Here, we repeat the same process for moves that are SE against the Fairy type.\n",
    "# We are looking at the % of moves SE against Fairy in both tiers\n",
    "gen4SEFairy = usagemovesdf2[(usagemovesdf2['Gen'] == 4)]['SE Fairy'].sum()/ (usagemovesdf2[(usagemovesdf2['Gen'] == 4)]['SE Fairy'].count() *6)\n",
    "gen5SEFairy = usagemovesdf2[(usagemovesdf2['Gen'] == 5)]['SE Fairy'].sum()/ (usagemovesdf2[(usagemovesdf2['Gen'] == 5)]['SE Fairy'].count() *6)\n",
    "gen6SEFairy = usagemovesdf2[(usagemovesdf2['Gen'] == 6)]['SE Fairy'].sum()/ (usagemovesdf2[(usagemovesdf2['Gen'] == 6)]['SE Fairy'].count() *6)\n",
    "gen7SEFairy = usagemovesdf2[(usagemovesdf2['Gen'] == 7)]['SE Fairy'].sum()/ (usagemovesdf2[(usagemovesdf2['Gen'] == 7)]['SE Fairy'].count() *6)\n",
    "gen8SEFairy = usagemovesdf2[(usagemovesdf2['Gen'] == 8)]['SE Fairy'].sum()/ (usagemovesdf2[(usagemovesdf2['Gen'] == 8)]['SE Fairy'].count() *6)\n",
    "\n",
    "# We are looking at the % of moves SE against Fairy in just Ubers\n",
    "gen4SEFairyUbers = usagemovesdf2[(usagemovesdf2['Gen'] == 4) & (usagemovesdf2['Format'] == 'ubers')]['SE Fairy'].sum()/ (usagemovesdf2[(usagemovesdf2['Gen'] == 4) & (usagemovesdf2['Format'] == 'ubers')]['SE Fairy'].count() *6)\n",
    "\n",
    "gen5SEFairyUbers = usagemovesdf2[(usagemovesdf2['Gen'] == 5) & (usagemovesdf2['Format'] == 'ubers')]['SE Fairy'].sum()/ (usagemovesdf2[(usagemovesdf2['Gen'] == 5) & (usagemovesdf2['Format'] == 'ubers')]['SE Fairy'].count() *6)\n",
    "\n",
    "gen6SEFairyUbers = usagemovesdf2[(usagemovesdf2['Gen'] == 6) & (usagemovesdf2['Format'] == 'ubers')]['SE Fairy'].sum()/ (usagemovesdf2[(usagemovesdf2['Gen'] == 6) & (usagemovesdf2['Format'] == 'ubers')]['SE Fairy'].count() *6)\n",
    "\n",
    "gen7SEFairyUbers = usagemovesdf2[(usagemovesdf2['Gen'] == 7) & (usagemovesdf2['Format'] == 'ubers')]['SE Fairy'].sum()/ (usagemovesdf2[(usagemovesdf2['Gen'] == 7) & (usagemovesdf2['Format'] == 'ubers')]['SE Fairy'].count() *6)\n",
    "\n",
    "gen8SEFairyUbers = usagemovesdf2[(usagemovesdf2['Gen'] == 8) & (usagemovesdf2['Format'] == 'ubers')]['SE Fairy'].sum()/ (usagemovesdf2[(usagemovesdf2['Gen'] == 8) & (usagemovesdf2['Format'] == 'ubers')]['SE Fairy'].count() *6)\n",
    "\n",
    "# We are looking at the % of moves SE against Fairy in just OU\n",
    "gen4SEFairyOU = usagemovesdf2[(usagemovesdf2['Gen'] == 4) & (usagemovesdf2['Format'] == 'ou')]['SE Fairy'].sum()/ (usagemovesdf2[(usagemovesdf2['Gen'] == 4) & (usagemovesdf2['Format'] == 'ou')]['SE Fairy'].count() *6)\n",
    "\n",
    "gen5SEFairyOU = usagemovesdf2[(usagemovesdf2['Gen'] == 5) & (usagemovesdf2['Format'] == 'ou')]['SE Fairy'].sum()/ (usagemovesdf2[(usagemovesdf2['Gen'] == 5) & (usagemovesdf2['Format'] == 'ou')]['SE Fairy'].count() *6)\n",
    "\n",
    "gen6SEFairyOU = usagemovesdf2[(usagemovesdf2['Gen'] == 6) & (usagemovesdf2['Format'] == 'ou')]['SE Fairy'].sum()/ (usagemovesdf2[(usagemovesdf2['Gen'] == 6) & (usagemovesdf2['Format'] == 'ou')]['SE Fairy'].count() *6)\n",
    "\n",
    "gen7SEFairyOU = usagemovesdf2[(usagemovesdf2['Gen'] == 7) & (usagemovesdf2['Format'] == 'ou')]['SE Fairy'].sum()/ (usagemovesdf2[(usagemovesdf2['Gen'] == 7) & (usagemovesdf2['Format'] == 'ou')]['SE Fairy'].count() *6)\n",
    "\n",
    "gen8SEFairyOU = usagemovesdf2[(usagemovesdf2['Gen'] == 8) & (usagemovesdf2['Format'] == 'ou')]['SE Fairy'].sum()/ (usagemovesdf2[(usagemovesdf2['Gen'] == 8) & (usagemovesdf2['Format'] == 'ou')]['SE Fairy'].count() *6)"
   ]
  },
  {
   "cell_type": "code",
   "execution_count": 66,
   "metadata": {},
   "outputs": [
    {
     "data": {
      "text/plain": [
       "Text(0.5, 1.0, 'Moves SE against fairy in Generations 4-8')"
      ]
     },
     "execution_count": 66,
     "metadata": {},
     "output_type": "execute_result"
    },
    {
     "data": {
      "image/png": "[encoded data removed]",
      "text/plain": [
       "<Figure size 432x288 with 1 Axes>"
      ]
     },
     "metadata": {
      "needs_background": "light"
     },
     "output_type": "display_data"
    }
   ],
   "source": [
    "# We make a dataframe based on the result from the calculations above\n",
    "seFairyDf = pd.DataFrame(\n",
    "    {\n",
    "        \"Generation\" : ['Gen 4', 'Gen 4','Gen 4', 'Gen 5', 'Gen 5','Gen 5', 'Gen 6', 'Gen 6','Gen 6','Gen 7', 'Gen 7','Gen 7','Gen 8', 'Gen 8', 'Gen 8'],\n",
    "        \"Format\": ['overall', 'ubers', 'ou', 'overall', 'ubers', 'ou', 'overall', 'ubers', 'ou', 'overall', 'ubers', 'ou','overall', 'ubers', 'ou'],\n",
    "        \"Percent of moves SE against fairy\": [gen4SEFairy, gen4SEFairyUbers, gen4SEFairyOU, gen5SEFairy, gen5SEFairyUbers, gen5SEFairyOU, gen6SEFairy, gen6SEFairyUbers, gen6SEFairyOU, gen7SEFairy, gen7SEFairyUbers, gen7SEFairyOU, gen8SEFairy, gen8SEFairyUbers, gen8SEFairyOU],\n",
    "    },\n",
    ")\n",
    "\n",
    "# change decimal into a percentage\n",
    "seFairyDf[\"Percent of moves SE against fairy\"] = seFairyDf[\"Percent of moves SE against fairy\"].apply(lambda x: x*100)\n",
    "\n",
    "sns.barplot(x=\"Generation\", \n",
    "            y=\"Percent of moves SE against fairy\", \n",
    "            hue=\"Format\", \n",
    "            data=seFairyDf,\n",
    "            palette='magma'\n",
    "           ).set_title(\"Moves SE against fairy in Generations 4-8\")\n"
   ]
  },
  {
   "cell_type": "markdown",
   "metadata": {},
   "source": [
    "As we would expect, the number of moves super effective against Fairy types increased drastically in Generation 6 with the introduction of Fairy types. Players were forced to use Steel, and Poison type attacks more frequently in order to counter the new Fairy Pokemon."
   ]
  },
  {
   "cell_type": "markdown",
   "metadata": {},
   "source": [
    "# Data Analysis & Results"
   ]
  },
  {
   "cell_type": "markdown",
   "metadata": {},
   "source": [
    "### Dragon Type Usage"
   ]
  },
  {
   "cell_type": "markdown",
   "metadata": {},
   "source": [
    "To compare the usage of Dragon types before and after the inclusion of Fairy types, we split the dataset into two group: *beforeFairy* (Before Gen 6) and *afterFairy* (After Gen 6). Afterwards, we find the approximate mean usage of Dragon types in both datasets."
   ]
  },
  {
   "cell_type": "code",
   "execution_count": 67,
   "metadata": {},
   "outputs": [
    {
     "name": "stdout",
     "output_type": "stream",
     "text": [
      "Before Gen 6: 0.15683167250000002\n",
      "After Gen 6: 0.08332472104018905\n"
     ]
    }
   ],
   "source": [
    "### Finds all Dragon Types\n",
    "dragonType = usagetypesdf[(usagetypesdf[\"Type 1\"] == \"Dragon\")|(usagetypesdf[\"Type 2\"] == \"Dragon\")]\n",
    "\n",
    "### Splits Dataset before and after Fairy Types\n",
    "beforeFairy = dragonType[dragonType[\"Gen\"] < 6]\n",
    "afterFairy = dragonType[dragonType[\"Gen\"] >= 6]\n",
    "\n",
    "### Finds Mean Usage Rate\n",
    "beforemean = beforeFairy[\"Usage\"].mean()\n",
    "aftermean = afterFairy[\"Usage\"].mean()\n",
    "print(\"Before Gen 6:\", beforemean)\n",
    "print(\"After Gen 6:\",aftermean)"
   ]
  },
  {
   "cell_type": "markdown",
   "metadata": {},
   "source": [
    "To determine if we accept or reject the null hypothesis that there was no difference in usage before and after the inclusion of Fairy types, we run a two tailed T-test to determine if there is a significant usage difference in the population with an alpha level of 0.01. "
   ]
  },
  {
   "cell_type": "code",
   "execution_count": 68,
   "metadata": {},
   "outputs": [
    {
     "data": {
      "text/plain": [
       "Ttest_indResult(statistic=7.380624084105374, pvalue=5.480816257755981e-13)"
      ]
     },
     "execution_count": 68,
     "metadata": {},
     "output_type": "execute_result"
    }
   ],
   "source": [
    "### Checks Overall Usage between pre Gen 6 and post Gen 6\n",
    "ttest_ind(beforeFairy[\"Usage\"], afterFairy[\"Usage\"])"
   ]
  },
  {
   "cell_type": "markdown",
   "metadata": {},
   "source": [
    "In the overall population, the p-value from the t-test is less than our alpha level, so there is a significant usage difference in the population and we reject the null hypothesis.\n",
    "\n",
    "To determine if *Format* has an effect on the usage, we separated the datasets further into two common formats: *OU* and *Ubers* as those formats are available across all generations."
   ]
  },
  {
   "cell_type": "code",
   "execution_count": 69,
   "metadata": {},
   "outputs": [
    {
     "data": {
      "text/plain": [
       "Ttest_indResult(statistic=5.500304527070942, pvalue=9.392912713762024e-08)"
      ]
     },
     "execution_count": 69,
     "metadata": {},
     "output_type": "execute_result"
    }
   ],
   "source": [
    "beforeFairy_OU = beforeFairy[beforeFairy[\"Format\"] == \"ou\"]\n",
    "afterFairy_OU = afterFairy[afterFairy[\"Format\"] == \"ou\"]\n",
    "\n",
    "### Checks OU Usage between pre Gen 6 and post Gen 6\n",
    "ttest_ind(beforeFairy_OU[\"Usage\"], afterFairy_OU[\"Usage\"])"
   ]
  },
  {
   "cell_type": "markdown",
   "metadata": {},
   "source": [
    "In the OU population, the p-value from the t-test is less than our alpha level, so there is a significant usage difference in the population and we reject the null hypothesis."
   ]
  },
  {
   "cell_type": "code",
   "execution_count": 70,
   "metadata": {},
   "outputs": [
    {
     "data": {
      "text/plain": [
       "Ttest_indResult(statistic=4.967363303140621, pvalue=1.3166872709466642e-06)"
      ]
     },
     "execution_count": 70,
     "metadata": {},
     "output_type": "execute_result"
    }
   ],
   "source": [
    "beforeFairy_ubers = beforeFairy[beforeFairy[\"Format\"] == \"ubers\"]\n",
    "afterFairy_ubers = afterFairy[afterFairy[\"Format\"] == \"ubers\"]\n",
    "\n",
    "### Checks Uber Usage between pre Gen 6 and post Gen 6\n",
    "ttest_ind(beforeFairy_ubers[\"Usage\"], afterFairy_ubers[\"Usage\"])"
   ]
  },
  {
   "cell_type": "markdown",
   "metadata": {},
   "source": [
    "In the Ubers population, the p-value from the t-test is less than our alpha level, so there is a significant usage difference in the population and we reject the null hypothesis."
   ]
  },
  {
   "cell_type": "markdown",
   "metadata": {},
   "source": [
    "### Move Usage"
   ]
  },
  {
   "cell_type": "markdown",
   "metadata": {},
   "source": [
    "Similarly to the above section, we want compare the usage of supereffective moves before and after the inclusion of Fairy types by splitting the dataset into two group: *beforeFairy* (Before Gen 6) and *afterFairy* (After Gen 6). Afterwards, we find the approximate mean usage of moves in both datasets."
   ]
  },
  {
   "cell_type": "code",
   "execution_count": 71,
   "metadata": {},
   "outputs": [
    {
     "name": "stdout",
     "output_type": "stream",
     "text": [
      "Before Gen 6: 0.6717171717171717\n",
      "After Gen 6: 0.528476821192053\n"
     ]
    }
   ],
   "source": [
    "### Splits the Dataset Before and After Fairy Types\n",
    "beforeFairy = usagemovesdf[usagemovesdf[\"Gen\"] < 6]\n",
    "afterFairy = usagemovesdf[usagemovesdf[\"Gen\"] >= 6]\n",
    "\n",
    "### Checks the mean number of SuperEffective Moves\n",
    "beforemean = beforeFairy[\"SE Dragon\"].mean()\n",
    "aftermean = afterFairy[\"SE Dragon\"].mean()\n",
    "print(\"Before Gen 6:\", beforemean)\n",
    "print(\"After Gen 6:\",aftermean)"
   ]
  },
  {
   "cell_type": "markdown",
   "metadata": {},
   "source": [
    "First, we analyze supereffective moves against Dragon types. To determine if we accept or reject the null hypothesis that there was no difference in move usage before and after the inclusion of Fairy types, we run a two tailed T-test to determine if there is a significant difference with an alpha level of 0.01. "
   ]
  },
  {
   "cell_type": "code",
   "execution_count": 72,
   "metadata": {},
   "outputs": [
    {
     "data": {
      "text/plain": [
       "Ttest_indResult(statistic=5.477339385599182, pvalue=4.4957687612994866e-08)"
      ]
     },
     "execution_count": 72,
     "metadata": {},
     "output_type": "execute_result"
    }
   ],
   "source": [
    "### Checks Overall SE Dragon Moves Usage between pre Gen 6 and post Gen 6\n",
    "ttest_ind(beforeFairy[\"SE Dragon\"], afterFairy[\"SE Dragon\"])\n"
   ]
  },
  {
   "cell_type": "markdown",
   "metadata": {},
   "source": [
    "Once again, the p-value is less than our alpha value, indicating there is a significant difference of supereffective move usage before and after the inclusion of Fairy types, rejecting the null hypothesis."
   ]
  },
  {
   "cell_type": "markdown",
   "metadata": {},
   "source": [
    "Just as we did with Dragon type usage, we split the data accordingly once again to check if *Format* had an effect on the usage."
   ]
  },
  {
   "cell_type": "code",
   "execution_count": 73,
   "metadata": {},
   "outputs": [
    {
     "data": {
      "text/plain": [
       "Ttest_indResult(statistic=3.931113698897302, pvalue=8.65230340129105e-05)"
      ]
     },
     "execution_count": 73,
     "metadata": {},
     "output_type": "execute_result"
    }
   ],
   "source": [
    "beforeFairy_OU = beforeFairy[beforeFairy[\"Format\"] == \"ou\"]\n",
    "afterFairy_OU = afterFairy[afterFairy[\"Format\"] == \"ou\"]\n",
    "\n",
    "### Checks OU Usage between pre Gen 6 and post Gen 6\n",
    "ttest_ind(beforeFairy_OU[\"SE Dragon\"], afterFairy_OU[\"SE Dragon\"])"
   ]
  },
  {
   "cell_type": "markdown",
   "metadata": {},
   "source": [
    "In the OU population, the p-value from the t-test is less than our alpha level, so there is a significant difference of supereffective moves against Dragon types and we reject the null hypothesis."
   ]
  },
  {
   "cell_type": "code",
   "execution_count": 74,
   "metadata": {},
   "outputs": [
    {
     "data": {
      "text/plain": [
       "Ttest_indResult(statistic=4.043690621074755, pvalue=5.498965613328138e-05)"
      ]
     },
     "execution_count": 74,
     "metadata": {},
     "output_type": "execute_result"
    }
   ],
   "source": [
    "beforeFairy_ubers = beforeFairy[beforeFairy[\"Format\"] == \"ubers\"]\n",
    "afterFairy_ubers = afterFairy[afterFairy[\"Format\"] == \"ubers\"]\n",
    "\n",
    "### Checks Uber Usage between pre Gen 6 and post Gen 6\n",
    "ttest_ind(beforeFairy_ubers[\"SE Dragon\"], afterFairy_ubers[\"SE Dragon\"])"
   ]
  },
  {
   "cell_type": "markdown",
   "metadata": {},
   "source": [
    "In the Ubers population, the p-value from the t-test is less than our alpha level, so there is a significant difference of super effective moves against Dragon types and we reject the null hypothesis."
   ]
  },
  {
   "cell_type": "markdown",
   "metadata": {},
   "source": [
    "We repeat the same process with moves super effective against Fairy types using the same alpha level. Our null hypothesis states that there is no difference in the distribution of moves prior to and after the inclusion of Fairy types."
   ]
  },
  {
   "cell_type": "code",
   "execution_count": 75,
   "metadata": {},
   "outputs": [
    {
     "name": "stdout",
     "output_type": "stream",
     "text": [
      "Before Gen 6: 0.33116883116883117\n",
      "After Gen 6: 0.5408388520971302\n"
     ]
    }
   ],
   "source": [
    "### Splits the Dataset Before and After Fairy Types\n",
    "beforeFairy = usagemovesdf[usagemovesdf[\"Gen\"] < 6]\n",
    "afterFairy = usagemovesdf[usagemovesdf[\"Gen\"] >= 6]\n",
    "\n",
    "### Checks the mean number of SuperEffective Moves\n",
    "beforemean = beforeFairy[\"SE Fairy\"].mean()\n",
    "aftermean = afterFairy[\"SE Fairy\"].mean()\n",
    "print(\"Before Gen 6:\", beforemean)\n",
    "print(\"After Gen 6:\",aftermean)"
   ]
  },
  {
   "cell_type": "code",
   "execution_count": 76,
   "metadata": {},
   "outputs": [
    {
     "data": {
      "text/plain": [
       "Ttest_indResult(statistic=-9.371191325236575, pvalue=9.977344019613692e-21)"
      ]
     },
     "execution_count": 76,
     "metadata": {},
     "output_type": "execute_result"
    }
   ],
   "source": [
    "### Checks Overall SE Fairy Moves Usage between pre Gen 6 and post Gen 6\n",
    "ttest_ind(beforeFairy[\"SE Fairy\"], afterFairy[\"SE Fairy\"])"
   ]
  },
  {
   "cell_type": "markdown",
   "metadata": {},
   "source": [
    "Once again, the p-value is less than our alpha value, indicating there is a significant difference between super effective moves against Fairy types and rejecting the null hypothesis."
   ]
  },
  {
   "cell_type": "markdown",
   "metadata": {},
   "source": [
    "We repeat the same process in dividing the datasets by *Format*."
   ]
  },
  {
   "cell_type": "code",
   "execution_count": 77,
   "metadata": {},
   "outputs": [
    {
     "data": {
      "text/plain": [
       "Ttest_indResult(statistic=-5.017355120279446, pvalue=5.553563823599802e-07)"
      ]
     },
     "execution_count": 77,
     "metadata": {},
     "output_type": "execute_result"
    }
   ],
   "source": [
    "beforeFairy_OU = beforeFairy[beforeFairy[\"Format\"] == \"ou\"]\n",
    "afterFairy_OU = afterFairy[afterFairy[\"Format\"] == \"ou\"]\n",
    "\n",
    "### Checks OU Usage between pre Gen 6 and post Gen 6\n",
    "ttest_ind(beforeFairy_OU[\"SE Fairy\"], afterFairy_OU[\"SE Fairy\"])"
   ]
  },
  {
   "cell_type": "markdown",
   "metadata": {},
   "source": [
    "In the OU population, the p-value from the t-test is less than our alpha level, so there is a significant difference of super effective moves against Fairy types and we reject the null hypothesis."
   ]
  },
  {
   "cell_type": "code",
   "execution_count": 78,
   "metadata": {},
   "outputs": [
    {
     "data": {
      "text/plain": [
       "Ttest_indResult(statistic=-5.400348957680068, pvalue=7.598319180973593e-08)"
      ]
     },
     "execution_count": 78,
     "metadata": {},
     "output_type": "execute_result"
    }
   ],
   "source": [
    "beforeFairy_ubers = beforeFairy[beforeFairy[\"Format\"] == \"ubers\"]\n",
    "afterFairy_ubers = afterFairy[afterFairy[\"Format\"] == \"ubers\"]\n",
    "\n",
    "### Checks Uber Usage between pre Gen 6 and post Gen 6\n",
    "ttest_ind(beforeFairy_ubers[\"SE Fairy\"], afterFairy_ubers[\"SE Fairy\"])"
   ]
  },
  {
   "cell_type": "markdown",
   "metadata": {},
   "source": [
    "In the Ubers population, the p-value from the t-test is less than our alpha level, so there is a significant difference of super effective moves against Fairy types and we reject the null hypothesis."
   ]
  },
  {
   "cell_type": "markdown",
   "metadata": {},
   "source": [
    "# Ethics & Privacy"
   ]
  },
  {
   "cell_type": "markdown",
   "metadata": {},
   "source": [
    "Some of the ethical and privacy issues arise from the simulator itself, as Pokemon Showdown is not officially licensed by The Pokemon Company, player data is automatically collected without known consent, and players are not able to request for their own data to be removed from the site. However, the data is highly anonymized and there is no personally identifiable information given by the datasets.\n",
    "\n",
    "Biases can arise from the players and the general community on Pokemon Showdown, where bans voted by the Smogon community would have a direct effect on the usage of some Pokemon and moves, which could impact our analysis on Fairy types. These bans are put into place if the Smogon/Pokemon Showdown community deem a specific Pokemon to be too dominating in the metagame. The changes caused by bans can be mitigated if we analyze the datasets towards the beginning of a generation, where no bans are implemented due to the lack of data at the beginning of a generation to vote on a ban.\n",
    "\n",
    "We handled these concerns by pulling our data from the beginning of when a generation was introduced, and then the most recent data. This allowed us to counteract any particular bias a specific month had by introducing a different month, and it reduced bias about bans from the Smogon forced removal of certain moves or Pokemon. "
   ]
  },
  {
   "cell_type": "markdown",
   "metadata": {},
   "source": [
    "# Conclusion & Discussion"
   ]
  },
  {
   "cell_type": "markdown",
   "metadata": {},
   "source": [
    "Throughout our data analysis project, our group sought to better understand how the inclusion of Fairy type Pokemon in Generation 6 changed competitive battling dynamics and stats within Pokemon Showdown, especially in relation to the previously dominant Dragon type Pokemon. We began our observations by collecting data from the website Smogon, which serves as a comprehensive online resource for competitive Pokemon statistics and battling tactics. We looked at Pokemon battling rating, usage, and move percentages across five generations (Generations 4, 5, 6, 7, and 8), as well as individual Pokemon features and characteristics. For our analysis, we joined this data together to specifically observe moveset usage, pokemon usage, and super effectiveness against either Dragon or Fairy types. \n",
    "\n",
    "After conducting our analysis, we concluded that the addition of Fairy type Pokemon did in fact have a significant effect on overall Dragon type usage within Ubers and OU formats in Pokemon Showdown. Our data visualizations depict a relatively consistent increase of Fairy type usage, as well as an increase in effective movesets against Fairy types. This resulted in changes in the dominating competitive types in the generations/years following the inclusion of fairy types, as we had hypothesized. To solidify our conclusion, we utilized inferential statistics for our Dragon usage and effective moveset data. The results showcased that Dragon type usage after Generation 6 dramatically decreased due to the inclusion of a new viable counter type Pokemon. The usage of non-Fairy type moves that are super effective against Dragon types decreased while the usage of move types that are super effective against Fairy types increased. It can be safely deduced from our data analysis that the domination of the Dragon type over Pokemon competitive battling required a worthy counter in order to level its playing usage in battle formats online, and the introduction of Fairy types allowed players to select a team with more diverse type range and movesets. \n",
    "\n",
    "Some possible limitations in our analysis are that our dataset only included stats from as early as 2014, even though some Pokemon generations that we included had already existed prior to 2014. As a result, we had to use 2014 data to mark the beginning of Generations 4, 5, and 6, rather than the years when the generations actually debuted. This could have impacted our analysis, as we were not able to analyze usage stats from the years when these generations were initially released. Furthermore, because Fairy types were introduced in Generation 6, we were not able to see whether or not there had been a significant decrease or increase in Dragon or Fairy type usage during the initial release of Fairy types in 2013. In the future, if we were to expand on this project, our team would like to explore the variability in more Pokemon types, such as Dark and Steel types. Since these types were added back in Generation 2, the metagame for these types has essentially become completed, and there will be a plethora of datasets we could potentially use to further explore our idea. However, Pokemon Showdown was created long after the arrival of generations 1, 2, and 3. Therefore we cannot be certain we will find data for the complete metagame if we were to investigate further into these topics."
   ]
  },
  {
   "cell_type": "markdown",
   "metadata": {},
   "source": [
    "# Team Contributions"
   ]
  },
  {
   "cell_type": "markdown",
   "metadata": {},
   "source": [
    "Ethan Dinh-Luong: Hypothesis, Dataset Summary, Ethics, Pokemon Move Data Cleaning, Pokemon Showdown File Cleaning, Joining Datasets, Type Standardization, Data Analysis and Results\n",
    "\n",
    "Crystal Zhan: Hypothesis, Dataset Summary, Pokedex Data Cleaning, Pokemon Type EDA, Results, Ethics, Discussion Ideas, Script, Video Editing\n",
    "\n",
    "Akil Selvan Rajendra Janarthanan: Background, Prior Work, Pokemon Move Data Cleaning, Pokemon Move EDA\n",
    "\n",
    "Kristen Prescaro: Hypothesis, Dataset Summary, Pokedex Data Cleaning, Ethics, Pokemon Move EDA, Conclusion/Discussion,  Script\n",
    "\n",
    "Kristine Thipatima: Background, Prior Work, Pokemon Move Data Cleaning, Pokemon Type EDA, Discussion, Video Narration"
   ]
  },
  {
   "cell_type": "markdown",
   "metadata": {},
   "source": []
  }
 ],
 "metadata": {
  "kernelspec": {
   "display_name": "Python 3",
   "language": "python",
   "name": "python3"
  },
  "language_info": {
   "codemirror_mode": {
    "name": "ipython",
    "version": 3
   },
   "file_extension": ".py",
   "mimetype": "text/x-python",
   "name": "python",
   "nbconvert_exporter": "python",
   "pygments_lexer": "ipython3",
   "version": "3.8.8"
  }
 },
 "nbformat": 4,
 "nbformat_minor": 2
}
