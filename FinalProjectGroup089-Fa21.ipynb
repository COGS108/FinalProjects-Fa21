{
 "cells": [
  {
   "cell_type": "markdown",
   "metadata": {},
   "source": [
    "# COGS 108 - FIFA Winners Wearing Orange"
   ]
  },
  {
   "cell_type": "markdown",
   "metadata": {},
   "source": [
    "## Permissions\n",
    "\n",
    "Place an `X` in the appropriate bracket below to specify if you would like your group's project to be made available to the public. (Note that student names will be included (but PIDs will be scraped from any groups who include their PIDs).\n",
    "\n",
    "* [ x ] YES - make available\n",
    "* [  ] NO - keep private"
   ]
  },
  {
   "cell_type": "markdown",
   "metadata": {},
   "source": [
    "# Overview"
   ]
  },
  {
   "cell_type": "markdown",
   "metadata": {},
   "source": [
    "The project focuses on the question whether the colour of the jersey infleunces the success rate in the FIFA World Cup from the years 1900 to 2020. More specifically, we hypothesized that the colour red would be the successful colour as it is known to be a colour of passion and energy. Throughtout this project, we took account the factors that would affect how the FIFA games would be played such as the match being neutral or whether game was a qualifier or not. Taking the average scores in the matches between the jersey colours, we came up with revised hypothesis:t eams that have orange home jerseys tend to score have higher average scores in FIFA games as opposed to other teams."
   ]
  },
  {
   "cell_type": "markdown",
   "metadata": {},
   "source": [
    "# Names\n",
    "\n",
    "- Moksha Poladi\n",
    "- Esha Desai \n",
    "- Sonika Ram\n",
    "- Satomi Ito"
   ]
  },
  {
   "cell_type": "markdown",
   "metadata": {},
   "source": [
    "<a id='research_question'></a>\n",
    "# Research Question"
   ]
  },
  {
   "cell_type": "markdown",
   "metadata": {},
   "source": [
    "Does the color red of a team’s jersey influence the chance of success in the FIFA World Cup from the years 1900 to 2020?"
   ]
  },
  {
   "cell_type": "markdown",
   "metadata": {},
   "source": [
    "<a id='background'></a>\n",
    "\n",
    "## Background & Prior Work"
   ]
  },
  {
   "cell_type": "markdown",
   "metadata": {},
   "source": [
    "This question was of interest for our group because we were curious about how specific colors impact our perception. It has been shown that red stimuli can often cause an increase in aggression and dominance in competitive settings. Furthermore, in the animal kingdom red coloration has been seen as a marker of high testosterone and superiority in physical dominance. \n",
    "\n",
    "Based on this information, we wanted to see if the red color on a team’s jersey would bring out aggression and dominance within the sport. We were able to find a study stating that in the Olympics, for aggressive sports such as boxing and wrestling, the scarlet color uniform has given a competitor an advantage in the match. The study stated that 55% of competitors that were wearing a red uniform won all competitions within the Olympics.\n",
    "\n",
    "Furthermore, another study stated that wearing the color red was linked to having a higher heart rate, higher testosterone levels, and even greater performance strength. With the knowledge of these two studies, we were curious to explore the imapct of red stimuli in the FIFA world cup tournaments, from the years 1900 to 2020.\n",
    "\n",
    "References (include links):\n",
    "- 1) https://royalsocietypublishing.org/doi/10.1098/rsbl.2015.0166 \n",
    "- 2) https://www.nature.com/news/2005/050516/full/news050516-4.html "
   ]
  },
  {
   "cell_type": "markdown",
   "metadata": {},
   "source": [
    "# Hypothesis\n"
   ]
  },
  {
   "cell_type": "markdown",
   "metadata": {},
   "source": [
    "We hypothesize that there would be a correlation with the jersey colour and the team's win rate. This means that we preciated that there would be more wins with teams who wear red jerseys from year 1900 to 2020 because the colour red determins passion and energy.\n",
    "\n",
    "To test our hypothesis we conducted various tests that compare average scores throughout various situations such as the qualifiers, the World Cup, amd whether the team played on neutral or not. \n"
   ]
  },
  {
   "cell_type": "markdown",
   "metadata": {},
   "source": [
    "## Revised Hypothesis"
   ]
  },
  {
   "cell_type": "markdown",
   "metadata": {},
   "source": [
    "Due to the outcomes of the data we collected, we shifted our hypothesis to say: Teams that have orange home jerseys tend to score have higher average scores in FIFA games as opposed to other teams.\n",
    "\n",
    "To explore this new hypothesis, we decided to create a new column, home_jersey_bool_orange, that has the value 1 if the jersey of the home team is orange and 0 otherwise."
   ]
  },
  {
   "cell_type": "markdown",
   "metadata": {},
   "source": [
    "# Dataset(s)"
   ]
  },
  {
   "cell_type": "markdown",
   "metadata": {},
   "source": [
    "*Fill in your dataset information here*\n",
    "\n",
    "(Copy this information for each dataset)\n",
    "- Dataset Name: results.csv \n",
    "- Link to the dataset: https://www.kaggle.com/martj42/international-football-results-from-1872-to-2017/version/23\n",
    "- Number of observations: 386091 \n",
    "\n",
    "results.csv contains the International football results from 1872 to 2021. Each row of the data represents a football match played between international soccer teams. It contains additional information such as the score, date and type of tournamnet."
   ]
  },
  {
   "cell_type": "markdown",
   "metadata": {},
   "source": [
    "- Dataset Name: jersey_color_final.csv \n",
    "- Link to the dataset: We created this dataset using information of team jerseys available at https://www.footshirt.com/\n",
    "- Number of observations: 100 \n",
    "\n",
    "jersey_color_final.csv contains the home and away jersey colors for the top 100 teams. Top 100 here is defined as the 100 most frequently occuring teams in our results.csv dataset"
   ]
  },
  {
   "cell_type": "markdown",
   "metadata": {},
   "source": [
    "The two datasets are going to be joined on the home_team column from results.csv and the team column from jersey_color_final.csv"
   ]
  },
  {
   "cell_type": "markdown",
   "metadata": {},
   "source": [
    "# Setup"
   ]
  },
  {
   "cell_type": "code",
   "execution_count": 1,
   "metadata": {},
   "outputs": [],
   "source": [
    "import pandas as pd\n",
    "import numpy as np\n",
    "import seaborn as sns"
   ]
  },
  {
   "cell_type": "markdown",
   "metadata": {},
   "source": [
    "# Data Cleaning"
   ]
  },
  {
   "cell_type": "markdown",
   "metadata": {},
   "source": [
    "Describe your data cleaning steps here."
   ]
  },
  {
   "cell_type": "code",
   "execution_count": 2,
   "metadata": {},
   "outputs": [],
   "source": [
    "df = pd.read_csv('FIFA_data/results.csv')"
   ]
  },
  {
   "cell_type": "code",
   "execution_count": 3,
   "metadata": {},
   "outputs": [],
   "source": [
    "# Identified the 100 most occuring teams in both home_team and away_team categories to populate our jerseys dataset."
   ]
  },
  {
   "cell_type": "code",
   "execution_count": 4,
   "metadata": {},
   "outputs": [],
   "source": [
    "teams = list(df['home_team']) + list(df['away_team'])\n",
    "top_100 = pd.Series(teams).value_counts().sort_values(ascending = False).index[:100]"
   ]
  },
  {
   "cell_type": "code",
   "execution_count": 5,
   "metadata": {},
   "outputs": [],
   "source": [
    "df_jerseys = pd.read_csv('FIFA_data/jersey_color_final.csv', header = None)\n",
    "df_jerseys = df_jerseys.rename({0:'Team', 1:'home_jersey', 2:'away_jersey'}, axis = 1)"
   ]
  },
  {
   "cell_type": "code",
   "execution_count": 6,
   "metadata": {},
   "outputs": [],
   "source": [
    "# We first filtered our dataset for only FIFA tournaments. We decided to include the qualifiers as well. \n",
    "df = df.loc[df['tournament'].str.contains('FIFA')]\n",
    "# Joining our fifa dataset with the jersey dataset\n",
    "final_df = pd.merge(df, df_jerseys, how = 'inner', left_on = 'home_team', right_on = 'Team')"
   ]
  },
  {
   "cell_type": "code",
   "execution_count": 7,
   "metadata": {},
   "outputs": [],
   "source": [
    "final_df = final_df[['date', 'home_team', 'away_team', 'home_score', 'away_score', 'tournament', 'neutral', 'home_jersey', 'away_jersey']]"
   ]
  },
  {
   "cell_type": "code",
   "execution_count": 8,
   "metadata": {},
   "outputs": [],
   "source": [
    "final_df['home_jersey_bool'] = final_df['home_jersey'].apply(lambda x: 1 if x == 'Red' else 0)\n",
    "final_df['away_jersey_bool'] = final_df['away_jersey'].apply(lambda x: 1 if x == 'Red' else 0)"
   ]
  },
  {
   "cell_type": "code",
   "execution_count": 9,
   "metadata": {},
   "outputs": [
    {
     "data": {
      "text/html": [
       "<div>\n",
       "<style scoped>\n",
       "    .dataframe tbody tr th:only-of-type {\n",
       "        vertical-align: middle;\n",
       "    }\n",
       "\n",
       "    .dataframe tbody tr th {\n",
       "        vertical-align: top;\n",
       "    }\n",
       "\n",
       "    .dataframe thead th {\n",
       "        text-align: right;\n",
       "    }\n",
       "</style>\n",
       "<table border=\"1\" class=\"dataframe\">\n",
       "  <thead>\n",
       "    <tr style=\"text-align: right;\">\n",
       "      <th></th>\n",
       "      <th>date</th>\n",
       "      <th>home_team</th>\n",
       "      <th>away_team</th>\n",
       "      <th>home_score</th>\n",
       "      <th>away_score</th>\n",
       "      <th>tournament</th>\n",
       "      <th>neutral</th>\n",
       "      <th>home_jersey</th>\n",
       "      <th>away_jersey</th>\n",
       "      <th>home_jersey_bool</th>\n",
       "      <th>away_jersey_bool</th>\n",
       "    </tr>\n",
       "  </thead>\n",
       "  <tbody>\n",
       "    <tr>\n",
       "      <th>0</th>\n",
       "      <td>1930-07-13</td>\n",
       "      <td>Belgium</td>\n",
       "      <td>United States</td>\n",
       "      <td>0</td>\n",
       "      <td>3</td>\n",
       "      <td>FIFA World Cup</td>\n",
       "      <td>True</td>\n",
       "      <td>Red</td>\n",
       "      <td>Black</td>\n",
       "      <td>1</td>\n",
       "      <td>0</td>\n",
       "    </tr>\n",
       "    <tr>\n",
       "      <th>1</th>\n",
       "      <td>1930-07-20</td>\n",
       "      <td>Belgium</td>\n",
       "      <td>Paraguay</td>\n",
       "      <td>0</td>\n",
       "      <td>1</td>\n",
       "      <td>FIFA World Cup</td>\n",
       "      <td>True</td>\n",
       "      <td>Red</td>\n",
       "      <td>Black</td>\n",
       "      <td>1</td>\n",
       "      <td>0</td>\n",
       "    </tr>\n",
       "    <tr>\n",
       "      <th>2</th>\n",
       "      <td>1934-04-29</td>\n",
       "      <td>Belgium</td>\n",
       "      <td>Netherlands</td>\n",
       "      <td>2</td>\n",
       "      <td>4</td>\n",
       "      <td>FIFA World Cup qualification</td>\n",
       "      <td>False</td>\n",
       "      <td>Red</td>\n",
       "      <td>Black</td>\n",
       "      <td>1</td>\n",
       "      <td>0</td>\n",
       "    </tr>\n",
       "    <tr>\n",
       "      <th>3</th>\n",
       "      <td>1934-05-27</td>\n",
       "      <td>Belgium</td>\n",
       "      <td>Germany</td>\n",
       "      <td>2</td>\n",
       "      <td>5</td>\n",
       "      <td>FIFA World Cup</td>\n",
       "      <td>True</td>\n",
       "      <td>Red</td>\n",
       "      <td>Black</td>\n",
       "      <td>1</td>\n",
       "      <td>0</td>\n",
       "    </tr>\n",
       "    <tr>\n",
       "      <th>4</th>\n",
       "      <td>1938-04-03</td>\n",
       "      <td>Belgium</td>\n",
       "      <td>Netherlands</td>\n",
       "      <td>1</td>\n",
       "      <td>1</td>\n",
       "      <td>FIFA World Cup qualification</td>\n",
       "      <td>False</td>\n",
       "      <td>Red</td>\n",
       "      <td>Black</td>\n",
       "      <td>1</td>\n",
       "      <td>0</td>\n",
       "    </tr>\n",
       "  </tbody>\n",
       "</table>\n",
       "</div>"
      ],
      "text/plain": [
       "         date home_team      away_team  home_score  away_score  \\\n",
       "0  1930-07-13   Belgium  United States           0           3   \n",
       "1  1930-07-20   Belgium       Paraguay           0           1   \n",
       "2  1934-04-29   Belgium    Netherlands           2           4   \n",
       "3  1934-05-27   Belgium        Germany           2           5   \n",
       "4  1938-04-03   Belgium    Netherlands           1           1   \n",
       "\n",
       "                     tournament  neutral home_jersey away_jersey  \\\n",
       "0                FIFA World Cup     True         Red       Black   \n",
       "1                FIFA World Cup     True         Red       Black   \n",
       "2  FIFA World Cup qualification    False         Red       Black   \n",
       "3                FIFA World Cup     True         Red       Black   \n",
       "4  FIFA World Cup qualification    False         Red       Black   \n",
       "\n",
       "   home_jersey_bool  away_jersey_bool  \n",
       "0                 1                 0  \n",
       "1                 1                 0  \n",
       "2                 1                 0  \n",
       "3                 1                 0  \n",
       "4                 1                 0  "
      ]
     },
     "execution_count": 9,
     "metadata": {},
     "output_type": "execute_result"
    }
   ],
   "source": [
    "final_df.head()"
   ]
  },
  {
   "cell_type": "code",
   "execution_count": 10,
   "metadata": {},
   "outputs": [
    {
     "data": {
      "text/plain": [
       "FIFA World Cup qualification    5724\n",
       "FIFA World Cup                   882\n",
       "FIFA Arab Cup qualification        4\n",
       "FIFA 75th Anniversary Cup          1\n",
       "Name: tournament, dtype: int64"
      ]
     },
     "execution_count": 10,
     "metadata": {},
     "output_type": "execute_result"
    }
   ],
   "source": [
    "final_df['tournament'].value_counts()"
   ]
  },
  {
   "cell_type": "code",
   "execution_count": 11,
   "metadata": {},
   "outputs": [],
   "source": [
    "final_df = final_df.loc[(final_df['tournament'] == 'FIFA World Cup') | (final_df['tournament'] == 'FIFA World Cup qualification')]"
   ]
  },
  {
   "cell_type": "code",
   "execution_count": 12,
   "metadata": {},
   "outputs": [],
   "source": [
    "final_df['date'] = pd.to_datetime(final_df['date'])"
   ]
  },
  {
   "cell_type": "markdown",
   "metadata": {},
   "source": [
    "# Data Analysis & Results"
   ]
  },
  {
   "cell_type": "markdown",
   "metadata": {},
   "source": [
    "Include cells that describe the steps in your data analysis."
   ]
  },
  {
   "cell_type": "markdown",
   "metadata": {},
   "source": [
    "# Question 1: Compare the average scores for qualifiers vs. actual FIFA world cup games."
   ]
  },
  {
   "cell_type": "code",
   "execution_count": 13,
   "metadata": {},
   "outputs": [],
   "source": [
    "# To find average score, we created a new column called game score which is the sum of home score and away_score.\n"
   ]
  },
  {
   "cell_type": "code",
   "execution_count": 14,
   "metadata": {},
   "outputs": [],
   "source": [
    "final_df['game_score'] = final_df['home_score'] + final_df['away_score']"
   ]
  },
  {
   "cell_type": "code",
   "execution_count": 15,
   "metadata": {},
   "outputs": [],
   "source": [
    "avg_comparison = final_df.groupby('tournament')['game_score'].mean()"
   ]
  },
  {
   "cell_type": "code",
   "execution_count": 16,
   "metadata": {},
   "outputs": [
    {
     "data": {
      "text/plain": [
       "tournament\n",
       "FIFA World Cup                  2.834467\n",
       "FIFA World Cup qualification    2.903040\n",
       "Name: game_score, dtype: float64"
      ]
     },
     "execution_count": 16,
     "metadata": {},
     "output_type": "execute_result"
    }
   ],
   "source": [
    "avg_comparison"
   ]
  },
  {
   "cell_type": "code",
   "execution_count": 17,
   "metadata": {},
   "outputs": [
    {
     "data": {
      "image/png": "[encoded data removed]",
      "text/plain": [
       "<Figure size 432x288 with 1 Axes>"
      ]
     },
     "metadata": {
      "needs_background": "light"
     },
     "output_type": "display_data"
    }
   ],
   "source": [
    "sns.barplot(avg_comparison.index, avg_comparison);"
   ]
  },
  {
   "cell_type": "markdown",
   "metadata": {},
   "source": [
    "The average game score of the FIFA World Cup qualification is slightly higher than than the average game score of the FIFA World Cup. This could potentially be because the teams that the winning team played against were weaker at the qualifications than the teams they played against at the World Cup itself."
   ]
  },
  {
   "cell_type": "markdown",
   "metadata": {},
   "source": [
    "# Question 2: Compare average score for neutral vs. non-neutral games"
   ]
  },
  {
   "cell_type": "markdown",
   "metadata": {},
   "source": [
    "In this dataset, a value of True for the neutral column implies that the game was in a neural venue i.e. the game was played in a stadium that was not the home ground for either team."
   ]
  },
  {
   "cell_type": "code",
   "execution_count": 18,
   "metadata": {},
   "outputs": [],
   "source": [
    "avg_comparison_neutral = final_df.groupby('neutral')['game_score'].mean()"
   ]
  },
  {
   "cell_type": "code",
   "execution_count": 19,
   "metadata": {},
   "outputs": [
    {
     "data": {
      "text/plain": [
       "neutral\n",
       "False    2.901989\n",
       "True     2.854481\n",
       "Name: game_score, dtype: float64"
      ]
     },
     "execution_count": 19,
     "metadata": {},
     "output_type": "execute_result"
    }
   ],
   "source": [
    "avg_comparison_neutral"
   ]
  },
  {
   "cell_type": "code",
   "execution_count": 20,
   "metadata": {},
   "outputs": [
    {
     "data": {
      "image/png": "[encoded data removed]",
      "text/plain": [
       "<Figure size 432x288 with 1 Axes>"
      ]
     },
     "metadata": {
      "needs_background": "light"
     },
     "output_type": "display_data"
    }
   ],
   "source": [
    "sns.barplot(avg_comparison_neutral.index, avg_comparison_neutral);"
   ]
  },
  {
   "cell_type": "markdown",
   "metadata": {},
   "source": [
    "Our initial hypothesis was that games at non-neutral venues might have higher scores because on the teams might have a home ground advantage and playing in a faimiliar venue might have an impact on performance. The data does show that non-neutral venues have higher average scores but it is hard to say if this difference is statistically significant or due to random chance."
   ]
  },
  {
   "cell_type": "markdown",
   "metadata": {},
   "source": [
    "# Question 3: Explore the average score trend over time"
   ]
  },
  {
   "cell_type": "code",
   "execution_count": 21,
   "metadata": {},
   "outputs": [],
   "source": [
    "# We decided to ecplore this trend on a yearly basis and so calculated the average score for each year.\n",
    "final_df['year'] = final_df['date'].dt.year"
   ]
  },
  {
   "cell_type": "code",
   "execution_count": 22,
   "metadata": {},
   "outputs": [],
   "source": [
    "year_analysis = final_df.groupby('year')['game_score'].mean()"
   ]
  },
  {
   "cell_type": "code",
   "execution_count": 23,
   "metadata": {},
   "outputs": [
    {
     "data": {
      "image/png": "[encoded data removed]",
      "text/plain": [
       "<Figure size 432x288 with 1 Axes>"
      ]
     },
     "metadata": {
      "needs_background": "light"
     },
     "output_type": "display_data"
    }
   ],
   "source": [
    "sns.lineplot(year_analysis.index, year_analysis);"
   ]
  },
  {
   "cell_type": "markdown",
   "metadata": {},
   "source": [
    "From this lineplot, we can determine that the average game scores were higher up to the 1960s. We can infer that in the 1950s there could of been few teams that dominated the FIFA worldcup and thus had very high scores. However, as time pass there is a down trend. This downtrend could of been caused due to the teams improving. More resources and money have been put into FIFA and the sports which causes an increase in stronger teams.\n",
    "\n",
    "In the future, it would also be interesting to explore the spike at 1956."
   ]
  },
  {
   "cell_type": "markdown",
   "metadata": {},
   "source": [
    "# Question 4: Which country has won the most number of wins?"
   ]
  },
  {
   "cell_type": "code",
   "execution_count": 24,
   "metadata": {},
   "outputs": [],
   "source": [
    "# We created a new column called winner to display the winner of each game.\n",
    "final_df['winner'] = np.where((final_df.home_score > final_df.away_score), final_df.home_team, final_df.away_team)"
   ]
  },
  {
   "cell_type": "code",
   "execution_count": 25,
   "metadata": {},
   "outputs": [],
   "source": [
    "# We grouped by winner to find how many times each country one.\n",
    "winner_counts = final_df['winner'].value_counts()"
   ]
  },
  {
   "cell_type": "code",
   "execution_count": 26,
   "metadata": {},
   "outputs": [],
   "source": [
    "# Filtered the top 10.\n",
    "winner_counts_10 = winner_counts.head(10)"
   ]
  },
  {
   "cell_type": "code",
   "execution_count": 27,
   "metadata": {},
   "outputs": [
    {
     "data": {
      "image/png": "[encoded data removed]",
      "text/plain": [
       "<Figure size 432x288 with 1 Axes>"
      ]
     },
     "metadata": {
      "needs_background": "light"
     },
     "output_type": "display_data"
    }
   ],
   "source": [
    "sns.barplot(y = winner_counts_10.index, x = winner_counts_10);"
   ]
  },
  {
   "cell_type": "markdown",
   "metadata": {},
   "source": [
    "From this barplot, we can determine that Brazil has the most number of wins with Germany in the second.\n",
    "\n",
    "Disclaimer: In FIFA, the same countries do not necessarily participate through the years so there might be some biases when we only take into account the counts.."
   ]
  },
  {
   "cell_type": "markdown",
   "metadata": {},
   "source": [
    "# Question 5: Check if teams with a certain jersey color has higher average scores than other colors. In accordance with our initial hypothesis, we will focus on the color red.\n"
   ]
  },
  {
   "cell_type": "markdown",
   "metadata": {},
   "source": [
    "In soccer, each team has both a home jersey and away jersey. If the away team's home jersey color is considered similar to that of the home team, they will be asked to wear their away jersey instead. As a result, it becomes difficult to know exactly what color the winner was wearing.\n",
    "\n",
    "As a proxy, we decided to look at the average home_score for each team and then group by jersey color. Since the home team nearly always wears the home jersey, their home_score can be used as our metric for comparison."
   ]
  },
  {
   "cell_type": "code",
   "execution_count": 28,
   "metadata": {},
   "outputs": [],
   "source": [
    "team_means = final_df.groupby('home_team').agg({'home_score':np.mean, 'home_jersey':max})"
   ]
  },
  {
   "cell_type": "code",
   "execution_count": 29,
   "metadata": {},
   "outputs": [
    {
     "data": {
      "text/html": [
       "<div>\n",
       "<style scoped>\n",
       "    .dataframe tbody tr th:only-of-type {\n",
       "        vertical-align: middle;\n",
       "    }\n",
       "\n",
       "    .dataframe tbody tr th {\n",
       "        vertical-align: top;\n",
       "    }\n",
       "\n",
       "    .dataframe thead th {\n",
       "        text-align: right;\n",
       "    }\n",
       "</style>\n",
       "<table border=\"1\" class=\"dataframe\">\n",
       "  <thead>\n",
       "    <tr style=\"text-align: right;\">\n",
       "      <th></th>\n",
       "      <th>home_score</th>\n",
       "      <th>home_jersey</th>\n",
       "    </tr>\n",
       "    <tr>\n",
       "      <th>home_team</th>\n",
       "      <th></th>\n",
       "      <th></th>\n",
       "    </tr>\n",
       "  </thead>\n",
       "  <tbody>\n",
       "    <tr>\n",
       "      <th>Australia</th>\n",
       "      <td>3.388889</td>\n",
       "      <td>Yellow</td>\n",
       "    </tr>\n",
       "    <tr>\n",
       "      <th>New Zealand</th>\n",
       "      <td>3.333333</td>\n",
       "      <td>White</td>\n",
       "    </tr>\n",
       "    <tr>\n",
       "      <th>Syria</th>\n",
       "      <td>2.695652</td>\n",
       "      <td>Red</td>\n",
       "    </tr>\n",
       "    <tr>\n",
       "      <th>Mexico</th>\n",
       "      <td>2.630252</td>\n",
       "      <td>Green</td>\n",
       "    </tr>\n",
       "    <tr>\n",
       "      <th>China PR</th>\n",
       "      <td>2.555556</td>\n",
       "      <td>Red</td>\n",
       "    </tr>\n",
       "    <tr>\n",
       "      <th>Spain</th>\n",
       "      <td>2.544444</td>\n",
       "      <td>Red</td>\n",
       "    </tr>\n",
       "    <tr>\n",
       "      <th>Germany</th>\n",
       "      <td>2.539062</td>\n",
       "      <td>White</td>\n",
       "    </tr>\n",
       "    <tr>\n",
       "      <th>Netherlands</th>\n",
       "      <td>2.531250</td>\n",
       "      <td>Orange</td>\n",
       "    </tr>\n",
       "    <tr>\n",
       "      <th>Japan</th>\n",
       "      <td>2.407895</td>\n",
       "      <td>Blue</td>\n",
       "    </tr>\n",
       "    <tr>\n",
       "      <th>Egypt</th>\n",
       "      <td>2.400000</td>\n",
       "      <td>Red</td>\n",
       "    </tr>\n",
       "    <tr>\n",
       "      <th>Kuwait</th>\n",
       "      <td>2.391304</td>\n",
       "      <td>Blue</td>\n",
       "    </tr>\n",
       "    <tr>\n",
       "      <th>Iraq</th>\n",
       "      <td>2.370968</td>\n",
       "      <td>Green</td>\n",
       "    </tr>\n",
       "    <tr>\n",
       "      <th>Brazil</th>\n",
       "      <td>2.363636</td>\n",
       "      <td>Yellow</td>\n",
       "    </tr>\n",
       "    <tr>\n",
       "      <th>Ivory Coast</th>\n",
       "      <td>2.355556</td>\n",
       "      <td>Orange</td>\n",
       "    </tr>\n",
       "    <tr>\n",
       "      <th>Uzbekistan</th>\n",
       "      <td>2.352941</td>\n",
       "      <td>Blue</td>\n",
       "    </tr>\n",
       "    <tr>\n",
       "      <th>Hungary</th>\n",
       "      <td>2.341772</td>\n",
       "      <td>Red</td>\n",
       "    </tr>\n",
       "    <tr>\n",
       "      <th>Czechoslovakia</th>\n",
       "      <td>2.333333</td>\n",
       "      <td>Red</td>\n",
       "    </tr>\n",
       "    <tr>\n",
       "      <th>Belgium</th>\n",
       "      <td>2.309278</td>\n",
       "      <td>Red</td>\n",
       "    </tr>\n",
       "    <tr>\n",
       "      <th>Portugal</th>\n",
       "      <td>2.270588</td>\n",
       "      <td>Red</td>\n",
       "    </tr>\n",
       "    <tr>\n",
       "      <th>Russia</th>\n",
       "      <td>2.269231</td>\n",
       "      <td>Red</td>\n",
       "    </tr>\n",
       "  </tbody>\n",
       "</table>\n",
       "</div>"
      ],
      "text/plain": [
       "                home_score home_jersey\n",
       "home_team                             \n",
       "Australia         3.388889      Yellow\n",
       "New Zealand       3.333333       White\n",
       "Syria             2.695652         Red\n",
       "Mexico            2.630252       Green\n",
       "China PR          2.555556         Red\n",
       "Spain             2.544444         Red\n",
       "Germany           2.539062       White\n",
       "Netherlands       2.531250      Orange\n",
       "Japan             2.407895        Blue\n",
       "Egypt             2.400000         Red\n",
       "Kuwait            2.391304        Blue\n",
       "Iraq              2.370968       Green\n",
       "Brazil            2.363636      Yellow\n",
       "Ivory Coast       2.355556      Orange\n",
       "Uzbekistan        2.352941        Blue\n",
       "Hungary           2.341772         Red\n",
       "Czechoslovakia    2.333333         Red\n",
       "Belgium           2.309278         Red\n",
       "Portugal          2.270588         Red\n",
       "Russia            2.269231         Red"
      ]
     },
     "execution_count": 29,
     "metadata": {},
     "output_type": "execute_result"
    }
   ],
   "source": [
    "team_means.sort_values(by = 'home_score', ascending = False).head(20)"
   ]
  },
  {
   "cell_type": "markdown",
   "metadata": {},
   "source": [
    "This new metric is not a perfect substitute for the number of games won as the teams with the highest average home_scores are not necessarily those with the highest wins. But a lot of the teams in the top ten as seen in earlier analysis appear in the top 20 of this analysis so we believe it is an acceptable substitute.\n",
    "\n",
    "Additionally, we decided to group by team and find average home score and then compute the average of the average by home jersey color. An alternative approach was to simply group by the home jersey color to obtain a game level average but both methods produced similar results so we decided to first compute team level averages.\n",
    "\n"
   ]
  },
  {
   "cell_type": "code",
   "execution_count": 30,
   "metadata": {},
   "outputs": [
    {
     "data": {
      "text/plain": [
       "home_jersey\n",
       "Black           1.923077\n",
       "Blue            1.686253\n",
       "Blue + White    1.962687\n",
       "Green           1.945136\n",
       "Orange          2.443403\n",
       "Red             1.825375\n",
       "White           1.984397\n",
       "Yellow          1.857157\n",
       "Name: home_score, dtype: float64"
      ]
     },
     "execution_count": 30,
     "metadata": {},
     "output_type": "execute_result"
    }
   ],
   "source": [
    "jersey_avg = team_means.groupby('home_jersey')['home_score'].mean()\n",
    "jersey_avg"
   ]
  },
  {
   "cell_type": "code",
   "execution_count": 31,
   "metadata": {},
   "outputs": [
    {
     "data": {
      "image/png": "[encoded data removed]",
      "text/plain": [
       "<Figure size 432x288 with 1 Axes>"
      ]
     },
     "metadata": {
      "needs_background": "light"
     },
     "output_type": "display_data"
    }
   ],
   "source": [
    "sns.barplot(y=jersey_avg.index, x= jersey_avg, palette = ['black', 'blue', 'C0', 'green', 'orange', 'red', 'C17', 'yellow']);\n"
   ]
  },
  {
   "cell_type": "markdown",
   "metadata": {},
   "source": [
    "These averages seem to contradict our initial hypothesis. It is evident that teams with red jerseys don't really seem to be scoring any higher than those of other colors. However after seeing the scores, we noticed that teams with orange jerseys in general scored higher. We then found out that the color orange signifies spontaniety, energy, and passion. This could potentialy be because while red symbolizes aggression, perhaps orange which signifies energy and passion have more of an effect in a game like soccer."
   ]
  },
  {
   "cell_type": "markdown",
   "metadata": {},
   "source": [
    "## Revised Hypothesis"
   ]
  },
  {
   "cell_type": "code",
   "execution_count": 32,
   "metadata": {},
   "outputs": [
    {
     "data": {
      "text/html": [
       "<div>\n",
       "<style scoped>\n",
       "    .dataframe tbody tr th:only-of-type {\n",
       "        vertical-align: middle;\n",
       "    }\n",
       "\n",
       "    .dataframe tbody tr th {\n",
       "        vertical-align: top;\n",
       "    }\n",
       "\n",
       "    .dataframe thead th {\n",
       "        text-align: right;\n",
       "    }\n",
       "</style>\n",
       "<table border=\"1\" class=\"dataframe\">\n",
       "  <thead>\n",
       "    <tr style=\"text-align: right;\">\n",
       "      <th></th>\n",
       "      <th>date</th>\n",
       "      <th>home_team</th>\n",
       "      <th>away_team</th>\n",
       "      <th>home_score</th>\n",
       "      <th>away_score</th>\n",
       "      <th>tournament</th>\n",
       "      <th>neutral</th>\n",
       "      <th>home_jersey</th>\n",
       "      <th>away_jersey</th>\n",
       "      <th>home_jersey_bool</th>\n",
       "      <th>away_jersey_bool</th>\n",
       "      <th>game_score</th>\n",
       "      <th>year</th>\n",
       "      <th>winner</th>\n",
       "      <th>home_jersey_bool_orange</th>\n",
       "    </tr>\n",
       "  </thead>\n",
       "  <tbody>\n",
       "    <tr>\n",
       "      <th>0</th>\n",
       "      <td>1930-07-13</td>\n",
       "      <td>Belgium</td>\n",
       "      <td>United States</td>\n",
       "      <td>0</td>\n",
       "      <td>3</td>\n",
       "      <td>FIFA World Cup</td>\n",
       "      <td>True</td>\n",
       "      <td>Red</td>\n",
       "      <td>Black</td>\n",
       "      <td>1</td>\n",
       "      <td>0</td>\n",
       "      <td>3</td>\n",
       "      <td>1930</td>\n",
       "      <td>United States</td>\n",
       "      <td>0</td>\n",
       "    </tr>\n",
       "    <tr>\n",
       "      <th>1</th>\n",
       "      <td>1930-07-20</td>\n",
       "      <td>Belgium</td>\n",
       "      <td>Paraguay</td>\n",
       "      <td>0</td>\n",
       "      <td>1</td>\n",
       "      <td>FIFA World Cup</td>\n",
       "      <td>True</td>\n",
       "      <td>Red</td>\n",
       "      <td>Black</td>\n",
       "      <td>1</td>\n",
       "      <td>0</td>\n",
       "      <td>1</td>\n",
       "      <td>1930</td>\n",
       "      <td>Paraguay</td>\n",
       "      <td>0</td>\n",
       "    </tr>\n",
       "    <tr>\n",
       "      <th>2</th>\n",
       "      <td>1934-04-29</td>\n",
       "      <td>Belgium</td>\n",
       "      <td>Netherlands</td>\n",
       "      <td>2</td>\n",
       "      <td>4</td>\n",
       "      <td>FIFA World Cup qualification</td>\n",
       "      <td>False</td>\n",
       "      <td>Red</td>\n",
       "      <td>Black</td>\n",
       "      <td>1</td>\n",
       "      <td>0</td>\n",
       "      <td>6</td>\n",
       "      <td>1934</td>\n",
       "      <td>Netherlands</td>\n",
       "      <td>0</td>\n",
       "    </tr>\n",
       "    <tr>\n",
       "      <th>3</th>\n",
       "      <td>1934-05-27</td>\n",
       "      <td>Belgium</td>\n",
       "      <td>Germany</td>\n",
       "      <td>2</td>\n",
       "      <td>5</td>\n",
       "      <td>FIFA World Cup</td>\n",
       "      <td>True</td>\n",
       "      <td>Red</td>\n",
       "      <td>Black</td>\n",
       "      <td>1</td>\n",
       "      <td>0</td>\n",
       "      <td>7</td>\n",
       "      <td>1934</td>\n",
       "      <td>Germany</td>\n",
       "      <td>0</td>\n",
       "    </tr>\n",
       "    <tr>\n",
       "      <th>4</th>\n",
       "      <td>1938-04-03</td>\n",
       "      <td>Belgium</td>\n",
       "      <td>Netherlands</td>\n",
       "      <td>1</td>\n",
       "      <td>1</td>\n",
       "      <td>FIFA World Cup qualification</td>\n",
       "      <td>False</td>\n",
       "      <td>Red</td>\n",
       "      <td>Black</td>\n",
       "      <td>1</td>\n",
       "      <td>0</td>\n",
       "      <td>2</td>\n",
       "      <td>1938</td>\n",
       "      <td>Netherlands</td>\n",
       "      <td>0</td>\n",
       "    </tr>\n",
       "  </tbody>\n",
       "</table>\n",
       "</div>"
      ],
      "text/plain": [
       "        date home_team      away_team  home_score  away_score  \\\n",
       "0 1930-07-13   Belgium  United States           0           3   \n",
       "1 1930-07-20   Belgium       Paraguay           0           1   \n",
       "2 1934-04-29   Belgium    Netherlands           2           4   \n",
       "3 1934-05-27   Belgium        Germany           2           5   \n",
       "4 1938-04-03   Belgium    Netherlands           1           1   \n",
       "\n",
       "                     tournament  neutral home_jersey away_jersey  \\\n",
       "0                FIFA World Cup     True         Red       Black   \n",
       "1                FIFA World Cup     True         Red       Black   \n",
       "2  FIFA World Cup qualification    False         Red       Black   \n",
       "3                FIFA World Cup     True         Red       Black   \n",
       "4  FIFA World Cup qualification    False         Red       Black   \n",
       "\n",
       "   home_jersey_bool  away_jersey_bool  game_score  year         winner  \\\n",
       "0                 1                 0           3  1930  United States   \n",
       "1                 1                 0           1  1930       Paraguay   \n",
       "2                 1                 0           6  1934    Netherlands   \n",
       "3                 1                 0           7  1934        Germany   \n",
       "4                 1                 0           2  1938    Netherlands   \n",
       "\n",
       "   home_jersey_bool_orange  \n",
       "0                        0  \n",
       "1                        0  \n",
       "2                        0  \n",
       "3                        0  \n",
       "4                        0  "
      ]
     },
     "execution_count": 32,
     "metadata": {},
     "output_type": "execute_result"
    }
   ],
   "source": [
    "final_df['home_jersey_bool_orange'] = final_df['home_jersey'].apply(lambda x: 1 if x== 'Orange' else 0)\n",
    "final_df.head()"
   ]
  },
  {
   "cell_type": "code",
   "execution_count": 33,
   "metadata": {},
   "outputs": [
    {
     "data": {
      "text/plain": [
       "home_jersey_bool_orange\n",
       "0.0    1.838375\n",
       "1.0    2.443403\n",
       "Name: home_score, dtype: float64"
      ]
     },
     "execution_count": 33,
     "metadata": {},
     "output_type": "execute_result"
    }
   ],
   "source": [
    "df_2 = final_df.groupby('home_team')[['home_score', 'home_jersey_bool_orange']].mean()\n",
    "df_2.groupby('home_jersey_bool_orange')['home_score'].mean()"
   ]
  },
  {
   "cell_type": "markdown",
   "metadata": {},
   "source": [
    "These results indicate that teams with orange jerseys tend to score more on average than teams with other jersey colors. However, we do not know if this difference in means is statistically significant and we would have to perform a permutation test to check for statistical significance."
   ]
  },
  {
   "cell_type": "markdown",
   "metadata": {},
   "source": [
    "## Permutation Test"
   ]
  },
  {
   "cell_type": "markdown",
   "metadata": {},
   "source": [
    "Null Hypothesis: There is no difference on wins with teams who wear orange jerseys and those who don’t."
   ]
  },
  {
   "cell_type": "markdown",
   "metadata": {},
   "source": [
    "Alternative Hypothesis: The teams who wear orange jerseys have higher average scores than those who don’t."
   ]
  },
  {
   "cell_type": "markdown",
   "metadata": {},
   "source": [
    "To test our hypothesis, we chose a significance level of 5%. "
   ]
  },
  {
   "cell_type": "code",
   "execution_count": 41,
   "metadata": {},
   "outputs": [],
   "source": [
    "perm_df = df_2.reset_index()[['home_score', 'home_jersey_bool_orange']]"
   ]
  },
  {
   "cell_type": "code",
   "execution_count": 42,
   "metadata": {},
   "outputs": [
    {
     "data": {
      "text/html": [
       "<div>\n",
       "<style scoped>\n",
       "    .dataframe tbody tr th:only-of-type {\n",
       "        vertical-align: middle;\n",
       "    }\n",
       "\n",
       "    .dataframe tbody tr th {\n",
       "        vertical-align: top;\n",
       "    }\n",
       "\n",
       "    .dataframe thead th {\n",
       "        text-align: right;\n",
       "    }\n",
       "</style>\n",
       "<table border=\"1\" class=\"dataframe\">\n",
       "  <thead>\n",
       "    <tr style=\"text-align: right;\">\n",
       "      <th></th>\n",
       "      <th>home_score</th>\n",
       "    </tr>\n",
       "    <tr>\n",
       "      <th>home_jersey_bool_orange</th>\n",
       "      <th></th>\n",
       "    </tr>\n",
       "  </thead>\n",
       "  <tbody>\n",
       "    <tr>\n",
       "      <th>0.0</th>\n",
       "      <td>1.838375</td>\n",
       "    </tr>\n",
       "    <tr>\n",
       "      <th>1.0</th>\n",
       "      <td>2.443403</td>\n",
       "    </tr>\n",
       "  </tbody>\n",
       "</table>\n",
       "</div>"
      ],
      "text/plain": [
       "                         home_score\n",
       "home_jersey_bool_orange            \n",
       "0.0                        1.838375\n",
       "1.0                        2.443403"
      ]
     },
     "execution_count": 42,
     "metadata": {},
     "output_type": "execute_result"
    }
   ],
   "source": [
    "perm_df.groupby('home_jersey_bool_orange').mean()"
   ]
  },
  {
   "cell_type": "markdown",
   "metadata": {},
   "source": [
    "It seems like teams with an orange jersey have a higher average score than teams that do not wear an orange jersey. Now we are going to test if this difference is statistically significant."
   ]
  },
  {
   "cell_type": "code",
   "execution_count": 50,
   "metadata": {},
   "outputs": [],
   "source": [
    "test_stat = perm_df.groupby('home_jersey_bool_orange').mean().diff().abs().iloc[1]['home_score']"
   ]
  },
  {
   "cell_type": "code",
   "execution_count": 59,
   "metadata": {},
   "outputs": [],
   "source": [
    "obs = []\n",
    "for i in range(10000):\n",
    "    perm_df_2 = perm_df.assign(shuffled = perm_df['home_score'].sample(replace = False, frac = 1).reset_index(drop = True))\n",
    "    observed = perm_df_2.groupby('home_jersey_bool_orange')['shuffled'].mean().diff().abs().iloc[1]\n",
    "    obs.append(observed)\n",
    "\n"
   ]
  },
  {
   "cell_type": "code",
   "execution_count": 61,
   "metadata": {},
   "outputs": [
    {
     "data": {
      "text/plain": [
       "0.8828"
      ]
     },
     "execution_count": 61,
     "metadata": {},
     "output_type": "execute_result"
    }
   ],
   "source": [
    "(test_stat >= obs).mean()"
   ]
  },
  {
   "cell_type": "markdown",
   "metadata": {},
   "source": [
    "# Ethics & Privacy"
   ]
  },
  {
   "cell_type": "markdown",
   "metadata": {},
   "source": [
    "When formulating our question, we considered the ethical implications and whether our research will be harmful to others. Since our question simply deals with the outcome of games and the color of the jerseys, all the information is publicly available. Our information will be used in an unbiased manner and not used for nefarious purposes. \n",
    "\n",
    "In terms of biases, our data will not reflect personal preferences of teams and will not affect the outcome in any way.\n",
    "\n",
    "In terms of informed consent, we are not taking any information regarding the players without their consent. We are not dealing with any individual player data and thus will not be obtaining any personal data. Our question is going to be answered based on the data we collect and it is going to be done in an unbiased, safe manner. "
   ]
  },
  {
   "cell_type": "markdown",
   "metadata": {},
   "source": [
    "# Conclusion & Discussion"
   ]
  },
  {
   "cell_type": "markdown",
   "metadata": {},
   "source": [
    "In conclusion, our original hypothesis was altered due to the data from the EDA. However, even with our revised hypothesis, we found that the hypothesis is false because the difference is not statistically significant. Since we got a p value of 0.8828, which is greater than 0.05, we failed to reject the null hypothesis. Based on our p value, the teams with orange jerseys do not necessarily perform better than teams with other colour jerseys; the observed difference in scores is due to randomness. \n",
    "\n",
    "The limitation we faced was while creating our dataset as we were unable to find a dataset that had the jersey colors of every team. We then realized that there are different colors for home and away jerseys, as opposed to some sports such as wrestling that only have one color. This made it difficult to see which jersey each team was wearing. To account for this, we only looked at home scores as we knew the home team always wore their home jersey. Overall, soccer is a sport that comes with a lot of confounding variables such as home field advantages so it was hard to find non biased results."
   ]
  },
  {
   "cell_type": "markdown",
   "metadata": {},
   "source": [
    "# Team Contributions"
   ]
  },
  {
   "cell_type": "markdown",
   "metadata": {},
   "source": [
    "We all collaborated and attended every group meeting to discuss this project. Esha and Moksha worked on the coding part while Satomi and Sonika worked on the analysis and the writing aspect; therefore, there was a fair amount being distributed to each person."
   ]
  }
 ],
 "metadata": {
  "kernelspec": {
   "display_name": "Python 3",
   "language": "python",
   "name": "python3"
  },
  "language_info": {
   "codemirror_mode": {
    "name": "ipython",
    "version": 3
   },
   "file_extension": ".py",
   "mimetype": "text/x-python",
   "name": "python",
   "nbconvert_exporter": "python",
   "pygments_lexer": "ipython3",
   "version": "3.7.4"
  }
 },
 "nbformat": 4,
 "nbformat_minor": 2
}
