{
 "cells": [
  {
   "cell_type": "markdown",
   "id": "29d95814",
   "metadata": {},
   "source": [
    "# COGS 108 - Data Checkpoint    USE ORIGINAL DATSET TO CLEAN\n"
   ]
  },
  {
   "cell_type": "markdown",
   "id": "cfaf8054",
   "metadata": {},
   "source": [
    "# Permissions\n",
    "Place an X in the appropriate bracket below to specify if you would like your group's project to be made available to the public. (Note that student names will be included (but PIDs will be scraped from any groups who include their PIDs).\n",
    "\n",
    "- [X]YES - make available\n",
    "\n",
    "- NO - keep private"
   ]
  },
  {
   "cell_type": "markdown",
   "id": "055631e7",
   "metadata": {},
   "source": [
    "# Overview\n"
   ]
  },
  {
   "cell_type": "markdown",
   "id": "2dd4cca8-d803-4bf9-b3e8-3dfbb409a8e7",
   "metadata": {},
   "source": [
    "Our project's goal was to determine whether socioeconomic status or ethnicity is better predicted by the age at which an individual started using drugs in the United States. In order to do that, we used a decision tree classifier from Sci Kit learn. We found out that eventhough neither model was great at predicting what it was meant to, race had a better accuracy in predicting age (59%) than socioeconomic factor (35%)."
   ]
  },
  {
   "cell_type": "markdown",
   "id": "77db4cd4",
   "metadata": {},
   "source": [
    "# Names\n",
    "- Jacqueline Yuke \n",
    "- Parshva Jain\n",
    "- Jacob Ryan\n",
    "- Mehdi Bouassami\n",
    "- Rachel Doron\n",
    "- Lisa Zhou"
   ]
  },
  {
   "cell_type": "markdown",
   "id": "e3bd33a3",
   "metadata": {},
   "source": [
    "# Research Question\n"
   ]
  },
  {
   "cell_type": "markdown",
   "id": "63ac5118",
   "metadata": {},
   "source": [
    "Is socioeconomic status or ethnicity better predicted by the age at which an individual started using drugs in the United States?\n",
    "\n",
    "\n",
    "\n"
   ]
  },
  {
   "cell_type": "markdown",
   "id": "4f46c604",
   "metadata": {},
   "source": [
    "# Background & Prior Work\n"
   ]
  },
  {
   "cell_type": "markdown",
   "id": "9f303534",
   "metadata": {},
   "source": [
    "We are attempting to research whether socioeconomic status or ethnicity is better predicted from the age at which an individual started using drugs in the United States. In order to address this research question, we have gathered data looking at a person’s age of first use for a variety of drugs, along with that person's income and racial identity. (One thing to note is that in our examination of this research question, we did not include alcohol as a drug. Since alcohol consumption is socially accepted, as well as used in many religious settings, this could skew the age of drug use downwards (McCabbe, 2017)). We then hope to analyze the correlation between this age of first drug use and socioeconomic status, and age of first drug use and ethnicity to see which prediction is better. Some research has been done previously regarding the links between age of first drug use and socioeconomic status. \n",
    "Previous studies have found that the age that a person starts using drugs like Tobacco or hard drugs such as Marijuana can be a predictor of socioeconomic status. In a 2012 study examining substance use among young adults, they found that young adult use of Tobacco was associated with a lower socioeconomic status, whereas young adult use of drugs such as marijuana was associated with a higher socioeconomic status (Patrick, 2012). They point to accessibility as a reason for these patterns, for instance, those with a higher socioeconomic status are more likely to go to college where Marijuana use is encouraged and easily accessible, along with being more likely to afford the drug.\n",
    "While this and other studies examine the relationships between drug use and socioeconomic status, there is little to no research looking at the direct connection of age of drug use as a predictor of race. Yet, research has found that socioeconomic status is correlated with race due to social inequality (Williams, 2016). Therefore many of the attributes that are frequently associated with people with a lower socioeconomic status are also frequently associated with people within a ethnical minority as a result of racial and ethnic income inequality (American Psychology Association, 2017). Since previous research has pointed to age of drug use as a predictor of socioeconomic status, we wonder if this is actually a better predictor of one’s racial identity as there is correlation between the two (socioeconomic status and race).\n",
    " \n",
    "References:\n",
    "- 1 https://www.ncbi.nlm.nih.gov/pmc/articles/PMC3410945/\n",
    "Patrick, M. E., Wightman, P., Schoeni, R. F., & Schulenberg, J. E. (2012). Socioeconomic status and substance use among young adults: a comparison across constructs and drugs. Journal of studies on alcohol and drugs, 73(5), 772–782. https://doi.org/10.15288/jsad.2012.73.772\n",
    "- 2) https://www.ncbi.nlm.nih.gov/pmc/articles/PMC3786055/\n",
    "Karriker-Jaffe K. J. (2013). Neighborhood socioeconomic status and substance use by U.S. adults. Drug and alcohol dependence, 133(1), 212–221. https://doi.org/10.1016/j.drugalcdep.2013.04.033\n",
    "- 3) https://www.ncbi.nlm.nih.gov/pmc/articles/PMC2377408/\n",
    "McCabe, S. E., Morales, M., Cranford, J. A., Delva, J., McPherson, M. D., & Boyd, C. J. (2007). Race/ethnicity and gender differences in drug use and abuse among college students. Journal of ethnicity in substance abuse, 6(2), 75–95. https://doi.org/10.1300/J233v06n02_06\n",
    "- 4) https://www.apa.org/pi/ses/resources/publications/minorities\n",
    "American Psychological Association. (2017). Ethnic and racial minorities & socioeconomic status. American Psychological Association. Retrieved December 10, 2021, from https://www.apa.org/pi/ses/resources/publications/minorities#. \n",
    "- 5) https://www.ncbi.nlm.nih.gov/pmc/articles/PMC4817358/\n",
    "Williams, D. R., Priest, N., & Anderson, N. B. (2016). Understanding associations among race, socioeconomic status, and health: Patterns and prospects. Health psychology : official journal of the Division of Health Psychology, American Psychological Association, 35(4), 407–411. https://doi.org/10.1037/hea0000242\n",
    "\n",
    "\n"
   ]
  },
  {
   "cell_type": "markdown",
   "id": "463a8ff2",
   "metadata": {},
   "source": [
    "# Hypothesis"
   ]
  },
  {
   "cell_type": "markdown",
   "id": "695de1d5",
   "metadata": {},
   "source": [
    "We will divide the dataset in 2 for our experiment EDA. One consisting of columns that represent hard drugs and one with columns containing light drugs. More explanation about this is given later in this report.\n",
    "\n",
    "We predict that the age at which an individual started using hard drugs will predict the socioeconomic status of that person very well. Indeed, upper middle class teens and young adults are more likely to have access to hard drugs such as cocaine as they are expensive and very prevalant in universities as suggested by turnbridge magazine[1]. On the other hand, people on the lower hand of the socioeconomic ladder are more likely to grow up in an environment where substance use is prevalent and thus are more likely to start using cheap light drugs earlier than people of higher socieconomice status.\n",
    "\n",
    "Hence, we expect that people from higher socioeconmic status start using hard drugs earlier than people from lower socioeconomic status and that people from lower socioeconomic status start using light drugs earlier than people from higher socioeconomic status.\n",
    "\n",
    "We predict that the age at which an individual started using hard drugs will not predict the race of that person very well. Indeed, according to sunrisehouse, when we break down the population into races and see what proportion takes drugs, we see that the proportions are very close to each other [2]. We also think that the age at which a person starts taking drugs is heavily associated with levels of education and we cannot say that a certain race is more educated than another at all. \n",
    "\n",
    "Hence, our null hypothesis is \n",
    "H0: Age of first drug use will not be a better predictor of income than race \n",
    "\n",
    "and our alternative hypothesis is\n",
    "H1: Age of first drug use will be a better predictor of income than race.\n",
    "\n",
    "References:\n",
    "- 1) https://www.turnbridge.com/news-events/latest-articles/socioeconomic-status-and-drug-use/#\n",
    "\n",
    "- 2) https://sunrisehouse.com/addiction-demographics/different-races/"
   ]
  },
  {
   "cell_type": "markdown",
   "id": "d62a32d4",
   "metadata": {},
   "source": [
    "# Dataset(s)\n",
    "\n",
    "- Dataset Name: National Survey on Drug Use and Health (NSDUH16)\n",
    "\n",
    "- Link to the dataset: https://www.datafiles.samhsa.gov/sites/default/files/field-uploads-protected/studies/NSDUH-2016/NSDUH-2016-datasets/NSDUH-2016-DS0001/NSDUH-2016-DS0001-bundles-with-study-info/NSDUH-2016-DS0001-bndl-data-tsv.zip\n",
    "\n",
    "- Number of observations: 56897\n",
    "\n",
    "We are trying to see if the age at which a person started taking drugs can predict the socioeconomic status and/or race of that person. The dataset from NSDUH above tells us about when different people started taking different types of drugs at different ages, along with individuals’ respective incomes and race."
   ]
  },
  {
   "cell_type": "markdown",
   "id": "429266fa",
   "metadata": {},
   "source": [
    "# Setup"
   ]
  },
  {
   "cell_type": "code",
   "execution_count": 56,
   "id": "1cd5887d",
   "metadata": {},
   "outputs": [],
   "source": [
    "import numpy as np\n",
    "import pandas as pd\n",
    "import matplotlib.pyplot as plt\n",
    "import seaborn as sns\n",
    "from sklearn.model_selection import train_test_split\n",
    "from sklearn.metrics import precision_score, recall_score, accuracy_score\n",
    "from sklearn.tree import DecisionTreeClassifier\n",
    "### Check for most popular drugs\n",
    "###Do people who take light drugs automatically take light drugs"
   ]
  },
  {
   "cell_type": "markdown",
   "id": "c32d5f52",
   "metadata": {},
   "source": [
    "# Data Cleaning\n",
    "Steps to data cleaning:\n",
    "- 1) We select only the features we needed for our analysis. \n",
    "- 2) We rename the columns so they reflected the data more accurately. \n",
    "- 3) We replace values the original authors included as coding for different types of non represented values all to null values as they will not be helpful in our analysis.\n",
    "- 4) We look more closely at the dataset to see if there are any inconsistent data"
   ]
  },
  {
   "cell_type": "markdown",
   "id": "a5ba5ff8",
   "metadata": {},
   "source": [
    "1)"
   ]
  },
  {
   "cell_type": "code",
   "execution_count": 57,
   "id": "3882e17a",
   "metadata": {},
   "outputs": [
    {
     "name": "stderr",
     "output_type": "stream",
     "text": [
      "/Library/Frameworks/Python.framework/Versions/3.9/lib/python3.9/site-packages/IPython/core/interactiveshell.py:3169: DtypeWarning: Columns (2506) have mixed types.Specify dtype option on import or set low_memory=False.\n",
      "  has_raised = await self.run_ast_nodes(code_ast.body, cell_name,\n"
     ]
    }
   ],
   "source": [
    "#Here we read the data\n",
    "df = pd.read_csv('data.tsv', sep='\\t')\n",
    "#Here we keep the columns that we are interested in for efficiency purposes\n",
    "col2 = ['CIGTRY','SMKLSSTRY','CIGARTRY','MJAGE','COCAGE','CRKAGE','HERAGE','HALLUCAGE','LSDAGE','PCPAGE','ECSTMOAGE','NEWRACE2','INCOME','POVERTY3']\n",
    "df = df[col2]"
   ]
  },
  {
   "cell_type": "markdown",
   "id": "ab2bd83f",
   "metadata": {},
   "source": [
    "2)"
   ]
  },
  {
   "cell_type": "code",
   "execution_count": 58,
   "id": "d45f6d87",
   "metadata": {},
   "outputs": [],
   "source": [
    "#We rename the columns so that they make more sense for our research topic\n",
    "df = df.rename(columns={'CIGTRY': 'CIG_AGE', 'SMKLSSTRY': 'SMKLESS_AGE', 'CIGARTRY':'CIGAR_AGE','MJAGE': 'MJ_HASH_AGE', 'COCAGE': 'COKE_AGE', 'NEWRACE2':'RACE','CRKAGE': 'CRACK_AGE','HERAGE': 'HER_AGE', 'HALLUCAGE': 'HALLUC_AGE', 'LSDAGE': 'LSD_AGE','PCPAGE': 'PCP_AGE','ECSTMOAGE': 'ECST_AGE', 'POVERTY': 'POVERTY_LVL'})"
   ]
  },
  {
   "cell_type": "markdown",
   "id": "3f5a9fe5",
   "metadata": {},
   "source": [
    "3)"
   ]
  },
  {
   "cell_type": "code",
   "execution_count": 59,
   "id": "ce888372",
   "metadata": {},
   "outputs": [],
   "source": [
    "#Here, we replace the following values with nan. The following values are shortcuts for people who never took \n",
    "#drugs or didn't fill in the survey. Also, we are interested in ages, so values these values are outliers that\n",
    "#will make observations biased.\n",
    "df = df.replace([91, 991, 9991, 93, 993, 9993, 94, 994, 9994, 97, 997, 9997, 98, 998, 9998, 99,999, 9999, 985], np.nan)"
   ]
  },
  {
   "cell_type": "markdown",
   "id": "c7f10ea4",
   "metadata": {},
   "source": [
    "By looking at the dataset more closely, we see that the the type of the race table is Integers which is not really interesting.\n",
    "By looking at the website where we got our dataset, we understand that 1 represents white, 2 black, 3 Native American, 4 Pacific Islander, 5 Asian, 6 Multirace and 7 Hispanic.\n",
    "So, we replace the integers with the corresponding race as indicated in the dataset website for our EDA."
   ]
  },
  {
   "cell_type": "code",
   "execution_count": 60,
   "id": "db9a9d2b",
   "metadata": {},
   "outputs": [],
   "source": [
    "df['RACE'] = df['RACE'].replace({1:'White', 2: 'Black', 3: 'Native American', 4: 'Pacific Islander', 5: \n",
    "                                 'Asian', 6: 'Multirace', 7:'Hispanic'})"
   ]
  },
  {
   "cell_type": "code",
   "execution_count": 61,
   "id": "9650b75b",
   "metadata": {},
   "outputs": [],
   "source": [
    "df = df.replace(985, np.nan)\n"
   ]
  },
  {
   "cell_type": "code",
   "execution_count": 62,
   "id": "b8fb6357",
   "metadata": {},
   "outputs": [
    {
     "data": {
      "text/plain": [
       "CIG_AGE        float64\n",
       "SMKLESS_AGE    float64\n",
       "CIGAR_AGE      float64\n",
       "MJ_HASH_AGE    float64\n",
       "COKE_AGE       float64\n",
       "CRACK_AGE      float64\n",
       "HER_AGE        float64\n",
       "HALLUC_AGE     float64\n",
       "LSD_AGE        float64\n",
       "PCP_AGE        float64\n",
       "ECST_AGE       float64\n",
       "RACE            object\n",
       "INCOME         float64\n",
       "POVERTY3       float64\n",
       "dtype: object"
      ]
     },
     "execution_count": 62,
     "metadata": {},
     "output_type": "execute_result"
    }
   ],
   "source": [
    "df.dtypes"
   ]
  },
  {
   "cell_type": "markdown",
   "id": "d863811b",
   "metadata": {},
   "source": [
    "The dataset is now cleaner. Indeed, the types in each column is correct as you can see above."
   ]
  },
  {
   "cell_type": "markdown",
   "id": "2398cc45",
   "metadata": {},
   "source": [
    "Now, let's look at the age column as we will be using it a lot in this report.\n",
    "Let's start by seeing if we can make any observations about it"
   ]
  },
  {
   "cell_type": "code",
   "execution_count": 63,
   "id": "44cb00d0",
   "metadata": {},
   "outputs": [
    {
     "name": "stdout",
     "output_type": "stream",
     "text": [
      "CIG_AGE         61.0\n",
      "SMKLESS_AGE     78.0\n",
      "CIGAR_AGE       77.0\n",
      "MJ_HASH_AGE     78.0\n",
      "COKE_AGE        60.0\n",
      "CRACK_AGE       60.0\n",
      "HER_AGE         59.0\n",
      "HALLUC_AGE      69.0\n",
      "LSD_AGE         50.0\n",
      "PCP_AGE         51.0\n",
      "ECST_AGE        55.0\n",
      "RACE           White\n",
      "INCOME           4.0\n",
      "POVERTY3         3.0\n",
      "dtype: object\n",
      "__________\n",
      "CIG_AGE          1.0\n",
      "SMKLESS_AGE      1.0\n",
      "CIGAR_AGE        1.0\n",
      "MJ_HASH_AGE      1.0\n",
      "COKE_AGE         1.0\n",
      "CRACK_AGE        2.0\n",
      "HER_AGE          5.0\n",
      "HALLUC_AGE       1.0\n",
      "LSD_AGE          1.0\n",
      "PCP_AGE          1.0\n",
      "ECST_AGE         4.0\n",
      "RACE           Asian\n",
      "INCOME           1.0\n",
      "POVERTY3         1.0\n",
      "dtype: object\n"
     ]
    }
   ],
   "source": [
    "print(np.max(df))\n",
    "print(\"__________\")\n",
    "print(np.min(df))"
   ]
  },
  {
   "cell_type": "markdown",
   "id": "5b7d2e78",
   "metadata": {},
   "source": [
    "Above, we see that the max ages at which people took different drugs makes sense. However, for the minimum, we get unexpected values. Indeed, it is hard to believe that a 1 year old would take any drugs.\n",
    "So we will replace any age smaller than 8 to nan as we believe that the youngest age at which a person would take a drug is around 9 years old. So we choose 9 as the minimum age.\n",
    "\n",
    "Note: Here, we make the assumtption that the youngest age at which a person would take a drug is 9 years old which might be wrong. But we still use it as we think that it will not affect our analysis that much."
   ]
  },
  {
   "cell_type": "code",
   "execution_count": 64,
   "id": "6c4f7e7a",
   "metadata": {},
   "outputs": [
    {
     "name": "stdout",
     "output_type": "stream",
     "text": [
      "CIG_AGE          9.0\n",
      "SMKLESS_AGE      9.0\n",
      "CIGAR_AGE        9.0\n",
      "MJ_HASH_AGE      9.0\n",
      "COKE_AGE         9.0\n",
      "CRACK_AGE       11.0\n",
      "HER_AGE         10.0\n",
      "HALLUC_AGE       9.0\n",
      "LSD_AGE          9.0\n",
      "PCP_AGE          9.0\n",
      "ECST_AGE         9.0\n",
      "RACE           Asian\n",
      "INCOME           1.0\n",
      "POVERTY3         1.0\n",
      "dtype: object\n"
     ]
    }
   ],
   "source": [
    "#Here, we replace all ages smaller than 8 by nan\n",
    "df[[\"CIG_AGE\", \"SMKLESS_AGE\", \"CIGAR_AGE\", \"MJ_HASH_AGE\", \"COKE_AGE\", \"CRACK_AGE\", \"HER_AGE\", \"HALLUC_AGE\", \"LSD_AGE\",\n",
    "\"PCP_AGE\", \"ECST_AGE\"]] = df[[\"CIG_AGE\", \"SMKLESS_AGE\", \"CIGAR_AGE\", \"MJ_HASH_AGE\", \"COKE_AGE\", \"CRACK_AGE\", \"HER_AGE\", \"HALLUC_AGE\", \"LSD_AGE\", \n",
    "\"PCP_AGE\", \"ECST_AGE\"]].replace([1, 2, 3, 4, 5, 6, 7, 8], np.nan)\n",
    "print(np.min(df))"
   ]
  },
  {
   "cell_type": "markdown",
   "id": "1095551a",
   "metadata": {},
   "source": [
    "The ages in the dataset make more sense now, so we are ready to start the EDA"
   ]
  },
  {
   "cell_type": "markdown",
   "id": "9e481142",
   "metadata": {},
   "source": [
    "# Data Analysis & Results (EDA)"
   ]
  },
  {
   "cell_type": "markdown",
   "id": "0d8b5e22",
   "metadata": {},
   "source": [
    "In this project, we want to know how we can predict the income and the race of an individual based on the age he first started taking drugs. \n",
    "\n",
    "Hence, we will analyze the income, race and age columns in depth \n"
   ]
  },
  {
   "cell_type": "markdown",
   "id": "f7b6fb4b-e2d2-4a7b-8eaf-1d83664e29cd",
   "metadata": {},
   "source": [
    "### Null Value Analysis"
   ]
  },
  {
   "cell_type": "markdown",
   "id": "83949ebd-9d84-44ea-b125-929bb72a9abf",
   "metadata": {},
   "source": [
    "Since we have a lot of null values, it is important for us to take a look into where these nulls lie. Importantely, null values in our analysis mean that the person either has not done the drug at all, did not do the drug in the period of time being asked about, or refused to answer."
   ]
  },
  {
   "cell_type": "markdown",
   "id": "ab1c86a9-f45f-41dc-a450-16d7eaa7ace1",
   "metadata": {},
   "source": [
    "First, let's see what percentage of rows rows have atleast one null value."
   ]
  },
  {
   "cell_type": "code",
   "execution_count": 65,
   "id": "c4e2439d-cd65-4c10-8c96-cedad77e6bff",
   "metadata": {},
   "outputs": [
    {
     "data": {
      "text/plain": [
       "0.9992793996168515"
      ]
     },
     "execution_count": 65,
     "metadata": {},
     "output_type": "execute_result"
    }
   ],
   "source": [
    "df.isnull().any(axis=1).sum()/len(df)"
   ]
  },
  {
   "cell_type": "markdown",
   "id": "5af29c31-7086-4c60-b65c-20a4a39fb310",
   "metadata": {},
   "source": [
    "Unfortuntately, 99.9% of our rows have atleast one null value. This makes sense though, not many people will have tried every drug. So, let's look into what drug columns have the most null values."
   ]
  },
  {
   "cell_type": "code",
   "execution_count": 66,
   "id": "f6ec3003-b1e3-43da-aaf9-13aff0073349",
   "metadata": {},
   "outputs": [
    {
     "data": {
      "text/plain": [
       "<AxesSubplot:title={'center':'Proportion of Null Values in Column'}>"
      ]
     },
     "execution_count": 66,
     "metadata": {},
     "output_type": "execute_result"
    },
    {
     "data": {
      "image/png": "[encoded data removed]",
      "text/plain": [
       "<Figure size 432x288 with 1 Axes>"
      ]
     },
     "metadata": {
      "needs_background": "light"
     },
     "output_type": "display_data"
    }
   ],
   "source": [
    "fig, ax = plt.subplots()\n",
    "pd.DataFrame((df[['CIG_AGE', 'SMKLESS_AGE', 'CIGAR_AGE', 'MJ_HASH_AGE', 'COKE_AGE',\n",
    "       'CRACK_AGE', 'HER_AGE', 'HALLUC_AGE', 'LSD_AGE', 'PCP_AGE', 'ECST_AGE']].isnull().sum()/len(df)), columns = ['Percentage Null']).plot(kind='bar', ax=ax, legend=False, title='Proportion of Null Values in Column')"
   ]
  },
  {
   "cell_type": "markdown",
   "id": "9b2f1409-dfaf-437e-9560-06518c97263b",
   "metadata": {},
   "source": [
    "The columns with the highest amount of null values are the hardest drugs, like herion, PCP, and crack. These values make sense as not many people try the hardest drugs even if they do hard drugs."
   ]
  },
  {
   "cell_type": "markdown",
   "id": "33859e99-19cd-4415-8830-9e775d07af39",
   "metadata": {},
   "source": [
    "Now looking to our outcome columns, let's start with the proportion of each column missing by race."
   ]
  },
  {
   "cell_type": "code",
   "execution_count": 67,
   "id": "5a0c1a01-40cd-4492-8171-08b3e9753181",
   "metadata": {},
   "outputs": [
    {
     "data": {
      "text/html": [
       "<div>\n",
       "<style scoped>\n",
       "    .dataframe tbody tr th:only-of-type {\n",
       "        vertical-align: middle;\n",
       "    }\n",
       "\n",
       "    .dataframe tbody tr th {\n",
       "        vertical-align: top;\n",
       "    }\n",
       "\n",
       "    .dataframe thead th {\n",
       "        text-align: right;\n",
       "    }\n",
       "</style>\n",
       "<table border=\"1\" class=\"dataframe\">\n",
       "  <thead>\n",
       "    <tr style=\"text-align: right;\">\n",
       "      <th></th>\n",
       "      <th>CIG_AGE</th>\n",
       "      <th>SMKLESS_AGE</th>\n",
       "      <th>CIGAR_AGE</th>\n",
       "      <th>MJ_HASH_AGE</th>\n",
       "      <th>COKE_AGE</th>\n",
       "      <th>CRACK_AGE</th>\n",
       "      <th>HER_AGE</th>\n",
       "      <th>HALLUC_AGE</th>\n",
       "      <th>LSD_AGE</th>\n",
       "      <th>PCP_AGE</th>\n",
       "      <th>ECST_AGE</th>\n",
       "    </tr>\n",
       "    <tr>\n",
       "      <th>RACE</th>\n",
       "      <th></th>\n",
       "      <th></th>\n",
       "      <th></th>\n",
       "      <th></th>\n",
       "      <th></th>\n",
       "      <th></th>\n",
       "      <th></th>\n",
       "      <th></th>\n",
       "      <th></th>\n",
       "      <th></th>\n",
       "      <th></th>\n",
       "    </tr>\n",
       "  </thead>\n",
       "  <tbody>\n",
       "    <tr>\n",
       "      <th>Asian</th>\n",
       "      <td>0.727534</td>\n",
       "      <td>0.958556</td>\n",
       "      <td>0.875667</td>\n",
       "      <td>0.805499</td>\n",
       "      <td>0.963890</td>\n",
       "      <td>0.991793</td>\n",
       "      <td>0.995486</td>\n",
       "      <td>0.937628</td>\n",
       "      <td>0.975790</td>\n",
       "      <td>0.996307</td>\n",
       "      <td>0.953632</td>\n",
       "    </tr>\n",
       "    <tr>\n",
       "      <th>Black</th>\n",
       "      <td>0.641569</td>\n",
       "      <td>0.944794</td>\n",
       "      <td>0.794343</td>\n",
       "      <td>0.610686</td>\n",
       "      <td>0.945477</td>\n",
       "      <td>0.974993</td>\n",
       "      <td>0.990435</td>\n",
       "      <td>0.928532</td>\n",
       "      <td>0.980869</td>\n",
       "      <td>0.986062</td>\n",
       "      <td>0.952993</td>\n",
       "    </tr>\n",
       "    <tr>\n",
       "      <th>Hispanic</th>\n",
       "      <td>0.637479</td>\n",
       "      <td>0.928046</td>\n",
       "      <td>0.814077</td>\n",
       "      <td>0.688917</td>\n",
       "      <td>0.915284</td>\n",
       "      <td>0.985766</td>\n",
       "      <td>0.990380</td>\n",
       "      <td>0.908511</td>\n",
       "      <td>0.958084</td>\n",
       "      <td>0.990773</td>\n",
       "      <td>0.942967</td>\n",
       "    </tr>\n",
       "    <tr>\n",
       "      <th>Multirace</th>\n",
       "      <td>0.537559</td>\n",
       "      <td>0.839437</td>\n",
       "      <td>0.711268</td>\n",
       "      <td>0.530516</td>\n",
       "      <td>0.861972</td>\n",
       "      <td>0.964319</td>\n",
       "      <td>0.978873</td>\n",
       "      <td>0.821127</td>\n",
       "      <td>0.908451</td>\n",
       "      <td>0.980751</td>\n",
       "      <td>0.890141</td>\n",
       "    </tr>\n",
       "    <tr>\n",
       "      <th>Native American</th>\n",
       "      <td>0.419393</td>\n",
       "      <td>0.724299</td>\n",
       "      <td>0.752336</td>\n",
       "      <td>0.494159</td>\n",
       "      <td>0.864486</td>\n",
       "      <td>0.949766</td>\n",
       "      <td>0.975467</td>\n",
       "      <td>0.820093</td>\n",
       "      <td>0.919393</td>\n",
       "      <td>0.985981</td>\n",
       "      <td>0.925234</td>\n",
       "    </tr>\n",
       "    <tr>\n",
       "      <th>Pacific Islander</th>\n",
       "      <td>0.582759</td>\n",
       "      <td>0.858621</td>\n",
       "      <td>0.837931</td>\n",
       "      <td>0.579310</td>\n",
       "      <td>0.882759</td>\n",
       "      <td>0.979310</td>\n",
       "      <td>0.986207</td>\n",
       "      <td>0.862069</td>\n",
       "      <td>0.941379</td>\n",
       "      <td>0.979310</td>\n",
       "      <td>0.910345</td>\n",
       "    </tr>\n",
       "    <tr>\n",
       "      <th>White</th>\n",
       "      <td>0.462514</td>\n",
       "      <td>0.795689</td>\n",
       "      <td>0.665726</td>\n",
       "      <td>0.542118</td>\n",
       "      <td>0.859735</td>\n",
       "      <td>0.970130</td>\n",
       "      <td>0.979216</td>\n",
       "      <td>0.829300</td>\n",
       "      <td>0.893702</td>\n",
       "      <td>0.984204</td>\n",
       "      <td>0.913358</td>\n",
       "    </tr>\n",
       "  </tbody>\n",
       "</table>\n",
       "</div>"
      ],
      "text/plain": [
       "                   CIG_AGE  SMKLESS_AGE  CIGAR_AGE  MJ_HASH_AGE  COKE_AGE  \\\n",
       "RACE                                                                        \n",
       "Asian             0.727534     0.958556   0.875667     0.805499  0.963890   \n",
       "Black             0.641569     0.944794   0.794343     0.610686  0.945477   \n",
       "Hispanic          0.637479     0.928046   0.814077     0.688917  0.915284   \n",
       "Multirace         0.537559     0.839437   0.711268     0.530516  0.861972   \n",
       "Native American   0.419393     0.724299   0.752336     0.494159  0.864486   \n",
       "Pacific Islander  0.582759     0.858621   0.837931     0.579310  0.882759   \n",
       "White             0.462514     0.795689   0.665726     0.542118  0.859735   \n",
       "\n",
       "                  CRACK_AGE   HER_AGE  HALLUC_AGE   LSD_AGE   PCP_AGE  \\\n",
       "RACE                                                                    \n",
       "Asian              0.991793  0.995486    0.937628  0.975790  0.996307   \n",
       "Black              0.974993  0.990435    0.928532  0.980869  0.986062   \n",
       "Hispanic           0.985766  0.990380    0.908511  0.958084  0.990773   \n",
       "Multirace          0.964319  0.978873    0.821127  0.908451  0.980751   \n",
       "Native American    0.949766  0.975467    0.820093  0.919393  0.985981   \n",
       "Pacific Islander   0.979310  0.986207    0.862069  0.941379  0.979310   \n",
       "White              0.970130  0.979216    0.829300  0.893702  0.984204   \n",
       "\n",
       "                  ECST_AGE  \n",
       "RACE                        \n",
       "Asian             0.953632  \n",
       "Black             0.952993  \n",
       "Hispanic          0.942967  \n",
       "Multirace         0.890141  \n",
       "Native American   0.925234  \n",
       "Pacific Islander  0.910345  \n",
       "White             0.913358  "
      ]
     },
     "execution_count": 67,
     "metadata": {},
     "output_type": "execute_result"
    }
   ],
   "source": [
    "nul = df[['CIG_AGE', 'SMKLESS_AGE', 'CIGAR_AGE', 'MJ_HASH_AGE', 'COKE_AGE',\n",
    "       'CRACK_AGE', 'HER_AGE', 'HALLUC_AGE', 'LSD_AGE', 'PCP_AGE', 'ECST_AGE']].isnull()\n",
    "nul['RACE'] = df['RACE']\n",
    "nul.groupby('RACE').sum()/nul.groupby(\"RACE\").count()"
   ]
  },
  {
   "cell_type": "markdown",
   "id": "3c391fe1-ee8b-4373-bacb-6bd9f35ecb43",
   "metadata": {},
   "source": [
    "There's a lot to take in here. For the majority of the drugs, there's about the same percentages of nulls per drug per race. For MJ_HASH, Asian people did not use the drug at higher rates than everyone else. Any difference for null percentages across race and columns does not seem problematic; in fact, it appears it will help our analysis by delineating between races in the model's eyes."
   ]
  },
  {
   "cell_type": "markdown",
   "id": "c9c52850-4fb6-45d1-af5a-3ef33b54e0f1",
   "metadata": {},
   "source": [
    "Now let's do the same for income."
   ]
  },
  {
   "cell_type": "code",
   "execution_count": 68,
   "id": "aeea86c5-0b66-4781-a5ed-52a8b2e8201f",
   "metadata": {},
   "outputs": [
    {
     "data": {
      "text/html": [
       "<div>\n",
       "<style scoped>\n",
       "    .dataframe tbody tr th:only-of-type {\n",
       "        vertical-align: middle;\n",
       "    }\n",
       "\n",
       "    .dataframe tbody tr th {\n",
       "        vertical-align: top;\n",
       "    }\n",
       "\n",
       "    .dataframe thead th {\n",
       "        text-align: right;\n",
       "    }\n",
       "</style>\n",
       "<table border=\"1\" class=\"dataframe\">\n",
       "  <thead>\n",
       "    <tr style=\"text-align: right;\">\n",
       "      <th></th>\n",
       "      <th>CIG_AGE</th>\n",
       "      <th>SMKLESS_AGE</th>\n",
       "      <th>CIGAR_AGE</th>\n",
       "      <th>MJ_HASH_AGE</th>\n",
       "      <th>COKE_AGE</th>\n",
       "      <th>CRACK_AGE</th>\n",
       "      <th>HER_AGE</th>\n",
       "      <th>HALLUC_AGE</th>\n",
       "      <th>LSD_AGE</th>\n",
       "      <th>PCP_AGE</th>\n",
       "      <th>ECST_AGE</th>\n",
       "    </tr>\n",
       "    <tr>\n",
       "      <th>INCOME</th>\n",
       "      <th></th>\n",
       "      <th></th>\n",
       "      <th></th>\n",
       "      <th></th>\n",
       "      <th></th>\n",
       "      <th></th>\n",
       "      <th></th>\n",
       "      <th></th>\n",
       "      <th></th>\n",
       "      <th></th>\n",
       "      <th></th>\n",
       "    </tr>\n",
       "  </thead>\n",
       "  <tbody>\n",
       "    <tr>\n",
       "      <th>1.0</th>\n",
       "      <td>0.529375</td>\n",
       "      <td>0.875577</td>\n",
       "      <td>0.753727</td>\n",
       "      <td>0.578452</td>\n",
       "      <td>0.878328</td>\n",
       "      <td>0.960685</td>\n",
       "      <td>0.973820</td>\n",
       "      <td>0.855431</td>\n",
       "      <td>0.920128</td>\n",
       "      <td>0.983316</td>\n",
       "      <td>0.917998</td>\n",
       "    </tr>\n",
       "    <tr>\n",
       "      <th>2.0</th>\n",
       "      <td>0.517153</td>\n",
       "      <td>0.850430</td>\n",
       "      <td>0.741139</td>\n",
       "      <td>0.589976</td>\n",
       "      <td>0.881265</td>\n",
       "      <td>0.969676</td>\n",
       "      <td>0.980372</td>\n",
       "      <td>0.858963</td>\n",
       "      <td>0.920066</td>\n",
       "      <td>0.984810</td>\n",
       "      <td>0.918018</td>\n",
       "    </tr>\n",
       "    <tr>\n",
       "      <th>3.0</th>\n",
       "      <td>0.516826</td>\n",
       "      <td>0.836568</td>\n",
       "      <td>0.715287</td>\n",
       "      <td>0.583898</td>\n",
       "      <td>0.883197</td>\n",
       "      <td>0.977375</td>\n",
       "      <td>0.985759</td>\n",
       "      <td>0.859309</td>\n",
       "      <td>0.919490</td>\n",
       "      <td>0.988056</td>\n",
       "      <td>0.927300</td>\n",
       "    </tr>\n",
       "    <tr>\n",
       "      <th>4.0</th>\n",
       "      <td>0.550892</td>\n",
       "      <td>0.830240</td>\n",
       "      <td>0.688292</td>\n",
       "      <td>0.592246</td>\n",
       "      <td>0.894391</td>\n",
       "      <td>0.984182</td>\n",
       "      <td>0.990437</td>\n",
       "      <td>0.865702</td>\n",
       "      <td>0.923443</td>\n",
       "      <td>0.987749</td>\n",
       "      <td>0.933730</td>\n",
       "    </tr>\n",
       "  </tbody>\n",
       "</table>\n",
       "</div>"
      ],
      "text/plain": [
       "         CIG_AGE  SMKLESS_AGE  CIGAR_AGE  MJ_HASH_AGE  COKE_AGE  CRACK_AGE  \\\n",
       "INCOME                                                                       \n",
       "1.0     0.529375     0.875577   0.753727     0.578452  0.878328   0.960685   \n",
       "2.0     0.517153     0.850430   0.741139     0.589976  0.881265   0.969676   \n",
       "3.0     0.516826     0.836568   0.715287     0.583898  0.883197   0.977375   \n",
       "4.0     0.550892     0.830240   0.688292     0.592246  0.894391   0.984182   \n",
       "\n",
       "         HER_AGE  HALLUC_AGE   LSD_AGE   PCP_AGE  ECST_AGE  \n",
       "INCOME                                                      \n",
       "1.0     0.973820    0.855431  0.920128  0.983316  0.917998  \n",
       "2.0     0.980372    0.858963  0.920066  0.984810  0.918018  \n",
       "3.0     0.985759    0.859309  0.919490  0.988056  0.927300  \n",
       "4.0     0.990437    0.865702  0.923443  0.987749  0.933730  "
      ]
     },
     "execution_count": 68,
     "metadata": {},
     "output_type": "execute_result"
    }
   ],
   "source": [
    "nul = df[['CIG_AGE', 'SMKLESS_AGE', 'CIGAR_AGE', 'MJ_HASH_AGE', 'COKE_AGE',\n",
    "       'CRACK_AGE', 'HER_AGE', 'HALLUC_AGE', 'LSD_AGE', 'PCP_AGE', 'ECST_AGE']].isnull()\n",
    "nul['INCOME'] = df['INCOME']\n",
    "nul.groupby('INCOME').sum()/nul.groupby(\"INCOME\").count()"
   ]
  },
  {
   "cell_type": "markdown",
   "id": "7ac15107-162b-4f76-890a-e7f2f4c80e09",
   "metadata": {},
   "source": [
    "Similar to race, the percentages of null values across incomes and drugs is pretty consistent. This will likely make the delineation between these incomes a bit harder in the model's eyes."
   ]
  },
  {
   "cell_type": "markdown",
   "id": "153c1cbe",
   "metadata": {},
   "source": [
    "### Variables' Distributions and Oultiers"
   ]
  },
  {
   "cell_type": "markdown",
   "id": "83978392",
   "metadata": {},
   "source": [
    "##### Income"
   ]
  },
  {
   "cell_type": "markdown",
   "id": "c889a865",
   "metadata": {},
   "source": [
    "Let's look at the number of people in each income category. Note that 1 is the lowest income category and 4 is the highest. (Income 1 is less than 20k. Income 2 is 20k to less than 50k. Income 3 is 50k to less than 75k. Income 4 is 75k and up.)"
   ]
  },
  {
   "cell_type": "code",
   "execution_count": 69,
   "id": "9576ce02",
   "metadata": {},
   "outputs": [
    {
     "data": {
      "text/plain": [
       "Text(0.5, 1.0, 'Number of People in Each Income Category')"
      ]
     },
     "execution_count": 69,
     "metadata": {},
     "output_type": "execute_result"
    },
    {
     "data": {
      "image/png": "[encoded data removed]",
      "text/plain": [
       "<Figure size 432x288 with 1 Axes>"
      ]
     },
     "metadata": {
      "needs_background": "light"
     },
     "output_type": "display_data"
    }
   ],
   "source": [
    "sns.countplot(x = df['INCOME']).set_title(\"Number of People in Each Income Category\")"
   ]
  },
  {
   "cell_type": "markdown",
   "id": "017dca1c",
   "metadata": {},
   "source": [
    "We see that the majority of people are in the 4th category (19,000) which represents people who have incomes of 75k and up. There are also a lot of people in category 2 (17,500). Categories 1 and 3 contain the least amount of people as can be seen in the graph above. "
   ]
  },
  {
   "cell_type": "markdown",
   "id": "713fb081",
   "metadata": {},
   "source": [
    "Let's now see if there are any outliers in the income column:"
   ]
  },
  {
   "cell_type": "code",
   "execution_count": 70,
   "id": "72345a8a",
   "metadata": {},
   "outputs": [
    {
     "data": {
      "text/plain": [
       "4.0    19345\n",
       "2.0    17577\n",
       "1.0    11268\n",
       "3.0     8707\n",
       "Name: INCOME, dtype: int64"
      ]
     },
     "execution_count": 70,
     "metadata": {},
     "output_type": "execute_result"
    }
   ],
   "source": [
    "df[\"INCOME\"].value_counts()"
   ]
  },
  {
   "cell_type": "markdown",
   "id": "559d3b2c",
   "metadata": {},
   "source": [
    "As we can see above, the column doesn't contain any outlier."
   ]
  },
  {
   "cell_type": "markdown",
   "id": "bef05c3a",
   "metadata": {},
   "source": [
    "##### Race"
   ]
  },
  {
   "cell_type": "markdown",
   "id": "f80cd7b0",
   "metadata": {},
   "source": [
    "Let's now look at the distribution of the Race column and see how many people belong to each race category"
   ]
  },
  {
   "cell_type": "code",
   "execution_count": 71,
   "id": "ea9f8dcc",
   "metadata": {},
   "outputs": [
    {
     "data": {
      "text/plain": [
       "Text(0.5, 1.0, 'Number of People in Each Race Category')"
      ]
     },
     "execution_count": 71,
     "metadata": {},
     "output_type": "execute_result"
    },
    {
     "data": {
      "image/png": "[encoded data removed]",
      "text/plain": [
       "<Figure size 432x288 with 1 Axes>"
      ]
     },
     "metadata": {
      "needs_background": "light"
     },
     "output_type": "display_data"
    }
   ],
   "source": [
    "sns.countplot(y = df['RACE']).set_title(\"Number of People in Each Race Category\")"
   ]
  },
  {
   "cell_type": "code",
   "execution_count": 72,
   "id": "a2c8217e",
   "metadata": {},
   "outputs": [
    {
     "data": {
      "text/plain": [
       "59.192927570873685"
      ]
     },
     "execution_count": 72,
     "metadata": {},
     "output_type": "execute_result"
    }
   ],
   "source": [
    "White_percent = (len(df[df[\"RACE\"] == \"White\"][\"RACE\"])/len(df[\"RACE\"]))*100\n",
    "White_percent\n",
    "#Here, we understand that 60% of the people in our dataset are white"
   ]
  },
  {
   "cell_type": "markdown",
   "id": "4c8de0e9",
   "metadata": {},
   "source": [
    "From the graph above, we see that the large majority of people in the dataset are white (34'000). The next race categories with the largest number of people are then Hispanic, Black, Asian, Multirace, Native American and Pacific Islander. It is important to note that we barely have any Pacific Islander and Native American people in the dataset as can be seen above. \n",
    "From the graph above, we understand that because people in our dataset are mainly white (60%), our predictior might be biased and not be that effective."
   ]
  },
  {
   "cell_type": "markdown",
   "id": "71287da5",
   "metadata": {},
   "source": [
    "Let's now check if there are any outliers in the race column"
   ]
  },
  {
   "cell_type": "code",
   "execution_count": 73,
   "id": "9295a0be",
   "metadata": {},
   "outputs": [
    {
     "data": {
      "text/plain": [
       "White               33679\n",
       "Hispanic            10187\n",
       "Black                7318\n",
       "Asian                2437\n",
       "Multirace            2130\n",
       "Native American       856\n",
       "Pacific Islander      290\n",
       "Name: RACE, dtype: int64"
      ]
     },
     "execution_count": 73,
     "metadata": {},
     "output_type": "execute_result"
    }
   ],
   "source": [
    "df[\"RACE\"].value_counts()"
   ]
  },
  {
   "cell_type": "markdown",
   "id": "b94e1f40",
   "metadata": {},
   "source": [
    "As we can see, all the values in the race column are what we expected so there are no outliers"
   ]
  },
  {
   "cell_type": "markdown",
   "id": "ebe1682f",
   "metadata": {},
   "source": [
    "##### Age"
   ]
  },
  {
   "cell_type": "markdown",
   "id": "729d6b6e",
   "metadata": {},
   "source": [
    "Before looking at the age column's distribution, we will add two columns to the table. One called Age_min_hard and one called Age_min_light representing the minimum age at which a person took hard drugs and the minimum age at which a person took light drugs respectively.\n",
    "\n",
    "Note: we will assume that light drugs consist of cigarettes, smokeless cigarettes and cigar and that hard drugs consist of marijuana, coke, crack, heroine, hallucinogens, lsd, pcp and ecstasy"
   ]
  },
  {
   "cell_type": "code",
   "execution_count": 74,
   "id": "77159d59",
   "metadata": {},
   "outputs": [
    {
     "data": {
      "text/html": [
       "<div>\n",
       "<style scoped>\n",
       "    .dataframe tbody tr th:only-of-type {\n",
       "        vertical-align: middle;\n",
       "    }\n",
       "\n",
       "    .dataframe tbody tr th {\n",
       "        vertical-align: top;\n",
       "    }\n",
       "\n",
       "    .dataframe thead th {\n",
       "        text-align: right;\n",
       "    }\n",
       "</style>\n",
       "<table border=\"1\" class=\"dataframe\">\n",
       "  <thead>\n",
       "    <tr style=\"text-align: right;\">\n",
       "      <th></th>\n",
       "      <th>CIG_AGE</th>\n",
       "      <th>SMKLESS_AGE</th>\n",
       "      <th>CIGAR_AGE</th>\n",
       "      <th>MJ_HASH_AGE</th>\n",
       "      <th>COKE_AGE</th>\n",
       "      <th>CRACK_AGE</th>\n",
       "      <th>HER_AGE</th>\n",
       "      <th>HALLUC_AGE</th>\n",
       "      <th>LSD_AGE</th>\n",
       "      <th>PCP_AGE</th>\n",
       "      <th>ECST_AGE</th>\n",
       "      <th>RACE</th>\n",
       "      <th>INCOME</th>\n",
       "      <th>POVERTY3</th>\n",
       "      <th>Age_min_hard</th>\n",
       "      <th>Age_min_light</th>\n",
       "    </tr>\n",
       "  </thead>\n",
       "  <tbody>\n",
       "    <tr>\n",
       "      <th>0</th>\n",
       "      <td>16.0</td>\n",
       "      <td>20.0</td>\n",
       "      <td>25.0</td>\n",
       "      <td>20.0</td>\n",
       "      <td>NaN</td>\n",
       "      <td>NaN</td>\n",
       "      <td>NaN</td>\n",
       "      <td>NaN</td>\n",
       "      <td>NaN</td>\n",
       "      <td>NaN</td>\n",
       "      <td>NaN</td>\n",
       "      <td>White</td>\n",
       "      <td>4.0</td>\n",
       "      <td>3.0</td>\n",
       "      <td>20.0</td>\n",
       "      <td>16.0</td>\n",
       "    </tr>\n",
       "    <tr>\n",
       "      <th>1</th>\n",
       "      <td>15.0</td>\n",
       "      <td>20.0</td>\n",
       "      <td>16.0</td>\n",
       "      <td>15.0</td>\n",
       "      <td>20.0</td>\n",
       "      <td>22.0</td>\n",
       "      <td>15.0</td>\n",
       "      <td>13.0</td>\n",
       "      <td>21.0</td>\n",
       "      <td>NaN</td>\n",
       "      <td>15.0</td>\n",
       "      <td>Hispanic</td>\n",
       "      <td>4.0</td>\n",
       "      <td>3.0</td>\n",
       "      <td>13.0</td>\n",
       "      <td>15.0</td>\n",
       "    </tr>\n",
       "    <tr>\n",
       "      <th>2</th>\n",
       "      <td>26.0</td>\n",
       "      <td>NaN</td>\n",
       "      <td>26.0</td>\n",
       "      <td>NaN</td>\n",
       "      <td>NaN</td>\n",
       "      <td>NaN</td>\n",
       "      <td>NaN</td>\n",
       "      <td>NaN</td>\n",
       "      <td>NaN</td>\n",
       "      <td>NaN</td>\n",
       "      <td>NaN</td>\n",
       "      <td>Hispanic</td>\n",
       "      <td>2.0</td>\n",
       "      <td>2.0</td>\n",
       "      <td>NaN</td>\n",
       "      <td>26.0</td>\n",
       "    </tr>\n",
       "    <tr>\n",
       "      <th>3</th>\n",
       "      <td>NaN</td>\n",
       "      <td>NaN</td>\n",
       "      <td>NaN</td>\n",
       "      <td>NaN</td>\n",
       "      <td>NaN</td>\n",
       "      <td>NaN</td>\n",
       "      <td>NaN</td>\n",
       "      <td>NaN</td>\n",
       "      <td>NaN</td>\n",
       "      <td>NaN</td>\n",
       "      <td>NaN</td>\n",
       "      <td>Hispanic</td>\n",
       "      <td>4.0</td>\n",
       "      <td>3.0</td>\n",
       "      <td>NaN</td>\n",
       "      <td>NaN</td>\n",
       "    </tr>\n",
       "    <tr>\n",
       "      <th>4</th>\n",
       "      <td>NaN</td>\n",
       "      <td>NaN</td>\n",
       "      <td>NaN</td>\n",
       "      <td>32.0</td>\n",
       "      <td>34.0</td>\n",
       "      <td>NaN</td>\n",
       "      <td>NaN</td>\n",
       "      <td>NaN</td>\n",
       "      <td>NaN</td>\n",
       "      <td>NaN</td>\n",
       "      <td>NaN</td>\n",
       "      <td>White</td>\n",
       "      <td>3.0</td>\n",
       "      <td>3.0</td>\n",
       "      <td>32.0</td>\n",
       "      <td>NaN</td>\n",
       "    </tr>\n",
       "    <tr>\n",
       "      <th>...</th>\n",
       "      <td>...</td>\n",
       "      <td>...</td>\n",
       "      <td>...</td>\n",
       "      <td>...</td>\n",
       "      <td>...</td>\n",
       "      <td>...</td>\n",
       "      <td>...</td>\n",
       "      <td>...</td>\n",
       "      <td>...</td>\n",
       "      <td>...</td>\n",
       "      <td>...</td>\n",
       "      <td>...</td>\n",
       "      <td>...</td>\n",
       "      <td>...</td>\n",
       "      <td>...</td>\n",
       "      <td>...</td>\n",
       "    </tr>\n",
       "    <tr>\n",
       "      <th>56892</th>\n",
       "      <td>NaN</td>\n",
       "      <td>NaN</td>\n",
       "      <td>NaN</td>\n",
       "      <td>NaN</td>\n",
       "      <td>NaN</td>\n",
       "      <td>NaN</td>\n",
       "      <td>NaN</td>\n",
       "      <td>NaN</td>\n",
       "      <td>NaN</td>\n",
       "      <td>NaN</td>\n",
       "      <td>NaN</td>\n",
       "      <td>Black</td>\n",
       "      <td>2.0</td>\n",
       "      <td>3.0</td>\n",
       "      <td>NaN</td>\n",
       "      <td>NaN</td>\n",
       "    </tr>\n",
       "    <tr>\n",
       "      <th>56893</th>\n",
       "      <td>15.0</td>\n",
       "      <td>NaN</td>\n",
       "      <td>14.0</td>\n",
       "      <td>14.0</td>\n",
       "      <td>NaN</td>\n",
       "      <td>NaN</td>\n",
       "      <td>NaN</td>\n",
       "      <td>17.0</td>\n",
       "      <td>21.0</td>\n",
       "      <td>NaN</td>\n",
       "      <td>19.0</td>\n",
       "      <td>Hispanic</td>\n",
       "      <td>4.0</td>\n",
       "      <td>3.0</td>\n",
       "      <td>14.0</td>\n",
       "      <td>14.0</td>\n",
       "    </tr>\n",
       "    <tr>\n",
       "      <th>56894</th>\n",
       "      <td>22.0</td>\n",
       "      <td>NaN</td>\n",
       "      <td>30.0</td>\n",
       "      <td>21.0</td>\n",
       "      <td>NaN</td>\n",
       "      <td>NaN</td>\n",
       "      <td>NaN</td>\n",
       "      <td>NaN</td>\n",
       "      <td>NaN</td>\n",
       "      <td>NaN</td>\n",
       "      <td>NaN</td>\n",
       "      <td>White</td>\n",
       "      <td>4.0</td>\n",
       "      <td>3.0</td>\n",
       "      <td>21.0</td>\n",
       "      <td>22.0</td>\n",
       "    </tr>\n",
       "    <tr>\n",
       "      <th>56895</th>\n",
       "      <td>NaN</td>\n",
       "      <td>NaN</td>\n",
       "      <td>NaN</td>\n",
       "      <td>NaN</td>\n",
       "      <td>NaN</td>\n",
       "      <td>NaN</td>\n",
       "      <td>NaN</td>\n",
       "      <td>NaN</td>\n",
       "      <td>NaN</td>\n",
       "      <td>NaN</td>\n",
       "      <td>NaN</td>\n",
       "      <td>White</td>\n",
       "      <td>4.0</td>\n",
       "      <td>3.0</td>\n",
       "      <td>NaN</td>\n",
       "      <td>NaN</td>\n",
       "    </tr>\n",
       "    <tr>\n",
       "      <th>56896</th>\n",
       "      <td>NaN</td>\n",
       "      <td>NaN</td>\n",
       "      <td>NaN</td>\n",
       "      <td>NaN</td>\n",
       "      <td>NaN</td>\n",
       "      <td>NaN</td>\n",
       "      <td>NaN</td>\n",
       "      <td>NaN</td>\n",
       "      <td>NaN</td>\n",
       "      <td>NaN</td>\n",
       "      <td>NaN</td>\n",
       "      <td>Hispanic</td>\n",
       "      <td>2.0</td>\n",
       "      <td>2.0</td>\n",
       "      <td>NaN</td>\n",
       "      <td>NaN</td>\n",
       "    </tr>\n",
       "  </tbody>\n",
       "</table>\n",
       "<p>56897 rows × 16 columns</p>\n",
       "</div>"
      ],
      "text/plain": [
       "       CIG_AGE  SMKLESS_AGE  CIGAR_AGE  MJ_HASH_AGE  COKE_AGE  CRACK_AGE  \\\n",
       "0         16.0         20.0       25.0         20.0       NaN        NaN   \n",
       "1         15.0         20.0       16.0         15.0      20.0       22.0   \n",
       "2         26.0          NaN       26.0          NaN       NaN        NaN   \n",
       "3          NaN          NaN        NaN          NaN       NaN        NaN   \n",
       "4          NaN          NaN        NaN         32.0      34.0        NaN   \n",
       "...        ...          ...        ...          ...       ...        ...   \n",
       "56892      NaN          NaN        NaN          NaN       NaN        NaN   \n",
       "56893     15.0          NaN       14.0         14.0       NaN        NaN   \n",
       "56894     22.0          NaN       30.0         21.0       NaN        NaN   \n",
       "56895      NaN          NaN        NaN          NaN       NaN        NaN   \n",
       "56896      NaN          NaN        NaN          NaN       NaN        NaN   \n",
       "\n",
       "       HER_AGE  HALLUC_AGE  LSD_AGE  PCP_AGE  ECST_AGE      RACE  INCOME  \\\n",
       "0          NaN         NaN      NaN      NaN       NaN     White     4.0   \n",
       "1         15.0        13.0     21.0      NaN      15.0  Hispanic     4.0   \n",
       "2          NaN         NaN      NaN      NaN       NaN  Hispanic     2.0   \n",
       "3          NaN         NaN      NaN      NaN       NaN  Hispanic     4.0   \n",
       "4          NaN         NaN      NaN      NaN       NaN     White     3.0   \n",
       "...        ...         ...      ...      ...       ...       ...     ...   \n",
       "56892      NaN         NaN      NaN      NaN       NaN     Black     2.0   \n",
       "56893      NaN        17.0     21.0      NaN      19.0  Hispanic     4.0   \n",
       "56894      NaN         NaN      NaN      NaN       NaN     White     4.0   \n",
       "56895      NaN         NaN      NaN      NaN       NaN     White     4.0   \n",
       "56896      NaN         NaN      NaN      NaN       NaN  Hispanic     2.0   \n",
       "\n",
       "       POVERTY3  Age_min_hard  Age_min_light  \n",
       "0           3.0          20.0           16.0  \n",
       "1           3.0          13.0           15.0  \n",
       "2           2.0           NaN           26.0  \n",
       "3           3.0           NaN            NaN  \n",
       "4           3.0          32.0            NaN  \n",
       "...         ...           ...            ...  \n",
       "56892       3.0           NaN            NaN  \n",
       "56893       3.0          14.0           14.0  \n",
       "56894       3.0          21.0           22.0  \n",
       "56895       3.0           NaN            NaN  \n",
       "56896       2.0           NaN            NaN  \n",
       "\n",
       "[56897 rows x 16 columns]"
      ]
     },
     "execution_count": 74,
     "metadata": {},
     "output_type": "execute_result"
    }
   ],
   "source": [
    "def hard(x):\n",
    "    return min(x[['MJ_HASH_AGE', 'COKE_AGE',\n",
    "    'CRACK_AGE', 'HER_AGE', 'HALLUC_AGE', 'LSD_AGE', 'PCP_AGE', 'ECST_AGE']])\n",
    "def light(x):\n",
    "    return min(x[['CIG_AGE', 'SMKLESS_AGE', 'CIGAR_AGE']])\n",
    "df['Age_min_hard'] = df.apply(hard, axis=1)\n",
    "df['Age_min_light'] = df.apply(light, axis=1)\n",
    "df"
   ]
  },
  {
   "cell_type": "markdown",
   "id": "04d1d1ee",
   "metadata": {},
   "source": [
    "Let's now look at the distribution of ages at which people started taking hard drugs"
   ]
  },
  {
   "cell_type": "code",
   "execution_count": 75,
   "id": "c4f97019",
   "metadata": {},
   "outputs": [
    {
     "data": {
      "text/plain": [
       "Text(0.5, 1.0, 'Distribution of Ages at which individuals first starting taking hard drugs')"
      ]
     },
     "execution_count": 75,
     "metadata": {},
     "output_type": "execute_result"
    },
    {
     "data": {
      "image/png": "[encoded data removed]",
      "text/plain": [
       "<Figure size 432x288 with 1 Axes>"
      ]
     },
     "metadata": {
      "needs_background": "light"
     },
     "output_type": "display_data"
    }
   ],
   "source": [
    "distr_age_hard = df[\"Age_min_hard\"].hist(bins=40, range=[9, 50])\n",
    "distr_age_hard.set_xlabel(\"Age\")\n",
    "distr_age_hard.set_ylabel(\"count\")\n",
    "distr_age_hard.set_title(\"Distribution of Ages at which individuals first starting taking hard drugs\")"
   ]
  },
  {
   "cell_type": "markdown",
   "id": "a13dd914",
   "metadata": {},
   "source": [
    "We see that the histogram is skewed to the right and that the majority of people are aged between 16 to 18. We also see that there is only a small amount of people who start taking drugs after the age of 30."
   ]
  },
  {
   "cell_type": "markdown",
   "id": "d7c10185",
   "metadata": {},
   "source": [
    "Let's now look at the distribution of ages at which people started taking light drugs and compare it to the ages at which people started taking hard drugs."
   ]
  },
  {
   "cell_type": "code",
   "execution_count": 76,
   "id": "e3bd9005",
   "metadata": {},
   "outputs": [
    {
     "data": {
      "text/plain": [
       "<matplotlib.legend.Legend at 0x7f8693a07790>"
      ]
     },
     "execution_count": 76,
     "metadata": {},
     "output_type": "execute_result"
    },
    {
     "data": {
      "image/png": "[encoded data removed]",
      "text/plain": [
       "<Figure size 576x432 with 1 Axes>"
      ]
     },
     "metadata": {
      "needs_background": "light"
     },
     "output_type": "display_data"
    }
   ],
   "source": [
    "plt.figure(figsize=(8,6))\n",
    "plt.hist(df[\"Age_min_hard\"], bins=50, alpha=0.5, label=\"Hard drugs\", range=[0, 50], density=True)\n",
    "plt.hist(df[\"Age_min_light\"], bins=50, alpha=0.5, label=\"Light drugs\", range=[0, 50], density=True)\n",
    "plt.xlabel(\"age\")\n",
    "plt.ylabel(\"count\")\n",
    "plt.title(\"Histograms of age at which people started taking hard drugs compared to light drugs\")\n",
    "plt.legend(loc='upper right')"
   ]
  },
  {
   "cell_type": "markdown",
   "id": "c5445a78",
   "metadata": {},
   "source": [
    "We clearly see that the two plots are very similar. However, the graph for light drugs is slightly more shifted to the left which means that people tend to start taking lighter drugs a bit earlier than hard drugs which makes sense. Indeed, because light drugs are less harmful and more socially accepteble, people may not be as scared to take them."
   ]
  },
  {
   "cell_type": "markdown",
   "id": "e8922686",
   "metadata": {},
   "source": [
    "Let's now see if there are any outliers in the Age_min_hard and Age_min_light columns"
   ]
  },
  {
   "cell_type": "code",
   "execution_count": 77,
   "id": "427d0a9e",
   "metadata": {},
   "outputs": [
    {
     "data": {
      "text/plain": [
       "426.6909090909091"
      ]
     },
     "execution_count": 77,
     "metadata": {},
     "output_type": "execute_result"
    }
   ],
   "source": [
    "#Let's see what the expected number of people should be in each age group\n",
    "df[\"Age_min_hard\"].value_counts().mean()"
   ]
  },
  {
   "cell_type": "code",
   "execution_count": 78,
   "id": "feef1b4f",
   "metadata": {},
   "outputs": [
    {
     "data": {
      "text/plain": [
       "37.0    9\n",
       "42.0    9\n",
       "50.0    9\n",
       "55.0    8\n",
       "48.0    8\n",
       "46.0    6\n",
       "43.0    6\n",
       "44.0    4\n",
       "41.0    4\n",
       "49.0    4\n",
       "47.0    4\n",
       "53.0    3\n",
       "69.0    2\n",
       "68.0    2\n",
       "60.0    2\n",
       "58.0    1\n",
       "66.0    1\n",
       "62.0    1\n",
       "51.0    1\n",
       "78.0    1\n",
       "72.0    1\n",
       "61.0    1\n",
       "65.0    1\n",
       "Name: Age_min_hard, dtype: int64"
      ]
     },
     "execution_count": 78,
     "metadata": {},
     "output_type": "execute_result"
    }
   ],
   "source": [
    "#for hard drugs:\n",
    "df[\"Age_min_hard\"].value_counts()[df[\"Age_min_hard\"].value_counts() < 10]"
   ]
  },
  {
   "cell_type": "markdown",
   "id": "496b3055",
   "metadata": {},
   "source": [
    "Here we see that there a few age groups where the count of people is very low (Much lower than the expected value of 426). These look like outliers."
   ]
  },
  {
   "cell_type": "code",
   "execution_count": 79,
   "id": "214a11fb",
   "metadata": {},
   "outputs": [
    {
     "data": {
      "text/plain": [
       "37.0    7\n",
       "47.0    4\n",
       "50.0    3\n",
       "42.0    3\n",
       "48.0    3\n",
       "46.0    2\n",
       "60.0    2\n",
       "55.0    2\n",
       "51.0    1\n",
       "43.0    1\n",
       "41.0    1\n",
       "44.0    1\n",
       "49.0    1\n",
       "61.0    1\n",
       "Name: Age_min_light, dtype: int64"
      ]
     },
     "execution_count": 79,
     "metadata": {},
     "output_type": "execute_result"
    }
   ],
   "source": [
    "#for light drugs:\n",
    "df[\"Age_min_light\"].value_counts()[df[\"Age_min_hard\"].value_counts() < 10]"
   ]
  },
  {
   "cell_type": "markdown",
   "id": "b075705f",
   "metadata": {},
   "source": [
    "There exists a few age groups in which the count of people is low. These also look like outliers."
   ]
  },
  {
   "cell_type": "markdown",
   "id": "8345d223",
   "metadata": {},
   "source": [
    "We will not treat these outliers differently at all because it is possible for a person to start taking drugs later in their life and removing values that are actually representative of real life makes our analysis less representative of real life."
   ]
  },
  {
   "cell_type": "markdown",
   "id": "0819eea9",
   "metadata": {},
   "source": [
    "Now that we looked at the distribution of our variables and searched for any outliers, we will now search for relationships between our variables"
   ]
  },
  {
   "cell_type": "markdown",
   "id": "28b47103",
   "metadata": {},
   "source": [
    "### Relation Between Variables"
   ]
  },
  {
   "cell_type": "markdown",
   "id": "fdde9c86",
   "metadata": {},
   "source": [
    "##### Income and Race"
   ]
  },
  {
   "cell_type": "markdown",
   "id": "b34897ed",
   "metadata": {},
   "source": [
    "Let's see if there exists any link between the race column and income. We would expect asian and white people to have the highest income and hispanic and black peope to have the lowest income after looking at data from the federal reserve [1]. However, because we have so many white people in the dataset, the results might not reflect the reality really well.\n",
    "\n",
    "Source: https://www.federalreserve.gov/econres/notes/feds-notes/disparities-in-wealth-by-race-and-ethnicity-in-the-2019-survey-of-consumer-finances-20200928.htm"
   ]
  },
  {
   "cell_type": "code",
   "execution_count": 80,
   "id": "cfa7d7c0",
   "metadata": {},
   "outputs": [
    {
     "data": {
      "text/plain": [
       "Text(0, 0.5, 'Mean Income')"
      ]
     },
     "execution_count": 80,
     "metadata": {},
     "output_type": "execute_result"
    },
    {
     "data": {
      "image/png": "[encoded data removed]",
      "text/plain": [
       "<Figure size 432x288 with 1 Axes>"
      ]
     },
     "metadata": {
      "needs_background": "light"
     },
     "output_type": "display_data"
    }
   ],
   "source": [
    "#Let's look at a barplot of the mean income of each race present in the dataset.\n",
    "df[[\"INCOME\", \"RACE\"]].groupby(\"RACE\").mean().plot(kind=\"bar\")\n",
    "plt.title('Mean Income Per Race')\n",
    "plt.xlabel('Race')\n",
    "plt.ylabel('Mean Income')"
   ]
  },
  {
   "cell_type": "markdown",
   "id": "7fd9bce8",
   "metadata": {},
   "source": [
    "From the graph above, we see that Asian people have the highest average income (close to 3.0), followed very closely by white people. Native american people and Black people have the lowest income, with average incomes close to 2.0. These observations follow what we expected from the federal reserve research. Hispanic people are in the middle of all of this and have an average income close to 2.3."
   ]
  },
  {
   "cell_type": "markdown",
   "id": "6f36a32a",
   "metadata": {},
   "source": [
    "Now, it would be interesting to compare the distributions of each income category within each race and see how they compare between races. "
   ]
  },
  {
   "cell_type": "code",
   "execution_count": 81,
   "id": "6b4ac9b9",
   "metadata": {},
   "outputs": [
    {
     "data": {
      "text/plain": [
       "<matplotlib.legend.Legend at 0x7f85df088dc0>"
      ]
     },
     "execution_count": 81,
     "metadata": {},
     "output_type": "execute_result"
    },
    {
     "data": {
      "image/png": "[encoded data removed]",
      "text/plain": [
       "<Figure size 432x288 with 1 Axes>"
      ]
     },
     "metadata": {
      "needs_background": "light"
     },
     "output_type": "display_data"
    }
   ],
   "source": [
    "#Let's look at a barplot of the proportions of each income category within each race\n",
    "fig, ax = plt.subplots()\n",
    "pp = df[[\"INCOME\", \"RACE\"]].groupby([\"RACE\", \"INCOME\"]).size()/df[[\"INCOME\", \"RACE\"]].groupby(\"RACE\").sum()[\"INCOME\"]\n",
    "pp = pd.DataFrame(pp, columns=['PERCENT'])\n",
    "pp.unstack().plot(kind='bar', title ='Proportions of Income group within each Race', ax=ax)\n",
    "ax.legend(['Income 1', 'Income 2', 'Income 3', 'Income 4'])"
   ]
  },
  {
   "cell_type": "markdown",
   "id": "7631176a",
   "metadata": {},
   "source": [
    "From the graph above, we see that Black and Native American have a very high proportion of Income 1 and 2 people and low proportions of income 4 people. This explains why the mean income of these 2 groups is so low. White people and Asians have the highest proportion of Income 4 people and low proportions of other income groups which explains why their average was so high in the previous bar chart. "
   ]
  },
  {
   "cell_type": "markdown",
   "id": "c6d4f6e9",
   "metadata": {},
   "source": [
    "### Income and Age"
   ]
  },
  {
   "cell_type": "markdown",
   "id": "9cb1fb10",
   "metadata": {},
   "source": [
    "Let's now look at the relationship between the income and the age columns and see if we can draw any interesting conclusions."
   ]
  },
  {
   "cell_type": "markdown",
   "id": "64b57d40",
   "metadata": {},
   "source": [
    "Let's start by seeing the average ages at which people of different income groups started taking hard and light drugs"
   ]
  },
  {
   "cell_type": "code",
   "execution_count": 82,
   "id": "9fe67b82",
   "metadata": {},
   "outputs": [
    {
     "data": {
      "text/html": [
       "<div>\n",
       "<style scoped>\n",
       "    .dataframe tbody tr th:only-of-type {\n",
       "        vertical-align: middle;\n",
       "    }\n",
       "\n",
       "    .dataframe tbody tr th {\n",
       "        vertical-align: top;\n",
       "    }\n",
       "\n",
       "    .dataframe thead th {\n",
       "        text-align: right;\n",
       "    }\n",
       "</style>\n",
       "<table border=\"1\" class=\"dataframe\">\n",
       "  <thead>\n",
       "    <tr style=\"text-align: right;\">\n",
       "      <th></th>\n",
       "      <th>Age_min_hard</th>\n",
       "      <th>Age_min_light</th>\n",
       "    </tr>\n",
       "    <tr>\n",
       "      <th>INCOME</th>\n",
       "      <th></th>\n",
       "      <th></th>\n",
       "    </tr>\n",
       "  </thead>\n",
       "  <tbody>\n",
       "    <tr>\n",
       "      <th>1.0</th>\n",
       "      <td>16.559158</td>\n",
       "      <td>15.892702</td>\n",
       "    </tr>\n",
       "    <tr>\n",
       "      <th>2.0</th>\n",
       "      <td>16.914250</td>\n",
       "      <td>15.876635</td>\n",
       "    </tr>\n",
       "    <tr>\n",
       "      <th>3.0</th>\n",
       "      <td>17.333149</td>\n",
       "      <td>15.840504</td>\n",
       "    </tr>\n",
       "    <tr>\n",
       "      <th>4.0</th>\n",
       "      <td>17.483773</td>\n",
       "      <td>15.805594</td>\n",
       "    </tr>\n",
       "  </tbody>\n",
       "</table>\n",
       "</div>"
      ],
      "text/plain": [
       "        Age_min_hard  Age_min_light\n",
       "INCOME                             \n",
       "1.0        16.559158      15.892702\n",
       "2.0        16.914250      15.876635\n",
       "3.0        17.333149      15.840504\n",
       "4.0        17.483773      15.805594"
      ]
     },
     "execution_count": 82,
     "metadata": {},
     "output_type": "execute_result"
    }
   ],
   "source": [
    "#Here, we get the average ages at which people in different income groups start taking hard and light drugs\n",
    "df[[\"INCOME\", \"Age_min_hard\", \"Age_min_light\"]].groupby([\"INCOME\"]).mean()"
   ]
  },
  {
   "cell_type": "code",
   "execution_count": 83,
   "id": "b0d1ebd6",
   "metadata": {},
   "outputs": [
    {
     "data": {
      "text/plain": [
       "Text(0, 0.5, 'Mean Age')"
      ]
     },
     "execution_count": 83,
     "metadata": {},
     "output_type": "execute_result"
    },
    {
     "data": {
      "image/png": "[encoded data removed]",
      "text/plain": [
       "<Figure size 432x288 with 1 Axes>"
      ]
     },
     "metadata": {
      "needs_background": "light"
     },
     "output_type": "display_data"
    }
   ],
   "source": [
    "df[[\"INCOME\", \"Age_min_hard\", \"Age_min_light\"]].groupby([\"INCOME\"]).mean().plot(kind=\"bar\")\n",
    "plt.title('Average age at which people of different income groups started taking hard and light drugs')\n",
    "plt.xlabel('Income')\n",
    "plt.ylabel('Mean Age')"
   ]
  },
  {
   "cell_type": "markdown",
   "id": "c81a48d3",
   "metadata": {},
   "source": [
    "From the graph above, we firstly notice that the mean age at which a person from any income group starts taking light drugs is always lower than the age at which a person starts taking hard drugs. This makes sense and follows what was said in our hypothesis. We also notice that mean age at which people starts taking hard drugs increases when the income increases and reaches its hightest when the income group is 4. This doesn't really follow our hypothesis. Indeed, we thought that the age at which a person starts taking hard drugs would be lower for wealthier people. However, we see that it is not the case here. The age at which a person starts taking light drugs decreases when the income increases. This means that people from higher socioeconomic status start taking light drugs earlier than people from lower socioeconomic status. We did not expect that observation either when writing our hypothesis."
   ]
  },
  {
   "cell_type": "markdown",
   "id": "fae6c527",
   "metadata": {},
   "source": [
    "The chart above doesn't follow our theory so we will explore the distribution of ages at which people from different age groups started taking hard drugs and compare distributions for income group 1 and income group 4."
   ]
  },
  {
   "cell_type": "code",
   "execution_count": 84,
   "id": "846e9102",
   "metadata": {},
   "outputs": [
    {
     "data": {
      "text/plain": [
       "<matplotlib.legend.Legend at 0x7f85c7bfa400>"
      ]
     },
     "execution_count": 84,
     "metadata": {},
     "output_type": "execute_result"
    },
    {
     "data": {
      "image/png": "[encoded data removed]",
      "text/plain": [
       "<Figure size 576x432 with 1 Axes>"
      ]
     },
     "metadata": {
      "needs_background": "light"
     },
     "output_type": "display_data"
    }
   ],
   "source": [
    "plt.figure(figsize=(8,6))\n",
    "plt.hist(df[df[\"INCOME\"] == 1][\"Age_min_hard\"], density=True,\n",
    "         bins=50, alpha=0.5, label=\"Income 1\", range=[0, 50])\n",
    "plt.hist(df[df[\"INCOME\"] == 4][\"Age_min_hard\"], density=True,\n",
    "         bins=50, alpha=0.5, label=\"Income 4\", range=[0, 50])\n",
    "plt.xlabel(\"age\")\n",
    "plt.ylabel(\"count\")\n",
    "plt.title(\"Histograms of age at which people in income groups 1 and 4 started taking hard drugs\")\n",
    "plt.legend(loc='upper right')"
   ]
  },
  {
   "cell_type": "markdown",
   "id": "7220ca66",
   "metadata": {},
   "source": [
    "From this graph, we see that peope in income 1 start taking hard drugs a little earlier than people in income 4 because the distribution for income 1 is slightly more to the left than the one for income 4. This shows that people in lower income groups start taking hard drugs earlier which is not what we expected. However, from this graph, we see that the mode for both incomes is the same (around 17-18)."
   ]
  },
  {
   "cell_type": "markdown",
   "id": "f0db2af4",
   "metadata": {},
   "source": [
    "Let's now compare distribution of ages at which people from different age groups started taking light drugs and compare distributions for income group 1 and income group 4."
   ]
  },
  {
   "cell_type": "code",
   "execution_count": 85,
   "id": "9fd21a3f",
   "metadata": {},
   "outputs": [
    {
     "data": {
      "text/plain": [
       "<matplotlib.legend.Legend at 0x7f85c7bfbd30>"
      ]
     },
     "execution_count": 85,
     "metadata": {},
     "output_type": "execute_result"
    },
    {
     "data": {
      "image/png": "[encoded data removed]",
      "text/plain": [
       "<Figure size 576x432 with 1 Axes>"
      ]
     },
     "metadata": {
      "needs_background": "light"
     },
     "output_type": "display_data"
    }
   ],
   "source": [
    "plt.figure(figsize=(8,6))\n",
    "plt.hist(df[df[\"INCOME\"] == 1][\"Age_min_light\"], density=True,\n",
    "         bins=50, alpha=0.5, label=\"Income 1\", range=[0, 50])\n",
    "plt.hist(df[df[\"INCOME\"] == 4][\"Age_min_light\"], density=True,\n",
    "         bins=50, alpha=0.5, label=\"Income 4\", range=[0, 50])\n",
    "plt.xlabel(\"age\")\n",
    "plt.ylabel(\"count\")\n",
    "plt.title(\"Histograms of age at which people in income groups 1 and 4 started taking light drugs\")\n",
    "plt.legend(loc='upper right')"
   ]
  },
  {
   "cell_type": "markdown",
   "id": "ef6ecf26",
   "metadata": {},
   "source": [
    "From this graph, we see that peope in income 1 and 4 start taking light drugs around the same time. We also see that more people in income 1 start taking light drugs at rare ages such as 10, 12 or 30 years old."
   ]
  },
  {
   "cell_type": "markdown",
   "id": "629829a7",
   "metadata": {},
   "source": [
    "##### Race and Age"
   ]
  },
  {
   "cell_type": "markdown",
   "id": "0978d026",
   "metadata": {},
   "source": [
    "Let's now look at the relationship between the race and age columns and see if we can draw any interesting conclusions."
   ]
  },
  {
   "cell_type": "markdown",
   "id": "62cf0ee6",
   "metadata": {},
   "source": [
    "Let's start by seeing the average ages at which people of different race groups started taking hard and light drugs"
   ]
  },
  {
   "cell_type": "code",
   "execution_count": 86,
   "id": "dba8da32",
   "metadata": {},
   "outputs": [
    {
     "data": {
      "text/html": [
       "<div>\n",
       "<style scoped>\n",
       "    .dataframe tbody tr th:only-of-type {\n",
       "        vertical-align: middle;\n",
       "    }\n",
       "\n",
       "    .dataframe tbody tr th {\n",
       "        vertical-align: top;\n",
       "    }\n",
       "\n",
       "    .dataframe thead th {\n",
       "        text-align: right;\n",
       "    }\n",
       "</style>\n",
       "<table border=\"1\" class=\"dataframe\">\n",
       "  <thead>\n",
       "    <tr style=\"text-align: right;\">\n",
       "      <th></th>\n",
       "      <th>Age_min_hard</th>\n",
       "      <th>Age_min_light</th>\n",
       "    </tr>\n",
       "    <tr>\n",
       "      <th>RACE</th>\n",
       "      <th></th>\n",
       "      <th></th>\n",
       "    </tr>\n",
       "  </thead>\n",
       "  <tbody>\n",
       "    <tr>\n",
       "      <th>Native American</th>\n",
       "      <td>15.612009</td>\n",
       "      <td>14.965795</td>\n",
       "    </tr>\n",
       "    <tr>\n",
       "      <th>Pacific Islander</th>\n",
       "      <td>16.270492</td>\n",
       "      <td>16.330579</td>\n",
       "    </tr>\n",
       "    <tr>\n",
       "      <th>Multirace</th>\n",
       "      <td>16.299000</td>\n",
       "      <td>15.424365</td>\n",
       "    </tr>\n",
       "    <tr>\n",
       "      <th>Hispanic</th>\n",
       "      <td>16.426002</td>\n",
       "      <td>16.301923</td>\n",
       "    </tr>\n",
       "    <tr>\n",
       "      <th>Black</th>\n",
       "      <td>17.203580</td>\n",
       "      <td>16.731605</td>\n",
       "    </tr>\n",
       "    <tr>\n",
       "      <th>White</th>\n",
       "      <td>17.265352</td>\n",
       "      <td>15.596951</td>\n",
       "    </tr>\n",
       "    <tr>\n",
       "      <th>Asian</th>\n",
       "      <td>18.791139</td>\n",
       "      <td>17.998494</td>\n",
       "    </tr>\n",
       "  </tbody>\n",
       "</table>\n",
       "</div>"
      ],
      "text/plain": [
       "                  Age_min_hard  Age_min_light\n",
       "RACE                                         \n",
       "Native American      15.612009      14.965795\n",
       "Pacific Islander     16.270492      16.330579\n",
       "Multirace            16.299000      15.424365\n",
       "Hispanic             16.426002      16.301923\n",
       "Black                17.203580      16.731605\n",
       "White                17.265352      15.596951\n",
       "Asian                18.791139      17.998494"
      ]
     },
     "execution_count": 86,
     "metadata": {},
     "output_type": "execute_result"
    }
   ],
   "source": [
    "df[[\"RACE\", \"Age_min_hard\", \"Age_min_light\"]].groupby([\"RACE\"]).mean().sort_values(by = \"Age_min_hard\")"
   ]
  },
  {
   "cell_type": "code",
   "execution_count": 87,
   "id": "1c2c1d6e",
   "metadata": {},
   "outputs": [
    {
     "data": {
      "text/plain": [
       "Text(0, 0.5, 'Mean Age')"
      ]
     },
     "execution_count": 87,
     "metadata": {},
     "output_type": "execute_result"
    },
    {
     "data": {
      "image/png": "[encoded data removed]",
      "text/plain": [
       "<Figure size 432x288 with 1 Axes>"
      ]
     },
     "metadata": {
      "needs_background": "light"
     },
     "output_type": "display_data"
    }
   ],
   "source": [
    "df[[\"RACE\", \"Age_min_hard\", \"Age_min_light\"]].groupby([\"RACE\"]).mean().sort_values(by = \"Age_min_hard\").plot(kind=\"bar\")\n",
    "plt.title('Average age at which people of different race groups started taking hard and light drugs')\n",
    "plt.xlabel('Race')\n",
    "plt.ylabel('Mean Age')"
   ]
  },
  {
   "cell_type": "markdown",
   "id": "ddb364c3",
   "metadata": {},
   "source": [
    "From this graph, we firstly see that the average age at which a person starts using light drugs is lower than the average age at which a person starts using hard drugs for every age except for pacific islanders. This makes sense because light drugs have a smaller risk associated to them so people tend to start them earlier. We also see that Asian people start taking drugs the latest and Native Americans start taking drugs the earliest. We also see that Black and white people mean ages for hard drugs are very close to each other and are the second and third highest. "
   ]
  },
  {
   "cell_type": "markdown",
   "id": "1ee81ff1",
   "metadata": {},
   "source": [
    "# Modeling"
   ]
  },
  {
   "cell_type": "markdown",
   "id": "84b648f4",
   "metadata": {},
   "source": [
    "For our model, we decided on using a Decision Tree from the package Sci Kit Learn. Our choice was between Sci Kit Learn and XGBoost. Since we have many nulls in our dataset we had to make a choice on how to deal with the nulls. XGBoost treats nulls as unknowns, meaning missing data. However, our nulls are not unknown, they are intentionally nulls because those people have not done those drugs either at all or in the time period being studied. Therefore, XGBoost's method will not satisfy our needs. Alternatively, Sci Kit Learn does not allow for nulls. Because of this we will have to replace nulls with a high value like 900 in order to represent nulls. This method will allow for handling intentional nulls in a better way."
   ]
  },
  {
   "cell_type": "code",
   "execution_count": 190,
   "id": "e4fd2805",
   "metadata": {},
   "outputs": [],
   "source": [
    "df = df.replace({np.nan:900})"
   ]
  },
  {
   "cell_type": "markdown",
   "id": "ac444fb8",
   "metadata": {},
   "source": [
    "Sci Kit Learn does not handle strings either, so in order to classify, we need to represent each Race value as a different numerical value."
   ]
  },
  {
   "cell_type": "code",
   "execution_count": 191,
   "id": "b17d94e9",
   "metadata": {},
   "outputs": [],
   "source": [
    "df['RACE'] = df['RACE'].replace({'White':0, 'Hispanic':1, 'Asian':2, 'Black':3, 'Multirace':4,\n",
    "       'Native American':5, 'Pacific Islander':6})"
   ]
  },
  {
   "cell_type": "markdown",
   "id": "2c10de7d",
   "metadata": {},
   "source": [
    "Here we set our X input predictions and our different outputs, income and race."
   ]
  },
  {
   "cell_type": "code",
   "execution_count": 192,
   "id": "dde566d0",
   "metadata": {},
   "outputs": [],
   "source": [
    "X = df[['CIG_AGE', 'SMKLESS_AGE', 'CIGAR_AGE', 'MJ_HASH_AGE', 'COKE_AGE',\n",
    "       'CRACK_AGE', 'HER_AGE', 'HALLUC_AGE', 'LSD_AGE', 'PCP_AGE', 'ECST_AGE']]\n",
    "inc = df[['INCOME']]\n",
    "race = df[['RACE']]\n"
   ]
  },
  {
   "cell_type": "markdown",
   "id": "6277a936",
   "metadata": {},
   "source": [
    "In order to validate that our model is not just being overfitted to all of our data, we split the data into 80% training and 20% testing. We chose this split because it is typically standard."
   ]
  },
  {
   "cell_type": "code",
   "execution_count": 204,
   "id": "281fbee5",
   "metadata": {},
   "outputs": [],
   "source": [
    "inc_X_train, inc_X_test, inc_train, inc_test = train_test_split(X, inc, test_size=0.2)\n",
    "race_X_train, race_X_test, race_train, race_test = train_test_split(X, race, test_size=0.2)"
   ]
  },
  {
   "cell_type": "markdown",
   "id": "e1aae0aa",
   "metadata": {},
   "source": [
    "Below, we will be training the income and race models with the DecisionTree. We decided on using max depth of 8 as 8 is recommended for datasets that are not too complicated. Additionally, we did not want to select none for max depth and risk overtraining our model on the training set. We train the model on the X and income data, then predict income using the test X data. We then calculate precision, recall and accuracy for the income model. We then do the same process for the race model."
   ]
  },
  {
   "cell_type": "code",
   "execution_count": 205,
   "id": "89ed2883",
   "metadata": {},
   "outputs": [
    {
     "name": "stdout",
     "output_type": "stream",
     "text": [
      "Scores for Income Prediction using SciKit and 900 Imputation for NaNs\n",
      "Precision = 0.29282531271823703\n",
      "Recall = 0.2726997743762293\n",
      "Accuracy = 0.3542179261862917\n",
      "_________________________________\n",
      "Scores for Race Prediction using SciKit and 900 Imputation for NaNs\n",
      "Precision = 0.167404995539729\n",
      "Recall = 0.14525582607703877\n",
      "Accuracy = 0.5861159929701231\n"
     ]
    }
   ],
   "source": [
    "tree = DecisionTreeClassifier(max_depth=8)\n",
    "tree.fit(inc_X_train, inc_train)\n",
    "best_preds = tree.predict(inc_X_test)\n",
    "print('Scores for Income Prediction using SciKit and 900 Imputation for NaNs')\n",
    "print(\"Precision = {}\".format(precision_score(inc_test, best_preds, average='macro')))\n",
    "print(\"Recall = {}\".format(recall_score(inc_test, best_preds, average='macro')))\n",
    "print(\"Accuracy = {}\".format(accuracy_score(inc_test, best_preds)))\n",
    "tree.fit(race_X_train, race_train)\n",
    "best_preds = tree.predict(race_X_test)\n",
    "print('_________________________________')\n",
    "print('Scores for Race Prediction using SciKit and 900 Imputation for NaNs')\n",
    "print(\"Precision = {}\".format(precision_score(race_test, best_preds, average='macro')))\n",
    "print(\"Recall = {}\".format(recall_score(race_test, best_preds, average='macro')))\n",
    "print(\"Accuracy = {}\".format(accuracy_score(race_test, best_preds)))"
   ]
  },
  {
   "cell_type": "markdown",
   "id": "662d0535",
   "metadata": {},
   "source": [
    "Looking at our accuracy, recall, and precision, we see some stark differences. Surprisingly, our model is much better at predicting race (59% accuracy) than income (35% accuracy). These results do not let us reject our null hypothesis, H0: Age when first using drugs will not better predict income than race. Surprisingly, we find that recall and precision are about 13% lower for our race prediction model than our income prediction model, with both being quite low."
   ]
  },
  {
   "cell_type": "markdown",
   "id": "ace7e67d-815d-4e18-85b2-6d3c744aee15",
   "metadata": {},
   "source": [
    "# Ethics and Privacy"
   ]
  },
  {
   "cell_type": "markdown",
   "id": "69619e85-b69b-4321-8dae-e6db734990e2",
   "metadata": {},
   "source": [
    "One ethical/privacy issue that our question encountered with the dataset that we intend to use is the possibility that an individual could be identified (and thus linked to drugs) based on the information given. While the individuals’ names will not be included, it is still possible based on income, ethnicity, gender, and population density that is given in the dataset to narrow down certain groups of individuals. To prevent this we did not include each of these variables, just the ones listed above for the purpose of our research. This helped mitigate the ability to identify the individuals listed by the use of their personal information. The data is collected using sample survey information, which means that the entire population is not sampled - just those willing to take voluntary surveys. Thus, this might mean people could not report 100% honestly as drug usage is a taboo topic. This is an observational study, thus we are not directly affecting respondents. That being said, it is possible the nature of these questions could cause potential discomfort for respondents, thus we would inform respondents about the contents of the survey before they begin while we collect the data for the dataset. In addition, lower income populations might not be as well represented, as they could lack the time or resources to complete the survey (i.e. computer or internet access). The biggest issue is that people don’t necessarily want to respond truthfully to this taboo topic of drug use, as they might not want to be associated with illegal activities - even anonymously. We believe that, based on the fact that the survey was voluntary, that those who chose to take it would also be willing to be completely honest. One bias that we did not account for that we encountered during the project process was that there were more white (caucasian) people in the dataset than there was previously expected. In order to combat that, we explained the bias and took that into account while making the conclusion. If the data was skewed our conclusion would not be radical just as our data would suggest."
   ]
  },
  {
   "cell_type": "markdown",
   "id": "3632c92e",
   "metadata": {},
   "source": [
    "# Conclusion and Discussion"
   ]
  },
  {
   "cell_type": "markdown",
   "id": "31b2ea74",
   "metadata": {},
   "source": [
    "Our research question is whether socioeconomic status or ethnicity is better predicted by the age at which an individual started using drugs in the United States, leading to the null hypothesis of H0: Age of first drug use will not be a better predictor of income than race and alternative hypothesis H1: Age of first drug use will be a better predictor of income than race. When we tested our models, income and race, we found that income had an accuracy of about 35% and race had an accuracy of about 59%. Based on the accuracy, this leads us to failing to reject the null hypothesis as income was not better predicted by age of first drug use than race was. Neither model was great at predicting what it was meant to, with both having very low precision and recall. Our belief is that the race model performed better due to the more clear delineations between missing variables across racial groups than income groups. This becomes evident when looking back to our analysis of null values. This could do with cultural opinions on different drugs rather than income opinion trends. Of course, there are some serious limitations to our results. First, our model's predictors are quite juvenile. Using age when first using drugs for 11 drugs to predict race and income is not necessarily all that predictive. Second, our dataset is very limited in variety. The vast majority of participants are white and the lowest income bracket is severly underrepresented. This underrepresenation of groups likely cause serious problems for the model to be able to accurately depict trends, as there was not enough data present to simulate the population."
   ]
  },
  {
   "cell_type": "markdown",
   "id": "f4434633-940b-4b07-a01b-03e1f752487b",
   "metadata": {},
   "source": [
    "# Team Contributions"
   ]
  },
  {
   "cell_type": "markdown",
   "id": "b41b7a5e-f4ad-4b14-a606-27ac0bf4be14",
   "metadata": {},
   "source": [
    "Overview: Everyone\n",
    "\n",
    "Research Question: Everyone\n",
    "\n",
    "Background and Prior Work: Jacqueline Juke, Rachel Doron, Lisa Zhou\n",
    "\n",
    "Hypothesis: Everyone\n",
    "\n",
    "DataSets: Parshva Jain, Mehdi Bouassami, Jake Ryan\n",
    "\n",
    "Data Cleaning: Jake Ryan, Mehdi Bouassami, Rachel Doron, Lisa Zhou, Parshva Jain\n",
    "\n",
    "EDA: Mehdi Bouassami, Jake Ryan, Jacqueline Yuke\n",
    "\n",
    "Modelling: Mehdi Bouassami, Jake Ryan\n",
    "\n",
    "Ethics and Privacy: Lisa Zhou, Rachel Doron, Jacquline Yuke, Parshva Jain\n",
    "\n",
    "Conclusion and Discussion: Jake Ryan, Mehdi Bouassami"
   ]
  }
 ],
 "metadata": {
  "kernelspec": {
   "display_name": "Python 3",
   "language": "python",
   "name": "python3"
  },
  "language_info": {
   "codemirror_mode": {
    "name": "ipython",
    "version": 3
   },
   "file_extension": ".py",
   "mimetype": "text/x-python",
   "name": "python",
   "nbconvert_exporter": "python",
   "pygments_lexer": "ipython3",
   "version": "3.9.2"
  }
 },
 "nbformat": 4,
 "nbformat_minor": 5
}
