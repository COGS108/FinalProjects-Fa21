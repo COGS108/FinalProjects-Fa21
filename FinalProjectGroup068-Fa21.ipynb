{
 "cells": [
  {
   "cell_type": "markdown",
   "metadata": {},
   "source": [
    "# Relationship Between Countries' Household Disposable Income Growth Rate and National Happiness Index"
   ]
  },
  {
   "cell_type": "markdown",
   "metadata": {},
   "source": [
    "## Permissions\n",
    "\n",
    "Place an `X` in the appropriate bracket below to specify if you would like your group's project to be made available to the public. (Note that student names will be included (but PIDs will be scraped from any groups who include their PIDs).\n",
    "\n",
    "* [ X ] YES - make available\n",
    "* [  ] NO - keep private"
   ]
  },
  {
   "cell_type": "markdown",
   "metadata": {},
   "source": [
    "# Overview"
   ]
  },
  {
   "cell_type": "markdown",
   "metadata": {},
   "source": [
    "This project was conducted to study the relationship between disposable income growth rates and happiness indices between nations involved in the Organization for Economic Cooperation and Development (OECD). We chose and cleaned data sourced from the OECD and World Happiness Index mission survey, which we then merged into one super dataset to contain our desired and filtered information. Although background studies backed the idea of a correlation, the exploratory visualizations and statistical tests we ran, both on small and large subsets of the data, did not support that idea. We had p-values far too high for any conclusive correlation to be drawn. As such, we cannot conclude that disposable income affects the happiness index, or any of its component factors of countries in the OECD. "
   ]
  },
  {
   "cell_type": "markdown",
   "metadata": {},
   "source": [
    "# Names\n",
    "\n",
    "- Gokul Prasad\n",
    "- Carmen Li\n",
    "- Caroline Xiong\n",
    "- Iisha Kshatriya\n",
    "- Vanessa Chen"
   ]
  },
  {
   "cell_type": "markdown",
   "metadata": {},
   "source": [
    "<a id='research_question'></a>\n",
    "# Research Question"
   ]
  },
  {
   "cell_type": "markdown",
   "metadata": {},
   "source": [
    "*What trends can be found between a country’s happiness index and its annual household disposable income growth rate? To what extent do factors such as healthy life expectancy, social support, freedom to make life choices, generosity, and corruption perception, affect a country’s annual household disposable income growth rate?*"
   ]
  },
  {
   "cell_type": "markdown",
   "metadata": {},
   "source": [
    "<a id='background'></a>\n",
    "\n",
    "## Background & Prior Work"
   ]
  },
  {
   "cell_type": "markdown",
   "metadata": {},
   "source": [
    "“Money doesn’t buy happiness” is a common expression that people have heard at least once in their lifetime. However, several studies have shown that this saying is not as accurate as it is widely believed to be. A 2001 study at the Melbourne Institute of Applied Economic and Social Research in Australia showed that there was a positive correlation of 0.11 between Australians’ disposable income and life satisfaction in its preliminary results (1). A more recent 2019 study conducted in Romania analyzed data that measured the income levels and happiness indices for 26 European countries; the results further provide support that money does have an effect on happiness. Research found that there was a 0.852 R-Squared value between happiness and income (2). Given that a 0.75 R-Squared value is, by rule of thumb, considered substantial to conclude a correlation between two variables, this study’s R-Squared value of 0.852 allowed for a significant positive correlation between happiness and income to be concluded.\n",
    "\n",
    "Evidently, there are a plethora of reports and studies that debunk the saying that “money doesn’t buy happiness.” However, being conducted two decades ago, the Australian study is outdated in addition to being restricted to the Australian population. The Romanian study is recent but relates happiness to income without taking into account external factors, such as taxes. Our project seeks to focus on using disposable income as the measure of “money”, since disposable income is the amount of money a household has left to spend after removing necessary costs. Furthermore, we seek to elevate analysis of the correlation between happiness and disposable income to a global scale in order to see if there is a correlation regardless of culture. \n",
    "\n",
    "References:\n",
    "- 1) https://ftp.iza.org/dp1032.pdf\n",
    "- 2) https://link.springer.com/article/10.1007/s11482-019-09714-3"
   ]
  },
  {
   "cell_type": "markdown",
   "metadata": {},
   "source": [
    "# Hypothesis\n"
   ]
  },
  {
   "cell_type": "markdown",
   "metadata": {},
   "source": [
    "We hypothesize that a country that experiences a shift in household disposable income will see a corresponding shift in their happiness index. Disposable income reflects the financial strength of a country’s individuals better than GDP, and since these individuals are the ones to determine the happiness index, then a positive growth in disposable income should lead to a higher self-evaluation of their life satisfaction."
   ]
  },
  {
   "cell_type": "markdown",
   "metadata": {},
   "source": [
    "# Dataset(s)"
   ]
  },
  {
   "cell_type": "markdown",
   "metadata": {},
   "source": [
    "## 1) World Happiness 2015-2019 \n",
    "\n",
    "- Dataset Name: World Happiness 2015-2019\n",
    "- Link to the dataset: https://data.world/sventurini/world-happiness-2015-2019\n",
    "- Number of observations: 782\n",
    "\n",
    "This dataset contains information about 170 countries and their scores on the World Happiness Index from 2015-2019, as well as each country's voted score regarding questions about how the citizens feel about freedom of choices, corruption, and other aspects of their nation. It also contains information peritinent to grouping variables together such as year of observation, and region of country. Each row is one country in one year. \n",
    "\n",
    "## 2) Net Household Disposable Income 2015-2019 \n",
    "\n",
    "- Dataset Name: Household Disposable Income\n",
    "- Link to the dataset: https://data.oecd.org/hha/household-disposable-income.htm\n",
    "- Number of observations: 173\n",
    "\n",
    "This dataset contains information about 38 OECD countries and their annual household disposable income growth rates from 2015-2019. Each row is one country's net household disposable income growth rate for one year. In this dataset, data for four countries (United States, Japan, New Zealand, and Costa Rica) do not have full data for every year between 2015-2019. As a result, we will use existing data and note this in our analysis that there was missing data.\n",
    "\n",
    "We plan on using these two datasets to determine if there is a relationship between factors that determine the World Happiness Index (e.g. healthy life expectancy, social support, freedom to make life choices, generosity, corruption perception) and the net household disposable income growth rate between years in the range of 2015-2019."
   ]
  },
  {
   "cell_type": "markdown",
   "metadata": {},
   "source": [
    "# Setup"
   ]
  },
  {
   "cell_type": "code",
   "execution_count": 2,
   "metadata": {},
   "outputs": [],
   "source": [
    "# Basic data science and visualization packages \n",
    "import pandas as pd\n",
    "import numpy as np\n",
    "import seaborn as sns\n",
    "\n",
    "# scikit-learn packages for analysis\n",
    "import patsy\n",
    "import statsmodels.api as sm"
   ]
  },
  {
   "cell_type": "markdown",
   "metadata": {},
   "source": [
    "# Data Cleaning"
   ]
  },
  {
   "cell_type": "markdown",
   "metadata": {},
   "source": [
    "Firstly, we'll read in the 'data.world' dataset containing information about the World Happines Index from 2015-2019. We'll read it into a Pandas DataFrame variable called `happiness` and then take a look at the first few rows to see what values it contains. "
   ]
  },
  {
   "cell_type": "code",
   "execution_count": 3,
   "metadata": {},
   "outputs": [
    {
     "data": {
      "text/html": [
       "<div>\n",
       "<style scoped>\n",
       "    .dataframe tbody tr th:only-of-type {\n",
       "        vertical-align: middle;\n",
       "    }\n",
       "\n",
       "    .dataframe tbody tr th {\n",
       "        vertical-align: top;\n",
       "    }\n",
       "\n",
       "    .dataframe thead th {\n",
       "        text-align: right;\n",
       "    }\n",
       "</style>\n",
       "<table border=\"1\" class=\"dataframe\">\n",
       "  <thead>\n",
       "    <tr style=\"text-align: right;\">\n",
       "      <th></th>\n",
       "      <th>Overall rank</th>\n",
       "      <th>Year</th>\n",
       "      <th>Country</th>\n",
       "      <th>Region</th>\n",
       "      <th>Score</th>\n",
       "      <th>GDP</th>\n",
       "      <th>Social_Support</th>\n",
       "      <th>Health_life_expectancy</th>\n",
       "      <th>Freedom_to_choices</th>\n",
       "      <th>Generosity</th>\n",
       "      <th>Perceptions_of_corruption</th>\n",
       "    </tr>\n",
       "  </thead>\n",
       "  <tbody>\n",
       "    <tr>\n",
       "      <th>0</th>\n",
       "      <td>1</td>\n",
       "      <td>2015</td>\n",
       "      <td>Switzerland</td>\n",
       "      <td>Western Europe</td>\n",
       "      <td>7.587</td>\n",
       "      <td>1.397</td>\n",
       "      <td>1.350</td>\n",
       "      <td>0.941</td>\n",
       "      <td>0.666</td>\n",
       "      <td>0.297</td>\n",
       "      <td>0.420</td>\n",
       "    </tr>\n",
       "    <tr>\n",
       "      <th>1</th>\n",
       "      <td>2</td>\n",
       "      <td>2015</td>\n",
       "      <td>Iceland</td>\n",
       "      <td>Western Europe</td>\n",
       "      <td>7.561</td>\n",
       "      <td>1.302</td>\n",
       "      <td>1.402</td>\n",
       "      <td>0.948</td>\n",
       "      <td>0.629</td>\n",
       "      <td>0.436</td>\n",
       "      <td>0.141</td>\n",
       "    </tr>\n",
       "    <tr>\n",
       "      <th>2</th>\n",
       "      <td>3</td>\n",
       "      <td>2015</td>\n",
       "      <td>Denmark</td>\n",
       "      <td>Western Europe</td>\n",
       "      <td>7.527</td>\n",
       "      <td>1.325</td>\n",
       "      <td>1.361</td>\n",
       "      <td>0.875</td>\n",
       "      <td>0.649</td>\n",
       "      <td>0.341</td>\n",
       "      <td>0.484</td>\n",
       "    </tr>\n",
       "    <tr>\n",
       "      <th>3</th>\n",
       "      <td>4</td>\n",
       "      <td>2015</td>\n",
       "      <td>Norway</td>\n",
       "      <td>Western Europe</td>\n",
       "      <td>7.522</td>\n",
       "      <td>1.459</td>\n",
       "      <td>1.331</td>\n",
       "      <td>0.885</td>\n",
       "      <td>0.670</td>\n",
       "      <td>0.347</td>\n",
       "      <td>0.365</td>\n",
       "    </tr>\n",
       "    <tr>\n",
       "      <th>4</th>\n",
       "      <td>6</td>\n",
       "      <td>2015</td>\n",
       "      <td>Finland</td>\n",
       "      <td>Western Europe</td>\n",
       "      <td>7.406</td>\n",
       "      <td>1.290</td>\n",
       "      <td>1.318</td>\n",
       "      <td>0.889</td>\n",
       "      <td>0.642</td>\n",
       "      <td>0.234</td>\n",
       "      <td>0.414</td>\n",
       "    </tr>\n",
       "  </tbody>\n",
       "</table>\n",
       "</div>"
      ],
      "text/plain": [
       "   Overall rank  Year      Country          Region  Score    GDP  \\\n",
       "0             1  2015  Switzerland  Western Europe  7.587  1.397   \n",
       "1             2  2015      Iceland  Western Europe  7.561  1.302   \n",
       "2             3  2015      Denmark  Western Europe  7.527  1.325   \n",
       "3             4  2015       Norway  Western Europe  7.522  1.459   \n",
       "4             6  2015      Finland  Western Europe  7.406  1.290   \n",
       "\n",
       "   Social_Support  Health_life_expectancy  Freedom_to_choices  Generosity  \\\n",
       "0           1.350                   0.941               0.666       0.297   \n",
       "1           1.402                   0.948               0.629       0.436   \n",
       "2           1.361                   0.875               0.649       0.341   \n",
       "3           1.331                   0.885               0.670       0.347   \n",
       "4           1.318                   0.889               0.642       0.234   \n",
       "\n",
       "   Perceptions_of_corruption  \n",
       "0                      0.420  \n",
       "1                      0.141  \n",
       "2                      0.484  \n",
       "3                      0.365  \n",
       "4                      0.414  "
      ]
     },
     "execution_count": 3,
     "metadata": {},
     "output_type": "execute_result"
    }
   ],
   "source": [
    "happiness = pd.read_csv('worldHappiness2015-2019.csv')\n",
    "happiness.head()"
   ]
  },
  {
   "cell_type": "markdown",
   "metadata": {},
   "source": [
    "As we can see, some of the columns are awkwardly named with underscores, so we can use some DataFrame functionality to render these more readable to a viewer. Firstly, we'll replace the underscores with spaces, and then capitalize the words properly. This will mess with the GDP column, so we'll rename that one properly afterwards too. "
   ]
  },
  {
   "cell_type": "code",
   "execution_count": 4,
   "metadata": {},
   "outputs": [
    {
     "data": {
      "text/html": [
       "<div>\n",
       "<style scoped>\n",
       "    .dataframe tbody tr th:only-of-type {\n",
       "        vertical-align: middle;\n",
       "    }\n",
       "\n",
       "    .dataframe tbody tr th {\n",
       "        vertical-align: top;\n",
       "    }\n",
       "\n",
       "    .dataframe thead th {\n",
       "        text-align: right;\n",
       "    }\n",
       "</style>\n",
       "<table border=\"1\" class=\"dataframe\">\n",
       "  <thead>\n",
       "    <tr style=\"text-align: right;\">\n",
       "      <th></th>\n",
       "      <th>Overall Rank</th>\n",
       "      <th>Year</th>\n",
       "      <th>Country</th>\n",
       "      <th>Region</th>\n",
       "      <th>Happiness Index</th>\n",
       "      <th>GDP</th>\n",
       "      <th>Social Support</th>\n",
       "      <th>Health Life Expectancy</th>\n",
       "      <th>Freedom To Choices</th>\n",
       "      <th>Generosity</th>\n",
       "      <th>Perceptions Of Corruption</th>\n",
       "    </tr>\n",
       "  </thead>\n",
       "  <tbody>\n",
       "    <tr>\n",
       "      <th>0</th>\n",
       "      <td>1</td>\n",
       "      <td>2015</td>\n",
       "      <td>Switzerland</td>\n",
       "      <td>Western Europe</td>\n",
       "      <td>7.587</td>\n",
       "      <td>1.397</td>\n",
       "      <td>1.350</td>\n",
       "      <td>0.941</td>\n",
       "      <td>0.666</td>\n",
       "      <td>0.297</td>\n",
       "      <td>0.420</td>\n",
       "    </tr>\n",
       "    <tr>\n",
       "      <th>1</th>\n",
       "      <td>2</td>\n",
       "      <td>2015</td>\n",
       "      <td>Iceland</td>\n",
       "      <td>Western Europe</td>\n",
       "      <td>7.561</td>\n",
       "      <td>1.302</td>\n",
       "      <td>1.402</td>\n",
       "      <td>0.948</td>\n",
       "      <td>0.629</td>\n",
       "      <td>0.436</td>\n",
       "      <td>0.141</td>\n",
       "    </tr>\n",
       "    <tr>\n",
       "      <th>2</th>\n",
       "      <td>3</td>\n",
       "      <td>2015</td>\n",
       "      <td>Denmark</td>\n",
       "      <td>Western Europe</td>\n",
       "      <td>7.527</td>\n",
       "      <td>1.325</td>\n",
       "      <td>1.361</td>\n",
       "      <td>0.875</td>\n",
       "      <td>0.649</td>\n",
       "      <td>0.341</td>\n",
       "      <td>0.484</td>\n",
       "    </tr>\n",
       "    <tr>\n",
       "      <th>3</th>\n",
       "      <td>4</td>\n",
       "      <td>2015</td>\n",
       "      <td>Norway</td>\n",
       "      <td>Western Europe</td>\n",
       "      <td>7.522</td>\n",
       "      <td>1.459</td>\n",
       "      <td>1.331</td>\n",
       "      <td>0.885</td>\n",
       "      <td>0.670</td>\n",
       "      <td>0.347</td>\n",
       "      <td>0.365</td>\n",
       "    </tr>\n",
       "    <tr>\n",
       "      <th>4</th>\n",
       "      <td>6</td>\n",
       "      <td>2015</td>\n",
       "      <td>Finland</td>\n",
       "      <td>Western Europe</td>\n",
       "      <td>7.406</td>\n",
       "      <td>1.290</td>\n",
       "      <td>1.318</td>\n",
       "      <td>0.889</td>\n",
       "      <td>0.642</td>\n",
       "      <td>0.234</td>\n",
       "      <td>0.414</td>\n",
       "    </tr>\n",
       "  </tbody>\n",
       "</table>\n",
       "</div>"
      ],
      "text/plain": [
       "   Overall Rank  Year      Country          Region  Happiness Index    GDP  \\\n",
       "0             1  2015  Switzerland  Western Europe            7.587  1.397   \n",
       "1             2  2015      Iceland  Western Europe            7.561  1.302   \n",
       "2             3  2015      Denmark  Western Europe            7.527  1.325   \n",
       "3             4  2015       Norway  Western Europe            7.522  1.459   \n",
       "4             6  2015      Finland  Western Europe            7.406  1.290   \n",
       "\n",
       "   Social Support  Health Life Expectancy  Freedom To Choices  Generosity  \\\n",
       "0           1.350                   0.941               0.666       0.297   \n",
       "1           1.402                   0.948               0.629       0.436   \n",
       "2           1.361                   0.875               0.649       0.341   \n",
       "3           1.331                   0.885               0.670       0.347   \n",
       "4           1.318                   0.889               0.642       0.234   \n",
       "\n",
       "   Perceptions Of Corruption  \n",
       "0                      0.420  \n",
       "1                      0.141  \n",
       "2                      0.484  \n",
       "3                      0.365  \n",
       "4                      0.414  "
      ]
     },
     "execution_count": 4,
     "metadata": {},
     "output_type": "execute_result"
    }
   ],
   "source": [
    "happiness.columns = happiness.columns.str.replace('_', ' ').str.title()\n",
    "happiness = happiness.rename(columns = {'Gdp':'GDP'})\n",
    "happiness = happiness.rename(columns = {'Score':'Happiness Index'})\n",
    "happiness.head()"
   ]
  },
  {
   "cell_type": "markdown",
   "metadata": {},
   "source": [
    "Secondly, we'll read in the 'data.world' dataset containing information about the Household Disposable Income from 2015-2019. We'll read it into a Pandas DataFrame variable called `hdi` and then take a look at the first few rows to see what values it contains. "
   ]
  },
  {
   "cell_type": "code",
   "execution_count": 5,
   "metadata": {},
   "outputs": [
    {
     "data": {
      "text/html": [
       "<div>\n",
       "<style scoped>\n",
       "    .dataframe tbody tr th:only-of-type {\n",
       "        vertical-align: middle;\n",
       "    }\n",
       "\n",
       "    .dataframe tbody tr th {\n",
       "        vertical-align: top;\n",
       "    }\n",
       "\n",
       "    .dataframe thead th {\n",
       "        text-align: right;\n",
       "    }\n",
       "</style>\n",
       "<table border=\"1\" class=\"dataframe\">\n",
       "  <thead>\n",
       "    <tr style=\"text-align: right;\">\n",
       "      <th></th>\n",
       "      <th>LOCATION</th>\n",
       "      <th>INDICATOR</th>\n",
       "      <th>SUBJECT</th>\n",
       "      <th>MEASURE</th>\n",
       "      <th>FREQUENCY</th>\n",
       "      <th>TIME</th>\n",
       "      <th>Value</th>\n",
       "      <th>Flag Codes</th>\n",
       "    </tr>\n",
       "  </thead>\n",
       "  <tbody>\n",
       "    <tr>\n",
       "      <th>0</th>\n",
       "      <td>AUS</td>\n",
       "      <td>HHDI</td>\n",
       "      <td>NET</td>\n",
       "      <td>AGRWTH</td>\n",
       "      <td>A</td>\n",
       "      <td>2015</td>\n",
       "      <td>1.331200</td>\n",
       "      <td>NaN</td>\n",
       "    </tr>\n",
       "    <tr>\n",
       "      <th>1</th>\n",
       "      <td>AUS</td>\n",
       "      <td>HHDI</td>\n",
       "      <td>NET</td>\n",
       "      <td>AGRWTH</td>\n",
       "      <td>A</td>\n",
       "      <td>2016</td>\n",
       "      <td>2.061030</td>\n",
       "      <td>NaN</td>\n",
       "    </tr>\n",
       "    <tr>\n",
       "      <th>2</th>\n",
       "      <td>AUS</td>\n",
       "      <td>HHDI</td>\n",
       "      <td>NET</td>\n",
       "      <td>AGRWTH</td>\n",
       "      <td>A</td>\n",
       "      <td>2017</td>\n",
       "      <td>2.089534</td>\n",
       "      <td>NaN</td>\n",
       "    </tr>\n",
       "    <tr>\n",
       "      <th>3</th>\n",
       "      <td>AUS</td>\n",
       "      <td>HHDI</td>\n",
       "      <td>NET</td>\n",
       "      <td>AGRWTH</td>\n",
       "      <td>A</td>\n",
       "      <td>2018</td>\n",
       "      <td>1.981832</td>\n",
       "      <td>NaN</td>\n",
       "    </tr>\n",
       "    <tr>\n",
       "      <th>4</th>\n",
       "      <td>AUS</td>\n",
       "      <td>HHDI</td>\n",
       "      <td>NET</td>\n",
       "      <td>AGRWTH</td>\n",
       "      <td>A</td>\n",
       "      <td>2019</td>\n",
       "      <td>4.389412</td>\n",
       "      <td>NaN</td>\n",
       "    </tr>\n",
       "  </tbody>\n",
       "</table>\n",
       "</div>"
      ],
      "text/plain": [
       "  LOCATION INDICATOR SUBJECT MEASURE FREQUENCY  TIME     Value Flag Codes\n",
       "0      AUS      HHDI     NET  AGRWTH         A  2015  1.331200        NaN\n",
       "1      AUS      HHDI     NET  AGRWTH         A  2016  2.061030        NaN\n",
       "2      AUS      HHDI     NET  AGRWTH         A  2017  2.089534        NaN\n",
       "3      AUS      HHDI     NET  AGRWTH         A  2018  1.981832        NaN\n",
       "4      AUS      HHDI     NET  AGRWTH         A  2019  4.389412        NaN"
      ]
     },
     "execution_count": 5,
     "metadata": {},
     "output_type": "execute_result"
    }
   ],
   "source": [
    "hdi = pd.read_csv('householdDisposableIncome2015-2019.csv')\n",
    "hdi.head()"
   ]
  },
  {
   "cell_type": "markdown",
   "metadata": {},
   "source": [
    "We can see that the headers of the columns have inconsistent capitalization and confusing column names. Since we have decided to analyze the overall growth of household disposable income in each nation using the net perspective, we have some additional columns that aren't necessary and can be dropped."
   ]
  },
  {
   "cell_type": "code",
   "execution_count": 6,
   "metadata": {},
   "outputs": [
    {
     "data": {
      "text/html": [
       "<div>\n",
       "<style scoped>\n",
       "    .dataframe tbody tr th:only-of-type {\n",
       "        vertical-align: middle;\n",
       "    }\n",
       "\n",
       "    .dataframe tbody tr th {\n",
       "        vertical-align: top;\n",
       "    }\n",
       "\n",
       "    .dataframe thead th {\n",
       "        text-align: right;\n",
       "    }\n",
       "</style>\n",
       "<table border=\"1\" class=\"dataframe\">\n",
       "  <thead>\n",
       "    <tr style=\"text-align: right;\">\n",
       "      <th></th>\n",
       "      <th>Country</th>\n",
       "      <th>Year</th>\n",
       "      <th>Growth Rate</th>\n",
       "    </tr>\n",
       "  </thead>\n",
       "  <tbody>\n",
       "    <tr>\n",
       "      <th>0</th>\n",
       "      <td>AUS</td>\n",
       "      <td>2015</td>\n",
       "      <td>1.331200</td>\n",
       "    </tr>\n",
       "    <tr>\n",
       "      <th>1</th>\n",
       "      <td>AUS</td>\n",
       "      <td>2016</td>\n",
       "      <td>2.061030</td>\n",
       "    </tr>\n",
       "    <tr>\n",
       "      <th>2</th>\n",
       "      <td>AUS</td>\n",
       "      <td>2017</td>\n",
       "      <td>2.089534</td>\n",
       "    </tr>\n",
       "    <tr>\n",
       "      <th>3</th>\n",
       "      <td>AUS</td>\n",
       "      <td>2018</td>\n",
       "      <td>1.981832</td>\n",
       "    </tr>\n",
       "    <tr>\n",
       "      <th>4</th>\n",
       "      <td>AUS</td>\n",
       "      <td>2019</td>\n",
       "      <td>4.389412</td>\n",
       "    </tr>\n",
       "  </tbody>\n",
       "</table>\n",
       "</div>"
      ],
      "text/plain": [
       "  Country  Year  Growth Rate\n",
       "0     AUS  2015     1.331200\n",
       "1     AUS  2016     2.061030\n",
       "2     AUS  2017     2.089534\n",
       "3     AUS  2018     1.981832\n",
       "4     AUS  2019     4.389412"
      ]
     },
     "execution_count": 6,
     "metadata": {},
     "output_type": "execute_result"
    }
   ],
   "source": [
    "hdi.columns = map(str.title, hdi.columns)\n",
    "hdi = hdi.drop(columns=['Indicator','Subject', 'Measure', 'Frequency', 'Flag Codes'])\n",
    "hdi = hdi.rename(columns = {'Location':'Country'})\n",
    "hdi = hdi.rename(columns = {'Time':'Year'})\n",
    "hdi = hdi.rename(columns = {'Value':'Growth Rate'})\n",
    "\n",
    "hdi.head()"
   ]
  },
  {
   "cell_type": "markdown",
   "metadata": {},
   "source": [
    "To correspond with our other dataset, we will adjust the naming of each "
   ]
  },
  {
   "cell_type": "code",
   "execution_count": 7,
   "metadata": {},
   "outputs": [
    {
     "data": {
      "text/html": [
       "<div>\n",
       "<style scoped>\n",
       "    .dataframe tbody tr th:only-of-type {\n",
       "        vertical-align: middle;\n",
       "    }\n",
       "\n",
       "    .dataframe tbody tr th {\n",
       "        vertical-align: top;\n",
       "    }\n",
       "\n",
       "    .dataframe thead th {\n",
       "        text-align: right;\n",
       "    }\n",
       "</style>\n",
       "<table border=\"1\" class=\"dataframe\">\n",
       "  <thead>\n",
       "    <tr style=\"text-align: right;\">\n",
       "      <th></th>\n",
       "      <th>Country</th>\n",
       "      <th>Year</th>\n",
       "      <th>Growth Rate</th>\n",
       "    </tr>\n",
       "  </thead>\n",
       "  <tbody>\n",
       "    <tr>\n",
       "      <th>0</th>\n",
       "      <td>Australia</td>\n",
       "      <td>2015</td>\n",
       "      <td>1.331200</td>\n",
       "    </tr>\n",
       "    <tr>\n",
       "      <th>1</th>\n",
       "      <td>Australia</td>\n",
       "      <td>2016</td>\n",
       "      <td>2.061030</td>\n",
       "    </tr>\n",
       "    <tr>\n",
       "      <th>2</th>\n",
       "      <td>Australia</td>\n",
       "      <td>2017</td>\n",
       "      <td>2.089534</td>\n",
       "    </tr>\n",
       "    <tr>\n",
       "      <th>3</th>\n",
       "      <td>Australia</td>\n",
       "      <td>2018</td>\n",
       "      <td>1.981832</td>\n",
       "    </tr>\n",
       "    <tr>\n",
       "      <th>4</th>\n",
       "      <td>Australia</td>\n",
       "      <td>2019</td>\n",
       "      <td>4.389412</td>\n",
       "    </tr>\n",
       "  </tbody>\n",
       "</table>\n",
       "</div>"
      ],
      "text/plain": [
       "     Country  Year  Growth Rate\n",
       "0  Australia  2015     1.331200\n",
       "1  Australia  2016     2.061030\n",
       "2  Australia  2017     2.089534\n",
       "3  Australia  2018     1.981832\n",
       "4  Australia  2019     4.389412"
      ]
     },
     "execution_count": 7,
     "metadata": {},
     "output_type": "execute_result"
    }
   ],
   "source": [
    "countryAbbr = ['AUS', 'AUT', 'BEL', 'CAN', 'CZE', 'DNK', 'FIN', 'FRA', 'DEU',\n",
    "               'GRC', 'HUN', 'IRL', 'ITA', 'JPN', 'KOR', 'LUX', 'MEX', 'NLD',\n",
    "               'NZL', 'NOR', 'POL', 'PRT', 'SVK', 'ESP', 'SWE', 'CHE', 'GBR',\n",
    "               'USA', 'EST', 'RUS', 'SVN', 'ZAF', 'EA', 'EU', 'LVA', 'CRI', 'LTU']\n",
    "countryFull = [\"Australia\", \"Austria\", \"Belgium\", \"Canada\", \"Czech Republic\", \"Denmark\", \"Finland\", \"France\", \"Germany\", \n",
    "               \"Greece\", \"Hungary\", \"Ireland\", \"Italy\", \"Japan\", \"Korea\", \"Luxembourg\", \"Mexico\", \"Netherlands\", \n",
    "               \"New Zealand\", \"Norway\", \"Poland\",  \"Portugal\", \"Slovak Republic\", \"Spain\", \"Sweden\", \"Switzerland\", \"United Kingdom\", \n",
    "               \"United States\", \"Estonia\", \"Russia\", \"Solvenia\", \n",
    "               \"South Africa\", \"Euro Area\", \"European Union\", \"Latvia\", \"Costa Rica\", \"Lithuania\"]\n",
    "\n",
    "hdi['Country'] = hdi['Country'].replace(countryAbbr, countryFull, regex = True)\n",
    "hdi.head()"
   ]
  },
  {
   "cell_type": "markdown",
   "metadata": {},
   "source": [
    "Now that we have a list of OECD countries, we can modify our happiness index data to only contain data for countries that are in the OECD so that we are analyzing data of the same countries as in the annual household disposable income growth rate data."
   ]
  },
  {
   "cell_type": "code",
   "execution_count": 8,
   "metadata": {},
   "outputs": [
    {
     "data": {
      "text/html": [
       "<div>\n",
       "<style scoped>\n",
       "    .dataframe tbody tr th:only-of-type {\n",
       "        vertical-align: middle;\n",
       "    }\n",
       "\n",
       "    .dataframe tbody tr th {\n",
       "        vertical-align: top;\n",
       "    }\n",
       "\n",
       "    .dataframe thead th {\n",
       "        text-align: right;\n",
       "    }\n",
       "</style>\n",
       "<table border=\"1\" class=\"dataframe\">\n",
       "  <thead>\n",
       "    <tr style=\"text-align: right;\">\n",
       "      <th></th>\n",
       "      <th>Overall Rank</th>\n",
       "      <th>Year</th>\n",
       "      <th>Country</th>\n",
       "      <th>Region</th>\n",
       "      <th>Happiness Index</th>\n",
       "      <th>GDP</th>\n",
       "      <th>Social Support</th>\n",
       "      <th>Health Life Expectancy</th>\n",
       "      <th>Freedom To Choices</th>\n",
       "      <th>Generosity</th>\n",
       "      <th>Perceptions Of Corruption</th>\n",
       "    </tr>\n",
       "  </thead>\n",
       "  <tbody>\n",
       "    <tr>\n",
       "      <th>0</th>\n",
       "      <td>1</td>\n",
       "      <td>2015</td>\n",
       "      <td>Switzerland</td>\n",
       "      <td>Western Europe</td>\n",
       "      <td>7.587</td>\n",
       "      <td>1.397</td>\n",
       "      <td>1.350</td>\n",
       "      <td>0.941</td>\n",
       "      <td>0.666</td>\n",
       "      <td>0.297</td>\n",
       "      <td>0.420</td>\n",
       "    </tr>\n",
       "    <tr>\n",
       "      <th>2</th>\n",
       "      <td>3</td>\n",
       "      <td>2015</td>\n",
       "      <td>Denmark</td>\n",
       "      <td>Western Europe</td>\n",
       "      <td>7.527</td>\n",
       "      <td>1.325</td>\n",
       "      <td>1.361</td>\n",
       "      <td>0.875</td>\n",
       "      <td>0.649</td>\n",
       "      <td>0.341</td>\n",
       "      <td>0.484</td>\n",
       "    </tr>\n",
       "    <tr>\n",
       "      <th>3</th>\n",
       "      <td>4</td>\n",
       "      <td>2015</td>\n",
       "      <td>Norway</td>\n",
       "      <td>Western Europe</td>\n",
       "      <td>7.522</td>\n",
       "      <td>1.459</td>\n",
       "      <td>1.331</td>\n",
       "      <td>0.885</td>\n",
       "      <td>0.670</td>\n",
       "      <td>0.347</td>\n",
       "      <td>0.365</td>\n",
       "    </tr>\n",
       "    <tr>\n",
       "      <th>4</th>\n",
       "      <td>6</td>\n",
       "      <td>2015</td>\n",
       "      <td>Finland</td>\n",
       "      <td>Western Europe</td>\n",
       "      <td>7.406</td>\n",
       "      <td>1.290</td>\n",
       "      <td>1.318</td>\n",
       "      <td>0.889</td>\n",
       "      <td>0.642</td>\n",
       "      <td>0.234</td>\n",
       "      <td>0.414</td>\n",
       "    </tr>\n",
       "    <tr>\n",
       "      <th>5</th>\n",
       "      <td>7</td>\n",
       "      <td>2015</td>\n",
       "      <td>Netherlands</td>\n",
       "      <td>Western Europe</td>\n",
       "      <td>7.378</td>\n",
       "      <td>1.329</td>\n",
       "      <td>1.280</td>\n",
       "      <td>0.893</td>\n",
       "      <td>0.616</td>\n",
       "      <td>0.476</td>\n",
       "      <td>0.318</td>\n",
       "    </tr>\n",
       "  </tbody>\n",
       "</table>\n",
       "</div>"
      ],
      "text/plain": [
       "   Overall Rank  Year      Country          Region  Happiness Index    GDP  \\\n",
       "0             1  2015  Switzerland  Western Europe            7.587  1.397   \n",
       "2             3  2015      Denmark  Western Europe            7.527  1.325   \n",
       "3             4  2015       Norway  Western Europe            7.522  1.459   \n",
       "4             6  2015      Finland  Western Europe            7.406  1.290   \n",
       "5             7  2015  Netherlands  Western Europe            7.378  1.329   \n",
       "\n",
       "   Social Support  Health Life Expectancy  Freedom To Choices  Generosity  \\\n",
       "0           1.350                   0.941               0.666       0.297   \n",
       "2           1.361                   0.875               0.649       0.341   \n",
       "3           1.331                   0.885               0.670       0.347   \n",
       "4           1.318                   0.889               0.642       0.234   \n",
       "5           1.280                   0.893               0.616       0.476   \n",
       "\n",
       "   Perceptions Of Corruption  \n",
       "0                      0.420  \n",
       "2                      0.484  \n",
       "3                      0.365  \n",
       "4                      0.414  \n",
       "5                      0.318  "
      ]
     },
     "execution_count": 8,
     "metadata": {},
     "output_type": "execute_result"
    }
   ],
   "source": [
    "happiness = happiness[happiness['Country'].isin(countryFull)]\n",
    "happiness.head()"
   ]
  },
  {
   "cell_type": "markdown",
   "metadata": {},
   "source": [
    "# Data Analysis & Results"
   ]
  },
  {
   "cell_type": "markdown",
   "metadata": {},
   "source": [
    "**Firstly, let's make histograms of our two big data-values: Disposable income growth rate and happiness index. Our histograms will give a broad overview of the variable's distribution so we know what to expect in our analysis.**"
   ]
  },
  {
   "cell_type": "markdown",
   "metadata": {},
   "source": [
    "### Happiness Index\n",
    "To view the distribution of the happiness index, we used pandas' `hist()` functionality as shown below. "
   ]
  },
  {
   "cell_type": "code",
   "execution_count": 9,
   "metadata": {},
   "outputs": [
    {
     "data": {
      "image/png": "[encoded data removed]",
      "text/plain": [
       "<Figure size 432x288 with 1 Axes>"
      ]
     },
     "metadata": {
      "needs_background": "light"
     },
     "output_type": "display_data"
    }
   ],
   "source": [
    "happiness[\"Happiness Index\"].plot(kind = 'hist', subplots = True, sharex = True, \n",
    "                                  sharey = True, grid = True, title = 'Happiness Index');"
   ]
  },
  {
   "cell_type": "markdown",
   "metadata": {},
   "source": [
    "The histogram displays a bimodal distribution as the data peaks at 6.0 and 7.0. These two peaks indicates that most nations fall under two general subgroups with a lower (6.0) and higher (7.0) rating of happiness. We suggest that this may be correlated to differences in developing and developed countries, both with drastically different qualities of life, as well as other possible factors impacting the subgroups. In terms of analysis, this grouping consequently may lead to bimodial behavior in other data, as nations within the same group may share multiple attributes that similarily influence other happiness indices."
   ]
  },
  {
   "cell_type": "markdown",
   "metadata": {},
   "source": [
    "### Household Disposable Income Growth Rate\n",
    "To view the distribution of the disposable income, we used pandas' `hist()` functionality as shown below. "
   ]
  },
  {
   "cell_type": "code",
   "execution_count": 10,
   "metadata": {},
   "outputs": [
    {
     "data": {
      "image/png": "[encoded data removed]",
      "text/plain": [
       "<Figure size 432x288 with 1 Axes>"
      ]
     },
     "metadata": {
      "needs_background": "light"
     },
     "output_type": "display_data"
    }
   ],
   "source": [
    "hdi[\"Growth Rate\"].plot(kind = 'hist', subplots = True, sharex = True, \n",
    "                        sharey = True, grid = True, title = 'Household Disposable Income Growth Rate');"
   ]
  },
  {
   "cell_type": "markdown",
   "metadata": {},
   "source": [
    "We can see that the disposable income growth displays a unimodal but slightly skewed left distribution. The graph displays an edge peak distribution as there exists a large peak at 2. There seems to be no determinable correlation between the disposable income growth plot and happiness index plot."
   ]
  },
  {
   "cell_type": "markdown",
   "metadata": {},
   "source": [
    "**Next, we will view the distribution for each factor of the happiness index that we are evaluating: social support, health life expectancy, freedom to choices, generosity, and perceptions of corruption. We used pandas' `hist()` functionality as shown below.**\n",
    "\n",
    "The values for each of these sub factors are the estimated extent to which they contribute to making life evaluations higher in each country than if they were in a state of Dystopia. Dystopia is defined to be a hypothetical country that has values equal to the lowest national averages in the world. The idea behind Dystopia is to establish a benchmark to which countries can be favorably compared to because no country can have worse evaluations than Dystopia. The values for these sub factors take into account the average life evaluations in Dystopia and each country's residual, representing the average amount by which the country's overall happiness index is higher as a result of performing better than Dystopia. These factors are an attempt to rationalize why some countries rank higher or lower. "
   ]
  },
  {
   "cell_type": "markdown",
   "metadata": {},
   "source": [
    "### Social Support"
   ]
  },
  {
   "cell_type": "code",
   "execution_count": 11,
   "metadata": {},
   "outputs": [
    {
     "data": {
      "image/png": "[encoded data removed]",
      "text/plain": [
       "<Figure size 432x288 with 1 Axes>"
      ]
     },
     "metadata": {
      "needs_background": "light"
     },
     "output_type": "display_data"
    }
   ],
   "source": [
    "happiness[\"Social Support\"].plot(kind = 'hist', subplots = True, sharex = True, \n",
    "                                 sharey = True, grid = True, title = 'Social Support');"
   ]
  },
  {
   "cell_type": "markdown",
   "metadata": {},
   "source": [
    "### Healthy Life Expectancy"
   ]
  },
  {
   "cell_type": "code",
   "execution_count": 12,
   "metadata": {},
   "outputs": [
    {
     "data": {
      "image/png": "[encoded data removed]",
      "text/plain": [
       "<Figure size 432x288 with 1 Axes>"
      ]
     },
     "metadata": {
      "needs_background": "light"
     },
     "output_type": "display_data"
    }
   ],
   "source": [
    "happiness[\"Health Life Expectancy\"].plot(kind = 'hist', subplots = True, sharex = True, \n",
    "                                         sharey = True, grid = True, title = 'Health Life Expectancy');"
   ]
  },
  {
   "cell_type": "markdown",
   "metadata": {},
   "source": [
    "### Freedom to Life Choices"
   ]
  },
  {
   "cell_type": "code",
   "execution_count": 13,
   "metadata": {},
   "outputs": [
    {
     "data": {
      "image/png": "[encoded data removed]",
      "text/plain": [
       "<Figure size 432x288 with 1 Axes>"
      ]
     },
     "metadata": {
      "needs_background": "light"
     },
     "output_type": "display_data"
    }
   ],
   "source": [
    "happiness[\"Freedom To Choices\"].plot(kind = 'hist', subplots = True, sharex = True, \n",
    "                                     sharey = True, grid = True, title = 'Freedom To Choices');"
   ]
  },
  {
   "cell_type": "markdown",
   "metadata": {},
   "source": [
    "### Generosity"
   ]
  },
  {
   "cell_type": "code",
   "execution_count": 14,
   "metadata": {},
   "outputs": [
    {
     "data": {
      "image/png": "[encoded data removed]",
      "text/plain": [
       "<Figure size 432x288 with 1 Axes>"
      ]
     },
     "metadata": {
      "needs_background": "light"
     },
     "output_type": "display_data"
    }
   ],
   "source": [
    "happiness[\"Generosity\"].plot(kind = 'hist', subplots = True, sharex = True, \n",
    "                             sharey = True, grid = True, title = 'Generosity');"
   ]
  },
  {
   "cell_type": "markdown",
   "metadata": {},
   "source": [
    "### Perceptions of Corruption"
   ]
  },
  {
   "cell_type": "code",
   "execution_count": 15,
   "metadata": {},
   "outputs": [
    {
     "data": {
      "image/png": "[encoded data removed]",
      "text/plain": [
       "<Figure size 432x288 with 1 Axes>"
      ]
     },
     "metadata": {
      "needs_background": "light"
     },
     "output_type": "display_data"
    }
   ],
   "source": [
    "happiness[\"Perceptions Of Corruption\"].plot(kind = 'hist', subplots = True, sharex = True, \n",
    "                                            sharey = True, grid = True, title = 'Perceptions Of Corruption');"
   ]
  },
  {
   "cell_type": "markdown",
   "metadata": {},
   "source": [
    "Social Support, Health Life Expectency, and Freedom to Choices seem to be skewed left, while Generosity and Perceptions of Corruption have multimodal  distributions. \n",
    "\n",
    "The density of high Social Support, Health Life Expectency, and Freedom to Choices ratings may be correlated to a general consensus that a majority of OECD nations are satisfied with these factors. Therefore, these three indices do not seem to be impacted by the bimodal behavior of the happiness index data.\n",
    "\n",
    "On the other hand, the multimodal distribution of Generosity and Perceptions of Corruption imply that there are varying levels of satisfaction with the population's overall generosity and nation's strong presence of corruption amongst these nations. These two factors may have been impacted by the bimodal behavior of the happiness index data. A possible explanation of this may relate to the earlier suggestion of two distinct subgroups each OECD nation falls under -- more developed countries may exhibit more satisfaction with these two factors, while less developed countries may exhibit significantly less satisfaction with these two factors."
   ]
  },
  {
   "cell_type": "markdown",
   "metadata": {},
   "source": [
    "**Now, we'll create a merged dataframe of our country's information, including name, year of observation, disposable income level, and score for each of the factors. We get this dataframe using pandas' merge() functionality, and see as below.**"
   ]
  },
  {
   "cell_type": "code",
   "execution_count": 16,
   "metadata": {},
   "outputs": [
    {
     "data": {
      "text/html": [
       "<div>\n",
       "<style scoped>\n",
       "    .dataframe tbody tr th:only-of-type {\n",
       "        vertical-align: middle;\n",
       "    }\n",
       "\n",
       "    .dataframe tbody tr th {\n",
       "        vertical-align: top;\n",
       "    }\n",
       "\n",
       "    .dataframe thead th {\n",
       "        text-align: right;\n",
       "    }\n",
       "</style>\n",
       "<table border=\"1\" class=\"dataframe\">\n",
       "  <thead>\n",
       "    <tr style=\"text-align: right;\">\n",
       "      <th></th>\n",
       "      <th>Country</th>\n",
       "      <th>Year</th>\n",
       "      <th>Growth Rate</th>\n",
       "      <th>Happiness Index</th>\n",
       "      <th>Social Support</th>\n",
       "      <th>Health Life Expectancy</th>\n",
       "      <th>Freedom To Choices</th>\n",
       "      <th>Generosity</th>\n",
       "      <th>Perceptions Of Corruption</th>\n",
       "    </tr>\n",
       "  </thead>\n",
       "  <tbody>\n",
       "    <tr>\n",
       "      <th>0</th>\n",
       "      <td>Australia</td>\n",
       "      <td>2015</td>\n",
       "      <td>1.331200</td>\n",
       "      <td>7.284</td>\n",
       "      <td>1.309</td>\n",
       "      <td>0.932</td>\n",
       "      <td>0.651</td>\n",
       "      <td>0.436</td>\n",
       "      <td>0.356</td>\n",
       "    </tr>\n",
       "    <tr>\n",
       "      <th>1</th>\n",
       "      <td>Australia</td>\n",
       "      <td>2016</td>\n",
       "      <td>2.061030</td>\n",
       "      <td>7.313</td>\n",
       "      <td>1.105</td>\n",
       "      <td>0.851</td>\n",
       "      <td>0.568</td>\n",
       "      <td>0.474</td>\n",
       "      <td>0.323</td>\n",
       "    </tr>\n",
       "    <tr>\n",
       "      <th>2</th>\n",
       "      <td>Australia</td>\n",
       "      <td>2017</td>\n",
       "      <td>2.089534</td>\n",
       "      <td>7.284</td>\n",
       "      <td>1.510</td>\n",
       "      <td>0.844</td>\n",
       "      <td>0.602</td>\n",
       "      <td>0.478</td>\n",
       "      <td>0.301</td>\n",
       "    </tr>\n",
       "    <tr>\n",
       "      <th>3</th>\n",
       "      <td>Australia</td>\n",
       "      <td>2018</td>\n",
       "      <td>1.981832</td>\n",
       "      <td>7.272</td>\n",
       "      <td>1.573</td>\n",
       "      <td>0.910</td>\n",
       "      <td>0.647</td>\n",
       "      <td>0.361</td>\n",
       "      <td>0.302</td>\n",
       "    </tr>\n",
       "    <tr>\n",
       "      <th>4</th>\n",
       "      <td>Australia</td>\n",
       "      <td>2019</td>\n",
       "      <td>4.389412</td>\n",
       "      <td>7.228</td>\n",
       "      <td>1.548</td>\n",
       "      <td>1.036</td>\n",
       "      <td>0.557</td>\n",
       "      <td>0.332</td>\n",
       "      <td>0.290</td>\n",
       "    </tr>\n",
       "  </tbody>\n",
       "</table>\n",
       "</div>"
      ],
      "text/plain": [
       "     Country  Year  Growth Rate  Happiness Index  Social Support  \\\n",
       "0  Australia  2015     1.331200            7.284           1.309   \n",
       "1  Australia  2016     2.061030            7.313           1.105   \n",
       "2  Australia  2017     2.089534            7.284           1.510   \n",
       "3  Australia  2018     1.981832            7.272           1.573   \n",
       "4  Australia  2019     4.389412            7.228           1.548   \n",
       "\n",
       "   Health Life Expectancy  Freedom To Choices  Generosity  \\\n",
       "0                   0.932               0.651       0.436   \n",
       "1                   0.851               0.568       0.474   \n",
       "2                   0.844               0.602       0.478   \n",
       "3                   0.910               0.647       0.361   \n",
       "4                   1.036               0.557       0.332   \n",
       "\n",
       "   Perceptions Of Corruption  \n",
       "0                      0.356  \n",
       "1                      0.323  \n",
       "2                      0.301  \n",
       "3                      0.302  \n",
       "4                      0.290  "
      ]
     },
     "execution_count": 16,
     "metadata": {},
     "output_type": "execute_result"
    }
   ],
   "source": [
    "subset_1 = hdi[['Country', 'Year', 'Growth Rate']]\n",
    "subset_2 = happiness[['Country', 'Year', 'Happiness Index', 'Social Support', 'Health Life Expectancy', 'Freedom To Choices', 'Generosity', 'Perceptions Of Corruption']]\n",
    "\n",
    "hdi_and_happ = pd.merge(subset_1, subset_2, how = 'inner')\n",
    "hdi_and_happ.head()"
   ]
  },
  {
   "cell_type": "markdown",
   "metadata": {},
   "source": [
    "**Next, we'll take a quick look at each country's happiness index distribution versus growth rates by year in the form of a scatterplot. We've included the three most visually different scatterplots to demonstrate the point that these scatterplots form no consistent pattern across years.**"
   ]
  },
  {
   "cell_type": "code",
   "execution_count": 22,
   "metadata": {},
   "outputs": [
    {
     "data": {
      "text/plain": [
       "<seaborn.axisgrid.FacetGrid at 0x7fe938401430>"
      ]
     },
     "execution_count": 22,
     "metadata": {},
     "output_type": "execute_result"
    },
    {
     "data": {
      "image/png": "[encoded data removed]",
      "text/plain": [
       "<Figure size 360x360 with 1 Axes>"
      ]
     },
     "metadata": {
      "needs_background": "light"
     },
     "output_type": "display_data"
    },
    {
     "data": {
      "image/png": "[encoded data removed]",
      "text/plain": [
       "<Figure size 360x360 with 1 Axes>"
      ]
     },
     "metadata": {
      "needs_background": "light"
     },
     "output_type": "display_data"
    },
    {
     "data": {
      "image/png": "[encoded data removed]",
      "text/plain": [
       "<Figure size 360x360 with 1 Axes>"
      ]
     },
     "metadata": {
      "needs_background": "light"
     },
     "output_type": "display_data"
    }
   ],
   "source": [
    "hdi_and_happ_2016 = hdi_and_happ.loc[hdi_and_happ['Year'] == 2016]\n",
    "hdi_and_happ_2017 = hdi_and_happ.loc[hdi_and_happ['Year'] == 2017]\n",
    "hdi_and_happ_2019 = hdi_and_happ.loc[hdi_and_happ['Year'] == 2019]\n",
    "\n",
    "\n",
    "sns.lmplot(x = 'Growth Rate', y = 'Happiness Index', data = hdi_and_happ_2016, fit_reg = True)\n",
    "sns.lmplot(x = 'Growth Rate', y = 'Happiness Index', data = hdi_and_happ_2017, fit_reg = True)\n",
    "sns.lmplot(x = 'Growth Rate', y = 'Happiness Index', data = hdi_and_happ_2019, fit_reg = True)"
   ]
  },
  {
   "cell_type": "markdown",
   "metadata": {},
   "source": [
    "One possible reason for this spread of correlations is that growth rate is a statistic measured across two years, while happiness index is a single year value. As such, the idea of \"increase\", \"decrease\", \"positive\", and \"negative\" are not the same between the two. This makes honing down on some pattern harder, which we note in our observations. \n",
    "\n",
    "**Next, having taken a comparative look at each factor versus growth rate via scatterplots, we note that perception of corruption is the most visually correlated with growth rate. We choose not to include every single graph in order to make the report more clear to the reader.**"
   ]
  },
  {
   "cell_type": "markdown",
   "metadata": {},
   "source": [
    "### Perceptions of Corruption vs. Disposable Income Growth Rate"
   ]
  },
  {
   "cell_type": "code",
   "execution_count": 23,
   "metadata": {},
   "outputs": [
    {
     "data": {
      "text/plain": [
       "<seaborn.axisgrid.FacetGrid at 0x7fe928200160>"
      ]
     },
     "execution_count": 23,
     "metadata": {},
     "output_type": "execute_result"
    },
    {
     "data": {
      "image/png": "[encoded data removed]",
      "text/plain": [
       "<Figure size 360x360 with 1 Axes>"
      ]
     },
     "metadata": {
      "needs_background": "light"
     },
     "output_type": "display_data"
    }
   ],
   "source": [
    "sns.lmplot(x = 'Growth Rate', y = 'Perceptions Of Corruption', data = hdi_and_happ, fit_reg = True)"
   ]
  },
  {
   "cell_type": "markdown",
   "metadata": {},
   "source": [
    "**Now, we can perform linear regression to confirm our belief that changes in the growth rate of a country reflects changes in how corrupt the country is perceived.**\n",
    "\n",
    "Firstly, we'll subset the dataframe to only containing the columns 'Perceptions Of Corruption' and 'Growth Rate'. Since we will be using `dmatrices()` from the `patsy` library to construct design matrices from our formula, we'll rename the columns to be readable by the function. "
   ]
  },
  {
   "cell_type": "code",
   "execution_count": 24,
   "metadata": {},
   "outputs": [],
   "source": [
    "subset = hdi_and_happ[['Perceptions Of Corruption', 'Growth Rate']].rename(\n",
    "    columns = {'Perceptions Of Corruption': 'corruption', 'Growth Rate': 'growth_rate'})"
   ]
  },
  {
   "cell_type": "markdown",
   "metadata": {},
   "source": [
    "Next, we'll run `dmatrices()` with the formula connecting corruption with growth rate, and generate two matrices. We'll input these values, labeled X and y, into sm's ordinary-least-squares, or `OLS()`, function and fit the model. We've chosen to use `OLS` because we want to best estimate the unknown parameters of our linear modes. "
   ]
  },
  {
   "cell_type": "code",
   "execution_count": 25,
   "metadata": {},
   "outputs": [],
   "source": [
    "y, X = patsy.dmatrices('corruption ~ growth_rate', subset)\n",
    "model = sm.OLS(y, X).fit()"
   ]
  },
  {
   "cell_type": "markdown",
   "metadata": {},
   "source": [
    "Finally, we can run the `summary()` function to get our coefficient and p-value to see how useful our model is."
   ]
  },
  {
   "cell_type": "code",
   "execution_count": 26,
   "metadata": {},
   "outputs": [
    {
     "data": {
      "text/html": [
       "<table class=\"simpletable\">\n",
       "<caption>OLS Regression Results</caption>\n",
       "<tr>\n",
       "  <th>Dep. Variable:</th>       <td>corruption</td>    <th>  R-squared:         </th> <td>   0.010</td>\n",
       "</tr>\n",
       "<tr>\n",
       "  <th>Model:</th>                   <td>OLS</td>       <th>  Adj. R-squared:    </th> <td>   0.003</td>\n",
       "</tr>\n",
       "<tr>\n",
       "  <th>Method:</th>             <td>Least Squares</td>  <th>  F-statistic:       </th> <td>   1.433</td>\n",
       "</tr>\n",
       "<tr>\n",
       "  <th>Date:</th>             <td>Thu, 09 Dec 2021</td> <th>  Prob (F-statistic):</th>  <td> 0.233</td> \n",
       "</tr>\n",
       "<tr>\n",
       "  <th>Time:</th>                 <td>23:29:25</td>     <th>  Log-Likelihood:    </th> <td>  82.301</td>\n",
       "</tr>\n",
       "<tr>\n",
       "  <th>No. Observations:</th>      <td>   149</td>      <th>  AIC:               </th> <td>  -160.6</td>\n",
       "</tr>\n",
       "<tr>\n",
       "  <th>Df Residuals:</th>          <td>   147</td>      <th>  BIC:               </th> <td>  -154.6</td>\n",
       "</tr>\n",
       "<tr>\n",
       "  <th>Df Model:</th>              <td>     1</td>      <th>                     </th>     <td> </td>   \n",
       "</tr>\n",
       "<tr>\n",
       "  <th>Covariance Type:</th>      <td>nonrobust</td>    <th>                     </th>     <td> </td>   \n",
       "</tr>\n",
       "</table>\n",
       "<table class=\"simpletable\">\n",
       "<tr>\n",
       "       <td></td>          <th>coef</th>     <th>std err</th>      <th>t</th>      <th>P>|t|</th>  <th>[0.025</th>    <th>0.975]</th>  \n",
       "</tr>\n",
       "<tr>\n",
       "  <th>Intercept</th>   <td>    0.2144</td> <td>    0.019</td> <td>   11.198</td> <td> 0.000</td> <td>    0.177</td> <td>    0.252</td>\n",
       "</tr>\n",
       "<tr>\n",
       "  <th>growth_rate</th> <td>   -0.0074</td> <td>    0.006</td> <td>   -1.197</td> <td> 0.233</td> <td>   -0.020</td> <td>    0.005</td>\n",
       "</tr>\n",
       "</table>\n",
       "<table class=\"simpletable\">\n",
       "<tr>\n",
       "  <th>Omnibus:</th>       <td>140.183</td> <th>  Durbin-Watson:     </th> <td>   0.383</td>\n",
       "</tr>\n",
       "<tr>\n",
       "  <th>Prob(Omnibus):</th> <td> 0.000</td>  <th>  Jarque-Bera (JB):  </th> <td>  11.633</td>\n",
       "</tr>\n",
       "<tr>\n",
       "  <th>Skew:</th>          <td> 0.139</td>  <th>  Prob(JB):          </th> <td> 0.00298</td>\n",
       "</tr>\n",
       "<tr>\n",
       "  <th>Kurtosis:</th>      <td> 1.660</td>  <th>  Cond. No.          </th> <td>    5.52</td>\n",
       "</tr>\n",
       "</table><br/><br/>Notes:<br/>[1] Standard Errors assume that the covariance matrix of the errors is correctly specified."
      ],
      "text/plain": [
       "<class 'statsmodels.iolib.summary.Summary'>\n",
       "\"\"\"\n",
       "                            OLS Regression Results                            \n",
       "==============================================================================\n",
       "Dep. Variable:             corruption   R-squared:                       0.010\n",
       "Model:                            OLS   Adj. R-squared:                  0.003\n",
       "Method:                 Least Squares   F-statistic:                     1.433\n",
       "Date:                Thu, 09 Dec 2021   Prob (F-statistic):              0.233\n",
       "Time:                        23:29:25   Log-Likelihood:                 82.301\n",
       "No. Observations:                 149   AIC:                            -160.6\n",
       "Df Residuals:                     147   BIC:                            -154.6\n",
       "Df Model:                           1                                         \n",
       "Covariance Type:            nonrobust                                         \n",
       "===============================================================================\n",
       "                  coef    std err          t      P>|t|      [0.025      0.975]\n",
       "-------------------------------------------------------------------------------\n",
       "Intercept       0.2144      0.019     11.198      0.000       0.177       0.252\n",
       "growth_rate    -0.0074      0.006     -1.197      0.233      -0.020       0.005\n",
       "==============================================================================\n",
       "Omnibus:                      140.183   Durbin-Watson:                   0.383\n",
       "Prob(Omnibus):                  0.000   Jarque-Bera (JB):               11.633\n",
       "Skew:                           0.139   Prob(JB):                      0.00298\n",
       "Kurtosis:                       1.660   Cond. No.                         5.52\n",
       "==============================================================================\n",
       "\n",
       "Notes:\n",
       "[1] Standard Errors assume that the covariance matrix of the errors is correctly specified.\n",
       "\"\"\""
      ]
     },
     "execution_count": 26,
     "metadata": {},
     "output_type": "execute_result"
    }
   ],
   "source": [
    "model.summary()"
   ]
  },
  {
   "cell_type": "markdown",
   "metadata": {},
   "source": [
    "As we can see, the likelihood of generating these, or more extreme, values due to random chance is about 23%, which is well above the standard statisical threshold of 5%. As such, we fail to reject the null hypothesis for this test, which is that there is no statisical correlation between growth rate and corruption perception. \n",
    "\n",
    "Therefore, we cannot be sure that there really exists any linear relationship between a country's perceived corruption score, and its disposable income growth rate. \n",
    "\n",
    "This is further made clear by looking at the coefficient, which is -0.0074, denoting that if there exists any linear pattern, the change between values is incredibly small. "
   ]
  },
  {
   "cell_type": "markdown",
   "metadata": {},
   "source": [
    "**Next, we can perform linear regression to confirm our belief that changes in the household disposable income growth rate of a country reflects changes in the overall happiness index.**\n",
    "\n",
    "Firstly, we'll subset the dataframe to only contain the columns 'Happiness Index' and 'Growth Rate' and disregarding year here in order to get an overall view of the relationship between the two variables."
   ]
  },
  {
   "cell_type": "code",
   "execution_count": 27,
   "metadata": {},
   "outputs": [],
   "source": [
    "subset2 = hdi_and_happ[['Happiness Index', 'Growth Rate']].rename(\n",
    "    columns = {'Happiness Index': 'happiness_index', 'Growth Rate': 'growth_rate'})"
   ]
  },
  {
   "cell_type": "markdown",
   "metadata": {},
   "source": [
    "Next, we'll run `dmatrices()` with the formula connecting happiness index with growth rate, and generate two matrices. We'll input these values, labeled X2 and y2, into sm's ordinary-least-squares, or `OLS()`, function and fit the model. "
   ]
  },
  {
   "cell_type": "code",
   "execution_count": 28,
   "metadata": {},
   "outputs": [],
   "source": [
    "y2, X2 = patsy.dmatrices('happiness_index ~ growth_rate', subset2)\n",
    "model2 = sm.OLS(y2, X2).fit()"
   ]
  },
  {
   "cell_type": "markdown",
   "metadata": {},
   "source": [
    "Finally, we can run the `summary()` function to get our coefficient and p-value to see how useful our model is."
   ]
  },
  {
   "cell_type": "code",
   "execution_count": 29,
   "metadata": {},
   "outputs": [
    {
     "data": {
      "text/html": [
       "<table class=\"simpletable\">\n",
       "<caption>OLS Regression Results</caption>\n",
       "<tr>\n",
       "  <th>Dep. Variable:</th>     <td>happiness_index</td> <th>  R-squared:         </th> <td>   0.004</td>\n",
       "</tr>\n",
       "<tr>\n",
       "  <th>Model:</th>                   <td>OLS</td>       <th>  Adj. R-squared:    </th> <td>  -0.003</td>\n",
       "</tr>\n",
       "<tr>\n",
       "  <th>Method:</th>             <td>Least Squares</td>  <th>  F-statistic:       </th> <td>  0.5292</td>\n",
       "</tr>\n",
       "<tr>\n",
       "  <th>Date:</th>             <td>Thu, 09 Dec 2021</td> <th>  Prob (F-statistic):</th>  <td> 0.468</td> \n",
       "</tr>\n",
       "<tr>\n",
       "  <th>Time:</th>                 <td>23:29:28</td>     <th>  Log-Likelihood:    </th> <td> -183.19</td>\n",
       "</tr>\n",
       "<tr>\n",
       "  <th>No. Observations:</th>      <td>   149</td>      <th>  AIC:               </th> <td>   370.4</td>\n",
       "</tr>\n",
       "<tr>\n",
       "  <th>Df Residuals:</th>          <td>   147</td>      <th>  BIC:               </th> <td>   376.4</td>\n",
       "</tr>\n",
       "<tr>\n",
       "  <th>Df Model:</th>              <td>     1</td>      <th>                     </th>     <td> </td>   \n",
       "</tr>\n",
       "<tr>\n",
       "  <th>Covariance Type:</th>      <td>nonrobust</td>    <th>                     </th>     <td> </td>   \n",
       "</tr>\n",
       "</table>\n",
       "<table class=\"simpletable\">\n",
       "<tr>\n",
       "       <td></td>          <th>coef</th>     <th>std err</th>      <th>t</th>      <th>P>|t|</th>  <th>[0.025</th>    <th>0.975]</th>  \n",
       "</tr>\n",
       "<tr>\n",
       "  <th>Intercept</th>   <td>    6.6167</td> <td>    0.114</td> <td>   58.173</td> <td> 0.000</td> <td>    6.392</td> <td>    6.841</td>\n",
       "</tr>\n",
       "<tr>\n",
       "  <th>growth_rate</th> <td>   -0.0267</td> <td>    0.037</td> <td>   -0.727</td> <td> 0.468</td> <td>   -0.099</td> <td>    0.046</td>\n",
       "</tr>\n",
       "</table>\n",
       "<table class=\"simpletable\">\n",
       "<tr>\n",
       "  <th>Omnibus:</th>       <td>14.468</td> <th>  Durbin-Watson:     </th> <td>   0.281</td>\n",
       "</tr>\n",
       "<tr>\n",
       "  <th>Prob(Omnibus):</th> <td> 0.001</td> <th>  Jarque-Bera (JB):  </th> <td>  12.341</td>\n",
       "</tr>\n",
       "<tr>\n",
       "  <th>Skew:</th>          <td>-0.618</td> <th>  Prob(JB):          </th> <td> 0.00209</td>\n",
       "</tr>\n",
       "<tr>\n",
       "  <th>Kurtosis:</th>      <td> 2.321</td> <th>  Cond. No.          </th> <td>    5.52</td>\n",
       "</tr>\n",
       "</table><br/><br/>Notes:<br/>[1] Standard Errors assume that the covariance matrix of the errors is correctly specified."
      ],
      "text/plain": [
       "<class 'statsmodels.iolib.summary.Summary'>\n",
       "\"\"\"\n",
       "                            OLS Regression Results                            \n",
       "==============================================================================\n",
       "Dep. Variable:        happiness_index   R-squared:                       0.004\n",
       "Model:                            OLS   Adj. R-squared:                 -0.003\n",
       "Method:                 Least Squares   F-statistic:                    0.5292\n",
       "Date:                Thu, 09 Dec 2021   Prob (F-statistic):              0.468\n",
       "Time:                        23:29:28   Log-Likelihood:                -183.19\n",
       "No. Observations:                 149   AIC:                             370.4\n",
       "Df Residuals:                     147   BIC:                             376.4\n",
       "Df Model:                           1                                         \n",
       "Covariance Type:            nonrobust                                         \n",
       "===============================================================================\n",
       "                  coef    std err          t      P>|t|      [0.025      0.975]\n",
       "-------------------------------------------------------------------------------\n",
       "Intercept       6.6167      0.114     58.173      0.000       6.392       6.841\n",
       "growth_rate    -0.0267      0.037     -0.727      0.468      -0.099       0.046\n",
       "==============================================================================\n",
       "Omnibus:                       14.468   Durbin-Watson:                   0.281\n",
       "Prob(Omnibus):                  0.001   Jarque-Bera (JB):               12.341\n",
       "Skew:                          -0.618   Prob(JB):                      0.00209\n",
       "Kurtosis:                       2.321   Cond. No.                         5.52\n",
       "==============================================================================\n",
       "\n",
       "Notes:\n",
       "[1] Standard Errors assume that the covariance matrix of the errors is correctly specified.\n",
       "\"\"\""
      ]
     },
     "execution_count": 29,
     "metadata": {},
     "output_type": "execute_result"
    }
   ],
   "source": [
    "model2.summary()"
   ]
  },
  {
   "cell_type": "markdown",
   "metadata": {},
   "source": [
    "As we can see, the likelihood of generating these, or more extreme, values due to random chance is about 47%, which is well above the standard statisical threshold of 5%. As such, we fail to reject the null hypothesis for this test, which is that there is no statisical correlation between growth rate and happiness index.\n",
    "\n",
    "Therefore, we cannot be sure that there really exists any linear relationship between a country's happiness index and its disposable income growth rate. \n",
    "\n",
    "This is further made clear by looking at the coefficient, which is -0.0267, denoting that if there exists any linear pattern, the change between values is incredibly small. "
   ]
  },
  {
   "cell_type": "markdown",
   "metadata": {},
   "source": [
    "# Ethics & Privacy"
   ]
  },
  {
   "cell_type": "markdown",
   "metadata": {},
   "source": [
    "### Data Collection\n",
    "The World Happiness Report was written by a group of independent experts and the household disposable income dataset was published by the OECD. These datasets are made available to the public with consent from all the participants. All of the data included has been aggregated from entire populations of people. Therefore, there are no issues concerning privacy of personal information or terms of use. The sources of our datasets are also reliable and make strong attempts to collect their information in a comprehensive and unbiased way. The World Happiness Report uses rankings from nationally representative samples and the OECD compiles its data according the System of National Accounts, which is the internationally agreed standard system of measuring economic activity. \n",
    "\n",
    "### Potential Biases \n",
    "However, there are potential biases with the World Happiness Report datasets because the responses are self-reported and respondents may over-report, under-report, or attempt to provide socially desirable responses. It's also important to note that certain factors being measured may not translate directly into happiness and correlation does not mean causation. As we do our analysis, we avoid arriving at any conclusions suggesting otherwise. "
   ]
  },
  {
   "cell_type": "markdown",
   "metadata": {},
   "source": [
    "# Conclusion & Discussion"
   ]
  },
  {
   "cell_type": "markdown",
   "metadata": {},
   "source": [
    "To conclude, the project compares the relationship between countries’ household disposable income growth rate and the National Happiness Index. Before finalizing a research question, a thorough background research was conducted. This involved analyzing several reports and research papers which examined the effect of money on happiness. However, a few of the studies overlooked external factors like taxes and some of them were conducted about 20 years ago, making the data outdated.\n",
    "\n",
    "This helped us arrive at our research question, “What trends can be found between a country’s happiness index and its annual household disposable income growth rate? To what extent do factors such as healthy life expectancy, social support, freedom to make life choices, generosity, and corruption perception, affect a country’s annual household disposable income growth rate?”\n",
    "\n",
    "We started off by extracting data from the Organization for Economic Cooperation and Development (OECD) website which was then cleaned, filtered, and merged into one dataset. Hence our main aim was to find a correlation between disposable income and happiness on a global scale to avoid any biases related to culture. In addition to this, we made sure to study external factors that other reports had overlooked such as social support, perceptions of corruption, freedom of life choices, and healthy life expectancy and thus multiple scatterplots and histograms for each of these factors were generated to visually examine the trends and patterns. \n",
    "\n",
    "We noticed that there existed a visual correlation between perceptions of corruption and growth and ran a linear ordinary-least-squares analysis to determine the parameters of the possible relation, as well as one for index versus growth rate. In both these cases, we did not find conclusive proof of a relation, and hence it did not support our hypothesis."
   ]
  },
  {
   "cell_type": "markdown",
   "metadata": {},
   "source": [
    "# Team Contributions"
   ]
  },
  {
   "cell_type": "markdown",
   "metadata": {},
   "source": [
    "Gokul: Cleaned happiness index CSV file, generated and wrote about scatter plots regarding growth rate vs (perceptions of corruption, health life expectancy, generosity), ran and explained statistical tests on growth rate vs. perceptions of corruption, \n",
    "\n",
    "\n",
    "Caroline: Cleaned disposable income growth CSV file, create scatterplots for disposable income growth rate vs happiness index year-by-year, ran statistical tests on overall happiness index vs. growth rate (of all years), make histograms for each factor of happiness index\n",
    "\n",
    "\n",
    "Carmen: Analyzed and explained visualizations for EDA, wrote Ethics and Privacy section, added explanations about each data set \n",
    "\n",
    "\n",
    "Vanessa: Cleaned happiness index CSV file, analyzed scatterplots for disposable income growth rate vs. happiness index, analyzed scatterplots for disposable income growth rate vs. happiness indices (social support, health life expectancy, freedom to choices, generosity, perceptions of corruption), analyzed histogram distributions and behaviors, and analyzed correlation between plots.\n",
    "\n",
    "\n",
    "Iisha: Created and explained the happiness index and disposable income histograms; worked on the discussion and conclusion section of the final project\n",
    "\n",
    "\n",
    "All Contributed to: Creating final video and slides"
   ]
  }
 ],
 "metadata": {
  "kernelspec": {
   "display_name": "Python 3",
   "language": "python",
   "name": "python3"
  },
  "language_info": {
   "codemirror_mode": {
    "name": "ipython",
    "version": 3
   },
   "file_extension": ".py",
   "mimetype": "text/x-python",
   "name": "python",
   "nbconvert_exporter": "python",
   "pygments_lexer": "ipython3",
   "version": "3.8.8"
  }
 },
 "nbformat": 4,
 "nbformat_minor": 2
}
