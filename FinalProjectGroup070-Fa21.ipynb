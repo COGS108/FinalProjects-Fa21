{
 "cells": [
  {
   "cell_type": "markdown",
   "source": [
    "# COGS 108 - Death Brokerage"
   ],
   "metadata": {}
  },
  {
   "cell_type": "markdown",
   "source": [
    "## Permissions\n",
    "\n",
    "Place an `X` in the appropriate bracket below to specify if you would like your group's project to be made available to the public. (Note that student names will be included (but PIDs will be scraped from any groups who include their PIDs).\n",
    "\n",
    "* [ X ] YES - make available\n",
    "* [  ] NO - keep private"
   ],
   "metadata": {}
  },
  {
   "cell_type": "markdown",
   "source": [
    "# Overview"
   ],
   "metadata": {}
  },
  {
   "cell_type": "markdown",
   "source": [
    "This project explores how deaths in the Iraq war correlate with U.S. energy and defense stocks. Data was collected from publicly available online datasets. The data was analyzed using t-tests, linear regression and dynamic time warping. The results show a negative correlation between Iraq deaths and U.S. defense stock price."
   ],
   "metadata": {}
  },
  {
   "cell_type": "markdown",
   "source": [
    "# Names\n",
    "\n",
    "- Michelle Belon\n",
    "- Antonio Aldama \n",
    "- Mustansir Taquee \n",
    "- Leslie Carrillo"
   ],
   "metadata": {}
  },
  {
   "cell_type": "markdown",
   "source": [
    "<a id='research_question'></a>\n",
    "# Research Question\n"
   ],
   "metadata": {}
  },
  {
   "cell_type": "markdown",
   "source": [
    "Do war-related civilian deaths in Middle Eastern wars with U.S. involvement impact U.S. energy and defense stock prices?"
   ],
   "metadata": {}
  },
  {
   "cell_type": "markdown",
   "source": [
    "<a id='background'></a>\n",
    "\n",
    "## Background & Prior Work"
   ],
   "metadata": {}
  },
  {
   "cell_type": "markdown",
   "source": [
    "In the context of oil markets, war has gone hand-in-hand with global oil prices. “War and the Oil Price Cycle” summarizes how these two factors influence one another. First, when oil prices are high, economies slow leading to a reemergence of social problems. These social upsets can and often are solved by military intervention, wherein “governments use newly purchased arms, which ironically begins the cycle yet again, as new conflicts disrupt oil supplies” (Jaffe and Elass). This described arms race is complicated by the existence of groups such as ISIS, who threaten energy infrastructure in their occupied countries. Therefore while energy markets, such as oil, experience natural changes in supply and demand, there is the accompanying political cycle that influences prices. To summarise this cycle, when prices are high, countries reliant on energy markets invest in arms and military in order to protect from “external threats...and internal challenges.” Unintentionally, while countries boost their security, terrorist organizations also profit, and thus “the flow of weapons driven by oil price boom then increases the geopolitical risk to oil production.” \n",
    " \n",
    "Research that has attempted to answer an adjacent question is What Do Financial Markets Think of War in Iraq? by Leigh, et al. Researchers compared oil spot prices with movement in the Saddam Security, a security traded on an online betting platform that is dependent on the ousting of Saddam. They claim that this security is a proxy for estimating the probability of war. The analysis suggested that war is positively correlated with oil prices, “a ten percent rise in the probability of war with Iraq raises oil prices by about $1 per barrel, suggesting that war leads oil prices to rise around $10 per barrel higher, relative to the no-war counterfactual” (Leigh et al. 1). Researchers additionally compare movement in Saddam Security with the S&P 500, which showed a 10% increase in the probability of war in Iraq leads to a drop of 1 ½ percent. With regards to our project, this research shows that expectations on war and conflict, not necessarily declared war, causes movement in financial markets. Our research will build on this because we will focus on civilian deaths that are not restricted to declared war but also general political conflict. \n",
    " \n",
    "Lastly, the blog The Intercept analyzed how defense stocks have increased more than expected, in relation to the S&P 500, during the course of the Afghanistan War. The analysis conducted simply compared the top 5 defense contractors and their respective stocks. Nearly all of these contractors receive their revenue from the U.S. government. The top 5 contractors include Boeing, Raytheon, Lockheed Martin, General Dynamics, and Northrop Grumman. The article asserts that these contractors did far better than expected and also includes board members from each Defense contractor who had ties to government defense efforts. This blog helps our research because it affirms the suspicion that defense companies would benefit from military efforts. \n",
    "References (include links):\n",
    "\n",
    "1. Jaffe, Amy Myers, and Jareer Elass. \"War and the Oil Price Cycle.\" Journal of International Affairs SIPA Columbia, jia.sipa.columbia.edu/ war-oil-price-cycle.\n",
    "\n",
    "2. Leigh, Andrew, et al. What Do Financial Markets Think of War in Iraq. NBER,\n",
    "     www.nber.org/system/files/working_papers/w9587/w9587.pdf.\n",
    "3. Schwarz, Jon.\" \\$10,000 Invested in Defense Stocks When Afghanistan War Began Now Worth Almost \\$100,000.\" The Intercept, theintercept.com/2021/08/16/    afghanistan-war-defense-stocks/.\n"
   ],
   "metadata": {}
  },
  {
   "cell_type": "markdown",
   "source": [
    "# Hypothesis\n"
   ],
   "metadata": {}
  },
  {
   "cell_type": "markdown",
   "source": [
    "War-related deaths in the Middle East positively correlate with higher energy and defense stock prices in the U.S.  A positive correlation would appropriately describe the interrelationships between a country’s dependence on energy markets and the resulting political instability that arises with this dependence. The underlying assumption is that countries dependent on natural resources for their economic stability experience geopolitical instability as the energy market ebbs and flows, and to defend against this geopolitical instability countries partake in arms investments and military presence."
   ],
   "metadata": {}
  },
  {
   "cell_type": "markdown",
   "source": [
    "# Dataset(s)"
   ],
   "metadata": {}
  },
  {
   "cell_type": "markdown",
   "source": [
    "Dataset Name: Halliburton Company (HAL)\n",
    "- Link to the dataset: https://finance.yahoo.com/quote/HAL/\n",
    "- Number of observations: 107\n",
    "\n",
    "- Description: This dataset gives us Halliburton's stock open/close values, high/low values and daily price average. However, we are only using the date and daily price average from january 2003 - december 2011. The daily price average was turned to a monthly price average so that it had the same time format as the Iraq body count dataset.\n",
    "\n",
    "Dataset Name: Raytheon Technologies Corporation (RTX)\n",
    "- Link to the dataset: https://finance.yahoo.com/quote/RTX/\n",
    "- Number of observations: 107\n",
    "\n",
    "- Description: This dataset gives us Raytheon's stock open/close values, high/low values and daily price average. We only focused on the date and daily price average from january 2003 - december 2011 which we then changed to a monthly price average.\n",
    "\n",
    "Dataset Name: Lockheed Martin Corporation (LMT)\n",
    "- Link to the dataset: https://finance.yahoo.com/quote/LMT/\n",
    "- Number of observations: 107\n",
    "\n",
    "- Description: This dataset gives us Lockheed's stock open/close values, high/low values and daily price average. However, we are only using the date and daily price average from january 2003 - december 2011. The daily price average was turned to a monthly price average so that it had the same time format as the Iraq body count dataset.\n",
    "\n",
    "Dataset Name: Exxon Mobil Corporation (XOM)\n",
    "- Link to the dataset: https://finance.yahoo.com/quote/XOM/\n",
    "- Number of observations: 107\n",
    "\n",
    "- Description: This dataset gives us Exxon's stock open/close values, high/low values and daily price average. We only focused on the date and daily price average from january 2003 - december 2011 which we then changed to a monthly price average.\n",
    "\n",
    "Dataset Name: Chevron Corporation (CVX)\n",
    "- Link to the dataset: https://finance.yahoo.com/quote/CVX/\n",
    "- Number of observations: 107\n",
    "\n",
    "- Description: This dataset gives us Chevron's stock open/close values, high/low values and daily price average. However, we are only using the date and daily price average from january 2003 - december 2011. The daily price average was turned to a monthly price average so that it had the same time format as the Iraq body count dataset.\n",
    "\n",
    "Dataset Name: Northrop Grumman Corporation (NOC)\n",
    "- Link to the dataset: https://finance.yahoo.com/quote/NOC/\n",
    "- Number of observations: 107\n",
    "\n",
    "- Description: This dataset gives us Northrop's stock open/close values, high/low values and daily price average. We only focused on the date and daily price average from january 2003 - december 2011 which we then changed to a monthly price average.\n",
    "\n",
    "Dataset Name: BP p.l.c. (BP)\n",
    "- Link to the dataset: https://finance.yahoo.com/quote/BP/\n",
    "- Number of observations: 107\n",
    "\n",
    "- Description: This dataset gives us BP's stock open/close values, high/low values and daily price average but we focused on the date and daily price average from january 2003 - december 2011. The daily price average was turned to a monthly price average after cleaning the data.\n",
    "\n",
    "Dataset Name: ConocoPhillips (COP)\n",
    "- Link to the dataset: https://finance.yahoo.com/quote/COP/\n",
    "- Number of observations: 107\n",
    "\n",
    "- Description: This dataset gives us ConnocoPhillips's stock open/close values, high/low values and daily price average. The data we focused on was the daily price average and the date. The daily price average was turned to a monthly price average after cleaning the data.\n",
    "\n",
    "Dataset Name: IRAQ BODY COUNT\n",
    "- Link to the dataset:https://www.iraqbodycount.org/database/\n",
    "- Number of observations: 108\n",
    "\n",
    "- Description: The data tracks montly civilian deaths in iraq caused by violence from the beginning of the Iraq War(2003) to present day.\n",
    "\n",
    "We will be averaging the defense and energy stocks and combining them with the Iraq death count dataset using the same time format of year and month."
   ],
   "metadata": {}
  },
  {
   "cell_type": "markdown",
   "source": [
    "# Setup"
   ],
   "metadata": {
    "id": "NTbb0XxfH4_r"
   }
  },
  {
   "cell_type": "code",
   "execution_count": null,
   "source": [
    "!pip install yfinance\n",
    "!pip install dtw\n",
    "from dtw import dtw,accelerated_dtw\n",
    "import pandas as pd\n",
    "import yfinance as yf;\n",
    "from datetime import datetime;\n",
    "from scipy.stats import ttest_ind\n",
    "from scipy import stats\n",
    "import numpy as np\n",
    "import matplotlib.pyplot as plt\n",
    "from patsy import dmatrices\n",
    "import statsmodels.api as sm\n",
    "import seaborn as sns\n",
    "import matplotlib\n",
    "import matplotlib.pyplot as plt\n",
    "yf.pdr_override()"
   ],
   "outputs": [
    {
     "output_type": "stream",
     "name": "stdout",
     "text": [
      "Requirement already satisfied: yfinance in /usr/local/lib/python3.7/dist-packages (0.1.67)\n",
      "Requirement already satisfied: requests>=2.20 in /usr/local/lib/python3.7/dist-packages (from yfinance) (2.23.0)\n",
      "Requirement already satisfied: pandas>=0.24 in /usr/local/lib/python3.7/dist-packages (from yfinance) (1.1.5)\n",
      "Requirement already satisfied: lxml>=4.5.1 in /usr/local/lib/python3.7/dist-packages (from yfinance) (4.6.4)\n",
      "Requirement already satisfied: multitasking>=0.0.7 in /usr/local/lib/python3.7/dist-packages (from yfinance) (0.0.10)\n",
      "Requirement already satisfied: numpy>=1.15 in /usr/local/lib/python3.7/dist-packages (from yfinance) (1.19.5)\n",
      "Requirement already satisfied: pytz>=2017.2 in /usr/local/lib/python3.7/dist-packages (from pandas>=0.24->yfinance) (2018.9)\n",
      "Requirement already satisfied: python-dateutil>=2.7.3 in /usr/local/lib/python3.7/dist-packages (from pandas>=0.24->yfinance) (2.8.2)\n",
      "Requirement already satisfied: six>=1.5 in /usr/local/lib/python3.7/dist-packages (from python-dateutil>=2.7.3->pandas>=0.24->yfinance) (1.15.0)\n",
      "Requirement already satisfied: certifi>=2017.4.17 in /usr/local/lib/python3.7/dist-packages (from requests>=2.20->yfinance) (2021.10.8)\n",
      "Requirement already satisfied: idna<3,>=2.5 in /usr/local/lib/python3.7/dist-packages (from requests>=2.20->yfinance) (2.10)\n",
      "Requirement already satisfied: chardet<4,>=3.0.2 in /usr/local/lib/python3.7/dist-packages (from requests>=2.20->yfinance) (3.0.4)\n",
      "Requirement already satisfied: urllib3!=1.25.0,!=1.25.1,<1.26,>=1.21.1 in /usr/local/lib/python3.7/dist-packages (from requests>=2.20->yfinance) (1.24.3)\n",
      "Requirement already satisfied: dtw in /usr/local/lib/python3.7/dist-packages (1.4.0)\n",
      "Requirement already satisfied: numpy in /usr/local/lib/python3.7/dist-packages (from dtw) (1.19.5)\n",
      "Requirement already satisfied: scipy in /usr/local/lib/python3.7/dist-packages (from dtw) (1.4.1)\n"
     ]
    },
    {
     "output_type": "stream",
     "name": "stderr",
     "text": [
      "/usr/local/lib/python3.7/dist-packages/statsmodels/tools/_testing.py:19: FutureWarning: pandas.util.testing is deprecated. Use the functions in the public API at pandas.testing instead.\n",
      "  import pandas.util.testing as tm\n"
     ]
    }
   ],
   "metadata": {
    "colab": {
     "base_uri": "https://localhost:8080/"
    },
    "id": "SqGITCO6wyjY",
    "outputId": "d05bd2e5-7486-4ee0-9f05-00c86c680537"
   }
  },
  {
   "cell_type": "markdown",
   "source": [
    "# Cleaning"
   ],
   "metadata": {
    "id": "tA4NIOH6H8CW"
   }
  },
  {
   "cell_type": "markdown",
   "source": [
    "The cleaning section will go over how to clean an individual stock's data. Because we will get stock data all from the same source, this process will later be repeated using a method."
   ],
   "metadata": {
    "id": "FNKBZVLiadyq"
   }
  },
  {
   "cell_type": "markdown",
   "source": [
    "First, we download the history from the range of 2001-2011 of the stock we want, `HAL`, from the Yahoo Finance API."
   ],
   "metadata": {
    "id": "mepyXnJHatRR"
   }
  },
  {
   "cell_type": "code",
   "execution_count": null,
   "source": [
    "hist = yf.download(\"HAL\", \"2001-01-01\", \"2011-01-01\")\n",
    "hist"
   ],
   "outputs": [
    {
     "output_type": "stream",
     "name": "stdout",
     "text": [
      "\r[*********************100%***********************]  1 of 1 completed\n"
     ]
    },
    {
     "data": {
      "text/html": [
       "<div>\n",
       "<style scoped>\n",
       "    .dataframe tbody tr th:only-of-type {\n",
       "        vertical-align: middle;\n",
       "    }\n",
       "\n",
       "    .dataframe tbody tr th {\n",
       "        vertical-align: top;\n",
       "    }\n",
       "\n",
       "    .dataframe thead th {\n",
       "        text-align: right;\n",
       "    }\n",
       "</style>\n",
       "<table border=\"1\" class=\"dataframe\">\n",
       "  <thead>\n",
       "    <tr style=\"text-align: right;\">\n",
       "      <th></th>\n",
       "      <th>Open</th>\n",
       "      <th>High</th>\n",
       "      <th>Low</th>\n",
       "      <th>Close</th>\n",
       "      <th>Adj Close</th>\n",
       "      <th>Volume</th>\n",
       "    </tr>\n",
       "    <tr>\n",
       "      <th>Date</th>\n",
       "      <th></th>\n",
       "      <th></th>\n",
       "      <th></th>\n",
       "      <th></th>\n",
       "      <th></th>\n",
       "      <th></th>\n",
       "    </tr>\n",
       "  </thead>\n",
       "  <tbody>\n",
       "    <tr>\n",
       "      <th>2001-01-02</th>\n",
       "      <td>18.468750</td>\n",
       "      <td>18.875000</td>\n",
       "      <td>18.281250</td>\n",
       "      <td>18.406250</td>\n",
       "      <td>13.325072</td>\n",
       "      <td>4855600</td>\n",
       "    </tr>\n",
       "    <tr>\n",
       "      <th>2001-01-03</th>\n",
       "      <td>18.718750</td>\n",
       "      <td>18.718750</td>\n",
       "      <td>18.000000</td>\n",
       "      <td>18.156250</td>\n",
       "      <td>13.144089</td>\n",
       "      <td>5978400</td>\n",
       "    </tr>\n",
       "    <tr>\n",
       "      <th>2001-01-04</th>\n",
       "      <td>17.937500</td>\n",
       "      <td>18.187500</td>\n",
       "      <td>17.406250</td>\n",
       "      <td>18.093750</td>\n",
       "      <td>13.098843</td>\n",
       "      <td>9108400</td>\n",
       "    </tr>\n",
       "    <tr>\n",
       "      <th>2001-01-05</th>\n",
       "      <td>18.187500</td>\n",
       "      <td>18.468750</td>\n",
       "      <td>17.812500</td>\n",
       "      <td>18.031250</td>\n",
       "      <td>13.053597</td>\n",
       "      <td>5969600</td>\n",
       "    </tr>\n",
       "    <tr>\n",
       "      <th>2001-01-08</th>\n",
       "      <td>18.437500</td>\n",
       "      <td>18.593750</td>\n",
       "      <td>18.250000</td>\n",
       "      <td>18.281250</td>\n",
       "      <td>13.234577</td>\n",
       "      <td>6244000</td>\n",
       "    </tr>\n",
       "    <tr>\n",
       "      <th>...</th>\n",
       "      <td>...</td>\n",
       "      <td>...</td>\n",
       "      <td>...</td>\n",
       "      <td>...</td>\n",
       "      <td>...</td>\n",
       "      <td>...</td>\n",
       "    </tr>\n",
       "    <tr>\n",
       "      <th>2010-12-27</th>\n",
       "      <td>40.200001</td>\n",
       "      <td>40.200001</td>\n",
       "      <td>39.549999</td>\n",
       "      <td>39.860001</td>\n",
       "      <td>33.573566</td>\n",
       "      <td>4371500</td>\n",
       "    </tr>\n",
       "    <tr>\n",
       "      <th>2010-12-28</th>\n",
       "      <td>39.930000</td>\n",
       "      <td>40.060001</td>\n",
       "      <td>39.490002</td>\n",
       "      <td>39.630001</td>\n",
       "      <td>33.379837</td>\n",
       "      <td>5732700</td>\n",
       "    </tr>\n",
       "    <tr>\n",
       "      <th>2010-12-29</th>\n",
       "      <td>39.689999</td>\n",
       "      <td>40.840000</td>\n",
       "      <td>39.490002</td>\n",
       "      <td>40.689999</td>\n",
       "      <td>34.272671</td>\n",
       "      <td>7844900</td>\n",
       "    </tr>\n",
       "    <tr>\n",
       "      <th>2010-12-30</th>\n",
       "      <td>40.680000</td>\n",
       "      <td>41.150002</td>\n",
       "      <td>40.570000</td>\n",
       "      <td>41.009998</td>\n",
       "      <td>34.542187</td>\n",
       "      <td>6021900</td>\n",
       "    </tr>\n",
       "    <tr>\n",
       "      <th>2010-12-31</th>\n",
       "      <td>40.919998</td>\n",
       "      <td>41.139999</td>\n",
       "      <td>40.580002</td>\n",
       "      <td>40.830002</td>\n",
       "      <td>34.390579</td>\n",
       "      <td>4376500</td>\n",
       "    </tr>\n",
       "  </tbody>\n",
       "</table>\n",
       "<p>2515 rows × 6 columns</p>\n",
       "</div>"
      ],
      "text/plain": [
       "                 Open       High        Low      Close  Adj Close   Volume\n",
       "Date                                                                      \n",
       "2001-01-02  18.468750  18.875000  18.281250  18.406250  13.325072  4855600\n",
       "2001-01-03  18.718750  18.718750  18.000000  18.156250  13.144089  5978400\n",
       "2001-01-04  17.937500  18.187500  17.406250  18.093750  13.098843  9108400\n",
       "2001-01-05  18.187500  18.468750  17.812500  18.031250  13.053597  5969600\n",
       "2001-01-08  18.437500  18.593750  18.250000  18.281250  13.234577  6244000\n",
       "...               ...        ...        ...        ...        ...      ...\n",
       "2010-12-27  40.200001  40.200001  39.549999  39.860001  33.573566  4371500\n",
       "2010-12-28  39.930000  40.060001  39.490002  39.630001  33.379837  5732700\n",
       "2010-12-29  39.689999  40.840000  39.490002  40.689999  34.272671  7844900\n",
       "2010-12-30  40.680000  41.150002  40.570000  41.009998  34.542187  6021900\n",
       "2010-12-31  40.919998  41.139999  40.580002  40.830002  34.390579  4376500\n",
       "\n",
       "[2515 rows x 6 columns]"
      ]
     },
     "metadata": {},
     "output_type": "display_data"
    }
   ],
   "metadata": {
    "colab": {
     "base_uri": "https://localhost:8080/"
    },
    "id": "mozpRGSIwzeg",
    "outputId": "b0233e72-6b8f-49b0-bfd6-f725f32564eb"
   }
  },
  {
   "cell_type": "markdown",
   "source": [
    "Since we will modify the date, we will have it as a separate column, instead of being the index."
   ],
   "metadata": {
    "id": "hjMR_bEpbGRN"
   }
  },
  {
   "cell_type": "code",
   "execution_count": null,
   "source": [
    "#Date no longer index but column (easier to manipulate)\n",
    "hist.reset_index(inplace=True)\n",
    "hist\n",
    "\n"
   ],
   "outputs": [
    {
     "data": {
      "text/html": [
       "<div>\n",
       "<style scoped>\n",
       "    .dataframe tbody tr th:only-of-type {\n",
       "        vertical-align: middle;\n",
       "    }\n",
       "\n",
       "    .dataframe tbody tr th {\n",
       "        vertical-align: top;\n",
       "    }\n",
       "\n",
       "    .dataframe thead th {\n",
       "        text-align: right;\n",
       "    }\n",
       "</style>\n",
       "<table border=\"1\" class=\"dataframe\">\n",
       "  <thead>\n",
       "    <tr style=\"text-align: right;\">\n",
       "      <th></th>\n",
       "      <th>Date</th>\n",
       "      <th>Open</th>\n",
       "      <th>High</th>\n",
       "      <th>Low</th>\n",
       "      <th>Close</th>\n",
       "      <th>Adj Close</th>\n",
       "      <th>Volume</th>\n",
       "    </tr>\n",
       "  </thead>\n",
       "  <tbody>\n",
       "    <tr>\n",
       "      <th>0</th>\n",
       "      <td>2001-01-02</td>\n",
       "      <td>18.468750</td>\n",
       "      <td>18.875000</td>\n",
       "      <td>18.281250</td>\n",
       "      <td>18.406250</td>\n",
       "      <td>13.325072</td>\n",
       "      <td>4855600</td>\n",
       "    </tr>\n",
       "    <tr>\n",
       "      <th>1</th>\n",
       "      <td>2001-01-03</td>\n",
       "      <td>18.718750</td>\n",
       "      <td>18.718750</td>\n",
       "      <td>18.000000</td>\n",
       "      <td>18.156250</td>\n",
       "      <td>13.144089</td>\n",
       "      <td>5978400</td>\n",
       "    </tr>\n",
       "    <tr>\n",
       "      <th>2</th>\n",
       "      <td>2001-01-04</td>\n",
       "      <td>17.937500</td>\n",
       "      <td>18.187500</td>\n",
       "      <td>17.406250</td>\n",
       "      <td>18.093750</td>\n",
       "      <td>13.098843</td>\n",
       "      <td>9108400</td>\n",
       "    </tr>\n",
       "    <tr>\n",
       "      <th>3</th>\n",
       "      <td>2001-01-05</td>\n",
       "      <td>18.187500</td>\n",
       "      <td>18.468750</td>\n",
       "      <td>17.812500</td>\n",
       "      <td>18.031250</td>\n",
       "      <td>13.053597</td>\n",
       "      <td>5969600</td>\n",
       "    </tr>\n",
       "    <tr>\n",
       "      <th>4</th>\n",
       "      <td>2001-01-08</td>\n",
       "      <td>18.437500</td>\n",
       "      <td>18.593750</td>\n",
       "      <td>18.250000</td>\n",
       "      <td>18.281250</td>\n",
       "      <td>13.234577</td>\n",
       "      <td>6244000</td>\n",
       "    </tr>\n",
       "    <tr>\n",
       "      <th>...</th>\n",
       "      <td>...</td>\n",
       "      <td>...</td>\n",
       "      <td>...</td>\n",
       "      <td>...</td>\n",
       "      <td>...</td>\n",
       "      <td>...</td>\n",
       "      <td>...</td>\n",
       "    </tr>\n",
       "    <tr>\n",
       "      <th>2510</th>\n",
       "      <td>2010-12-27</td>\n",
       "      <td>40.200001</td>\n",
       "      <td>40.200001</td>\n",
       "      <td>39.549999</td>\n",
       "      <td>39.860001</td>\n",
       "      <td>33.573566</td>\n",
       "      <td>4371500</td>\n",
       "    </tr>\n",
       "    <tr>\n",
       "      <th>2511</th>\n",
       "      <td>2010-12-28</td>\n",
       "      <td>39.930000</td>\n",
       "      <td>40.060001</td>\n",
       "      <td>39.490002</td>\n",
       "      <td>39.630001</td>\n",
       "      <td>33.379837</td>\n",
       "      <td>5732700</td>\n",
       "    </tr>\n",
       "    <tr>\n",
       "      <th>2512</th>\n",
       "      <td>2010-12-29</td>\n",
       "      <td>39.689999</td>\n",
       "      <td>40.840000</td>\n",
       "      <td>39.490002</td>\n",
       "      <td>40.689999</td>\n",
       "      <td>34.272671</td>\n",
       "      <td>7844900</td>\n",
       "    </tr>\n",
       "    <tr>\n",
       "      <th>2513</th>\n",
       "      <td>2010-12-30</td>\n",
       "      <td>40.680000</td>\n",
       "      <td>41.150002</td>\n",
       "      <td>40.570000</td>\n",
       "      <td>41.009998</td>\n",
       "      <td>34.542187</td>\n",
       "      <td>6021900</td>\n",
       "    </tr>\n",
       "    <tr>\n",
       "      <th>2514</th>\n",
       "      <td>2010-12-31</td>\n",
       "      <td>40.919998</td>\n",
       "      <td>41.139999</td>\n",
       "      <td>40.580002</td>\n",
       "      <td>40.830002</td>\n",
       "      <td>34.390579</td>\n",
       "      <td>4376500</td>\n",
       "    </tr>\n",
       "  </tbody>\n",
       "</table>\n",
       "<p>2515 rows × 7 columns</p>\n",
       "</div>"
      ],
      "text/plain": [
       "           Date       Open       High        Low      Close  Adj Close   Volume\n",
       "0    2001-01-02  18.468750  18.875000  18.281250  18.406250  13.325072  4855600\n",
       "1    2001-01-03  18.718750  18.718750  18.000000  18.156250  13.144089  5978400\n",
       "2    2001-01-04  17.937500  18.187500  17.406250  18.093750  13.098843  9108400\n",
       "3    2001-01-05  18.187500  18.468750  17.812500  18.031250  13.053597  5969600\n",
       "4    2001-01-08  18.437500  18.593750  18.250000  18.281250  13.234577  6244000\n",
       "...         ...        ...        ...        ...        ...        ...      ...\n",
       "2510 2010-12-27  40.200001  40.200001  39.549999  39.860001  33.573566  4371500\n",
       "2511 2010-12-28  39.930000  40.060001  39.490002  39.630001  33.379837  5732700\n",
       "2512 2010-12-29  39.689999  40.840000  39.490002  40.689999  34.272671  7844900\n",
       "2513 2010-12-30  40.680000  41.150002  40.570000  41.009998  34.542187  6021900\n",
       "2514 2010-12-31  40.919998  41.139999  40.580002  40.830002  34.390579  4376500\n",
       "\n",
       "[2515 rows x 7 columns]"
      ]
     },
     "metadata": {},
     "output_type": "display_data"
    }
   ],
   "metadata": {
    "colab": {
     "base_uri": "https://localhost:8080/"
    },
    "id": "5SkVU9_otWqc",
    "outputId": "a2e03a48-28ca-4b02-8f93-116e659f4518"
   }
  },
  {
   "cell_type": "markdown",
   "source": [
    "We define the functions we want to apply to the columns and create new columns using those methods. We separate the date into `year`, `month` and `Date` (year and month together) so that we can further process it."
   ],
   "metadata": {
    "id": "XgWReQ1ubP4f"
   }
  },
  {
   "cell_type": "code",
   "execution_count": null,
   "source": [
    "# manipulating Timestamp objects https://www.programiz.com/python-programming/datetime/strftime\n",
    "def format_time(date_time):\n",
    "  return date_time.strftime(\"%B %Y\")\n",
    "def get_year(date_time):\n",
    "  return int(date_time.strftime(\"%Y\"))"
   ],
   "outputs": [],
   "metadata": {
    "id": "suNIPRaawM75"
   }
  },
  {
   "cell_type": "code",
   "execution_count": null,
   "source": [
    "#makes everything month year\n",
    "#Change Date to be Year and Month columns\n",
    "def getMonth(date):\n",
    "  return date.strftime(\"%B\");\n",
    "def getYear(date):\n",
    "  return date.year;\n",
    "hist[\"year\"] = hist[\"Date\"].apply(getYear)\n",
    "hist[\"month\"] = hist.Date.apply(getMonth)\n",
    "#Change order of columns\n",
    "hist = hist[hist.columns.tolist()[-2:] + hist.columns.tolist()[:-2]]\n",
    "hist[\"Date\"] = hist[\"Date\"].apply(format_time)\n",
    "hist"
   ],
   "outputs": [
    {
     "data": {
      "text/html": [
       "<div>\n",
       "<style scoped>\n",
       "    .dataframe tbody tr th:only-of-type {\n",
       "        vertical-align: middle;\n",
       "    }\n",
       "\n",
       "    .dataframe tbody tr th {\n",
       "        vertical-align: top;\n",
       "    }\n",
       "\n",
       "    .dataframe thead th {\n",
       "        text-align: right;\n",
       "    }\n",
       "</style>\n",
       "<table border=\"1\" class=\"dataframe\">\n",
       "  <thead>\n",
       "    <tr style=\"text-align: right;\">\n",
       "      <th></th>\n",
       "      <th>year</th>\n",
       "      <th>month</th>\n",
       "      <th>Date</th>\n",
       "      <th>Open</th>\n",
       "      <th>High</th>\n",
       "      <th>Low</th>\n",
       "      <th>Close</th>\n",
       "      <th>Adj Close</th>\n",
       "      <th>Volume</th>\n",
       "    </tr>\n",
       "  </thead>\n",
       "  <tbody>\n",
       "    <tr>\n",
       "      <th>0</th>\n",
       "      <td>2001</td>\n",
       "      <td>January</td>\n",
       "      <td>January 2001</td>\n",
       "      <td>18.468750</td>\n",
       "      <td>18.875000</td>\n",
       "      <td>18.281250</td>\n",
       "      <td>18.406250</td>\n",
       "      <td>13.325072</td>\n",
       "      <td>4855600</td>\n",
       "    </tr>\n",
       "    <tr>\n",
       "      <th>1</th>\n",
       "      <td>2001</td>\n",
       "      <td>January</td>\n",
       "      <td>January 2001</td>\n",
       "      <td>18.718750</td>\n",
       "      <td>18.718750</td>\n",
       "      <td>18.000000</td>\n",
       "      <td>18.156250</td>\n",
       "      <td>13.144089</td>\n",
       "      <td>5978400</td>\n",
       "    </tr>\n",
       "    <tr>\n",
       "      <th>2</th>\n",
       "      <td>2001</td>\n",
       "      <td>January</td>\n",
       "      <td>January 2001</td>\n",
       "      <td>17.937500</td>\n",
       "      <td>18.187500</td>\n",
       "      <td>17.406250</td>\n",
       "      <td>18.093750</td>\n",
       "      <td>13.098843</td>\n",
       "      <td>9108400</td>\n",
       "    </tr>\n",
       "    <tr>\n",
       "      <th>3</th>\n",
       "      <td>2001</td>\n",
       "      <td>January</td>\n",
       "      <td>January 2001</td>\n",
       "      <td>18.187500</td>\n",
       "      <td>18.468750</td>\n",
       "      <td>17.812500</td>\n",
       "      <td>18.031250</td>\n",
       "      <td>13.053597</td>\n",
       "      <td>5969600</td>\n",
       "    </tr>\n",
       "    <tr>\n",
       "      <th>4</th>\n",
       "      <td>2001</td>\n",
       "      <td>January</td>\n",
       "      <td>January 2001</td>\n",
       "      <td>18.437500</td>\n",
       "      <td>18.593750</td>\n",
       "      <td>18.250000</td>\n",
       "      <td>18.281250</td>\n",
       "      <td>13.234577</td>\n",
       "      <td>6244000</td>\n",
       "    </tr>\n",
       "    <tr>\n",
       "      <th>...</th>\n",
       "      <td>...</td>\n",
       "      <td>...</td>\n",
       "      <td>...</td>\n",
       "      <td>...</td>\n",
       "      <td>...</td>\n",
       "      <td>...</td>\n",
       "      <td>...</td>\n",
       "      <td>...</td>\n",
       "      <td>...</td>\n",
       "    </tr>\n",
       "    <tr>\n",
       "      <th>2510</th>\n",
       "      <td>2010</td>\n",
       "      <td>December</td>\n",
       "      <td>December 2010</td>\n",
       "      <td>40.200001</td>\n",
       "      <td>40.200001</td>\n",
       "      <td>39.549999</td>\n",
       "      <td>39.860001</td>\n",
       "      <td>33.573566</td>\n",
       "      <td>4371500</td>\n",
       "    </tr>\n",
       "    <tr>\n",
       "      <th>2511</th>\n",
       "      <td>2010</td>\n",
       "      <td>December</td>\n",
       "      <td>December 2010</td>\n",
       "      <td>39.930000</td>\n",
       "      <td>40.060001</td>\n",
       "      <td>39.490002</td>\n",
       "      <td>39.630001</td>\n",
       "      <td>33.379837</td>\n",
       "      <td>5732700</td>\n",
       "    </tr>\n",
       "    <tr>\n",
       "      <th>2512</th>\n",
       "      <td>2010</td>\n",
       "      <td>December</td>\n",
       "      <td>December 2010</td>\n",
       "      <td>39.689999</td>\n",
       "      <td>40.840000</td>\n",
       "      <td>39.490002</td>\n",
       "      <td>40.689999</td>\n",
       "      <td>34.272671</td>\n",
       "      <td>7844900</td>\n",
       "    </tr>\n",
       "    <tr>\n",
       "      <th>2513</th>\n",
       "      <td>2010</td>\n",
       "      <td>December</td>\n",
       "      <td>December 2010</td>\n",
       "      <td>40.680000</td>\n",
       "      <td>41.150002</td>\n",
       "      <td>40.570000</td>\n",
       "      <td>41.009998</td>\n",
       "      <td>34.542187</td>\n",
       "      <td>6021900</td>\n",
       "    </tr>\n",
       "    <tr>\n",
       "      <th>2514</th>\n",
       "      <td>2010</td>\n",
       "      <td>December</td>\n",
       "      <td>December 2010</td>\n",
       "      <td>40.919998</td>\n",
       "      <td>41.139999</td>\n",
       "      <td>40.580002</td>\n",
       "      <td>40.830002</td>\n",
       "      <td>34.390579</td>\n",
       "      <td>4376500</td>\n",
       "    </tr>\n",
       "  </tbody>\n",
       "</table>\n",
       "<p>2515 rows × 9 columns</p>\n",
       "</div>"
      ],
      "text/plain": [
       "      year     month           Date  ...      Close  Adj Close   Volume\n",
       "0     2001   January   January 2001  ...  18.406250  13.325072  4855600\n",
       "1     2001   January   January 2001  ...  18.156250  13.144089  5978400\n",
       "2     2001   January   January 2001  ...  18.093750  13.098843  9108400\n",
       "3     2001   January   January 2001  ...  18.031250  13.053597  5969600\n",
       "4     2001   January   January 2001  ...  18.281250  13.234577  6244000\n",
       "...    ...       ...            ...  ...        ...        ...      ...\n",
       "2510  2010  December  December 2010  ...  39.860001  33.573566  4371500\n",
       "2511  2010  December  December 2010  ...  39.630001  33.379837  5732700\n",
       "2512  2010  December  December 2010  ...  40.689999  34.272671  7844900\n",
       "2513  2010  December  December 2010  ...  41.009998  34.542187  6021900\n",
       "2514  2010  December  December 2010  ...  40.830002  34.390579  4376500\n",
       "\n",
       "[2515 rows x 9 columns]"
      ]
     },
     "metadata": {},
     "output_type": "display_data"
    }
   ],
   "metadata": {
    "colab": {
     "base_uri": "https://localhost:8080/"
    },
    "id": "C4m8T-jkvU_l",
    "outputId": "8f3bb769-91d9-4582-d243-3c2420bbd714"
   }
  },
  {
   "cell_type": "markdown",
   "source": [
    "We calculate the stock's day average because the yf API only provides the value for the stock's open and close. This will be useful when analyzing the data."
   ],
   "metadata": {
    "id": "MUprxc1cbxx3"
   }
  },
  {
   "cell_type": "code",
   "execution_count": null,
   "source": [
    "#get day average for stock\n",
    "def get_avg(a, b):\n",
    "    return (a + b)/2.0\n",
    "hist['day_avg'] = hist.apply(lambda row : get_avg(row['High'],\n",
    "                     row['Close']), axis = 1)\n",
    "hist"
   ],
   "outputs": [
    {
     "data": {
      "text/html": [
       "<div>\n",
       "<style scoped>\n",
       "    .dataframe tbody tr th:only-of-type {\n",
       "        vertical-align: middle;\n",
       "    }\n",
       "\n",
       "    .dataframe tbody tr th {\n",
       "        vertical-align: top;\n",
       "    }\n",
       "\n",
       "    .dataframe thead th {\n",
       "        text-align: right;\n",
       "    }\n",
       "</style>\n",
       "<table border=\"1\" class=\"dataframe\">\n",
       "  <thead>\n",
       "    <tr style=\"text-align: right;\">\n",
       "      <th></th>\n",
       "      <th>year</th>\n",
       "      <th>month</th>\n",
       "      <th>Date</th>\n",
       "      <th>Open</th>\n",
       "      <th>High</th>\n",
       "      <th>Low</th>\n",
       "      <th>Close</th>\n",
       "      <th>Adj Close</th>\n",
       "      <th>Volume</th>\n",
       "      <th>day_avg</th>\n",
       "    </tr>\n",
       "  </thead>\n",
       "  <tbody>\n",
       "    <tr>\n",
       "      <th>0</th>\n",
       "      <td>2001</td>\n",
       "      <td>January</td>\n",
       "      <td>January 2001</td>\n",
       "      <td>18.468750</td>\n",
       "      <td>18.875000</td>\n",
       "      <td>18.281250</td>\n",
       "      <td>18.406250</td>\n",
       "      <td>13.325072</td>\n",
       "      <td>4855600</td>\n",
       "      <td>18.640625</td>\n",
       "    </tr>\n",
       "    <tr>\n",
       "      <th>1</th>\n",
       "      <td>2001</td>\n",
       "      <td>January</td>\n",
       "      <td>January 2001</td>\n",
       "      <td>18.718750</td>\n",
       "      <td>18.718750</td>\n",
       "      <td>18.000000</td>\n",
       "      <td>18.156250</td>\n",
       "      <td>13.144089</td>\n",
       "      <td>5978400</td>\n",
       "      <td>18.437500</td>\n",
       "    </tr>\n",
       "    <tr>\n",
       "      <th>2</th>\n",
       "      <td>2001</td>\n",
       "      <td>January</td>\n",
       "      <td>January 2001</td>\n",
       "      <td>17.937500</td>\n",
       "      <td>18.187500</td>\n",
       "      <td>17.406250</td>\n",
       "      <td>18.093750</td>\n",
       "      <td>13.098843</td>\n",
       "      <td>9108400</td>\n",
       "      <td>18.140625</td>\n",
       "    </tr>\n",
       "    <tr>\n",
       "      <th>3</th>\n",
       "      <td>2001</td>\n",
       "      <td>January</td>\n",
       "      <td>January 2001</td>\n",
       "      <td>18.187500</td>\n",
       "      <td>18.468750</td>\n",
       "      <td>17.812500</td>\n",
       "      <td>18.031250</td>\n",
       "      <td>13.053597</td>\n",
       "      <td>5969600</td>\n",
       "      <td>18.250000</td>\n",
       "    </tr>\n",
       "    <tr>\n",
       "      <th>4</th>\n",
       "      <td>2001</td>\n",
       "      <td>January</td>\n",
       "      <td>January 2001</td>\n",
       "      <td>18.437500</td>\n",
       "      <td>18.593750</td>\n",
       "      <td>18.250000</td>\n",
       "      <td>18.281250</td>\n",
       "      <td>13.234577</td>\n",
       "      <td>6244000</td>\n",
       "      <td>18.437500</td>\n",
       "    </tr>\n",
       "    <tr>\n",
       "      <th>...</th>\n",
       "      <td>...</td>\n",
       "      <td>...</td>\n",
       "      <td>...</td>\n",
       "      <td>...</td>\n",
       "      <td>...</td>\n",
       "      <td>...</td>\n",
       "      <td>...</td>\n",
       "      <td>...</td>\n",
       "      <td>...</td>\n",
       "      <td>...</td>\n",
       "    </tr>\n",
       "    <tr>\n",
       "      <th>2510</th>\n",
       "      <td>2010</td>\n",
       "      <td>December</td>\n",
       "      <td>December 2010</td>\n",
       "      <td>40.200001</td>\n",
       "      <td>40.200001</td>\n",
       "      <td>39.549999</td>\n",
       "      <td>39.860001</td>\n",
       "      <td>33.573566</td>\n",
       "      <td>4371500</td>\n",
       "      <td>40.030001</td>\n",
       "    </tr>\n",
       "    <tr>\n",
       "      <th>2511</th>\n",
       "      <td>2010</td>\n",
       "      <td>December</td>\n",
       "      <td>December 2010</td>\n",
       "      <td>39.930000</td>\n",
       "      <td>40.060001</td>\n",
       "      <td>39.490002</td>\n",
       "      <td>39.630001</td>\n",
       "      <td>33.379837</td>\n",
       "      <td>5732700</td>\n",
       "      <td>39.845001</td>\n",
       "    </tr>\n",
       "    <tr>\n",
       "      <th>2512</th>\n",
       "      <td>2010</td>\n",
       "      <td>December</td>\n",
       "      <td>December 2010</td>\n",
       "      <td>39.689999</td>\n",
       "      <td>40.840000</td>\n",
       "      <td>39.490002</td>\n",
       "      <td>40.689999</td>\n",
       "      <td>34.272671</td>\n",
       "      <td>7844900</td>\n",
       "      <td>40.764999</td>\n",
       "    </tr>\n",
       "    <tr>\n",
       "      <th>2513</th>\n",
       "      <td>2010</td>\n",
       "      <td>December</td>\n",
       "      <td>December 2010</td>\n",
       "      <td>40.680000</td>\n",
       "      <td>41.150002</td>\n",
       "      <td>40.570000</td>\n",
       "      <td>41.009998</td>\n",
       "      <td>34.542187</td>\n",
       "      <td>6021900</td>\n",
       "      <td>41.080000</td>\n",
       "    </tr>\n",
       "    <tr>\n",
       "      <th>2514</th>\n",
       "      <td>2010</td>\n",
       "      <td>December</td>\n",
       "      <td>December 2010</td>\n",
       "      <td>40.919998</td>\n",
       "      <td>41.139999</td>\n",
       "      <td>40.580002</td>\n",
       "      <td>40.830002</td>\n",
       "      <td>34.390579</td>\n",
       "      <td>4376500</td>\n",
       "      <td>40.985001</td>\n",
       "    </tr>\n",
       "  </tbody>\n",
       "</table>\n",
       "<p>2515 rows × 10 columns</p>\n",
       "</div>"
      ],
      "text/plain": [
       "      year     month           Date  ...  Adj Close   Volume    day_avg\n",
       "0     2001   January   January 2001  ...  13.325072  4855600  18.640625\n",
       "1     2001   January   January 2001  ...  13.144089  5978400  18.437500\n",
       "2     2001   January   January 2001  ...  13.098843  9108400  18.140625\n",
       "3     2001   January   January 2001  ...  13.053597  5969600  18.250000\n",
       "4     2001   January   January 2001  ...  13.234577  6244000  18.437500\n",
       "...    ...       ...            ...  ...        ...      ...        ...\n",
       "2510  2010  December  December 2010  ...  33.573566  4371500  40.030001\n",
       "2511  2010  December  December 2010  ...  33.379837  5732700  39.845001\n",
       "2512  2010  December  December 2010  ...  34.272671  7844900  40.764999\n",
       "2513  2010  December  December 2010  ...  34.542187  6021900  41.080000\n",
       "2514  2010  December  December 2010  ...  34.390579  4376500  40.985001\n",
       "\n",
       "[2515 rows x 10 columns]"
      ]
     },
     "metadata": {},
     "output_type": "display_data"
    }
   ],
   "metadata": {
    "colab": {
     "base_uri": "https://localhost:8080/"
    },
    "id": "IERmlWO90ZoU",
    "outputId": "e92a04fe-2edd-4d29-885e-be136baeb42e"
   }
  },
  {
   "cell_type": "markdown",
   "source": [
    "After calculating the day average, we know that we will not use the other information in our dataframe. Therefore, we only keep `year`, `month`, `Date`, and `day_avg`."
   ],
   "metadata": {
    "id": "7cn2Kl5gcADa"
   }
  },
  {
   "cell_type": "code",
   "execution_count": null,
   "source": [
    "#Remove unused columns from dataset\n",
    "hist.drop(hist.columns[[3,4,5,6,7,8]], axis=1, inplace=True)\n",
    "hist"
   ],
   "outputs": [
    {
     "data": {
      "text/html": [
       "<div>\n",
       "<style scoped>\n",
       "    .dataframe tbody tr th:only-of-type {\n",
       "        vertical-align: middle;\n",
       "    }\n",
       "\n",
       "    .dataframe tbody tr th {\n",
       "        vertical-align: top;\n",
       "    }\n",
       "\n",
       "    .dataframe thead th {\n",
       "        text-align: right;\n",
       "    }\n",
       "</style>\n",
       "<table border=\"1\" class=\"dataframe\">\n",
       "  <thead>\n",
       "    <tr style=\"text-align: right;\">\n",
       "      <th></th>\n",
       "      <th>year</th>\n",
       "      <th>month</th>\n",
       "      <th>Date</th>\n",
       "      <th>day_avg</th>\n",
       "    </tr>\n",
       "  </thead>\n",
       "  <tbody>\n",
       "    <tr>\n",
       "      <th>0</th>\n",
       "      <td>2001</td>\n",
       "      <td>January</td>\n",
       "      <td>January 2001</td>\n",
       "      <td>18.640625</td>\n",
       "    </tr>\n",
       "    <tr>\n",
       "      <th>1</th>\n",
       "      <td>2001</td>\n",
       "      <td>January</td>\n",
       "      <td>January 2001</td>\n",
       "      <td>18.437500</td>\n",
       "    </tr>\n",
       "    <tr>\n",
       "      <th>2</th>\n",
       "      <td>2001</td>\n",
       "      <td>January</td>\n",
       "      <td>January 2001</td>\n",
       "      <td>18.140625</td>\n",
       "    </tr>\n",
       "    <tr>\n",
       "      <th>3</th>\n",
       "      <td>2001</td>\n",
       "      <td>January</td>\n",
       "      <td>January 2001</td>\n",
       "      <td>18.250000</td>\n",
       "    </tr>\n",
       "    <tr>\n",
       "      <th>4</th>\n",
       "      <td>2001</td>\n",
       "      <td>January</td>\n",
       "      <td>January 2001</td>\n",
       "      <td>18.437500</td>\n",
       "    </tr>\n",
       "    <tr>\n",
       "      <th>...</th>\n",
       "      <td>...</td>\n",
       "      <td>...</td>\n",
       "      <td>...</td>\n",
       "      <td>...</td>\n",
       "    </tr>\n",
       "    <tr>\n",
       "      <th>2510</th>\n",
       "      <td>2010</td>\n",
       "      <td>December</td>\n",
       "      <td>December 2010</td>\n",
       "      <td>40.030001</td>\n",
       "    </tr>\n",
       "    <tr>\n",
       "      <th>2511</th>\n",
       "      <td>2010</td>\n",
       "      <td>December</td>\n",
       "      <td>December 2010</td>\n",
       "      <td>39.845001</td>\n",
       "    </tr>\n",
       "    <tr>\n",
       "      <th>2512</th>\n",
       "      <td>2010</td>\n",
       "      <td>December</td>\n",
       "      <td>December 2010</td>\n",
       "      <td>40.764999</td>\n",
       "    </tr>\n",
       "    <tr>\n",
       "      <th>2513</th>\n",
       "      <td>2010</td>\n",
       "      <td>December</td>\n",
       "      <td>December 2010</td>\n",
       "      <td>41.080000</td>\n",
       "    </tr>\n",
       "    <tr>\n",
       "      <th>2514</th>\n",
       "      <td>2010</td>\n",
       "      <td>December</td>\n",
       "      <td>December 2010</td>\n",
       "      <td>40.985001</td>\n",
       "    </tr>\n",
       "  </tbody>\n",
       "</table>\n",
       "<p>2515 rows × 4 columns</p>\n",
       "</div>"
      ],
      "text/plain": [
       "      year     month           Date    day_avg\n",
       "0     2001   January   January 2001  18.640625\n",
       "1     2001   January   January 2001  18.437500\n",
       "2     2001   January   January 2001  18.140625\n",
       "3     2001   January   January 2001  18.250000\n",
       "4     2001   January   January 2001  18.437500\n",
       "...    ...       ...            ...        ...\n",
       "2510  2010  December  December 2010  40.030001\n",
       "2511  2010  December  December 2010  39.845001\n",
       "2512  2010  December  December 2010  40.764999\n",
       "2513  2010  December  December 2010  41.080000\n",
       "2514  2010  December  December 2010  40.985001\n",
       "\n",
       "[2515 rows x 4 columns]"
      ]
     },
     "metadata": {},
     "output_type": "display_data"
    }
   ],
   "metadata": {
    "colab": {
     "base_uri": "https://localhost:8080/"
    },
    "id": "5gAOCvIbZNui",
    "outputId": "da23effd-5860-4d6a-d1aa-e18a0cdd8594"
   }
  },
  {
   "cell_type": "markdown",
   "source": [
    "The Iraq data is grouped by month. Therefore, grouping the stock data by month is necessary to compare both datasets. Afterwards, we eliminate duplicates by removing all the month's days but one. To conclude our cleaning, we remove the `day_avg` column because we will no longer use the data. "
   ],
   "metadata": {
    "id": "efsKtO8acXEE"
   }
  },
  {
   "cell_type": "code",
   "execution_count": null,
   "source": [
    "#group by date (month) and get average.\n",
    "hist[\"monthly_avg\"] = hist.groupby(\"Date\")[\"day_avg\"].transform(\"mean\")\n",
    "\n",
    "#Only keep one day of month\n",
    "hist.drop_duplicates(subset=[\"Date\"], inplace=True)\n",
    "\n",
    "hist.drop([\"day_avg\"], axis=1, inplace=True)\n",
    "hist.reset_index(inplace=True, drop=True)\n",
    "#Finished"
   ],
   "outputs": [],
   "metadata": {
    "id": "pb3CjVVhaRd5"
   }
  },
  {
   "cell_type": "markdown",
   "source": [
    "This is an example of how our data will look after being cleaned."
   ],
   "metadata": {
    "id": "HfnFH_eydaC0"
   }
  },
  {
   "cell_type": "code",
   "execution_count": null,
   "source": [
    "hist"
   ],
   "outputs": [
    {
     "data": {
      "text/html": [
       "<div>\n",
       "<style scoped>\n",
       "    .dataframe tbody tr th:only-of-type {\n",
       "        vertical-align: middle;\n",
       "    }\n",
       "\n",
       "    .dataframe tbody tr th {\n",
       "        vertical-align: top;\n",
       "    }\n",
       "\n",
       "    .dataframe thead th {\n",
       "        text-align: right;\n",
       "    }\n",
       "</style>\n",
       "<table border=\"1\" class=\"dataframe\">\n",
       "  <thead>\n",
       "    <tr style=\"text-align: right;\">\n",
       "      <th></th>\n",
       "      <th>year</th>\n",
       "      <th>month</th>\n",
       "      <th>Date</th>\n",
       "      <th>monthly_avg</th>\n",
       "    </tr>\n",
       "  </thead>\n",
       "  <tbody>\n",
       "    <tr>\n",
       "      <th>0</th>\n",
       "      <td>2001</td>\n",
       "      <td>January</td>\n",
       "      <td>January 2001</td>\n",
       "      <td>19.528452</td>\n",
       "    </tr>\n",
       "    <tr>\n",
       "      <th>1</th>\n",
       "      <td>2001</td>\n",
       "      <td>February</td>\n",
       "      <td>February 2001</td>\n",
       "      <td>21.000658</td>\n",
       "    </tr>\n",
       "    <tr>\n",
       "      <th>2</th>\n",
       "      <td>2001</td>\n",
       "      <td>March</td>\n",
       "      <td>March 2001</td>\n",
       "      <td>20.434773</td>\n",
       "    </tr>\n",
       "    <tr>\n",
       "      <th>3</th>\n",
       "      <td>2001</td>\n",
       "      <td>April</td>\n",
       "      <td>April 2001</td>\n",
       "      <td>18.538500</td>\n",
       "    </tr>\n",
       "    <tr>\n",
       "      <th>4</th>\n",
       "      <td>2001</td>\n",
       "      <td>May</td>\n",
       "      <td>May 2001</td>\n",
       "      <td>22.456250</td>\n",
       "    </tr>\n",
       "    <tr>\n",
       "      <th>...</th>\n",
       "      <td>...</td>\n",
       "      <td>...</td>\n",
       "      <td>...</td>\n",
       "      <td>...</td>\n",
       "    </tr>\n",
       "    <tr>\n",
       "      <th>115</th>\n",
       "      <td>2010</td>\n",
       "      <td>August</td>\n",
       "      <td>August 2010</td>\n",
       "      <td>29.350909</td>\n",
       "    </tr>\n",
       "    <tr>\n",
       "      <th>116</th>\n",
       "      <td>2010</td>\n",
       "      <td>September</td>\n",
       "      <td>September 2010</td>\n",
       "      <td>31.547857</td>\n",
       "    </tr>\n",
       "    <tr>\n",
       "      <th>117</th>\n",
       "      <td>2010</td>\n",
       "      <td>October</td>\n",
       "      <td>October 2010</td>\n",
       "      <td>34.298096</td>\n",
       "    </tr>\n",
       "    <tr>\n",
       "      <th>118</th>\n",
       "      <td>2010</td>\n",
       "      <td>November</td>\n",
       "      <td>November 2010</td>\n",
       "      <td>35.365238</td>\n",
       "    </tr>\n",
       "    <tr>\n",
       "      <th>119</th>\n",
       "      <td>2010</td>\n",
       "      <td>December</td>\n",
       "      <td>December 2010</td>\n",
       "      <td>40.606591</td>\n",
       "    </tr>\n",
       "  </tbody>\n",
       "</table>\n",
       "<p>120 rows × 4 columns</p>\n",
       "</div>"
      ],
      "text/plain": [
       "     year      month            Date  monthly_avg\n",
       "0    2001    January    January 2001    19.528452\n",
       "1    2001   February   February 2001    21.000658\n",
       "2    2001      March      March 2001    20.434773\n",
       "3    2001      April      April 2001    18.538500\n",
       "4    2001        May        May 2001    22.456250\n",
       "..    ...        ...             ...          ...\n",
       "115  2010     August     August 2010    29.350909\n",
       "116  2010  September  September 2010    31.547857\n",
       "117  2010    October    October 2010    34.298096\n",
       "118  2010   November   November 2010    35.365238\n",
       "119  2010   December   December 2010    40.606591\n",
       "\n",
       "[120 rows x 4 columns]"
      ]
     },
     "metadata": {},
     "output_type": "display_data"
    }
   ],
   "metadata": {
    "colab": {
     "base_uri": "https://localhost:8080/"
    },
    "id": "NvgNxcP0fx7R",
    "outputId": "d52ae364-df47-4513-d559-e0d9f20b7b36"
   }
  },
  {
   "cell_type": "markdown",
   "source": [
    "Stock data is autocorrelated. De-trending the data will allow us to use t-tests when comparing the Iraq data to the stock data. In order to de-trend we calculate the monthly percentage change of the stock. "
   ],
   "metadata": {
    "id": "scgZSbVVd5vk"
   }
  },
  {
   "cell_type": "code",
   "execution_count": null,
   "source": [
    "#Get percentage difference between months\n",
    "hist[\"percentage_change\"] = hist[\"monthly_avg\"].pct_change() * 100\n",
    "hist.at[0, 'percentage_change'] = 0\n",
    "hist"
   ],
   "outputs": [
    {
     "data": {
      "text/html": [
       "<div>\n",
       "<style scoped>\n",
       "    .dataframe tbody tr th:only-of-type {\n",
       "        vertical-align: middle;\n",
       "    }\n",
       "\n",
       "    .dataframe tbody tr th {\n",
       "        vertical-align: top;\n",
       "    }\n",
       "\n",
       "    .dataframe thead th {\n",
       "        text-align: right;\n",
       "    }\n",
       "</style>\n",
       "<table border=\"1\" class=\"dataframe\">\n",
       "  <thead>\n",
       "    <tr style=\"text-align: right;\">\n",
       "      <th></th>\n",
       "      <th>year</th>\n",
       "      <th>month</th>\n",
       "      <th>Date</th>\n",
       "      <th>monthly_avg</th>\n",
       "      <th>percentage_change</th>\n",
       "    </tr>\n",
       "  </thead>\n",
       "  <tbody>\n",
       "    <tr>\n",
       "      <th>0</th>\n",
       "      <td>2001</td>\n",
       "      <td>January</td>\n",
       "      <td>January 2001</td>\n",
       "      <td>19.528452</td>\n",
       "      <td>0.000000</td>\n",
       "    </tr>\n",
       "    <tr>\n",
       "      <th>1</th>\n",
       "      <td>2001</td>\n",
       "      <td>February</td>\n",
       "      <td>February 2001</td>\n",
       "      <td>21.000658</td>\n",
       "      <td>7.538772</td>\n",
       "    </tr>\n",
       "    <tr>\n",
       "      <th>2</th>\n",
       "      <td>2001</td>\n",
       "      <td>March</td>\n",
       "      <td>March 2001</td>\n",
       "      <td>20.434773</td>\n",
       "      <td>-2.694606</td>\n",
       "    </tr>\n",
       "    <tr>\n",
       "      <th>3</th>\n",
       "      <td>2001</td>\n",
       "      <td>April</td>\n",
       "      <td>April 2001</td>\n",
       "      <td>18.538500</td>\n",
       "      <td>-9.279637</td>\n",
       "    </tr>\n",
       "    <tr>\n",
       "      <th>4</th>\n",
       "      <td>2001</td>\n",
       "      <td>May</td>\n",
       "      <td>May 2001</td>\n",
       "      <td>22.456250</td>\n",
       "      <td>21.133048</td>\n",
       "    </tr>\n",
       "    <tr>\n",
       "      <th>...</th>\n",
       "      <td>...</td>\n",
       "      <td>...</td>\n",
       "      <td>...</td>\n",
       "      <td>...</td>\n",
       "      <td>...</td>\n",
       "    </tr>\n",
       "    <tr>\n",
       "      <th>115</th>\n",
       "      <td>2010</td>\n",
       "      <td>August</td>\n",
       "      <td>August 2010</td>\n",
       "      <td>29.350909</td>\n",
       "      <td>1.441565</td>\n",
       "    </tr>\n",
       "    <tr>\n",
       "      <th>116</th>\n",
       "      <td>2010</td>\n",
       "      <td>September</td>\n",
       "      <td>September 2010</td>\n",
       "      <td>31.547857</td>\n",
       "      <td>7.485110</td>\n",
       "    </tr>\n",
       "    <tr>\n",
       "      <th>117</th>\n",
       "      <td>2010</td>\n",
       "      <td>October</td>\n",
       "      <td>October 2010</td>\n",
       "      <td>34.298096</td>\n",
       "      <td>8.717671</td>\n",
       "    </tr>\n",
       "    <tr>\n",
       "      <th>118</th>\n",
       "      <td>2010</td>\n",
       "      <td>November</td>\n",
       "      <td>November 2010</td>\n",
       "      <td>35.365238</td>\n",
       "      <td>3.111376</td>\n",
       "    </tr>\n",
       "    <tr>\n",
       "      <th>119</th>\n",
       "      <td>2010</td>\n",
       "      <td>December</td>\n",
       "      <td>December 2010</td>\n",
       "      <td>40.606591</td>\n",
       "      <td>14.820635</td>\n",
       "    </tr>\n",
       "  </tbody>\n",
       "</table>\n",
       "<p>120 rows × 5 columns</p>\n",
       "</div>"
      ],
      "text/plain": [
       "     year      month            Date  monthly_avg  percentage_change\n",
       "0    2001    January    January 2001    19.528452           0.000000\n",
       "1    2001   February   February 2001    21.000658           7.538772\n",
       "2    2001      March      March 2001    20.434773          -2.694606\n",
       "3    2001      April      April 2001    18.538500          -9.279637\n",
       "4    2001        May        May 2001    22.456250          21.133048\n",
       "..    ...        ...             ...          ...                ...\n",
       "115  2010     August     August 2010    29.350909           1.441565\n",
       "116  2010  September  September 2010    31.547857           7.485110\n",
       "117  2010    October    October 2010    34.298096           8.717671\n",
       "118  2010   November   November 2010    35.365238           3.111376\n",
       "119  2010   December   December 2010    40.606591          14.820635\n",
       "\n",
       "[120 rows x 5 columns]"
      ]
     },
     "metadata": {},
     "output_type": "display_data"
    }
   ],
   "metadata": {
    "colab": {
     "base_uri": "https://localhost:8080/"
    },
    "id": "YZ6EFCwcgoOe",
    "outputId": "3c06fc7c-18e6-404b-e7c4-fa37a00f5305"
   }
  },
  {
   "cell_type": "markdown",
   "source": [
    "Finally, this is how our cleaned and processed data looks like."
   ],
   "metadata": {
    "id": "00v9oJ8tgsbj"
   }
  },
  {
   "cell_type": "code",
   "execution_count": null,
   "source": [
    "hist"
   ],
   "outputs": [
    {
     "data": {
      "text/html": [
       "<div>\n",
       "<style scoped>\n",
       "    .dataframe tbody tr th:only-of-type {\n",
       "        vertical-align: middle;\n",
       "    }\n",
       "\n",
       "    .dataframe tbody tr th {\n",
       "        vertical-align: top;\n",
       "    }\n",
       "\n",
       "    .dataframe thead th {\n",
       "        text-align: right;\n",
       "    }\n",
       "</style>\n",
       "<table border=\"1\" class=\"dataframe\">\n",
       "  <thead>\n",
       "    <tr style=\"text-align: right;\">\n",
       "      <th></th>\n",
       "      <th>year</th>\n",
       "      <th>month</th>\n",
       "      <th>Date</th>\n",
       "      <th>monthly_avg</th>\n",
       "      <th>percentage_change</th>\n",
       "    </tr>\n",
       "  </thead>\n",
       "  <tbody>\n",
       "    <tr>\n",
       "      <th>0</th>\n",
       "      <td>2001</td>\n",
       "      <td>January</td>\n",
       "      <td>January 2001</td>\n",
       "      <td>19.528452</td>\n",
       "      <td>0.000000</td>\n",
       "    </tr>\n",
       "    <tr>\n",
       "      <th>1</th>\n",
       "      <td>2001</td>\n",
       "      <td>February</td>\n",
       "      <td>February 2001</td>\n",
       "      <td>21.000658</td>\n",
       "      <td>7.538772</td>\n",
       "    </tr>\n",
       "    <tr>\n",
       "      <th>2</th>\n",
       "      <td>2001</td>\n",
       "      <td>March</td>\n",
       "      <td>March 2001</td>\n",
       "      <td>20.434773</td>\n",
       "      <td>-2.694606</td>\n",
       "    </tr>\n",
       "    <tr>\n",
       "      <th>3</th>\n",
       "      <td>2001</td>\n",
       "      <td>April</td>\n",
       "      <td>April 2001</td>\n",
       "      <td>18.538500</td>\n",
       "      <td>-9.279637</td>\n",
       "    </tr>\n",
       "    <tr>\n",
       "      <th>4</th>\n",
       "      <td>2001</td>\n",
       "      <td>May</td>\n",
       "      <td>May 2001</td>\n",
       "      <td>22.456250</td>\n",
       "      <td>21.133048</td>\n",
       "    </tr>\n",
       "    <tr>\n",
       "      <th>...</th>\n",
       "      <td>...</td>\n",
       "      <td>...</td>\n",
       "      <td>...</td>\n",
       "      <td>...</td>\n",
       "      <td>...</td>\n",
       "    </tr>\n",
       "    <tr>\n",
       "      <th>115</th>\n",
       "      <td>2010</td>\n",
       "      <td>August</td>\n",
       "      <td>August 2010</td>\n",
       "      <td>29.350909</td>\n",
       "      <td>1.441565</td>\n",
       "    </tr>\n",
       "    <tr>\n",
       "      <th>116</th>\n",
       "      <td>2010</td>\n",
       "      <td>September</td>\n",
       "      <td>September 2010</td>\n",
       "      <td>31.547857</td>\n",
       "      <td>7.485110</td>\n",
       "    </tr>\n",
       "    <tr>\n",
       "      <th>117</th>\n",
       "      <td>2010</td>\n",
       "      <td>October</td>\n",
       "      <td>October 2010</td>\n",
       "      <td>34.298096</td>\n",
       "      <td>8.717671</td>\n",
       "    </tr>\n",
       "    <tr>\n",
       "      <th>118</th>\n",
       "      <td>2010</td>\n",
       "      <td>November</td>\n",
       "      <td>November 2010</td>\n",
       "      <td>35.365238</td>\n",
       "      <td>3.111376</td>\n",
       "    </tr>\n",
       "    <tr>\n",
       "      <th>119</th>\n",
       "      <td>2010</td>\n",
       "      <td>December</td>\n",
       "      <td>December 2010</td>\n",
       "      <td>40.606591</td>\n",
       "      <td>14.820635</td>\n",
       "    </tr>\n",
       "  </tbody>\n",
       "</table>\n",
       "<p>120 rows × 5 columns</p>\n",
       "</div>"
      ],
      "text/plain": [
       "     year      month            Date  monthly_avg  percentage_change\n",
       "0    2001    January    January 2001    19.528452           0.000000\n",
       "1    2001   February   February 2001    21.000658           7.538772\n",
       "2    2001      March      March 2001    20.434773          -2.694606\n",
       "3    2001      April      April 2001    18.538500          -9.279637\n",
       "4    2001        May        May 2001    22.456250          21.133048\n",
       "..    ...        ...             ...          ...                ...\n",
       "115  2010     August     August 2010    29.350909           1.441565\n",
       "116  2010  September  September 2010    31.547857           7.485110\n",
       "117  2010    October    October 2010    34.298096           8.717671\n",
       "118  2010   November   November 2010    35.365238           3.111376\n",
       "119  2010   December   December 2010    40.606591          14.820635\n",
       "\n",
       "[120 rows x 5 columns]"
      ]
     },
     "metadata": {},
     "output_type": "display_data"
    }
   ],
   "metadata": {
    "colab": {
     "base_uri": "https://localhost:8080/"
    },
    "id": "ZiVh8x0QeS7P",
    "outputId": "3054333d-98c3-4389-bff3-5e41ec2d122a"
   }
  },
  {
   "cell_type": "markdown",
   "source": [
    "Because all of our stock data comes from the same source and in the same format we have created a function so that we do not have to manually go through all the steps again."
   ],
   "metadata": {
    "id": "mCfHGf_zevi9"
   }
  },
  {
   "cell_type": "code",
   "execution_count": null,
   "source": [
    "def clean_stock_df(ticker):\n",
    "  stock = yf.Ticker(ticker)\n",
    "  hist = yf.download(ticker, \"2003-01-01\", \"2011-12-31\")\n",
    "  hist.reset_index(inplace=True)\n",
    "  hist[\"year\"] = hist[\"Date\"].apply(getYear)\n",
    "  hist[\"month\"] = hist.Date.apply(getMonth)\n",
    "  hist = hist[hist.columns.tolist()[-2:] + hist.columns.tolist()[:-2]]\n",
    "  hist[\"Date\"] = hist[\"Date\"].apply(format_time)\n",
    "  hist['day_avg'] = hist.apply(lambda row : get_avg(row['High'],\n",
    "                     row['Close']), axis = 1)\n",
    "  hist.drop(hist.columns[[3,4,5,6,7,8]], axis=1, inplace=True)\n",
    "  hist[\"monthly_avg\"] = hist.groupby(\"Date\")[\"day_avg\"].transform(\"mean\")\n",
    "  hist.drop_duplicates(subset=[\"Date\"], inplace=True)\n",
    "  hist.drop([\"day_avg\"], axis=1, inplace=True)\n",
    "  hist.reset_index(inplace=True, drop=True)\n",
    "  hist[\"percentage_change\"] = hist[\"monthly_avg\"].pct_change() * 100\n",
    "  hist.at[0, 'percentage_change'] = 0\n",
    "  return hist;"
   ],
   "outputs": [],
   "metadata": {
    "id": "wSHHXyiShu6v"
   }
  },
  {
   "cell_type": "markdown",
   "source": [
    "Here is an example showing that we get data in the same format using the method."
   ],
   "metadata": {
    "id": "nMVLXqice8k7"
   }
  },
  {
   "cell_type": "code",
   "execution_count": null,
   "source": [
    "clean_stock_df(\"HAL\")"
   ],
   "outputs": [
    {
     "output_type": "stream",
     "name": "stdout",
     "text": [
      "\r[*********************100%***********************]  1 of 1 completed\n"
     ]
    },
    {
     "data": {
      "text/html": [
       "<div>\n",
       "<style scoped>\n",
       "    .dataframe tbody tr th:only-of-type {\n",
       "        vertical-align: middle;\n",
       "    }\n",
       "\n",
       "    .dataframe tbody tr th {\n",
       "        vertical-align: top;\n",
       "    }\n",
       "\n",
       "    .dataframe thead th {\n",
       "        text-align: right;\n",
       "    }\n",
       "</style>\n",
       "<table border=\"1\" class=\"dataframe\">\n",
       "  <thead>\n",
       "    <tr style=\"text-align: right;\">\n",
       "      <th></th>\n",
       "      <th>year</th>\n",
       "      <th>month</th>\n",
       "      <th>Date</th>\n",
       "      <th>monthly_avg</th>\n",
       "      <th>percentage_change</th>\n",
       "    </tr>\n",
       "  </thead>\n",
       "  <tbody>\n",
       "    <tr>\n",
       "      <th>0</th>\n",
       "      <td>2003</td>\n",
       "      <td>January</td>\n",
       "      <td>January 2003</td>\n",
       "      <td>9.468214</td>\n",
       "      <td>0.000000</td>\n",
       "    </tr>\n",
       "    <tr>\n",
       "      <th>1</th>\n",
       "      <td>2003</td>\n",
       "      <td>February</td>\n",
       "      <td>February 2003</td>\n",
       "      <td>9.831053</td>\n",
       "      <td>3.832173</td>\n",
       "    </tr>\n",
       "    <tr>\n",
       "      <th>2</th>\n",
       "      <td>2003</td>\n",
       "      <td>March</td>\n",
       "      <td>March 2003</td>\n",
       "      <td>10.282143</td>\n",
       "      <td>4.588424</td>\n",
       "    </tr>\n",
       "    <tr>\n",
       "      <th>3</th>\n",
       "      <td>2003</td>\n",
       "      <td>April</td>\n",
       "      <td>April 2003</td>\n",
       "      <td>10.588571</td>\n",
       "      <td>2.980201</td>\n",
       "    </tr>\n",
       "    <tr>\n",
       "      <th>4</th>\n",
       "      <td>2003</td>\n",
       "      <td>May</td>\n",
       "      <td>May 2003</td>\n",
       "      <td>11.750000</td>\n",
       "      <td>10.968700</td>\n",
       "    </tr>\n",
       "    <tr>\n",
       "      <th>...</th>\n",
       "      <td>...</td>\n",
       "      <td>...</td>\n",
       "      <td>...</td>\n",
       "      <td>...</td>\n",
       "      <td>...</td>\n",
       "    </tr>\n",
       "    <tr>\n",
       "      <th>103</th>\n",
       "      <td>2011</td>\n",
       "      <td>August</td>\n",
       "      <td>August 2011</td>\n",
       "      <td>45.253044</td>\n",
       "      <td>-16.905906</td>\n",
       "    </tr>\n",
       "    <tr>\n",
       "      <th>104</th>\n",
       "      <td>2011</td>\n",
       "      <td>September</td>\n",
       "      <td>September 2011</td>\n",
       "      <td>37.992381</td>\n",
       "      <td>-16.044584</td>\n",
       "    </tr>\n",
       "    <tr>\n",
       "      <th>105</th>\n",
       "      <td>2011</td>\n",
       "      <td>October</td>\n",
       "      <td>October 2011</td>\n",
       "      <td>35.174286</td>\n",
       "      <td>-7.417528</td>\n",
       "    </tr>\n",
       "    <tr>\n",
       "      <th>106</th>\n",
       "      <td>2011</td>\n",
       "      <td>November</td>\n",
       "      <td>November 2011</td>\n",
       "      <td>36.606905</td>\n",
       "      <td>4.072916</td>\n",
       "    </tr>\n",
       "    <tr>\n",
       "      <th>107</th>\n",
       "      <td>2011</td>\n",
       "      <td>December</td>\n",
       "      <td>December 2011</td>\n",
       "      <td>33.953096</td>\n",
       "      <td>-7.249478</td>\n",
       "    </tr>\n",
       "  </tbody>\n",
       "</table>\n",
       "<p>108 rows × 5 columns</p>\n",
       "</div>"
      ],
      "text/plain": [
       "     year      month            Date  monthly_avg  percentage_change\n",
       "0    2003    January    January 2003     9.468214           0.000000\n",
       "1    2003   February   February 2003     9.831053           3.832173\n",
       "2    2003      March      March 2003    10.282143           4.588424\n",
       "3    2003      April      April 2003    10.588571           2.980201\n",
       "4    2003        May        May 2003    11.750000          10.968700\n",
       "..    ...        ...             ...          ...                ...\n",
       "103  2011     August     August 2011    45.253044         -16.905906\n",
       "104  2011  September  September 2011    37.992381         -16.044584\n",
       "105  2011    October    October 2011    35.174286          -7.417528\n",
       "106  2011   November   November 2011    36.606905           4.072916\n",
       "107  2011   December   December 2011    33.953096          -7.249478\n",
       "\n",
       "[108 rows x 5 columns]"
      ]
     },
     "metadata": {},
     "output_type": "display_data"
    }
   ],
   "metadata": {
    "colab": {
     "base_uri": "https://localhost:8080/"
    },
    "id": "iaEPNgXiglKC",
    "outputId": "1497dd26-b74b-4e5f-bf3f-98217cedd4fc"
   }
  },
  {
   "cell_type": "markdown",
   "source": [
    "These will be the datasets used when comparing prices to Iraq deaths. `RTX`, `LMT`, and `NOC`are defense company stocks, while `CVX`, `HAL`, `XOM`, and `COP` are energy stocks. We will also use an ETF that tracks the SP500 to compare how these companies performed against the overall market. "
   ],
   "metadata": {
    "id": "0idTujOC5jA4"
   }
  },
  {
   "cell_type": "code",
   "execution_count": null,
   "source": [
    "RTX = clean_stock_df(\"RTX\")\n",
    "HAL = clean_stock_df(\"HAL\")\n",
    "LMT = clean_stock_df(\"LMT\")\n",
    "XOM = clean_stock_df(\"XOM\")\n",
    "CVX = clean_stock_df(\"CVX\")\n",
    "BP = clean_stock_df(\"BP\")\n",
    "NOC = clean_stock_df(\"NOC\")\n",
    "COP = clean_stock_df(\"COP\")\n"
   ],
   "outputs": [
    {
     "output_type": "stream",
     "name": "stdout",
     "text": [
      "[*********************100%***********************]  1 of 1 completed\n",
      "[*********************100%***********************]  1 of 1 completed\n",
      "[*********************100%***********************]  1 of 1 completed\n",
      "[*********************100%***********************]  1 of 1 completed\n",
      "[*********************100%***********************]  1 of 1 completed\n",
      "[*********************100%***********************]  1 of 1 completed\n",
      "[*********************100%***********************]  1 of 1 completed\n",
      "[*********************100%***********************]  1 of 1 completed\n"
     ]
    }
   ],
   "metadata": {
    "colab": {
     "base_uri": "https://localhost:8080/"
    },
    "id": "Kd1BA6ew5ksN",
    "outputId": "c03b0cef-29d4-41ae-d20f-e1c4d0a130f0"
   }
  },
  {
   "cell_type": "code",
   "execution_count": null,
   "source": [
    "SP = clean_stock_df(\"SPY\") #ETF that tracks SP500"
   ],
   "outputs": [
    {
     "output_type": "stream",
     "name": "stdout",
     "text": [
      "\r[*********************100%***********************]  1 of 1 completed\n"
     ]
    }
   ],
   "metadata": {
    "colab": {
     "base_uri": "https://localhost:8080/"
    },
    "id": "PgVYgjfvF-Bm",
    "outputId": "d4b73227-19aa-450e-bb8d-d262237ab73d"
   }
  },
  {
   "cell_type": "code",
   "execution_count": null,
   "source": [
    "BP"
   ],
   "outputs": [
    {
     "data": {
      "text/html": [
       "<div>\n",
       "<style scoped>\n",
       "    .dataframe tbody tr th:only-of-type {\n",
       "        vertical-align: middle;\n",
       "    }\n",
       "\n",
       "    .dataframe tbody tr th {\n",
       "        vertical-align: top;\n",
       "    }\n",
       "\n",
       "    .dataframe thead th {\n",
       "        text-align: right;\n",
       "    }\n",
       "</style>\n",
       "<table border=\"1\" class=\"dataframe\">\n",
       "  <thead>\n",
       "    <tr style=\"text-align: right;\">\n",
       "      <th></th>\n",
       "      <th>year</th>\n",
       "      <th>month</th>\n",
       "      <th>Date</th>\n",
       "      <th>monthly_avg</th>\n",
       "      <th>percentage_change</th>\n",
       "    </tr>\n",
       "  </thead>\n",
       "  <tbody>\n",
       "    <tr>\n",
       "      <th>0</th>\n",
       "      <td>2003</td>\n",
       "      <td>January</td>\n",
       "      <td>January 2003</td>\n",
       "      <td>39.086190</td>\n",
       "      <td>0.000000</td>\n",
       "    </tr>\n",
       "    <tr>\n",
       "      <th>1</th>\n",
       "      <td>2003</td>\n",
       "      <td>February</td>\n",
       "      <td>February 2003</td>\n",
       "      <td>38.736579</td>\n",
       "      <td>-0.894463</td>\n",
       "    </tr>\n",
       "    <tr>\n",
       "      <th>2</th>\n",
       "      <td>2003</td>\n",
       "      <td>March</td>\n",
       "      <td>March 2003</td>\n",
       "      <td>39.263095</td>\n",
       "      <td>1.359222</td>\n",
       "    </tr>\n",
       "    <tr>\n",
       "      <th>3</th>\n",
       "      <td>2003</td>\n",
       "      <td>April</td>\n",
       "      <td>April 2003</td>\n",
       "      <td>39.024762</td>\n",
       "      <td>-0.607015</td>\n",
       "    </tr>\n",
       "    <tr>\n",
       "      <th>4</th>\n",
       "      <td>2003</td>\n",
       "      <td>May</td>\n",
       "      <td>May 2003</td>\n",
       "      <td>40.757857</td>\n",
       "      <td>4.441014</td>\n",
       "    </tr>\n",
       "    <tr>\n",
       "      <th>...</th>\n",
       "      <td>...</td>\n",
       "      <td>...</td>\n",
       "      <td>...</td>\n",
       "      <td>...</td>\n",
       "      <td>...</td>\n",
       "    </tr>\n",
       "    <tr>\n",
       "      <th>103</th>\n",
       "      <td>2011</td>\n",
       "      <td>August</td>\n",
       "      <td>August 2011</td>\n",
       "      <td>40.426305</td>\n",
       "      <td>-10.179236</td>\n",
       "    </tr>\n",
       "    <tr>\n",
       "      <th>104</th>\n",
       "      <td>2011</td>\n",
       "      <td>September</td>\n",
       "      <td>September 2011</td>\n",
       "      <td>37.441667</td>\n",
       "      <td>-7.382911</td>\n",
       "    </tr>\n",
       "    <tr>\n",
       "      <th>105</th>\n",
       "      <td>2011</td>\n",
       "      <td>October</td>\n",
       "      <td>October 2011</td>\n",
       "      <td>40.450000</td>\n",
       "      <td>8.034721</td>\n",
       "    </tr>\n",
       "    <tr>\n",
       "      <th>106</th>\n",
       "      <td>2011</td>\n",
       "      <td>November</td>\n",
       "      <td>November 2011</td>\n",
       "      <td>42.839524</td>\n",
       "      <td>5.907352</td>\n",
       "    </tr>\n",
       "    <tr>\n",
       "      <th>107</th>\n",
       "      <td>2011</td>\n",
       "      <td>December</td>\n",
       "      <td>December 2011</td>\n",
       "      <td>42.563810</td>\n",
       "      <td>-0.643598</td>\n",
       "    </tr>\n",
       "  </tbody>\n",
       "</table>\n",
       "<p>108 rows × 5 columns</p>\n",
       "</div>"
      ],
      "text/plain": [
       "     year      month            Date  monthly_avg  percentage_change\n",
       "0    2003    January    January 2003    39.086190           0.000000\n",
       "1    2003   February   February 2003    38.736579          -0.894463\n",
       "2    2003      March      March 2003    39.263095           1.359222\n",
       "3    2003      April      April 2003    39.024762          -0.607015\n",
       "4    2003        May        May 2003    40.757857           4.441014\n",
       "..    ...        ...             ...          ...                ...\n",
       "103  2011     August     August 2011    40.426305         -10.179236\n",
       "104  2011  September  September 2011    37.441667          -7.382911\n",
       "105  2011    October    October 2011    40.450000           8.034721\n",
       "106  2011   November   November 2011    42.839524           5.907352\n",
       "107  2011   December   December 2011    42.563810          -0.643598\n",
       "\n",
       "[108 rows x 5 columns]"
      ]
     },
     "metadata": {},
     "output_type": "display_data"
    }
   ],
   "metadata": {
    "colab": {
     "base_uri": "https://localhost:8080/"
    },
    "id": "MduQ93-hsMzJ",
    "outputId": "14ab5464-2bbd-4a3d-cf60-d2534e0b0acf"
   }
  },
  {
   "cell_type": "code",
   "execution_count": null,
   "source": [
    "NOC"
   ],
   "outputs": [
    {
     "data": {
      "text/html": [
       "<div>\n",
       "<style scoped>\n",
       "    .dataframe tbody tr th:only-of-type {\n",
       "        vertical-align: middle;\n",
       "    }\n",
       "\n",
       "    .dataframe tbody tr th {\n",
       "        vertical-align: top;\n",
       "    }\n",
       "\n",
       "    .dataframe thead th {\n",
       "        text-align: right;\n",
       "    }\n",
       "</style>\n",
       "<table border=\"1\" class=\"dataframe\">\n",
       "  <thead>\n",
       "    <tr style=\"text-align: right;\">\n",
       "      <th></th>\n",
       "      <th>year</th>\n",
       "      <th>month</th>\n",
       "      <th>Date</th>\n",
       "      <th>monthly_avg</th>\n",
       "      <th>percentage_change</th>\n",
       "    </tr>\n",
       "  </thead>\n",
       "  <tbody>\n",
       "    <tr>\n",
       "      <th>0</th>\n",
       "      <td>2003</td>\n",
       "      <td>January</td>\n",
       "      <td>January 2003</td>\n",
       "      <td>43.356706</td>\n",
       "      <td>0.000000</td>\n",
       "    </tr>\n",
       "    <tr>\n",
       "      <th>1</th>\n",
       "      <td>2003</td>\n",
       "      <td>February</td>\n",
       "      <td>February 2003</td>\n",
       "      <td>41.246202</td>\n",
       "      <td>-4.867770</td>\n",
       "    </tr>\n",
       "    <tr>\n",
       "      <th>2</th>\n",
       "      <td>2003</td>\n",
       "      <td>March</td>\n",
       "      <td>March 2003</td>\n",
       "      <td>38.254191</td>\n",
       "      <td>-7.254028</td>\n",
       "    </tr>\n",
       "    <tr>\n",
       "      <th>3</th>\n",
       "      <td>2003</td>\n",
       "      <td>April</td>\n",
       "      <td>April 2003</td>\n",
       "      <td>38.488455</td>\n",
       "      <td>0.612388</td>\n",
       "    </tr>\n",
       "    <tr>\n",
       "      <th>4</th>\n",
       "      <td>2003</td>\n",
       "      <td>May</td>\n",
       "      <td>May 2003</td>\n",
       "      <td>40.348697</td>\n",
       "      <td>4.833248</td>\n",
       "    </tr>\n",
       "    <tr>\n",
       "      <th>...</th>\n",
       "      <td>...</td>\n",
       "      <td>...</td>\n",
       "      <td>...</td>\n",
       "      <td>...</td>\n",
       "      <td>...</td>\n",
       "    </tr>\n",
       "    <tr>\n",
       "      <th>103</th>\n",
       "      <td>2011</td>\n",
       "      <td>August</td>\n",
       "      <td>August 2011</td>\n",
       "      <td>53.623261</td>\n",
       "      <td>-18.981268</td>\n",
       "    </tr>\n",
       "    <tr>\n",
       "      <th>104</th>\n",
       "      <td>2011</td>\n",
       "      <td>September</td>\n",
       "      <td>September 2011</td>\n",
       "      <td>53.067381</td>\n",
       "      <td>-1.036640</td>\n",
       "    </tr>\n",
       "    <tr>\n",
       "      <th>105</th>\n",
       "      <td>2011</td>\n",
       "      <td>October</td>\n",
       "      <td>October 2011</td>\n",
       "      <td>54.889286</td>\n",
       "      <td>3.433192</td>\n",
       "    </tr>\n",
       "    <tr>\n",
       "      <th>106</th>\n",
       "      <td>2011</td>\n",
       "      <td>November</td>\n",
       "      <td>November 2011</td>\n",
       "      <td>56.960000</td>\n",
       "      <td>3.772529</td>\n",
       "    </tr>\n",
       "    <tr>\n",
       "      <th>107</th>\n",
       "      <td>2011</td>\n",
       "      <td>December</td>\n",
       "      <td>December 2011</td>\n",
       "      <td>57.170715</td>\n",
       "      <td>0.369934</td>\n",
       "    </tr>\n",
       "  </tbody>\n",
       "</table>\n",
       "<p>108 rows × 5 columns</p>\n",
       "</div>"
      ],
      "text/plain": [
       "     year      month            Date  monthly_avg  percentage_change\n",
       "0    2003    January    January 2003    43.356706           0.000000\n",
       "1    2003   February   February 2003    41.246202          -4.867770\n",
       "2    2003      March      March 2003    38.254191          -7.254028\n",
       "3    2003      April      April 2003    38.488455           0.612388\n",
       "4    2003        May        May 2003    40.348697           4.833248\n",
       "..    ...        ...             ...          ...                ...\n",
       "103  2011     August     August 2011    53.623261         -18.981268\n",
       "104  2011  September  September 2011    53.067381          -1.036640\n",
       "105  2011    October    October 2011    54.889286           3.433192\n",
       "106  2011   November   November 2011    56.960000           3.772529\n",
       "107  2011   December   December 2011    57.170715           0.369934\n",
       "\n",
       "[108 rows x 5 columns]"
      ]
     },
     "metadata": {},
     "output_type": "display_data"
    }
   ],
   "metadata": {
    "colab": {
     "base_uri": "https://localhost:8080/"
    },
    "id": "byy2MzperKDT",
    "outputId": "439c494e-cc8e-4be4-d718-035a72971657"
   }
  },
  {
   "cell_type": "code",
   "execution_count": null,
   "source": [
    "CVX"
   ],
   "outputs": [
    {
     "data": {
      "text/html": [
       "<div>\n",
       "<style scoped>\n",
       "    .dataframe tbody tr th:only-of-type {\n",
       "        vertical-align: middle;\n",
       "    }\n",
       "\n",
       "    .dataframe tbody tr th {\n",
       "        vertical-align: top;\n",
       "    }\n",
       "\n",
       "    .dataframe thead th {\n",
       "        text-align: right;\n",
       "    }\n",
       "</style>\n",
       "<table border=\"1\" class=\"dataframe\">\n",
       "  <thead>\n",
       "    <tr style=\"text-align: right;\">\n",
       "      <th></th>\n",
       "      <th>year</th>\n",
       "      <th>month</th>\n",
       "      <th>Date</th>\n",
       "      <th>monthly_avg</th>\n",
       "      <th>percentage_change</th>\n",
       "    </tr>\n",
       "  </thead>\n",
       "  <tbody>\n",
       "    <tr>\n",
       "      <th>0</th>\n",
       "      <td>2003</td>\n",
       "      <td>January</td>\n",
       "      <td>January 2003</td>\n",
       "      <td>33.535595</td>\n",
       "      <td>0.000000</td>\n",
       "    </tr>\n",
       "    <tr>\n",
       "      <th>1</th>\n",
       "      <td>2003</td>\n",
       "      <td>February</td>\n",
       "      <td>February 2003</td>\n",
       "      <td>32.290790</td>\n",
       "      <td>-3.711894</td>\n",
       "    </tr>\n",
       "    <tr>\n",
       "      <th>2</th>\n",
       "      <td>2003</td>\n",
       "      <td>March</td>\n",
       "      <td>March 2003</td>\n",
       "      <td>32.614167</td>\n",
       "      <td>1.001453</td>\n",
       "    </tr>\n",
       "    <tr>\n",
       "      <th>3</th>\n",
       "      <td>2003</td>\n",
       "      <td>April</td>\n",
       "      <td>April 2003</td>\n",
       "      <td>32.216548</td>\n",
       "      <td>-1.219161</td>\n",
       "    </tr>\n",
       "    <tr>\n",
       "      <th>4</th>\n",
       "      <td>2003</td>\n",
       "      <td>May</td>\n",
       "      <td>May 2003</td>\n",
       "      <td>33.991309</td>\n",
       "      <td>5.508852</td>\n",
       "    </tr>\n",
       "    <tr>\n",
       "      <th>...</th>\n",
       "      <td>...</td>\n",
       "      <td>...</td>\n",
       "      <td>...</td>\n",
       "      <td>...</td>\n",
       "      <td>...</td>\n",
       "    </tr>\n",
       "    <tr>\n",
       "      <th>103</th>\n",
       "      <td>2011</td>\n",
       "      <td>August</td>\n",
       "      <td>August 2011</td>\n",
       "      <td>97.683478</td>\n",
       "      <td>-8.193730</td>\n",
       "    </tr>\n",
       "    <tr>\n",
       "      <th>104</th>\n",
       "      <td>2011</td>\n",
       "      <td>September</td>\n",
       "      <td>September 2011</td>\n",
       "      <td>96.170714</td>\n",
       "      <td>-1.548638</td>\n",
       "    </tr>\n",
       "    <tr>\n",
       "      <th>105</th>\n",
       "      <td>2011</td>\n",
       "      <td>October</td>\n",
       "      <td>October 2011</td>\n",
       "      <td>100.989762</td>\n",
       "      <td>5.010930</td>\n",
       "    </tr>\n",
       "    <tr>\n",
       "      <th>106</th>\n",
       "      <td>2011</td>\n",
       "      <td>November</td>\n",
       "      <td>November 2011</td>\n",
       "      <td>102.305000</td>\n",
       "      <td>1.302348</td>\n",
       "    </tr>\n",
       "    <tr>\n",
       "      <th>107</th>\n",
       "      <td>2011</td>\n",
       "      <td>December</td>\n",
       "      <td>December 2011</td>\n",
       "      <td>104.359048</td>\n",
       "      <td>2.007769</td>\n",
       "    </tr>\n",
       "  </tbody>\n",
       "</table>\n",
       "<p>108 rows × 5 columns</p>\n",
       "</div>"
      ],
      "text/plain": [
       "     year      month            Date  monthly_avg  percentage_change\n",
       "0    2003    January    January 2003    33.535595           0.000000\n",
       "1    2003   February   February 2003    32.290790          -3.711894\n",
       "2    2003      March      March 2003    32.614167           1.001453\n",
       "3    2003      April      April 2003    32.216548          -1.219161\n",
       "4    2003        May        May 2003    33.991309           5.508852\n",
       "..    ...        ...             ...          ...                ...\n",
       "103  2011     August     August 2011    97.683478          -8.193730\n",
       "104  2011  September  September 2011    96.170714          -1.548638\n",
       "105  2011    October    October 2011   100.989762           5.010930\n",
       "106  2011   November   November 2011   102.305000           1.302348\n",
       "107  2011   December   December 2011   104.359048           2.007769\n",
       "\n",
       "[108 rows x 5 columns]"
      ]
     },
     "metadata": {},
     "output_type": "display_data"
    }
   ],
   "metadata": {
    "colab": {
     "base_uri": "https://localhost:8080/"
    },
    "id": "SlfAhTD6qwLW",
    "outputId": "813fc9ab-3b67-4ccb-fc65-6f0cf0792743"
   }
  },
  {
   "cell_type": "code",
   "execution_count": null,
   "source": [
    "RTX\n"
   ],
   "outputs": [
    {
     "data": {
      "text/html": [
       "<div>\n",
       "<style scoped>\n",
       "    .dataframe tbody tr th:only-of-type {\n",
       "        vertical-align: middle;\n",
       "    }\n",
       "\n",
       "    .dataframe tbody tr th {\n",
       "        vertical-align: top;\n",
       "    }\n",
       "\n",
       "    .dataframe thead th {\n",
       "        text-align: right;\n",
       "    }\n",
       "</style>\n",
       "<table border=\"1\" class=\"dataframe\">\n",
       "  <thead>\n",
       "    <tr style=\"text-align: right;\">\n",
       "      <th></th>\n",
       "      <th>year</th>\n",
       "      <th>month</th>\n",
       "      <th>Date</th>\n",
       "      <th>monthly_avg</th>\n",
       "      <th>percentage_change</th>\n",
       "    </tr>\n",
       "  </thead>\n",
       "  <tbody>\n",
       "    <tr>\n",
       "      <th>0</th>\n",
       "      <td>2003</td>\n",
       "      <td>January</td>\n",
       "      <td>January 2003</td>\n",
       "      <td>20.320582</td>\n",
       "      <td>0.000000</td>\n",
       "    </tr>\n",
       "    <tr>\n",
       "      <th>1</th>\n",
       "      <td>2003</td>\n",
       "      <td>February</td>\n",
       "      <td>February 2003</td>\n",
       "      <td>19.538770</td>\n",
       "      <td>-3.847389</td>\n",
       "    </tr>\n",
       "    <tr>\n",
       "      <th>2</th>\n",
       "      <td>2003</td>\n",
       "      <td>March</td>\n",
       "      <td>March 2003</td>\n",
       "      <td>18.630390</td>\n",
       "      <td>-4.649113</td>\n",
       "    </tr>\n",
       "    <tr>\n",
       "      <th>3</th>\n",
       "      <td>2003</td>\n",
       "      <td>April</td>\n",
       "      <td>April 2003</td>\n",
       "      <td>19.336360</td>\n",
       "      <td>3.789346</td>\n",
       "    </tr>\n",
       "    <tr>\n",
       "      <th>4</th>\n",
       "      <td>2003</td>\n",
       "      <td>May</td>\n",
       "      <td>May 2003</td>\n",
       "      <td>20.771075</td>\n",
       "      <td>7.419777</td>\n",
       "    </tr>\n",
       "    <tr>\n",
       "      <th>...</th>\n",
       "      <td>...</td>\n",
       "      <td>...</td>\n",
       "      <td>...</td>\n",
       "      <td>...</td>\n",
       "      <td>...</td>\n",
       "    </tr>\n",
       "    <tr>\n",
       "      <th>103</th>\n",
       "      <td>2011</td>\n",
       "      <td>August</td>\n",
       "      <td>August 2011</td>\n",
       "      <td>46.022793</td>\n",
       "      <td>-17.116932</td>\n",
       "    </tr>\n",
       "    <tr>\n",
       "      <th>104</th>\n",
       "      <td>2011</td>\n",
       "      <td>September</td>\n",
       "      <td>September 2011</td>\n",
       "      <td>45.935599</td>\n",
       "      <td>-0.189458</td>\n",
       "    </tr>\n",
       "    <tr>\n",
       "      <th>105</th>\n",
       "      <td>2011</td>\n",
       "      <td>October</td>\n",
       "      <td>October 2011</td>\n",
       "      <td>46.830292</td>\n",
       "      <td>1.947711</td>\n",
       "    </tr>\n",
       "    <tr>\n",
       "      <th>106</th>\n",
       "      <td>2011</td>\n",
       "      <td>November</td>\n",
       "      <td>November 2011</td>\n",
       "      <td>48.137643</td>\n",
       "      <td>2.791678</td>\n",
       "    </tr>\n",
       "    <tr>\n",
       "      <th>107</th>\n",
       "      <td>2011</td>\n",
       "      <td>December</td>\n",
       "      <td>December 2011</td>\n",
       "      <td>47.108244</td>\n",
       "      <td>-2.138449</td>\n",
       "    </tr>\n",
       "  </tbody>\n",
       "</table>\n",
       "<p>108 rows × 5 columns</p>\n",
       "</div>"
      ],
      "text/plain": [
       "     year      month            Date  monthly_avg  percentage_change\n",
       "0    2003    January    January 2003    20.320582           0.000000\n",
       "1    2003   February   February 2003    19.538770          -3.847389\n",
       "2    2003      March      March 2003    18.630390          -4.649113\n",
       "3    2003      April      April 2003    19.336360           3.789346\n",
       "4    2003        May        May 2003    20.771075           7.419777\n",
       "..    ...        ...             ...          ...                ...\n",
       "103  2011     August     August 2011    46.022793         -17.116932\n",
       "104  2011  September  September 2011    45.935599          -0.189458\n",
       "105  2011    October    October 2011    46.830292           1.947711\n",
       "106  2011   November   November 2011    48.137643           2.791678\n",
       "107  2011   December   December 2011    47.108244          -2.138449\n",
       "\n",
       "[108 rows x 5 columns]"
      ]
     },
     "metadata": {},
     "output_type": "display_data"
    }
   ],
   "metadata": {
    "colab": {
     "base_uri": "https://localhost:8080/"
    },
    "id": "4KVlJG0M6KYF",
    "outputId": "91ac3b3e-bfa5-4256-88a9-07fb06bbb5fe"
   }
  },
  {
   "cell_type": "code",
   "execution_count": null,
   "source": [
    "LMT"
   ],
   "outputs": [
    {
     "data": {
      "text/html": [
       "<div>\n",
       "<style scoped>\n",
       "    .dataframe tbody tr th:only-of-type {\n",
       "        vertical-align: middle;\n",
       "    }\n",
       "\n",
       "    .dataframe tbody tr th {\n",
       "        vertical-align: top;\n",
       "    }\n",
       "\n",
       "    .dataframe thead th {\n",
       "        text-align: right;\n",
       "    }\n",
       "</style>\n",
       "<table border=\"1\" class=\"dataframe\">\n",
       "  <thead>\n",
       "    <tr style=\"text-align: right;\">\n",
       "      <th></th>\n",
       "      <th>year</th>\n",
       "      <th>month</th>\n",
       "      <th>Date</th>\n",
       "      <th>monthly_avg</th>\n",
       "      <th>percentage_change</th>\n",
       "    </tr>\n",
       "  </thead>\n",
       "  <tbody>\n",
       "    <tr>\n",
       "      <th>0</th>\n",
       "      <td>2003</td>\n",
       "      <td>January</td>\n",
       "      <td>January 2003</td>\n",
       "      <td>54.260476</td>\n",
       "      <td>0.000000</td>\n",
       "    </tr>\n",
       "    <tr>\n",
       "      <th>1</th>\n",
       "      <td>2003</td>\n",
       "      <td>February</td>\n",
       "      <td>February 2003</td>\n",
       "      <td>48.072895</td>\n",
       "      <td>-11.403478</td>\n",
       "    </tr>\n",
       "    <tr>\n",
       "      <th>2</th>\n",
       "      <td>2003</td>\n",
       "      <td>March</td>\n",
       "      <td>March 2003</td>\n",
       "      <td>45.838333</td>\n",
       "      <td>-4.648277</td>\n",
       "    </tr>\n",
       "    <tr>\n",
       "      <th>3</th>\n",
       "      <td>2003</td>\n",
       "      <td>April</td>\n",
       "      <td>April 2003</td>\n",
       "      <td>47.179048</td>\n",
       "      <td>2.924875</td>\n",
       "    </tr>\n",
       "    <tr>\n",
       "      <th>4</th>\n",
       "      <td>2003</td>\n",
       "      <td>May</td>\n",
       "      <td>May 2003</td>\n",
       "      <td>48.743571</td>\n",
       "      <td>3.316141</td>\n",
       "    </tr>\n",
       "    <tr>\n",
       "      <th>...</th>\n",
       "      <td>...</td>\n",
       "      <td>...</td>\n",
       "      <td>...</td>\n",
       "      <td>...</td>\n",
       "      <td>...</td>\n",
       "    </tr>\n",
       "    <tr>\n",
       "      <th>103</th>\n",
       "      <td>2011</td>\n",
       "      <td>August</td>\n",
       "      <td>August 2011</td>\n",
       "      <td>71.979348</td>\n",
       "      <td>-9.686576</td>\n",
       "    </tr>\n",
       "    <tr>\n",
       "      <th>104</th>\n",
       "      <td>2011</td>\n",
       "      <td>September</td>\n",
       "      <td>September 2011</td>\n",
       "      <td>73.783334</td>\n",
       "      <td>2.506255</td>\n",
       "    </tr>\n",
       "    <tr>\n",
       "      <th>105</th>\n",
       "      <td>2011</td>\n",
       "      <td>October</td>\n",
       "      <td>October 2011</td>\n",
       "      <td>75.913334</td>\n",
       "      <td>2.886830</td>\n",
       "    </tr>\n",
       "    <tr>\n",
       "      <th>106</th>\n",
       "      <td>2011</td>\n",
       "      <td>November</td>\n",
       "      <td>November 2011</td>\n",
       "      <td>76.514761</td>\n",
       "      <td>0.792256</td>\n",
       "    </tr>\n",
       "    <tr>\n",
       "      <th>107</th>\n",
       "      <td>2011</td>\n",
       "      <td>December</td>\n",
       "      <td>December 2011</td>\n",
       "      <td>78.887381</td>\n",
       "      <td>3.100865</td>\n",
       "    </tr>\n",
       "  </tbody>\n",
       "</table>\n",
       "<p>108 rows × 5 columns</p>\n",
       "</div>"
      ],
      "text/plain": [
       "     year      month            Date  monthly_avg  percentage_change\n",
       "0    2003    January    January 2003    54.260476           0.000000\n",
       "1    2003   February   February 2003    48.072895         -11.403478\n",
       "2    2003      March      March 2003    45.838333          -4.648277\n",
       "3    2003      April      April 2003    47.179048           2.924875\n",
       "4    2003        May        May 2003    48.743571           3.316141\n",
       "..    ...        ...             ...          ...                ...\n",
       "103  2011     August     August 2011    71.979348          -9.686576\n",
       "104  2011  September  September 2011    73.783334           2.506255\n",
       "105  2011    October    October 2011    75.913334           2.886830\n",
       "106  2011   November   November 2011    76.514761           0.792256\n",
       "107  2011   December   December 2011    78.887381           3.100865\n",
       "\n",
       "[108 rows x 5 columns]"
      ]
     },
     "metadata": {},
     "output_type": "display_data"
    }
   ],
   "metadata": {
    "colab": {
     "base_uri": "https://localhost:8080/"
    },
    "id": "grBq4qW1PSaE",
    "outputId": "08ec2678-e74f-470b-bc64-06c41732435d"
   }
  },
  {
   "cell_type": "code",
   "execution_count": null,
   "source": [
    "XOM"
   ],
   "outputs": [
    {
     "data": {
      "text/html": [
       "<div>\n",
       "<style scoped>\n",
       "    .dataframe tbody tr th:only-of-type {\n",
       "        vertical-align: middle;\n",
       "    }\n",
       "\n",
       "    .dataframe tbody tr th {\n",
       "        vertical-align: top;\n",
       "    }\n",
       "\n",
       "    .dataframe thead th {\n",
       "        text-align: right;\n",
       "    }\n",
       "</style>\n",
       "<table border=\"1\" class=\"dataframe\">\n",
       "  <thead>\n",
       "    <tr style=\"text-align: right;\">\n",
       "      <th></th>\n",
       "      <th>year</th>\n",
       "      <th>month</th>\n",
       "      <th>Date</th>\n",
       "      <th>monthly_avg</th>\n",
       "      <th>percentage_change</th>\n",
       "    </tr>\n",
       "  </thead>\n",
       "  <tbody>\n",
       "    <tr>\n",
       "      <th>0</th>\n",
       "      <td>2003</td>\n",
       "      <td>January</td>\n",
       "      <td>January 2003</td>\n",
       "      <td>34.636428</td>\n",
       "      <td>0.000000</td>\n",
       "    </tr>\n",
       "    <tr>\n",
       "      <th>1</th>\n",
       "      <td>2003</td>\n",
       "      <td>February</td>\n",
       "      <td>February 2003</td>\n",
       "      <td>33.944737</td>\n",
       "      <td>-1.997006</td>\n",
       "    </tr>\n",
       "    <tr>\n",
       "      <th>2</th>\n",
       "      <td>2003</td>\n",
       "      <td>March</td>\n",
       "      <td>March 2003</td>\n",
       "      <td>35.200238</td>\n",
       "      <td>3.698662</td>\n",
       "    </tr>\n",
       "    <tr>\n",
       "      <th>3</th>\n",
       "      <td>2003</td>\n",
       "      <td>April</td>\n",
       "      <td>April 2003</td>\n",
       "      <td>35.186905</td>\n",
       "      <td>-0.037878</td>\n",
       "    </tr>\n",
       "    <tr>\n",
       "      <th>4</th>\n",
       "      <td>2003</td>\n",
       "      <td>May</td>\n",
       "      <td>May 2003</td>\n",
       "      <td>35.784524</td>\n",
       "      <td>1.698414</td>\n",
       "    </tr>\n",
       "    <tr>\n",
       "      <th>...</th>\n",
       "      <td>...</td>\n",
       "      <td>...</td>\n",
       "      <td>...</td>\n",
       "      <td>...</td>\n",
       "      <td>...</td>\n",
       "    </tr>\n",
       "    <tr>\n",
       "      <th>103</th>\n",
       "      <td>2011</td>\n",
       "      <td>August</td>\n",
       "      <td>August 2011</td>\n",
       "      <td>73.823261</td>\n",
       "      <td>-11.043718</td>\n",
       "    </tr>\n",
       "    <tr>\n",
       "      <th>104</th>\n",
       "      <td>2011</td>\n",
       "      <td>September</td>\n",
       "      <td>September 2011</td>\n",
       "      <td>72.841667</td>\n",
       "      <td>-1.329655</td>\n",
       "    </tr>\n",
       "    <tr>\n",
       "      <th>105</th>\n",
       "      <td>2011</td>\n",
       "      <td>October</td>\n",
       "      <td>October 2011</td>\n",
       "      <td>77.698571</td>\n",
       "      <td>6.667756</td>\n",
       "    </tr>\n",
       "    <tr>\n",
       "      <th>106</th>\n",
       "      <td>2011</td>\n",
       "      <td>November</td>\n",
       "      <td>November 2011</td>\n",
       "      <td>78.067142</td>\n",
       "      <td>0.474360</td>\n",
       "    </tr>\n",
       "    <tr>\n",
       "      <th>107</th>\n",
       "      <td>2011</td>\n",
       "      <td>December</td>\n",
       "      <td>December 2011</td>\n",
       "      <td>82.083333</td>\n",
       "      <td>5.144534</td>\n",
       "    </tr>\n",
       "  </tbody>\n",
       "</table>\n",
       "<p>108 rows × 5 columns</p>\n",
       "</div>"
      ],
      "text/plain": [
       "     year      month            Date  monthly_avg  percentage_change\n",
       "0    2003    January    January 2003    34.636428           0.000000\n",
       "1    2003   February   February 2003    33.944737          -1.997006\n",
       "2    2003      March      March 2003    35.200238           3.698662\n",
       "3    2003      April      April 2003    35.186905          -0.037878\n",
       "4    2003        May        May 2003    35.784524           1.698414\n",
       "..    ...        ...             ...          ...                ...\n",
       "103  2011     August     August 2011    73.823261         -11.043718\n",
       "104  2011  September  September 2011    72.841667          -1.329655\n",
       "105  2011    October    October 2011    77.698571           6.667756\n",
       "106  2011   November   November 2011    78.067142           0.474360\n",
       "107  2011   December   December 2011    82.083333           5.144534\n",
       "\n",
       "[108 rows x 5 columns]"
      ]
     },
     "metadata": {},
     "output_type": "display_data"
    }
   ],
   "metadata": {
    "colab": {
     "base_uri": "https://localhost:8080/"
    },
    "id": "NQGFwJ18PZa2",
    "outputId": "22436552-c188-4e18-ab08-d54708152e35"
   }
  },
  {
   "cell_type": "markdown",
   "source": [
    "## Cleaning the civilian death count dataset\n",
    "\n",
    "\n",
    "\n"
   ],
   "metadata": {
    "id": "_bhn0yb1AaHU"
   }
  },
  {
   "cell_type": "markdown",
   "source": [
    "We are going to import the Iraq Civilian death count dataset from \"iraqbodycount.org\"  The database is of Iraqi Civilian deaths due to violence. The data is derived from mutible databases and ranges 2003-2021. The data is reported on a monthly basis "
   ],
   "metadata": {
    "id": "diZEP7tns_uf"
   }
  },
  {
   "cell_type": "code",
   "execution_count": null,
   "source": [
    "import csv\n",
    "\n",
    "url = 'https://www.iraqbodycount.org/components/multigraph/multicsv.php?sy=2003&ey=2021&type=mk&res=month&loc[]=0&wea[]=0&for[]=0&siz[]=0'\n"
   ],
   "outputs": [],
   "metadata": {
    "id": "NjJbPpkPBwqD"
   }
  },
  {
   "cell_type": "code",
   "execution_count": null,
   "source": [
    "iraq_df = pd.read_csv(url, skiprows =11) #skip first 11 rows that are explaining the dataset "
   ],
   "outputs": [],
   "metadata": {
    "id": "MEcuupk2AZXw"
   }
  },
  {
   "cell_type": "code",
   "execution_count": null,
   "source": [
    "iraq_df"
   ],
   "outputs": [
    {
     "data": {
      "text/html": [
       "<div>\n",
       "<style scoped>\n",
       "    .dataframe tbody tr th:only-of-type {\n",
       "        vertical-align: middle;\n",
       "    }\n",
       "\n",
       "    .dataframe tbody tr th {\n",
       "        vertical-align: top;\n",
       "    }\n",
       "\n",
       "    .dataframe thead th {\n",
       "        text-align: right;\n",
       "    }\n",
       "</style>\n",
       "<table border=\"1\" class=\"dataframe\">\n",
       "  <thead>\n",
       "    <tr style=\"text-align: right;\">\n",
       "      <th></th>\n",
       "      <th>Month starting</th>\n",
       "      <th>dataset 1</th>\n",
       "      <th>dataset 2</th>\n",
       "    </tr>\n",
       "  </thead>\n",
       "  <tbody>\n",
       "    <tr>\n",
       "      <th>0</th>\n",
       "      <td>1 Jan 2003</td>\n",
       "      <td>3.0</td>\n",
       "      <td>NaN</td>\n",
       "    </tr>\n",
       "    <tr>\n",
       "      <th>1</th>\n",
       "      <td>1 Feb 2003</td>\n",
       "      <td>2.0</td>\n",
       "      <td>NaN</td>\n",
       "    </tr>\n",
       "    <tr>\n",
       "      <th>2</th>\n",
       "      <td>1 Mar 2003</td>\n",
       "      <td>3986.0</td>\n",
       "      <td>NaN</td>\n",
       "    </tr>\n",
       "    <tr>\n",
       "      <th>3</th>\n",
       "      <td>1 Apr 2003</td>\n",
       "      <td>3448.0</td>\n",
       "      <td>NaN</td>\n",
       "    </tr>\n",
       "    <tr>\n",
       "      <th>4</th>\n",
       "      <td>1 May 2003</td>\n",
       "      <td>545.0</td>\n",
       "      <td>NaN</td>\n",
       "    </tr>\n",
       "    <tr>\n",
       "      <th>...</th>\n",
       "      <td>...</td>\n",
       "      <td>...</td>\n",
       "      <td>...</td>\n",
       "    </tr>\n",
       "    <tr>\n",
       "      <th>223</th>\n",
       "      <td>1 Aug 2021</td>\n",
       "      <td>NaN</td>\n",
       "      <td>50.0</td>\n",
       "    </tr>\n",
       "    <tr>\n",
       "      <th>224</th>\n",
       "      <td>1 Sep 2021</td>\n",
       "      <td>NaN</td>\n",
       "      <td>41.0</td>\n",
       "    </tr>\n",
       "    <tr>\n",
       "      <th>225</th>\n",
       "      <td>1 Oct 2021</td>\n",
       "      <td>NaN</td>\n",
       "      <td>65.0</td>\n",
       "    </tr>\n",
       "    <tr>\n",
       "      <th>226</th>\n",
       "      <td>1 Nov 2021</td>\n",
       "      <td>NaN</td>\n",
       "      <td>23.0</td>\n",
       "    </tr>\n",
       "    <tr>\n",
       "      <th>227</th>\n",
       "      <td>1 Dec 2021</td>\n",
       "      <td>NaN</td>\n",
       "      <td>NaN</td>\n",
       "    </tr>\n",
       "  </tbody>\n",
       "</table>\n",
       "<p>228 rows × 3 columns</p>\n",
       "</div>"
      ],
      "text/plain": [
       "    Month starting  dataset 1  dataset 2\n",
       "0       1 Jan 2003        3.0        NaN\n",
       "1       1 Feb 2003        2.0        NaN\n",
       "2       1 Mar 2003     3986.0        NaN\n",
       "3       1 Apr 2003     3448.0        NaN\n",
       "4       1 May 2003      545.0        NaN\n",
       "..             ...        ...        ...\n",
       "223     1 Aug 2021        NaN       50.0\n",
       "224     1 Sep 2021        NaN       41.0\n",
       "225     1 Oct 2021        NaN       65.0\n",
       "226     1 Nov 2021        NaN       23.0\n",
       "227     1 Dec 2021        NaN        NaN\n",
       "\n",
       "[228 rows x 3 columns]"
      ]
     },
     "metadata": {},
     "output_type": "display_data"
    }
   ],
   "metadata": {
    "colab": {
     "base_uri": "https://localhost:8080/"
    },
    "id": "d-IHMJ93IW0e",
    "outputId": "6c1fdcc0-ceca-4d8f-86bb-8039a788945c"
   }
  },
  {
   "cell_type": "code",
   "execution_count": null,
   "source": [
    "#rename the columns because they dont have explanatory names \n",
    "\n",
    "iraq_df = iraq_df.rename(columns = {'Month starting':'date','dataset 1':'any_perpetrator_count','dataset2':'preliminary_count'})\n",
    "iraq_df \n",
    "# we rename dataset 1 as \"any_perpetrator_count\" because that is how the count is derived \n",
    "# we rename dataset 2 as \"preliminary_count\" because this dataset starts in 2017 and is preliminary count based on approximated daily data. "
   ],
   "outputs": [
    {
     "data": {
      "text/html": [
       "<div>\n",
       "<style scoped>\n",
       "    .dataframe tbody tr th:only-of-type {\n",
       "        vertical-align: middle;\n",
       "    }\n",
       "\n",
       "    .dataframe tbody tr th {\n",
       "        vertical-align: top;\n",
       "    }\n",
       "\n",
       "    .dataframe thead th {\n",
       "        text-align: right;\n",
       "    }\n",
       "</style>\n",
       "<table border=\"1\" class=\"dataframe\">\n",
       "  <thead>\n",
       "    <tr style=\"text-align: right;\">\n",
       "      <th></th>\n",
       "      <th>date</th>\n",
       "      <th>any_perpetrator_count</th>\n",
       "      <th>dataset 2</th>\n",
       "    </tr>\n",
       "  </thead>\n",
       "  <tbody>\n",
       "    <tr>\n",
       "      <th>0</th>\n",
       "      <td>1 Jan 2003</td>\n",
       "      <td>3.0</td>\n",
       "      <td>NaN</td>\n",
       "    </tr>\n",
       "    <tr>\n",
       "      <th>1</th>\n",
       "      <td>1 Feb 2003</td>\n",
       "      <td>2.0</td>\n",
       "      <td>NaN</td>\n",
       "    </tr>\n",
       "    <tr>\n",
       "      <th>2</th>\n",
       "      <td>1 Mar 2003</td>\n",
       "      <td>3986.0</td>\n",
       "      <td>NaN</td>\n",
       "    </tr>\n",
       "    <tr>\n",
       "      <th>3</th>\n",
       "      <td>1 Apr 2003</td>\n",
       "      <td>3448.0</td>\n",
       "      <td>NaN</td>\n",
       "    </tr>\n",
       "    <tr>\n",
       "      <th>4</th>\n",
       "      <td>1 May 2003</td>\n",
       "      <td>545.0</td>\n",
       "      <td>NaN</td>\n",
       "    </tr>\n",
       "    <tr>\n",
       "      <th>...</th>\n",
       "      <td>...</td>\n",
       "      <td>...</td>\n",
       "      <td>...</td>\n",
       "    </tr>\n",
       "    <tr>\n",
       "      <th>223</th>\n",
       "      <td>1 Aug 2021</td>\n",
       "      <td>NaN</td>\n",
       "      <td>50.0</td>\n",
       "    </tr>\n",
       "    <tr>\n",
       "      <th>224</th>\n",
       "      <td>1 Sep 2021</td>\n",
       "      <td>NaN</td>\n",
       "      <td>41.0</td>\n",
       "    </tr>\n",
       "    <tr>\n",
       "      <th>225</th>\n",
       "      <td>1 Oct 2021</td>\n",
       "      <td>NaN</td>\n",
       "      <td>65.0</td>\n",
       "    </tr>\n",
       "    <tr>\n",
       "      <th>226</th>\n",
       "      <td>1 Nov 2021</td>\n",
       "      <td>NaN</td>\n",
       "      <td>23.0</td>\n",
       "    </tr>\n",
       "    <tr>\n",
       "      <th>227</th>\n",
       "      <td>1 Dec 2021</td>\n",
       "      <td>NaN</td>\n",
       "      <td>NaN</td>\n",
       "    </tr>\n",
       "  </tbody>\n",
       "</table>\n",
       "<p>228 rows × 3 columns</p>\n",
       "</div>"
      ],
      "text/plain": [
       "           date  any_perpetrator_count  dataset 2\n",
       "0    1 Jan 2003                    3.0        NaN\n",
       "1    1 Feb 2003                    2.0        NaN\n",
       "2    1 Mar 2003                 3986.0        NaN\n",
       "3    1 Apr 2003                 3448.0        NaN\n",
       "4    1 May 2003                  545.0        NaN\n",
       "..          ...                    ...        ...\n",
       "223  1 Aug 2021                    NaN       50.0\n",
       "224  1 Sep 2021                    NaN       41.0\n",
       "225  1 Oct 2021                    NaN       65.0\n",
       "226  1 Nov 2021                    NaN       23.0\n",
       "227  1 Dec 2021                    NaN        NaN\n",
       "\n",
       "[228 rows x 3 columns]"
      ]
     },
     "metadata": {},
     "output_type": "display_data"
    }
   ],
   "metadata": {
    "colab": {
     "base_uri": "https://localhost:8080/"
    },
    "id": "QfErahpVIa33",
    "outputId": "0cfa4db5-ed6e-4555-e789-e5f79a71f730"
   }
  },
  {
   "cell_type": "code",
   "execution_count": null,
   "source": [
    "#check which row has no missing values \n",
    "\n",
    "print(iraq_df.dropna(how='any')) "
   ],
   "outputs": [
    {
     "output_type": "stream",
     "name": "stdout",
     "text": [
      "           date  any_perpetrator_count  dataset 2\n",
      "169  1 Feb 2017                  929.0      982.0\n"
     ]
    }
   ],
   "metadata": {
    "colab": {
     "base_uri": "https://localhost:8080/"
    },
    "id": "pA3gqKLpL-dX",
    "outputId": "5e471b0d-0a5e-4ea8-ea23-c19b6cc1101a"
   }
  },
  {
   "cell_type": "markdown",
   "source": [
    "The above result indicates what is specified in the data's website. Prior to Feb 2017 data was gathered from multiple databases. After this date, death counts are labeled as preliminary counts and are approximate totals.\n",
    "\n"
   ],
   "metadata": {
    "id": "E83aNnIfMj1I"
   }
  },
  {
   "cell_type": "markdown",
   "source": [
    "Next, we will filter this dataset to include only the years we want. That is years that match those included in the stock data 2003-2011. "
   ],
   "metadata": {
    "id": "aWB1p6FdvNCO"
   }
  },
  {
   "cell_type": "code",
   "execution_count": null,
   "source": [
    "#filter to years we only care about 2003-2011\n",
    "  # we keep these years to match those included in the stock data.\n",
    "print(iraq_df.dtypes)\n",
    "#first make column a datetime \n",
    "\n",
    "iraq_df['date'] = pd.to_datetime(iraq_df['date'])\n",
    "print(iraq_df)\n",
    "\n",
    "#filter for the years we want\n",
    "\n",
    "iraq_df = ( iraq_df[(iraq_df['date'] < '2012-01-01')])\n",
    "iraq_df\n"
   ],
   "outputs": [
    {
     "output_type": "stream",
     "name": "stdout",
     "text": [
      "date                      object\n",
      "any_perpetrator_count    float64\n",
      "dataset 2                float64\n",
      "dtype: object\n",
      "          date  any_perpetrator_count  dataset 2\n",
      "0   2003-01-01                    3.0        NaN\n",
      "1   2003-02-01                    2.0        NaN\n",
      "2   2003-03-01                 3986.0        NaN\n",
      "3   2003-04-01                 3448.0        NaN\n",
      "4   2003-05-01                  545.0        NaN\n",
      "..         ...                    ...        ...\n",
      "223 2021-08-01                    NaN       50.0\n",
      "224 2021-09-01                    NaN       41.0\n",
      "225 2021-10-01                    NaN       65.0\n",
      "226 2021-11-01                    NaN       23.0\n",
      "227 2021-12-01                    NaN        NaN\n",
      "\n",
      "[228 rows x 3 columns]\n"
     ]
    },
    {
     "data": {
      "text/html": [
       "<div>\n",
       "<style scoped>\n",
       "    .dataframe tbody tr th:only-of-type {\n",
       "        vertical-align: middle;\n",
       "    }\n",
       "\n",
       "    .dataframe tbody tr th {\n",
       "        vertical-align: top;\n",
       "    }\n",
       "\n",
       "    .dataframe thead th {\n",
       "        text-align: right;\n",
       "    }\n",
       "</style>\n",
       "<table border=\"1\" class=\"dataframe\">\n",
       "  <thead>\n",
       "    <tr style=\"text-align: right;\">\n",
       "      <th></th>\n",
       "      <th>date</th>\n",
       "      <th>any_perpetrator_count</th>\n",
       "      <th>dataset 2</th>\n",
       "    </tr>\n",
       "  </thead>\n",
       "  <tbody>\n",
       "    <tr>\n",
       "      <th>0</th>\n",
       "      <td>2003-01-01</td>\n",
       "      <td>3.0</td>\n",
       "      <td>NaN</td>\n",
       "    </tr>\n",
       "    <tr>\n",
       "      <th>1</th>\n",
       "      <td>2003-02-01</td>\n",
       "      <td>2.0</td>\n",
       "      <td>NaN</td>\n",
       "    </tr>\n",
       "    <tr>\n",
       "      <th>2</th>\n",
       "      <td>2003-03-01</td>\n",
       "      <td>3986.0</td>\n",
       "      <td>NaN</td>\n",
       "    </tr>\n",
       "    <tr>\n",
       "      <th>3</th>\n",
       "      <td>2003-04-01</td>\n",
       "      <td>3448.0</td>\n",
       "      <td>NaN</td>\n",
       "    </tr>\n",
       "    <tr>\n",
       "      <th>4</th>\n",
       "      <td>2003-05-01</td>\n",
       "      <td>545.0</td>\n",
       "      <td>NaN</td>\n",
       "    </tr>\n",
       "    <tr>\n",
       "      <th>...</th>\n",
       "      <td>...</td>\n",
       "      <td>...</td>\n",
       "      <td>...</td>\n",
       "    </tr>\n",
       "    <tr>\n",
       "      <th>103</th>\n",
       "      <td>2011-08-01</td>\n",
       "      <td>401.0</td>\n",
       "      <td>NaN</td>\n",
       "    </tr>\n",
       "    <tr>\n",
       "      <th>104</th>\n",
       "      <td>2011-09-01</td>\n",
       "      <td>397.0</td>\n",
       "      <td>NaN</td>\n",
       "    </tr>\n",
       "    <tr>\n",
       "      <th>105</th>\n",
       "      <td>2011-10-01</td>\n",
       "      <td>366.0</td>\n",
       "      <td>NaN</td>\n",
       "    </tr>\n",
       "    <tr>\n",
       "      <th>106</th>\n",
       "      <td>2011-11-01</td>\n",
       "      <td>288.0</td>\n",
       "      <td>NaN</td>\n",
       "    </tr>\n",
       "    <tr>\n",
       "      <th>107</th>\n",
       "      <td>2011-12-01</td>\n",
       "      <td>392.0</td>\n",
       "      <td>NaN</td>\n",
       "    </tr>\n",
       "  </tbody>\n",
       "</table>\n",
       "<p>108 rows × 3 columns</p>\n",
       "</div>"
      ],
      "text/plain": [
       "          date  any_perpetrator_count  dataset 2\n",
       "0   2003-01-01                    3.0        NaN\n",
       "1   2003-02-01                    2.0        NaN\n",
       "2   2003-03-01                 3986.0        NaN\n",
       "3   2003-04-01                 3448.0        NaN\n",
       "4   2003-05-01                  545.0        NaN\n",
       "..         ...                    ...        ...\n",
       "103 2011-08-01                  401.0        NaN\n",
       "104 2011-09-01                  397.0        NaN\n",
       "105 2011-10-01                  366.0        NaN\n",
       "106 2011-11-01                  288.0        NaN\n",
       "107 2011-12-01                  392.0        NaN\n",
       "\n",
       "[108 rows x 3 columns]"
      ]
     },
     "metadata": {},
     "output_type": "display_data"
    }
   ],
   "metadata": {
    "colab": {
     "base_uri": "https://localhost:8080/"
    },
    "id": "djh1W3P0WLtL",
    "outputId": "e94dc931-9599-4632-d861-e99d0042b7ab"
   }
  },
  {
   "cell_type": "code",
   "execution_count": null,
   "source": [
    "#since counting method switched in 2017 (hence the two count columns) we can get rid of column 2\n",
    "  #column 2 is irrelevant prior to 2017\n",
    "\n",
    "iraq_df = iraq_df[['date', 'any_perpetrator_count']]\n",
    "iraq_df"
   ],
   "outputs": [
    {
     "data": {
      "text/html": [
       "<div>\n",
       "<style scoped>\n",
       "    .dataframe tbody tr th:only-of-type {\n",
       "        vertical-align: middle;\n",
       "    }\n",
       "\n",
       "    .dataframe tbody tr th {\n",
       "        vertical-align: top;\n",
       "    }\n",
       "\n",
       "    .dataframe thead th {\n",
       "        text-align: right;\n",
       "    }\n",
       "</style>\n",
       "<table border=\"1\" class=\"dataframe\">\n",
       "  <thead>\n",
       "    <tr style=\"text-align: right;\">\n",
       "      <th></th>\n",
       "      <th>date</th>\n",
       "      <th>any_perpetrator_count</th>\n",
       "    </tr>\n",
       "  </thead>\n",
       "  <tbody>\n",
       "    <tr>\n",
       "      <th>0</th>\n",
       "      <td>2003-01-01</td>\n",
       "      <td>3.0</td>\n",
       "    </tr>\n",
       "    <tr>\n",
       "      <th>1</th>\n",
       "      <td>2003-02-01</td>\n",
       "      <td>2.0</td>\n",
       "    </tr>\n",
       "    <tr>\n",
       "      <th>2</th>\n",
       "      <td>2003-03-01</td>\n",
       "      <td>3986.0</td>\n",
       "    </tr>\n",
       "    <tr>\n",
       "      <th>3</th>\n",
       "      <td>2003-04-01</td>\n",
       "      <td>3448.0</td>\n",
       "    </tr>\n",
       "    <tr>\n",
       "      <th>4</th>\n",
       "      <td>2003-05-01</td>\n",
       "      <td>545.0</td>\n",
       "    </tr>\n",
       "    <tr>\n",
       "      <th>...</th>\n",
       "      <td>...</td>\n",
       "      <td>...</td>\n",
       "    </tr>\n",
       "    <tr>\n",
       "      <th>103</th>\n",
       "      <td>2011-08-01</td>\n",
       "      <td>401.0</td>\n",
       "    </tr>\n",
       "    <tr>\n",
       "      <th>104</th>\n",
       "      <td>2011-09-01</td>\n",
       "      <td>397.0</td>\n",
       "    </tr>\n",
       "    <tr>\n",
       "      <th>105</th>\n",
       "      <td>2011-10-01</td>\n",
       "      <td>366.0</td>\n",
       "    </tr>\n",
       "    <tr>\n",
       "      <th>106</th>\n",
       "      <td>2011-11-01</td>\n",
       "      <td>288.0</td>\n",
       "    </tr>\n",
       "    <tr>\n",
       "      <th>107</th>\n",
       "      <td>2011-12-01</td>\n",
       "      <td>392.0</td>\n",
       "    </tr>\n",
       "  </tbody>\n",
       "</table>\n",
       "<p>108 rows × 2 columns</p>\n",
       "</div>"
      ],
      "text/plain": [
       "          date  any_perpetrator_count\n",
       "0   2003-01-01                    3.0\n",
       "1   2003-02-01                    2.0\n",
       "2   2003-03-01                 3986.0\n",
       "3   2003-04-01                 3448.0\n",
       "4   2003-05-01                  545.0\n",
       "..         ...                    ...\n",
       "103 2011-08-01                  401.0\n",
       "104 2011-09-01                  397.0\n",
       "105 2011-10-01                  366.0\n",
       "106 2011-11-01                  288.0\n",
       "107 2011-12-01                  392.0\n",
       "\n",
       "[108 rows x 2 columns]"
      ]
     },
     "metadata": {},
     "output_type": "display_data"
    }
   ],
   "metadata": {
    "colab": {
     "base_uri": "https://localhost:8080/"
    },
    "id": "GrTUIupxVzmH",
    "outputId": "3cb9b699-ae29-4076-ecbe-1a62f9fb9ac7"
   }
  },
  {
   "cell_type": "markdown",
   "source": [
    "Lets get data format to match that of the stock data"
   ],
   "metadata": {
    "id": "wAjIE1lyv4W9"
   }
  },
  {
   "cell_type": "code",
   "execution_count": null,
   "source": [
    "#If we want to format the date like the stock one \n",
    "print(iraq_df[\"date\"].apply(format_time))\n",
    "\n",
    "print(iraq_df[\"date\"].apply(getYear))\n",
    "print(iraq_df[\"date\"].apply(getMonth))"
   ],
   "outputs": [
    {
     "output_type": "stream",
     "name": "stdout",
     "text": [
      "0        January 2003\n",
      "1       February 2003\n",
      "2          March 2003\n",
      "3          April 2003\n",
      "4            May 2003\n",
      "            ...      \n",
      "103       August 2011\n",
      "104    September 2011\n",
      "105      October 2011\n",
      "106     November 2011\n",
      "107     December 2011\n",
      "Name: date, Length: 108, dtype: object\n",
      "0      2003\n",
      "1      2003\n",
      "2      2003\n",
      "3      2003\n",
      "4      2003\n",
      "       ... \n",
      "103    2011\n",
      "104    2011\n",
      "105    2011\n",
      "106    2011\n",
      "107    2011\n",
      "Name: date, Length: 108, dtype: int64\n",
      "0        January\n",
      "1       February\n",
      "2          March\n",
      "3          April\n",
      "4            May\n",
      "         ...    \n",
      "103       August\n",
      "104    September\n",
      "105      October\n",
      "106     November\n",
      "107     December\n",
      "Name: date, Length: 108, dtype: object\n"
     ]
    }
   ],
   "metadata": {
    "colab": {
     "base_uri": "https://localhost:8080/"
    },
    "id": "qga61ZM-YP7s",
    "outputId": "6f8c0ac0-638b-467d-e845-455547d6a6a7"
   }
  },
  {
   "cell_type": "code",
   "execution_count": null,
   "source": [
    "# create separate year, month columns to match the stock data\n",
    "\n",
    "print(iraq_df.dtypes)\n",
    "iraq_df['month'] = iraq_df[\"date\"].apply(getMonth)\n",
    "iraq_df['year'] = iraq_df[\"date\"].apply(getYear)\n",
    "\n",
    "iraq_df.head()"
   ],
   "outputs": [
    {
     "output_type": "stream",
     "name": "stdout",
     "text": [
      "date                     datetime64[ns]\n",
      "any_perpetrator_count           float64\n",
      "dtype: object\n"
     ]
    },
    {
     "data": {
      "text/html": [
       "<div>\n",
       "<style scoped>\n",
       "    .dataframe tbody tr th:only-of-type {\n",
       "        vertical-align: middle;\n",
       "    }\n",
       "\n",
       "    .dataframe tbody tr th {\n",
       "        vertical-align: top;\n",
       "    }\n",
       "\n",
       "    .dataframe thead th {\n",
       "        text-align: right;\n",
       "    }\n",
       "</style>\n",
       "<table border=\"1\" class=\"dataframe\">\n",
       "  <thead>\n",
       "    <tr style=\"text-align: right;\">\n",
       "      <th></th>\n",
       "      <th>date</th>\n",
       "      <th>any_perpetrator_count</th>\n",
       "      <th>month</th>\n",
       "      <th>year</th>\n",
       "    </tr>\n",
       "  </thead>\n",
       "  <tbody>\n",
       "    <tr>\n",
       "      <th>0</th>\n",
       "      <td>2003-01-01</td>\n",
       "      <td>3.0</td>\n",
       "      <td>January</td>\n",
       "      <td>2003</td>\n",
       "    </tr>\n",
       "    <tr>\n",
       "      <th>1</th>\n",
       "      <td>2003-02-01</td>\n",
       "      <td>2.0</td>\n",
       "      <td>February</td>\n",
       "      <td>2003</td>\n",
       "    </tr>\n",
       "    <tr>\n",
       "      <th>2</th>\n",
       "      <td>2003-03-01</td>\n",
       "      <td>3986.0</td>\n",
       "      <td>March</td>\n",
       "      <td>2003</td>\n",
       "    </tr>\n",
       "    <tr>\n",
       "      <th>3</th>\n",
       "      <td>2003-04-01</td>\n",
       "      <td>3448.0</td>\n",
       "      <td>April</td>\n",
       "      <td>2003</td>\n",
       "    </tr>\n",
       "    <tr>\n",
       "      <th>4</th>\n",
       "      <td>2003-05-01</td>\n",
       "      <td>545.0</td>\n",
       "      <td>May</td>\n",
       "      <td>2003</td>\n",
       "    </tr>\n",
       "  </tbody>\n",
       "</table>\n",
       "</div>"
      ],
      "text/plain": [
       "        date  any_perpetrator_count     month  year\n",
       "0 2003-01-01                    3.0   January  2003\n",
       "1 2003-02-01                    2.0  February  2003\n",
       "2 2003-03-01                 3986.0     March  2003\n",
       "3 2003-04-01                 3448.0     April  2003\n",
       "4 2003-05-01                  545.0       May  2003"
      ]
     },
     "metadata": {},
     "output_type": "display_data"
    }
   ],
   "metadata": {
    "colab": {
     "base_uri": "https://localhost:8080/"
    },
    "id": "lnp7jJKhLBIB",
    "outputId": "fc1a5bb8-93a5-40e1-cc89-92ecb71a9eba"
   }
  },
  {
   "cell_type": "code",
   "execution_count": null,
   "source": [
    "#drop date column because of redunancy \n",
    "#create new dataframe because the time series analysis will benefit from having a date column with month and year joined.\n",
    "death_dates = iraq_df[['date','any_perpetrator_count']].set_index(['date']) #new dataframe\n",
    "\n",
    "iraq_df = iraq_df[['year','month','any_perpetrator_count']] #dataframe with columns matching stock data\n",
    "iraq_df\n",
    "  "
   ],
   "outputs": [
    {
     "data": {
      "text/html": [
       "<div>\n",
       "<style scoped>\n",
       "    .dataframe tbody tr th:only-of-type {\n",
       "        vertical-align: middle;\n",
       "    }\n",
       "\n",
       "    .dataframe tbody tr th {\n",
       "        vertical-align: top;\n",
       "    }\n",
       "\n",
       "    .dataframe thead th {\n",
       "        text-align: right;\n",
       "    }\n",
       "</style>\n",
       "<table border=\"1\" class=\"dataframe\">\n",
       "  <thead>\n",
       "    <tr style=\"text-align: right;\">\n",
       "      <th></th>\n",
       "      <th>year</th>\n",
       "      <th>month</th>\n",
       "      <th>any_perpetrator_count</th>\n",
       "    </tr>\n",
       "  </thead>\n",
       "  <tbody>\n",
       "    <tr>\n",
       "      <th>0</th>\n",
       "      <td>2003</td>\n",
       "      <td>January</td>\n",
       "      <td>3.0</td>\n",
       "    </tr>\n",
       "    <tr>\n",
       "      <th>1</th>\n",
       "      <td>2003</td>\n",
       "      <td>February</td>\n",
       "      <td>2.0</td>\n",
       "    </tr>\n",
       "    <tr>\n",
       "      <th>2</th>\n",
       "      <td>2003</td>\n",
       "      <td>March</td>\n",
       "      <td>3986.0</td>\n",
       "    </tr>\n",
       "    <tr>\n",
       "      <th>3</th>\n",
       "      <td>2003</td>\n",
       "      <td>April</td>\n",
       "      <td>3448.0</td>\n",
       "    </tr>\n",
       "    <tr>\n",
       "      <th>4</th>\n",
       "      <td>2003</td>\n",
       "      <td>May</td>\n",
       "      <td>545.0</td>\n",
       "    </tr>\n",
       "    <tr>\n",
       "      <th>...</th>\n",
       "      <td>...</td>\n",
       "      <td>...</td>\n",
       "      <td>...</td>\n",
       "    </tr>\n",
       "    <tr>\n",
       "      <th>103</th>\n",
       "      <td>2011</td>\n",
       "      <td>August</td>\n",
       "      <td>401.0</td>\n",
       "    </tr>\n",
       "    <tr>\n",
       "      <th>104</th>\n",
       "      <td>2011</td>\n",
       "      <td>September</td>\n",
       "      <td>397.0</td>\n",
       "    </tr>\n",
       "    <tr>\n",
       "      <th>105</th>\n",
       "      <td>2011</td>\n",
       "      <td>October</td>\n",
       "      <td>366.0</td>\n",
       "    </tr>\n",
       "    <tr>\n",
       "      <th>106</th>\n",
       "      <td>2011</td>\n",
       "      <td>November</td>\n",
       "      <td>288.0</td>\n",
       "    </tr>\n",
       "    <tr>\n",
       "      <th>107</th>\n",
       "      <td>2011</td>\n",
       "      <td>December</td>\n",
       "      <td>392.0</td>\n",
       "    </tr>\n",
       "  </tbody>\n",
       "</table>\n",
       "<p>108 rows × 3 columns</p>\n",
       "</div>"
      ],
      "text/plain": [
       "     year      month  any_perpetrator_count\n",
       "0    2003    January                    3.0\n",
       "1    2003   February                    2.0\n",
       "2    2003      March                 3986.0\n",
       "3    2003      April                 3448.0\n",
       "4    2003        May                  545.0\n",
       "..    ...        ...                    ...\n",
       "103  2011     August                  401.0\n",
       "104  2011  September                  397.0\n",
       "105  2011    October                  366.0\n",
       "106  2011   November                  288.0\n",
       "107  2011   December                  392.0\n",
       "\n",
       "[108 rows x 3 columns]"
      ]
     },
     "metadata": {},
     "output_type": "display_data"
    }
   ],
   "metadata": {
    "colab": {
     "base_uri": "https://localhost:8080/"
    },
    "id": "DMbQyzEwLTe_",
    "outputId": "42380d84-db5b-412e-e010-1642281ec817"
   }
  },
  {
   "cell_type": "markdown",
   "source": [
    "# Data Analysis"
   ],
   "metadata": {
    "id": "7jgL582VHUte"
   }
  },
  {
   "cell_type": "markdown",
   "source": [
    "### Stock Data"
   ],
   "metadata": {
    "id": "pe1DAnZ_APml"
   }
  },
  {
   "cell_type": "markdown",
   "source": [
    "We will first start by visually inspecting stock data. Specifically the percent change of the stock and the SP500 (standard metric to compare stock performance)."
   ],
   "metadata": {
    "id": "Lfys43OSwVaw"
   }
  },
  {
   "cell_type": "code",
   "execution_count": null,
   "source": [
    "# plot a histogram of the difference between the percentage change of the stock and the SP500 percentage change\n",
    "CVX[\"pct_vs_SP\"] = CVX[\"percentage_change\"] - SP[\"percentage_change\"]\n",
    "sns.histplot(CVX[\"pct_vs_SP\"], color= \"blue\").set_title(\"Fig. 1. Difference between Percentage Change of Stock and SP500\")\n",
    "RTX[\"pct_vs_SP\"] = RTX[\"percentage_change\"]- SP[\"percentage_change\"]\n",
    "sns.histplot(RTX[\"pct_vs_SP\"], color = 'red')\n",
    "HAL[\"pct_vs_SP\"] = HAL[\"percentage_change\"] - SP[\"percentage_change\"]\n",
    "sns.histplot(HAL[\"pct_vs_SP\"], color = \"yellow\")\n",
    "LMT[\"pct_vs_SP\"] = LMT[\"percentage_change\"] - SP['percentage_change']\n",
    "sns.histplot(LMT[\"pct_vs_SP\"], color= \"purple\")\n",
    "XOM[\"pct_vs_SP\"] = XOM[\"percentage_change\"] - SP[\"percentage_change\"]\n",
    "sns.histplot(XOM[\"pct_vs_SP\"], color= \"green\")\n",
    "BP[\"pct_vs_SP\"] = BP [\"percentage_change\"]- SP[\"percentage_change\"]\n",
    "sns.histplot(BP[\"pct_vs_SP\"], color = \"orange\")\n",
    "NOC[\"pct_vs_SP\"]= NOC[\"percentage_change\"]- SP[\"percentage_change\"]\n",
    "sns.histplot(NOC[\"pct_vs_SP\"], color = \"violet\")\n",
    "COP[\"pct_vs_SP\"] = COP[\"percentage_change\"] - SP['percentage_change']\n",
    "sns.histplot(COP[\"pct_vs_SP\"], color = \"brown\")"
   ],
   "outputs": [
    {
     "data": {
      "text/plain": [
       "<matplotlib.axes._subplots.AxesSubplot at 0x7f4b7458aa10>"
      ]
     },
     "metadata": {},
     "output_type": "display_data"
    },
    {
     "data": {
      "image/png": "[encoded data removed]",
      "text/plain": [
       "<Figure size 432x288 with 1 Axes>"
      ]
     },
     "metadata": {},
     "output_type": "display_data"
    }
   ],
   "metadata": {
    "id": "Bg2OgPBV27Sh",
    "colab": {
     "base_uri": "https://localhost:8080/",
     "height": 313
    },
    "outputId": "b27c8087-1535-41a1-d90d-7f81c0b7235f"
   }
  },
  {
   "cell_type": "markdown",
   "source": [
    "We wanted to create a histogram that showed us the distribution of percentage change of our stocks and SP500. However, after looking at Figure 1 it is not clear. Separate histograms are needed."
   ],
   "metadata": {
    "id": "UGPU6geJD-X9"
   }
  },
  {
   "cell_type": "code",
   "execution_count": null,
   "source": [
    "#same as above but with sub plots\n",
    "import matplotlib.pyplot as plt\n",
    "\n",
    "fig, axes = plt.subplots(2, 4, figsize = (18,10), sharey= True)\n",
    "fig.suptitle('Fig. 2. Percent Change Difference with S&P 500')\n",
    "\n",
    "#cvx\n",
    "sns.histplot(ax = axes[0,0], x = CVX['pct_vs_SP'], color ='blue')\n",
    "axes[0,0].set_title('CVX')\n",
    "\n",
    "#RTX\n",
    "sns.histplot(ax = axes[0,1], x=RTX[\"pct_vs_SP\"], color = 'red')\n",
    "axes[0,1].set_title('RTX')\n",
    "\n",
    "#HAL\n",
    "sns.histplot(ax = axes[0,2], x=HAL[\"pct_vs_SP\"], color = 'yellow')\n",
    "axes[0,2].set_title('HAL')\n",
    "\n",
    "#LMT\n",
    "sns.histplot(ax = axes[0,3], x=LMT[\"pct_vs_SP\"], color = 'green')\n",
    "axes[0,3].set_title('LMT')\n",
    "\n",
    "#XOM\n",
    "sns.histplot(ax = axes[1,0], x=XOM[\"pct_vs_SP\"], color = 'orange')\n",
    "axes[1,0].set_title('XOM')\n",
    "\n",
    "#BP\n",
    "sns.histplot(ax = axes[1,1], x=BP[\"pct_vs_SP\"], color = 'purple')\n",
    "axes[1,1].set_title('BP')\n",
    "\n",
    "#NOC\n",
    "sns.histplot(ax = axes[1,2], x=NOC[\"pct_vs_SP\"], color = 'violet')\n",
    "axes[1,2].set_title('NOC')\n",
    "\n",
    "#COP\n",
    "sns.histplot(ax = axes[1,3], x=COP[\"pct_vs_SP\"], color = 'brown')\n",
    "axes[1,3].set_title('COP')"
   ],
   "outputs": [
    {
     "data": {
      "text/plain": [
       "Text(0.5, 1.0, 'COP')"
      ]
     },
     "metadata": {},
     "output_type": "display_data"
    },
    {
     "data": {
      "image/png": "[encoded data removed]",
      "text/plain": [
       "<Figure size 1296x720 with 8 Axes>"
      ]
     },
     "metadata": {},
     "output_type": "display_data"
    }
   ],
   "metadata": {
    "colab": {
     "base_uri": "https://localhost:8080/",
     "height": 695
    },
    "id": "-QJpi-rc6vB2",
    "outputId": "c48c43f0-eae3-4d51-f897-d1151d3c76c6"
   }
  },
  {
   "cell_type": "markdown",
   "source": [
    "Figure 2 allows us to see that most of the stock data percentage change is not skewed. It is relatively normally distributed which is suprising taking into considertion that our hypothesis predicts that changes of death in Iraq's war will be reflected in U.S. stocks. "
   ],
   "metadata": {
    "id": "XV2EaKOvEsjG"
   }
  },
  {
   "cell_type": "code",
   "execution_count": null,
   "source": [
    "# create a boxplot for each stock's percent change difference with S&P 500 to have a better look at how many outliers each stock has.\n",
    "fig, axes = plt.subplots(2, 4, figsize = (18,10), sharey= True)\n",
    "fig.suptitle(\"Fig. 3. Stock's Percent Change Difference with S&P 500 outliers\")\n",
    "\n",
    "ax = sns.boxplot ( ax = axes[0,0], x = CVX[\"pct_vs_SP\"] ,  data = CVX, color ='blue')\n",
    "ax.set_title('CVX')\n",
    "\n",
    "\n",
    "ax = sns.boxplot (ax = axes[0,1], x = RTX[\"pct_vs_SP\"] ,  data = RTX, color = 'red')\n",
    "ax.set_title('RTX')\n",
    "\n",
    "ax = sns.boxplot (ax = axes[0,2], x = HAL[\"pct_vs_SP\"] ,  data = HAL, color = 'yellow')\n",
    "ax.set_title('HAL')\n",
    "\n",
    "ax = sns.boxplot (ax = axes[0,3], x = LMT[\"pct_vs_SP\"] ,  data = LMT, color = 'green')\n",
    "ax.set_title('LMT')\n",
    "\n",
    "ax = sns.boxplot (ax = axes[1,0], x = XOM[\"pct_vs_SP\"] ,  data = XOM, color = 'orange')\n",
    "ax.set_title('XOM')\n",
    "\n",
    "ax = sns.boxplot (ax = axes[1,1], x = BP[\"pct_vs_SP\"] ,  data = BP, color = 'purple')\n",
    "ax.set_title('BP')\n",
    "\n",
    "ax = sns.boxplot (ax = axes[1,2], x = NOC[\"pct_vs_SP\"] ,  data = NOC, color = 'violet')\n",
    "ax.set_title('NOC')\n",
    "\n",
    "ax = sns.boxplot (ax = axes[1,3], x = COP[\"pct_vs_SP\"] ,  data = COP, color = 'brown')\n",
    "ax.set_title('COP')\n",
    "\n",
    "\n"
   ],
   "outputs": [
    {
     "data": {
      "text/plain": [
       "Text(0.5, 1.0, 'COP')"
      ]
     },
     "metadata": {},
     "output_type": "display_data"
    },
    {
     "data": {
      "image/png": "[encoded data removed]",
      "text/plain": [
       "<Figure size 1296x720 with 8 Axes>"
      ]
     },
     "metadata": {},
     "output_type": "display_data"
    }
   ],
   "metadata": {
    "colab": {
     "base_uri": "https://localhost:8080/",
     "height": 695
    },
    "id": "QxxtjsFgQ3RD",
    "outputId": "0302c78b-9631-42c9-9085-f3c8478c5959"
   }
  },
  {
   "cell_type": "markdown",
   "source": [
    "After looking at figure 3 it is clear that defense and energy stocks slightly, but consistently, outperform the SP500 during the iraq war time period. This is observed because the median is always greater than 0."
   ],
   "metadata": {
    "id": "Pvlm03SmrreK"
   }
  },
  {
   "cell_type": "markdown",
   "source": [
    "In order to analyze and compare to the iraq dataset more easily, we will reduce the 8 dataframes to instead have one average for defense stocks and one for energy stocks. Furthermore, when comparing the Iraq and stocks datasets we will use the same dataframe, `df`, so we will include the reduced datasets here."
   ],
   "metadata": {
    "id": "MMRAd6P7BUql"
   }
  },
  {
   "cell_type": "code",
   "execution_count": null,
   "source": [
    "df = CVX[[\"year\", \"month\", \"Date\"]]\n",
    "df[\"energy_pct_vs_SP\"] = pd.DataFrame([(CVX[\"pct_vs_SP\"] + HAL[\"pct_vs_SP\"] + XOM[\"pct_vs_SP\"] + COP[\"pct_vs_SP\"]) / 4 ]).transpose()\n",
    "df[\"defense_pct_vs_SP\"] = pd.DataFrame([(RTX[\"pct_vs_SP\"] + LMT[\"pct_vs_SP\"] + NOC[\"pct_vs_SP\"]) / 3]).transpose()\n",
    "df"
   ],
   "outputs": [
    {
     "output_type": "stream",
     "name": "stderr",
     "text": [
      "/usr/local/lib/python3.7/dist-packages/ipykernel_launcher.py:2: SettingWithCopyWarning: \n",
      "A value is trying to be set on a copy of a slice from a DataFrame.\n",
      "Try using .loc[row_indexer,col_indexer] = value instead\n",
      "\n",
      "See the caveats in the documentation: https://pandas.pydata.org/pandas-docs/stable/user_guide/indexing.html#returning-a-view-versus-a-copy\n",
      "  \n",
      "/usr/local/lib/python3.7/dist-packages/ipykernel_launcher.py:3: SettingWithCopyWarning: \n",
      "A value is trying to be set on a copy of a slice from a DataFrame.\n",
      "Try using .loc[row_indexer,col_indexer] = value instead\n",
      "\n",
      "See the caveats in the documentation: https://pandas.pydata.org/pandas-docs/stable/user_guide/indexing.html#returning-a-view-versus-a-copy\n",
      "  This is separate from the ipykernel package so we can avoid doing imports until\n"
     ]
    },
    {
     "data": {
      "text/html": [
       "<div>\n",
       "<style scoped>\n",
       "    .dataframe tbody tr th:only-of-type {\n",
       "        vertical-align: middle;\n",
       "    }\n",
       "\n",
       "    .dataframe tbody tr th {\n",
       "        vertical-align: top;\n",
       "    }\n",
       "\n",
       "    .dataframe thead th {\n",
       "        text-align: right;\n",
       "    }\n",
       "</style>\n",
       "<table border=\"1\" class=\"dataframe\">\n",
       "  <thead>\n",
       "    <tr style=\"text-align: right;\">\n",
       "      <th></th>\n",
       "      <th>year</th>\n",
       "      <th>month</th>\n",
       "      <th>Date</th>\n",
       "      <th>energy_pct_vs_SP</th>\n",
       "      <th>defense_pct_vs_SP</th>\n",
       "    </tr>\n",
       "  </thead>\n",
       "  <tbody>\n",
       "    <tr>\n",
       "      <th>0</th>\n",
       "      <td>2003</td>\n",
       "      <td>January</td>\n",
       "      <td>January 2003</td>\n",
       "      <td>0.000000</td>\n",
       "      <td>0.000000</td>\n",
       "    </tr>\n",
       "    <tr>\n",
       "      <th>1</th>\n",
       "      <td>2003</td>\n",
       "      <td>February</td>\n",
       "      <td>February 2003</td>\n",
       "      <td>6.667512</td>\n",
       "      <td>-0.383965</td>\n",
       "    </tr>\n",
       "    <tr>\n",
       "      <th>2</th>\n",
       "      <td>2003</td>\n",
       "      <td>March</td>\n",
       "      <td>March 2003</td>\n",
       "      <td>2.440907</td>\n",
       "      <td>-6.481382</td>\n",
       "    </tr>\n",
       "    <tr>\n",
       "      <th>3</th>\n",
       "      <td>2003</td>\n",
       "      <td>April</td>\n",
       "      <td>April 2003</td>\n",
       "      <td>-4.535668</td>\n",
       "      <td>-2.499038</td>\n",
       "    </tr>\n",
       "    <tr>\n",
       "      <th>4</th>\n",
       "      <td>2003</td>\n",
       "      <td>May</td>\n",
       "      <td>May 2003</td>\n",
       "      <td>-0.245966</td>\n",
       "      <td>0.032986</td>\n",
       "    </tr>\n",
       "    <tr>\n",
       "      <th>...</th>\n",
       "      <td>...</td>\n",
       "      <td>...</td>\n",
       "      <td>...</td>\n",
       "      <td>...</td>\n",
       "      <td>...</td>\n",
       "    </tr>\n",
       "    <tr>\n",
       "      <th>103</th>\n",
       "      <td>2011</td>\n",
       "      <td>August</td>\n",
       "      <td>August 2011</td>\n",
       "      <td>-1.894134</td>\n",
       "      <td>-5.342031</td>\n",
       "    </tr>\n",
       "    <tr>\n",
       "      <th>104</th>\n",
       "      <td>2011</td>\n",
       "      <td>September</td>\n",
       "      <td>September 2011</td>\n",
       "      <td>-4.010174</td>\n",
       "      <td>1.645355</td>\n",
       "    </tr>\n",
       "    <tr>\n",
       "      <th>105</th>\n",
       "      <td>2011</td>\n",
       "      <td>October</td>\n",
       "      <td>October 2011</td>\n",
       "      <td>-0.380108</td>\n",
       "      <td>0.229028</td>\n",
       "    </tr>\n",
       "    <tr>\n",
       "      <th>106</th>\n",
       "      <td>2011</td>\n",
       "      <td>November</td>\n",
       "      <td>November 2011</td>\n",
       "      <td>0.283188</td>\n",
       "      <td>0.679751</td>\n",
       "    </tr>\n",
       "    <tr>\n",
       "      <th>107</th>\n",
       "      <td>2011</td>\n",
       "      <td>December</td>\n",
       "      <td>December 2011</td>\n",
       "      <td>-0.777974</td>\n",
       "      <td>-0.784080</td>\n",
       "    </tr>\n",
       "  </tbody>\n",
       "</table>\n",
       "<p>108 rows × 5 columns</p>\n",
       "</div>"
      ],
      "text/plain": [
       "     year      month            Date  energy_pct_vs_SP  defense_pct_vs_SP\n",
       "0    2003    January    January 2003          0.000000           0.000000\n",
       "1    2003   February   February 2003          6.667512          -0.383965\n",
       "2    2003      March      March 2003          2.440907          -6.481382\n",
       "3    2003      April      April 2003         -4.535668          -2.499038\n",
       "4    2003        May        May 2003         -0.245966           0.032986\n",
       "..    ...        ...             ...               ...                ...\n",
       "103  2011     August     August 2011         -1.894134          -5.342031\n",
       "104  2011  September  September 2011         -4.010174           1.645355\n",
       "105  2011    October    October 2011         -0.380108           0.229028\n",
       "106  2011   November   November 2011          0.283188           0.679751\n",
       "107  2011   December   December 2011         -0.777974          -0.784080\n",
       "\n",
       "[108 rows x 5 columns]"
      ]
     },
     "metadata": {},
     "output_type": "display_data"
    }
   ],
   "metadata": {
    "colab": {
     "base_uri": "https://localhost:8080/",
     "height": 652
    },
    "id": "MEdOWEA1B0kg",
    "outputId": "ec167929-3a04-492f-9a65-7b27de6a1ec2"
   }
  },
  {
   "cell_type": "code",
   "execution_count": null,
   "source": [
    "#looking at energy stock over time\n",
    "plt.figure(figsize = (10,6))\n",
    "ax = sns.lineplot(data = df,\n",
    "             x = 'year',\n",
    "             y = 'energy_pct_vs_SP', color = \"green\")\n",
    "ax.set(ylabel = \"Stock compared to SP500\")\n",
    "plt.xticks(rotation = 45)\n",
    "plt.title(\"Fig. 4. Energy Stocks' Percentage Gain Compared to SP500\")\n",
    "plt.show()\n",
    "\n",
    "#looking at defense stock over time\n",
    "plt.figure(figsize = (10,6))\n",
    "ax = sns.lineplot(data = df,\n",
    "             x = 'year',\n",
    "             y = 'defense_pct_vs_SP', color = \"blue\")\n",
    "ax.set(ylabel = 'Stock gains compared to SP500')\n",
    "\n",
    "\n",
    "plt.xticks(rotation = 45)\n",
    "plt.title(\"Fig. 5. Defense Stocks' Percentage Gain Compared to SP500\")\n",
    "plt.show()\n",
    "\n",
    "\n",
    "\n"
   ],
   "outputs": [
    {
     "data": {
      "image/png": "[encoded data removed]",
      "text/plain": [
       "<Figure size 720x432 with 1 Axes>"
      ]
     },
     "metadata": {},
     "output_type": "display_data"
    },
    {
     "data": {
      "image/png": "[encoded data removed]",
      "text/plain": [
       "<Figure size 720x432 with 1 Axes>"
      ]
     },
     "metadata": {},
     "output_type": "display_data"
    }
   ],
   "metadata": {
    "colab": {
     "base_uri": "https://localhost:8080/",
     "height": 821
    },
    "id": "AwxNIfz_JdWz",
    "outputId": "0f5051e1-0d3c-43df-86fd-1f1fbb2b637a"
   }
  },
  {
   "cell_type": "markdown",
   "source": [
    "Figure 4 and 5 show that Energy stocks had a higher percentage gain compared to SP500 than defense stocks did. The trend in both graphs is not suprising since stocks change and tend to go up and down."
   ],
   "metadata": {
    "id": "P4TtXV8PC4v2"
   }
  },
  {
   "cell_type": "code",
   "execution_count": null,
   "source": [
    "fig, axes = plt.subplots(1, 2, figsize = (18,5), sharey= True)\n",
    "fig.suptitle('Fig. 3. Energy and Defense Percent Change Difference with S&P 500')\n",
    "sns.histplot(ax= axes[0], x=df[\"energy_pct_vs_SP\"], color = 'green')\n",
    "axes[0].set_title('Energy')\n",
    "\n",
    "sns.histplot(ax= axes[1], x=df[\"defense_pct_vs_SP\"], color = 'blue')\n",
    "axes[1].set_title('Defense')"
   ],
   "outputs": [
    {
     "data": {
      "text/plain": [
       "Text(0.5, 1.0, 'Defense')"
      ]
     },
     "metadata": {},
     "output_type": "display_data"
    },
    {
     "data": {
      "image/png": "[encoded data removed]",
      "text/plain": [
       "<Figure size 1296x360 with 2 Axes>"
      ]
     },
     "metadata": {},
     "output_type": "display_data"
    }
   ],
   "metadata": {
    "colab": {
     "base_uri": "https://localhost:8080/",
     "height": 388
    },
    "id": "X7_qFBuZKp1P",
    "outputId": "61d1dc5b-951f-459a-e09e-b968225774e1"
   }
  },
  {
   "cell_type": "markdown",
   "source": [
    "Figure 3 shows us that both energy and defense stocks outperformed S&P 500 throughout the Iraq War. The histograms do not have apparent skewness. This means the different measures of central tendency are not large which help us get a condensed representative value out of the data."
   ],
   "metadata": {
    "id": "VQk50UF5531j"
   }
  },
  {
   "cell_type": "code",
   "execution_count": null,
   "source": [
    "fig, axes = plt.subplots(1, 2, figsize = (18,5), sharey= True)\n",
    "fig.suptitle(\"Fig. 4. Energy and Defense Stocks Percent Change Difference with S&P 500 outliers\")\n",
    "\n",
    "ax = sns.boxplot ( ax = axes[0], x = df[\"energy_pct_vs_SP\"] ,  data = df, color ='green')\n",
    "ax.set_title('Energy')\n",
    "\n",
    "ax = sns.boxplot ( ax = axes[1], x = df[\"defense_pct_vs_SP\"] ,  data = df, color ='blue')\n",
    "ax.set_title('Defense')"
   ],
   "outputs": [
    {
     "data": {
      "text/plain": [
       "Text(0.5, 1.0, 'Defense')"
      ]
     },
     "metadata": {},
     "output_type": "display_data"
    },
    {
     "data": {
      "image/png": "[encoded data removed]",
      "text/plain": [
       "<Figure size 1296x360 with 2 Axes>"
      ]
     },
     "metadata": {},
     "output_type": "display_data"
    }
   ],
   "metadata": {
    "colab": {
     "base_uri": "https://localhost:8080/",
     "height": 388
    },
    "id": "m10y2u6PLfEo",
    "outputId": "917de5ec-b472-4b63-caca-a3aa58c2e3fd"
   }
  },
  {
   "cell_type": "markdown",
   "source": [
    "Figure 4 shows that energy stocks tend to outperform the SP500 throughout the iraq war. Similarly, defense stocks seem to outperform the SP500 throughout the war. This also shows the stock datasets are not as variable as the death count dataset."
   ],
   "metadata": {
    "id": "6qJTfab6L1hF"
   }
  },
  {
   "cell_type": "markdown",
   "source": [
    "### Iraq data"
   ],
   "metadata": {
    "id": "u7VcmMuFAI9c"
   }
  },
  {
   "cell_type": "markdown",
   "source": [
    "Now we will visually inspect the Iraq death count dataset. "
   ],
   "metadata": {
    "id": "_uzkd7mdxvnE"
   }
  },
  {
   "cell_type": "code",
   "execution_count": null,
   "source": [
    "#outliers for death count\n",
    "\n",
    "sns.histplot(data = iraq_df, \n",
    "             x = 'any_perpetrator_count').set_title('Fig. 6. Histogram of Iraqi Death Count')\n"
   ],
   "outputs": [
    {
     "data": {
      "text/plain": [
       "Text(0.5, 1.0, 'Fig. 6. Histogram of Iraqi Death Count')"
      ]
     },
     "metadata": {},
     "output_type": "display_data"
    },
    {
     "data": {
      "image/png": "[encoded data removed]",
      "text/plain": [
       "<Figure size 432x288 with 1 Axes>"
      ]
     },
     "metadata": {},
     "output_type": "display_data"
    }
   ],
   "metadata": {
    "colab": {
     "base_uri": "https://localhost:8080/",
     "height": 313
    },
    "id": "5ngdvNbRVoBz",
    "outputId": "eec9a939-c80f-4015-9e17-dff183fa03e1"
   }
  },
  {
   "cell_type": "markdown",
   "source": [
    "Figure 6 shows how the death count data is rightly skewed. This means that the mean is higher than the median and this causes major outliers. This shows us that this death count dataset is highly variable compared to the stock data. This is something to keep in mind when analyzing both datasets together."
   ],
   "metadata": {
    "id": "l8mr75yD3hDQ"
   }
  },
  {
   "cell_type": "code",
   "execution_count": null,
   "source": [
    "# create a boxplot of the death count dataset to have a better look at the outliers\n",
    "sns.boxplot (x = 'any_perpetrator_count', data = iraq_df).set_title('Fig. 7. Boxplot of Iraqi Death Count')"
   ],
   "outputs": [
    {
     "data": {
      "text/plain": [
       "Text(0.5, 1.0, 'Fig. 7. Boxplot of Iraqi Death Count')"
      ]
     },
     "metadata": {},
     "output_type": "display_data"
    },
    {
     "data": {
      "image/png": "[encoded data removed]",
      "text/plain": [
       "<Figure size 432x288 with 1 Axes>"
      ]
     },
     "metadata": {},
     "output_type": "display_data"
    }
   ],
   "metadata": {
    "colab": {
     "base_uri": "https://localhost:8080/",
     "height": 313
    },
    "id": "zL3R98b0iCem",
    "outputId": "a6ed4d77-6578-46f7-9978-bc9284b94cc1"
   }
  },
  {
   "cell_type": "markdown",
   "source": [
    "Figures 6 and 7 show that the iraq death count is much more variable than stock price changes. "
   ],
   "metadata": {
    "id": "6tPoi79TtLNn"
   }
  },
  {
   "cell_type": "code",
   "execution_count": null,
   "source": [
    "#looking at death count over time\n",
    "plt.figure(figsize = (10,6))\n",
    "ax = sns.lineplot(data = iraq_df,\n",
    "             x = 'month',\n",
    "             y = 'any_perpetrator_count',\n",
    "             hue = 'year')\n",
    "ax.set(ylabel = 'Any Perpertrator Death Count')\n",
    "plt.legend(bbox_to_anchor=(1.05,1), loc='upper left')\n",
    "plt.xticks(rotation = 45)\n",
    "plt.title(\"Fig. 8. Civilan Death Count Per Month\")\n",
    "plt.show()"
   ],
   "outputs": [
    {
     "data": {
      "image/png": "[encoded data removed]",
      "text/plain": [
       "<Figure size 720x432 with 1 Axes>"
      ]
     },
     "metadata": {},
     "output_type": "display_data"
    }
   ],
   "metadata": {
    "colab": {
     "base_uri": "https://localhost:8080/",
     "height": 440
    },
    "id": "VR0mI_3dW--n",
    "outputId": "8b971a14-5909-43e0-cbe4-c91b66d4dfd1"
   }
  },
  {
   "cell_type": "markdown",
   "source": [
    "Figure 8 shows that some years had more civilian deaths than others but there is no evident month to month trend."
   ],
   "metadata": {
    "id": "SArRYlh_eM7D"
   }
  },
  {
   "cell_type": "code",
   "execution_count": null,
   "source": [
    "#looking at death count over time\n",
    "plt.figure(figsize = (10,6))\n",
    "ax = sns.lineplot(data = iraq_df,\n",
    "             x = 'year',\n",
    "             y = 'any_perpetrator_count',)\n",
    "ax.set(ylabel = 'Any Perpertrator Death Count')\n",
    "plt.xticks(rotation = 45)\n",
    "plt.title(\"Fig. 9. Civilan Death Count Per Year\")\n",
    "plt.show()"
   ],
   "outputs": [
    {
     "data": {
      "image/png": "[encoded data removed]",
      "text/plain": [
       "<Figure size 720x432 with 1 Axes>"
      ]
     },
     "metadata": {},
     "output_type": "display_data"
    }
   ],
   "metadata": {
    "colab": {
     "base_uri": "https://localhost:8080/",
     "height": 419
    },
    "id": "EVbw9Jy0P_FE",
    "outputId": "0814c421-5c76-418b-c470-9e0993cd84ee"
   }
  },
  {
   "cell_type": "markdown",
   "source": [
    "Figure 9 shows that when the data is only looked at by years and not months there is an evident trend. Civilian deaths exponetionally increased and peaked in 2006 and stayed there until 2007 before decreasing again. It would be easy to look at this trend and try to compare it to the stock data to see if there is a similiar trend but death is very volatile and stocks tend to go up."
   ],
   "metadata": {
    "id": "9LE29VyiBGcv"
   }
  },
  {
   "cell_type": "markdown",
   "source": [
    "*Since* the Iraq death count dataset is a time series, we will check for autocorrelation. Autocorrelation will tell us if the time series is correlated with lags, or observations at previous time steps."
   ],
   "metadata": {
    "id": "onO15IO0x4B6"
   }
  },
  {
   "cell_type": "code",
   "execution_count": null,
   "source": [
    "#check for autocorrelation\n",
    "from statsmodels.graphics.tsaplots import plot_acf\n",
    "plot_acf(death_dates)\n",
    "\n",
    "#pyplot.show()"
   ],
   "outputs": [
    {
     "data": {
      "image/png": "[encoded data removed]",
      "text/plain": [
       "<Figure size 432x288 with 1 Axes>"
      ]
     },
     "metadata": {},
     "output_type": "display_data"
    },
    {
     "data": {
      "image/png": "[encoded data removed]",
      "text/plain": [
       "<Figure size 432x288 with 1 Axes>"
      ]
     },
     "metadata": {},
     "output_type": "display_data"
    }
   ],
   "metadata": {
    "colab": {
     "base_uri": "https://localhost:8080/",
     "height": 545
    },
    "id": "vJ3s205cDarh",
    "outputId": "1970509d-c04c-41b4-af02-8c5a85fbfa09"
   }
  },
  {
   "cell_type": "markdown",
   "source": [
    "correlation values above cone (95% confidence interval) show that correlation \n",
    "at these lags is statistically significant. Due to there being a slow decay, this is likely an Autoregressive process not a moving average. Because Iraq deaths are autocorrelated, we will detrend the data."
   ],
   "metadata": {
    "id": "8wkD3F3PH2_N"
   }
  },
  {
   "cell_type": "code",
   "execution_count": null,
   "source": [
    "#since the death count dataframe is autocorrelated, we will detrend it \n",
    "#detrending is done here by percent difference \n",
    "\n",
    "death_dates['per_diff'] = death_dates['any_perpetrator_count'].pct_change()\n",
    "iraq_df['per_diff'] = iraq_df['any_perpetrator_count'].pct_change()\n",
    "iraq_df.at[0, 'per_diff'] = 0\n",
    "df[\"iraq_pct_diff\"] = iraq_df[\"per_diff\"]\n",
    "iraq_df"
   ],
   "outputs": [
    {
     "data": {
      "text/html": [
       "<div>\n",
       "<style scoped>\n",
       "    .dataframe tbody tr th:only-of-type {\n",
       "        vertical-align: middle;\n",
       "    }\n",
       "\n",
       "    .dataframe tbody tr th {\n",
       "        vertical-align: top;\n",
       "    }\n",
       "\n",
       "    .dataframe thead th {\n",
       "        text-align: right;\n",
       "    }\n",
       "</style>\n",
       "<table border=\"1\" class=\"dataframe\">\n",
       "  <thead>\n",
       "    <tr style=\"text-align: right;\">\n",
       "      <th></th>\n",
       "      <th>year</th>\n",
       "      <th>month</th>\n",
       "      <th>any_perpetrator_count</th>\n",
       "      <th>per_diff</th>\n",
       "    </tr>\n",
       "  </thead>\n",
       "  <tbody>\n",
       "    <tr>\n",
       "      <th>0</th>\n",
       "      <td>2003</td>\n",
       "      <td>January</td>\n",
       "      <td>3.0</td>\n",
       "      <td>0.000000</td>\n",
       "    </tr>\n",
       "    <tr>\n",
       "      <th>1</th>\n",
       "      <td>2003</td>\n",
       "      <td>February</td>\n",
       "      <td>2.0</td>\n",
       "      <td>-0.333333</td>\n",
       "    </tr>\n",
       "    <tr>\n",
       "      <th>2</th>\n",
       "      <td>2003</td>\n",
       "      <td>March</td>\n",
       "      <td>3986.0</td>\n",
       "      <td>1992.000000</td>\n",
       "    </tr>\n",
       "    <tr>\n",
       "      <th>3</th>\n",
       "      <td>2003</td>\n",
       "      <td>April</td>\n",
       "      <td>3448.0</td>\n",
       "      <td>-0.134972</td>\n",
       "    </tr>\n",
       "    <tr>\n",
       "      <th>4</th>\n",
       "      <td>2003</td>\n",
       "      <td>May</td>\n",
       "      <td>545.0</td>\n",
       "      <td>-0.841937</td>\n",
       "    </tr>\n",
       "    <tr>\n",
       "      <th>...</th>\n",
       "      <td>...</td>\n",
       "      <td>...</td>\n",
       "      <td>...</td>\n",
       "      <td>...</td>\n",
       "    </tr>\n",
       "    <tr>\n",
       "      <th>103</th>\n",
       "      <td>2011</td>\n",
       "      <td>August</td>\n",
       "      <td>401.0</td>\n",
       "      <td>0.301948</td>\n",
       "    </tr>\n",
       "    <tr>\n",
       "      <th>104</th>\n",
       "      <td>2011</td>\n",
       "      <td>September</td>\n",
       "      <td>397.0</td>\n",
       "      <td>-0.009975</td>\n",
       "    </tr>\n",
       "    <tr>\n",
       "      <th>105</th>\n",
       "      <td>2011</td>\n",
       "      <td>October</td>\n",
       "      <td>366.0</td>\n",
       "      <td>-0.078086</td>\n",
       "    </tr>\n",
       "    <tr>\n",
       "      <th>106</th>\n",
       "      <td>2011</td>\n",
       "      <td>November</td>\n",
       "      <td>288.0</td>\n",
       "      <td>-0.213115</td>\n",
       "    </tr>\n",
       "    <tr>\n",
       "      <th>107</th>\n",
       "      <td>2011</td>\n",
       "      <td>December</td>\n",
       "      <td>392.0</td>\n",
       "      <td>0.361111</td>\n",
       "    </tr>\n",
       "  </tbody>\n",
       "</table>\n",
       "<p>108 rows × 4 columns</p>\n",
       "</div>"
      ],
      "text/plain": [
       "     year      month  any_perpetrator_count     per_diff\n",
       "0    2003    January                    3.0     0.000000\n",
       "1    2003   February                    2.0    -0.333333\n",
       "2    2003      March                 3986.0  1992.000000\n",
       "3    2003      April                 3448.0    -0.134972\n",
       "4    2003        May                  545.0    -0.841937\n",
       "..    ...        ...                    ...          ...\n",
       "103  2011     August                  401.0     0.301948\n",
       "104  2011  September                  397.0    -0.009975\n",
       "105  2011    October                  366.0    -0.078086\n",
       "106  2011   November                  288.0    -0.213115\n",
       "107  2011   December                  392.0     0.361111\n",
       "\n",
       "[108 rows x 4 columns]"
      ]
     },
     "metadata": {},
     "output_type": "display_data"
    }
   ],
   "metadata": {
    "colab": {
     "base_uri": "https://localhost:8080/",
     "height": 424
    },
    "id": "mRAH12vCydMt",
    "outputId": "04478d25-4494-4dde-cc06-c1d00e6b82f8"
   }
  },
  {
   "cell_type": "code",
   "execution_count": null,
   "source": [
    "df[\"iraq_pct_diff\"].describe()"
   ],
   "outputs": [
    {
     "data": {
      "text/plain": [
       "count     108.000000\n",
       "mean       18.465284\n",
       "std       191.678483\n",
       "min        -0.841937\n",
       "25%        -0.135332\n",
       "50%         0.015440\n",
       "75%         0.218053\n",
       "max      1992.000000\n",
       "Name: iraq_pct_diff, dtype: float64"
      ]
     },
     "metadata": {},
     "output_type": "display_data"
    }
   ],
   "metadata": {
    "colab": {
     "base_uri": "https://localhost:8080/"
    },
    "id": "UhxwqyB_sj9U",
    "outputId": "4a96aee4-cf5d-49b1-aa24-ab6597dc2845"
   }
  },
  {
   "cell_type": "code",
   "execution_count": null,
   "source": [
    "print(df[\"energy_pct_vs_SP\"].describe())\n",
    "print(df[\"defense_pct_vs_SP\"].describe())"
   ],
   "outputs": [
    {
     "output_type": "stream",
     "name": "stdout",
     "text": [
      "count    108.000000\n",
      "mean       0.847365\n",
      "std        3.685836\n",
      "min      -10.097018\n",
      "25%       -1.445654\n",
      "50%        0.888532\n",
      "75%        3.646039\n",
      "max        9.557102\n",
      "Name: energy_pct_vs_SP, dtype: float64\n",
      "count    108.000000\n",
      "mean       0.226305\n",
      "std        2.669130\n",
      "min       -7.124481\n",
      "25%       -1.272686\n",
      "50%        0.260127\n",
      "75%        1.982748\n",
      "max        8.653429\n",
      "Name: defense_pct_vs_SP, dtype: float64\n"
     ]
    }
   ],
   "metadata": {
    "colab": {
     "base_uri": "https://localhost:8080/"
    },
    "id": "B8kGfEDetBk7",
    "outputId": "f0fa25c0-bc7e-45a7-def6-f4a9a3e5de7e"
   }
  },
  {
   "cell_type": "code",
   "execution_count": null,
   "source": [
    "#graph percent change \n",
    "sns.histplot(x = df['iraq_pct_diff'],bins=5).set_title('Fig. 11. Histogram of Iraq percent change')\n",
    "\n"
   ],
   "outputs": [
    {
     "data": {
      "text/plain": [
       "Text(0.5, 1.0, 'Fig. 11. Histogram of Iraq percent change')"
      ]
     },
     "metadata": {},
     "output_type": "display_data"
    },
    {
     "data": {
      "image/png": "[encoded data removed]",
      "text/plain": [
       "<Figure size 432x288 with 1 Axes>"
      ]
     },
     "metadata": {},
     "output_type": "display_data"
    }
   ],
   "metadata": {
    "colab": {
     "base_uri": "https://localhost:8080/",
     "height": 313
    },
    "id": "Qq1QLiwZzDgL",
    "outputId": "55267516-9a1b-4885-b48b-19eaf400ffff"
   }
  },
  {
   "cell_type": "markdown",
   "source": [
    "Figure 11 indicates that the Iraqi data is strongly positively skewed, whereas the stock data is not as skewed. While the stock's percentage growth mean is within 15% of its median, the Iraqi death dataset's mean is 103 greater than its median."
   ],
   "metadata": {
    "id": "nOugg_Ie85eB"
   }
  },
  {
   "cell_type": "code",
   "execution_count": null,
   "source": [
    "# The example below shows a rolling calculation with a window size of 12\n",
    "df1 = df[\"energy_pct_vs_SP\"]\n",
    "df2 = iraq_df['any_perpetrator_count']\n",
    "# numpy returns a 2X2 array, the correlation coefficient is the number at entry [0][1]\n",
    "print(f\"{np.corrcoef(df1[:-1], df2[:-1])[0][1]:.6f}\")\n",
    "print(f\"{np.corrcoef(df1[1:], df2[1:])[0][1]:.6f}\")\n",
    "df1.rolling(12).corr(df2)\n"
   ],
   "outputs": [
    {
     "output_type": "stream",
     "name": "stdout",
     "text": [
      "0.020125\n",
      "0.020845\n"
     ]
    },
    {
     "data": {
      "text/plain": [
       "0           NaN\n",
       "1           NaN\n",
       "2           NaN\n",
       "3           NaN\n",
       "4           NaN\n",
       "         ...   \n",
       "103   -0.616072\n",
       "104   -0.757753\n",
       "105   -0.761745\n",
       "106   -0.741019\n",
       "107   -0.721996\n",
       "Length: 108, dtype: float64"
      ]
     },
     "metadata": {},
     "output_type": "display_data"
    }
   ],
   "metadata": {
    "colab": {
     "base_uri": "https://localhost:8080/"
    },
    "id": "b108JeqXzOba",
    "outputId": "e3c74613-1110-4e80-f4e8-ba30b81b0867"
   }
  },
  {
   "cell_type": "code",
   "execution_count": null,
   "source": [
    "\n",
    "%matplotlib inline\n",
    "matplotlib.style.use('ggplot')\n",
    "\n",
    "plt.scatter(df1, df2)\n",
    "plt.title(\"Fig. 12. correlation between energy stock data and death count data\")\n",
    "plt.show()"
   ],
   "outputs": [
    {
     "data": {
      "image/png": "[encoded data removed]",
      "text/plain": [
       "<Figure size 432x288 with 1 Axes>"
      ]
     },
     "metadata": {},
     "output_type": "display_data"
    }
   ],
   "metadata": {
    "colab": {
     "base_uri": "https://localhost:8080/",
     "height": 282
    },
    "id": "CZrpmtft5bop",
    "outputId": "b7360b06-fd73-47eb-8ba1-a3f641db40d0"
   }
  },
  {
   "cell_type": "markdown",
   "source": [
    "Figure 12 plots the correlation between energy stock data and death count data after every 12 months. Each point on the scatterplot should represent the measurement between each dataset per year from 2003 - 2011. Looking at the dataset there is no apparent correlation."
   ],
   "metadata": {
    "id": "KZeJkowK_H2s"
   }
  },
  {
   "cell_type": "code",
   "execution_count": null,
   "source": [
    "# The example below shows a rolling calculation with a window size of 12\n",
    "df3 = df[\"defense_pct_vs_SP\"]\n",
    "df2 = iraq_df['any_perpetrator_count']\n",
    "# numpy returns a 2X2 array, the correlation coefficient is the number at entry [0][1]\n",
    "print(f\"{np.corrcoef(df3[:-1], df2[:-1])[0][1]:.6f}\")\n",
    "print(f\"{np.corrcoef(df3[1:], df2[1:])[0][1]:.6f}\")\n",
    "df3.rolling(12).corr(df2)\n",
    "\n"
   ],
   "outputs": [
    {
     "output_type": "stream",
     "name": "stdout",
     "text": [
      "-0.037226\n",
      "-0.035496\n"
     ]
    },
    {
     "data": {
      "text/plain": [
       "0           NaN\n",
       "1           NaN\n",
       "2           NaN\n",
       "3           NaN\n",
       "4           NaN\n",
       "         ...   \n",
       "103    0.216254\n",
       "104    0.173762\n",
       "105    0.173190\n",
       "106    0.133062\n",
       "107   -0.079395\n",
       "Length: 108, dtype: float64"
      ]
     },
     "metadata": {},
     "output_type": "display_data"
    }
   ],
   "metadata": {
    "colab": {
     "base_uri": "https://localhost:8080/"
    },
    "id": "BrAj7xoF63iH",
    "outputId": "38f7a7c1-ec05-4398-da09-9992523e7e9c"
   }
  },
  {
   "cell_type": "code",
   "execution_count": null,
   "source": [
    "plt.scatter(df3, df2)\n",
    "plt.title(\"Fig. 13. correlation between defense stock data and death count data\")\n",
    "plt.show()"
   ],
   "outputs": [
    {
     "data": {
      "image/png": "[encoded data removed]",
      "text/plain": [
       "<Figure size 432x288 with 1 Axes>"
      ]
     },
     "metadata": {},
     "output_type": "display_data"
    }
   ],
   "metadata": {
    "colab": {
     "base_uri": "https://localhost:8080/",
     "height": 282
    },
    "id": "YkiQnjIa7l70",
    "outputId": "ec7803c7-375f-4cfd-944b-cf50b1e3a05d"
   }
  },
  {
   "cell_type": "markdown",
   "source": [
    "Figure 13 plots the correlation between defense stock data and death count data after every 12 months. Each point on the scatterplot should represent the measurement between each dataset per year from 2003 - 2011. Looking at the dataset there is no apparent correlation."
   ],
   "metadata": {
    "id": "iU0jqL5_Aezs"
   }
  },
  {
   "cell_type": "markdown",
   "source": [
    "# Correlation"
   ],
   "metadata": {
    "id": "icRO2xOsGsOm"
   }
  },
  {
   "cell_type": "markdown",
   "source": [
    "Because we have de-trended our time series data, we can use pearson's r for\n",
    "correlation.\n",
    "\n"
   ],
   "metadata": {
    "id": "QepnljQFT8nN"
   }
  },
  {
   "cell_type": "code",
   "execution_count": null,
   "source": [
    "#Testing different ways to get meaningful correlation\n",
    "stats.pearsonr(df[\"energy_pct_vs_SP\"], df[\"iraq_pct_diff\"])"
   ],
   "outputs": [
    {
     "data": {
      "text/plain": [
       "(0.041746911508125706, 0.6679338369914174)"
      ]
     },
     "metadata": {},
     "output_type": "display_data"
    }
   ],
   "metadata": {
    "colab": {
     "base_uri": "https://localhost:8080/"
    },
    "id": "TKE43yyVMqqU",
    "outputId": "a3a39581-a62e-4a3d-97a5-651ca2712272"
   }
  },
  {
   "cell_type": "code",
   "execution_count": null,
   "source": [
    "stats.pearsonr(df[\"defense_pct_vs_SP\"], df[\"iraq_pct_diff\"])"
   ],
   "outputs": [
    {
     "data": {
      "text/plain": [
       "(-0.24412315437796822, 0.010892539670264776)"
      ]
     },
     "metadata": {},
     "output_type": "display_data"
    }
   ],
   "metadata": {
    "colab": {
     "base_uri": "https://localhost:8080/"
    },
    "id": "nCA2cOShHQT3",
    "outputId": "0b2e0e26-cc13-4123-f67a-04946b6135d7"
   }
  },
  {
   "cell_type": "markdown",
   "source": [
    "While the energy stock price is not correlated with iraq deaths, defense stock is–marginally–negatively correlated with iraq deaths."
   ],
   "metadata": {
    "id": "87kMV3MK-Z3w"
   }
  },
  {
   "cell_type": "code",
   "execution_count": null,
   "source": [
    "#Trying to fit a model to describe how iraq deaths predict changes in defense stock prices\n",
    "outcome, predictors = dmatrices('defense_pct_vs_SP ~ iraq_pct_diff', df)\n",
    "model = sm.OLS(outcome, predictors)\n",
    "results = model.fit()\n",
    "print(results.summary())\n"
   ],
   "outputs": [
    {
     "output_type": "stream",
     "name": "stdout",
     "text": [
      "                            OLS Regression Results                            \n",
      "==============================================================================\n",
      "Dep. Variable:      defense_pct_vs_SP   R-squared:                       0.060\n",
      "Model:                            OLS   Adj. R-squared:                  0.051\n",
      "Method:                 Least Squares   F-statistic:                     6.718\n",
      "Date:                Fri, 10 Dec 2021   Prob (F-statistic):             0.0109\n",
      "Time:                        05:14:53   Log-Likelihood:                -255.45\n",
      "No. Observations:                 108   AIC:                             514.9\n",
      "Df Residuals:                     106   BIC:                             520.3\n",
      "Df Model:                           1                                         \n",
      "Covariance Type:            nonrobust                                         \n",
      "=================================================================================\n",
      "                    coef    std err          t      P>|t|      [0.025      0.975]\n",
      "---------------------------------------------------------------------------------\n",
      "Intercept         0.2891      0.251      1.150      0.253      -0.209       0.788\n",
      "iraq_pct_diff    -0.0034      0.001     -2.592      0.011      -0.006      -0.001\n",
      "==============================================================================\n",
      "Omnibus:                        2.072   Durbin-Watson:                   1.697\n",
      "Prob(Omnibus):                  0.355   Jarque-Bera (JB):                1.700\n",
      "Skew:                          -0.036   Prob(JB):                        0.427\n",
      "Kurtosis:                       3.610   Cond. No.                         193.\n",
      "==============================================================================\n",
      "\n",
      "Warnings:\n",
      "[1] Standard Errors assume that the covariance matrix of the errors is correctly specified.\n"
     ]
    }
   ],
   "metadata": {
    "colab": {
     "base_uri": "https://localhost:8080/"
    },
    "id": "V21cmFqp79Lj",
    "outputId": "c870923f-b740-4705-dc32-aa827a802d1a"
   }
  },
  {
   "cell_type": "code",
   "execution_count": null,
   "source": [
    "# Plot the orginal data (as before)\n",
    "sns.scatterplot(x='iraq_pct_diff', y='defense_pct_vs_SP', alpha=0.3, data=df, s=100)\n",
    "\n",
    "# Generate and plot the model fit line\n",
    "xs = np.arange(df['iraq_pct_diff'].min(), df['iraq_pct_diff'].max())\n",
    "ys = -0.0034 * xs + 0.2891\n",
    "plt.plot(xs, ys, '--k', linewidth=4, label='Model')\n",
    "\n",
    "plt.xlabel('Iraq death percent change')\n",
    "plt.ylabel('Defense stock percent change compared to SP500')\n",
    "plt.legend();"
   ],
   "outputs": [
    {
     "data": {
      "image/png": "[encoded data removed]",
      "text/plain": [
       "<Figure size 432x288 with 1 Axes>"
      ]
     },
     "metadata": {},
     "output_type": "display_data"
    }
   ],
   "metadata": {
    "colab": {
     "base_uri": "https://localhost:8080/",
     "height": 335
    },
    "id": "12uhT8K2tDyn",
    "outputId": "c76f7e31-4dc6-4227-dfcd-07e85aef4534"
   }
  },
  {
   "cell_type": "markdown",
   "source": [
    "According to our model, a 1% increase in iraq deaths means a -0.0034% underperformance in defense stocks. Considering that the maximum monthly change in iraq deaths was a 1992% increase, even a relationship with a small magnitude can have observable effects. For example, that 1992% increase signified a 6.78% underperformance in stock price. This falls 3 standard deviations away from the mean of a monthly change of 0.23%."
   ],
   "metadata": {
    "id": "YPXUNRZu_HGF"
   }
  },
  {
   "cell_type": "code",
   "execution_count": null,
   "source": [
    "#iraq_pct_diff\n",
    "#defense_pct_vs_SP\n",
    "sns.regplot(x=\"iraq_pct_diff\", y=\"defense_pct_vs_SP\", data=df).set_title(\"Fig. 14. Regression plot showing confidence interval of relationship between variables\")"
   ],
   "outputs": [
    {
     "data": {
      "text/plain": [
       "Text(0.5, 1.0, 'Fig. 14. Regression plot showing confidence interval of relationship between variables')"
      ]
     },
     "metadata": {},
     "output_type": "display_data"
    },
    {
     "data": {
      "image/png": "[encoded data removed]",
      "text/plain": [
       "<Figure size 432x288 with 1 Axes>"
      ]
     },
     "metadata": {},
     "output_type": "display_data"
    }
   ],
   "metadata": {
    "colab": {
     "base_uri": "https://localhost:8080/",
     "height": 316
    },
    "id": "PJx5LXiJCril",
    "outputId": "3898b68d-a9c6-4707-ddd6-813263a12759"
   }
  },
  {
   "cell_type": "markdown",
   "source": [
    "The regression plot concurs with our model's findings. The model's findings fall within a 95% confidence interval because when Iraq's deaths grow, a defense stock underperformance starts falling within the confidence interval."
   ],
   "metadata": {
    "id": "tBq-E9SfUI_r"
   }
  },
  {
   "cell_type": "markdown",
   "source": [
    "Next we take a look at Dynamic Time Warping between the two pairs of time series. Dynamic Time Warping allows us to see if there is a similarity in the time series, despite there being a difference in speed of the patterns occurance. That is, we want to see if defense stocks follow the same pattern as the Iraq death count, and we use Dynamic Time Warping because these two time series may follow the same pattern at different speeds. "
   ],
   "metadata": {
    "id": "EvoIJmftHGvg"
   }
  },
  {
   "cell_type": "code",
   "execution_count": null,
   "source": [
    "# One way to calculate correlation. \n",
    "d1 = df['defense_pct_vs_SP'].interpolate().values\n",
    "d2 = df['iraq_pct_diff'].interpolate().values\n",
    "d, cost_matrix, acc_cost_matrix, path = accelerated_dtw(d1,d2, dist='euclidean')\n",
    "plt.imshow(acc_cost_matrix.T, origin='lower', cmap='Blues', interpolation='nearest')\n",
    "plt.plot(path[0], path[1], 'w')\n",
    "plt.xlabel('Stock')\n",
    "plt.ylabel('Deaths')\n",
    "plt.title(\"Fig. 15. Defense DTW Minimum Path\")\n",
    "plt.show()\n",
    "\n",
    "# One way to calculate correlation. \n",
    "d1 = df['energy_pct_vs_SP'].interpolate().values\n",
    "d2 = df['iraq_pct_diff'].interpolate().values\n",
    "d, cost_matrix, acc_cost_matrix, path = accelerated_dtw(d1,d2, dist='euclidean')\n",
    "plt.imshow(acc_cost_matrix.T, origin='lower', cmap='Greens', interpolation='nearest')\n",
    "plt.plot(path[0], path[1], 'w')\n",
    "plt.xlabel('Stock')\n",
    "plt.ylabel('Deaths')\n",
    "plt.title('Fig. 16. Energy DTW Minimum Path')\n",
    "plt.show()"
   ],
   "outputs": [
    {
     "data": {
      "image/png": "[encoded data removed]",
      "text/plain": [
       "<Figure size 432x288 with 1 Axes>"
      ]
     },
     "metadata": {},
     "output_type": "display_data"
    },
    {
     "data": {
      "image/png": "[encoded data removed]",
      "text/plain": [
       "<Figure size 432x288 with 1 Axes>"
      ]
     },
     "metadata": {},
     "output_type": "display_data"
    }
   ],
   "metadata": {
    "colab": {
     "base_uri": "https://localhost:8080/",
     "height": 581
    },
    "id": "cIvJ04HRZqJU",
    "outputId": "8ab7334f-dda4-40c3-cf08-fb91c680cd72"
   }
  },
  {
   "cell_type": "markdown",
   "source": [
    "Dynamic time warping is useful when analyzing time graphs where events might lag. If Iraq's deaths have a delayed impact in U.S. stocks, a DTW graph is able to detect it. While fig. 15 shows an almost linear behavior in distance between defense stock growth and iraq deaths (with the exception of the section of 50-60 in the x axis), fig. 16's plot has no describable behavior. This is in line with our previous finding that defense stocks are correlated with iraqi deaths, while energy stocks appear not to be correlated."
   ],
   "metadata": {
    "id": "D_V0XouuLvfc"
   }
  },
  {
   "cell_type": "code",
   "execution_count": null,
   "source": [
    "def crosscorr(datax, datay, lag=0, wrap=False):\n",
    "    \"\"\" Lag-N cross correlation. \n",
    "    Shifted data filled with NaNs \n",
    "    \n",
    "    Parameters\n",
    "    ----------\n",
    "    lag : int, default 0\n",
    "    datax, datay : pandas.Series objects of equal length\n",
    "    Returns\n",
    "    ----------\n",
    "    crosscorr : float\n",
    "    \"\"\"\n",
    "    if wrap:\n",
    "        shiftedy = datay.shift(lag)\n",
    "        shiftedy.iloc[:lag] = datay.iloc[-lag:].values\n",
    "        return datax.corr(shiftedy)\n",
    "    else: \n",
    "        return datax.corr(datay.shift(lag))\n",
    "\n",
    "d1 = df['iraq_pct_diff']\n",
    "d2 = df['defense_pct_vs_SP']\n",
    "seconds = 5\n",
    "fps = 30\n",
    "rs = [crosscorr(d1,d2, lag) for lag in range(-int(seconds*fps),int(seconds*fps+1))]\n",
    "offset = np.floor(len(rs)/2)-np.argmax(rs)\n",
    "f,ax=plt.subplots(figsize=(14,3))\n",
    "ax.plot(rs)\n",
    "ax.axvline(np.ceil(len(rs)/2),color='k',linestyle='--',label='Center')\n",
    "ax.axvline(np.argmax(rs),color='r',linestyle='--',label='Peak synchrony')\n",
    "ax.set(title=f'Offset = {offset} frames\\n Fig. 17. iraq_df vs defense stock',ylim=[.1,.31],xlim=[0,301], xlabel='Offset',ylabel='Pearson r')\n",
    "ax.set_xticks([0, 50, 100, 151, 201, 251, 301])\n",
    "ax.set_xticklabels([-150, -100, -50, 0, 50, 100, 150]);\n",
    "plt.legend()"
   ],
   "outputs": [
    {
     "output_type": "stream",
     "name": "stderr",
     "text": [
      "/usr/local/lib/python3.7/dist-packages/numpy/lib/function_base.py:2551: RuntimeWarning: Degrees of freedom <= 0 for slice\n",
      "  c = cov(x, y, rowvar)\n",
      "/usr/local/lib/python3.7/dist-packages/numpy/lib/function_base.py:2480: RuntimeWarning: divide by zero encountered in true_divide\n",
      "  c *= np.true_divide(1, fact)\n"
     ]
    },
    {
     "data": {
      "text/plain": [
       "<matplotlib.legend.Legend at 0x7f4b697a9950>"
      ]
     },
     "metadata": {},
     "output_type": "display_data"
    },
    {
     "data": {
      "image/png": "[encoded data removed]",
      "text/plain": [
       "<Figure size 1008x216 with 1 Axes>"
      ]
     },
     "metadata": {},
     "output_type": "display_data"
    }
   ],
   "metadata": {
    "colab": {
     "base_uri": "https://localhost:8080/",
     "height": 348
    },
    "id": "OrRhMw3c1XbM",
    "outputId": "4947bc34-fc80-4e59-aa11-bff0cca945a9"
   }
  },
  {
   "cell_type": "markdown",
   "source": [
    "Fig. 17 tries to show the directionality between both defense stock and death count datasets. It shows where the datasets are most synchronized and which is the leader that initiates the response and who is the follower repeating the response. This does not necesarily mean causation."
   ],
   "metadata": {
    "id": "8cKuSHOHGEbo"
   }
  },
  {
   "cell_type": "markdown",
   "source": [
    "# Ethics & Privacy"
   ],
   "metadata": {
    "id": "b2LtEPjM827T"
   }
  },
  {
   "cell_type": "markdown",
   "source": [
    "Using civilian death data can be complicated and lead to ethical problems arising. However, since the data is publicly available we can freely use it without having to ask for informed consent from the families of the individuals we are using the information of. Also, the data we extracted only reports the amount of civilian deaths per month/year. It does not report any names, sex, age or cause of death. This provides a further level of ethicality and privacy. By being publicly available, other people are free to use the same data to try and replicate our findings. The datasets we worked with were not biased or based on opinions which reduces our risk of our analysis being biased.\n",
    "\n",
    "When analyzing our data we made sure to be careful with not making strong statements like saying the death count is accurate because that is untrue. Our data may state a lower death count because it happens that deaths are sometimes unaccounted for. The only data we can be sure is accurate is our stock data. Also, we decided to hypothesize a correlation instead of a causation between out datasets because working with a volatile datset such as death count would not be reliable. In an extreme case, claiming that there is a causation between our datasets could be seen as defamation toward the companies involved."
   ],
   "metadata": {
    "id": "9MvHo_n_9890"
   }
  },
  {
   "cell_type": "markdown",
   "source": [
    "# Conclusion & Discussion"
   ],
   "metadata": {
    "id": "g3K8ssCF9l2e"
   }
  },
  {
   "cell_type": "markdown",
   "source": [
    "For this project we set out to answer whether there was a correlation between U.S defense and energy stocks and civilian deaths in Iraq during the Iraq War. We hypothesized that there would be a correlation between U.S defense and energy stocks and Iraq civilian deaths during the Iraq War. To accomplish this, we used publicly available data of Iraq civilian deaths and 8 different company stock's datasets.\n",
    "\n",
    "After further analysis of our results, we concluded that part of our hypothesis was disproved. After detrending our data, we learned from pearson's r that there exists a correlation between the defense stocks data and the Iraq deaths data. The defense stock is marginally negatively correlated with Iraq deaths. This means that as one variable increases the other decreases. Our data showed that a 1% increase in Iraq deaths correlated with a -0.0034% decrease in the defense stock prices. When observed on a larger scale, an increase of 1992% in Iraq deaths meant a 6.78% underperformance from the defense stock price, which is a large difference from the monthly price change of 0.23%. However, there is no correlation between the energy stocks data and the Iraq deaths data. To further prove our findings, we decided to create a regression confidence interval plot (Fig. 14) and look at Dynamic Time Warping between the two datasets (Fig. 15/16). Figure 14 proved the correleation between the defense stocks data and Iraq deaths because included in the 95% confidence interval there is the negative relationship between the two. Figure 15 proved that despite the defense stock and Iraq death count time series following different speeds of pattern of occurence they follow a similar pattern just at different speeds. Figure 16 proved that there is not correlation between the energy stocks data and the Iraq death count data because there was not apparent pattern between them when looking at the DTW.\n",
    "\n",
    "The negative correlation between Iraq deaths and U.S. defense stocks could possibly be attributed to increased media coverage of the war and those involved. Increased negative media coverage of the companies could cause companies to be drawn into public opinion, where politicians could take  advantage of the situation and enact policy changes that would negatively impact the company's performance. Further research should be directed towards if negative–or increased–media coverage in different market sectors lowers stock price.\n",
    "\n",
    "We were able to complete our study, but due to our limited knowledge gained from a ten week course our results were problably not as accurate than if we compared it to us having more time and experience to try out other methods and models to improve our models and results accuracy. Furthermore, we were limited with regards to time series analysis as that was not the focus of this course.\n",
    "\n",
    "Our study did show results that are valid through the data we processed. We were able to reasonably question our hypothesis and offer insight into our question. Overall, our hypothesis was both correct and incorrect. We were able to offer solid evidence that shows why we reached this conclusion. \n"
   ],
   "metadata": {
    "id": "6nZ6hA4JHnN_"
   }
  },
  {
   "cell_type": "markdown",
   "source": [
    "# Team Contributions"
   ],
   "metadata": {
    "id": "lnZbJYxopHu-"
   }
  },
  {
   "cell_type": "markdown",
   "source": [
    "Antonio - Imported stock data, programmed method to clean stock data, worked on finding and visualizing correlation between stock and Iraq death data.\n",
    "\n",
    "Michelle-imported Iraq data, cleaned Iraq data, some data analysis graphs, detrended Iraq data\n",
    "\n",
    "Leslie- wrote some data analysis graphs, added descriptions to some of the data analysis graphs, wrote ethics/privacy section and started the conclusion and discussion section\n",
    "\n",
    "Mustansir- Worked on idea generation, found stocks that may be suitable to research, completed slides and video and finalized conclusion and discussion section"
   ],
   "metadata": {
    "id": "lYAi5TcdpO9p"
   }
  }
 ],
 "metadata": {
  "kernelspec": {
   "display_name": "Python 3",
   "language": "python",
   "name": "python3"
  },
  "language_info": {
   "codemirror_mode": {
    "name": "ipython",
    "version": 3
   },
   "file_extension": ".py",
   "mimetype": "text/x-python",
   "name": "python",
   "nbconvert_exporter": "python",
   "pygments_lexer": "ipython3",
   "version": "3.7.9"
  }
 },
 "nbformat": 4,
 "nbformat_minor": 2
}