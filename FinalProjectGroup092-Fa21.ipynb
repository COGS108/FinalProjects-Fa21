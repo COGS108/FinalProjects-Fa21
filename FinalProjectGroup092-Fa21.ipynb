{
 "cells": [
  {
   "cell_type": "markdown",
   "metadata": {},
   "source": [
    "# Who Gains the Highest Salary? A Salary Analysis of Data Analysts"
   ]
  },
  {
   "cell_type": "markdown",
   "metadata": {},
   "source": [
    "## Permissions\n",
    "\n",
    "Place an `X` in the appropriate bracket below to specify if you would like your group's project to be made available to the public. (Note that student names will be included (but PIDs will be scraped from any groups who include their PIDs).\n",
    "\n",
    "* [ X ] YES - make available\n",
    "* [  ] NO - keep private"
   ]
  },
  {
   "cell_type": "markdown",
   "metadata": {},
   "source": [
    "# Overview"
   ]
  },
  {
   "cell_type": "markdown",
   "metadata": {},
   "source": [
    "Salary is a fundamental part of people’s income and influences employees’ living quality. In general, salary is part of the investment of the company, indicating the value of the employees and the importance of their work. In the data analysis field, employees’ value can be elevated along with their accumulating experience in technical skill sets, which is normally positively correlated with salary level. Nevertheless, industrial experience is not the only determinant deciding one’s salary level. For example, “employees with Data Analyst in their job title in San Francisco, California earn an average of 32.4% more than the national average.'' Therefore, there are more explanatory factors affecting employees’ salary levels. Our object is to find out potential determinants for salary levels utilizing exploratory data analysis.\n",
    "In this report, we employed and focused on five potential explanatory factors, which are sector, location, job title, company’s revenue, public rating, to analyze the dynamic salary level, indicating how companies value and invest in their employees. To analyze the influence for each potential factor, we employed multivariate analysis to determine the influence from each factor. In conclusion, we found that sector, location, and job title would influence employees’ salary levels; whereas, the company’s revenue and public rating have little impact on salary level. Specifically, data analysts are mostly working in the sector of finance, information technology, and business services, and in those sectors, analysts working in California, with the title of a senior data analyst, would gain the highest level of salary. In particular, the factor of location influences data analysts’ salaries the most compared to the other factors selected."
   ]
  },
  {
   "cell_type": "markdown",
   "metadata": {},
   "source": [
    "# Names\n",
    "\n",
    "- Linda Lin\n",
    "- Pu Tan\n",
    "- Zefang Yuan\n",
    "- Zixun Zhang\n"
   ]
  },
  {
   "cell_type": "markdown",
   "metadata": {},
   "source": [
    "<a id='research_question'></a>\n",
    "# Research Question"
   ]
  },
  {
   "cell_type": "markdown",
   "metadata": {},
   "source": [
    "In the field of Data Analyst, what factors influence the salary: job title, location, sector, rating, or company revenue? Which one of the factors listed is the most influential？"
   ]
  },
  {
   "cell_type": "markdown",
   "metadata": {},
   "source": [
    "<a id='background'></a>\n",
    "\n",
    "## Background & Prior Work"
   ]
  },
  {
   "cell_type": "markdown",
   "metadata": {},
   "source": [
    "In the contemporary world, the data analyst job is one of the most heated jobs since it is needed by the majority of the industries, and it is featured with a relatively high salary. Even if the majority of the data analyst candidates may choose industries based on their interests or personal pursues, the salary is also a significant factor to consider. In this project, we will explore the factors that may influence data analyst salary.\n",
    " \n",
    "One of the key potential factors to affect salary is the location of the job. Even if the job title and content are similar, the salary offered may vary due to the difference in location. As the reference 1 suggests, New York, New Hampshire, and Wyoming are the three states with the highest data analyst title (ref1). However, we are somehow curious about this result since the website does not provide the source of the data. Hence we find a Kaggle database in which job information from Glassdoor is recorded. In this project, we will group the jobs by location and examine whether they are have the same salary level with multiple means; at the end we will derive a conclusion on that.\n",
    " \n",
    "The database contains more information than we expected. We may also assume that the company with higher revenue may pay a higher salary, which is rational since the company with high revenue may have more to pay their employees. Moreover, the salary level also depends on the particular industry the company is in. Companies located in the industry with high profit rates may be able to provide higher salary As the second reference indicates, the three industries that provide the highest salary are Entertainment, Hardware and Networking, and Finance (ref2). In this project, we may also examine the preciseness of this statements by exploring our data with quantitative analysis.\n",
    "\n",
    "1)https://www.ziprecruiter.com/Salaries/What-Is-the-Average-Data-Analyst-Salary-by-State\n",
    "\n",
    "2)https://careerfoundry.com/en/blog/data-analytics/data-analyst-salaries-by-industry/"
   ]
  },
  {
   "cell_type": "markdown",
   "metadata": {},
   "source": [
    "# Hypothesis\n"
   ]
  },
  {
   "cell_type": "markdown",
   "metadata": {},
   "source": [
    "We hypothesize that the salary level is positively correlated with the company revenue and rating, categorical data such as location, sector, and job title. We may explore some particular locations or sectors of which the data analyst jobs are featured with higher salary. We propose these hypotheses since we think companies with higher revenue are able to pay higher salaries; companies with higher rates may provide higher salary; companies varied by region may also have different salaries due to distinctive minimum wage and price level; companies varied by sectors may provide various salary due to different profitability of particular sector; job titles may also affect since one with junior or senior may indicates the difference in salary."
   ]
  },
  {
   "cell_type": "markdown",
   "metadata": {},
   "source": [
    "# Dataset(s)"
   ]
  },
  {
   "cell_type": "markdown",
   "metadata": {},
   "source": [
    "\n",
    "(Copy this information for each dataset)\n",
    "- Dataset Name: DataAnalyst\n",
    "- Link to the dataset: https://www.kaggle.com/andrewmvd/data-analyst-jobs/download\n",
    "- Number of observations: 2253\n",
    "\n",
    "The dataset we will import contains 2253 job listings for data analyst positions scraped from glassdoor, with features we needed. We will focus on the job title, salary estimate, rating, location, sector, and revenue. There are some missing values in each column that were recorded as -1 or unknown, and we might choose to delete the corresponding observations. As we have enough number of observations, the dataset is still explortable after cleaning. \n"
   ]
  },
  {
   "cell_type": "markdown",
   "metadata": {},
   "source": [
    "# Setup"
   ]
  },
  {
   "cell_type": "code",
   "execution_count": 1,
   "metadata": {},
   "outputs": [
    {
     "data": {
      "text/html": [
       "<div>\n",
       "<style scoped>\n",
       "    .dataframe tbody tr th:only-of-type {\n",
       "        vertical-align: middle;\n",
       "    }\n",
       "\n",
       "    .dataframe tbody tr th {\n",
       "        vertical-align: top;\n",
       "    }\n",
       "\n",
       "    .dataframe thead th {\n",
       "        text-align: right;\n",
       "    }\n",
       "</style>\n",
       "<table border=\"1\" class=\"dataframe\">\n",
       "  <thead>\n",
       "    <tr style=\"text-align: right;\">\n",
       "      <th></th>\n",
       "      <th>Unnamed: 0</th>\n",
       "      <th>Job Title</th>\n",
       "      <th>Salary Estimate</th>\n",
       "      <th>Job Description</th>\n",
       "      <th>Rating</th>\n",
       "      <th>Company Name</th>\n",
       "      <th>Location</th>\n",
       "      <th>Headquarters</th>\n",
       "      <th>Size</th>\n",
       "      <th>Founded</th>\n",
       "      <th>Type of ownership</th>\n",
       "      <th>Industry</th>\n",
       "      <th>Sector</th>\n",
       "      <th>Revenue</th>\n",
       "      <th>Competitors</th>\n",
       "      <th>Easy Apply</th>\n",
       "    </tr>\n",
       "  </thead>\n",
       "  <tbody>\n",
       "    <tr>\n",
       "      <th>0</th>\n",
       "      <td>0</td>\n",
       "      <td>Data Analyst, Center on Immigration and Justic...</td>\n",
       "      <td>$37K-$66K (Glassdoor est.)</td>\n",
       "      <td>Are you eager to roll up your sleeves and harn...</td>\n",
       "      <td>3.2</td>\n",
       "      <td>Vera Institute of Justice\\n3.2</td>\n",
       "      <td>New York, NY</td>\n",
       "      <td>New York, NY</td>\n",
       "      <td>201 to 500 employees</td>\n",
       "      <td>1961</td>\n",
       "      <td>Nonprofit Organization</td>\n",
       "      <td>Social Assistance</td>\n",
       "      <td>Non-Profit</td>\n",
       "      <td>$100 to $500 million (USD)</td>\n",
       "      <td>-1</td>\n",
       "      <td>True</td>\n",
       "    </tr>\n",
       "    <tr>\n",
       "      <th>1</th>\n",
       "      <td>1</td>\n",
       "      <td>Quality Data Analyst</td>\n",
       "      <td>$37K-$66K (Glassdoor est.)</td>\n",
       "      <td>Overview\\n\\nProvides analytical and technical ...</td>\n",
       "      <td>3.8</td>\n",
       "      <td>Visiting Nurse Service of New York\\n3.8</td>\n",
       "      <td>New York, NY</td>\n",
       "      <td>New York, NY</td>\n",
       "      <td>10000+ employees</td>\n",
       "      <td>1893</td>\n",
       "      <td>Nonprofit Organization</td>\n",
       "      <td>Health Care Services &amp; Hospitals</td>\n",
       "      <td>Health Care</td>\n",
       "      <td>$2 to $5 billion (USD)</td>\n",
       "      <td>-1</td>\n",
       "      <td>-1</td>\n",
       "    </tr>\n",
       "    <tr>\n",
       "      <th>2</th>\n",
       "      <td>2</td>\n",
       "      <td>Senior Data Analyst, Insights &amp; Analytics Team...</td>\n",
       "      <td>$37K-$66K (Glassdoor est.)</td>\n",
       "      <td>We’re looking for a Senior Data Analyst who ha...</td>\n",
       "      <td>3.4</td>\n",
       "      <td>Squarespace\\n3.4</td>\n",
       "      <td>New York, NY</td>\n",
       "      <td>New York, NY</td>\n",
       "      <td>1001 to 5000 employees</td>\n",
       "      <td>2003</td>\n",
       "      <td>Company - Private</td>\n",
       "      <td>Internet</td>\n",
       "      <td>Information Technology</td>\n",
       "      <td>Unknown / Non-Applicable</td>\n",
       "      <td>GoDaddy</td>\n",
       "      <td>-1</td>\n",
       "    </tr>\n",
       "    <tr>\n",
       "      <th>3</th>\n",
       "      <td>3</td>\n",
       "      <td>Data Analyst</td>\n",
       "      <td>$37K-$66K (Glassdoor est.)</td>\n",
       "      <td>Requisition NumberRR-0001939\\nRemote:Yes\\nWe c...</td>\n",
       "      <td>4.1</td>\n",
       "      <td>Celerity\\n4.1</td>\n",
       "      <td>New York, NY</td>\n",
       "      <td>McLean, VA</td>\n",
       "      <td>201 to 500 employees</td>\n",
       "      <td>2002</td>\n",
       "      <td>Subsidiary or Business Segment</td>\n",
       "      <td>IT Services</td>\n",
       "      <td>Information Technology</td>\n",
       "      <td>$50 to $100 million (USD)</td>\n",
       "      <td>-1</td>\n",
       "      <td>-1</td>\n",
       "    </tr>\n",
       "    <tr>\n",
       "      <th>4</th>\n",
       "      <td>4</td>\n",
       "      <td>Reporting Data Analyst</td>\n",
       "      <td>$37K-$66K (Glassdoor est.)</td>\n",
       "      <td>ABOUT FANDUEL GROUP\\n\\nFanDuel Group is a worl...</td>\n",
       "      <td>3.9</td>\n",
       "      <td>FanDuel\\n3.9</td>\n",
       "      <td>New York, NY</td>\n",
       "      <td>New York, NY</td>\n",
       "      <td>501 to 1000 employees</td>\n",
       "      <td>2009</td>\n",
       "      <td>Company - Private</td>\n",
       "      <td>Sports &amp; Recreation</td>\n",
       "      <td>Arts, Entertainment &amp; Recreation</td>\n",
       "      <td>$100 to $500 million (USD)</td>\n",
       "      <td>DraftKings</td>\n",
       "      <td>True</td>\n",
       "    </tr>\n",
       "  </tbody>\n",
       "</table>\n",
       "</div>"
      ],
      "text/plain": [
       "   Unnamed: 0                                          Job Title  \\\n",
       "0           0  Data Analyst, Center on Immigration and Justic...   \n",
       "1           1                               Quality Data Analyst   \n",
       "2           2  Senior Data Analyst, Insights & Analytics Team...   \n",
       "3           3                                       Data Analyst   \n",
       "4           4                             Reporting Data Analyst   \n",
       "\n",
       "              Salary Estimate  \\\n",
       "0  $37K-$66K (Glassdoor est.)   \n",
       "1  $37K-$66K (Glassdoor est.)   \n",
       "2  $37K-$66K (Glassdoor est.)   \n",
       "3  $37K-$66K (Glassdoor est.)   \n",
       "4  $37K-$66K (Glassdoor est.)   \n",
       "\n",
       "                                     Job Description  Rating  \\\n",
       "0  Are you eager to roll up your sleeves and harn...     3.2   \n",
       "1  Overview\\n\\nProvides analytical and technical ...     3.8   \n",
       "2  We’re looking for a Senior Data Analyst who ha...     3.4   \n",
       "3  Requisition NumberRR-0001939\\nRemote:Yes\\nWe c...     4.1   \n",
       "4  ABOUT FANDUEL GROUP\\n\\nFanDuel Group is a worl...     3.9   \n",
       "\n",
       "                              Company Name      Location  Headquarters  \\\n",
       "0           Vera Institute of Justice\\n3.2  New York, NY  New York, NY   \n",
       "1  Visiting Nurse Service of New York\\n3.8  New York, NY  New York, NY   \n",
       "2                         Squarespace\\n3.4  New York, NY  New York, NY   \n",
       "3                            Celerity\\n4.1  New York, NY    McLean, VA   \n",
       "4                             FanDuel\\n3.9  New York, NY  New York, NY   \n",
       "\n",
       "                     Size  Founded               Type of ownership  \\\n",
       "0    201 to 500 employees     1961          Nonprofit Organization   \n",
       "1        10000+ employees     1893          Nonprofit Organization   \n",
       "2  1001 to 5000 employees     2003               Company - Private   \n",
       "3    201 to 500 employees     2002  Subsidiary or Business Segment   \n",
       "4   501 to 1000 employees     2009               Company - Private   \n",
       "\n",
       "                           Industry                            Sector  \\\n",
       "0                 Social Assistance                        Non-Profit   \n",
       "1  Health Care Services & Hospitals                       Health Care   \n",
       "2                          Internet            Information Technology   \n",
       "3                       IT Services            Information Technology   \n",
       "4               Sports & Recreation  Arts, Entertainment & Recreation   \n",
       "\n",
       "                      Revenue Competitors Easy Apply  \n",
       "0  $100 to $500 million (USD)          -1       True  \n",
       "1      $2 to $5 billion (USD)          -1         -1  \n",
       "2    Unknown / Non-Applicable     GoDaddy         -1  \n",
       "3   $50 to $100 million (USD)          -1         -1  \n",
       "4  $100 to $500 million (USD)  DraftKings       True  "
      ]
     },
     "execution_count": 1,
     "metadata": {},
     "output_type": "execute_result"
    }
   ],
   "source": [
    "## YOUR CODE HERE\n",
    "import numpy as np\n",
    "import pandas as pd\n",
    "import matplotlib.pyplot as plt\n",
    "import math\n",
    "import seaborn as sns\n",
    "\n",
    "import patsy\n",
    "import statsmodels.api as sm\n",
    "import scipy.stats as stats\n",
    "from scipy.stats import ttest_ind, chisquare, normaltest\n",
    "\n",
    "df=pd.read_csv('DataAnalyst.csv')\n",
    "df.head()"
   ]
  },
  {
   "cell_type": "markdown",
   "metadata": {},
   "source": [
    "# Data Cleaning"
   ]
  },
  {
   "cell_type": "markdown",
   "metadata": {},
   "source": [
    "First, we select the columns that we will use from the entire dataset. We notice that there are some values such as -1 and “Unknown”, that are representing the missing value. Thus, we defined a function to replace all the -1 and “Unknown” in the dataset to np.nan as standardize_data. In this case, we could drop these missing values later."
   ]
  },
  {
   "cell_type": "code",
   "execution_count": 2,
   "metadata": {},
   "outputs": [
    {
     "data": {
      "text/html": [
       "<div>\n",
       "<style scoped>\n",
       "    .dataframe tbody tr th:only-of-type {\n",
       "        vertical-align: middle;\n",
       "    }\n",
       "\n",
       "    .dataframe tbody tr th {\n",
       "        vertical-align: top;\n",
       "    }\n",
       "\n",
       "    .dataframe thead th {\n",
       "        text-align: right;\n",
       "    }\n",
       "</style>\n",
       "<table border=\"1\" class=\"dataframe\">\n",
       "  <thead>\n",
       "    <tr style=\"text-align: right;\">\n",
       "      <th></th>\n",
       "      <th>Job Title</th>\n",
       "      <th>Rating</th>\n",
       "      <th>Salary Estimate</th>\n",
       "      <th>Location</th>\n",
       "      <th>Sector</th>\n",
       "      <th>Revenue</th>\n",
       "    </tr>\n",
       "  </thead>\n",
       "  <tbody>\n",
       "    <tr>\n",
       "      <th>0</th>\n",
       "      <td>Data Analyst, Center on Immigration and Justic...</td>\n",
       "      <td>3.2</td>\n",
       "      <td>$37K-$66K (Glassdoor est.)</td>\n",
       "      <td>New York, NY</td>\n",
       "      <td>Non-Profit</td>\n",
       "      <td>$100 to $500 million (USD)</td>\n",
       "    </tr>\n",
       "    <tr>\n",
       "      <th>1</th>\n",
       "      <td>Quality Data Analyst</td>\n",
       "      <td>3.8</td>\n",
       "      <td>$37K-$66K (Glassdoor est.)</td>\n",
       "      <td>New York, NY</td>\n",
       "      <td>Health Care</td>\n",
       "      <td>$2 to $5 billion (USD)</td>\n",
       "    </tr>\n",
       "    <tr>\n",
       "      <th>2</th>\n",
       "      <td>Senior Data Analyst, Insights &amp; Analytics Team...</td>\n",
       "      <td>3.4</td>\n",
       "      <td>$37K-$66K (Glassdoor est.)</td>\n",
       "      <td>New York, NY</td>\n",
       "      <td>Information Technology</td>\n",
       "      <td>Unknown / Non-Applicable</td>\n",
       "    </tr>\n",
       "    <tr>\n",
       "      <th>3</th>\n",
       "      <td>Data Analyst</td>\n",
       "      <td>4.1</td>\n",
       "      <td>$37K-$66K (Glassdoor est.)</td>\n",
       "      <td>New York, NY</td>\n",
       "      <td>Information Technology</td>\n",
       "      <td>$50 to $100 million (USD)</td>\n",
       "    </tr>\n",
       "    <tr>\n",
       "      <th>4</th>\n",
       "      <td>Reporting Data Analyst</td>\n",
       "      <td>3.9</td>\n",
       "      <td>$37K-$66K (Glassdoor est.)</td>\n",
       "      <td>New York, NY</td>\n",
       "      <td>Arts, Entertainment &amp; Recreation</td>\n",
       "      <td>$100 to $500 million (USD)</td>\n",
       "    </tr>\n",
       "  </tbody>\n",
       "</table>\n",
       "</div>"
      ],
      "text/plain": [
       "                                           Job Title  Rating  \\\n",
       "0  Data Analyst, Center on Immigration and Justic...     3.2   \n",
       "1                               Quality Data Analyst     3.8   \n",
       "2  Senior Data Analyst, Insights & Analytics Team...     3.4   \n",
       "3                                       Data Analyst     4.1   \n",
       "4                             Reporting Data Analyst     3.9   \n",
       "\n",
       "              Salary Estimate      Location                            Sector  \\\n",
       "0  $37K-$66K (Glassdoor est.)  New York, NY                        Non-Profit   \n",
       "1  $37K-$66K (Glassdoor est.)  New York, NY                       Health Care   \n",
       "2  $37K-$66K (Glassdoor est.)  New York, NY            Information Technology   \n",
       "3  $37K-$66K (Glassdoor est.)  New York, NY            Information Technology   \n",
       "4  $37K-$66K (Glassdoor est.)  New York, NY  Arts, Entertainment & Recreation   \n",
       "\n",
       "                      Revenue  \n",
       "0  $100 to $500 million (USD)  \n",
       "1      $2 to $5 billion (USD)  \n",
       "2    Unknown / Non-Applicable  \n",
       "3   $50 to $100 million (USD)  \n",
       "4  $100 to $500 million (USD)  "
      ]
     },
     "execution_count": 2,
     "metadata": {},
     "output_type": "execute_result"
    }
   ],
   "source": [
    "## YOUR CODE HERE\n",
    "## FEEL FREE TO ADD MULTIPLE CELLS PER SECTION\n",
    "df_foruse=df[['Job Title','Rating','Salary Estimate','Location','Sector','Revenue']]\n",
    "\n",
    "def standardize_data(str_in):\n",
    "    if type(str_in)  is str:\n",
    "        if 'Unknown' in str_in or str_in=='-1':\n",
    "            output = np.nan\n",
    "        else :\n",
    "            output = str_in\n",
    "    elif str_in==-1.0 :\n",
    "            output = np.nan\n",
    "    else:\n",
    "            output = str_in\n",
    "    return output\n",
    "df_foruse.head()"
   ]
  },
  {
   "cell_type": "markdown",
   "metadata": {},
   "source": [
    "After finishing the function 'standardize_data', we want to apply the function to each entry of the data frame. Thus, we use a for loop to iterate every column of the data frame and apply the 'standardize_data' function. Finally, we reset the index of the frame."
   ]
  },
  {
   "cell_type": "code",
   "execution_count": 3,
   "metadata": {},
   "outputs": [
    {
     "data": {
      "text/html": [
       "<div>\n",
       "<style scoped>\n",
       "    .dataframe tbody tr th:only-of-type {\n",
       "        vertical-align: middle;\n",
       "    }\n",
       "\n",
       "    .dataframe tbody tr th {\n",
       "        vertical-align: top;\n",
       "    }\n",
       "\n",
       "    .dataframe thead th {\n",
       "        text-align: right;\n",
       "    }\n",
       "</style>\n",
       "<table border=\"1\" class=\"dataframe\">\n",
       "  <thead>\n",
       "    <tr style=\"text-align: right;\">\n",
       "      <th></th>\n",
       "      <th>Job Title</th>\n",
       "      <th>Rating</th>\n",
       "      <th>Salary Estimate</th>\n",
       "      <th>Location</th>\n",
       "      <th>Sector</th>\n",
       "      <th>Revenue</th>\n",
       "    </tr>\n",
       "  </thead>\n",
       "  <tbody>\n",
       "    <tr>\n",
       "      <th>0</th>\n",
       "      <td>Data Analyst, Center on Immigration and Justic...</td>\n",
       "      <td>3.2</td>\n",
       "      <td>$37K-$66K (Glassdoor est.)</td>\n",
       "      <td>New York, NY</td>\n",
       "      <td>Non-Profit</td>\n",
       "      <td>$100 to $500 million (USD)</td>\n",
       "    </tr>\n",
       "    <tr>\n",
       "      <th>1</th>\n",
       "      <td>Quality Data Analyst</td>\n",
       "      <td>3.8</td>\n",
       "      <td>$37K-$66K (Glassdoor est.)</td>\n",
       "      <td>New York, NY</td>\n",
       "      <td>Health Care</td>\n",
       "      <td>$2 to $5 billion (USD)</td>\n",
       "    </tr>\n",
       "    <tr>\n",
       "      <th>2</th>\n",
       "      <td>Data Analyst</td>\n",
       "      <td>4.1</td>\n",
       "      <td>$37K-$66K (Glassdoor est.)</td>\n",
       "      <td>New York, NY</td>\n",
       "      <td>Information Technology</td>\n",
       "      <td>$50 to $100 million (USD)</td>\n",
       "    </tr>\n",
       "    <tr>\n",
       "      <th>3</th>\n",
       "      <td>Reporting Data Analyst</td>\n",
       "      <td>3.9</td>\n",
       "      <td>$37K-$66K (Glassdoor est.)</td>\n",
       "      <td>New York, NY</td>\n",
       "      <td>Arts, Entertainment &amp; Recreation</td>\n",
       "      <td>$100 to $500 million (USD)</td>\n",
       "    </tr>\n",
       "    <tr>\n",
       "      <th>4</th>\n",
       "      <td>Data Science Analyst</td>\n",
       "      <td>3.7</td>\n",
       "      <td>$37K-$66K (Glassdoor est.)</td>\n",
       "      <td>New York, NY</td>\n",
       "      <td>Insurance</td>\n",
       "      <td>$100 to $500 million (USD)</td>\n",
       "    </tr>\n",
       "  </tbody>\n",
       "</table>\n",
       "</div>"
      ],
      "text/plain": [
       "                                           Job Title  Rating  \\\n",
       "0  Data Analyst, Center on Immigration and Justic...     3.2   \n",
       "1                               Quality Data Analyst     3.8   \n",
       "2                                       Data Analyst     4.1   \n",
       "3                             Reporting Data Analyst     3.9   \n",
       "4                               Data Science Analyst     3.7   \n",
       "\n",
       "              Salary Estimate      Location                            Sector  \\\n",
       "0  $37K-$66K (Glassdoor est.)  New York, NY                        Non-Profit   \n",
       "1  $37K-$66K (Glassdoor est.)  New York, NY                       Health Care   \n",
       "2  $37K-$66K (Glassdoor est.)  New York, NY            Information Technology   \n",
       "3  $37K-$66K (Glassdoor est.)  New York, NY  Arts, Entertainment & Recreation   \n",
       "4  $37K-$66K (Glassdoor est.)  New York, NY                         Insurance   \n",
       "\n",
       "                      Revenue  \n",
       "0  $100 to $500 million (USD)  \n",
       "1      $2 to $5 billion (USD)  \n",
       "2   $50 to $100 million (USD)  \n",
       "3  $100 to $500 million (USD)  \n",
       "4  $100 to $500 million (USD)  "
      ]
     },
     "execution_count": 3,
     "metadata": {},
     "output_type": "execute_result"
    }
   ],
   "source": [
    "df_foruse1 = pd.DataFrame()\n",
    "for column in df_foruse:\n",
    "    df_foruse1[column]=df_foruse[column].apply(standardize_data)\n",
    "df_foruse1=df_foruse1.dropna(axis='rows').reset_index()\n",
    "df_foruse1=df_foruse1.drop(columns=['index'])\n",
    "df_foruse1.head()"
   ]
  },
  {
   "cell_type": "markdown",
   "metadata": {},
   "source": [
    "Salary estimate is in the type of String, and it gives a range of salary for us. We want to use it as a numerical variable. Thus, we decide to use the mean of the upper and lower bound of the salary to represent the interval. We write a function 'standardized_salary' which standardizes the input string, and calculates the mean of the two numerical value in the string. Finally we apply the function to data frame's salary estimate column."
   ]
  },
  {
   "cell_type": "code",
   "execution_count": 4,
   "metadata": {},
   "outputs": [
    {
     "data": {
      "text/html": [
       "<div>\n",
       "<style scoped>\n",
       "    .dataframe tbody tr th:only-of-type {\n",
       "        vertical-align: middle;\n",
       "    }\n",
       "\n",
       "    .dataframe tbody tr th {\n",
       "        vertical-align: top;\n",
       "    }\n",
       "\n",
       "    .dataframe thead th {\n",
       "        text-align: right;\n",
       "    }\n",
       "</style>\n",
       "<table border=\"1\" class=\"dataframe\">\n",
       "  <thead>\n",
       "    <tr style=\"text-align: right;\">\n",
       "      <th></th>\n",
       "      <th>Job Title</th>\n",
       "      <th>Rating</th>\n",
       "      <th>Salary Estimate</th>\n",
       "      <th>Location</th>\n",
       "      <th>Sector</th>\n",
       "      <th>Revenue</th>\n",
       "    </tr>\n",
       "  </thead>\n",
       "  <tbody>\n",
       "    <tr>\n",
       "      <th>0</th>\n",
       "      <td>Data Analyst, Center on Immigration and Justic...</td>\n",
       "      <td>3.2</td>\n",
       "      <td>51.5</td>\n",
       "      <td>New York, NY</td>\n",
       "      <td>Non-Profit</td>\n",
       "      <td>$100 to $500 million (USD)</td>\n",
       "    </tr>\n",
       "    <tr>\n",
       "      <th>1</th>\n",
       "      <td>Quality Data Analyst</td>\n",
       "      <td>3.8</td>\n",
       "      <td>51.5</td>\n",
       "      <td>New York, NY</td>\n",
       "      <td>Health Care</td>\n",
       "      <td>$2 to $5 billion (USD)</td>\n",
       "    </tr>\n",
       "    <tr>\n",
       "      <th>2</th>\n",
       "      <td>Data Analyst</td>\n",
       "      <td>4.1</td>\n",
       "      <td>51.5</td>\n",
       "      <td>New York, NY</td>\n",
       "      <td>Information Technology</td>\n",
       "      <td>$50 to $100 million (USD)</td>\n",
       "    </tr>\n",
       "    <tr>\n",
       "      <th>3</th>\n",
       "      <td>Reporting Data Analyst</td>\n",
       "      <td>3.9</td>\n",
       "      <td>51.5</td>\n",
       "      <td>New York, NY</td>\n",
       "      <td>Arts, Entertainment &amp; Recreation</td>\n",
       "      <td>$100 to $500 million (USD)</td>\n",
       "    </tr>\n",
       "    <tr>\n",
       "      <th>4</th>\n",
       "      <td>Data Science Analyst</td>\n",
       "      <td>3.7</td>\n",
       "      <td>51.5</td>\n",
       "      <td>New York, NY</td>\n",
       "      <td>Insurance</td>\n",
       "      <td>$100 to $500 million (USD)</td>\n",
       "    </tr>\n",
       "  </tbody>\n",
       "</table>\n",
       "</div>"
      ],
      "text/plain": [
       "                                           Job Title  Rating  Salary Estimate  \\\n",
       "0  Data Analyst, Center on Immigration and Justic...     3.2             51.5   \n",
       "1                               Quality Data Analyst     3.8             51.5   \n",
       "2                                       Data Analyst     4.1             51.5   \n",
       "3                             Reporting Data Analyst     3.9             51.5   \n",
       "4                               Data Science Analyst     3.7             51.5   \n",
       "\n",
       "       Location                            Sector                     Revenue  \n",
       "0  New York, NY                        Non-Profit  $100 to $500 million (USD)  \n",
       "1  New York, NY                       Health Care      $2 to $5 billion (USD)  \n",
       "2  New York, NY            Information Technology   $50 to $100 million (USD)  \n",
       "3  New York, NY  Arts, Entertainment & Recreation  $100 to $500 million (USD)  \n",
       "4  New York, NY                         Insurance  $100 to $500 million (USD)  "
      ]
     },
     "execution_count": 4,
     "metadata": {},
     "output_type": "execute_result"
    }
   ],
   "source": [
    "df_foruse1['Salary Estimate'].value_counts()\n",
    "def standardized_salary(str_in):\n",
    "    output=str_in.replace('K','')\n",
    "    output=output.replace('-',' ')\n",
    "    output=output.replace('$',' ')\n",
    "    output=output.split()[0:2]\n",
    "    int1 = int(output[0])\n",
    "    int2 = int(output[1])\n",
    "    output = (int1+int2)/2\n",
    "    return output\n",
    "df_foruse1['Salary Estimate'] = df_foruse1['Salary Estimate'].apply(standardized_salary)\n",
    "df_foruse1.head()"
   ]
  },
  {
   "cell_type": "code",
   "execution_count": 5,
   "metadata": {},
   "outputs": [
    {
     "data": {
      "text/plain": [
       "$100 to $500 million (USD)          216\n",
       "$50 to $100 million (USD)           197\n",
       "$10+ billion (USD)                  187\n",
       "$2 to $5 billion (USD)              129\n",
       "$10 to $25 million (USD)            125\n",
       "$25 to $50 million (USD)            106\n",
       "$1 to $5 million (USD)               91\n",
       "$1 to $2 billion (USD)               87\n",
       "$500 million to $1 billion (USD)     79\n",
       "Less than $1 million (USD)           74\n",
       "$5 to $10 million (USD)              66\n",
       "$5 to $10 billion (USD)              56\n",
       "Name: Revenue, dtype: int64"
      ]
     },
     "execution_count": 5,
     "metadata": {},
     "output_type": "execute_result"
    }
   ],
   "source": [
    "df_foruse1['Revenue'].value_counts()"
   ]
  },
  {
   "cell_type": "markdown",
   "metadata": {},
   "source": [
    "In this section, we recategorized the revenue column by merging the neighborhood revenue ranges and transformed it into four categories: \"1 million to 10 million dollar\", \" 10 million to 100 million dollar\", \"100 million to 1b dollar\", and \"over 1b dollar\" respectively."
   ]
  },
  {
   "cell_type": "code",
   "execution_count": 6,
   "metadata": {},
   "outputs": [
    {
     "data": {
      "text/html": [
       "<div>\n",
       "<style scoped>\n",
       "    .dataframe tbody tr th:only-of-type {\n",
       "        vertical-align: middle;\n",
       "    }\n",
       "\n",
       "    .dataframe tbody tr th {\n",
       "        vertical-align: top;\n",
       "    }\n",
       "\n",
       "    .dataframe thead th {\n",
       "        text-align: right;\n",
       "    }\n",
       "</style>\n",
       "<table border=\"1\" class=\"dataframe\">\n",
       "  <thead>\n",
       "    <tr style=\"text-align: right;\">\n",
       "      <th></th>\n",
       "      <th>Job Title</th>\n",
       "      <th>Rating</th>\n",
       "      <th>Salary Estimate</th>\n",
       "      <th>Location</th>\n",
       "      <th>Sector</th>\n",
       "      <th>Revenue</th>\n",
       "    </tr>\n",
       "  </thead>\n",
       "  <tbody>\n",
       "    <tr>\n",
       "      <th>0</th>\n",
       "      <td>Data Analyst, Center on Immigration and Justic...</td>\n",
       "      <td>3.2</td>\n",
       "      <td>51.5</td>\n",
       "      <td>New York, NY</td>\n",
       "      <td>Non-Profit</td>\n",
       "      <td>100m-1b dollar</td>\n",
       "    </tr>\n",
       "    <tr>\n",
       "      <th>1</th>\n",
       "      <td>Quality Data Analyst</td>\n",
       "      <td>3.8</td>\n",
       "      <td>51.5</td>\n",
       "      <td>New York, NY</td>\n",
       "      <td>Health Care</td>\n",
       "      <td>over 1b dollar</td>\n",
       "    </tr>\n",
       "    <tr>\n",
       "      <th>2</th>\n",
       "      <td>Data Analyst</td>\n",
       "      <td>4.1</td>\n",
       "      <td>51.5</td>\n",
       "      <td>New York, NY</td>\n",
       "      <td>Information Technology</td>\n",
       "      <td>10m-100m dollar</td>\n",
       "    </tr>\n",
       "    <tr>\n",
       "      <th>3</th>\n",
       "      <td>Reporting Data Analyst</td>\n",
       "      <td>3.9</td>\n",
       "      <td>51.5</td>\n",
       "      <td>New York, NY</td>\n",
       "      <td>Arts, Entertainment &amp; Recreation</td>\n",
       "      <td>100m-1b dollar</td>\n",
       "    </tr>\n",
       "    <tr>\n",
       "      <th>4</th>\n",
       "      <td>Data Science Analyst</td>\n",
       "      <td>3.7</td>\n",
       "      <td>51.5</td>\n",
       "      <td>New York, NY</td>\n",
       "      <td>Insurance</td>\n",
       "      <td>100m-1b dollar</td>\n",
       "    </tr>\n",
       "  </tbody>\n",
       "</table>\n",
       "</div>"
      ],
      "text/plain": [
       "                                           Job Title  Rating  Salary Estimate  \\\n",
       "0  Data Analyst, Center on Immigration and Justic...     3.2             51.5   \n",
       "1                               Quality Data Analyst     3.8             51.5   \n",
       "2                                       Data Analyst     4.1             51.5   \n",
       "3                             Reporting Data Analyst     3.9             51.5   \n",
       "4                               Data Science Analyst     3.7             51.5   \n",
       "\n",
       "       Location                            Sector          Revenue  \n",
       "0  New York, NY                        Non-Profit   100m-1b dollar  \n",
       "1  New York, NY                       Health Care   over 1b dollar  \n",
       "2  New York, NY            Information Technology  10m-100m dollar  \n",
       "3  New York, NY  Arts, Entertainment & Recreation   100m-1b dollar  \n",
       "4  New York, NY                         Insurance   100m-1b dollar  "
      ]
     },
     "execution_count": 6,
     "metadata": {},
     "output_type": "execute_result"
    }
   ],
   "source": [
    "def recategorize(str_in):\n",
    "    if str_in=='Less than $1 million (USD)' or str_in=='$1 to $5 million (USD)' or str_in=='$5 to $10 million (USD)':\n",
    "        output = 'under 10m dollars'\n",
    "    elif str_in=='$10 to $25 million (USD)' or str_in=='$25 to $50 million (USD)' or str_in=='$50 to $100 million (USD)':\n",
    "        output = '10m-100m dollar'\n",
    "    elif str_in=='$100 to $500 million (USD)' or str_in=='$500 million to $1 billion (USD)':\n",
    "        output = '100m-1b dollar'\n",
    "    else:\n",
    "        output = 'over 1b dollar'\n",
    "    return output\n",
    "df_foruse1['Revenue'] = df_foruse1['Revenue'].apply(recategorize)\n",
    "df_foruse1.head()"
   ]
  },
  {
   "cell_type": "markdown",
   "metadata": {},
   "source": [
    "The location contained in this dataframe is specified in form of city,state. We need to standardize the location information in order to decrease the number of location categories. Hence we may only keep the state information. The following function standardize_location keeps the last two characters, which is the state of location."
   ]
  },
  {
   "cell_type": "code",
   "execution_count": 7,
   "metadata": {},
   "outputs": [
    {
     "data": {
      "text/html": [
       "<div>\n",
       "<style scoped>\n",
       "    .dataframe tbody tr th:only-of-type {\n",
       "        vertical-align: middle;\n",
       "    }\n",
       "\n",
       "    .dataframe tbody tr th {\n",
       "        vertical-align: top;\n",
       "    }\n",
       "\n",
       "    .dataframe thead th {\n",
       "        text-align: right;\n",
       "    }\n",
       "</style>\n",
       "<table border=\"1\" class=\"dataframe\">\n",
       "  <thead>\n",
       "    <tr style=\"text-align: right;\">\n",
       "      <th></th>\n",
       "      <th>Job Title</th>\n",
       "      <th>Rating</th>\n",
       "      <th>Salary Estimate</th>\n",
       "      <th>Location</th>\n",
       "      <th>Sector</th>\n",
       "      <th>Revenue</th>\n",
       "    </tr>\n",
       "  </thead>\n",
       "  <tbody>\n",
       "    <tr>\n",
       "      <th>0</th>\n",
       "      <td>Data Analyst, Center on Immigration and Justic...</td>\n",
       "      <td>3.2</td>\n",
       "      <td>51.5</td>\n",
       "      <td>NY</td>\n",
       "      <td>Non-Profit</td>\n",
       "      <td>100m-1b dollar</td>\n",
       "    </tr>\n",
       "    <tr>\n",
       "      <th>1</th>\n",
       "      <td>Quality Data Analyst</td>\n",
       "      <td>3.8</td>\n",
       "      <td>51.5</td>\n",
       "      <td>NY</td>\n",
       "      <td>Health Care</td>\n",
       "      <td>over 1b dollar</td>\n",
       "    </tr>\n",
       "    <tr>\n",
       "      <th>2</th>\n",
       "      <td>Data Analyst</td>\n",
       "      <td>4.1</td>\n",
       "      <td>51.5</td>\n",
       "      <td>NY</td>\n",
       "      <td>Information Technology</td>\n",
       "      <td>10m-100m dollar</td>\n",
       "    </tr>\n",
       "    <tr>\n",
       "      <th>3</th>\n",
       "      <td>Reporting Data Analyst</td>\n",
       "      <td>3.9</td>\n",
       "      <td>51.5</td>\n",
       "      <td>NY</td>\n",
       "      <td>Arts, Entertainment &amp; Recreation</td>\n",
       "      <td>100m-1b dollar</td>\n",
       "    </tr>\n",
       "    <tr>\n",
       "      <th>4</th>\n",
       "      <td>Data Science Analyst</td>\n",
       "      <td>3.7</td>\n",
       "      <td>51.5</td>\n",
       "      <td>NY</td>\n",
       "      <td>Insurance</td>\n",
       "      <td>100m-1b dollar</td>\n",
       "    </tr>\n",
       "  </tbody>\n",
       "</table>\n",
       "</div>"
      ],
      "text/plain": [
       "                                           Job Title  Rating  Salary Estimate  \\\n",
       "0  Data Analyst, Center on Immigration and Justic...     3.2             51.5   \n",
       "1                               Quality Data Analyst     3.8             51.5   \n",
       "2                                       Data Analyst     4.1             51.5   \n",
       "3                             Reporting Data Analyst     3.9             51.5   \n",
       "4                               Data Science Analyst     3.7             51.5   \n",
       "\n",
       "  Location                            Sector          Revenue  \n",
       "0       NY                        Non-Profit   100m-1b dollar  \n",
       "1       NY                       Health Care   over 1b dollar  \n",
       "2       NY            Information Technology  10m-100m dollar  \n",
       "3       NY  Arts, Entertainment & Recreation   100m-1b dollar  \n",
       "4       NY                         Insurance   100m-1b dollar  "
      ]
     },
     "execution_count": 7,
     "metadata": {},
     "output_type": "execute_result"
    }
   ],
   "source": [
    "def standardize_location(str_in):\n",
    "    output=str_in[-2:]\n",
    "    return output\n",
    "df_foruse1['Location'] = df_foruse1['Location'].apply(standardize_location)\n",
    "df1=df_foruse1\n",
    "df1.head()"
   ]
  },
  {
   "cell_type": "markdown",
   "metadata": {},
   "source": [
    "We are interested in whether the job title create any difference in salary estimate. Realizing that the job titles are not standardized, we will standarize the job title by dividing them into junior data analyst, data analyst, and senior data analyst. The following function standardize the job title by checking if it contains the keyword we are looking for."
   ]
  },
  {
   "cell_type": "code",
   "execution_count": 8,
   "metadata": {},
   "outputs": [
    {
     "data": {
      "text/plain": [
       "data analyst           1199\n",
       "senior data analyst     165\n",
       "junior data analyst      49\n",
       "Name: Job Title, dtype: int64"
      ]
     },
     "execution_count": 8,
     "metadata": {},
     "output_type": "execute_result"
    }
   ],
   "source": [
    "def standardize_job(str_in):\n",
    "    str_in=str_in.lower()\n",
    "    if 'senior' in str_in:\n",
    "        output='senior data analyst'\n",
    "    elif 'junior' in str_in:\n",
    "        output='junior data analyst'\n",
    "    else:\n",
    "        output='data analyst'\n",
    "    return output\n",
    "df1['Job Title'] = df_foruse1['Job Title'].apply(standardize_job)\n",
    "df1.head()\n",
    "df_foruse1['Job Title'].value_counts()"
   ]
  },
  {
   "cell_type": "markdown",
   "metadata": {},
   "source": [
    "# Data Analysis & Results"
   ]
  },
  {
   "cell_type": "markdown",
   "metadata": {},
   "source": [
    "All hypothesis test conduct in the following deploys a significance level α=0.05\n",
    "\n",
    "### Job Title\n",
    "\n",
    "We think that different levels of data analysts may lead to a huge gap in the salary. For instance, a senior data analyst will make much more money than an entry level data analyst. Thus, we want to investigate how the level of data analysts will affect the salary. First, we want to take a look at the number for each level of data analysts in this data set, to make sure that we have enough data for each level."
   ]
  },
  {
   "cell_type": "code",
   "execution_count": 9,
   "metadata": {},
   "outputs": [
    {
     "data": {
      "text/plain": [
       "data analyst           1199\n",
       "senior data analyst     165\n",
       "junior data analyst      49\n",
       "Name: Job Title, dtype: int64"
      ]
     },
     "execution_count": 9,
     "metadata": {},
     "output_type": "execute_result"
    }
   ],
   "source": [
    "## YOUR CODE HERE\n",
    "## FEEL FREE TO ADD MULTIPLE CELLS PER SECTION\n",
    "df_foruse1['Job Title'].value_counts()"
   ]
  },
  {
   "cell_type": "markdown",
   "metadata": {},
   "source": [
    "We draw three histograms for ‘senior data analyst’, ‘junior data analyst’, and ‘data analyst’, with the horizontal axis representing the salary in thousands of dollars and the vertical axis representing the proportion of the corresponding salary in each level. From these three histograms we can see that the highest proportion of senior data analysts is 70K dollars, which is higher than the salary corresponding to the highest proportion of the other two levels."
   ]
  },
  {
   "cell_type": "code",
   "execution_count": 10,
   "metadata": {},
   "outputs": [
    {
     "data": {
      "text/plain": [
       "Text(0.5, 0, 'senior data analyst')"
      ]
     },
     "execution_count": 10,
     "metadata": {},
     "output_type": "execute_result"
    },
    {
     "data": {
      "image/png": "[encoded data removed]",
      "text/plain": [
       "<Figure size 432x288 with 3 Axes>"
      ]
     },
     "metadata": {
      "needs_background": "light"
     },
     "output_type": "display_data"
    }
   ],
   "source": [
    "fig, (ax1,ax2,ax3) = plt.subplots(ncols=3,sharey=True)\n",
    "\n",
    "sns.histplot(df1.loc[df1['Job Title'] == 'junior data analyst']['Salary Estimate'],ax=ax1,stat='probability',bins=10,color='m')\n",
    "ax1.set_xlabel('junior data analyst')\n",
    "\n",
    "sns.histplot(df1.loc[df1['Job Title'] == 'data analyst']['Salary Estimate'],stat='probability',bins=10,ax=ax2,color='m')\n",
    "ax2.set_xlabel('data analyst')\n",
    "\n",
    "sns.histplot(df1.loc[df1['Job Title'] == 'senior data analyst']['Salary Estimate'],stat='probability',bins=10,ax=ax3,color='m')\n",
    "ax3.set_xlabel('senior data analyst')"
   ]
  },
  {
   "cell_type": "markdown",
   "metadata": {},
   "source": [
    "To better compare the salary of the three levels of data analysts, we computed the average salary for these three levels. We can see that senior data analysts have the highest average salary and junior data analysts have the lowest average salary."
   ]
  },
  {
   "cell_type": "code",
   "execution_count": 11,
   "metadata": {},
   "outputs": [
    {
     "name": "stdout",
     "output_type": "stream",
     "text": [
      "data analyst mean salary level is  71.15512927439534\n",
      "junior data analyst mean salary level is  63.224489795918366\n",
      "senior data analyst mean salary level is  75.68484848484849\n"
     ]
    }
   ],
   "source": [
    "avg=df1.loc[df1['Job Title'] == 'data analyst']['Salary Estimate'].mean()\n",
    "avg_jr=df1.loc[df1['Job Title'] == 'junior data analyst']['Salary Estimate'].mean()\n",
    "avg_sr=df1.loc[df1['Job Title'] == 'senior data analyst']['Salary Estimate'].mean()\n",
    "print('data analyst mean salary level is ',avg)\n",
    "print('junior data analyst mean salary level is ',avg_jr)\n",
    "print('senior data analyst mean salary level is ',avg_sr)"
   ]
  },
  {
   "cell_type": "markdown",
   "metadata": {},
   "source": [
    "Then we conduct hypothesis tests to compare the true mean salary estimate among junior data analyst, data analyst, and senior data analyst. If we set μ1, μ2, μ3 as the true mean salary level for each category."
   ]
  },
  {
   "cell_type": "code",
   "execution_count": 12,
   "metadata": {},
   "outputs": [],
   "source": [
    "sr=df1.loc[df1['Job Title'] == 'senior data analyst']['Salary Estimate']\n",
    "jr=df1.loc[df1['Job Title'] == 'junior data analyst']['Salary Estimate']\n",
    "data_analyst=df1.loc[df1['Job Title'] == 'data analyst']['Salary Estimate']"
   ]
  },
  {
   "cell_type": "markdown",
   "metadata": {},
   "source": [
    "First we conduct a test on junior data analysts against data analysts. Taking the null hypothesis is μ1=μ2, and the alternative hypothesis is μ1<μ2. The p-value is 0.01 which is smaller than α, then we reject the null and accept the alternative hypothesis. Junior data analysts do have lower salary estimates than data analysts."
   ]
  },
  {
   "cell_type": "code",
   "execution_count": 13,
   "metadata": {},
   "outputs": [
    {
     "data": {
      "text/plain": [
       "0.010111844171525932"
      ]
     },
     "execution_count": 13,
     "metadata": {},
     "output_type": "execute_result"
    }
   ],
   "source": [
    "stats.ttest_ind(data_analyst,sr,alternative='less')\n",
    "t_val=stats.ttest_ind(data_analyst,sr,alternative='less')[0]\n",
    "p_val=stats.ttest_ind(data_analyst,sr,alternative='less')[1]\n",
    "p_val"
   ]
  },
  {
   "cell_type": "markdown",
   "metadata": {},
   "source": [
    "Then we conduct a test on data analysts against senior data analysts. Taking the null hypothesis is μ2=μ3, and the alternative hypothesis is μ2<μ3. The p-value is 0.01 which is smaller than α, then we reject the null and accept the alternative hypothesis. Data analysts do have lower salary estimates than senior data analysts."
   ]
  },
  {
   "cell_type": "code",
   "execution_count": 14,
   "metadata": {},
   "outputs": [
    {
     "data": {
      "text/plain": [
       "0.010233992989044429"
      ]
     },
     "execution_count": 14,
     "metadata": {},
     "output_type": "execute_result"
    }
   ],
   "source": [
    "stats.ttest_ind(jr,data_analyst,alternative='less')\n",
    "t_val=stats.ttest_ind(jr,data_analyst,alternative='less')[0]\n",
    "p_val=stats.ttest_ind(jr,data_analyst,alternative='less')[1]\n",
    "p_val"
   ]
  },
  {
   "cell_type": "markdown",
   "metadata": {},
   "source": [
    "### Location\n",
    "\n",
    "In order to secure the appropriate location to analyze, we need to pick the locations which have enough sample size. We draw a bar plot to show the sample sizes of each location. \n",
    "\n",
    "We can observe that locations “NY”, “CA”, “TX” have enough sample size for our analysis."
   ]
  },
  {
   "cell_type": "code",
   "execution_count": 15,
   "metadata": {},
   "outputs": [
    {
     "data": {
      "text/plain": [
       "<AxesSubplot:xlabel='count', ylabel='Location'>"
      ]
     },
     "execution_count": 15,
     "metadata": {},
     "output_type": "execute_result"
    },
    {
     "data": {
      "image/png": "[encoded data removed]",
      "text/plain": [
       "<Figure size 432x288 with 1 Axes>"
      ]
     },
     "metadata": {
      "needs_background": "light"
     },
     "output_type": "display_data"
    }
   ],
   "source": [
    "#location\n",
    "sns.countplot(y='Location',data=df1)"
   ]
  },
  {
   "cell_type": "markdown",
   "metadata": {},
   "source": [
    "Next, we want to visualize the salary distribution of each location. We use histograms with probability arguments to make the sum of the height of bins in each graph the same, since each location has a different sample size."
   ]
  },
  {
   "cell_type": "code",
   "execution_count": 16,
   "metadata": {},
   "outputs": [
    {
     "data": {
      "text/plain": [
       "Text(0.5, 0, 'TX')"
      ]
     },
     "execution_count": 16,
     "metadata": {},
     "output_type": "execute_result"
    },
    {
     "data": {
      "image/png": "[encoded data removed]",
      "text/plain": [
       "<Figure size 432x288 with 3 Axes>"
      ]
     },
     "metadata": {
      "needs_background": "light"
     },
     "output_type": "display_data"
    }
   ],
   "source": [
    "fig, (ax1,ax2,ax3) = plt.subplots(ncols=3,sharey=True)\n",
    "\n",
    "sns.histplot(df1.loc[df1['Location'] == 'NY']['Salary Estimate'],ax=ax1,stat='probability',bins=10,color='m')\n",
    "ax1.set_xlabel('NY')\n",
    "\n",
    "sns.histplot(df1.loc[df1['Location'] == 'CA']['Salary Estimate'],ax=ax2,stat='probability',bins=10,color='m')\n",
    "ax2.set_xlabel('CA')\n",
    "\n",
    "sns.histplot(df1.loc[df1['Location'] == 'TX']['Salary Estimate'],ax=ax3,stat='probability',bins=10,color='m')\n",
    "ax3.set_xlabel('TX')"
   ]
  },
  {
   "cell_type": "markdown",
   "metadata": {},
   "source": [
    "We can see there may be a difference in salary among three locations. To make sure that there is a difference of salary distribution among these locations, we calculate their mean salary."
   ]
  },
  {
   "cell_type": "code",
   "execution_count": 17,
   "metadata": {},
   "outputs": [
    {
     "name": "stdout",
     "output_type": "stream",
     "text": [
      "NY mean salary level is  70.96875\n",
      "CA mean salary level is  89.83522727272727\n",
      "TX mean salary level is  58.45348837209303\n"
     ]
    }
   ],
   "source": [
    "avg_ny=df1.loc[df1['Location'] == 'NY']['Salary Estimate'].mean()\n",
    "avg_ca=df1.loc[df1['Location'] == 'CA']['Salary Estimate'].mean()\n",
    "avg_tx=df1.loc[df1['Location'] == 'TX']['Salary Estimate'].mean()\n",
    "print('NY mean salary level is ',avg_ny)\n",
    "print('CA mean salary level is ',avg_ca)\n",
    "print('TX mean salary level is ',avg_tx)"
   ]
  },
  {
   "cell_type": "markdown",
   "metadata": {},
   "source": [
    "From the mean salary, we can arrange these three locations by their salary distribution for the following T-test with the null hypothesis: There is no difference between the salary estimate of “location1” and “location2”, and alternative hypothesis: the salary estimate of “location1” is less than the salary estimate of “location2”.\n",
    "\n",
    "We will build 2 T-tests to check if there is a difference of salary distribution in these three locations. First, we compare the salary distribution of Texas and NewYork. The result of the T-test shows that we reject the null hypothesis, the salary estimate of Texas is less than the salary estimate of NewYork.\n",
    "\n",
    "Finally, we build a T-test to check if the salary estimate of NewYork is different from the salary estimate of California. We get an extremely small p-value, and reject the null hypothesis. The salary estimate of NewYork is less than the salary estimate of California."
   ]
  },
  {
   "cell_type": "code",
   "execution_count": 18,
   "metadata": {},
   "outputs": [],
   "source": [
    "tx_salary=df1.loc[df1['Location'] == 'TX']['Salary Estimate']\n",
    "ny_salary=df1.loc[df1['Location'] == 'NY']['Salary Estimate']\n",
    "ca_salary=df1.loc[df1['Location'] == 'CA']['Salary Estimate']"
   ]
  },
  {
   "cell_type": "code",
   "execution_count": 19,
   "metadata": {},
   "outputs": [
    {
     "data": {
      "text/plain": [
       "-7.399239394486738"
      ]
     },
     "execution_count": 19,
     "metadata": {},
     "output_type": "execute_result"
    }
   ],
   "source": [
    "stats.ttest_ind(tx_salary,ny_salary,alternative='less')\n",
    "t_val=stats.ttest_ind(tx_salary,ny_salary,alternative='less')[0]\n",
    "p_val=stats.ttest_ind(tx_salary,ny_salary,alternative='less')[1]\n",
    "t_val"
   ]
  },
  {
   "cell_type": "code",
   "execution_count": 20,
   "metadata": {},
   "outputs": [
    {
     "name": "stdout",
     "output_type": "stream",
     "text": [
      "3.23797261976316e-13\n"
     ]
    }
   ],
   "source": [
    "print(p_val)"
   ]
  },
  {
   "cell_type": "code",
   "execution_count": 21,
   "metadata": {},
   "outputs": [
    {
     "data": {
      "text/plain": [
       "-8.715840614872292"
      ]
     },
     "execution_count": 21,
     "metadata": {},
     "output_type": "execute_result"
    }
   ],
   "source": [
    "stats.ttest_ind(ny_salary,ca_salary,alternative='less')\n",
    "t_val=stats.ttest_ind(ny_salary,ca_salary,alternative='less')[0]\n",
    "p_val=stats.ttest_ind(ny_salary,ca_salary,alternative='less')[1]\n",
    "t_val"
   ]
  },
  {
   "cell_type": "code",
   "execution_count": 22,
   "metadata": {},
   "outputs": [
    {
     "name": "stdout",
     "output_type": "stream",
     "text": [
      "1.6487721793186103e-17\n"
     ]
    }
   ],
   "source": [
    "print(p_val)"
   ]
  },
  {
   "cell_type": "markdown",
   "metadata": {},
   "source": [
    "### Sector\n",
    "\n",
    "Firstly, we utilized the countplot to see the general information for the sector in our dataset. As shown, Information Technology(IT), Business Services(BS), and Finance(F) hire more data analysts than the other sectors do. Thus, we decided to employ these three sectors to generate the following analysis. \n"
   ]
  },
  {
   "cell_type": "code",
   "execution_count": 23,
   "metadata": {},
   "outputs": [
    {
     "data": {
      "text/plain": [
       "<AxesSubplot:xlabel='count', ylabel='Sector'>"
      ]
     },
     "execution_count": 23,
     "metadata": {},
     "output_type": "execute_result"
    },
    {
     "data": {
      "image/png": "[encoded data removed]",
      "text/plain": [
       "<Figure size 432x288 with 1 Axes>"
      ]
     },
     "metadata": {
      "needs_background": "light"
     },
     "output_type": "display_data"
    }
   ],
   "source": [
    "sns.countplot(y='Sector',data=df1)"
   ]
  },
  {
   "cell_type": "markdown",
   "metadata": {},
   "source": [
    "Secondly, as the data is numeric, we utilized a histogram to visualize the distribution for each sector. In general, the data for all three sectors concentrated between 50m to 100m with some data slightly skewed to the right. In other words, most of the data analyst’s salaries range from 50m to 100m. More specifically, for analysts in the sector of Finance and Information Technology, about 50 percent of them get the salary ranging from 60m to 70m; for analysts in the Business Service sector, about 30 percent of analysts get paid at around 60m. Notably, data analysts’ salary level is more concentrated in the Business Service sector than the other two sectors."
   ]
  },
  {
   "cell_type": "code",
   "execution_count": 24,
   "metadata": {},
   "outputs": [
    {
     "data": {
      "text/plain": [
       "Text(0.5, 0, 'Business Services')"
      ]
     },
     "execution_count": 24,
     "metadata": {},
     "output_type": "execute_result"
    },
    {
     "data": {
      "image/png": "[encoded data removed]",
      "text/plain": [
       "<Figure size 432x288 with 3 Axes>"
      ]
     },
     "metadata": {
      "needs_background": "light"
     },
     "output_type": "display_data"
    }
   ],
   "source": [
    "fig, (ax1,ax2,ax3) = plt.subplots(ncols=3,sharey=True)\n",
    "\n",
    "sns.histplot(df1.loc[df1['Sector'] == 'Finance']['Salary Estimate'],stat='probability',bins=10,ax=ax1,color='m')\n",
    "ax1.set_xlabel('Finance')\n",
    "\n",
    "sns.histplot(df1.loc[df1['Sector'] == 'Information Technology']['Salary Estimate'],stat='probability',bins=10,ax=ax2,color='m')\n",
    "ax2.set_xlabel('Information Technology')\n",
    "\n",
    "sns.histplot(df1.loc[df1['Sector'] == 'Business Services']['Salary Estimate'],stat='probability',bins=10,ax=ax3,color='m')\n",
    "ax3.set_xlabel('Business Services')"
   ]
  },
  {
   "cell_type": "markdown",
   "metadata": {},
   "source": [
    "Then, we calculated the average salary is 66m, 72.44m, and 72.19m for the sectors of Finance, IT, and BS, respectively. On average, Data analysts get lower wages in Finance than the other two sectors."
   ]
  },
  {
   "cell_type": "code",
   "execution_count": 25,
   "metadata": {},
   "outputs": [
    {
     "name": "stdout",
     "output_type": "stream",
     "text": [
      "F mean salary level is  66.0\n",
      "IT mean salary level is  72.44642857142857\n",
      "BS mean salary level is  72.19543147208122\n"
     ]
    }
   ],
   "source": [
    "avg_F=df1.loc[df1['Sector'] == 'Finance']['Salary Estimate'].mean()\n",
    "avg_IT=df1.loc[df1['Sector'] == 'Information Technology']['Salary Estimate'].mean()\n",
    "avg_BS=df1.loc[df1['Sector'] == 'Business Services']['Salary Estimate'].mean()\n",
    "print('F mean salary level is ',avg_F)\n",
    "print('IT mean salary level is ',avg_IT)\n",
    "print('BS mean salary level is ',avg_BS)"
   ]
  },
  {
   "cell_type": "code",
   "execution_count": 26,
   "metadata": {},
   "outputs": [],
   "source": [
    "F_salary=df1.loc[df1['Sector'] == 'Finance']['Salary Estimate']\n",
    "IT_salary=df1.loc[df1['Sector'] == 'Information Technology']['Salary Estimate']\n",
    "BS_salary=df1.loc[df1['Sector'] == 'Business Services']['Salary Estimate']"
   ]
  },
  {
   "cell_type": "markdown",
   "metadata": {},
   "source": [
    "We performed a t-test to examine whether the salary difference between the sector of Finance and IT is significant. The p-value of 0.00296, which is less than 0.05, indicates that we can reject the null hypothesis of identical salary, meaning that the salary difference is indeed significant enough between the sectors of Finance and IT."
   ]
  },
  {
   "cell_type": "code",
   "execution_count": 27,
   "metadata": {},
   "outputs": [
    {
     "name": "stdout",
     "output_type": "stream",
     "text": [
      "0.0029663356184525536\n"
     ]
    }
   ],
   "source": [
    "stats.ttest_ind(F_salary,IT_salary,alternative='less')\n",
    "t_val=stats.ttest_ind(F_salary,IT_salary,alternative='less')[0]\n",
    "p_val=stats.ttest_ind(F_salary,IT_salary,alternative='less')[1]\n",
    "print(p_val)"
   ]
  },
  {
   "cell_type": "markdown",
   "metadata": {},
   "source": [
    "We performed a t-test to examine whether the salary difference between the sector of Finance and BS is significant. The p-value of 0.0029, which is less than 0.05, indicates that we can reject the null hypothesis of identical salary, meaning that the salary difference is indeed significant enough between the sectors of Finance and BS."
   ]
  },
  {
   "cell_type": "code",
   "execution_count": 28,
   "metadata": {},
   "outputs": [
    {
     "name": "stdout",
     "output_type": "stream",
     "text": [
      "0.002908527461516048\n"
     ]
    }
   ],
   "source": [
    "stats.ttest_ind(F_salary,BS_salary,alternative='less')\n",
    "t_val=stats.ttest_ind(F_salary,BS_salary,alternative='less')[0]\n",
    "p_val=stats.ttest_ind(F_salary,BS_salary,alternative='less')[1]\n",
    "print(p_val)"
   ]
  },
  {
   "cell_type": "markdown",
   "metadata": {},
   "source": [
    "We performed a t-test to examine whether the salary difference between the sector of Finance and BS is significant. The p-value of 0.5615, which is greater than 0.05, indicates that we fail to reject the null hypothesis of identical salary, meaning that the salary between the sectors of Finance and BS might not be that different."
   ]
  },
  {
   "cell_type": "code",
   "execution_count": 29,
   "metadata": {},
   "outputs": [
    {
     "name": "stdout",
     "output_type": "stream",
     "text": [
      "0.5615389632268661\n"
     ]
    }
   ],
   "source": [
    "stats.ttest_ind(IT_salary,BS_salary,alternative='less')\n",
    "t_val=stats.ttest_ind(IT_salary,BS_salary,alternative='less')[0]\n",
    "p_val=stats.ttest_ind(IT_salary,BS_salary,alternative='less')[1]\n",
    "print(p_val)"
   ]
  },
  {
   "cell_type": "markdown",
   "metadata": {},
   "source": [
    "### Revenue\n",
    "\n",
    "First we draw a count plot that counts the frequency of data within each category (under10m dollar, 10m-100m dollar, 100m-1b dollar, over 1b dollar). From the plot that follows, it is quite obvious that the count of each sort is reasonably high, hence we may include all data into further analysis. \n"
   ]
  },
  {
   "cell_type": "code",
   "execution_count": 30,
   "metadata": {},
   "outputs": [
    {
     "data": {
      "text/plain": [
       "<AxesSubplot:xlabel='count', ylabel='Revenue'>"
      ]
     },
     "execution_count": 30,
     "metadata": {},
     "output_type": "execute_result"
    },
    {
     "data": {
      "image/png": "[encoded data removed]",
      "text/plain": [
       "<Figure size 432x288 with 1 Axes>"
      ]
     },
     "metadata": {
      "needs_background": "light"
     },
     "output_type": "display_data"
    }
   ],
   "source": [
    "sns.countplot(y='Revenue',data=df1)"
   ]
  },
  {
   "cell_type": "markdown",
   "metadata": {},
   "source": [
    "Then we may draw histograms to see the proportion of each salary interval under each specific category of revenue. We use proportion here instead of counts because the total counts of data under each category are unequal. From the histogram below, the differences among the distributions are not obvious. We may conduct further quantitative analysis."
   ]
  },
  {
   "cell_type": "code",
   "execution_count": 40,
   "metadata": {},
   "outputs": [
    {
     "data": {
      "text/plain": [
       "Text(0.5, 0, 'over 1b')"
      ]
     },
     "execution_count": 40,
     "metadata": {},
     "output_type": "execute_result"
    },
    {
     "data": {
      "image/png": "[encoded data removed]",
      "text/plain": [
       "<Figure size 432x288 with 4 Axes>"
      ]
     },
     "metadata": {
      "needs_background": "light"
     },
     "output_type": "display_data"
    }
   ],
   "source": [
    "fig, (ax1,ax2,ax3,ax4) = plt.subplots(ncols=4,sharey=True)\n",
    "\n",
    "sns.histplot(df1.loc[df1['Revenue'] == 'under 10m dollars']['Salary Estimate'],stat='probability',bins=10,ax=ax1,color='m')\n",
    "ax1.set_xlabel('under 10m')\n",
    "\n",
    "sns.histplot(df1.loc[df1['Revenue'] == '10m-100m dollar']['Salary Estimate'],stat='probability',bins=10,ax=ax2,color='m')\n",
    "ax2.set_xlabel('10m-100m')\n",
    "\n",
    "sns.histplot(df1.loc[df1['Revenue'] == '100m-1b dollar']['Salary Estimate'],stat='probability',bins=10,ax=ax3,color='m')\n",
    "ax3.set_xlabel('100m-1b')\n",
    "sns.histplot(df1.loc[df1['Revenue'] == 'over 1b dollar']['Salary Estimate'],stat='probability',bins=10,ax=ax4,color='m')\n",
    "ax4.set_xlabel('over 1b')"
   ]
  },
  {
   "cell_type": "markdown",
   "metadata": {},
   "source": [
    "The following cell prints out the mean salary level for each revenue category. We find that there is no large difference among these four categories. Hence we may conduct hypothesis tests on the data."
   ]
  },
  {
   "cell_type": "code",
   "execution_count": 32,
   "metadata": {},
   "outputs": [
    {
     "name": "stdout",
     "output_type": "stream",
     "text": [
      "100m-1b mean salary level is  71.41016949152542\n",
      "1b+ mean salary level is  71.17320261437908\n",
      "10m-100m mean salary level is  70.53621495327103\n",
      "10m- mean salary level is  73.49350649350649\n"
     ]
    }
   ],
   "source": [
    "avg_100_1b=df1.loc[df1['Revenue'] == '100m-1b dollar']['Salary Estimate'].mean()\n",
    "avg_over1b=df1.loc[df1['Revenue'] == 'over 1b dollar']['Salary Estimate'].mean()\n",
    "avg_10_100=df1.loc[df1['Revenue'] == '10m-100m dollar']['Salary Estimate'].mean()\n",
    "avg_under10m=df1.loc[df1['Revenue'] == 'under 10m dollars']['Salary Estimate'].mean()\n",
    "print('100m-1b mean salary level is ',avg_100_1b)\n",
    "print('1b+ mean salary level is ',avg_over1b)\n",
    "print('10m-100m mean salary level is ',avg_10_100)\n",
    "print('10m- mean salary level is ',avg_under10m)"
   ]
  },
  {
   "cell_type": "markdown",
   "metadata": {},
   "source": [
    "In the cell that follows, we store the salary level of each category into a list. We will test if there are differences among the categories if we select two for comparison. If we set μ1, μ2, μ3, μ4 as the true mean salary level for each category. The null hypothesis is μi=μj, and the alternative hypothesis is μi<μj, if i ≠ j. The following for loop ensures that we makes comparison for each possible combination of two categories. The p-values printed indicates that there are no differences in salary level if we divide the data according to company revenue."
   ]
  },
  {
   "cell_type": "code",
   "execution_count": 33,
   "metadata": {},
   "outputs": [
    {
     "data": {
      "text/plain": [
       "[0.5,\n",
       " 0.3125464789575185,\n",
       " 0.3405809937070715,\n",
       " 0.3125464789575185,\n",
       " 0.3405809937070715,\n",
       " 0.5540783549495134]"
      ]
     },
     "execution_count": 33,
     "metadata": {},
     "output_type": "execute_result"
    }
   ],
   "source": [
    "revenue_100_1b=df1.loc[df1['Revenue'] == '100m-1b dollar']['Salary Estimate']\n",
    "revenue_over1b=df1.loc[df1['Revenue'] == 'over 1b dollar']['Salary Estimate']\n",
    "revenue_10_100=df1.loc[df1['Revenue'] == '10m-100m dollar']['Salary Estimate']\n",
    "revenue_under10m=df1.loc[df1['Revenue'] == '10m-100m dollar']['Salary Estimate']\n",
    "revenueLst = [revenue_under10m,revenue_10_100,revenue_100_1b, revenue_over1b]\n",
    "ttest_result = []\n",
    "for i in range(3):\n",
    "    for j in range(i+1,4):\n",
    "        ttest_result.append(stats.ttest_ind(revenueLst[i], revenueLst[j], alternative='less')[1])\n",
    "        \n",
    "ttest_result"
   ]
  },
  {
   "cell_type": "markdown",
   "metadata": {},
   "source": [
    "### Rating\n",
    "\n",
    "Rating and salary are both considered to be quantitative variables, hence we may deploy scatter plot to see if there is a obvious pattern that shows correlation between these two variales. From the scatter plot shown below, there is no obvious pattern for the distribution of the points, and the line that fits is almost horizontal. We suspect that there is no correlation between rating and salary, and we will verify it by linear regression later."
   ]
  },
  {
   "cell_type": "code",
   "execution_count": 34,
   "metadata": {},
   "outputs": [
    {
     "name": "stderr",
     "output_type": "stream",
     "text": [
      "/opt/conda/lib/python3.9/site-packages/seaborn/regression.py:580: UserWarning: The `size` parameter has been renamed to `height`; please update your code.\n",
      "  warnings.warn(msg, UserWarning)\n"
     ]
    },
    {
     "data": {
      "text/plain": [
       "<seaborn.axisgrid.FacetGrid at 0x7f500a774430>"
      ]
     },
     "execution_count": 34,
     "metadata": {},
     "output_type": "execute_result"
    },
    {
     "data": {
      "image/png": "[encoded data removed]",
      "text/plain": [
       "<Figure size 921.6x576 with 1 Axes>"
      ]
     },
     "metadata": {
      "needs_background": "light"
     },
     "output_type": "display_data"
    }
   ],
   "source": [
    "sns.lmplot(\n",
    "    x='Rating',\n",
    "    y='Salary Estimate',\n",
    "    data=df1,\n",
    "    fit_reg=True,\n",
    "    aspect=1.6,\n",
    "    size=8\n",
    ")"
   ]
  },
  {
   "cell_type": "markdown",
   "metadata": {},
   "source": [
    "\n",
    "We use linear regression to compute the correlation between companies’ rating and salary estimate. Our null hypothesis is that there is no correlation between companies’ ratings and salary estimates. Our alternative hypothesis is that there is a statistically significant correlation between companies’ rating and salary estimate.\n",
    "Here we can see the result of our OLS model. We observe that the p-value is very large. We can not reject the null hypothesis. Based on our model and data, we conclude that there is no statistically significant correlation between companies’ ratings and salary estimate.\n"
   ]
  },
  {
   "cell_type": "code",
   "execution_count": 35,
   "metadata": {},
   "outputs": [
    {
     "name": "stdout",
     "output_type": "stream",
     "text": [
      "                            OLS Regression Results                            \n",
      "==============================================================================\n",
      "Dep. Variable:                 salary   R-squared:                       0.000\n",
      "Model:                            OLS   Adj. R-squared:                 -0.000\n",
      "Method:                 Least Squares   F-statistic:                    0.4468\n",
      "Date:                Thu, 09 Dec 2021   Prob (F-statistic):              0.504\n",
      "Time:                        17:22:41   Log-Likelihood:                -6462.4\n",
      "No. Observations:                1413   AIC:                         1.293e+04\n",
      "Df Residuals:                    1411   BIC:                         1.294e+04\n",
      "Df Model:                           1                                         \n",
      "Covariance Type:            nonrobust                                         \n",
      "==============================================================================\n",
      "                 coef    std err          t      P>|t|      [0.025      0.975]\n",
      "------------------------------------------------------------------------------\n",
      "Intercept     68.8880      3.823     18.020      0.000      61.389      76.387\n",
      "rating         0.6755      1.011      0.668      0.504      -1.307       2.658\n",
      "==============================================================================\n",
      "Omnibus:                      179.498   Durbin-Watson:                   0.084\n",
      "Prob(Omnibus):                  0.000   Jarque-Bera (JB):              261.864\n",
      "Skew:                           0.920   Prob(JB):                     1.37e-57\n",
      "Kurtosis:                       4.030   Cond. No.                         24.8\n",
      "==============================================================================\n",
      "\n",
      "Notes:\n",
      "[1] Standard Errors assume that the covariance matrix of the errors is correctly specified.\n"
     ]
    }
   ],
   "source": [
    "df_use=df1[['Salary Estimate','Rating']]\n",
    "df_use.columns=['salary','rating']\n",
    "outcome_1,predictors_1=patsy.dmatrices('salary~rating',df_use)\n",
    "\n",
    "mod_1=sm.OLS(outcome_1,predictors_1)\n",
    "\n",
    "res_1=mod_1.fit()\n",
    "print(res_1.summary())"
   ]
  },
  {
   "cell_type": "markdown",
   "metadata": {},
   "source": [
    "### Multiple Regression\n",
    "\n",
    "In order to conduct multiple regression analysis, we may limit the values of predictors in a certain range. Here we want to evaluate which factor creates the largest effect on the salary estimate. Considering the representativeness of the sample, we may only select data with location in NY, CA, or TX and the sector of finance, information technology, or business services. The following cell creates a new dataframe containing the data."
   ]
  },
  {
   "cell_type": "code",
   "execution_count": 36,
   "metadata": {},
   "outputs": [
    {
     "data": {
      "text/plain": [
       "(541, 6)"
      ]
     },
     "execution_count": 36,
     "metadata": {},
     "output_type": "execute_result"
    }
   ],
   "source": [
    "df_test=df1.loc[(df1['Location']=='CA') | (df1['Location']=='NY') | (df1['Location']=='TX')]\n",
    "df_test = df_test.loc[(df_test['Sector']=='Finance') | (df_test['Sector']=='Information Technology') | (df_test['Sector']=='Business Services')]\n",
    "df_test.value_counts()\n",
    "df_test.shape"
   ]
  },
  {
   "cell_type": "markdown",
   "metadata": {},
   "source": [
    "We may now conduct multiple regression on the dataframe we created above. From the summary printed below, we may assess the summary printed by comparing the p-values which determine whether the coefficient is 0. Here we find that the p-value of both T.NY and T.TX are 0.000, which indicates that we can conclude that the coefficient for the location variable is not 0, while other p-values are not sufficiently small to reject the null hypothesis of coefficient=0. Hence the location creates the most influence on the salary estimate compared to the other factors selected."
   ]
  },
  {
   "cell_type": "code",
   "execution_count": 37,
   "metadata": {},
   "outputs": [
    {
     "name": "stdout",
     "output_type": "stream",
     "text": [
      "                            OLS Regression Results                            \n",
      "==============================================================================\n",
      "Dep. Variable:                 salary   R-squared:                       0.289\n",
      "Model:                            OLS   Adj. R-squared:                  0.275\n",
      "Method:                 Least Squares   F-statistic:                     21.49\n",
      "Date:                Thu, 09 Dec 2021   Prob (F-statistic):           1.03e-33\n",
      "Time:                        17:22:41   Log-Likelihood:                -2448.3\n",
      "No. Observations:                 541   AIC:                             4919.\n",
      "Df Residuals:                     530   BIC:                             4966.\n",
      "Df Model:                          10                                         \n",
      "Covariance Type:            nonrobust                                         \n",
      "====================================================================================================\n",
      "                                       coef    std err          t      P>|t|      [0.025      0.975]\n",
      "----------------------------------------------------------------------------------------------------\n",
      "Intercept                           92.8957      6.849     13.564      0.000      79.442     106.350\n",
      "sector[T.Finance]                   -4.6519      3.506     -1.327      0.185     -11.539       2.235\n",
      "sector[T.Information Technology]     1.2371      2.143      0.577      0.564      -2.973       5.447\n",
      "title[T.junior data analyst]        -3.9658      5.770     -0.687      0.492     -15.301       7.369\n",
      "title[T.senior data analyst]        -1.0994      2.976     -0.369      0.712      -6.946       4.747\n",
      "location[T.NY]                     -17.9923      2.511     -7.166      0.000     -22.925     -13.060\n",
      "location[T.TX]                     -31.9927      2.298    -13.922      0.000     -36.507     -27.478\n",
      "revenue[T.10m-100m dollar]          -1.7343      2.765     -0.627      0.531      -7.167       3.698\n",
      "revenue[T.over 1b dollar]           -2.1470      2.951     -0.727      0.467      -7.945       3.651\n",
      "revenue[T.under 10m dollars]         1.7408      3.101      0.561      0.575      -4.350       7.832\n",
      "rating                              -0.3725      1.729     -0.215      0.829      -3.769       3.024\n",
      "==============================================================================\n",
      "Omnibus:                       23.452   Durbin-Watson:                   0.173\n",
      "Prob(Omnibus):                  0.000   Jarque-Bera (JB):               25.544\n",
      "Skew:                           0.531   Prob(JB):                     2.84e-06\n",
      "Kurtosis:                       3.085   Cond. No.                         31.0\n",
      "==============================================================================\n",
      "\n",
      "Notes:\n",
      "[1] Standard Errors assume that the covariance matrix of the errors is correctly specified.\n"
     ]
    }
   ],
   "source": [
    "df_use1=df_test[['Salary Estimate','Rating','Sector','Job Title','Location','Revenue']]\n",
    "df_use1.columns=['salary','rating','sector','title','location','revenue']\n",
    "outcome_2,predictors_2=patsy.dmatrices('salary~rating+sector+title+location+revenue',df_use1)\n",
    "\n",
    "mod_2=sm.OLS(outcome_2,predictors_2)\n",
    "\n",
    "res_2=mod_2.fit()\n",
    "print(res_2.summary())"
   ]
  },
  {
   "cell_type": "markdown",
   "metadata": {},
   "source": [
    "# Ethics & Privacy"
   ]
  },
  {
   "cell_type": "markdown",
   "metadata": {},
   "source": [
    "The data we utilize is from Kaggle, with title Data Analyst Jobs, which is public and open source. Thus, the credibility and privacy can be secured. The data set records 2253 observations of people’s salary estimate, location, company rating, size, and job title. This data set will help us to explore the possible relationship between Data Analyst’s salary and other factors in the data set. There is no personal information which would disclose any privacy information. We will take extra effort to check to make sure that any information that may be used to identify private information will be removed.\n",
    "\n",
    "Since we don’t know how the creator of this data set collected the data, and the data set may be a little bit outdated, which is on Jul 14 2020, the data set may be biased. Besides, there may be more underlying factors which affect Data Analyst jobs’ salary, and we can not control these factors. Given these potential or inherent biases, our conclusion from our analysis should not be used to predict the salary of Data Analyst jobs.\n",
    "\n",
    "The practice of Data Analytics has gradually evolved and broadened over time. The dataset we got does not indicate the specific time period of the job listings; thus, the salaries might differ by the enormous confounding variables, such as dynamic economic environment which affect inflation or deflation rates, changes in government policies, natural disasters or disease, such as Covid-19 pandemic. One solution we figure out is to find another dataset with features needed in one single year and perform the same analysis. Then, we would cross validating the result. Specifically, if the conclusion we gained from the original dataset is that location of company is the dominant influencing factor of the data analysts’ salaries, we could examine the result by checking the result from the second dataset which focuses on one single year. If the two datasets indicate the same results, then the conclusion is verdited; otherwise, there might be third factors influencing the salary and further analysis is needed. The dataset only includes the job listings in the United States, with which the conclusions we proposed are not applicable for other countries. Likewise, some data analyst job listings might not be posted online but through direct personal reference and the salaries are not transparent. Other confounding variables which determine the individual’s salaries, such as the size of the company, type of the company’s ownership, annual revenue of the company, are not considered in this project."
   ]
  },
  {
   "cell_type": "markdown",
   "metadata": {},
   "source": [
    "# Conclusion & Discussion"
   ]
  },
  {
   "cell_type": "markdown",
   "metadata": {},
   "source": [
    "### Conclusion\n",
    "\n",
    "In this project, our goal is trying to find a relationship between the job title, location, rating of the company, revenue, sector, and the salary of data analysts. We think one or more of these factors will determine the salary of data analysts, so we hypothesize that there will be a positive correlation between the salary level and these factors. Based on the result from our models, we found that job title, location, and sector will have some influence on the salary level, which have p values less than 0.05, but the revenue and rating of the company will not affect the salary of data analyst very much. Specifically, the location of the company has the greatest impact on the salary level. We utilized t-test and found that senior data analysts have higher salary than data analysts and junior analyst, and junior analysts have lower salary than data analysts. Also, through t-test, the result shows us that California has the highest salary for data analysts, and Texas has relatively low salary among CA, NY, TX three states. Moreover, the IT sector has the highest salary, but there is not much difference between the salary of the business services sector and finance sector. We employed a t-test on revenue and built an OLS model on ratings, the results show that these two factors are not influential to the salary level.\n",
    "\n",
    "### Discussion\n",
    "\n",
    "In data cleaning, it is very hard for us to clean the Job Title of the data. We decide to put them into three categories: data analyst, senior data analyst, and junior data analyst. After we finish cleaning the data, we plan to analyze the relation between salary and other factors in every category of job title. However, we find that the data’s sample size is not large enough to do analysis on each category. Junior data analyst only contains 49 samples. Given such a small sample size, the result of our analysis can not be persuasive. As a result, we have to give up our plan, and analyze job titles just as other factors. When we analyze the potential relationship between region and salary, the distribution of sample’s location is highly uneven. The number of samples that comes from one region can be much larger than the samples that come from another region. With the limited sample size, the number of samples coming from a specific region can be too low to do analysis. This limitation forces us to just pick four regions which have enough sample size. If the sample size is big enough, we believe that our result and conclusion can be more detailed and persuasive.\n"
   ]
  },
  {
   "cell_type": "markdown",
   "metadata": {},
   "source": [
    "# Team Contributions"
   ]
  },
  {
   "cell_type": "markdown",
   "metadata": {},
   "source": [
    "Linda Lin: Overview,data cleaning of job title, EDA on job title, EDA on rating.\n",
    "\n",
    "Pu Tan: Background and Prior Work, data cleaning of sector, EDA on location, Ethics & Privacy.\n",
    "\n",
    "Zefang Yuan: Datasets, data cleaning of revenue, EDA on Sector, Conclusion & discussion.\n",
    "\n",
    "Zixun Zhang: Setup, EDA on revenue, data cleaning of location, Multiple regression of EDA.\n",
    "\n",
    "The team works togeher on research questions and hypothesis and provide support on each others' parts"
   ]
  }
 ],
 "metadata": {
  "kernelspec": {
   "display_name": "Python 3 (ipykernel)",
   "language": "python",
   "name": "python3"
  },
  "language_info": {
   "codemirror_mode": {
    "name": "ipython",
    "version": 3
   },
   "file_extension": ".py",
   "mimetype": "text/x-python",
   "name": "python",
   "nbconvert_exporter": "python",
   "pygments_lexer": "ipython3",
   "version": "3.9.5"
  }
 },
 "nbformat": 4,
 "nbformat_minor": 2
}
