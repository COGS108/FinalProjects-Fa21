{
 "cells": [
  {
   "cell_type": "markdown",
   "metadata": {},
   "source": [
    "# COGS 108 - Predictive Analysis using Team Compositions"
   ]
  },
  {
   "cell_type": "markdown",
   "metadata": {},
   "source": [
    "## Permissions\n",
    "\n",
    "Place an `X` in the appropriate bracket below to specify if you would like your group's project to be made available to the public. (Note that student names will be included (but PIDs will be scraped from any groups who include their PIDs).\n",
    "\n",
    "* [X] YES - make available\n",
    "* [  ] NO - keep private"
   ]
  },
  {
   "cell_type": "markdown",
   "metadata": {},
   "source": [
    "# Overview"
   ]
  },
  {
   "cell_type": "markdown",
   "metadata": {},
   "source": [
    "League of Legends is a popular multiplayer video game where players work on a team, typically composed of five players each, to defeat the enemy team by destroying the enemy nexus. In the matchmaking process, players can select a wide variety of champions (157 unique champions) which all have a unique set of skills, and advantages. In our project, we're working with the competitive aspect of the game where players queue up in a ranked lobby, and compete against other teams with unique team compositions in order to achieve the highest rank. Given the competitive nature of ranked league of legend games, we wondered if it was possible to predict which team was going to win before the game started (matchmaking process) given that the team compositions are revealed before the game starts. If we could create an algorithm to predict which team had a significant probability of winning with high accuracy, then we could leverage the algorithm to instruct players when to dodge the game and find a new matchmaking lobby."
   ]
  },
  {
   "cell_type": "markdown",
   "metadata": {},
   "source": [
    "# Names\n",
    "\n",
    "- Daniel Lam\n",
    "- Jacky Dam\n",
    "- Katherine Lim\n",
    "- Michael Phung"
   ]
  },
  {
   "cell_type": "markdown",
   "metadata": {},
   "source": [
    "<a id='research_question'></a>\n",
    "# Research Question"
   ]
  },
  {
   "cell_type": "markdown",
   "metadata": {},
   "source": [
    "In the game League of Legends, players select certain characters (champions) to play in team-based matches against an opposing team and try to achieve victory. Given a wide selection of team compositions from past matches and whether or not they won or lost, can we determine a team's probability of winning during the matchmaking process of the game?"
   ]
  },
  {
   "cell_type": "markdown",
   "metadata": {},
   "source": [
    "<a id='background'></a>\n",
    "\n",
    "# Background & Prior Work"
   ]
  },
  {
   "cell_type": "markdown",
   "metadata": {},
   "source": [
    "## What is League of Legends?\n",
    "League of Legends is a popular free-to-play Multiplayer Online Battle Arena (MOBA) game in which opposing teams made up of five players clash against each other with the goal of destroying the enemy base. There are various game modes within League of Legends varying from non-competitive \"normal\" games to arcade-like games which are less stressful and less competitive, although they could get a little cutthroat. For our work however, we will look primarily at competitive matches, or \"ranked\". In a competitive match, each team is made up of five unique characters AKA champions and each player has a given role: top lane, jungle, mid lane, bot lane or support/utility.  \n",
    "League of Legends was developed in 2009 by Riot Games and has since then gained much popularity - even becoming the number one e-sport in the world. Its popularity has inaugurated an era where spin off games and TV shows are being created. The streaming television series *Arcane* follows the lore of League of Legends champions and has taken Netflix by storm reaching the top charts and leaving *Squid Game* in the dust. As of late 2021, there are 180 million monthly players (3) which ranks League of Legends as one of the most played video games in history.  \n",
    "\n",
    "Several of our team members have prior experience w/ League of Legends, and worked on previous projects which involves data analysis, data mining, and machine learning. We plan on utilizing the Riot Games API (1) Cassiopeia to extract a large set of data to develop our recommendation algorithm. Additionally, we plan on utilizing python and certain libraries such as: Numpy, Matplotlib, and Scikit-Learn for our data analysis. \n",
    "\n",
    "## What is already known?\n",
    "There are many websites online that analyze individual player stats or champion stats. These statistics cover the whole range from low ranked players who are just learning the game to higher ranked players who have spent numerous hours developing their skill. According to a study done online by github user @leejaeka, each champion can be ranked by their win rates and it is possible to fabricate the \"perfect\" team composition. However, just because we are given how often a champion wins, it does not tell us the overall likelihood of winning given how those champions or organized into specific teams. \n",
    "\n",
    "## Why is this important?\n",
    "Because League of Legends has a huge fanbase for its competitive scene, being able to predict how likely a team is to win based off of their team composition is a powerful tool for the future of esports. Of course, percentages are not deterministic of which professional team will win but they could be used to influence how much money a viewer bets during a fantasy League of Legends game, for example. Alternatively, a team could build their team composition based on how high the win rate is of those champions in a given season. Knowing how compositions perform versus others may change the status quo of the game and may force the game to evolve as players learn more about their probability of winning.\n",
    "\n",
    "#### References:\n",
    "- (1) https://github.com/meraki-analytics/cassiopeia\n",
    "- (2) https://leejaeka.github.io/jaekangai/fastpages/jupyter/2020/10/28/lolpredict.html#Get-dataset\n",
    "- (3) https://leaguefeed.net/did-you-know-total-league-of-legends-player-count-updated/#:~:text=League%20of%20Legends%20player%20count%20in%202021%20has%20reached%20a,to%20their%20TV%20series%2C%20Arcane!"
   ]
  },
  {
   "cell_type": "markdown",
   "metadata": {},
   "source": [
    "# Hypothesis\n"
   ]
  },
  {
   "cell_type": "markdown",
   "metadata": {},
   "source": [
    "We hypothesize that the probability of winning can be predicted given a team's composition of champions. We believe this because certain champions are chosen significantly more than others in competitive play. "
   ]
  },
  {
   "cell_type": "markdown",
   "metadata": {},
   "source": [
    "# Dataset(s)"
   ]
  },
  {
   "cell_type": "markdown",
   "metadata": {},
   "source": [
    "- Dataset Name: match_history.csv\n",
    "- Link to the dataset: https://github.com/COGS108/Group024-Fa21/blob/master/match_history.csv\n",
    "- Number of observations: \n",
    "\n",
    "We extracted this dataset using the Riot Games API library (https://github.com/meraki-analytics/cassiopeia), and contains match history information for many high ranking players (diamond, high elo)."
   ]
  },
  {
   "cell_type": "markdown",
   "metadata": {},
   "source": [
    "# Setup"
   ]
  },
  {
   "cell_type": "code",
   "execution_count": 1,
   "metadata": {},
   "outputs": [],
   "source": [
    "# Import libraries.\n",
    "import numpy as np\n",
    "import pandas as pd\n",
    "import matplotlib.pyplot as plt\n",
    "import seaborn as sns\n",
    "from scipy.stats import ttest_ind\n",
    "\n",
    "import sklearn\n",
    "from sklearn.model_selection import train_test_split\n",
    "from sklearn import linear_model\n",
    "import random"
   ]
  },
  {
   "cell_type": "markdown",
   "metadata": {},
   "source": [
    "# Data Cleaning"
   ]
  },
  {
   "cell_type": "markdown",
   "metadata": {},
   "source": [
    "To understand the data cleaning process, we first need to understand which columns we need from the dataset. We will take a look at what the data looks like, and look for any interesting features."
   ]
  },
  {
   "cell_type": "code",
   "execution_count": 2,
   "metadata": {},
   "outputs": [
    {
     "data": {
      "text/html": [
       "<div>\n",
       "<style scoped>\n",
       "    .dataframe tbody tr th:only-of-type {\n",
       "        vertical-align: middle;\n",
       "    }\n",
       "\n",
       "    .dataframe tbody tr th {\n",
       "        vertical-align: top;\n",
       "    }\n",
       "\n",
       "    .dataframe thead th {\n",
       "        text-align: right;\n",
       "    }\n",
       "</style>\n",
       "<table border=\"1\" class=\"dataframe\">\n",
       "  <thead>\n",
       "    <tr style=\"text-align: right;\">\n",
       "      <th></th>\n",
       "      <th>match_id</th>\n",
       "      <th>duration</th>\n",
       "      <th>summoner_name</th>\n",
       "      <th>side</th>\n",
       "      <th>team_position</th>\n",
       "      <th>summoner_level</th>\n",
       "      <th>win</th>\n",
       "      <th>champion</th>\n",
       "      <th>kills</th>\n",
       "      <th>deaths</th>\n",
       "      <th>assists</th>\n",
       "      <th>damage_to_turrets</th>\n",
       "      <th>gold_earned</th>\n",
       "      <th>turret_takedowns</th>\n",
       "      <th>vision_score</th>\n",
       "      <th>minions_killed</th>\n",
       "      <th>first_blood</th>\n",
       "      <th>first_tower</th>\n",
       "    </tr>\n",
       "  </thead>\n",
       "  <tbody>\n",
       "    <tr>\n",
       "      <th>0</th>\n",
       "      <td>4118898873</td>\n",
       "      <td>0:00:02.072000</td>\n",
       "      <td>Clemency5th</td>\n",
       "      <td>blue</td>\n",
       "      <td>top_lane</td>\n",
       "      <td>195</td>\n",
       "      <td>True</td>\n",
       "      <td>Lillia</td>\n",
       "      <td>7</td>\n",
       "      <td>5</td>\n",
       "      <td>9</td>\n",
       "      <td>1718</td>\n",
       "      <td>13627</td>\n",
       "      <td>3</td>\n",
       "      <td>26</td>\n",
       "      <td>245</td>\n",
       "      <td>False</td>\n",
       "      <td>False</td>\n",
       "    </tr>\n",
       "    <tr>\n",
       "      <th>1</th>\n",
       "      <td>4118898873</td>\n",
       "      <td>0:00:02.072000</td>\n",
       "      <td>PikaGirl</td>\n",
       "      <td>blue</td>\n",
       "      <td>jungle</td>\n",
       "      <td>45</td>\n",
       "      <td>True</td>\n",
       "      <td>Hecarim</td>\n",
       "      <td>7</td>\n",
       "      <td>3</td>\n",
       "      <td>18</td>\n",
       "      <td>0</td>\n",
       "      <td>15672</td>\n",
       "      <td>0</td>\n",
       "      <td>30</td>\n",
       "      <td>59</td>\n",
       "      <td>False</td>\n",
       "      <td>False</td>\n",
       "    </tr>\n",
       "    <tr>\n",
       "      <th>2</th>\n",
       "      <td>4118898873</td>\n",
       "      <td>0:00:02.072000</td>\n",
       "      <td>RSH</td>\n",
       "      <td>blue</td>\n",
       "      <td>mid_lane</td>\n",
       "      <td>242</td>\n",
       "      <td>True</td>\n",
       "      <td>Garen</td>\n",
       "      <td>7</td>\n",
       "      <td>6</td>\n",
       "      <td>10</td>\n",
       "      <td>6265</td>\n",
       "      <td>13097</td>\n",
       "      <td>3</td>\n",
       "      <td>29</td>\n",
       "      <td>208</td>\n",
       "      <td>False</td>\n",
       "      <td>False</td>\n",
       "    </tr>\n",
       "    <tr>\n",
       "      <th>3</th>\n",
       "      <td>4118898873</td>\n",
       "      <td>0:00:02.072000</td>\n",
       "      <td>The Doggo</td>\n",
       "      <td>blue</td>\n",
       "      <td>bot_lane</td>\n",
       "      <td>750</td>\n",
       "      <td>True</td>\n",
       "      <td>Vayne</td>\n",
       "      <td>7</td>\n",
       "      <td>4</td>\n",
       "      <td>6</td>\n",
       "      <td>4925</td>\n",
       "      <td>14166</td>\n",
       "      <td>3</td>\n",
       "      <td>45</td>\n",
       "      <td>250</td>\n",
       "      <td>True</td>\n",
       "      <td>False</td>\n",
       "    </tr>\n",
       "    <tr>\n",
       "      <th>4</th>\n",
       "      <td>4118898873</td>\n",
       "      <td>0:00:02.072000</td>\n",
       "      <td>μREDACTEDμ</td>\n",
       "      <td>blue</td>\n",
       "      <td>utility</td>\n",
       "      <td>96</td>\n",
       "      <td>True</td>\n",
       "      <td>Rakan</td>\n",
       "      <td>3</td>\n",
       "      <td>2</td>\n",
       "      <td>18</td>\n",
       "      <td>983</td>\n",
       "      <td>9170</td>\n",
       "      <td>2</td>\n",
       "      <td>64</td>\n",
       "      <td>36</td>\n",
       "      <td>False</td>\n",
       "      <td>False</td>\n",
       "    </tr>\n",
       "    <tr>\n",
       "      <th>5</th>\n",
       "      <td>4118898873</td>\n",
       "      <td>0:00:02.072000</td>\n",
       "      <td>LTQ JBD</td>\n",
       "      <td>red</td>\n",
       "      <td>top_lane</td>\n",
       "      <td>589</td>\n",
       "      <td>False</td>\n",
       "      <td>Gangplank</td>\n",
       "      <td>5</td>\n",
       "      <td>7</td>\n",
       "      <td>5</td>\n",
       "      <td>4040</td>\n",
       "      <td>17191</td>\n",
       "      <td>3</td>\n",
       "      <td>29</td>\n",
       "      <td>270</td>\n",
       "      <td>False</td>\n",
       "      <td>False</td>\n",
       "    </tr>\n",
       "    <tr>\n",
       "      <th>6</th>\n",
       "      <td>4118898873</td>\n",
       "      <td>0:00:02.072000</td>\n",
       "      <td>ready to sink</td>\n",
       "      <td>red</td>\n",
       "      <td>jungle</td>\n",
       "      <td>360</td>\n",
       "      <td>False</td>\n",
       "      <td>Graves</td>\n",
       "      <td>3</td>\n",
       "      <td>4</td>\n",
       "      <td>12</td>\n",
       "      <td>1694</td>\n",
       "      <td>15248</td>\n",
       "      <td>2</td>\n",
       "      <td>43</td>\n",
       "      <td>71</td>\n",
       "      <td>False</td>\n",
       "      <td>True</td>\n",
       "    </tr>\n",
       "    <tr>\n",
       "      <th>7</th>\n",
       "      <td>4118898873</td>\n",
       "      <td>0:00:02.072000</td>\n",
       "      <td>smart kevin</td>\n",
       "      <td>red</td>\n",
       "      <td>mid_lane</td>\n",
       "      <td>589</td>\n",
       "      <td>False</td>\n",
       "      <td>Yasuo</td>\n",
       "      <td>6</td>\n",
       "      <td>5</td>\n",
       "      <td>5</td>\n",
       "      <td>858</td>\n",
       "      <td>14175</td>\n",
       "      <td>0</td>\n",
       "      <td>23</td>\n",
       "      <td>275</td>\n",
       "      <td>False</td>\n",
       "      <td>False</td>\n",
       "    </tr>\n",
       "    <tr>\n",
       "      <th>8</th>\n",
       "      <td>4118898873</td>\n",
       "      <td>0:00:02.072000</td>\n",
       "      <td>MeloMance</td>\n",
       "      <td>red</td>\n",
       "      <td>bot_lane</td>\n",
       "      <td>44</td>\n",
       "      <td>False</td>\n",
       "      <td>Jhin</td>\n",
       "      <td>5</td>\n",
       "      <td>6</td>\n",
       "      <td>9</td>\n",
       "      <td>3185</td>\n",
       "      <td>13626</td>\n",
       "      <td>3</td>\n",
       "      <td>23</td>\n",
       "      <td>188</td>\n",
       "      <td>False</td>\n",
       "      <td>False</td>\n",
       "    </tr>\n",
       "    <tr>\n",
       "      <th>9</th>\n",
       "      <td>4118898873</td>\n",
       "      <td>0:00:02.072000</td>\n",
       "      <td>Your Cut</td>\n",
       "      <td>red</td>\n",
       "      <td>utility</td>\n",
       "      <td>900</td>\n",
       "      <td>False</td>\n",
       "      <td>Pyke</td>\n",
       "      <td>1</td>\n",
       "      <td>9</td>\n",
       "      <td>9</td>\n",
       "      <td>0</td>\n",
       "      <td>8760</td>\n",
       "      <td>0</td>\n",
       "      <td>121</td>\n",
       "      <td>36</td>\n",
       "      <td>False</td>\n",
       "      <td>False</td>\n",
       "    </tr>\n",
       "    <tr>\n",
       "      <th>10</th>\n",
       "      <td>4112756666</td>\n",
       "      <td>0:00:01.939000</td>\n",
       "      <td>jumpCCburst</td>\n",
       "      <td>blue</td>\n",
       "      <td>top_lane</td>\n",
       "      <td>92</td>\n",
       "      <td>True</td>\n",
       "      <td>Teemo</td>\n",
       "      <td>17</td>\n",
       "      <td>3</td>\n",
       "      <td>13</td>\n",
       "      <td>6680</td>\n",
       "      <td>19941</td>\n",
       "      <td>6</td>\n",
       "      <td>36</td>\n",
       "      <td>205</td>\n",
       "      <td>False</td>\n",
       "      <td>True</td>\n",
       "    </tr>\n",
       "    <tr>\n",
       "      <th>11</th>\n",
       "      <td>4112756666</td>\n",
       "      <td>0:00:01.939000</td>\n",
       "      <td>Valice</td>\n",
       "      <td>blue</td>\n",
       "      <td>bot_lane</td>\n",
       "      <td>196</td>\n",
       "      <td>True</td>\n",
       "      <td>Samira</td>\n",
       "      <td>19</td>\n",
       "      <td>16</td>\n",
       "      <td>9</td>\n",
       "      <td>6044</td>\n",
       "      <td>17303</td>\n",
       "      <td>3</td>\n",
       "      <td>21</td>\n",
       "      <td>162</td>\n",
       "      <td>True</td>\n",
       "      <td>False</td>\n",
       "    </tr>\n",
       "    <tr>\n",
       "      <th>12</th>\n",
       "      <td>4112756666</td>\n",
       "      <td>0:00:01.939000</td>\n",
       "      <td>ASYLUM PLAYER 44</td>\n",
       "      <td>blue</td>\n",
       "      <td>mid_lane</td>\n",
       "      <td>588</td>\n",
       "      <td>True</td>\n",
       "      <td>Yone</td>\n",
       "      <td>17</td>\n",
       "      <td>12</td>\n",
       "      <td>13</td>\n",
       "      <td>1057</td>\n",
       "      <td>17746</td>\n",
       "      <td>0</td>\n",
       "      <td>28</td>\n",
       "      <td>179</td>\n",
       "      <td>False</td>\n",
       "      <td>False</td>\n",
       "    </tr>\n",
       "    <tr>\n",
       "      <th>13</th>\n",
       "      <td>4112756666</td>\n",
       "      <td>0:00:01.939000</td>\n",
       "      <td>EdentKoLhG</td>\n",
       "      <td>blue</td>\n",
       "      <td>jungle</td>\n",
       "      <td>66</td>\n",
       "      <td>True</td>\n",
       "      <td>Trundle</td>\n",
       "      <td>7</td>\n",
       "      <td>10</td>\n",
       "      <td>25</td>\n",
       "      <td>4039</td>\n",
       "      <td>14938</td>\n",
       "      <td>3</td>\n",
       "      <td>42</td>\n",
       "      <td>83</td>\n",
       "      <td>False</td>\n",
       "      <td>False</td>\n",
       "    </tr>\n",
       "    <tr>\n",
       "      <th>14</th>\n",
       "      <td>4112756666</td>\n",
       "      <td>0:00:01.939000</td>\n",
       "      <td>Queens</td>\n",
       "      <td>blue</td>\n",
       "      <td>utility</td>\n",
       "      <td>447</td>\n",
       "      <td>True</td>\n",
       "      <td>Blitzcrank</td>\n",
       "      <td>4</td>\n",
       "      <td>13</td>\n",
       "      <td>26</td>\n",
       "      <td>615</td>\n",
       "      <td>10973</td>\n",
       "      <td>2</td>\n",
       "      <td>41</td>\n",
       "      <td>29</td>\n",
       "      <td>False</td>\n",
       "      <td>False</td>\n",
       "    </tr>\n",
       "    <tr>\n",
       "      <th>15</th>\n",
       "      <td>4112756666</td>\n",
       "      <td>0:00:01.939000</td>\n",
       "      <td>NorCal</td>\n",
       "      <td>red</td>\n",
       "      <td>mid_lane</td>\n",
       "      <td>271</td>\n",
       "      <td>False</td>\n",
       "      <td>Veigar</td>\n",
       "      <td>10</td>\n",
       "      <td>14</td>\n",
       "      <td>6</td>\n",
       "      <td>7258</td>\n",
       "      <td>15451</td>\n",
       "      <td>2</td>\n",
       "      <td>20</td>\n",
       "      <td>202</td>\n",
       "      <td>False</td>\n",
       "      <td>False</td>\n",
       "    </tr>\n",
       "    <tr>\n",
       "      <th>16</th>\n",
       "      <td>4112756666</td>\n",
       "      <td>0:00:01.939000</td>\n",
       "      <td>glad tbh</td>\n",
       "      <td>red</td>\n",
       "      <td>jungle</td>\n",
       "      <td>106</td>\n",
       "      <td>False</td>\n",
       "      <td>Fiddlesticks</td>\n",
       "      <td>8</td>\n",
       "      <td>14</td>\n",
       "      <td>11</td>\n",
       "      <td>0</td>\n",
       "      <td>12804</td>\n",
       "      <td>0</td>\n",
       "      <td>56</td>\n",
       "      <td>61</td>\n",
       "      <td>False</td>\n",
       "      <td>False</td>\n",
       "    </tr>\n",
       "    <tr>\n",
       "      <th>17</th>\n",
       "      <td>4112756666</td>\n",
       "      <td>0:00:01.939000</td>\n",
       "      <td>1 k</td>\n",
       "      <td>red</td>\n",
       "      <td>top_lane</td>\n",
       "      <td>515</td>\n",
       "      <td>False</td>\n",
       "      <td>Gnar</td>\n",
       "      <td>5</td>\n",
       "      <td>12</td>\n",
       "      <td>11</td>\n",
       "      <td>0</td>\n",
       "      <td>12614</td>\n",
       "      <td>0</td>\n",
       "      <td>16</td>\n",
       "      <td>156</td>\n",
       "      <td>False</td>\n",
       "      <td>False</td>\n",
       "    </tr>\n",
       "    <tr>\n",
       "      <th>18</th>\n",
       "      <td>4112756666</td>\n",
       "      <td>0:00:01.939000</td>\n",
       "      <td>The Doggo</td>\n",
       "      <td>red</td>\n",
       "      <td>bot_lane</td>\n",
       "      <td>750</td>\n",
       "      <td>False</td>\n",
       "      <td>Ezreal</td>\n",
       "      <td>22</td>\n",
       "      <td>11</td>\n",
       "      <td>9</td>\n",
       "      <td>8400</td>\n",
       "      <td>17960</td>\n",
       "      <td>4</td>\n",
       "      <td>20</td>\n",
       "      <td>160</td>\n",
       "      <td>False</td>\n",
       "      <td>False</td>\n",
       "    </tr>\n",
       "    <tr>\n",
       "      <th>19</th>\n",
       "      <td>4112756666</td>\n",
       "      <td>0:00:01.939000</td>\n",
       "      <td>Raise Spectre</td>\n",
       "      <td>red</td>\n",
       "      <td>utility</td>\n",
       "      <td>36</td>\n",
       "      <td>False</td>\n",
       "      <td>Zyra</td>\n",
       "      <td>9</td>\n",
       "      <td>13</td>\n",
       "      <td>23</td>\n",
       "      <td>2081</td>\n",
       "      <td>12128</td>\n",
       "      <td>1</td>\n",
       "      <td>48</td>\n",
       "      <td>27</td>\n",
       "      <td>False</td>\n",
       "      <td>False</td>\n",
       "    </tr>\n",
       "  </tbody>\n",
       "</table>\n",
       "</div>"
      ],
      "text/plain": [
       "      match_id        duration     summoner_name  side team_position  \\\n",
       "0   4118898873  0:00:02.072000       Clemency5th  blue      top_lane   \n",
       "1   4118898873  0:00:02.072000          PikaGirl  blue        jungle   \n",
       "2   4118898873  0:00:02.072000               RSH  blue      mid_lane   \n",
       "3   4118898873  0:00:02.072000         The Doggo  blue      bot_lane   \n",
       "4   4118898873  0:00:02.072000        μREDACTEDμ  blue       utility   \n",
       "5   4118898873  0:00:02.072000           LTQ JBD   red      top_lane   \n",
       "6   4118898873  0:00:02.072000     ready to sink   red        jungle   \n",
       "7   4118898873  0:00:02.072000       smart kevin   red      mid_lane   \n",
       "8   4118898873  0:00:02.072000         MeloMance   red      bot_lane   \n",
       "9   4118898873  0:00:02.072000          Your Cut   red       utility   \n",
       "10  4112756666  0:00:01.939000       jumpCCburst  blue      top_lane   \n",
       "11  4112756666  0:00:01.939000            Valice  blue      bot_lane   \n",
       "12  4112756666  0:00:01.939000  ASYLUM PLAYER 44  blue      mid_lane   \n",
       "13  4112756666  0:00:01.939000        EdentKoLhG  blue        jungle   \n",
       "14  4112756666  0:00:01.939000            Queens  blue       utility   \n",
       "15  4112756666  0:00:01.939000            NorCal   red      mid_lane   \n",
       "16  4112756666  0:00:01.939000          glad tbh   red        jungle   \n",
       "17  4112756666  0:00:01.939000               1 k   red      top_lane   \n",
       "18  4112756666  0:00:01.939000         The Doggo   red      bot_lane   \n",
       "19  4112756666  0:00:01.939000     Raise Spectre   red       utility   \n",
       "\n",
       "    summoner_level    win      champion  kills  deaths  assists  \\\n",
       "0              195   True        Lillia      7       5        9   \n",
       "1               45   True       Hecarim      7       3       18   \n",
       "2              242   True         Garen      7       6       10   \n",
       "3              750   True         Vayne      7       4        6   \n",
       "4               96   True         Rakan      3       2       18   \n",
       "5              589  False     Gangplank      5       7        5   \n",
       "6              360  False        Graves      3       4       12   \n",
       "7              589  False         Yasuo      6       5        5   \n",
       "8               44  False          Jhin      5       6        9   \n",
       "9              900  False          Pyke      1       9        9   \n",
       "10              92   True         Teemo     17       3       13   \n",
       "11             196   True        Samira     19      16        9   \n",
       "12             588   True          Yone     17      12       13   \n",
       "13              66   True       Trundle      7      10       25   \n",
       "14             447   True    Blitzcrank      4      13       26   \n",
       "15             271  False        Veigar     10      14        6   \n",
       "16             106  False  Fiddlesticks      8      14       11   \n",
       "17             515  False          Gnar      5      12       11   \n",
       "18             750  False        Ezreal     22      11        9   \n",
       "19              36  False          Zyra      9      13       23   \n",
       "\n",
       "    damage_to_turrets  gold_earned  turret_takedowns  vision_score  \\\n",
       "0                1718        13627                 3            26   \n",
       "1                   0        15672                 0            30   \n",
       "2                6265        13097                 3            29   \n",
       "3                4925        14166                 3            45   \n",
       "4                 983         9170                 2            64   \n",
       "5                4040        17191                 3            29   \n",
       "6                1694        15248                 2            43   \n",
       "7                 858        14175                 0            23   \n",
       "8                3185        13626                 3            23   \n",
       "9                   0         8760                 0           121   \n",
       "10               6680        19941                 6            36   \n",
       "11               6044        17303                 3            21   \n",
       "12               1057        17746                 0            28   \n",
       "13               4039        14938                 3            42   \n",
       "14                615        10973                 2            41   \n",
       "15               7258        15451                 2            20   \n",
       "16                  0        12804                 0            56   \n",
       "17                  0        12614                 0            16   \n",
       "18               8400        17960                 4            20   \n",
       "19               2081        12128                 1            48   \n",
       "\n",
       "    minions_killed  first_blood  first_tower  \n",
       "0              245        False        False  \n",
       "1               59        False        False  \n",
       "2              208        False        False  \n",
       "3              250         True        False  \n",
       "4               36        False        False  \n",
       "5              270        False        False  \n",
       "6               71        False         True  \n",
       "7              275        False        False  \n",
       "8              188        False        False  \n",
       "9               36        False        False  \n",
       "10             205        False         True  \n",
       "11             162         True        False  \n",
       "12             179        False        False  \n",
       "13              83        False        False  \n",
       "14              29        False        False  \n",
       "15             202        False        False  \n",
       "16              61        False        False  \n",
       "17             156        False        False  \n",
       "18             160        False        False  \n",
       "19              27        False        False  "
      ]
     },
     "execution_count": 2,
     "metadata": {},
     "output_type": "execute_result"
    }
   ],
   "source": [
    "# Read the CSV file for the player match history. Display a match with all the players.\n",
    "matches = pd.read_csv(\"match_history.csv\")\n",
    "matches.head(20)"
   ]
  },
  {
   "cell_type": "code",
   "execution_count": 3,
   "metadata": {},
   "outputs": [
    {
     "data": {
      "text/plain": [
       "(123000, 18)"
      ]
     },
     "execution_count": 3,
     "metadata": {},
     "output_type": "execute_result"
    }
   ],
   "source": [
    "# Shape of the data set.\n",
    "matches.shape"
   ]
  },
  {
   "cell_type": "code",
   "execution_count": 4,
   "metadata": {},
   "outputs": [
    {
     "data": {
      "text/html": [
       "<div>\n",
       "<style scoped>\n",
       "    .dataframe tbody tr th:only-of-type {\n",
       "        vertical-align: middle;\n",
       "    }\n",
       "\n",
       "    .dataframe tbody tr th {\n",
       "        vertical-align: top;\n",
       "    }\n",
       "\n",
       "    .dataframe thead th {\n",
       "        text-align: right;\n",
       "    }\n",
       "</style>\n",
       "<table border=\"1\" class=\"dataframe\">\n",
       "  <thead>\n",
       "    <tr style=\"text-align: right;\">\n",
       "      <th></th>\n",
       "      <th>match_id</th>\n",
       "      <th>summoner_level</th>\n",
       "      <th>kills</th>\n",
       "      <th>deaths</th>\n",
       "      <th>assists</th>\n",
       "      <th>damage_to_turrets</th>\n",
       "      <th>gold_earned</th>\n",
       "      <th>turret_takedowns</th>\n",
       "      <th>vision_score</th>\n",
       "      <th>minions_killed</th>\n",
       "    </tr>\n",
       "  </thead>\n",
       "  <tbody>\n",
       "    <tr>\n",
       "      <th>count</th>\n",
       "      <td>1.230000e+05</td>\n",
       "      <td>123000.000000</td>\n",
       "      <td>123000.000000</td>\n",
       "      <td>123000.000000</td>\n",
       "      <td>123000.000000</td>\n",
       "      <td>123000.000000</td>\n",
       "      <td>123000.000000</td>\n",
       "      <td>123000.000000</td>\n",
       "      <td>123000.000000</td>\n",
       "      <td>123000.000000</td>\n",
       "    </tr>\n",
       "    <tr>\n",
       "      <th>mean</th>\n",
       "      <td>4.107462e+09</td>\n",
       "      <td>279.115065</td>\n",
       "      <td>5.740943</td>\n",
       "      <td>5.758602</td>\n",
       "      <td>8.141764</td>\n",
       "      <td>2655.856463</td>\n",
       "      <td>10712.291447</td>\n",
       "      <td>1.985951</td>\n",
       "      <td>26.692886</td>\n",
       "      <td>112.918740</td>\n",
       "    </tr>\n",
       "    <tr>\n",
       "      <th>std</th>\n",
       "      <td>6.098136e+07</td>\n",
       "      <td>183.667557</td>\n",
       "      <td>4.422148</td>\n",
       "      <td>3.132728</td>\n",
       "      <td>5.708500</td>\n",
       "      <td>3131.694091</td>\n",
       "      <td>3633.290317</td>\n",
       "      <td>1.990293</td>\n",
       "      <td>19.935407</td>\n",
       "      <td>77.491708</td>\n",
       "    </tr>\n",
       "    <tr>\n",
       "      <th>min</th>\n",
       "      <td>1.162779e+09</td>\n",
       "      <td>31.000000</td>\n",
       "      <td>0.000000</td>\n",
       "      <td>0.000000</td>\n",
       "      <td>0.000000</td>\n",
       "      <td>0.000000</td>\n",
       "      <td>668.000000</td>\n",
       "      <td>0.000000</td>\n",
       "      <td>0.000000</td>\n",
       "      <td>0.000000</td>\n",
       "    </tr>\n",
       "    <tr>\n",
       "      <th>25%</th>\n",
       "      <td>4.104098e+09</td>\n",
       "      <td>113.000000</td>\n",
       "      <td>2.000000</td>\n",
       "      <td>3.000000</td>\n",
       "      <td>4.000000</td>\n",
       "      <td>388.000000</td>\n",
       "      <td>8102.000000</td>\n",
       "      <td>0.000000</td>\n",
       "      <td>14.000000</td>\n",
       "      <td>33.000000</td>\n",
       "    </tr>\n",
       "    <tr>\n",
       "      <th>50%</th>\n",
       "      <td>4.113323e+09</td>\n",
       "      <td>259.000000</td>\n",
       "      <td>5.000000</td>\n",
       "      <td>6.000000</td>\n",
       "      <td>7.000000</td>\n",
       "      <td>1605.000000</td>\n",
       "      <td>10438.000000</td>\n",
       "      <td>1.000000</td>\n",
       "      <td>21.000000</td>\n",
       "      <td>125.000000</td>\n",
       "    </tr>\n",
       "    <tr>\n",
       "      <th>75%</th>\n",
       "      <td>4.117678e+09</td>\n",
       "      <td>408.000000</td>\n",
       "      <td>8.000000</td>\n",
       "      <td>8.000000</td>\n",
       "      <td>11.000000</td>\n",
       "      <td>3900.250000</td>\n",
       "      <td>13072.000000</td>\n",
       "      <td>3.000000</td>\n",
       "      <td>33.000000</td>\n",
       "      <td>175.000000</td>\n",
       "    </tr>\n",
       "    <tr>\n",
       "      <th>max</th>\n",
       "      <td>4.119590e+09</td>\n",
       "      <td>1972.000000</td>\n",
       "      <td>32.000000</td>\n",
       "      <td>22.000000</td>\n",
       "      <td>50.000000</td>\n",
       "      <td>48932.000000</td>\n",
       "      <td>28757.000000</td>\n",
       "      <td>11.000000</td>\n",
       "      <td>209.000000</td>\n",
       "      <td>399.000000</td>\n",
       "    </tr>\n",
       "  </tbody>\n",
       "</table>\n",
       "</div>"
      ],
      "text/plain": [
       "           match_id  summoner_level          kills         deaths  \\\n",
       "count  1.230000e+05   123000.000000  123000.000000  123000.000000   \n",
       "mean   4.107462e+09      279.115065       5.740943       5.758602   \n",
       "std    6.098136e+07      183.667557       4.422148       3.132728   \n",
       "min    1.162779e+09       31.000000       0.000000       0.000000   \n",
       "25%    4.104098e+09      113.000000       2.000000       3.000000   \n",
       "50%    4.113323e+09      259.000000       5.000000       6.000000   \n",
       "75%    4.117678e+09      408.000000       8.000000       8.000000   \n",
       "max    4.119590e+09     1972.000000      32.000000      22.000000   \n",
       "\n",
       "             assists  damage_to_turrets    gold_earned  turret_takedowns  \\\n",
       "count  123000.000000      123000.000000  123000.000000     123000.000000   \n",
       "mean        8.141764        2655.856463   10712.291447          1.985951   \n",
       "std         5.708500        3131.694091    3633.290317          1.990293   \n",
       "min         0.000000           0.000000     668.000000          0.000000   \n",
       "25%         4.000000         388.000000    8102.000000          0.000000   \n",
       "50%         7.000000        1605.000000   10438.000000          1.000000   \n",
       "75%        11.000000        3900.250000   13072.000000          3.000000   \n",
       "max        50.000000       48932.000000   28757.000000         11.000000   \n",
       "\n",
       "        vision_score  minions_killed  \n",
       "count  123000.000000   123000.000000  \n",
       "mean       26.692886      112.918740  \n",
       "std        19.935407       77.491708  \n",
       "min         0.000000        0.000000  \n",
       "25%        14.000000       33.000000  \n",
       "50%        21.000000      125.000000  \n",
       "75%        33.000000      175.000000  \n",
       "max       209.000000      399.000000  "
      ]
     },
     "execution_count": 4,
     "metadata": {},
     "output_type": "execute_result"
    }
   ],
   "source": [
    "# Get descriptive statistics for the different variables.\n",
    "matches.describe()"
   ]
  },
  {
   "cell_type": "code",
   "execution_count": 5,
   "metadata": {},
   "outputs": [
    {
     "data": {
      "text/plain": [
       "match_id              int64\n",
       "duration             object\n",
       "summoner_name        object\n",
       "side                 object\n",
       "team_position        object\n",
       "summoner_level        int64\n",
       "win                    bool\n",
       "champion             object\n",
       "kills                 int64\n",
       "deaths                int64\n",
       "assists               int64\n",
       "damage_to_turrets     int64\n",
       "gold_earned           int64\n",
       "turret_takedowns      int64\n",
       "vision_score          int64\n",
       "minions_killed        int64\n",
       "first_blood            bool\n",
       "first_tower            bool\n",
       "dtype: object"
      ]
     },
     "execution_count": 5,
     "metadata": {},
     "output_type": "execute_result"
    }
   ],
   "source": [
    "# Column data types.\n",
    "matches.dtypes"
   ]
  },
  {
   "cell_type": "code",
   "execution_count": 6,
   "metadata": {},
   "outputs": [
    {
     "data": {
      "text/plain": [
       "['match_id',\n",
       " 'duration',\n",
       " 'summoner_name',\n",
       " 'side',\n",
       " 'team_position',\n",
       " 'summoner_level',\n",
       " 'win',\n",
       " 'champion',\n",
       " 'kills',\n",
       " 'deaths',\n",
       " 'assists',\n",
       " 'damage_to_turrets',\n",
       " 'gold_earned',\n",
       " 'turret_takedowns',\n",
       " 'vision_score',\n",
       " 'minions_killed',\n",
       " 'first_blood',\n",
       " 'first_tower']"
      ]
     },
     "execution_count": 6,
     "metadata": {},
     "output_type": "execute_result"
    }
   ],
   "source": [
    "# list the column values\n",
    "list(matches)"
   ]
  },
  {
   "cell_type": "markdown",
   "metadata": {},
   "source": [
    "# Interpreting the Data"
   ]
  },
  {
   "cell_type": "markdown",
   "metadata": {},
   "source": [
    "From the information above, the data set contains the match history of 8380 players. Since each match_id contains 10 players, that means we have a total of `123000 / 10` games which means that we have 12300 total matches. There are 18 variables for every player..."
   ]
  },
  {
   "cell_type": "markdown",
   "metadata": {},
   "source": [
    "Looking at the above columns, there are a few variables that are necessary in determining the probability of winning for a given team composition. The following are the variables that we thought would prove helpful:  \n",
    "- *match_id*: unique number that correlates to a single match or game.\n",
    "- *champion*: the character that the player chose.\n",
    "- *win*: the result of a player during a specific match.\n",
    "- *team_position*: the 'role' of the player during the match (their position in the match).\n",
    "- *side*: the team of each player (red or blue).\n",
    "- *kills/deaths/assists*: the score of the player during the specific match (aka KDA), statistic that shows how well the player performed during the match.\n",
    "\n",
    "We decided to remove the following columns:\n",
    "- *duration*: the total game duration.\n",
    "- *summoner_name*: unique name of the player.\n",
    "- *summoner_level*: the overall level of the given player (does not relate to the match).\n",
    "- *damage_to_turrets*: the amount of damage done to the enemy base (typically does not affect win/loss).\n",
    "- *turret_takedowns*: the number of turrets a player destroyed (was the last source of damage to the tower in destroying it).\n",
    "- *gold_earned*: amount of gold earned by the player during the match by killing minions, destorying turrets, or securing objectives.\n",
    "- *vision_score*: vision score is given based on how many wards they placed down or enemy wards that they destroyed. a ward is an item used by players to reveal the locations of the enemy team.\n",
    "- *minions_killed*: also known as creep score, a number that determines how many neutral/enemy minions were neutralized by the player. killing minions award the player with gold.\n",
    "- *first_blood*: a statistic awarded to the player who was the first to takedown an enemy player.\n",
    "- *first_tower*: a statistic awarded to the player who was the first to takedown an enemy turret."
   ]
  },
  {
   "cell_type": "code",
   "execution_count": 7,
   "metadata": {},
   "outputs": [],
   "source": [
    "# Remove the unwanted columns from the dataset.\n",
    "matches.drop(['summoner_name', \"duration\", 'summoner_level', 'damage_to_turrets', 'gold_earned', 'vision_score', \n",
    "              'minions_killed', 'first_blood', 'first_tower', 'turret_takedowns'], axis = 'columns', \n",
    "              inplace = True)"
   ]
  },
  {
   "cell_type": "code",
   "execution_count": 8,
   "metadata": {},
   "outputs": [
    {
     "data": {
      "text/html": [
       "<div>\n",
       "<style scoped>\n",
       "    .dataframe tbody tr th:only-of-type {\n",
       "        vertical-align: middle;\n",
       "    }\n",
       "\n",
       "    .dataframe tbody tr th {\n",
       "        vertical-align: top;\n",
       "    }\n",
       "\n",
       "    .dataframe thead th {\n",
       "        text-align: right;\n",
       "    }\n",
       "</style>\n",
       "<table border=\"1\" class=\"dataframe\">\n",
       "  <thead>\n",
       "    <tr style=\"text-align: right;\">\n",
       "      <th></th>\n",
       "      <th>match_id</th>\n",
       "      <th>side</th>\n",
       "      <th>team_position</th>\n",
       "      <th>win</th>\n",
       "      <th>champion</th>\n",
       "      <th>kills</th>\n",
       "      <th>deaths</th>\n",
       "      <th>assists</th>\n",
       "    </tr>\n",
       "  </thead>\n",
       "  <tbody>\n",
       "    <tr>\n",
       "      <th>0</th>\n",
       "      <td>4118898873</td>\n",
       "      <td>blue</td>\n",
       "      <td>top_lane</td>\n",
       "      <td>True</td>\n",
       "      <td>Lillia</td>\n",
       "      <td>7</td>\n",
       "      <td>5</td>\n",
       "      <td>9</td>\n",
       "    </tr>\n",
       "    <tr>\n",
       "      <th>1</th>\n",
       "      <td>4118898873</td>\n",
       "      <td>blue</td>\n",
       "      <td>jungle</td>\n",
       "      <td>True</td>\n",
       "      <td>Hecarim</td>\n",
       "      <td>7</td>\n",
       "      <td>3</td>\n",
       "      <td>18</td>\n",
       "    </tr>\n",
       "    <tr>\n",
       "      <th>2</th>\n",
       "      <td>4118898873</td>\n",
       "      <td>blue</td>\n",
       "      <td>mid_lane</td>\n",
       "      <td>True</td>\n",
       "      <td>Garen</td>\n",
       "      <td>7</td>\n",
       "      <td>6</td>\n",
       "      <td>10</td>\n",
       "    </tr>\n",
       "    <tr>\n",
       "      <th>3</th>\n",
       "      <td>4118898873</td>\n",
       "      <td>blue</td>\n",
       "      <td>bot_lane</td>\n",
       "      <td>True</td>\n",
       "      <td>Vayne</td>\n",
       "      <td>7</td>\n",
       "      <td>4</td>\n",
       "      <td>6</td>\n",
       "    </tr>\n",
       "    <tr>\n",
       "      <th>4</th>\n",
       "      <td>4118898873</td>\n",
       "      <td>blue</td>\n",
       "      <td>utility</td>\n",
       "      <td>True</td>\n",
       "      <td>Rakan</td>\n",
       "      <td>3</td>\n",
       "      <td>2</td>\n",
       "      <td>18</td>\n",
       "    </tr>\n",
       "    <tr>\n",
       "      <th>5</th>\n",
       "      <td>4118898873</td>\n",
       "      <td>red</td>\n",
       "      <td>top_lane</td>\n",
       "      <td>False</td>\n",
       "      <td>Gangplank</td>\n",
       "      <td>5</td>\n",
       "      <td>7</td>\n",
       "      <td>5</td>\n",
       "    </tr>\n",
       "    <tr>\n",
       "      <th>6</th>\n",
       "      <td>4118898873</td>\n",
       "      <td>red</td>\n",
       "      <td>jungle</td>\n",
       "      <td>False</td>\n",
       "      <td>Graves</td>\n",
       "      <td>3</td>\n",
       "      <td>4</td>\n",
       "      <td>12</td>\n",
       "    </tr>\n",
       "    <tr>\n",
       "      <th>7</th>\n",
       "      <td>4118898873</td>\n",
       "      <td>red</td>\n",
       "      <td>mid_lane</td>\n",
       "      <td>False</td>\n",
       "      <td>Yasuo</td>\n",
       "      <td>6</td>\n",
       "      <td>5</td>\n",
       "      <td>5</td>\n",
       "    </tr>\n",
       "    <tr>\n",
       "      <th>8</th>\n",
       "      <td>4118898873</td>\n",
       "      <td>red</td>\n",
       "      <td>bot_lane</td>\n",
       "      <td>False</td>\n",
       "      <td>Jhin</td>\n",
       "      <td>5</td>\n",
       "      <td>6</td>\n",
       "      <td>9</td>\n",
       "    </tr>\n",
       "    <tr>\n",
       "      <th>9</th>\n",
       "      <td>4118898873</td>\n",
       "      <td>red</td>\n",
       "      <td>utility</td>\n",
       "      <td>False</td>\n",
       "      <td>Pyke</td>\n",
       "      <td>1</td>\n",
       "      <td>9</td>\n",
       "      <td>9</td>\n",
       "    </tr>\n",
       "  </tbody>\n",
       "</table>\n",
       "</div>"
      ],
      "text/plain": [
       "     match_id  side team_position    win   champion  kills  deaths  assists\n",
       "0  4118898873  blue      top_lane   True     Lillia      7       5        9\n",
       "1  4118898873  blue        jungle   True    Hecarim      7       3       18\n",
       "2  4118898873  blue      mid_lane   True      Garen      7       6       10\n",
       "3  4118898873  blue      bot_lane   True      Vayne      7       4        6\n",
       "4  4118898873  blue       utility   True      Rakan      3       2       18\n",
       "5  4118898873   red      top_lane  False  Gangplank      5       7        5\n",
       "6  4118898873   red        jungle  False     Graves      3       4       12\n",
       "7  4118898873   red      mid_lane  False      Yasuo      6       5        5\n",
       "8  4118898873   red      bot_lane  False       Jhin      5       6        9\n",
       "9  4118898873   red       utility  False       Pyke      1       9        9"
      ]
     },
     "execution_count": 8,
     "metadata": {},
     "output_type": "execute_result"
    }
   ],
   "source": [
    "# Display the dataset with only the columns we want to work with.\n",
    "matches.head(10)"
   ]
  },
  {
   "cell_type": "code",
   "execution_count": 9,
   "metadata": {},
   "outputs": [
    {
     "name": "stdout",
     "output_type": "stream",
     "text": [
      "(123000, 8)\n"
     ]
    },
    {
     "data": {
      "text/plain": [
       "match_id         False\n",
       "side             False\n",
       "team_position    False\n",
       "win              False\n",
       "champion         False\n",
       "kills            False\n",
       "deaths           False\n",
       "assists          False\n",
       "dtype: bool"
      ]
     },
     "execution_count": 9,
     "metadata": {},
     "output_type": "execute_result"
    }
   ],
   "source": [
    "# Check the shape of our new dataset, and check if there exist any missing entries.\n",
    "print(matches.shape)\n",
    "matches.isna().any()"
   ]
  },
  {
   "cell_type": "markdown",
   "metadata": {},
   "source": [
    "Now we want to check whether every match_id only has only 10 players. Any match_id with more than 10 player represents a duplicate match entry which we want to remove. "
   ]
  },
  {
   "cell_type": "code",
   "execution_count": 10,
   "metadata": {},
   "outputs": [
    {
     "data": {
      "text/plain": [
       "4118898873    720\n",
       "4118489546    470\n",
       "4118369503    430\n",
       "4118434340    430\n",
       "4118777341    430\n",
       "             ... \n",
       "4030395433      1\n",
       "4115739824      1\n",
       "4117946307      1\n",
       "4117057476      1\n",
       "4100345588      1\n",
       "Name: match_id, Length: 8129, dtype: int64"
      ]
     },
     "execution_count": 10,
     "metadata": {},
     "output_type": "execute_result"
    }
   ],
   "source": [
    "# Check if there's any duplicate matches (match_ids w/ more than 10 players)\n",
    "matches['match_id'].value_counts()"
   ]
  },
  {
   "cell_type": "code",
   "execution_count": 11,
   "metadata": {},
   "outputs": [],
   "source": [
    "# Drop any duplicate matches that appear more than once\n",
    "matches = matches.drop_duplicates()"
   ]
  },
  {
   "cell_type": "code",
   "execution_count": 12,
   "metadata": {},
   "outputs": [
    {
     "data": {
      "text/plain": [
       "4118898873    10\n",
       "4119454258    10\n",
       "4118175450    10\n",
       "4116854036    10\n",
       "4116879673    10\n",
       "              ..\n",
       "4104149188     1\n",
       "4104661288     1\n",
       "4103307491     1\n",
       "4117057476     1\n",
       "4100345588     1\n",
       "Name: match_id, Length: 8129, dtype: int64"
      ]
     },
     "execution_count": 12,
     "metadata": {},
     "output_type": "execute_result"
    }
   ],
   "source": [
    "# Show that we removed duplicate matches (match_ids only have 10 players each)\n",
    "matches['match_id'].value_counts()"
   ]
  },
  {
   "cell_type": "markdown",
   "metadata": {},
   "source": [
    "Since we still have matches with less than 10 players, we want to remove those as well, as those are invalid matches."
   ]
  },
  {
   "cell_type": "code",
   "execution_count": 13,
   "metadata": {},
   "outputs": [
    {
     "data": {
      "text/plain": [
       "4118898873    10\n",
       "4117017116    10\n",
       "4100929740    10\n",
       "4102286314    10\n",
       "4104657610    10\n",
       "              ..\n",
       "4105402652    10\n",
       "4105472841    10\n",
       "4105626009    10\n",
       "4105617816    10\n",
       "4100421559    10\n",
       "Name: match_id, Length: 8069, dtype: int64"
      ]
     },
     "execution_count": 13,
     "metadata": {},
     "output_type": "execute_result"
    }
   ],
   "source": [
    "matches_dict = dict(matches['match_id'].value_counts() == 10)\n",
    "match_id = []\n",
    "\n",
    "for i in matches_dict:\n",
    "    if matches_dict[i] == True:\n",
    "        match_id.append(i)\n",
    "        \n",
    "matches = matches[matches[\"match_id\"].isin(match_id)]\n",
    "matches['match_id'].value_counts()"
   ]
  },
  {
   "cell_type": "markdown",
   "metadata": {},
   "source": [
    "Now our dataset only contains 8069 unique match_ids which all have 10 players each."
   ]
  },
  {
   "cell_type": "markdown",
   "metadata": {},
   "source": [
    "# Data Analysis & Results"
   ]
  },
  {
   "cell_type": "markdown",
   "metadata": {},
   "source": [
    "### Processing the data for our predictive model\n",
    "We want to parse through every match, derive the blue team composition and red team composition in order to feed our machine learning model."
   ]
  },
  {
   "cell_type": "code",
   "execution_count": 14,
   "metadata": {},
   "outputs": [],
   "source": [
    "match_ids = []\n",
    "blue_comp = [] \n",
    "red_comp = []\n",
    "win_comp = []\n",
    "lose_comp = []\n",
    "\n",
    "# After cleaning our data, every 10 iterations represents a unique match with 10 players.\n",
    "for i in range(0, len(matches), 10):\n",
    "    blue_temp = []\n",
    "    red_temp = []\n",
    "    win_temp = []\n",
    "    lose_temp = []\n",
    "    \n",
    "    # Record the match_id.\n",
    "    match_ids.append(matches.iloc[i]['match_id'])\n",
    "    \n",
    "    # Parse the first 5 players in the match representing the blue team, extract their team composition into an array representing whether they won/lost.\n",
    "    for j in range(0, 5):\n",
    "        blue_temp.append(matches.iloc[int(i + j)]['champion'])\n",
    "        if matches.iloc[int(i + j)]['win']:\n",
    "            win_temp.append(matches.iloc[int(i + j)]['champion'])\n",
    "        else:\n",
    "            lose_temp.append(matches.iloc[int(i + j)]['champion'])\n",
    "    # Parse the last 5 players in the match representing the red team, extract their team composition into an array representing whether they won/lost.\n",
    "    for j in range(5, 10):\n",
    "        red_temp.append(matches.iloc[int(i + j)]['champion'])\n",
    "        if matches.iloc[int(i + j)]['win']:\n",
    "            win_temp.append(matches.iloc[int(i + j)]['champion'])\n",
    "        else:\n",
    "            lose_temp.append(matches.iloc[int(i + j)]['champion'])\n",
    "        \n",
    "    blue_comp.append(blue_temp)\n",
    "    red_comp.append(red_temp)\n",
    "    win_comp.append(win_temp)\n",
    "    lose_comp.append(lose_temp)"
   ]
  },
  {
   "cell_type": "markdown",
   "metadata": {},
   "source": [
    "After running the above code, we wind up with data lists that contain information for each match depending on index.\n",
    "For example, here are the team compositions for the first match in our data:"
   ]
  },
  {
   "cell_type": "code",
   "execution_count": 15,
   "metadata": {},
   "outputs": [
    {
     "name": "stdout",
     "output_type": "stream",
     "text": [
      "Match ID: 4118898873\n",
      "Red Team Composition: ['Gangplank', 'Graves', 'Yasuo', 'Jhin', 'Pyke']\n",
      "Blue Team Composition: ['Lillia', 'Hecarim', 'Garen', 'Vayne', 'Rakan']\n"
     ]
    }
   ],
   "source": [
    "# Display the team compositions for the first match\n",
    "print(\"Match ID: \" + str(match_ids[0]))\n",
    "print(\"Red Team Composition: \" + str(red_comp[0]))\n",
    "print(\"Blue Team Composition: \" + str(blue_comp[0]))"
   ]
  },
  {
   "cell_type": "markdown",
   "metadata": {},
   "source": [
    "We want to think about each champion in terms of their team position, so we will "
   ]
  },
  {
   "cell_type": "code",
   "execution_count": 16,
   "metadata": {},
   "outputs": [
    {
     "data": {
      "text/html": [
       "<div>\n",
       "<style scoped>\n",
       "    .dataframe tbody tr th:only-of-type {\n",
       "        vertical-align: middle;\n",
       "    }\n",
       "\n",
       "    .dataframe tbody tr th {\n",
       "        vertical-align: top;\n",
       "    }\n",
       "\n",
       "    .dataframe thead th {\n",
       "        text-align: right;\n",
       "    }\n",
       "</style>\n",
       "<table border=\"1\" class=\"dataframe\">\n",
       "  <thead>\n",
       "    <tr style=\"text-align: right;\">\n",
       "      <th></th>\n",
       "      <th>champion</th>\n",
       "      <th>team_position</th>\n",
       "    </tr>\n",
       "  </thead>\n",
       "  <tbody>\n",
       "    <tr>\n",
       "      <th>0</th>\n",
       "      <td>Lillia</td>\n",
       "      <td>top_lane</td>\n",
       "    </tr>\n",
       "    <tr>\n",
       "      <th>1</th>\n",
       "      <td>Hecarim</td>\n",
       "      <td>jungle</td>\n",
       "    </tr>\n",
       "    <tr>\n",
       "      <th>2</th>\n",
       "      <td>Garen</td>\n",
       "      <td>mid_lane</td>\n",
       "    </tr>\n",
       "    <tr>\n",
       "      <th>3</th>\n",
       "      <td>Vayne</td>\n",
       "      <td>bot_lane</td>\n",
       "    </tr>\n",
       "    <tr>\n",
       "      <th>4</th>\n",
       "      <td>Rakan</td>\n",
       "      <td>utility</td>\n",
       "    </tr>\n",
       "  </tbody>\n",
       "</table>\n",
       "</div>"
      ],
      "text/plain": [
       "  champion team_position\n",
       "0   Lillia      top_lane\n",
       "1  Hecarim        jungle\n",
       "2    Garen      mid_lane\n",
       "3    Vayne      bot_lane\n",
       "4    Rakan       utility"
      ]
     },
     "execution_count": 16,
     "metadata": {},
     "output_type": "execute_result"
    }
   ],
   "source": [
    "# Remove duplicate champions, team_positions which appear more than once.\n",
    "df = matches[[\"champion\", \"team_position\"]].drop_duplicates()\n",
    "df.head()"
   ]
  },
  {
   "cell_type": "code",
   "execution_count": 17,
   "metadata": {},
   "outputs": [],
   "source": [
    "# Calculate the number of games won, lost for each champion in their respective role\n",
    "win_df = matches[matches[\"win\"]==True].groupby([\"champion\", \"team_position\"]).count().drop(columns=[\"match_id\", \"side\", \"kills\", \"deaths\", \"assists\"])\n",
    "lose_df = matches[matches[\"win\"]==False].groupby([\"champion\", \"team_position\"]).count().rename(columns={\"win\":\"lose\"}).drop(columns=[\"match_id\", \"side\", \"kills\", \"deaths\", \"assists\"])"
   ]
  },
  {
   "cell_type": "code",
   "execution_count": 18,
   "metadata": {},
   "outputs": [],
   "source": [
    "# Merge the number of games won, lost for each champion in their respective role\n",
    "df = df.merge(win_df, left_on=[\"champion\", \"team_position\"], right_on=[\"champion\", \"team_position\"])\n",
    "df = df.merge(lose_df, left_on=[\"champion\", \"team_position\"], right_on=[\"champion\", \"team_position\"])"
   ]
  },
  {
   "cell_type": "code",
   "execution_count": 19,
   "metadata": {},
   "outputs": [],
   "source": [
    "# Create a column for the total games played for each champion in their respective role\n",
    "df[\"games_played\"] = df[\"win\"]+df[\"lose\"]"
   ]
  },
  {
   "cell_type": "code",
   "execution_count": 20,
   "metadata": {},
   "outputs": [],
   "source": [
    "# Calculate the win rate for each champion in their respective role\n",
    "df[\"win_rate\"] = df[\"win\"]/df[\"games_played\"]"
   ]
  },
  {
   "cell_type": "code",
   "execution_count": 21,
   "metadata": {},
   "outputs": [],
   "source": [
    "# Sort the data frame by the most picked champions\n",
    "df = df.sort_values(by=\"games_played\", ascending=False)"
   ]
  },
  {
   "cell_type": "code",
   "execution_count": 22,
   "metadata": {},
   "outputs": [
    {
     "data": {
      "text/html": [
       "<div>\n",
       "<style scoped>\n",
       "    .dataframe tbody tr th:only-of-type {\n",
       "        vertical-align: middle;\n",
       "    }\n",
       "\n",
       "    .dataframe tbody tr th {\n",
       "        vertical-align: top;\n",
       "    }\n",
       "\n",
       "    .dataframe thead th {\n",
       "        text-align: right;\n",
       "    }\n",
       "</style>\n",
       "<table border=\"1\" class=\"dataframe\">\n",
       "  <thead>\n",
       "    <tr style=\"text-align: right;\">\n",
       "      <th></th>\n",
       "      <th>champion</th>\n",
       "      <th>team_position</th>\n",
       "      <th>win</th>\n",
       "      <th>lose</th>\n",
       "      <th>games_played</th>\n",
       "      <th>win_rate</th>\n",
       "    </tr>\n",
       "  </thead>\n",
       "  <tbody>\n",
       "    <tr>\n",
       "      <th>0</th>\n",
       "      <td>Jhin</td>\n",
       "      <td>bot_lane</td>\n",
       "      <td>1020</td>\n",
       "      <td>954</td>\n",
       "      <td>1974</td>\n",
       "      <td>0.516717</td>\n",
       "    </tr>\n",
       "    <tr>\n",
       "      <th>1</th>\n",
       "      <td>Jinx</td>\n",
       "      <td>bot_lane</td>\n",
       "      <td>856</td>\n",
       "      <td>844</td>\n",
       "      <td>1700</td>\n",
       "      <td>0.503529</td>\n",
       "    </tr>\n",
       "    <tr>\n",
       "      <th>2</th>\n",
       "      <td>Caitlyn</td>\n",
       "      <td>bot_lane</td>\n",
       "      <td>789</td>\n",
       "      <td>780</td>\n",
       "      <td>1569</td>\n",
       "      <td>0.502868</td>\n",
       "    </tr>\n",
       "    <tr>\n",
       "      <th>3</th>\n",
       "      <td>Ezreal</td>\n",
       "      <td>bot_lane</td>\n",
       "      <td>564</td>\n",
       "      <td>623</td>\n",
       "      <td>1187</td>\n",
       "      <td>0.475147</td>\n",
       "    </tr>\n",
       "    <tr>\n",
       "      <th>4</th>\n",
       "      <td>Lulu</td>\n",
       "      <td>utility</td>\n",
       "      <td>602</td>\n",
       "      <td>546</td>\n",
       "      <td>1148</td>\n",
       "      <td>0.524390</td>\n",
       "    </tr>\n",
       "  </tbody>\n",
       "</table>\n",
       "</div>"
      ],
      "text/plain": [
       "  champion team_position   win  lose  games_played  win_rate\n",
       "0     Jhin      bot_lane  1020   954          1974  0.516717\n",
       "1     Jinx      bot_lane   856   844          1700  0.503529\n",
       "2  Caitlyn      bot_lane   789   780          1569  0.502868\n",
       "3   Ezreal      bot_lane   564   623          1187  0.475147\n",
       "4     Lulu       utility   602   546          1148  0.524390"
      ]
     },
     "execution_count": 22,
     "metadata": {},
     "output_type": "execute_result"
    }
   ],
   "source": [
    "# Reset the indicies, and display the data frame.\n",
    "# The indicies are now ranked by the total number of games played.\n",
    "df = df.reset_index(drop=True)\n",
    "df.head()"
   ]
  },
  {
   "cell_type": "markdown",
   "metadata": {},
   "source": [
    "Now, we want to look at barplots of the win rate for the top 10 most popular champions in each role/team position."
   ]
  },
  {
   "cell_type": "code",
   "execution_count": 23,
   "metadata": {},
   "outputs": [
    {
     "data": {
      "image/png": "[encoded data removed]",
      "text/plain": [
       "<Figure size 1584x864 with 5 Axes>"
      ]
     },
     "metadata": {
      "needs_background": "light"
     },
     "output_type": "display_data"
    }
   ],
   "source": [
    "fig, axs = plt.subplots(ncols=3, nrows=2, figsize=(22,12))\n",
    "fig.delaxes(axs[1][2])\n",
    "\n",
    "sns.barplot(x=\"win_rate\", y=\"champion\", ax=axs[0][0], data=df[df[\"team_position\"]==\"top_lane\"][:10]).set(title='top_lane')\n",
    "sns.barplot(x=\"win_rate\", y=\"champion\", ax=axs[1][0], data=df[df[\"team_position\"]==\"mid_lane\"][:10]).set(title='mid_lane')\n",
    "sns.barplot(x=\"win_rate\", y=\"champion\", ax=axs[0][1], data=df[df[\"team_position\"]==\"bot_lane\"][:10]).set(title='bot_lane')\n",
    "sns.barplot(x=\"win_rate\", y=\"champion\", ax=axs[1][1], data=df[df[\"team_position\"]==\"utility\"][:10]).set(title='utility')\n",
    "sns.barplot(x=\"win_rate\", y=\"champion\", ax=axs[0][2], data=df[df[\"team_position\"]==\"jungle\"][:10]).set(title='jungle')\n",
    "fig.tight_layout()\n",
    "plt.show()"
   ]
  },
  {
   "cell_type": "markdown",
   "metadata": {},
   "source": [
    "From these graphs, we can see that across all the different team positions, the top 10 champions end up having a winrate around 0.5, which is a pretty evenly balanced rate."
   ]
  },
  {
   "cell_type": "code",
   "execution_count": 24,
   "metadata": {},
   "outputs": [
    {
     "data": {
      "image/png": "[encoded data removed]",
      "text/plain": [
       "<Figure size 1440x1440 with 5 Axes>"
      ]
     },
     "metadata": {
      "needs_background": "light"
     },
     "output_type": "display_data"
    }
   ],
   "source": [
    "fig, axs = plt.subplots(ncols=2, nrows=3, figsize=(20,20))\n",
    "fig.delaxes(axs[2][1])\n",
    "\n",
    "sns.barplot(x=\"win_rate\", y=\"champion\", ax=axs[0][0], data=df[(df[\"team_position\"]==\"top_lane\") & (df[\"games_played\"] > 50)].sort_values(by=\"win_rate\", ascending=False)[:10]).set(title='top_lane')\n",
    "sns.barplot(x=\"win_rate\", y=\"champion\", ax=axs[0][1], data=df[(df[\"team_position\"]==\"mid_lane\")  & (df[\"games_played\"] > 50)].sort_values(by=\"win_rate\", ascending=False)[:10]).set(title='mid_lane')\n",
    "sns.barplot(x=\"win_rate\", y=\"champion\", ax=axs[1][0], data=df[(df[\"team_position\"]==\"bot_lane\")  & (df[\"games_played\"] > 50)].sort_values(by=\"win_rate\", ascending=False)[:10]).set(title='bot_lane')\n",
    "sns.barplot(x=\"win_rate\", y=\"champion\", ax=axs[1][1], data=df[(df[\"team_position\"]==\"utility\")  & (df[\"games_played\"] > 50)].sort_values(by=\"win_rate\", ascending=False)[:10]).set(title='utility')\n",
    "sns.barplot(x=\"win_rate\", y=\"champion\", ax=axs[2][0], data=df[(df[\"team_position\"]==\"jungle\")  & (df[\"games_played\"] > 50)].sort_values(by=\"win_rate\", ascending=False)[:10]).set(title='jungle')\n",
    "fig.tight_layout()\n",
    "plt.show()"
   ]
  },
  {
   "cell_type": "markdown",
   "metadata": {},
   "source": [
    "The barplots above display the highest win rates of the champions played in their respective roles with more than 50 games played in total. From the barplots, we can see that there exist champions in every role which has a high win rate (60%). Perhaps we could see whether the champions in each lane with the highest win rate would make a suitable team in our predictive model."
   ]
  },
  {
   "cell_type": "code",
   "execution_count": 25,
   "metadata": {},
   "outputs": [
    {
     "data": {
      "image/png": "[encoded data removed]",
      "text/plain": [
       "<Figure size 1440x1440 with 5 Axes>"
      ]
     },
     "metadata": {
      "needs_background": "light"
     },
     "output_type": "display_data"
    }
   ],
   "source": [
    "fig, axs = plt.subplots(ncols=2, nrows=3, figsize=(20,20))\n",
    "fig.delaxes(axs[2][1])\n",
    "\n",
    "sns.barplot(x=\"win_rate\", y=\"champion\", ax=axs[0][0], data=df[(df[\"team_position\"]==\"top_lane\") & (df[\"games_played\"] > 50)].sort_values(by=\"win_rate\", ascending=True)[:10]).set(title='top_lane')\n",
    "sns.barplot(x=\"win_rate\", y=\"champion\", ax=axs[0][1], data=df[(df[\"team_position\"]==\"mid_lane\")  & (df[\"games_played\"] > 50)].sort_values(by=\"win_rate\", ascending=True)[:10]).set(title='mid_lane')\n",
    "sns.barplot(x=\"win_rate\", y=\"champion\", ax=axs[1][0], data=df[(df[\"team_position\"]==\"bot_lane\")  & (df[\"games_played\"] > 50)].sort_values(by=\"win_rate\", ascending=True)[:10]).set(title='bot_lane')\n",
    "sns.barplot(x=\"win_rate\", y=\"champion\", ax=axs[1][1], data=df[(df[\"team_position\"]==\"utility\")  & (df[\"games_played\"] > 50)].sort_values(by=\"win_rate\", ascending=True)[:10]).set(title='utility')\n",
    "sns.barplot(x=\"win_rate\", y=\"champion\", ax=axs[2][0], data=df[(df[\"team_position\"]==\"jungle\")  & (df[\"games_played\"] > 50)].sort_values(by=\"win_rate\", ascending=True)[:10]).set(title='jungle')\n",
    "fig.tight_layout()\n",
    "plt.show()"
   ]
  },
  {
   "cell_type": "markdown",
   "metadata": {},
   "source": [
    "The barplots above display the lowest win rates of the champions played in their respective roles with more than 50 games played in total. From the barplots, we can see that there exist champions in every role which has a low win rate of about 40%. Perhaps we could see whether the champions in each lane with the lowest win rate would have a low probability of winning in our model."
   ]
  },
  {
   "cell_type": "markdown",
   "metadata": {},
   "source": [
    "The cell below concatenates the the team compositions, and whether the team composition won or not."
   ]
  },
  {
   "cell_type": "code",
   "execution_count": 26,
   "metadata": {},
   "outputs": [],
   "source": [
    "data = [(win_comp[i], True) for i in range(len(match_ids))]\n",
    "data += [(lose_comp[i], False) for i in range(len(match_ids))]"
   ]
  },
  {
   "cell_type": "markdown",
   "metadata": {},
   "source": [
    "The cell below creates a data structure for the champions in the game, and will be used in our model as one hot encoded features."
   ]
  },
  {
   "cell_type": "code",
   "execution_count": 27,
   "metadata": {},
   "outputs": [],
   "source": [
    "champion_dict = dict(enumerate(np.unique([i[0] for i in data])))\n",
    "champion_dict = dict((v,k) for k,v in champion_dict.items())"
   ]
  },
  {
   "cell_type": "markdown",
   "metadata": {},
   "source": [
    "This creates the one hot encoded champion feature which we will feed into our logistic regression model to make predictions."
   ]
  },
  {
   "cell_type": "code",
   "execution_count": 28,
   "metadata": {},
   "outputs": [],
   "source": [
    "def feat(datum):\n",
    "    feat = [1]\n",
    "    for champion_selected in datum[0]:\n",
    "        champion = [0]*len(champion_dict)\n",
    "        champion[champion_dict[champion_selected]] = 1\n",
    "        feat += champion\n",
    "    return feat"
   ]
  },
  {
   "cell_type": "markdown",
   "metadata": {},
   "source": [
    "The cell below shuffles the data, and creates the train set with their respective labels."
   ]
  },
  {
   "cell_type": "code",
   "execution_count": 29,
   "metadata": {},
   "outputs": [],
   "source": [
    "random.shuffle(data)\n",
    "X_train = [feat(d) for d in data]\n",
    "y_train = [d[1] for d in data]"
   ]
  },
  {
   "cell_type": "markdown",
   "metadata": {},
   "source": [
    "We will train the model using Logistic Regression using the train set, and their respective labels (win or lost)."
   ]
  },
  {
   "cell_type": "code",
   "execution_count": 30,
   "metadata": {},
   "outputs": [
    {
     "name": "stderr",
     "output_type": "stream",
     "text": [
      "/opt/conda/lib/python3.9/site-packages/sklearn/linear_model/_logistic.py:763: ConvergenceWarning: lbfgs failed to converge (status=1):\n",
      "STOP: TOTAL NO. of ITERATIONS REACHED LIMIT.\n",
      "\n",
      "Increase the number of iterations (max_iter) or scale the data as shown in:\n",
      "    https://scikit-learn.org/stable/modules/preprocessing.html\n",
      "Please also refer to the documentation for alternative solver options:\n",
      "    https://scikit-learn.org/stable/modules/linear_model.html#logistic-regression\n",
      "  n_iter_i = _check_optimize_result(\n"
     ]
    },
    {
     "data": {
      "text/plain": [
       "LogisticRegression(C=1, class_weight='balanced')"
      ]
     },
     "execution_count": 30,
     "metadata": {},
     "output_type": "execute_result"
    }
   ],
   "source": [
    "model = sklearn.linear_model.LogisticRegression(penalty=\"l2\", fit_intercept=True, C=1, class_weight=\"balanced\")\n",
    "model.fit(X_train, y_train)"
   ]
  },
  {
   "cell_type": "markdown",
   "metadata": {},
   "source": [
    "The cell below displays the probability of winning for a random match with a winning team composition, and a losing team composition. If the probability of winning for the win comp is more than the probability of winning for the lose comp, our model would make an accurate prediction."
   ]
  },
  {
   "cell_type": "code",
   "execution_count": 31,
   "metadata": {},
   "outputs": [
    {
     "name": "stdout",
     "output_type": "stream",
     "text": [
      "Win Team Composition: ['Darius', 'Nidalee', 'Malzahar', 'Miss Fortune', 'Janna']\n",
      "Probability of Winning: 0.4768232925616526\n",
      "\n",
      "Lose Team Composition: ['Lucian', 'Fiddlesticks', 'Xerath', 'Riven', 'Lulu']\n",
      "Probability of Winning: 0.3500306021212663\n"
     ]
    }
   ],
   "source": [
    "team_composition = np.random.randint(len(data)/2)\n",
    "prob = model.predict_proba([feat((win_comp[team_composition], True))])\n",
    "print(\"Win Team Composition: \" + str(win_comp[team_composition]))\n",
    "print(\"Probability of Winning: \" + str(prob[0][1]))\n",
    "print()\n",
    "prob = model.predict_proba([feat((lose_comp[team_composition], True))])\n",
    "print(\"Lose Team Composition: \" + str(lose_comp[team_composition]))\n",
    "print(\"Probability of Winning: \" + str(prob[0][1]))"
   ]
  },
  {
   "cell_type": "markdown",
   "metadata": {},
   "source": [
    "The cell below displays the probability of winning for the team composition (champions w/ highest win rates from the barplots above) against the team composition (champions w/ lowest win rates from barplots above). "
   ]
  },
  {
   "cell_type": "code",
   "execution_count": 32,
   "metadata": {},
   "outputs": [
    {
     "name": "stdout",
     "output_type": "stream",
     "text": [
      "Best Team Composition: ['Rumble', 'Garen', 'Pantheon', 'Karthus', 'Vex']\n",
      "Probability of Winning: 0.8967458639037902\n",
      "\n",
      "Worse Team Composition: ['Kennen', 'Rumble', 'Jayce', 'Varus', 'Pantheon']\n",
      "Probability of Winning: 0.08307742147669775\n"
     ]
    }
   ],
   "source": [
    "best_comp = [\"Rumble\", \"Garen\", \"Pantheon\", \"Karthus\", \"Vex\"]\n",
    "prob = model.predict_proba([feat((best_comp, \"N/A\"))])\n",
    "print(\"Best Team Composition: \" + str(best_comp))\n",
    "print(\"Probability of Winning: \" + str(prob[0][1]))\n",
    "print()\n",
    "worse_comp = [\"Kennen\", \"Rumble\", \"Jayce\", \"Varus\", \"Pantheon\"]\n",
    "prob = model.predict_proba([feat((worse_comp, \"N/A\"))])\n",
    "print(\"Worse Team Composition: \" + str(worse_comp))\n",
    "print(\"Probability of Winning: \" + str(prob[0][1]))"
   ]
  },
  {
   "cell_type": "markdown",
   "metadata": {},
   "source": [
    "The cell below calculates the accuracy of the model on the training data set. We ended up getting a training accuracy of about 60% which is higher than the baseline 50% accuracy (randomly guessing)."
   ]
  },
  {
   "cell_type": "code",
   "execution_count": 33,
   "metadata": {
    "scrolled": true
   },
   "outputs": [
    {
     "name": "stdout",
     "output_type": "stream",
     "text": [
      "Training Accuracy: 0.6065187755607881\n"
     ]
    }
   ],
   "source": [
    "correct = 0\n",
    "for i in range(len(win_comp)):\n",
    "    if model.predict_proba([feat((win_comp[i], True))])[0][1] > model.predict_proba([feat((lose_comp[i], False))])[0][1]:\n",
    "        correct += 1\n",
    "print(\"Training Accuracy: \" + str(correct/len(win_comp)))"
   ]
  },
  {
   "cell_type": "markdown",
   "metadata": {},
   "source": [
    "The cell below sets up the evaluation of our model on a test set, which is populated with data from another player in a similar ranking to the player we used to populate the training data."
   ]
  },
  {
   "cell_type": "code",
   "execution_count": 34,
   "metadata": {},
   "outputs": [
    {
     "name": "stdout",
     "output_type": "stream",
     "text": [
      "Match ID: 4105292087\n",
      "Red Team Composition: ['Fiora', 'Evelynn', 'Caitlyn', \"Kai'Sa\", 'Lulu']\n",
      "Blue Team Composition: ['Wukong', 'Qiyana', 'Katarina', 'Miss Fortune', 'Zyra']\n"
     ]
    }
   ],
   "source": [
    "matches = pd.read_csv(\"match_history_test.csv\")\n",
    "matches.drop(['summoner_name', \"duration\", 'summoner_level', 'damage_to_turrets', 'gold_earned', 'vision_score', \n",
    "              'minions_killed', 'first_blood', 'first_tower', 'turret_takedowns'], axis = 'columns', \n",
    "              inplace = True)\n",
    "matches = matches.drop_duplicates()\n",
    "matches_dict = dict(matches['match_id'].value_counts() == 10)\n",
    "match_id = []\n",
    "\n",
    "for i in matches_dict:\n",
    "    if matches_dict[i] == True:\n",
    "        match_id.append(i)\n",
    "        \n",
    "matches = matches[matches[\"match_id\"].isin(match_id)]\n",
    "\n",
    "\n",
    "match_ids = []\n",
    "blue_comp = [] \n",
    "red_comp = []\n",
    "win_comp = []\n",
    "lose_comp = []\n",
    "\n",
    "# After cleaning our data, every 10 iterations represents a unique match with 10 players.\n",
    "for i in range(0, len(matches), 10):\n",
    "    blue_temp = []\n",
    "    red_temp = []\n",
    "    win_temp = []\n",
    "    lose_temp = []\n",
    "    \n",
    "    # Record the match_id.\n",
    "    match_ids.append(matches.iloc[i]['match_id'])\n",
    "    \n",
    "    # Parse the first 5 players in the match representing the blue team, extract their team composition into an array representing whether they won/lost.\n",
    "    for j in range(0, 5):\n",
    "        blue_temp.append(matches.iloc[int(i + j)]['champion'])\n",
    "        if matches.iloc[int(i + j)]['win']:\n",
    "            win_temp.append(matches.iloc[int(i + j)]['champion'])\n",
    "        else:\n",
    "            lose_temp.append(matches.iloc[int(i + j)]['champion'])\n",
    "    # Parse the last 5 players in the match representing the red team, extract their team composition into an array representing whether they won/lost.\n",
    "    for j in range(5, 10):\n",
    "        red_temp.append(matches.iloc[int(i + j)]['champion'])\n",
    "        if matches.iloc[int(i + j)]['win']:\n",
    "            win_temp.append(matches.iloc[int(i + j)]['champion'])\n",
    "        else:\n",
    "            lose_temp.append(matches.iloc[int(i + j)]['champion'])\n",
    "        \n",
    "    blue_comp.append(blue_temp)\n",
    "    red_comp.append(red_temp)\n",
    "    win_comp.append(win_temp)\n",
    "    lose_comp.append(lose_temp)\n",
    "\n",
    "# Display the team compositions for the first match\n",
    "print(\"Match ID: \" + str(match_ids[0]))\n",
    "print(\"Red Team Composition: \" + str(red_comp[0]))\n",
    "print(\"Blue Team Composition: \" + str(blue_comp[0]))"
   ]
  },
  {
   "cell_type": "markdown",
   "metadata": {},
   "source": [
    "The cell below calculates the accuracy of the model on the test set. We ended up getting about 58% accuracy on a set of data derived using a different player with a high ranking. This accuracy demonstates that it's possible to create a model to learn whether a team is going to win based on the team composition. "
   ]
  },
  {
   "cell_type": "code",
   "execution_count": 35,
   "metadata": {},
   "outputs": [
    {
     "name": "stdout",
     "output_type": "stream",
     "text": [
      "Test Accuracy: 0.5776173285198556\n"
     ]
    }
   ],
   "source": [
    "correct = 0\n",
    "for i in range(len(win_comp)):\n",
    "    if model.predict_proba([feat((win_comp[i], True))])[0][1] > model.predict_proba([feat((lose_comp[i], False))])[0][1]:\n",
    "        correct += 1\n",
    "print(\"Test Accuracy: \" + str(correct/len(win_comp)))"
   ]
  },
  {
   "cell_type": "markdown",
   "metadata": {},
   "source": [
    "# Ethics & Privacy"
   ]
  },
  {
   "cell_type": "markdown",
   "metadata": {},
   "source": [
    "Since the Riot Games API is not private, all of the data that is being utilized in our dataset is public. We also placed on emphasis on the characters instead of the players in each game. Thus, there are no concerns in terms of privacy.\n",
    "\n",
    "In terms of potential bias for our dataset, League of Legends, as a whole, is has constant updates. There are new updates every 2 weeks which involve release of new champions, certain champions being made stronger or weaker, release of new items, changes in priority for objectives, etc. All of these changes radically change what champions are more or less likely to win a game. This leads to some champion winrates showing a lot of variance when you look at their statistics from a more broad time window, ie. 6 months or a year. Another potential bias is that our dataset mainly consists of matches that are comprised of more skilled players. Players with lower skill level are not able to utilize the strengths of their champions as much as players with higher skill level which will cause variance in the data visualization if we take into account data from all skill levels. \n",
    "\n",
    "We can fix these issues by running our model every 2 weeks in order to keep up with the rapidly changing state of the game. We can also run our model on different datasets that consists of matches that are comprised of players of other skill levels. Employing these fixes will allow us to have a more accurate predictor of overall chance of winning a game based off of the champions picked in the matchmaking process."
   ]
  },
  {
   "cell_type": "markdown",
   "metadata": {},
   "source": [
    "# Conclusion & Discussion"
   ]
  },
  {
   "cell_type": "markdown",
   "metadata": {},
   "source": [
    "After training our machine learning algorithm to predict which team composition has a higher probability of winning, we were able to create a model which performs with an accuracy of 60% on the training set, and 58% on the test set. Given the sheer amount of different champions, and potential team compositions, the model seems to exceed our expectations with its preformance. Given our inital hypothesis, we were able to create a model which exceeds the accuracy of a baseline model which makes random predictions on which team would win (50%). The applications for a model such as this demonstates that team composition has some correlation with whether a team would win a certain matchup before the game even starts, and could be used to decide whether a game is better worth dodging and finding a new match.\n",
    "\n",
    "One of the flaws with our model is that we're limited in the quality of data we can gather from Riot Games (creators of league of legends), and would need to update the dataset for any game updates, and players with low rankings. The applications of such model can be utilized to create a webpage which tells a player whether they should dodge a matchmaking lobby given the team composition, or be used to leverage online gambling websites where people bet on which team would win the game. We've yet to optimize our model to the fullest, but believe that the model could be further improved by possibly implementing multi-layer neural networks, improving the quality of the data, and updating the model for a wide variety of player rankings (high elo, low elo)."
   ]
  },
  {
   "cell_type": "markdown",
   "metadata": {},
   "source": [
    "# Team Contributions"
   ]
  },
  {
   "cell_type": "markdown",
   "metadata": {},
   "source": [
    "* Jacky Dam - I worked on building the webscraper to extract our data, processing the data, and creating the model to make               predictions.\n",
    "\n",
    "* Katherine Lim - EDA/Project Cleaning\n",
    "\n",
    "* Michael Phung - Research Question/Conclusion\n",
    "\n",
    "* Daniel Lam - Data Wrangling/EDA"
   ]
  }
 ],
 "metadata": {
  "kernelspec": {
   "display_name": "Python 3 (ipykernel)",
   "language": "python",
   "name": "python3"
  },
  "language_info": {
   "codemirror_mode": {
    "name": "ipython",
    "version": 3
   },
   "file_extension": ".py",
   "mimetype": "text/x-python",
   "name": "python",
   "nbconvert_exporter": "python",
   "pygments_lexer": "ipython3",
   "version": "3.8.10"
  }
 },
 "nbformat": 4,
 "nbformat_minor": 2
}
