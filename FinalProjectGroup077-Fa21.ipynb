{
 "cells": [
  {
   "cell_type": "markdown",
   "metadata": {},
   "source": [
    "# COGS 108 - Final Project (Relationship between state economic development and vaccine coverage)"
   ]
  },
  {
   "cell_type": "markdown",
   "metadata": {},
   "source": [
    "## Permissions\n",
    "\n",
    "Place an `X` in the appropriate bracket below to specify if you would like your group's project to be made available to the public. (Note that student names will be included (but PIDs will be scraped from any groups who include their PIDs).\n",
    "\n",
    "* [ X ] YES - make available\n",
    "* [  ] NO - keep private"
   ]
  },
  {
   "cell_type": "markdown",
   "metadata": {},
   "source": [
    "# Overview"
   ]
  },
  {
   "cell_type": "markdown",
   "metadata": {},
   "source": [
    "In this project, we hope to investigate if each state’s economy effectively contributes to the spread of COVID-19. We are going to search, collect, and examine the set of data which contain information about the number of people vaccinated for each state, which we will use to determine the proportion of people vaccinated per state and the rate of increase in the vaccinated population per state, and the GDP and personal income since each state's economy varies. Data will be collected mainly through CDC and public government sites for accurate information. Using population as a confounding variable, we explored the relationships between different measures of the state's economy and the vaccination coverage rates and the increase rate of vaccinated population. Through linear regression, we found correlation between vaccination rates and individual income, and a positive correlation between vaccination population growth and individual income. It suggests that there may be a positive relationship between vaccine coverage and a state's economy."
   ]
  },
  {
   "cell_type": "markdown",
   "metadata": {},
   "source": [
    "# Names\n",
    "\n",
    "- Jianfan Huo\n",
    "- Yunhao Du\n",
    "- Yixin Jiang\n",
    "- Yixiao An\n",
    "- Celine Zhao"
   ]
  },
  {
   "cell_type": "markdown",
   "metadata": {},
   "source": [
    "<a id='research_question'></a>\n",
    "# Research Question"
   ]
  },
  {
   "cell_type": "markdown",
   "metadata": {},
   "source": [
    "Is there a positive relationship between state economic development and vaccine coverage？"
   ]
  },
  {
   "cell_type": "markdown",
   "metadata": {},
   "source": [
    "<a id='background'></a>\n",
    "\n",
    "## Background & Prior Work"
   ]
  },
  {
   "cell_type": "markdown",
   "metadata": {},
   "source": [
    "The COVID-19 epidemic is a huge challenge that the whole world is facing together. On January 10-12, 2020, the WTO published documents about how the novel coronavirus(COVID-19) can has high transmission and infection rate, and also guiding people how to manage with this disease[1]. From the beginning of 2020 until now, COVID-19 is still continue affecting people’s live all over the world. The United States also implemented city lockdown and social distancing restriction during the pandemic to try to reduce the spread and impact of COVID-19. Although COVID-19 virus have not be eliminated today, the COVID-19 vaccine was produced and approved to use. \"Since Dec. 11, 2020, the Pfizer-BioNTech COVID-19 Vaccine has been available under EUA in individuals 16 years of age and older \" (U. S. Food and Drug Administration, 2021)[2]. However, the rate of COVID-19 vaccination coverage has not reaching 100% in U.S.. CDC indicates that the national rate of fully vaccination coverage is approximately 58.5% by November 9, 2021, and only 67.5% people have completed at least one dose[3].\n",
    "\n",
    "Data from the New York Times shows that each state has a different completion rate for COVID-19 vaccine, with vaccination coverage rates ranging from 87% to 36%[4]. Based on the statement from FDA, it is known that people can have COVID-19 vaccine for free in U.S.[5]. At March 5, 2021, Pew Research Center reports that in U.S., 14% of low-income adults reported that they had received at least one dose of the vaccine, compared with 20% of middle-income adults and 27% of high-income adults [6]. The rate of vaccination coverage meant to be thought-provoking. Does each state of the economy has an impact on COVID-19 vaccination rate? If there is an impact, what is the relationship between state economy and vaccination rates?\n",
    "\n",
    "References (include links):\n",
    "- 1) https://www.who.int/emergencies/diseases/novel-coronavirus-2019/interactive-timeline#!\n",
    "- 2) https://covid.cdc.gov/covid-data-tracker/#vaccinations_vacc-total-admin-rate-total  \n",
    "- 3) https://www.fda.gov/news-events/press-announcements/fda-approves-first-covid-19-vaccine \n",
    "- 4) https://www.nytimes.com/interactive/2020/us/covid-19-vaccine-doses.html \n",
    "- 5) https://www.fda.gov/consumers/consumer-updates/learn-more-about-covid-19-vaccines-fda#:~:text=FDA%2Dauthorized%20COVID%2D,or%20after%20your%20appointment. \n",
    "- 6) https://www.pewresearch.org/science/2021/03/05/growing-share-of-americans-say-they-plan-to-get-a-covid-19-vaccine-or-already-have/"
   ]
  },
  {
   "cell_type": "markdown",
   "metadata": {},
   "source": [
    "# Hypothesis"
   ]
  },
  {
   "cell_type": "markdown",
   "metadata": {},
   "source": [
    "The vaccine coverage will have positive effect on economy."
   ]
  },
  {
   "cell_type": "markdown",
   "metadata": {},
   "source": [
    "# Dataset(s)"
   ]
  },
  {
   "cell_type": "markdown",
   "metadata": {},
   "source": [
    "1.\n",
    "•\tDataset Name: COVID-19_Vaccinations_in_the_United_States_Jurisdiction.csv\n",
    "\n",
    "•\tLink to the dataset: https://data.cdc.gov/Vaccinations/COVID-19-Vaccinations-in-the-United-States-Jurisdi/unsk-b7fc\n",
    "\n",
    "•\tNumber of observations: 21208\n",
    "\n",
    "•\tThis dataset contains information about the number of people vaccinated with various vaccines in each state. We will use this dataset to analyze vaccination rates in different states.\n",
    "\n",
    "2.\n",
    "\n",
    "•\tDataset Name: GDP and Personal Income\n",
    "\n",
    "•\tLink to the dataset: https://apps.bea.gov/itable/iTable.cfm?ReqID=70&step=1\n",
    "\n",
    "•\tNumber of observations: 59\n",
    "\n",
    "•\tThis dataset contains the sum of each state's per capita income in the second quarter of 2021. We will use this dataset to analyze the state per capita income and vaccination.\n",
    "\n",
    "3.\n",
    "\n",
    "•\tDataset Name: GDP and Personal Income\n",
    "\n",
    "•\tLink to the dataset: https://apps.bea.gov/itable/iTable.cfm?ReqID=70&step=1\n",
    "\n",
    "•\tNumber of observations: 50\n",
    "\n",
    "•\tThis dataset contains full names and abbreviations of all 50 states. We're going to use this data to abbreviate all of our state names.\n",
    "\n",
    "4.\n",
    "\n",
    "•\tDataset Name: List of All 50 US State Abbreviations\n",
    "\n",
    "•\tLink to the dataset: https://abbreviations.yourdictionary.com/articles/state-abbrev.html \n",
    "\n",
    "•\tNumber of observations: 51\n",
    "\n",
    "•\tThis dataset contains the state abbreviations. And we will use this dataset to rename all the states name as abbreviations.\n",
    "\n",
    "5.\n",
    "\n",
    "•\tDataset Name: US States - Ranked by Population 2021\n",
    "\n",
    "•\tLink to the dataset: https://worldpopulationreview.com/states\n",
    "\n",
    "•\tNumber of observations: 51\n",
    "\n",
    "•\tThis dataset contains the population of each state in America. We will use this dataset to calculate the vaccination rates per state with the vaccinated population of the state."
   ]
  },
  {
   "cell_type": "markdown",
   "metadata": {},
   "source": [
    "# Setup"
   ]
  },
  {
   "cell_type": "code",
   "execution_count": 1,
   "metadata": {},
   "outputs": [],
   "source": [
    "## YOUR CODE HERE\n",
    "## YOUR CODE HERE\n",
    "# import dataframes\n",
    "import pandas as pd\n",
    "\n",
    "# import number manipulation\n",
    "import numpy as np \n",
    "\n",
    "# import data visualization\n",
    "import matplotlib.pyplot as plt\n",
    "import seaborn as sns\n",
    "\n",
    "#import Statmodels & patsy\n",
    "import patsy\n",
    "import statsmodels.api as sm"
   ]
  },
  {
   "cell_type": "code",
   "execution_count": 2,
   "metadata": {},
   "outputs": [],
   "source": [
    "df_vaccine = pd.read_csv('Data/COVID-19_Vaccinations_in_the_United_States_Jurisdiction.csv')\n",
    "df_population = pd.read_csv('Data/Population.csv')\n",
    "df_income = pd.read_csv('Data/net_income.csv')\n",
    "df_GDP = pd.read_csv('Data/states_GDP.csv')"
   ]
  },
  {
   "cell_type": "markdown",
   "metadata": {},
   "source": [
    "# Data Cleaning\n",
    "As we searched, collected, and examined the data, we found that not all of the data set are what we needed for our research topics. We need to pick out the data we need and sort and rename them. From the dataset of COVID-19_Vaccinations_in_the_United_States_Jurisdiction, we extracted the number of vaccinations by state. From the datasets of population, net_income, and states_GDP, we extracted the population of each state, their per capita income, and their GDP.\n",
    "\n",
    "### Steps taken to clean the data：\n",
    "#### df_vaccine:\n",
    "   1. Extract the number of vaccinations by state stored as the dataset named df_vaccine.\n",
    "   2. Only keep the data with 'Date' from \"4/01/2021\" to \"6/30/2021\" and delete all the other in df_vaccine.\n",
    "   3. Change the unit of data to thousands and rename all columns in df_vaccine\n",
    "    \n",
    "#### df_population, df_income, df_gdp:\n",
    "   4. Extract the population of each state stored as the dataset named df_population, rename the state, and remove excess data.\n",
    "   5. Extract the income of each state stored as the dataset named df_income, rename the state, and remove excess data.\n",
    "   6. Extract the GDP of each state stored as the dataset named df_gdp, rename the state, and remove excess data.\n",
    "    \n",
    "#### df_econ:\n",
    "   7. Combine the df_population, df_income, and df_GDP together into the dataset df_econ\n",
    "    \n",
    "#### df:\n",
    "   8. Calculate the total number of vaccinated people between 04/01/2021 and 06/30/2021 for each states. \n",
    "      Calculate the vaccination coverage rates for each states. \n",
    "      Calculate the rate of increase in the vaccinated population. \n",
    "      Add all these result into df_econ and rename df_econ to df. "
   ]
  },
  {
   "cell_type": "markdown",
   "metadata": {},
   "source": [
    "## 1. Extract the number of vaccinations by state stored as the dataset named df_vaccine.\n",
    "Our goal was to analyze whether state economies contributed to the spread of vaccines. The data we need here is the number of vaccinations in 2021 for each region. So, the data we need here is Date, Location, Series_Complete_Yes, Series_Complete_Janssen, Series_Complete_Moderna, Series_Complete_Pfizer, and\tSeries_Complete_Unk_Manuf"
   ]
  },
  {
   "cell_type": "code",
   "execution_count": 3,
   "metadata": {},
   "outputs": [],
   "source": [
    "## YOUR CODE HERE\n",
    "## FEEL FREE TO ADD MULTIPLE CELLS PER SECTION\n",
    "df_vaccine = df_vaccine[['Date', \n",
    "                         'Location', \n",
    "                         'Series_Complete_Yes', \n",
    "                         'Series_Complete_Janssen', \n",
    "                         'Series_Complete_Moderna',\n",
    "                         'Series_Complete_Pfizer',\n",
    "                         'Series_Complete_Unk_Manuf']]"
   ]
  },
  {
   "cell_type": "code",
   "execution_count": 4,
   "metadata": {},
   "outputs": [
    {
     "data": {
      "text/html": [
       "<div>\n",
       "<style scoped>\n",
       "    .dataframe tbody tr th:only-of-type {\n",
       "        vertical-align: middle;\n",
       "    }\n",
       "\n",
       "    .dataframe tbody tr th {\n",
       "        vertical-align: top;\n",
       "    }\n",
       "\n",
       "    .dataframe thead th {\n",
       "        text-align: right;\n",
       "    }\n",
       "</style>\n",
       "<table border=\"1\" class=\"dataframe\">\n",
       "  <thead>\n",
       "    <tr style=\"text-align: right;\">\n",
       "      <th></th>\n",
       "      <th>Date</th>\n",
       "      <th>Location</th>\n",
       "      <th>Series_Complete_Yes</th>\n",
       "      <th>Series_Complete_Janssen</th>\n",
       "      <th>Series_Complete_Moderna</th>\n",
       "      <th>Series_Complete_Pfizer</th>\n",
       "      <th>Series_Complete_Unk_Manuf</th>\n",
       "    </tr>\n",
       "  </thead>\n",
       "  <tbody>\n",
       "    <tr>\n",
       "      <th>0</th>\n",
       "      <td>11/05/2021</td>\n",
       "      <td>SC</td>\n",
       "      <td>2587217</td>\n",
       "      <td>185786</td>\n",
       "      <td>957836</td>\n",
       "      <td>1443294</td>\n",
       "      <td>301</td>\n",
       "    </tr>\n",
       "    <tr>\n",
       "      <th>1</th>\n",
       "      <td>11/05/2021</td>\n",
       "      <td>OR</td>\n",
       "      <td>2661407</td>\n",
       "      <td>228418</td>\n",
       "      <td>950422</td>\n",
       "      <td>1481340</td>\n",
       "      <td>1227</td>\n",
       "    </tr>\n",
       "    <tr>\n",
       "      <th>2</th>\n",
       "      <td>11/05/2021</td>\n",
       "      <td>IN</td>\n",
       "      <td>3365638</td>\n",
       "      <td>259526</td>\n",
       "      <td>1196470</td>\n",
       "      <td>1902099</td>\n",
       "      <td>7543</td>\n",
       "    </tr>\n",
       "    <tr>\n",
       "      <th>3</th>\n",
       "      <td>11/05/2021</td>\n",
       "      <td>NY</td>\n",
       "      <td>13038415</td>\n",
       "      <td>1127875</td>\n",
       "      <td>4619753</td>\n",
       "      <td>7287968</td>\n",
       "      <td>2819</td>\n",
       "    </tr>\n",
       "    <tr>\n",
       "      <th>4</th>\n",
       "      <td>11/05/2021</td>\n",
       "      <td>WI</td>\n",
       "      <td>3409332</td>\n",
       "      <td>276848</td>\n",
       "      <td>1264326</td>\n",
       "      <td>1867685</td>\n",
       "      <td>473</td>\n",
       "    </tr>\n",
       "  </tbody>\n",
       "</table>\n",
       "</div>"
      ],
      "text/plain": [
       "         Date Location  Series_Complete_Yes  Series_Complete_Janssen  \\\n",
       "0  11/05/2021       SC              2587217                   185786   \n",
       "1  11/05/2021       OR              2661407                   228418   \n",
       "2  11/05/2021       IN              3365638                   259526   \n",
       "3  11/05/2021       NY             13038415                  1127875   \n",
       "4  11/05/2021       WI              3409332                   276848   \n",
       "\n",
       "   Series_Complete_Moderna  Series_Complete_Pfizer  Series_Complete_Unk_Manuf  \n",
       "0                   957836                 1443294                        301  \n",
       "1                   950422                 1481340                       1227  \n",
       "2                  1196470                 1902099                       7543  \n",
       "3                  4619753                 7287968                       2819  \n",
       "4                  1264326                 1867685                        473  "
      ]
     },
     "execution_count": 4,
     "metadata": {},
     "output_type": "execute_result"
    }
   ],
   "source": [
    "df_vaccine.head(5)"
   ]
  },
  {
   "cell_type": "markdown",
   "metadata": {},
   "source": [
    "## 2. Only keep the data with 'Date' from \"4/01/2021\" to \"6/30/2021\" and delete all the other in df_vaccine.\n",
    "Current official state personal income data are only available through the first two quarters of 2021, so we need to filter our data again. Because universal vaccination began in March, it didn't widely spread until April. So we decided to use data from the second quarter(April-June) to analyze the impact of each state's economy on vaccination penetration. In this step, we only keep the data with 'Date' from \"4/01/2021\" to \"6/30/2021\" and delete all the other."
   ]
  },
  {
   "cell_type": "code",
   "execution_count": 5,
   "metadata": {},
   "outputs": [
    {
     "data": {
      "text/plain": [
       "Date                         object\n",
       "Location                     object\n",
       "Series_Complete_Yes           int64\n",
       "Series_Complete_Janssen       int64\n",
       "Series_Complete_Moderna       int64\n",
       "Series_Complete_Pfizer        int64\n",
       "Series_Complete_Unk_Manuf     int64\n",
       "dtype: object"
      ]
     },
     "execution_count": 5,
     "metadata": {},
     "output_type": "execute_result"
    }
   ],
   "source": [
    "# Check the type of each data in the dataset \n",
    "df_vaccine.dtypes"
   ]
  },
  {
   "cell_type": "code",
   "execution_count": 6,
   "metadata": {},
   "outputs": [],
   "source": [
    "# Keep the data with 'Date' from \"4/01/2021\" to \"6/30/2021\" and delete all the other.\n",
    "start = \"04/01/2021\"\n",
    "end = \"06/30/2021\"\n",
    "\n",
    "df_vaccine = df_vaccine[(df_vaccine['Date'][:] == start ) | (df_vaccine['Date'][:] == end)]"
   ]
  },
  {
   "cell_type": "code",
   "execution_count": 7,
   "metadata": {},
   "outputs": [
    {
     "data": {
      "text/html": [
       "<div>\n",
       "<style scoped>\n",
       "    .dataframe tbody tr th:only-of-type {\n",
       "        vertical-align: middle;\n",
       "    }\n",
       "\n",
       "    .dataframe tbody tr th {\n",
       "        vertical-align: top;\n",
       "    }\n",
       "\n",
       "    .dataframe thead th {\n",
       "        text-align: right;\n",
       "    }\n",
       "</style>\n",
       "<table border=\"1\" class=\"dataframe\">\n",
       "  <thead>\n",
       "    <tr style=\"text-align: right;\">\n",
       "      <th></th>\n",
       "      <th>Date</th>\n",
       "      <th>Location</th>\n",
       "      <th>Series_Complete_Yes</th>\n",
       "      <th>Series_Complete_Janssen</th>\n",
       "      <th>Series_Complete_Moderna</th>\n",
       "      <th>Series_Complete_Pfizer</th>\n",
       "      <th>Series_Complete_Unk_Manuf</th>\n",
       "    </tr>\n",
       "  </thead>\n",
       "  <tbody>\n",
       "    <tr>\n",
       "      <th>8305</th>\n",
       "      <td>06/30/2021</td>\n",
       "      <td>ME</td>\n",
       "      <td>819500</td>\n",
       "      <td>103312</td>\n",
       "      <td>327721</td>\n",
       "      <td>388364</td>\n",
       "      <td>103</td>\n",
       "    </tr>\n",
       "    <tr>\n",
       "      <th>8306</th>\n",
       "      <td>06/30/2021</td>\n",
       "      <td>UT</td>\n",
       "      <td>1196468</td>\n",
       "      <td>119014</td>\n",
       "      <td>456194</td>\n",
       "      <td>621258</td>\n",
       "      <td>2</td>\n",
       "    </tr>\n",
       "    <tr>\n",
       "      <th>8307</th>\n",
       "      <td>06/30/2021</td>\n",
       "      <td>PA</td>\n",
       "      <td>6345433</td>\n",
       "      <td>537395</td>\n",
       "      <td>2503367</td>\n",
       "      <td>3304347</td>\n",
       "      <td>324</td>\n",
       "    </tr>\n",
       "    <tr>\n",
       "      <th>8308</th>\n",
       "      <td>06/30/2021</td>\n",
       "      <td>GU</td>\n",
       "      <td>89574</td>\n",
       "      <td>4314</td>\n",
       "      <td>32664</td>\n",
       "      <td>52596</td>\n",
       "      <td>0</td>\n",
       "    </tr>\n",
       "    <tr>\n",
       "      <th>8309</th>\n",
       "      <td>06/30/2021</td>\n",
       "      <td>NY</td>\n",
       "      <td>10508196</td>\n",
       "      <td>894628</td>\n",
       "      <td>4043410</td>\n",
       "      <td>5569076</td>\n",
       "      <td>1082</td>\n",
       "    </tr>\n",
       "    <tr>\n",
       "      <th>...</th>\n",
       "      <td>...</td>\n",
       "      <td>...</td>\n",
       "      <td>...</td>\n",
       "      <td>...</td>\n",
       "      <td>...</td>\n",
       "      <td>...</td>\n",
       "      <td>...</td>\n",
       "    </tr>\n",
       "    <tr>\n",
       "      <th>14215</th>\n",
       "      <td>04/01/2021</td>\n",
       "      <td>NH</td>\n",
       "      <td>247295</td>\n",
       "      <td>16199</td>\n",
       "      <td>129723</td>\n",
       "      <td>101367</td>\n",
       "      <td>6</td>\n",
       "    </tr>\n",
       "    <tr>\n",
       "      <th>14216</th>\n",
       "      <td>04/01/2021</td>\n",
       "      <td>KY</td>\n",
       "      <td>798150</td>\n",
       "      <td>45857</td>\n",
       "      <td>358920</td>\n",
       "      <td>393257</td>\n",
       "      <td>116</td>\n",
       "    </tr>\n",
       "    <tr>\n",
       "      <th>14217</th>\n",
       "      <td>04/01/2021</td>\n",
       "      <td>NY</td>\n",
       "      <td>3362056</td>\n",
       "      <td>214142</td>\n",
       "      <td>1434622</td>\n",
       "      <td>1713049</td>\n",
       "      <td>243</td>\n",
       "    </tr>\n",
       "    <tr>\n",
       "      <th>14218</th>\n",
       "      <td>04/01/2021</td>\n",
       "      <td>SC</td>\n",
       "      <td>792963</td>\n",
       "      <td>49667</td>\n",
       "      <td>267357</td>\n",
       "      <td>475736</td>\n",
       "      <td>203</td>\n",
       "    </tr>\n",
       "    <tr>\n",
       "      <th>14219</th>\n",
       "      <td>04/01/2021</td>\n",
       "      <td>NC</td>\n",
       "      <td>1768023</td>\n",
       "      <td>122957</td>\n",
       "      <td>691778</td>\n",
       "      <td>953262</td>\n",
       "      <td>26</td>\n",
       "    </tr>\n",
       "  </tbody>\n",
       "</table>\n",
       "<p>130 rows × 7 columns</p>\n",
       "</div>"
      ],
      "text/plain": [
       "             Date Location  Series_Complete_Yes  Series_Complete_Janssen  \\\n",
       "8305   06/30/2021       ME               819500                   103312   \n",
       "8306   06/30/2021       UT              1196468                   119014   \n",
       "8307   06/30/2021       PA              6345433                   537395   \n",
       "8308   06/30/2021       GU                89574                     4314   \n",
       "8309   06/30/2021       NY             10508196                   894628   \n",
       "...           ...      ...                  ...                      ...   \n",
       "14215  04/01/2021       NH               247295                    16199   \n",
       "14216  04/01/2021       KY               798150                    45857   \n",
       "14217  04/01/2021       NY              3362056                   214142   \n",
       "14218  04/01/2021       SC               792963                    49667   \n",
       "14219  04/01/2021       NC              1768023                   122957   \n",
       "\n",
       "       Series_Complete_Moderna  Series_Complete_Pfizer  \\\n",
       "8305                    327721                  388364   \n",
       "8306                    456194                  621258   \n",
       "8307                   2503367                 3304347   \n",
       "8308                     32664                   52596   \n",
       "8309                   4043410                 5569076   \n",
       "...                        ...                     ...   \n",
       "14215                   129723                  101367   \n",
       "14216                   358920                  393257   \n",
       "14217                  1434622                 1713049   \n",
       "14218                   267357                  475736   \n",
       "14219                   691778                  953262   \n",
       "\n",
       "       Series_Complete_Unk_Manuf  \n",
       "8305                         103  \n",
       "8306                           2  \n",
       "8307                         324  \n",
       "8308                           0  \n",
       "8309                        1082  \n",
       "...                          ...  \n",
       "14215                          6  \n",
       "14216                        116  \n",
       "14217                        243  \n",
       "14218                        203  \n",
       "14219                         26  \n",
       "\n",
       "[130 rows x 7 columns]"
      ]
     },
     "execution_count": 7,
     "metadata": {},
     "output_type": "execute_result"
    }
   ],
   "source": [
    "df_vaccine.reset_index(drop=True)\n",
    "df_vaccine"
   ]
  },
  {
   "cell_type": "markdown",
   "metadata": {},
   "source": [
    "## 3. Change the unit of data to thousands and rename all columns in df_vaccine\n",
    "Change the unit of data in df_vaccine to thousands and round the value up. <br>\n",
    "Renaming all columns with unclear name, sorting all data by date and location, and only keeping the data for 51 states."
   ]
  },
  {
   "cell_type": "code",
   "execution_count": null,
   "metadata": {},
   "outputs": [],
   "source": [
    "# 这个不用在conclusion里面说"
   ]
  },
  {
   "cell_type": "code",
   "execution_count": 8,
   "metadata": {},
   "outputs": [],
   "source": [
    "# Renaming all unclear columns\n",
    "df_vaccine = df_vaccine.rename(columns = {'Series_Complete_Yes':'Num of Vaccinated People in thousand',\n",
    "                        'Series_Complete_Janssen':'Num of Vaccinated People with Janssen in thousand',\n",
    "                         'Series_Complete_Moderna':'Num of Vaccinated People with Moderna in thousand',\n",
    "                         'Series_Complete_Pfizer':'Num of Vaccinated People with Pfizer in thousand',\n",
    "                         'Series_Complete_Unk_Manuf':'Num of Vaccinated People with Unknown Manuf'\n",
    "                        })"
   ]
  },
  {
   "cell_type": "code",
   "execution_count": 9,
   "metadata": {},
   "outputs": [],
   "source": [
    "# Sorting all data by date and location\n",
    "df_vaccine = df_vaccine.sort_values([\"Date\", \"Location\"], ascending = (True, True))\n",
    "df_vaccine = df_vaccine.reset_index(drop=True)"
   ]
  },
  {
   "cell_type": "code",
   "execution_count": 10,
   "metadata": {},
   "outputs": [],
   "source": [
    "# Only keeping the data for 51 states\n",
    "states = ['AL','AK','AZ','AR','CA','CO','CT','DE','DC','FL','GA','HI','ID',\n",
    "          'IL','IN','IA','KS','KY','LA','ME','MD','MA','MI','MN','MS','MO',\n",
    "          'MT','NE','NV','NH','NJ','NM','NY','NC','ND','OH','OK','OR','PA',\n",
    "          'RI','SC','SD','TN','TX','UT','VT','VA','WA','WV','WI','WY']\n",
    "df_vaccine = df_vaccine[(df_vaccine['Location'][:].isin(states))]\n",
    "df_vaccine = df_vaccine.reset_index(drop = True)"
   ]
  },
  {
   "cell_type": "code",
   "execution_count": 11,
   "metadata": {},
   "outputs": [
    {
     "data": {
      "text/html": [
       "<div>\n",
       "<style scoped>\n",
       "    .dataframe tbody tr th:only-of-type {\n",
       "        vertical-align: middle;\n",
       "    }\n",
       "\n",
       "    .dataframe tbody tr th {\n",
       "        vertical-align: top;\n",
       "    }\n",
       "\n",
       "    .dataframe thead th {\n",
       "        text-align: right;\n",
       "    }\n",
       "</style>\n",
       "<table border=\"1\" class=\"dataframe\">\n",
       "  <thead>\n",
       "    <tr style=\"text-align: right;\">\n",
       "      <th></th>\n",
       "      <th>Date</th>\n",
       "      <th>Location</th>\n",
       "      <th>Num of Vaccinated People in thousand</th>\n",
       "      <th>Num of Vaccinated People with Janssen in thousand</th>\n",
       "      <th>Num of Vaccinated People with Moderna in thousand</th>\n",
       "      <th>Num of Vaccinated People with Pfizer in thousand</th>\n",
       "      <th>Num of Vaccinated People with Unknown Manuf</th>\n",
       "    </tr>\n",
       "  </thead>\n",
       "  <tbody>\n",
       "    <tr>\n",
       "      <th>0</th>\n",
       "      <td>04/01/2021</td>\n",
       "      <td>AK</td>\n",
       "      <td>165.32</td>\n",
       "      <td>5.69</td>\n",
       "      <td>71.94</td>\n",
       "      <td>87.68</td>\n",
       "      <td>10</td>\n",
       "    </tr>\n",
       "    <tr>\n",
       "      <th>1</th>\n",
       "      <td>04/01/2021</td>\n",
       "      <td>AL</td>\n",
       "      <td>673.77</td>\n",
       "      <td>42.96</td>\n",
       "      <td>314.53</td>\n",
       "      <td>316.25</td>\n",
       "      <td>35</td>\n",
       "    </tr>\n",
       "    <tr>\n",
       "      <th>2</th>\n",
       "      <td>04/01/2021</td>\n",
       "      <td>AR</td>\n",
       "      <td>432.74</td>\n",
       "      <td>27.50</td>\n",
       "      <td>204.41</td>\n",
       "      <td>200.77</td>\n",
       "      <td>57</td>\n",
       "    </tr>\n",
       "    <tr>\n",
       "      <th>3</th>\n",
       "      <td>04/01/2021</td>\n",
       "      <td>AZ</td>\n",
       "      <td>1267.48</td>\n",
       "      <td>48.30</td>\n",
       "      <td>543.86</td>\n",
       "      <td>674.79</td>\n",
       "      <td>526</td>\n",
       "    </tr>\n",
       "    <tr>\n",
       "      <th>4</th>\n",
       "      <td>04/01/2021</td>\n",
       "      <td>CA</td>\n",
       "      <td>6485.63</td>\n",
       "      <td>368.03</td>\n",
       "      <td>2823.85</td>\n",
       "      <td>3293.46</td>\n",
       "      <td>280</td>\n",
       "    </tr>\n",
       "  </tbody>\n",
       "</table>\n",
       "</div>"
      ],
      "text/plain": [
       "         Date Location  Num of Vaccinated People in thousand  \\\n",
       "0  04/01/2021       AK                                165.32   \n",
       "1  04/01/2021       AL                                673.77   \n",
       "2  04/01/2021       AR                                432.74   \n",
       "3  04/01/2021       AZ                               1267.48   \n",
       "4  04/01/2021       CA                               6485.63   \n",
       "\n",
       "   Num of Vaccinated People with Janssen in thousand  \\\n",
       "0                                               5.69   \n",
       "1                                              42.96   \n",
       "2                                              27.50   \n",
       "3                                              48.30   \n",
       "4                                             368.03   \n",
       "\n",
       "   Num of Vaccinated People with Moderna in thousand  \\\n",
       "0                                              71.94   \n",
       "1                                             314.53   \n",
       "2                                             204.41   \n",
       "3                                             543.86   \n",
       "4                                            2823.85   \n",
       "\n",
       "   Num of Vaccinated People with Pfizer in thousand  \\\n",
       "0                                             87.68   \n",
       "1                                            316.25   \n",
       "2                                            200.77   \n",
       "3                                            674.79   \n",
       "4                                           3293.46   \n",
       "\n",
       "   Num of Vaccinated People with Unknown Manuf  \n",
       "0                                           10  \n",
       "1                                           35  \n",
       "2                                           57  \n",
       "3                                          526  \n",
       "4                                          280  "
      ]
     },
     "execution_count": 11,
     "metadata": {},
     "output_type": "execute_result"
    }
   ],
   "source": [
    "# Change the unit of data and round the value up\n",
    "df_vaccine['Num of Vaccinated People in thousand'] = (df_vaccine['Num of Vaccinated People in thousand'] / 1000).round(2)\n",
    "df_vaccine['Num of Vaccinated People with Janssen in thousand'] = (df_vaccine['Num of Vaccinated People with Janssen in thousand']/1000).round(2)\n",
    "df_vaccine['Num of Vaccinated People with Moderna in thousand'] = (df_vaccine['Num of Vaccinated People with Moderna in thousand']/1000).round(2)\n",
    "df_vaccine['Num of Vaccinated People with Pfizer in thousand'] = (df_vaccine['Num of Vaccinated People with Pfizer in thousand']/1000).round(2)\n",
    "df_vaccine.head(5)"
   ]
  },
  {
   "cell_type": "markdown",
   "metadata": {},
   "source": [
    "## 4. Extract the population of each state stored as the dataset named df_population, rename the state, and remove excess data.\n",
    "We will get population data and remove excess data."
   ]
  },
  {
   "cell_type": "code",
   "execution_count": 12,
   "metadata": {},
   "outputs": [
    {
     "data": {
      "text/html": [
       "<div>\n",
       "<style scoped>\n",
       "    .dataframe tbody tr th:only-of-type {\n",
       "        vertical-align: middle;\n",
       "    }\n",
       "\n",
       "    .dataframe tbody tr th {\n",
       "        vertical-align: top;\n",
       "    }\n",
       "\n",
       "    .dataframe thead th {\n",
       "        text-align: right;\n",
       "    }\n",
       "</style>\n",
       "<table border=\"1\" class=\"dataframe\">\n",
       "  <thead>\n",
       "    <tr style=\"text-align: right;\">\n",
       "      <th></th>\n",
       "      <th>rank</th>\n",
       "      <th>State</th>\n",
       "      <th>Pop</th>\n",
       "      <th>Growth</th>\n",
       "      <th>Pop2018</th>\n",
       "      <th>Pop2010</th>\n",
       "      <th>growthSince2010</th>\n",
       "      <th>Percent</th>\n",
       "      <th>density</th>\n",
       "    </tr>\n",
       "  </thead>\n",
       "  <tbody>\n",
       "    <tr>\n",
       "      <th>0</th>\n",
       "      <td>1</td>\n",
       "      <td>California</td>\n",
       "      <td>39613493</td>\n",
       "      <td>0.0038</td>\n",
       "      <td>39461588</td>\n",
       "      <td>37319502</td>\n",
       "      <td>0.0615</td>\n",
       "      <td>0.1184</td>\n",
       "      <td>254.2929</td>\n",
       "    </tr>\n",
       "    <tr>\n",
       "      <th>1</th>\n",
       "      <td>2</td>\n",
       "      <td>Texas</td>\n",
       "      <td>29730311</td>\n",
       "      <td>0.0385</td>\n",
       "      <td>28628666</td>\n",
       "      <td>25241971</td>\n",
       "      <td>0.1778</td>\n",
       "      <td>0.0889</td>\n",
       "      <td>113.8081</td>\n",
       "    </tr>\n",
       "    <tr>\n",
       "      <th>2</th>\n",
       "      <td>3</td>\n",
       "      <td>Florida</td>\n",
       "      <td>21944577</td>\n",
       "      <td>0.0330</td>\n",
       "      <td>21244317</td>\n",
       "      <td>18845537</td>\n",
       "      <td>0.1644</td>\n",
       "      <td>0.0656</td>\n",
       "      <td>409.2229</td>\n",
       "    </tr>\n",
       "    <tr>\n",
       "      <th>3</th>\n",
       "      <td>4</td>\n",
       "      <td>New York</td>\n",
       "      <td>19299981</td>\n",
       "      <td>-0.0118</td>\n",
       "      <td>19530351</td>\n",
       "      <td>19399878</td>\n",
       "      <td>-0.0051</td>\n",
       "      <td>0.0577</td>\n",
       "      <td>409.5400</td>\n",
       "    </tr>\n",
       "    <tr>\n",
       "      <th>4</th>\n",
       "      <td>5</td>\n",
       "      <td>Pennsylvania</td>\n",
       "      <td>12804123</td>\n",
       "      <td>0.0003</td>\n",
       "      <td>12800922</td>\n",
       "      <td>12711160</td>\n",
       "      <td>0.0073</td>\n",
       "      <td>0.0383</td>\n",
       "      <td>286.1704</td>\n",
       "    </tr>\n",
       "  </tbody>\n",
       "</table>\n",
       "</div>"
      ],
      "text/plain": [
       "   rank         State       Pop  Growth   Pop2018   Pop2010  growthSince2010  \\\n",
       "0     1    California  39613493  0.0038  39461588  37319502           0.0615   \n",
       "1     2         Texas  29730311  0.0385  28628666  25241971           0.1778   \n",
       "2     3       Florida  21944577  0.0330  21244317  18845537           0.1644   \n",
       "3     4      New York  19299981 -0.0118  19530351  19399878          -0.0051   \n",
       "4     5  Pennsylvania  12804123  0.0003  12800922  12711160           0.0073   \n",
       "\n",
       "   Percent   density  \n",
       "0   0.1184  254.2929  \n",
       "1   0.0889  113.8081  \n",
       "2   0.0656  409.2229  \n",
       "3   0.0577  409.5400  \n",
       "4   0.0383  286.1704  "
      ]
     },
     "execution_count": 12,
     "metadata": {},
     "output_type": "execute_result"
    }
   ],
   "source": [
    "df_population.head(5)"
   ]
  },
  {
   "cell_type": "code",
   "execution_count": 13,
   "metadata": {},
   "outputs": [],
   "source": [
    "df_population = df_population.drop(30)\n",
    "df_population = df_population.iloc[: , 1:3]"
   ]
  },
  {
   "cell_type": "code",
   "execution_count": 14,
   "metadata": {},
   "outputs": [],
   "source": [
    "df_population = df_population.sort_values(['State'], ascending = True)\n",
    "df_population = df_population.reset_index(drop = True)"
   ]
  },
  {
   "cell_type": "code",
   "execution_count": 15,
   "metadata": {},
   "outputs": [],
   "source": [
    "df_population['State'] = ['AL','AK','AZ','AR','CA','CO','CT','DE','DC','FL','GA','HI','ID',\n",
    "              'IL','IN','IA','KS','KY','LA','ME','MD','MA','MI','MN','MS','MO','MT',\n",
    "              'NE','NV','NH','NJ','NM','NY','NC','ND','OH','OK','OR','PA','RI','SC',\n",
    "              'SD','TN','TX','UT','VT','VA','WA','WV','WI','WY']\n",
    "df_population = df_population.sort_values(['State'], ascending = True)"
   ]
  },
  {
   "cell_type": "code",
   "execution_count": 16,
   "metadata": {},
   "outputs": [
    {
     "data": {
      "text/html": [
       "<div>\n",
       "<style scoped>\n",
       "    .dataframe tbody tr th:only-of-type {\n",
       "        vertical-align: middle;\n",
       "    }\n",
       "\n",
       "    .dataframe tbody tr th {\n",
       "        vertical-align: top;\n",
       "    }\n",
       "\n",
       "    .dataframe thead th {\n",
       "        text-align: right;\n",
       "    }\n",
       "</style>\n",
       "<table border=\"1\" class=\"dataframe\">\n",
       "  <thead>\n",
       "    <tr style=\"text-align: right;\">\n",
       "      <th></th>\n",
       "      <th>State</th>\n",
       "      <th>Population</th>\n",
       "    </tr>\n",
       "  </thead>\n",
       "  <tbody>\n",
       "    <tr>\n",
       "      <th>0</th>\n",
       "      <td>AK</td>\n",
       "      <td>724357</td>\n",
       "    </tr>\n",
       "    <tr>\n",
       "      <th>1</th>\n",
       "      <td>AL</td>\n",
       "      <td>4934193</td>\n",
       "    </tr>\n",
       "    <tr>\n",
       "      <th>2</th>\n",
       "      <td>AR</td>\n",
       "      <td>3033946</td>\n",
       "    </tr>\n",
       "    <tr>\n",
       "      <th>3</th>\n",
       "      <td>AZ</td>\n",
       "      <td>7520103</td>\n",
       "    </tr>\n",
       "    <tr>\n",
       "      <th>4</th>\n",
       "      <td>CA</td>\n",
       "      <td>39613493</td>\n",
       "    </tr>\n",
       "  </tbody>\n",
       "</table>\n",
       "</div>"
      ],
      "text/plain": [
       "  State  Population\n",
       "0    AK      724357\n",
       "1    AL     4934193\n",
       "2    AR     3033946\n",
       "3    AZ     7520103\n",
       "4    CA    39613493"
      ]
     },
     "execution_count": 16,
     "metadata": {},
     "output_type": "execute_result"
    }
   ],
   "source": [
    "df_population = df_population.rename(columns = {'Pop':'Population'})\n",
    "df_population = df_population.reset_index(drop = True)\n",
    "df_population.head()"
   ]
  },
  {
   "cell_type": "markdown",
   "metadata": {},
   "source": [
    "## 5. Extract the income of each state stored as the dataset named df_income, rename the state, and remove excess data.\n",
    "In this step, we need to rearrange personal income and GDP data for each state. We deleted the geographic information (GeoFips) for each state. Since our data only analyzed personal income and GDP data for the second quarter of 2021, we also removed personal income and GDP data for the first quarter of 2021."
   ]
  },
  {
   "cell_type": "code",
   "execution_count": 17,
   "metadata": {},
   "outputs": [
    {
     "data": {
      "text/html": [
       "<div>\n",
       "<style scoped>\n",
       "    .dataframe tbody tr th:only-of-type {\n",
       "        vertical-align: middle;\n",
       "    }\n",
       "\n",
       "    .dataframe tbody tr th {\n",
       "        vertical-align: top;\n",
       "    }\n",
       "\n",
       "    .dataframe thead th {\n",
       "        text-align: right;\n",
       "    }\n",
       "</style>\n",
       "<table border=\"1\" class=\"dataframe\">\n",
       "  <thead>\n",
       "    <tr style=\"text-align: right;\">\n",
       "      <th></th>\n",
       "      <th>GeoFips</th>\n",
       "      <th>GeoName</th>\n",
       "      <th>2021:Q1</th>\n",
       "      <th>2021:Q2</th>\n",
       "    </tr>\n",
       "  </thead>\n",
       "  <tbody>\n",
       "    <tr>\n",
       "      <th>0</th>\n",
       "      <td>0</td>\n",
       "      <td>United States</td>\n",
       "      <td>66191</td>\n",
       "      <td>62215</td>\n",
       "    </tr>\n",
       "    <tr>\n",
       "      <th>1</th>\n",
       "      <td>1000</td>\n",
       "      <td>Alabama</td>\n",
       "      <td>52633</td>\n",
       "      <td>48133</td>\n",
       "    </tr>\n",
       "    <tr>\n",
       "      <th>2</th>\n",
       "      <td>2000</td>\n",
       "      <td>Alaska *</td>\n",
       "      <td>69683</td>\n",
       "      <td>65501</td>\n",
       "    </tr>\n",
       "    <tr>\n",
       "      <th>3</th>\n",
       "      <td>4000</td>\n",
       "      <td>Arizona</td>\n",
       "      <td>54620</td>\n",
       "      <td>50373</td>\n",
       "    </tr>\n",
       "    <tr>\n",
       "      <th>4</th>\n",
       "      <td>5000</td>\n",
       "      <td>Arkansas</td>\n",
       "      <td>53643</td>\n",
       "      <td>49079</td>\n",
       "    </tr>\n",
       "  </tbody>\n",
       "</table>\n",
       "</div>"
      ],
      "text/plain": [
       "   GeoFips        GeoName  2021:Q1  2021:Q2\n",
       "0        0  United States    66191    62215\n",
       "1     1000        Alabama    52633    48133\n",
       "2     2000       Alaska *    69683    65501\n",
       "3     4000        Arizona    54620    50373\n",
       "4     5000       Arkansas    53643    49079"
      ]
     },
     "execution_count": 17,
     "metadata": {},
     "output_type": "execute_result"
    }
   ],
   "source": [
    "df_income.head(5)"
   ]
  },
  {
   "cell_type": "code",
   "execution_count": 18,
   "metadata": {},
   "outputs": [],
   "source": [
    "df_income = df_income[['GeoName','2021:Q2']]\n",
    "df_income.columns = ['State', 'Personal_Income']"
   ]
  },
  {
   "cell_type": "code",
   "execution_count": 19,
   "metadata": {},
   "outputs": [],
   "source": [
    "df_income = df_income.iloc[:52 , :]\n",
    "df_income = df_income.iloc[1: , :]"
   ]
  },
  {
   "cell_type": "code",
   "execution_count": 20,
   "metadata": {},
   "outputs": [],
   "source": [
    "df_income['State'] = ['AL','AK','AZ','AR','CA','CO','CT','DE','DC','FL','GA','HI','ID',\n",
    "              'IL','IN','IA','KS','KY','LA','ME','MD','MA','MI','MN','MS','MO','MT',\n",
    "              'NE','NV','NH','NJ','NM','NY','NC','ND','OH','OK','OR','PA','RI','SC',\n",
    "              'SD','TN','TX','UT','VT','VA','WA','WV','WI','WY']\n",
    "df_income = df_income.sort_values(['State'], ascending = True)"
   ]
  },
  {
   "cell_type": "code",
   "execution_count": 21,
   "metadata": {},
   "outputs": [
    {
     "data": {
      "text/html": [
       "<div>\n",
       "<style scoped>\n",
       "    .dataframe tbody tr th:only-of-type {\n",
       "        vertical-align: middle;\n",
       "    }\n",
       "\n",
       "    .dataframe tbody tr th {\n",
       "        vertical-align: top;\n",
       "    }\n",
       "\n",
       "    .dataframe thead th {\n",
       "        text-align: right;\n",
       "    }\n",
       "</style>\n",
       "<table border=\"1\" class=\"dataframe\">\n",
       "  <thead>\n",
       "    <tr style=\"text-align: right;\">\n",
       "      <th></th>\n",
       "      <th>State</th>\n",
       "      <th>Personal_Income</th>\n",
       "    </tr>\n",
       "  </thead>\n",
       "  <tbody>\n",
       "    <tr>\n",
       "      <th>0</th>\n",
       "      <td>AK</td>\n",
       "      <td>65501</td>\n",
       "    </tr>\n",
       "    <tr>\n",
       "      <th>1</th>\n",
       "      <td>AL</td>\n",
       "      <td>48133</td>\n",
       "    </tr>\n",
       "    <tr>\n",
       "      <th>2</th>\n",
       "      <td>AR</td>\n",
       "      <td>49079</td>\n",
       "    </tr>\n",
       "    <tr>\n",
       "      <th>3</th>\n",
       "      <td>AZ</td>\n",
       "      <td>50373</td>\n",
       "    </tr>\n",
       "    <tr>\n",
       "      <th>4</th>\n",
       "      <td>CA</td>\n",
       "      <td>74304</td>\n",
       "    </tr>\n",
       "  </tbody>\n",
       "</table>\n",
       "</div>"
      ],
      "text/plain": [
       "  State  Personal_Income\n",
       "0    AK            65501\n",
       "1    AL            48133\n",
       "2    AR            49079\n",
       "3    AZ            50373\n",
       "4    CA            74304"
      ]
     },
     "execution_count": 21,
     "metadata": {},
     "output_type": "execute_result"
    }
   ],
   "source": [
    "df_income = df_income.reset_index(drop = True)\n",
    "df_income.head(5)"
   ]
  },
  {
   "cell_type": "markdown",
   "metadata": {},
   "source": [
    "## 6. Extract the GDP of each state stored as the dataset named df_gdp, rename the state, and remove excess data.\n",
    "Abbreviate the full name of each state(include the DC) and drop the dataset which is not the state.\n"
   ]
  },
  {
   "cell_type": "code",
   "execution_count": 22,
   "metadata": {},
   "outputs": [
    {
     "data": {
      "text/html": [
       "<div>\n",
       "<style scoped>\n",
       "    .dataframe tbody tr th:only-of-type {\n",
       "        vertical-align: middle;\n",
       "    }\n",
       "\n",
       "    .dataframe tbody tr th {\n",
       "        vertical-align: top;\n",
       "    }\n",
       "\n",
       "    .dataframe thead th {\n",
       "        text-align: right;\n",
       "    }\n",
       "</style>\n",
       "<table border=\"1\" class=\"dataframe\">\n",
       "  <thead>\n",
       "    <tr style=\"text-align: right;\">\n",
       "      <th></th>\n",
       "      <th>GeoFips</th>\n",
       "      <th>GeoName</th>\n",
       "      <th>2021:Q1</th>\n",
       "      <th>2021:Q2</th>\n",
       "    </tr>\n",
       "  </thead>\n",
       "  <tbody>\n",
       "    <tr>\n",
       "      <th>0</th>\n",
       "      <td>0</td>\n",
       "      <td>United States *</td>\n",
       "      <td>22038226.0</td>\n",
       "      <td>22740959.0</td>\n",
       "    </tr>\n",
       "    <tr>\n",
       "      <th>1</th>\n",
       "      <td>1000</td>\n",
       "      <td>Alabama</td>\n",
       "      <td>237303.0</td>\n",
       "      <td>243554.6</td>\n",
       "    </tr>\n",
       "    <tr>\n",
       "      <th>2</th>\n",
       "      <td>2000</td>\n",
       "      <td>Alaska</td>\n",
       "      <td>52373.8</td>\n",
       "      <td>54020.3</td>\n",
       "    </tr>\n",
       "    <tr>\n",
       "      <th>3</th>\n",
       "      <td>4000</td>\n",
       "      <td>Arizona</td>\n",
       "      <td>388598.8</td>\n",
       "      <td>400155.7</td>\n",
       "    </tr>\n",
       "    <tr>\n",
       "      <th>4</th>\n",
       "      <td>5000</td>\n",
       "      <td>Arkansas</td>\n",
       "      <td>139172.7</td>\n",
       "      <td>143438.4</td>\n",
       "    </tr>\n",
       "  </tbody>\n",
       "</table>\n",
       "</div>"
      ],
      "text/plain": [
       "   GeoFips          GeoName     2021:Q1     2021:Q2\n",
       "0        0  United States *  22038226.0  22740959.0\n",
       "1     1000          Alabama    237303.0    243554.6\n",
       "2     2000           Alaska     52373.8     54020.3\n",
       "3     4000          Arizona    388598.8    400155.7\n",
       "4     5000         Arkansas    139172.7    143438.4"
      ]
     },
     "execution_count": 22,
     "metadata": {},
     "output_type": "execute_result"
    }
   ],
   "source": [
    "df_GDP.head(5)"
   ]
  },
  {
   "cell_type": "code",
   "execution_count": 23,
   "metadata": {},
   "outputs": [],
   "source": [
    "df_GDP = df_GDP[['GeoName','2021:Q2']]\n",
    "df_GDP.columns = ['State', 'GDP']"
   ]
  },
  {
   "cell_type": "code",
   "execution_count": 24,
   "metadata": {},
   "outputs": [],
   "source": [
    "df_GDP = df_GDP.iloc[:52 , :]\n",
    "df_GDP = df_GDP.iloc[1: , :]"
   ]
  },
  {
   "cell_type": "code",
   "execution_count": 25,
   "metadata": {},
   "outputs": [],
   "source": [
    "df_GDP['State'] = ['AL','AK','AZ','AR','CA','CO','CT','DE','DC','FL','GA','HI','ID',\n",
    "              'IL','IN','IA','KS','KY','LA','ME','MD','MA','MI','MN','MS','MO','MT',\n",
    "              'NE','NV','NH','NJ','NM','NY','NC','ND','OH','OK','OR','PA','RI','SC',\n",
    "              'SD','TN','TX','UT','VT','VA','WA','WV','WI','WY']\n",
    "df_GDP = df_GDP.sort_values(['State'], ascending = True)"
   ]
  },
  {
   "cell_type": "code",
   "execution_count": 26,
   "metadata": {},
   "outputs": [
    {
     "data": {
      "text/html": [
       "<div>\n",
       "<style scoped>\n",
       "    .dataframe tbody tr th:only-of-type {\n",
       "        vertical-align: middle;\n",
       "    }\n",
       "\n",
       "    .dataframe tbody tr th {\n",
       "        vertical-align: top;\n",
       "    }\n",
       "\n",
       "    .dataframe thead th {\n",
       "        text-align: right;\n",
       "    }\n",
       "</style>\n",
       "<table border=\"1\" class=\"dataframe\">\n",
       "  <thead>\n",
       "    <tr style=\"text-align: right;\">\n",
       "      <th></th>\n",
       "      <th>State</th>\n",
       "      <th>GDP</th>\n",
       "    </tr>\n",
       "  </thead>\n",
       "  <tbody>\n",
       "    <tr>\n",
       "      <th>0</th>\n",
       "      <td>AK</td>\n",
       "      <td>54020.3</td>\n",
       "    </tr>\n",
       "    <tr>\n",
       "      <th>1</th>\n",
       "      <td>AL</td>\n",
       "      <td>243554.6</td>\n",
       "    </tr>\n",
       "    <tr>\n",
       "      <th>2</th>\n",
       "      <td>AR</td>\n",
       "      <td>143438.4</td>\n",
       "    </tr>\n",
       "    <tr>\n",
       "      <th>3</th>\n",
       "      <td>AZ</td>\n",
       "      <td>400155.7</td>\n",
       "    </tr>\n",
       "    <tr>\n",
       "      <th>4</th>\n",
       "      <td>CA</td>\n",
       "      <td>3290169.6</td>\n",
       "    </tr>\n",
       "  </tbody>\n",
       "</table>\n",
       "</div>"
      ],
      "text/plain": [
       "  State        GDP\n",
       "0    AK    54020.3\n",
       "1    AL   243554.6\n",
       "2    AR   143438.4\n",
       "3    AZ   400155.7\n",
       "4    CA  3290169.6"
      ]
     },
     "execution_count": 26,
     "metadata": {},
     "output_type": "execute_result"
    }
   ],
   "source": [
    "df_GDP = df_GDP.reset_index(drop = True)\n",
    "df_GDP.head(5)"
   ]
  },
  {
   "cell_type": "markdown",
   "metadata": {},
   "source": [
    "## 7. Extract the GDP of each state stored as the dataset named df_gdp, rename the state, and remove excess data.\n",
    "Combine the df_population, df_income, and df_GDP together into the dataset df_econ. <br>\n",
    "Change the unit of data in df_econ and round the value up. "
   ]
  },
  {
   "cell_type": "code",
   "execution_count": 27,
   "metadata": {},
   "outputs": [
    {
     "data": {
      "text/html": [
       "<div>\n",
       "<style scoped>\n",
       "    .dataframe tbody tr th:only-of-type {\n",
       "        vertical-align: middle;\n",
       "    }\n",
       "\n",
       "    .dataframe tbody tr th {\n",
       "        vertical-align: top;\n",
       "    }\n",
       "\n",
       "    .dataframe thead th {\n",
       "        text-align: right;\n",
       "    }\n",
       "</style>\n",
       "<table border=\"1\" class=\"dataframe\">\n",
       "  <thead>\n",
       "    <tr style=\"text-align: right;\">\n",
       "      <th></th>\n",
       "      <th>State</th>\n",
       "      <th>Personal_Income</th>\n",
       "      <th>GDP</th>\n",
       "    </tr>\n",
       "  </thead>\n",
       "  <tbody>\n",
       "    <tr>\n",
       "      <th>0</th>\n",
       "      <td>AK</td>\n",
       "      <td>65501</td>\n",
       "      <td>54020.3</td>\n",
       "    </tr>\n",
       "    <tr>\n",
       "      <th>1</th>\n",
       "      <td>AL</td>\n",
       "      <td>48133</td>\n",
       "      <td>243554.6</td>\n",
       "    </tr>\n",
       "    <tr>\n",
       "      <th>2</th>\n",
       "      <td>AR</td>\n",
       "      <td>49079</td>\n",
       "      <td>143438.4</td>\n",
       "    </tr>\n",
       "    <tr>\n",
       "      <th>3</th>\n",
       "      <td>AZ</td>\n",
       "      <td>50373</td>\n",
       "      <td>400155.7</td>\n",
       "    </tr>\n",
       "    <tr>\n",
       "      <th>4</th>\n",
       "      <td>CA</td>\n",
       "      <td>74304</td>\n",
       "      <td>3290169.6</td>\n",
       "    </tr>\n",
       "  </tbody>\n",
       "</table>\n",
       "</div>"
      ],
      "text/plain": [
       "  State  Personal_Income        GDP\n",
       "0    AK            65501    54020.3\n",
       "1    AL            48133   243554.6\n",
       "2    AR            49079   143438.4\n",
       "3    AZ            50373   400155.7\n",
       "4    CA            74304  3290169.6"
      ]
     },
     "execution_count": 27,
     "metadata": {},
     "output_type": "execute_result"
    }
   ],
   "source": [
    "# Combine the df_GDP and df_income together\n",
    "df_income['GDP'] = df_GDP['GDP']\n",
    "df_econ = df_income\n",
    "df_econ.head()"
   ]
  },
  {
   "cell_type": "code",
   "execution_count": 28,
   "metadata": {},
   "outputs": [],
   "source": [
    "# Add the column Population of df_population into df_econ\n",
    "df_econ[\"Population\"] = df_population['Population']"
   ]
  },
  {
   "cell_type": "code",
   "execution_count": 29,
   "metadata": {},
   "outputs": [],
   "source": [
    "# Change the unit of data and round the value up\n",
    "df_econ['Personal_Income'] = (df_econ['Personal_Income']/1000).round(2)\n",
    "df_econ['GDP'] = (df_econ['GDP']/1000).round(2)\n",
    "df_econ['Population'] = (df_econ['Population']/1000).round(2)"
   ]
  },
  {
   "cell_type": "code",
   "execution_count": 30,
   "metadata": {},
   "outputs": [
    {
     "data": {
      "text/html": [
       "<div>\n",
       "<style scoped>\n",
       "    .dataframe tbody tr th:only-of-type {\n",
       "        vertical-align: middle;\n",
       "    }\n",
       "\n",
       "    .dataframe tbody tr th {\n",
       "        vertical-align: top;\n",
       "    }\n",
       "\n",
       "    .dataframe thead th {\n",
       "        text-align: right;\n",
       "    }\n",
       "</style>\n",
       "<table border=\"1\" class=\"dataframe\">\n",
       "  <thead>\n",
       "    <tr style=\"text-align: right;\">\n",
       "      <th></th>\n",
       "      <th>State</th>\n",
       "      <th>Personal_Income in thousand</th>\n",
       "      <th>GDP in thousand</th>\n",
       "      <th>Population in thousand</th>\n",
       "    </tr>\n",
       "  </thead>\n",
       "  <tbody>\n",
       "    <tr>\n",
       "      <th>0</th>\n",
       "      <td>AK</td>\n",
       "      <td>65.50</td>\n",
       "      <td>54.02</td>\n",
       "      <td>724.36</td>\n",
       "    </tr>\n",
       "    <tr>\n",
       "      <th>1</th>\n",
       "      <td>AL</td>\n",
       "      <td>48.13</td>\n",
       "      <td>243.55</td>\n",
       "      <td>4934.19</td>\n",
       "    </tr>\n",
       "    <tr>\n",
       "      <th>2</th>\n",
       "      <td>AR</td>\n",
       "      <td>49.08</td>\n",
       "      <td>143.44</td>\n",
       "      <td>3033.95</td>\n",
       "    </tr>\n",
       "    <tr>\n",
       "      <th>3</th>\n",
       "      <td>AZ</td>\n",
       "      <td>50.37</td>\n",
       "      <td>400.16</td>\n",
       "      <td>7520.10</td>\n",
       "    </tr>\n",
       "    <tr>\n",
       "      <th>4</th>\n",
       "      <td>CA</td>\n",
       "      <td>74.30</td>\n",
       "      <td>3290.17</td>\n",
       "      <td>39613.49</td>\n",
       "    </tr>\n",
       "  </tbody>\n",
       "</table>\n",
       "</div>"
      ],
      "text/plain": [
       "  State  Personal_Income in thousand  GDP in thousand  Population in thousand\n",
       "0    AK                        65.50            54.02                  724.36\n",
       "1    AL                        48.13           243.55                 4934.19\n",
       "2    AR                        49.08           143.44                 3033.95\n",
       "3    AZ                        50.37           400.16                 7520.10\n",
       "4    CA                        74.30          3290.17                39613.49"
      ]
     },
     "execution_count": 30,
     "metadata": {},
     "output_type": "execute_result"
    }
   ],
   "source": [
    "df_econ = df_econ.rename(columns = {'Personal_Income':'Personal_Income in thousand',\n",
    "                        'GDP':'GDP in thousand',\n",
    "                         'Population':'Population in thousand'\n",
    "                        })\n",
    "df_econ.head(5)"
   ]
  },
  {
   "cell_type": "markdown",
   "metadata": {},
   "source": [
    "## 8. Calculate and get the final dataset df.\n",
    "Calculate the total number of vaccinated people between 04/01/2021 and 06/30/2021 for each states.<br>\n",
    "Calculate the vaccination coverage rates for each states. <br>\n",
    "Calculate the rate of increase in the vaccinated population."
   ]
  },
  {
   "cell_type": "code",
   "execution_count": 31,
   "metadata": {},
   "outputs": [],
   "source": [
    "# Define a function sum_vaccinated to get the total number of vacciated people for an input state\n",
    "def sum_vaccinated(state):\n",
    "    sum_start = df_vaccine[(df_vaccine['Date'][:] == \"04/01/2021\") & (df_vaccine['Location'][:] == state)]['Num of Vaccinated People in thousand']\n",
    "    sum_end = df_vaccine[(df_vaccine['Date'][:] == \"06/30/2021\") & (df_vaccine['Location'][:] == state)]['Num of Vaccinated People in thousand']\n",
    "    return (sum_end.values[0] - sum_start.values[0])"
   ]
  },
  {
   "cell_type": "code",
   "execution_count": 32,
   "metadata": {},
   "outputs": [],
   "source": [
    "# Get the total number of vaccinated people for each states\n",
    "vaccinated_quarter = df_vaccine['Location'].apply(sum_vaccinated)"
   ]
  },
  {
   "cell_type": "code",
   "execution_count": 33,
   "metadata": {},
   "outputs": [],
   "source": [
    "# Add the data into df as a new column\n",
    "df = df_econ\n",
    "df['Total Vaccinated in thousand'] = vaccinated_quarter[:52]"
   ]
  },
  {
   "cell_type": "code",
   "execution_count": 34,
   "metadata": {},
   "outputs": [],
   "source": [
    "# Calculate the vaccination rate for each state and add the data into df as a new column\n",
    "df['Vaccination rate'] = (df['Total Vaccinated in thousand']/df['Population in thousand']).round(4)"
   ]
  },
  {
   "cell_type": "code",
   "execution_count": 35,
   "metadata": {},
   "outputs": [],
   "source": [
    "# Get the number of vaccinated people in 04/01/2021 and the total number of vaccination people in this quarter\n",
    "sum_start = df_vaccine[df_vaccine['Date'] == \"04/01/2021\"]['Num of Vaccinated People in thousand']\n",
    "change = df['Total Vaccinated in thousand'] "
   ]
  },
  {
   "cell_type": "code",
   "execution_count": 36,
   "metadata": {},
   "outputs": [],
   "source": [
    "# Calculate the increase rate in vaccinnated population for each states\n",
    "rate_increase = (change/sum_start).round(4)"
   ]
  },
  {
   "cell_type": "code",
   "execution_count": 37,
   "metadata": {},
   "outputs": [],
   "source": [
    "# Add the data into df as a new column\n",
    "df['Increase rate in vaccinated population'] = rate_increase"
   ]
  },
  {
   "cell_type": "markdown",
   "metadata": {},
   "source": [
    "### Finally, we get a clear and clean data frame df. "
   ]
  },
  {
   "cell_type": "code",
   "execution_count": 38,
   "metadata": {
    "scrolled": true
   },
   "outputs": [
    {
     "data": {
      "text/html": [
       "<div>\n",
       "<style scoped>\n",
       "    .dataframe tbody tr th:only-of-type {\n",
       "        vertical-align: middle;\n",
       "    }\n",
       "\n",
       "    .dataframe tbody tr th {\n",
       "        vertical-align: top;\n",
       "    }\n",
       "\n",
       "    .dataframe thead th {\n",
       "        text-align: right;\n",
       "    }\n",
       "</style>\n",
       "<table border=\"1\" class=\"dataframe\">\n",
       "  <thead>\n",
       "    <tr style=\"text-align: right;\">\n",
       "      <th></th>\n",
       "      <th>State</th>\n",
       "      <th>Personal_Income in thousand</th>\n",
       "      <th>GDP in thousand</th>\n",
       "      <th>Population in thousand</th>\n",
       "      <th>Total Vaccinated in thousand</th>\n",
       "      <th>Vaccination rate</th>\n",
       "      <th>Increase rate in vaccinated population</th>\n",
       "    </tr>\n",
       "  </thead>\n",
       "  <tbody>\n",
       "    <tr>\n",
       "      <th>0</th>\n",
       "      <td>AK</td>\n",
       "      <td>65.50</td>\n",
       "      <td>54.02</td>\n",
       "      <td>724.36</td>\n",
       "      <td>148.39</td>\n",
       "      <td>0.2049</td>\n",
       "      <td>0.8976</td>\n",
       "    </tr>\n",
       "    <tr>\n",
       "      <th>1</th>\n",
       "      <td>AL</td>\n",
       "      <td>48.13</td>\n",
       "      <td>243.55</td>\n",
       "      <td>4934.19</td>\n",
       "      <td>920.85</td>\n",
       "      <td>0.1866</td>\n",
       "      <td>1.3667</td>\n",
       "    </tr>\n",
       "    <tr>\n",
       "      <th>2</th>\n",
       "      <td>AR</td>\n",
       "      <td>49.08</td>\n",
       "      <td>143.44</td>\n",
       "      <td>3033.95</td>\n",
       "      <td>596.79</td>\n",
       "      <td>0.1967</td>\n",
       "      <td>1.3791</td>\n",
       "    </tr>\n",
       "    <tr>\n",
       "      <th>3</th>\n",
       "      <td>AZ</td>\n",
       "      <td>50.37</td>\n",
       "      <td>400.16</td>\n",
       "      <td>7520.10</td>\n",
       "      <td>1661.62</td>\n",
       "      <td>0.2210</td>\n",
       "      <td>1.3110</td>\n",
       "    </tr>\n",
       "    <tr>\n",
       "      <th>4</th>\n",
       "      <td>CA</td>\n",
       "      <td>74.30</td>\n",
       "      <td>3290.17</td>\n",
       "      <td>39613.49</td>\n",
       "      <td>13193.70</td>\n",
       "      <td>0.3331</td>\n",
       "      <td>2.0343</td>\n",
       "    </tr>\n",
       "    <tr>\n",
       "      <th>5</th>\n",
       "      <td>CO</td>\n",
       "      <td>66.68</td>\n",
       "      <td>416.94</td>\n",
       "      <td>5893.63</td>\n",
       "      <td>1955.97</td>\n",
       "      <td>0.3319</td>\n",
       "      <td>1.9021</td>\n",
       "    </tr>\n",
       "    <tr>\n",
       "      <th>6</th>\n",
       "      <td>CT</td>\n",
       "      <td>81.85</td>\n",
       "      <td>294.65</td>\n",
       "      <td>3552.82</td>\n",
       "      <td>1418.90</td>\n",
       "      <td>0.3994</td>\n",
       "      <td>1.9083</td>\n",
       "    </tr>\n",
       "    <tr>\n",
       "      <th>7</th>\n",
       "      <td>DC</td>\n",
       "      <td>90.04</td>\n",
       "      <td>151.39</td>\n",
       "      <td>714.15</td>\n",
       "      <td>267.98</td>\n",
       "      <td>0.3752</td>\n",
       "      <td>2.6651</td>\n",
       "    </tr>\n",
       "    <tr>\n",
       "      <th>8</th>\n",
       "      <td>DE</td>\n",
       "      <td>57.50</td>\n",
       "      <td>79.28</td>\n",
       "      <td>990.33</td>\n",
       "      <td>323.54</td>\n",
       "      <td>0.3267</td>\n",
       "      <td>1.9777</td>\n",
       "    </tr>\n",
       "    <tr>\n",
       "      <th>9</th>\n",
       "      <td>FL</td>\n",
       "      <td>58.44</td>\n",
       "      <td>1198.91</td>\n",
       "      <td>21944.58</td>\n",
       "      <td>6351.89</td>\n",
       "      <td>0.2895</td>\n",
       "      <td>1.8197</td>\n",
       "    </tr>\n",
       "    <tr>\n",
       "      <th>10</th>\n",
       "      <td>GA</td>\n",
       "      <td>54.44</td>\n",
       "      <td>673.07</td>\n",
       "      <td>10830.01</td>\n",
       "      <td>2557.00</td>\n",
       "      <td>0.2361</td>\n",
       "      <td>1.9261</td>\n",
       "    </tr>\n",
       "    <tr>\n",
       "      <th>11</th>\n",
       "      <td>HI</td>\n",
       "      <td>60.81</td>\n",
       "      <td>89.66</td>\n",
       "      <td>1406.43</td>\n",
       "      <td>456.19</td>\n",
       "      <td>0.3244</td>\n",
       "      <td>1.6512</td>\n",
       "    </tr>\n",
       "    <tr>\n",
       "      <th>12</th>\n",
       "      <td>IA</td>\n",
       "      <td>56.46</td>\n",
       "      <td>220.93</td>\n",
       "      <td>3167.97</td>\n",
       "      <td>891.80</td>\n",
       "      <td>0.2815</td>\n",
       "      <td>1.4348</td>\n",
       "    </tr>\n",
       "    <tr>\n",
       "      <th>13</th>\n",
       "      <td>ID</td>\n",
       "      <td>50.24</td>\n",
       "      <td>92.30</td>\n",
       "      <td>1860.12</td>\n",
       "      <td>343.85</td>\n",
       "      <td>0.1849</td>\n",
       "      <td>1.1456</td>\n",
       "    </tr>\n",
       "    <tr>\n",
       "      <th>14</th>\n",
       "      <td>IL</td>\n",
       "      <td>67.24</td>\n",
       "      <td>938.22</td>\n",
       "      <td>12569.32</td>\n",
       "      <td>3709.38</td>\n",
       "      <td>0.2951</td>\n",
       "      <td>1.7329</td>\n",
       "    </tr>\n",
       "    <tr>\n",
       "      <th>15</th>\n",
       "      <td>IN</td>\n",
       "      <td>54.62</td>\n",
       "      <td>415.34</td>\n",
       "      <td>6805.66</td>\n",
       "      <td>1539.52</td>\n",
       "      <td>0.2262</td>\n",
       "      <td>1.3419</td>\n",
       "    </tr>\n",
       "    <tr>\n",
       "      <th>16</th>\n",
       "      <td>KS</td>\n",
       "      <td>58.38</td>\n",
       "      <td>193.14</td>\n",
       "      <td>2917.22</td>\n",
       "      <td>721.00</td>\n",
       "      <td>0.2472</td>\n",
       "      <td>1.4431</td>\n",
       "    </tr>\n",
       "    <tr>\n",
       "      <th>17</th>\n",
       "      <td>KY</td>\n",
       "      <td>49.26</td>\n",
       "      <td>234.31</td>\n",
       "      <td>4480.71</td>\n",
       "      <td>1144.26</td>\n",
       "      <td>0.2554</td>\n",
       "      <td>1.4336</td>\n",
       "    </tr>\n",
       "    <tr>\n",
       "      <th>18</th>\n",
       "      <td>LA</td>\n",
       "      <td>53.28</td>\n",
       "      <td>253.31</td>\n",
       "      <td>4627.00</td>\n",
       "      <td>827.59</td>\n",
       "      <td>0.1789</td>\n",
       "      <td>1.0607</td>\n",
       "    </tr>\n",
       "    <tr>\n",
       "      <th>19</th>\n",
       "      <td>MA</td>\n",
       "      <td>82.00</td>\n",
       "      <td>625.11</td>\n",
       "      <td>6912.24</td>\n",
       "      <td>2902.54</td>\n",
       "      <td>0.4199</td>\n",
       "      <td>2.1638</td>\n",
       "    </tr>\n",
       "    <tr>\n",
       "      <th>20</th>\n",
       "      <td>MD</td>\n",
       "      <td>70.00</td>\n",
       "      <td>443.73</td>\n",
       "      <td>6065.44</td>\n",
       "      <td>2309.64</td>\n",
       "      <td>0.3808</td>\n",
       "      <td>2.1466</td>\n",
       "    </tr>\n",
       "    <tr>\n",
       "      <th>21</th>\n",
       "      <td>ME</td>\n",
       "      <td>55.63</td>\n",
       "      <td>74.60</td>\n",
       "      <td>1354.52</td>\n",
       "      <td>547.82</td>\n",
       "      <td>0.4044</td>\n",
       "      <td>2.0164</td>\n",
       "    </tr>\n",
       "    <tr>\n",
       "      <th>22</th>\n",
       "      <td>MI</td>\n",
       "      <td>54.86</td>\n",
       "      <td>559.48</td>\n",
       "      <td>9992.43</td>\n",
       "      <td>2965.13</td>\n",
       "      <td>0.2967</td>\n",
       "      <td>1.7081</td>\n",
       "    </tr>\n",
       "    <tr>\n",
       "      <th>23</th>\n",
       "      <td>MN</td>\n",
       "      <td>64.67</td>\n",
       "      <td>407.40</td>\n",
       "      <td>5706.40</td>\n",
       "      <td>1832.51</td>\n",
       "      <td>0.3211</td>\n",
       "      <td>1.6842</td>\n",
       "    </tr>\n",
       "    <tr>\n",
       "      <th>24</th>\n",
       "      <td>MO</td>\n",
       "      <td>54.12</td>\n",
       "      <td>359.03</td>\n",
       "      <td>6169.04</td>\n",
       "      <td>1443.39</td>\n",
       "      <td>0.2340</td>\n",
       "      <td>1.5127</td>\n",
       "    </tr>\n",
       "    <tr>\n",
       "      <th>25</th>\n",
       "      <td>MS</td>\n",
       "      <td>44.13</td>\n",
       "      <td>123.78</td>\n",
       "      <td>2966.41</td>\n",
       "      <td>433.64</td>\n",
       "      <td>0.1462</td>\n",
       "      <td>0.9591</td>\n",
       "    </tr>\n",
       "    <tr>\n",
       "      <th>26</th>\n",
       "      <td>MT</td>\n",
       "      <td>55.53</td>\n",
       "      <td>57.92</td>\n",
       "      <td>1085.00</td>\n",
       "      <td>247.68</td>\n",
       "      <td>0.2283</td>\n",
       "      <td>1.1772</td>\n",
       "    </tr>\n",
       "    <tr>\n",
       "      <th>27</th>\n",
       "      <td>NC</td>\n",
       "      <td>52.57</td>\n",
       "      <td>646.21</td>\n",
       "      <td>10701.02</td>\n",
       "      <td>2609.92</td>\n",
       "      <td>0.2439</td>\n",
       "      <td>1.4762</td>\n",
       "    </tr>\n",
       "    <tr>\n",
       "      <th>28</th>\n",
       "      <td>ND</td>\n",
       "      <td>65.91</td>\n",
       "      <td>64.98</td>\n",
       "      <td>770.03</td>\n",
       "      <td>138.68</td>\n",
       "      <td>0.1801</td>\n",
       "      <td>0.8830</td>\n",
       "    </tr>\n",
       "    <tr>\n",
       "      <th>29</th>\n",
       "      <td>NE</td>\n",
       "      <td>61.29</td>\n",
       "      <td>150.51</td>\n",
       "      <td>1952.00</td>\n",
       "      <td>549.46</td>\n",
       "      <td>0.2815</td>\n",
       "      <td>1.4726</td>\n",
       "    </tr>\n",
       "    <tr>\n",
       "      <th>30</th>\n",
       "      <td>NH</td>\n",
       "      <td>68.13</td>\n",
       "      <td>93.89</td>\n",
       "      <td>1372.20</td>\n",
       "      <td>508.49</td>\n",
       "      <td>0.3706</td>\n",
       "      <td>2.0562</td>\n",
       "    </tr>\n",
       "    <tr>\n",
       "      <th>31</th>\n",
       "      <td>NJ</td>\n",
       "      <td>77.19</td>\n",
       "      <td>671.48</td>\n",
       "      <td>8874.52</td>\n",
       "      <td>3167.34</td>\n",
       "      <td>0.3569</td>\n",
       "      <td>1.8306</td>\n",
       "    </tr>\n",
       "    <tr>\n",
       "      <th>32</th>\n",
       "      <td>NM</td>\n",
       "      <td>48.16</td>\n",
       "      <td>108.24</td>\n",
       "      <td>2105.00</td>\n",
       "      <td>639.34</td>\n",
       "      <td>0.3037</td>\n",
       "      <td>1.2709</td>\n",
       "    </tr>\n",
       "    <tr>\n",
       "      <th>33</th>\n",
       "      <td>NV</td>\n",
       "      <td>55.58</td>\n",
       "      <td>187.39</td>\n",
       "      <td>3185.79</td>\n",
       "      <td>789.95</td>\n",
       "      <td>0.2480</td>\n",
       "      <td>1.5740</td>\n",
       "    </tr>\n",
       "    <tr>\n",
       "      <th>34</th>\n",
       "      <td>NY</td>\n",
       "      <td>78.40</td>\n",
       "      <td>1868.22</td>\n",
       "      <td>19299.98</td>\n",
       "      <td>7146.14</td>\n",
       "      <td>0.3703</td>\n",
       "      <td>2.1255</td>\n",
       "    </tr>\n",
       "    <tr>\n",
       "      <th>35</th>\n",
       "      <td>OH</td>\n",
       "      <td>55.77</td>\n",
       "      <td>732.12</td>\n",
       "      <td>11714.62</td>\n",
       "      <td>3215.60</td>\n",
       "      <td>0.2745</td>\n",
       "      <td>1.5983</td>\n",
       "    </tr>\n",
       "    <tr>\n",
       "      <th>36</th>\n",
       "      <td>OK</td>\n",
       "      <td>51.56</td>\n",
       "      <td>205.56</td>\n",
       "      <td>3990.44</td>\n",
       "      <td>788.10</td>\n",
       "      <td>0.1975</td>\n",
       "      <td>1.0783</td>\n",
       "    </tr>\n",
       "    <tr>\n",
       "      <th>37</th>\n",
       "      <td>OR</td>\n",
       "      <td>58.54</td>\n",
       "      <td>264.11</td>\n",
       "      <td>4289.44</td>\n",
       "      <td>1503.00</td>\n",
       "      <td>0.3504</td>\n",
       "      <td>2.0851</td>\n",
       "    </tr>\n",
       "    <tr>\n",
       "      <th>38</th>\n",
       "      <td>PA</td>\n",
       "      <td>63.28</td>\n",
       "      <td>832.70</td>\n",
       "      <td>12804.12</td>\n",
       "      <td>4147.70</td>\n",
       "      <td>0.3239</td>\n",
       "      <td>1.8873</td>\n",
       "    </tr>\n",
       "    <tr>\n",
       "      <th>39</th>\n",
       "      <td>RI</td>\n",
       "      <td>61.62</td>\n",
       "      <td>64.17</td>\n",
       "      <td>1061.51</td>\n",
       "      <td>396.52</td>\n",
       "      <td>0.3735</td>\n",
       "      <td>1.7446</td>\n",
       "    </tr>\n",
       "    <tr>\n",
       "      <th>40</th>\n",
       "      <td>SC</td>\n",
       "      <td>49.74</td>\n",
       "      <td>266.08</td>\n",
       "      <td>5277.83</td>\n",
       "      <td>1198.94</td>\n",
       "      <td>0.2272</td>\n",
       "      <td>1.5120</td>\n",
       "    </tr>\n",
       "    <tr>\n",
       "      <th>41</th>\n",
       "      <td>SD</td>\n",
       "      <td>62.45</td>\n",
       "      <td>60.81</td>\n",
       "      <td>896.58</td>\n",
       "      <td>199.13</td>\n",
       "      <td>0.2221</td>\n",
       "      <td>0.9843</td>\n",
       "    </tr>\n",
       "    <tr>\n",
       "      <th>42</th>\n",
       "      <td>TN</td>\n",
       "      <td>53.34</td>\n",
       "      <td>411.69</td>\n",
       "      <td>6944.26</td>\n",
       "      <td>1442.99</td>\n",
       "      <td>0.2078</td>\n",
       "      <td>1.4833</td>\n",
       "    </tr>\n",
       "    <tr>\n",
       "      <th>43</th>\n",
       "      <td>TX</td>\n",
       "      <td>57.79</td>\n",
       "      <td>1950.36</td>\n",
       "      <td>29730.31</td>\n",
       "      <td>7778.51</td>\n",
       "      <td>0.2616</td>\n",
       "      <td>1.8727</td>\n",
       "    </tr>\n",
       "    <tr>\n",
       "      <th>44</th>\n",
       "      <td>UT</td>\n",
       "      <td>53.54</td>\n",
       "      <td>212.85</td>\n",
       "      <td>3310.77</td>\n",
       "      <td>816.63</td>\n",
       "      <td>0.2467</td>\n",
       "      <td>2.1499</td>\n",
       "    </tr>\n",
       "    <tr>\n",
       "      <th>45</th>\n",
       "      <td>VA</td>\n",
       "      <td>63.97</td>\n",
       "      <td>586.25</td>\n",
       "      <td>8603.98</td>\n",
       "      <td>2931.97</td>\n",
       "      <td>0.3408</td>\n",
       "      <td>1.9676</td>\n",
       "    </tr>\n",
       "    <tr>\n",
       "      <th>46</th>\n",
       "      <td>VT</td>\n",
       "      <td>60.40</td>\n",
       "      <td>36.09</td>\n",
       "      <td>623.25</td>\n",
       "      <td>289.31</td>\n",
       "      <td>0.4642</td>\n",
       "      <td>2.4121</td>\n",
       "    </tr>\n",
       "    <tr>\n",
       "      <th>47</th>\n",
       "      <td>WA</td>\n",
       "      <td>70.44</td>\n",
       "      <td>661.52</td>\n",
       "      <td>7796.94</td>\n",
       "      <td>2747.26</td>\n",
       "      <td>0.3524</td>\n",
       "      <td>1.9578</td>\n",
       "    </tr>\n",
       "    <tr>\n",
       "      <th>48</th>\n",
       "      <td>WI</td>\n",
       "      <td>57.36</td>\n",
       "      <td>363.59</td>\n",
       "      <td>5852.49</td>\n",
       "      <td>1773.63</td>\n",
       "      <td>0.3031</td>\n",
       "      <td>1.6039</td>\n",
       "    </tr>\n",
       "    <tr>\n",
       "      <th>49</th>\n",
       "      <td>WV</td>\n",
       "      <td>46.34</td>\n",
       "      <td>85.80</td>\n",
       "      <td>1767.86</td>\n",
       "      <td>319.15</td>\n",
       "      <td>0.1805</td>\n",
       "      <td>0.9187</td>\n",
       "    </tr>\n",
       "    <tr>\n",
       "      <th>50</th>\n",
       "      <td>WY</td>\n",
       "      <td>63.59</td>\n",
       "      <td>41.20</td>\n",
       "      <td>581.08</td>\n",
       "      <td>89.99</td>\n",
       "      <td>0.1549</td>\n",
       "      <td>0.8258</td>\n",
       "    </tr>\n",
       "  </tbody>\n",
       "</table>\n",
       "</div>"
      ],
      "text/plain": [
       "   State  Personal_Income in thousand  GDP in thousand  \\\n",
       "0     AK                        65.50            54.02   \n",
       "1     AL                        48.13           243.55   \n",
       "2     AR                        49.08           143.44   \n",
       "3     AZ                        50.37           400.16   \n",
       "4     CA                        74.30          3290.17   \n",
       "5     CO                        66.68           416.94   \n",
       "6     CT                        81.85           294.65   \n",
       "7     DC                        90.04           151.39   \n",
       "8     DE                        57.50            79.28   \n",
       "9     FL                        58.44          1198.91   \n",
       "10    GA                        54.44           673.07   \n",
       "11    HI                        60.81            89.66   \n",
       "12    IA                        56.46           220.93   \n",
       "13    ID                        50.24            92.30   \n",
       "14    IL                        67.24           938.22   \n",
       "15    IN                        54.62           415.34   \n",
       "16    KS                        58.38           193.14   \n",
       "17    KY                        49.26           234.31   \n",
       "18    LA                        53.28           253.31   \n",
       "19    MA                        82.00           625.11   \n",
       "20    MD                        70.00           443.73   \n",
       "21    ME                        55.63            74.60   \n",
       "22    MI                        54.86           559.48   \n",
       "23    MN                        64.67           407.40   \n",
       "24    MO                        54.12           359.03   \n",
       "25    MS                        44.13           123.78   \n",
       "26    MT                        55.53            57.92   \n",
       "27    NC                        52.57           646.21   \n",
       "28    ND                        65.91            64.98   \n",
       "29    NE                        61.29           150.51   \n",
       "30    NH                        68.13            93.89   \n",
       "31    NJ                        77.19           671.48   \n",
       "32    NM                        48.16           108.24   \n",
       "33    NV                        55.58           187.39   \n",
       "34    NY                        78.40          1868.22   \n",
       "35    OH                        55.77           732.12   \n",
       "36    OK                        51.56           205.56   \n",
       "37    OR                        58.54           264.11   \n",
       "38    PA                        63.28           832.70   \n",
       "39    RI                        61.62            64.17   \n",
       "40    SC                        49.74           266.08   \n",
       "41    SD                        62.45            60.81   \n",
       "42    TN                        53.34           411.69   \n",
       "43    TX                        57.79          1950.36   \n",
       "44    UT                        53.54           212.85   \n",
       "45    VA                        63.97           586.25   \n",
       "46    VT                        60.40            36.09   \n",
       "47    WA                        70.44           661.52   \n",
       "48    WI                        57.36           363.59   \n",
       "49    WV                        46.34            85.80   \n",
       "50    WY                        63.59            41.20   \n",
       "\n",
       "    Population in thousand  Total Vaccinated in thousand  Vaccination rate  \\\n",
       "0                   724.36                        148.39            0.2049   \n",
       "1                  4934.19                        920.85            0.1866   \n",
       "2                  3033.95                        596.79            0.1967   \n",
       "3                  7520.10                       1661.62            0.2210   \n",
       "4                 39613.49                      13193.70            0.3331   \n",
       "5                  5893.63                       1955.97            0.3319   \n",
       "6                  3552.82                       1418.90            0.3994   \n",
       "7                   714.15                        267.98            0.3752   \n",
       "8                   990.33                        323.54            0.3267   \n",
       "9                 21944.58                       6351.89            0.2895   \n",
       "10                10830.01                       2557.00            0.2361   \n",
       "11                 1406.43                        456.19            0.3244   \n",
       "12                 3167.97                        891.80            0.2815   \n",
       "13                 1860.12                        343.85            0.1849   \n",
       "14                12569.32                       3709.38            0.2951   \n",
       "15                 6805.66                       1539.52            0.2262   \n",
       "16                 2917.22                        721.00            0.2472   \n",
       "17                 4480.71                       1144.26            0.2554   \n",
       "18                 4627.00                        827.59            0.1789   \n",
       "19                 6912.24                       2902.54            0.4199   \n",
       "20                 6065.44                       2309.64            0.3808   \n",
       "21                 1354.52                        547.82            0.4044   \n",
       "22                 9992.43                       2965.13            0.2967   \n",
       "23                 5706.40                       1832.51            0.3211   \n",
       "24                 6169.04                       1443.39            0.2340   \n",
       "25                 2966.41                        433.64            0.1462   \n",
       "26                 1085.00                        247.68            0.2283   \n",
       "27                10701.02                       2609.92            0.2439   \n",
       "28                  770.03                        138.68            0.1801   \n",
       "29                 1952.00                        549.46            0.2815   \n",
       "30                 1372.20                        508.49            0.3706   \n",
       "31                 8874.52                       3167.34            0.3569   \n",
       "32                 2105.00                        639.34            0.3037   \n",
       "33                 3185.79                        789.95            0.2480   \n",
       "34                19299.98                       7146.14            0.3703   \n",
       "35                11714.62                       3215.60            0.2745   \n",
       "36                 3990.44                        788.10            0.1975   \n",
       "37                 4289.44                       1503.00            0.3504   \n",
       "38                12804.12                       4147.70            0.3239   \n",
       "39                 1061.51                        396.52            0.3735   \n",
       "40                 5277.83                       1198.94            0.2272   \n",
       "41                  896.58                        199.13            0.2221   \n",
       "42                 6944.26                       1442.99            0.2078   \n",
       "43                29730.31                       7778.51            0.2616   \n",
       "44                 3310.77                        816.63            0.2467   \n",
       "45                 8603.98                       2931.97            0.3408   \n",
       "46                  623.25                        289.31            0.4642   \n",
       "47                 7796.94                       2747.26            0.3524   \n",
       "48                 5852.49                       1773.63            0.3031   \n",
       "49                 1767.86                        319.15            0.1805   \n",
       "50                  581.08                         89.99            0.1549   \n",
       "\n",
       "    Increase rate in vaccinated population  \n",
       "0                                   0.8976  \n",
       "1                                   1.3667  \n",
       "2                                   1.3791  \n",
       "3                                   1.3110  \n",
       "4                                   2.0343  \n",
       "5                                   1.9021  \n",
       "6                                   1.9083  \n",
       "7                                   2.6651  \n",
       "8                                   1.9777  \n",
       "9                                   1.8197  \n",
       "10                                  1.9261  \n",
       "11                                  1.6512  \n",
       "12                                  1.4348  \n",
       "13                                  1.1456  \n",
       "14                                  1.7329  \n",
       "15                                  1.3419  \n",
       "16                                  1.4431  \n",
       "17                                  1.4336  \n",
       "18                                  1.0607  \n",
       "19                                  2.1638  \n",
       "20                                  2.1466  \n",
       "21                                  2.0164  \n",
       "22                                  1.7081  \n",
       "23                                  1.6842  \n",
       "24                                  1.5127  \n",
       "25                                  0.9591  \n",
       "26                                  1.1772  \n",
       "27                                  1.4762  \n",
       "28                                  0.8830  \n",
       "29                                  1.4726  \n",
       "30                                  2.0562  \n",
       "31                                  1.8306  \n",
       "32                                  1.2709  \n",
       "33                                  1.5740  \n",
       "34                                  2.1255  \n",
       "35                                  1.5983  \n",
       "36                                  1.0783  \n",
       "37                                  2.0851  \n",
       "38                                  1.8873  \n",
       "39                                  1.7446  \n",
       "40                                  1.5120  \n",
       "41                                  0.9843  \n",
       "42                                  1.4833  \n",
       "43                                  1.8727  \n",
       "44                                  2.1499  \n",
       "45                                  1.9676  \n",
       "46                                  2.4121  \n",
       "47                                  1.9578  \n",
       "48                                  1.6039  \n",
       "49                                  0.9187  \n",
       "50                                  0.8258  "
      ]
     },
     "execution_count": 38,
     "metadata": {},
     "output_type": "execute_result"
    }
   ],
   "source": [
    "df"
   ]
  },
  {
   "cell_type": "markdown",
   "metadata": {},
   "source": [
    "# Data Analysis & Results (EDA)"
   ]
  },
  {
   "cell_type": "markdown",
   "metadata": {},
   "source": [
    "In this section, we will analyze the data that we have cleaned before. We will discuss the distributions and the relationship between these cleaning data and focus on the relationship between two vaccination factors ('Vaccination rate' and 'Increase rate in vaccinated population') and two economic factors ('Personal Income' and 'GDP').\n",
    "\n",
    "At first, we can use the matrix function to find any basic relationship between the above cleaning data. "
   ]
  },
  {
   "cell_type": "code",
   "execution_count": 39,
   "metadata": {},
   "outputs": [
    {
     "data": {
      "text/plain": [
       "array([[<AxesSubplot:xlabel='Personal_Income in thousand', ylabel='Personal_Income in thousand'>,\n",
       "        <AxesSubplot:xlabel='GDP in thousand', ylabel='Personal_Income in thousand'>,\n",
       "        <AxesSubplot:xlabel='Population in thousand', ylabel='Personal_Income in thousand'>,\n",
       "        <AxesSubplot:xlabel='Total Vaccinated in thousand', ylabel='Personal_Income in thousand'>,\n",
       "        <AxesSubplot:xlabel='Vaccination rate', ylabel='Personal_Income in thousand'>,\n",
       "        <AxesSubplot:xlabel='Increase rate in vaccinated population', ylabel='Personal_Income in thousand'>],\n",
       "       [<AxesSubplot:xlabel='Personal_Income in thousand', ylabel='GDP in thousand'>,\n",
       "        <AxesSubplot:xlabel='GDP in thousand', ylabel='GDP in thousand'>,\n",
       "        <AxesSubplot:xlabel='Population in thousand', ylabel='GDP in thousand'>,\n",
       "        <AxesSubplot:xlabel='Total Vaccinated in thousand', ylabel='GDP in thousand'>,\n",
       "        <AxesSubplot:xlabel='Vaccination rate', ylabel='GDP in thousand'>,\n",
       "        <AxesSubplot:xlabel='Increase rate in vaccinated population', ylabel='GDP in thousand'>],\n",
       "       [<AxesSubplot:xlabel='Personal_Income in thousand', ylabel='Population in thousand'>,\n",
       "        <AxesSubplot:xlabel='GDP in thousand', ylabel='Population in thousand'>,\n",
       "        <AxesSubplot:xlabel='Population in thousand', ylabel='Population in thousand'>,\n",
       "        <AxesSubplot:xlabel='Total Vaccinated in thousand', ylabel='Population in thousand'>,\n",
       "        <AxesSubplot:xlabel='Vaccination rate', ylabel='Population in thousand'>,\n",
       "        <AxesSubplot:xlabel='Increase rate in vaccinated population', ylabel='Population in thousand'>],\n",
       "       [<AxesSubplot:xlabel='Personal_Income in thousand', ylabel='Total Vaccinated in thousand'>,\n",
       "        <AxesSubplot:xlabel='GDP in thousand', ylabel='Total Vaccinated in thousand'>,\n",
       "        <AxesSubplot:xlabel='Population in thousand', ylabel='Total Vaccinated in thousand'>,\n",
       "        <AxesSubplot:xlabel='Total Vaccinated in thousand', ylabel='Total Vaccinated in thousand'>,\n",
       "        <AxesSubplot:xlabel='Vaccination rate', ylabel='Total Vaccinated in thousand'>,\n",
       "        <AxesSubplot:xlabel='Increase rate in vaccinated population', ylabel='Total Vaccinated in thousand'>],\n",
       "       [<AxesSubplot:xlabel='Personal_Income in thousand', ylabel='Vaccination rate'>,\n",
       "        <AxesSubplot:xlabel='GDP in thousand', ylabel='Vaccination rate'>,\n",
       "        <AxesSubplot:xlabel='Population in thousand', ylabel='Vaccination rate'>,\n",
       "        <AxesSubplot:xlabel='Total Vaccinated in thousand', ylabel='Vaccination rate'>,\n",
       "        <AxesSubplot:xlabel='Vaccination rate', ylabel='Vaccination rate'>,\n",
       "        <AxesSubplot:xlabel='Increase rate in vaccinated population', ylabel='Vaccination rate'>],\n",
       "       [<AxesSubplot:xlabel='Personal_Income in thousand', ylabel='Increase rate in vaccinated population'>,\n",
       "        <AxesSubplot:xlabel='GDP in thousand', ylabel='Increase rate in vaccinated population'>,\n",
       "        <AxesSubplot:xlabel='Population in thousand', ylabel='Increase rate in vaccinated population'>,\n",
       "        <AxesSubplot:xlabel='Total Vaccinated in thousand', ylabel='Increase rate in vaccinated population'>,\n",
       "        <AxesSubplot:xlabel='Vaccination rate', ylabel='Increase rate in vaccinated population'>,\n",
       "        <AxesSubplot:xlabel='Increase rate in vaccinated population', ylabel='Increase rate in vaccinated population'>]],\n",
       "      dtype=object)"
      ]
     },
     "execution_count": 39,
     "metadata": {},
     "output_type": "execute_result"
    },
    {
     "data": {
      "image/png": "[encoded data removed]",
      "text/plain": [
       "<Figure size 1440x1440 with 36 Axes>"
      ]
     },
     "metadata": {
      "needs_background": "light"
     },
     "output_type": "display_data"
    }
   ],
   "source": [
    "## YOUR CODE HERE\n",
    "## FEEL FREE TO ADD MULTIPLE CELLS PER SECTION\n",
    "pd.plotting.scatter_matrix(df,figsize=(20,20),)"
   ]
  },
  {
   "cell_type": "markdown",
   "metadata": {},
   "source": [
    "From the scatter diagram above, we can see that there are some trends between our data. It also looks like there are some outliers in the scatter plot of \"GDP in thousand\", \"Population in thousand\", \"personal_income in thousand\", and 'Total Vaccinated in thousand'. Hence, in order to further confirm the relationship between our variable, we can make outliers analysis for further data analysis and rearrange our data to check whether the data has outliers and decide whether we need to delete outliers if any. "
   ]
  },
  {
   "cell_type": "markdown",
   "metadata": {},
   "source": [
    "## Outlier analysis"
   ]
  },
  {
   "cell_type": "markdown",
   "metadata": {},
   "source": [
    "First, we need to get a sense of what information we have in the df dataset."
   ]
  },
  {
   "cell_type": "code",
   "execution_count": 40,
   "metadata": {},
   "outputs": [
    {
     "data": {
      "text/html": [
       "<div>\n",
       "<style scoped>\n",
       "    .dataframe tbody tr th:only-of-type {\n",
       "        vertical-align: middle;\n",
       "    }\n",
       "\n",
       "    .dataframe tbody tr th {\n",
       "        vertical-align: top;\n",
       "    }\n",
       "\n",
       "    .dataframe thead th {\n",
       "        text-align: right;\n",
       "    }\n",
       "</style>\n",
       "<table border=\"1\" class=\"dataframe\">\n",
       "  <thead>\n",
       "    <tr style=\"text-align: right;\">\n",
       "      <th></th>\n",
       "      <th>Personal_Income in thousand</th>\n",
       "      <th>GDP in thousand</th>\n",
       "      <th>Population in thousand</th>\n",
       "      <th>Total Vaccinated in thousand</th>\n",
       "      <th>Vaccination rate</th>\n",
       "      <th>Increase rate in vaccinated population</th>\n",
       "    </tr>\n",
       "  </thead>\n",
       "  <tbody>\n",
       "    <tr>\n",
       "      <th>count</th>\n",
       "      <td>51.000000</td>\n",
       "      <td>51.000000</td>\n",
       "      <td>51.000000</td>\n",
       "      <td>51.000000</td>\n",
       "      <td>51.000000</td>\n",
       "      <td>51.000000</td>\n",
       "    </tr>\n",
       "    <tr>\n",
       "      <th>mean</th>\n",
       "      <td>60.088627</td>\n",
       "      <td>443.130588</td>\n",
       "      <td>6496.932157</td>\n",
       "      <td>1900.006275</td>\n",
       "      <td>0.281612</td>\n",
       "      <td>1.619025</td>\n",
       "    </tr>\n",
       "    <tr>\n",
       "      <th>std</th>\n",
       "      <td>9.951744</td>\n",
       "      <td>575.011856</td>\n",
       "      <td>7428.830471</td>\n",
       "      <td>2364.218883</td>\n",
       "      <td>0.076545</td>\n",
       "      <td>0.426720</td>\n",
       "    </tr>\n",
       "    <tr>\n",
       "      <th>min</th>\n",
       "      <td>44.130000</td>\n",
       "      <td>36.090000</td>\n",
       "      <td>581.080000</td>\n",
       "      <td>89.990000</td>\n",
       "      <td>0.146200</td>\n",
       "      <td>0.825800</td>\n",
       "    </tr>\n",
       "    <tr>\n",
       "      <th>25%</th>\n",
       "      <td>53.440000</td>\n",
       "      <td>101.065000</td>\n",
       "      <td>1813.990000</td>\n",
       "      <td>482.340000</td>\n",
       "      <td>0.224150</td>\n",
       "      <td>1.354300</td>\n",
       "    </tr>\n",
       "    <tr>\n",
       "      <th>50%</th>\n",
       "      <td>57.790000</td>\n",
       "      <td>253.310000</td>\n",
       "      <td>4480.710000</td>\n",
       "      <td>1144.260000</td>\n",
       "      <td>0.281500</td>\n",
       "      <td>1.603900</td>\n",
       "    </tr>\n",
       "    <tr>\n",
       "      <th>75%</th>\n",
       "      <td>65.085000</td>\n",
       "      <td>572.865000</td>\n",
       "      <td>7658.520000</td>\n",
       "      <td>2583.460000</td>\n",
       "      <td>0.336950</td>\n",
       "      <td>1.941950</td>\n",
       "    </tr>\n",
       "    <tr>\n",
       "      <th>max</th>\n",
       "      <td>90.040000</td>\n",
       "      <td>3290.170000</td>\n",
       "      <td>39613.490000</td>\n",
       "      <td>13193.700000</td>\n",
       "      <td>0.464200</td>\n",
       "      <td>2.665100</td>\n",
       "    </tr>\n",
       "  </tbody>\n",
       "</table>\n",
       "</div>"
      ],
      "text/plain": [
       "       Personal_Income in thousand  GDP in thousand  Population in thousand  \\\n",
       "count                    51.000000        51.000000               51.000000   \n",
       "mean                     60.088627       443.130588             6496.932157   \n",
       "std                       9.951744       575.011856             7428.830471   \n",
       "min                      44.130000        36.090000              581.080000   \n",
       "25%                      53.440000       101.065000             1813.990000   \n",
       "50%                      57.790000       253.310000             4480.710000   \n",
       "75%                      65.085000       572.865000             7658.520000   \n",
       "max                      90.040000      3290.170000            39613.490000   \n",
       "\n",
       "       Total Vaccinated in thousand  Vaccination rate  \\\n",
       "count                     51.000000         51.000000   \n",
       "mean                    1900.006275          0.281612   \n",
       "std                     2364.218883          0.076545   \n",
       "min                       89.990000          0.146200   \n",
       "25%                      482.340000          0.224150   \n",
       "50%                     1144.260000          0.281500   \n",
       "75%                     2583.460000          0.336950   \n",
       "max                    13193.700000          0.464200   \n",
       "\n",
       "       Increase rate in vaccinated population  \n",
       "count                               51.000000  \n",
       "mean                                 1.619025  \n",
       "std                                  0.426720  \n",
       "min                                  0.825800  \n",
       "25%                                  1.354300  \n",
       "50%                                  1.603900  \n",
       "75%                                  1.941950  \n",
       "max                                  2.665100  "
      ]
     },
     "execution_count": 40,
     "metadata": {},
     "output_type": "execute_result"
    }
   ],
   "source": [
    "df.describe()"
   ]
  },
  {
   "cell_type": "code",
   "execution_count": null,
   "metadata": {},
   "outputs": [],
   "source": [
    "# 找了前四列的outlier，每个数据都不能删除，51个states不能少"
   ]
  },
  {
   "cell_type": "markdown",
   "metadata": {},
   "source": [
    "### Personal_Income in thousand Outlier Analysis"
   ]
  },
  {
   "cell_type": "markdown",
   "metadata": {},
   "source": [
    "Lower Outlier = 53.44 - 1.5 * (65.085 - 53.44) = 35.97 <br>\n",
    "Higher Outlier = 65.085 + 1.5 * (65.085 - 53.44) = 88.55"
   ]
  },
  {
   "cell_type": "code",
   "execution_count": 41,
   "metadata": {},
   "outputs": [
    {
     "data": {
      "text/plain": [
       "Text(0.5, 1.0, 'Personal_income in thousand Outlier Analysis')"
      ]
     },
     "execution_count": 41,
     "metadata": {},
     "output_type": "execute_result"
    },
    {
     "data": {
      "image/png": "[encoded data removed]",
      "text/plain": [
       "<Figure size 432x288 with 1 Axes>"
      ]
     },
     "metadata": {
      "needs_background": "light"
     },
     "output_type": "display_data"
    }
   ],
   "source": [
    "sns.histplot(x='Personal_Income in thousand',data=df).set_title(\"Personal_income in thousand Outlier Analysis\")"
   ]
  },
  {
   "cell_type": "code",
   "execution_count": 42,
   "metadata": {},
   "outputs": [
    {
     "data": {
      "text/html": [
       "<div>\n",
       "<style scoped>\n",
       "    .dataframe tbody tr th:only-of-type {\n",
       "        vertical-align: middle;\n",
       "    }\n",
       "\n",
       "    .dataframe tbody tr th {\n",
       "        vertical-align: top;\n",
       "    }\n",
       "\n",
       "    .dataframe thead th {\n",
       "        text-align: right;\n",
       "    }\n",
       "</style>\n",
       "<table border=\"1\" class=\"dataframe\">\n",
       "  <thead>\n",
       "    <tr style=\"text-align: right;\">\n",
       "      <th></th>\n",
       "      <th>State</th>\n",
       "      <th>Personal_Income in thousand</th>\n",
       "      <th>GDP in thousand</th>\n",
       "      <th>Population in thousand</th>\n",
       "      <th>Total Vaccinated in thousand</th>\n",
       "      <th>Vaccination rate</th>\n",
       "      <th>Increase rate in vaccinated population</th>\n",
       "    </tr>\n",
       "  </thead>\n",
       "  <tbody>\n",
       "    <tr>\n",
       "      <th>7</th>\n",
       "      <td>DC</td>\n",
       "      <td>90.04</td>\n",
       "      <td>151.39</td>\n",
       "      <td>714.15</td>\n",
       "      <td>267.98</td>\n",
       "      <td>0.3752</td>\n",
       "      <td>2.6651</td>\n",
       "    </tr>\n",
       "  </tbody>\n",
       "</table>\n",
       "</div>"
      ],
      "text/plain": [
       "  State  Personal_Income in thousand  GDP in thousand  Population in thousand  \\\n",
       "7    DC                        90.04           151.39                  714.15   \n",
       "\n",
       "   Total Vaccinated in thousand  Vaccination rate  \\\n",
       "7                        267.98            0.3752   \n",
       "\n",
       "   Increase rate in vaccinated population  \n",
       "7                                  2.6651  "
      ]
     },
     "execution_count": 42,
     "metadata": {},
     "output_type": "execute_result"
    }
   ],
   "source": [
    "df[(df['Personal_Income in thousand'] > 88.55) | (df['Personal_Income in thousand'] < 35.97)]"
   ]
  },
  {
   "cell_type": "markdown",
   "metadata": {},
   "source": [
    "We find that there are an outlier in the diagram of \"Personal_income in thousand Outlier Analysis\" which is DC. However, we cannot eliminate this state's data because it is part of the 51 states in the United States. If we remove it, we will miss data for DC in the penetration analysis. Hence, we don't need to change our data here."
   ]
  },
  {
   "cell_type": "markdown",
   "metadata": {},
   "source": [
    "### GDP in thousand Outlier Analysis"
   ]
  },
  {
   "cell_type": "markdown",
   "metadata": {},
   "source": [
    "Lower Outlier = 101.065 - 1.5 * (572.865 - 101.065) = -606.635<br>\n",
    "Higher Outlier = 572.865 + 1.5 * (572.865 - 101.065) = 1280.565"
   ]
  },
  {
   "cell_type": "code",
   "execution_count": 43,
   "metadata": {},
   "outputs": [
    {
     "data": {
      "text/plain": [
       "Text(0.5, 1.0, 'GDP in thousand Outlier Analysis')"
      ]
     },
     "execution_count": 43,
     "metadata": {},
     "output_type": "execute_result"
    },
    {
     "data": {
      "image/png": "[encoded data removed]",
      "text/plain": [
       "<Figure size 432x288 with 1 Axes>"
      ]
     },
     "metadata": {
      "needs_background": "light"
     },
     "output_type": "display_data"
    }
   ],
   "source": [
    "sns.histplot(x='GDP in thousand',data=df).set_title(\"GDP in thousand Outlier Analysis\")"
   ]
  },
  {
   "cell_type": "markdown",
   "metadata": {},
   "source": [
    "We found there are some states that had signifcantly more GDP than other states. We wanted to find which state there were."
   ]
  },
  {
   "cell_type": "code",
   "execution_count": 44,
   "metadata": {},
   "outputs": [
    {
     "data": {
      "text/html": [
       "<div>\n",
       "<style scoped>\n",
       "    .dataframe tbody tr th:only-of-type {\n",
       "        vertical-align: middle;\n",
       "    }\n",
       "\n",
       "    .dataframe tbody tr th {\n",
       "        vertical-align: top;\n",
       "    }\n",
       "\n",
       "    .dataframe thead th {\n",
       "        text-align: right;\n",
       "    }\n",
       "</style>\n",
       "<table border=\"1\" class=\"dataframe\">\n",
       "  <thead>\n",
       "    <tr style=\"text-align: right;\">\n",
       "      <th></th>\n",
       "      <th>State</th>\n",
       "      <th>Personal_Income in thousand</th>\n",
       "      <th>GDP in thousand</th>\n",
       "      <th>Population in thousand</th>\n",
       "      <th>Total Vaccinated in thousand</th>\n",
       "      <th>Vaccination rate</th>\n",
       "      <th>Increase rate in vaccinated population</th>\n",
       "    </tr>\n",
       "  </thead>\n",
       "  <tbody>\n",
       "    <tr>\n",
       "      <th>4</th>\n",
       "      <td>CA</td>\n",
       "      <td>74.30</td>\n",
       "      <td>3290.17</td>\n",
       "      <td>39613.49</td>\n",
       "      <td>13193.70</td>\n",
       "      <td>0.3331</td>\n",
       "      <td>2.0343</td>\n",
       "    </tr>\n",
       "    <tr>\n",
       "      <th>34</th>\n",
       "      <td>NY</td>\n",
       "      <td>78.40</td>\n",
       "      <td>1868.22</td>\n",
       "      <td>19299.98</td>\n",
       "      <td>7146.14</td>\n",
       "      <td>0.3703</td>\n",
       "      <td>2.1255</td>\n",
       "    </tr>\n",
       "    <tr>\n",
       "      <th>43</th>\n",
       "      <td>TX</td>\n",
       "      <td>57.79</td>\n",
       "      <td>1950.36</td>\n",
       "      <td>29730.31</td>\n",
       "      <td>7778.51</td>\n",
       "      <td>0.2616</td>\n",
       "      <td>1.8727</td>\n",
       "    </tr>\n",
       "  </tbody>\n",
       "</table>\n",
       "</div>"
      ],
      "text/plain": [
       "   State  Personal_Income in thousand  GDP in thousand  \\\n",
       "4     CA                        74.30          3290.17   \n",
       "34    NY                        78.40          1868.22   \n",
       "43    TX                        57.79          1950.36   \n",
       "\n",
       "    Population in thousand  Total Vaccinated in thousand  Vaccination rate  \\\n",
       "4                 39613.49                      13193.70            0.3331   \n",
       "34                19299.98                       7146.14            0.3703   \n",
       "43                29730.31                       7778.51            0.2616   \n",
       "\n",
       "    Increase rate in vaccinated population  \n",
       "4                                   2.0343  \n",
       "34                                  2.1255  \n",
       "43                                  1.8727  "
      ]
     },
     "execution_count": 44,
     "metadata": {},
     "output_type": "execute_result"
    }
   ],
   "source": [
    "df[df['GDP in thousand'] > 1280.565]"
   ]
  },
  {
   "cell_type": "markdown",
   "metadata": {},
   "source": [
    "We found the outlier in the diagram of \"GDP in thousand Outlier Analysis\" are CA, NY, TX (California, New York, Texas). However, we cannot eliminate these three states' data because these three states are parts of the 51 states in the United States. If we remove the GDP data for those three states, we will miss data for those three states in the penetration analysis. Hence, we don't need to change our data here."
   ]
  },
  {
   "cell_type": "markdown",
   "metadata": {},
   "source": [
    "### Population in thousand Outlier Analysis"
   ]
  },
  {
   "cell_type": "markdown",
   "metadata": {},
   "source": [
    "Lower Outlier = 1813.99 - 1.5 * (7658.52 - 1813.995) = -6952.80<br>\n",
    "Higher Outlier = 7658.52 + 1.5 * (7658.52 - 1813.99) = 16425.32"
   ]
  },
  {
   "cell_type": "code",
   "execution_count": 45,
   "metadata": {},
   "outputs": [
    {
     "data": {
      "text/plain": [
       "Text(0.5, 1.0, 'Population in thousand Outlier Analysis')"
      ]
     },
     "execution_count": 45,
     "metadata": {},
     "output_type": "execute_result"
    },
    {
     "data": {
      "image/png": "[encoded data removed]",
      "text/plain": [
       "<Figure size 432x288 with 1 Axes>"
      ]
     },
     "metadata": {
      "needs_background": "light"
     },
     "output_type": "display_data"
    }
   ],
   "source": [
    "sns.histplot(x='Population in thousand',data=df).set_title(\"Population in thousand Outlier Analysis\")"
   ]
  },
  {
   "cell_type": "markdown",
   "metadata": {},
   "source": [
    "We found there are some states that had signifcantly more population than other states. We wanted to find which state there were."
   ]
  },
  {
   "cell_type": "code",
   "execution_count": 46,
   "metadata": {},
   "outputs": [
    {
     "data": {
      "text/html": [
       "<div>\n",
       "<style scoped>\n",
       "    .dataframe tbody tr th:only-of-type {\n",
       "        vertical-align: middle;\n",
       "    }\n",
       "\n",
       "    .dataframe tbody tr th {\n",
       "        vertical-align: top;\n",
       "    }\n",
       "\n",
       "    .dataframe thead th {\n",
       "        text-align: right;\n",
       "    }\n",
       "</style>\n",
       "<table border=\"1\" class=\"dataframe\">\n",
       "  <thead>\n",
       "    <tr style=\"text-align: right;\">\n",
       "      <th></th>\n",
       "      <th>State</th>\n",
       "      <th>Personal_Income in thousand</th>\n",
       "      <th>GDP in thousand</th>\n",
       "      <th>Population in thousand</th>\n",
       "      <th>Total Vaccinated in thousand</th>\n",
       "      <th>Vaccination rate</th>\n",
       "      <th>Increase rate in vaccinated population</th>\n",
       "    </tr>\n",
       "  </thead>\n",
       "  <tbody>\n",
       "    <tr>\n",
       "      <th>4</th>\n",
       "      <td>CA</td>\n",
       "      <td>74.30</td>\n",
       "      <td>3290.17</td>\n",
       "      <td>39613.49</td>\n",
       "      <td>13193.70</td>\n",
       "      <td>0.3331</td>\n",
       "      <td>2.0343</td>\n",
       "    </tr>\n",
       "    <tr>\n",
       "      <th>9</th>\n",
       "      <td>FL</td>\n",
       "      <td>58.44</td>\n",
       "      <td>1198.91</td>\n",
       "      <td>21944.58</td>\n",
       "      <td>6351.89</td>\n",
       "      <td>0.2895</td>\n",
       "      <td>1.8197</td>\n",
       "    </tr>\n",
       "    <tr>\n",
       "      <th>34</th>\n",
       "      <td>NY</td>\n",
       "      <td>78.40</td>\n",
       "      <td>1868.22</td>\n",
       "      <td>19299.98</td>\n",
       "      <td>7146.14</td>\n",
       "      <td>0.3703</td>\n",
       "      <td>2.1255</td>\n",
       "    </tr>\n",
       "    <tr>\n",
       "      <th>43</th>\n",
       "      <td>TX</td>\n",
       "      <td>57.79</td>\n",
       "      <td>1950.36</td>\n",
       "      <td>29730.31</td>\n",
       "      <td>7778.51</td>\n",
       "      <td>0.2616</td>\n",
       "      <td>1.8727</td>\n",
       "    </tr>\n",
       "  </tbody>\n",
       "</table>\n",
       "</div>"
      ],
      "text/plain": [
       "   State  Personal_Income in thousand  GDP in thousand  \\\n",
       "4     CA                        74.30          3290.17   \n",
       "9     FL                        58.44          1198.91   \n",
       "34    NY                        78.40          1868.22   \n",
       "43    TX                        57.79          1950.36   \n",
       "\n",
       "    Population in thousand  Total Vaccinated in thousand  Vaccination rate  \\\n",
       "4                 39613.49                      13193.70            0.3331   \n",
       "9                 21944.58                       6351.89            0.2895   \n",
       "34                19299.98                       7146.14            0.3703   \n",
       "43                29730.31                       7778.51            0.2616   \n",
       "\n",
       "    Increase rate in vaccinated population  \n",
       "4                                   2.0343  \n",
       "9                                   1.8197  \n",
       "34                                  2.1255  \n",
       "43                                  1.8727  "
      ]
     },
     "execution_count": 46,
     "metadata": {},
     "output_type": "execute_result"
    }
   ],
   "source": [
    "df[df['Population in thousand'] > 16425.32]"
   ]
  },
  {
   "cell_type": "markdown",
   "metadata": {},
   "source": [
    "Again, we found the outlier in the diagram of \"Population in thousand Outlier Analysis\" are CA, FL, NY, and TX (California, Florida, New York, Texas). However, we cannot eliminate these four states' data because these four states are parts of the 51 states in the United States. If we remove the population data for those four states, we will miss data for those four states in the later analysis. So, we don't need to change our data here."
   ]
  },
  {
   "cell_type": "markdown",
   "metadata": {},
   "source": [
    "### Total Vaccinated in thousand Outlier Analysis"
   ]
  },
  {
   "cell_type": "markdown",
   "metadata": {},
   "source": [
    "Lower Outlier = 482.34 - 1.5 * (2583.46 - 482.34) = -2669.34<br>\n",
    "Higher Outlier = 2583.46 + 1.5 * (2583.46 - 482.34) = 5735.14"
   ]
  },
  {
   "cell_type": "code",
   "execution_count": 47,
   "metadata": {},
   "outputs": [
    {
     "data": {
      "text/plain": [
       "Text(0.5, 1.0, 'Total Vaccinated in thousand')"
      ]
     },
     "execution_count": 47,
     "metadata": {},
     "output_type": "execute_result"
    },
    {
     "data": {
      "image/png": "[encoded data removed]",
      "text/plain": [
       "<Figure size 432x288 with 1 Axes>"
      ]
     },
     "metadata": {
      "needs_background": "light"
     },
     "output_type": "display_data"
    }
   ],
   "source": [
    "sns.histplot(x='Total Vaccinated in thousand',data=df).set_title(\"Total Vaccinated in thousand\")"
   ]
  },
  {
   "cell_type": "markdown",
   "metadata": {},
   "source": [
    "We found there is one state that had signifcantly more total vaccinated than other states. We wanted to find which state there was."
   ]
  },
  {
   "cell_type": "code",
   "execution_count": 48,
   "metadata": {},
   "outputs": [
    {
     "data": {
      "text/html": [
       "<div>\n",
       "<style scoped>\n",
       "    .dataframe tbody tr th:only-of-type {\n",
       "        vertical-align: middle;\n",
       "    }\n",
       "\n",
       "    .dataframe tbody tr th {\n",
       "        vertical-align: top;\n",
       "    }\n",
       "\n",
       "    .dataframe thead th {\n",
       "        text-align: right;\n",
       "    }\n",
       "</style>\n",
       "<table border=\"1\" class=\"dataframe\">\n",
       "  <thead>\n",
       "    <tr style=\"text-align: right;\">\n",
       "      <th></th>\n",
       "      <th>State</th>\n",
       "      <th>Personal_Income in thousand</th>\n",
       "      <th>GDP in thousand</th>\n",
       "      <th>Population in thousand</th>\n",
       "      <th>Total Vaccinated in thousand</th>\n",
       "      <th>Vaccination rate</th>\n",
       "      <th>Increase rate in vaccinated population</th>\n",
       "    </tr>\n",
       "  </thead>\n",
       "  <tbody>\n",
       "    <tr>\n",
       "      <th>4</th>\n",
       "      <td>CA</td>\n",
       "      <td>74.30</td>\n",
       "      <td>3290.17</td>\n",
       "      <td>39613.49</td>\n",
       "      <td>13193.70</td>\n",
       "      <td>0.3331</td>\n",
       "      <td>2.0343</td>\n",
       "    </tr>\n",
       "    <tr>\n",
       "      <th>9</th>\n",
       "      <td>FL</td>\n",
       "      <td>58.44</td>\n",
       "      <td>1198.91</td>\n",
       "      <td>21944.58</td>\n",
       "      <td>6351.89</td>\n",
       "      <td>0.2895</td>\n",
       "      <td>1.8197</td>\n",
       "    </tr>\n",
       "    <tr>\n",
       "      <th>34</th>\n",
       "      <td>NY</td>\n",
       "      <td>78.40</td>\n",
       "      <td>1868.22</td>\n",
       "      <td>19299.98</td>\n",
       "      <td>7146.14</td>\n",
       "      <td>0.3703</td>\n",
       "      <td>2.1255</td>\n",
       "    </tr>\n",
       "    <tr>\n",
       "      <th>43</th>\n",
       "      <td>TX</td>\n",
       "      <td>57.79</td>\n",
       "      <td>1950.36</td>\n",
       "      <td>29730.31</td>\n",
       "      <td>7778.51</td>\n",
       "      <td>0.2616</td>\n",
       "      <td>1.8727</td>\n",
       "    </tr>\n",
       "  </tbody>\n",
       "</table>\n",
       "</div>"
      ],
      "text/plain": [
       "   State  Personal_Income in thousand  GDP in thousand  \\\n",
       "4     CA                        74.30          3290.17   \n",
       "9     FL                        58.44          1198.91   \n",
       "34    NY                        78.40          1868.22   \n",
       "43    TX                        57.79          1950.36   \n",
       "\n",
       "    Population in thousand  Total Vaccinated in thousand  Vaccination rate  \\\n",
       "4                 39613.49                      13193.70            0.3331   \n",
       "9                 21944.58                       6351.89            0.2895   \n",
       "34                19299.98                       7146.14            0.3703   \n",
       "43                29730.31                       7778.51            0.2616   \n",
       "\n",
       "    Increase rate in vaccinated population  \n",
       "4                                   2.0343  \n",
       "9                                   1.8197  \n",
       "34                                  2.1255  \n",
       "43                                  1.8727  "
      ]
     },
     "execution_count": 48,
     "metadata": {},
     "output_type": "execute_result"
    }
   ],
   "source": [
    "df[df['Total Vaccinated in thousand'] > 5735.14]"
   ]
  },
  {
   "cell_type": "markdown",
   "metadata": {},
   "source": [
    "We found the outlier in the diagram of \"Total Vaccinated in thousand Outlier Analysis\" are CA, FL, NY, and TX (California, Florida, New York, Texas). However, we cannot eliminate these four states' data because they are parts of the 51 states in the United States. If we remove the population data for these variables, we will miss data for these four states in the later analysis. So, we don't need to change our data here."
   ]
  },
  {
   "cell_type": "markdown",
   "metadata": {},
   "source": [
    "### Vaccination coverage rate and population\n",
    "We considered population to be probably the confounding variable that may affect both a state's economy and Vaccination coverage rate. We wanted to determine if there was relationship between these variables."
   ]
  },
  {
   "cell_type": "code",
   "execution_count": 49,
   "metadata": {},
   "outputs": [
    {
     "data": {
      "text/plain": [
       "Text(0.5, 1.0, 'Vaccination coverage rate and Population')"
      ]
     },
     "execution_count": 49,
     "metadata": {},
     "output_type": "execute_result"
    },
    {
     "data": {
      "image/png": "[encoded data removed]",
      "text/plain": [
       "<Figure size 432x288 with 1 Axes>"
      ]
     },
     "metadata": {
      "needs_background": "light"
     },
     "output_type": "display_data"
    }
   ],
   "source": [
    "#draw the scatter plot\n",
    "sns.scatterplot(x='Vaccination rate',y='Population in thousand',data=df).set_title(\"Vaccination coverage rate and Population\")"
   ]
  },
  {
   "cell_type": "markdown",
   "metadata": {},
   "source": [
    "It seems like the Vaccination coverage rate doesn't have a positive relationship with the population. In our diagram, all the points are hovering near the X-axis. Near the top of the graph, there is also an extreme outlier. From the above graph, we could initiatory get the conclusion that Total Vaccinated and population don't have a linear relationship."
   ]
  },
  {
   "cell_type": "markdown",
   "metadata": {},
   "source": [
    "### Relationship between Vaccination coverage rate and GDP"
   ]
  },
  {
   "cell_type": "markdown",
   "metadata": {},
   "source": [
    "As we mentioned in purpose, we believed that state economie(GDP) is our confounding variable which may influence vaccination coverage by state. So we need to analyze whether there is a connection between these two data."
   ]
  },
  {
   "cell_type": "code",
   "execution_count": 50,
   "metadata": {},
   "outputs": [
    {
     "data": {
      "text/plain": [
       "Text(0.5, 1.0, 'Vaccination coverage rate and GDP')"
      ]
     },
     "execution_count": 50,
     "metadata": {},
     "output_type": "execute_result"
    },
    {
     "data": {
      "image/png": "[encoded data removed]",
      "text/plain": [
       "<Figure size 432x288 with 1 Axes>"
      ]
     },
     "metadata": {
      "needs_background": "light"
     },
     "output_type": "display_data"
    }
   ],
   "source": [
    "#using the catterplot for analyzing \n",
    "sns.scatterplot(x='Vaccination rate',y='GDP in thousand',data=df).set_title(\"Vaccination coverage rate and GDP\")"
   ]
  },
  {
   "cell_type": "markdown",
   "metadata": {},
   "source": [
    "It seems like the Vaccination coverage rate doesn't have a positive relationship with the GDP. In our diagram, all the points are hovering near the X-axis. Near the top of the graph, there is also an extreme outlier. From the above graph, we could initiatory get the conclusion that Total Vaccinated and GDP don't have a linear relationship. We will choose another angle to analyze whether Vaccination coverage rate has any relationship with the economy."
   ]
  },
  {
   "cell_type": "markdown",
   "metadata": {},
   "source": [
    "### Relationship between Vaccination coverage rate and Personal_Income"
   ]
  },
  {
   "cell_type": "markdown",
   "metadata": {},
   "source": [
    "Personal income is one of the most important indicators of a state's economic performance. As we did in the previous step, we use scatter plot to analyze the relationship between the Vaccination coverage rate and Personal_Income."
   ]
  },
  {
   "cell_type": "code",
   "execution_count": 51,
   "metadata": {},
   "outputs": [
    {
     "data": {
      "text/plain": [
       "Text(0.5, 1.0, 'Vaccination coverage rate and Personal_Income')"
      ]
     },
     "execution_count": 51,
     "metadata": {},
     "output_type": "execute_result"
    },
    {
     "data": {
      "image/png": "[encoded data removed]",
      "text/plain": [
       "<Figure size 432x288 with 1 Axes>"
      ]
     },
     "metadata": {
      "needs_background": "light"
     },
     "output_type": "display_data"
    }
   ],
   "source": [
    "#using the catterplot for analyzing \n",
    "sns.scatterplot(x='Vaccination rate',y='Personal_Income in thousand',data=df,color=\"black\").set_title(\"Vaccination coverage rate and Personal_Income\")"
   ]
  },
  {
   "cell_type": "markdown",
   "metadata": {},
   "source": [
    "From above graph, we find that there seems to be a positive linear relationship between the Vaccination coverage rate and Personal_income. In order to see their direct relationship more closely, we use the lmplot to draw the line of their relationship."
   ]
  },
  {
   "cell_type": "code",
   "execution_count": 52,
   "metadata": {},
   "outputs": [
    {
     "data": {
      "text/plain": [
       "<seaborn.axisgrid.FacetGrid at 0x7fd4c19ecc10>"
      ]
     },
     "execution_count": 52,
     "metadata": {},
     "output_type": "execute_result"
    },
    {
     "data": {
      "image/png": "[encoded data removed]",
      "text/plain": [
       "<Figure size 806.4x504 with 1 Axes>"
      ]
     },
     "metadata": {
      "needs_background": "light"
     },
     "output_type": "display_data"
    }
   ],
   "source": [
    "# Relationship between the Vaccination coverage rate and Personal_Income\n",
    "sns.lmplot(\n",
    "    x='Vaccination rate',\n",
    "    y='Personal_Income in thousand',\n",
    "    data = df,\n",
    "    fit_reg=True,\n",
    "    scatter_kws={'color':'red'},\n",
    "    line_kws={'color':'blue'},\n",
    "    aspect = 1.6,\n",
    "    height= 7\n",
    ")"
   ]
  },
  {
   "cell_type": "markdown",
   "metadata": {},
   "source": [
    "From the new graph, we can see intuitively that here is a positive linear relationship between the Vaccination coverage rate and Personal_income. This also suggests that individual income has a positive impact on vaccination coverage rate in each state. Vaccination coverage rate increases when a state has high personal income."
   ]
  },
  {
   "cell_type": "markdown",
   "metadata": {},
   "source": [
    "## OLS Regression Model"
   ]
  },
  {
   "cell_type": "code",
   "execution_count": 53,
   "metadata": {},
   "outputs": [],
   "source": [
    "# Linear regression analysis\n",
    "dependent, predictors = patsy.dmatrices('Q(\"Personal_Income in thousand\") ~ Q(\"Vaccination rate\") + Q(\"Population in thousand\")', df)\n",
    "mode = sm.OLS(dependent, predictors)\n",
    "result = mode.fit()"
   ]
  },
  {
   "cell_type": "code",
   "execution_count": 54,
   "metadata": {},
   "outputs": [
    {
     "data": {
      "text/html": [
       "<table class=\"simpletable\">\n",
       "<caption>OLS Regression Results</caption>\n",
       "<tr>\n",
       "  <th>Dep. Variable:</th>    <td>Q(\"Personal_Income in thousand\")</td> <th>  R-squared:         </th> <td>   0.433</td>\n",
       "</tr>\n",
       "<tr>\n",
       "  <th>Model:</th>                           <td>OLS</td>               <th>  Adj. R-squared:    </th> <td>   0.410</td>\n",
       "</tr>\n",
       "<tr>\n",
       "  <th>Method:</th>                     <td>Least Squares</td>          <th>  F-statistic:       </th> <td>   18.34</td>\n",
       "</tr>\n",
       "<tr>\n",
       "  <th>Date:</th>                     <td>Fri, 10 Dec 2021</td>         <th>  Prob (F-statistic):</th> <td>1.21e-06</td>\n",
       "</tr>\n",
       "<tr>\n",
       "  <th>Time:</th>                         <td>16:52:53</td>             <th>  Log-Likelihood:    </th> <td> -174.57</td>\n",
       "</tr>\n",
       "<tr>\n",
       "  <th>No. Observations:</th>              <td>    51</td>              <th>  AIC:               </th> <td>   355.1</td>\n",
       "</tr>\n",
       "<tr>\n",
       "  <th>Df Residuals:</th>                  <td>    48</td>              <th>  BIC:               </th> <td>   360.9</td>\n",
       "</tr>\n",
       "<tr>\n",
       "  <th>Df Model:</th>                      <td>     2</td>              <th>                     </th>     <td> </td>   \n",
       "</tr>\n",
       "<tr>\n",
       "  <th>Covariance Type:</th>              <td>nonrobust</td>            <th>                     </th>     <td> </td>   \n",
       "</tr>\n",
       "</table>\n",
       "<table class=\"simpletable\">\n",
       "<tr>\n",
       "               <td></td>                  <th>coef</th>     <th>std err</th>      <th>t</th>      <th>P>|t|</th>  <th>[0.025</th>    <th>0.975]</th>  \n",
       "</tr>\n",
       "<tr>\n",
       "  <th>Intercept</th>                   <td>   35.8800</td> <td>    4.144</td> <td>    8.658</td> <td> 0.000</td> <td>   27.547</td> <td>   44.213</td>\n",
       "</tr>\n",
       "<tr>\n",
       "  <th>Q(\"Vaccination rate\")</th>       <td>   82.5142</td> <td>   14.242</td> <td>    5.794</td> <td> 0.000</td> <td>   53.878</td> <td>  111.151</td>\n",
       "</tr>\n",
       "<tr>\n",
       "  <th>Q(\"Population in thousand\")</th> <td>    0.0001</td> <td>    0.000</td> <td>    1.019</td> <td> 0.313</td> <td>   -0.000</td> <td>    0.000</td>\n",
       "</tr>\n",
       "</table>\n",
       "<table class=\"simpletable\">\n",
       "<tr>\n",
       "  <th>Omnibus:</th>       <td> 7.821</td> <th>  Durbin-Watson:     </th> <td>   1.874</td>\n",
       "</tr>\n",
       "<tr>\n",
       "  <th>Prob(Omnibus):</th> <td> 0.020</td> <th>  Jarque-Bera (JB):  </th> <td>   6.862</td>\n",
       "</tr>\n",
       "<tr>\n",
       "  <th>Skew:</th>          <td> 0.799</td> <th>  Prob(JB):          </th> <td>  0.0324</td>\n",
       "</tr>\n",
       "<tr>\n",
       "  <th>Kurtosis:</th>      <td> 3.821</td> <th>  Cond. No.          </th> <td>1.35e+05</td>\n",
       "</tr>\n",
       "</table><br/><br/>Notes:<br/>[1] Standard Errors assume that the covariance matrix of the errors is correctly specified.<br/>[2] The condition number is large, 1.35e+05. This might indicate that there are<br/>strong multicollinearity or other numerical problems."
      ],
      "text/plain": [
       "<class 'statsmodels.iolib.summary.Summary'>\n",
       "\"\"\"\n",
       "                                   OLS Regression Results                                   \n",
       "============================================================================================\n",
       "Dep. Variable:     Q(\"Personal_Income in thousand\")   R-squared:                       0.433\n",
       "Model:                                          OLS   Adj. R-squared:                  0.410\n",
       "Method:                               Least Squares   F-statistic:                     18.34\n",
       "Date:                              Fri, 10 Dec 2021   Prob (F-statistic):           1.21e-06\n",
       "Time:                                      16:52:53   Log-Likelihood:                -174.57\n",
       "No. Observations:                                51   AIC:                             355.1\n",
       "Df Residuals:                                    48   BIC:                             360.9\n",
       "Df Model:                                         2                                         \n",
       "Covariance Type:                          nonrobust                                         \n",
       "===============================================================================================\n",
       "                                  coef    std err          t      P>|t|      [0.025      0.975]\n",
       "-----------------------------------------------------------------------------------------------\n",
       "Intercept                      35.8800      4.144      8.658      0.000      27.547      44.213\n",
       "Q(\"Vaccination rate\")          82.5142     14.242      5.794      0.000      53.878     111.151\n",
       "Q(\"Population in thousand\")     0.0001      0.000      1.019      0.313      -0.000       0.000\n",
       "==============================================================================\n",
       "Omnibus:                        7.821   Durbin-Watson:                   1.874\n",
       "Prob(Omnibus):                  0.020   Jarque-Bera (JB):                6.862\n",
       "Skew:                           0.799   Prob(JB):                       0.0324\n",
       "Kurtosis:                       3.821   Cond. No.                     1.35e+05\n",
       "==============================================================================\n",
       "\n",
       "Notes:\n",
       "[1] Standard Errors assume that the covariance matrix of the errors is correctly specified.\n",
       "[2] The condition number is large, 1.35e+05. This might indicate that there are\n",
       "strong multicollinearity or other numerical problems.\n",
       "\"\"\""
      ]
     },
     "execution_count": 54,
     "metadata": {},
     "output_type": "execute_result"
    }
   ],
   "source": [
    "result.summary()"
   ]
  },
  {
   "cell_type": "markdown",
   "metadata": {},
   "source": [
    "From the table we can see that the P value is 0.000 which is lower than all significance levels,  it indicates there is a positive linear relationship between the personal income and vaccination rate. We can also find out the P-value for Population is 0.313. It is much larger than 0.05, making us fail to reject the null hypothesis. Therefore, we can state that there is no relation between vaccination rate and population.\n",
    "\n",
    "After we analyzed the relationship between Vaccination coverage rate and economy, we get that there is a postive linear relationship between the Vaccination coverage rate and Personal_income. We also want to analyze the relationship between Increase rate in vaccinated population and economy."
   ]
  },
  {
   "cell_type": "markdown",
   "metadata": {},
   "source": [
    "### Increase rate in vaccinated population and population\n",
    "We considered population to be also probably the confounding variable that may affect both a state's economy and Increase rate in vaccinated population. We wanted to determine if there was relationship between these variables."
   ]
  },
  {
   "cell_type": "code",
   "execution_count": 55,
   "metadata": {},
   "outputs": [
    {
     "data": {
      "text/plain": [
       "Text(0.5, 1.0, 'Increase rate in vaccinated population and Population')"
      ]
     },
     "execution_count": 55,
     "metadata": {},
     "output_type": "execute_result"
    },
    {
     "data": {
      "image/png": "[encoded data removed]",
      "text/plain": [
       "<Figure size 432x288 with 1 Axes>"
      ]
     },
     "metadata": {
      "needs_background": "light"
     },
     "output_type": "display_data"
    }
   ],
   "source": [
    "#draw the scatter plot\n",
    "sns.scatterplot(x='Increase rate in vaccinated population',y='Population in thousand',data=df).set_title(\"Increase rate in vaccinated population and Population\")"
   ]
  },
  {
   "cell_type": "markdown",
   "metadata": {},
   "source": [
    "It seems like Increase rate in vaccinated population doesn't have a positive relationship with the population. In our diagram, all the points are hovering near the X-axis. Near the top of the graph, there is also an extreme outlier. From the above graph, we could initiatory get the conclusion that Increase rate in vaccinated population and population don't have a linear relationship."
   ]
  },
  {
   "cell_type": "markdown",
   "metadata": {},
   "source": [
    "### Relationship between Increase rate in vaccinated population and GDP"
   ]
  },
  {
   "cell_type": "markdown",
   "metadata": {},
   "source": [
    "In this section, we will try to analyze the relationship between Increase rate in vaccinated population and GDP."
   ]
  },
  {
   "cell_type": "code",
   "execution_count": 56,
   "metadata": {},
   "outputs": [
    {
     "data": {
      "text/plain": [
       "Text(0.5, 1.0, 'Increase rate in vaccinated population and GDP')"
      ]
     },
     "execution_count": 56,
     "metadata": {},
     "output_type": "execute_result"
    },
    {
     "data": {
      "image/png": "[encoded data removed]",
      "text/plain": [
       "<Figure size 432x288 with 1 Axes>"
      ]
     },
     "metadata": {
      "needs_background": "light"
     },
     "output_type": "display_data"
    }
   ],
   "source": [
    "#using the catterplot for analyzing \n",
    "sns.scatterplot(x='Increase rate in vaccinated population',y='GDP in thousand',data=df,color=\"green\").set_title(\"Increase rate in vaccinated population and GDP\")"
   ]
  },
  {
   "cell_type": "markdown",
   "metadata": {},
   "source": [
    "It seems like the increase rate in vaccinated population doesn't have a relationship with the GDP. In our diagram, all the points are hovering near the X-axis. Near the top of the graph, there is also an extreme outlier. From the above graph, we could initiatory get the conclusion that the increase rate in vaccinated population and GDP don't have a linear relationship. We will choose another angle to analyze whether Increase rate in vaccinated population has any relationship with the economy."
   ]
  },
  {
   "cell_type": "markdown",
   "metadata": {},
   "source": [
    "### Relationship between Increase rate in vaccinated population and Personal_Income"
   ]
  },
  {
   "cell_type": "markdown",
   "metadata": {},
   "source": [
    "As we did in the previous step, we use scatter plot to analyze the relationship between the Increase rate in vaccinated population and Personal_income."
   ]
  },
  {
   "cell_type": "code",
   "execution_count": 57,
   "metadata": {},
   "outputs": [
    {
     "data": {
      "text/plain": [
       "Text(0.5, 1.0, 'Increase rate in vaccinated population and Personal_Income')"
      ]
     },
     "execution_count": 57,
     "metadata": {},
     "output_type": "execute_result"
    },
    {
     "data": {
      "image/png": "[encoded data removed]",
      "text/plain": [
       "<Figure size 432x288 with 1 Axes>"
      ]
     },
     "metadata": {
      "needs_background": "light"
     },
     "output_type": "display_data"
    }
   ],
   "source": [
    "#using the catterplot for analyzing \n",
    "sns.scatterplot(x='Increase rate in vaccinated population',y='Personal_Income in thousand',data=df,color=\"red\").set_title(\"Increase rate in vaccinated population and Personal_Income\")"
   ]
  },
  {
   "cell_type": "markdown",
   "metadata": {},
   "source": [
    "From above graph, we find that there is a positive linear relationship between the Increase rate in vaccinated population and Personal_Income. In order to see their direct relationship more closely, we use the lmplot to draw the line of their relationship."
   ]
  },
  {
   "cell_type": "code",
   "execution_count": 58,
   "metadata": {},
   "outputs": [
    {
     "data": {
      "text/plain": [
       "<seaborn.axisgrid.FacetGrid at 0x7fd4bf7c8fa0>"
      ]
     },
     "execution_count": 58,
     "metadata": {},
     "output_type": "execute_result"
    },
    {
     "data": {
      "image/png": "[encoded data removed]",
      "text/plain": [
       "<Figure size 806.4x504 with 1 Axes>"
      ]
     },
     "metadata": {
      "needs_background": "light"
     },
     "output_type": "display_data"
    }
   ],
   "source": [
    "# Relationship between the Increase rate in vaccinated population and Personal_Income\n",
    "sns.lmplot(\n",
    "    x='Increase rate in vaccinated population',\n",
    "    y='Personal_Income in thousand',\n",
    "    data = df,\n",
    "    fit_reg=True,\n",
    "    scatter_kws={'color':'red'},\n",
    "    line_kws={'color':'blue'},\n",
    "    aspect = 1.6,\n",
    "    height= 7\n",
    ")"
   ]
  },
  {
   "cell_type": "markdown",
   "metadata": {},
   "source": [
    "From the new graph, we can see intuitively that here is a positive linear relationship between the Increase rate in vaccinated population and Personal_income. This also suggests that individual income has a positive impact on Increase rate in vaccinated population in each state. Increase rate in vaccinated population increases when a state has high personal income."
   ]
  },
  {
   "cell_type": "markdown",
   "metadata": {},
   "source": [
    "## OLS Regression Model"
   ]
  },
  {
   "cell_type": "code",
   "execution_count": 59,
   "metadata": {},
   "outputs": [],
   "source": [
    "# Linear regression analysis\n",
    "dependent, predictors = patsy.dmatrices('Q(\"Personal_Income in thousand\") ~ Q(\"Increase rate in vaccinated population\") + Q(\"Population in thousand\")', df)\n",
    "mode = sm.OLS(dependent, predictors)\n",
    "result = mode.fit()"
   ]
  },
  {
   "cell_type": "code",
   "execution_count": 60,
   "metadata": {},
   "outputs": [
    {
     "data": {
      "text/html": [
       "<table class=\"simpletable\">\n",
       "<caption>OLS Regression Results</caption>\n",
       "<tr>\n",
       "  <th>Dep. Variable:</th>    <td>Q(\"Personal_Income in thousand\")</td> <th>  R-squared:         </th> <td>   0.321</td>\n",
       "</tr>\n",
       "<tr>\n",
       "  <th>Model:</th>                           <td>OLS</td>               <th>  Adj. R-squared:    </th> <td>   0.293</td>\n",
       "</tr>\n",
       "<tr>\n",
       "  <th>Method:</th>                     <td>Least Squares</td>          <th>  F-statistic:       </th> <td>   11.36</td>\n",
       "</tr>\n",
       "<tr>\n",
       "  <th>Date:</th>                     <td>Fri, 10 Dec 2021</td>         <th>  Prob (F-statistic):</th> <td>9.15e-05</td>\n",
       "</tr>\n",
       "<tr>\n",
       "  <th>Time:</th>                         <td>16:52:54</td>             <th>  Log-Likelihood:    </th> <td> -179.17</td>\n",
       "</tr>\n",
       "<tr>\n",
       "  <th>No. Observations:</th>              <td>    51</td>              <th>  AIC:               </th> <td>   364.3</td>\n",
       "</tr>\n",
       "<tr>\n",
       "  <th>Df Residuals:</th>                  <td>    48</td>              <th>  BIC:               </th> <td>   370.1</td>\n",
       "</tr>\n",
       "<tr>\n",
       "  <th>Df Model:</th>                      <td>     2</td>              <th>                     </th>     <td> </td>   \n",
       "</tr>\n",
       "<tr>\n",
       "  <th>Covariance Type:</th>              <td>nonrobust</td>            <th>                     </th>     <td> </td>   \n",
       "</tr>\n",
       "</table>\n",
       "<table class=\"simpletable\">\n",
       "<tr>\n",
       "                       <td></td>                          <th>coef</th>     <th>std err</th>      <th>t</th>      <th>P>|t|</th>  <th>[0.025</th>    <th>0.975]</th>  \n",
       "</tr>\n",
       "<tr>\n",
       "  <th>Intercept</th>                                   <td>   38.7768</td> <td>    4.650</td> <td>    8.339</td> <td> 0.000</td> <td>   29.427</td> <td>   48.127</td>\n",
       "</tr>\n",
       "<tr>\n",
       "  <th>Q(\"Increase rate in vaccinated population\")</th> <td>   13.0174</td> <td>    2.903</td> <td>    4.485</td> <td> 0.000</td> <td>    7.181</td> <td>   18.853</td>\n",
       "</tr>\n",
       "<tr>\n",
       "  <th>Q(\"Population in thousand\")</th>                 <td> 3.638e-05</td> <td>    0.000</td> <td>    0.218</td> <td> 0.828</td> <td>   -0.000</td> <td>    0.000</td>\n",
       "</tr>\n",
       "</table>\n",
       "<table class=\"simpletable\">\n",
       "<tr>\n",
       "  <th>Omnibus:</th>       <td> 5.058</td> <th>  Durbin-Watson:     </th> <td>   1.866</td>\n",
       "</tr>\n",
       "<tr>\n",
       "  <th>Prob(Omnibus):</th> <td> 0.080</td> <th>  Jarque-Bera (JB):  </th> <td>   4.926</td>\n",
       "</tr>\n",
       "<tr>\n",
       "  <th>Skew:</th>          <td> 0.720</td> <th>  Prob(JB):          </th> <td>  0.0852</td>\n",
       "</tr>\n",
       "<tr>\n",
       "  <th>Kurtosis:</th>      <td> 2.504</td> <th>  Cond. No.          </th> <td>4.54e+04</td>\n",
       "</tr>\n",
       "</table><br/><br/>Notes:<br/>[1] Standard Errors assume that the covariance matrix of the errors is correctly specified.<br/>[2] The condition number is large, 4.54e+04. This might indicate that there are<br/>strong multicollinearity or other numerical problems."
      ],
      "text/plain": [
       "<class 'statsmodels.iolib.summary.Summary'>\n",
       "\"\"\"\n",
       "                                   OLS Regression Results                                   \n",
       "============================================================================================\n",
       "Dep. Variable:     Q(\"Personal_Income in thousand\")   R-squared:                       0.321\n",
       "Model:                                          OLS   Adj. R-squared:                  0.293\n",
       "Method:                               Least Squares   F-statistic:                     11.36\n",
       "Date:                              Fri, 10 Dec 2021   Prob (F-statistic):           9.15e-05\n",
       "Time:                                      16:52:54   Log-Likelihood:                -179.17\n",
       "No. Observations:                                51   AIC:                             364.3\n",
       "Df Residuals:                                    48   BIC:                             370.1\n",
       "Df Model:                                         2                                         \n",
       "Covariance Type:                          nonrobust                                         \n",
       "===============================================================================================================\n",
       "                                                  coef    std err          t      P>|t|      [0.025      0.975]\n",
       "---------------------------------------------------------------------------------------------------------------\n",
       "Intercept                                      38.7768      4.650      8.339      0.000      29.427      48.127\n",
       "Q(\"Increase rate in vaccinated population\")    13.0174      2.903      4.485      0.000       7.181      18.853\n",
       "Q(\"Population in thousand\")                  3.638e-05      0.000      0.218      0.828      -0.000       0.000\n",
       "==============================================================================\n",
       "Omnibus:                        5.058   Durbin-Watson:                   1.866\n",
       "Prob(Omnibus):                  0.080   Jarque-Bera (JB):                4.926\n",
       "Skew:                           0.720   Prob(JB):                       0.0852\n",
       "Kurtosis:                       2.504   Cond. No.                     4.54e+04\n",
       "==============================================================================\n",
       "\n",
       "Notes:\n",
       "[1] Standard Errors assume that the covariance matrix of the errors is correctly specified.\n",
       "[2] The condition number is large, 4.54e+04. This might indicate that there are\n",
       "strong multicollinearity or other numerical problems.\n",
       "\"\"\""
      ]
     },
     "execution_count": 60,
     "metadata": {},
     "output_type": "execute_result"
    }
   ],
   "source": [
    "result.summary()"
   ]
  },
  {
   "cell_type": "markdown",
   "metadata": {},
   "source": [
    "From the table we can see that the P value for Increase rate in vaccinated population is 0.000 which is lower than all significance levels,  it indicates there is a postive linear relationship between the personal income and vaccination rate. We can also find out the P-value for Populaion is 0.828. It is much larger than 0.05, making us fail to reject the null hypothesis. Therefore, we can state that there is no relation between Increase rate in vaccinated population and population.\n",
    "\n",
    "After we anlayzed the relationship between Increase rate in vaccinated population and econmy, we get that there is a postive linear relationship between Increase rate in vaccinated population and Personal_income."
   ]
  },
  {
   "cell_type": "markdown",
   "metadata": {},
   "source": [
    "# Ethics & Privacy"
   ]
  },
  {
   "attachments": {},
   "cell_type": "markdown",
   "metadata": {},
   "source": [
    "Our research question is to check if each state is contributing to the spread of COVID-19. In terms of data, we will be collecting from the government’s site, so we can guarantee the accuracy of it. Our goal is to focus on a specific season for data analysis, which will include information about the number of people vaccinated each date for that whole season, the GPD, and personal income. There might be bias here since it is based on a seasonal term, especially with GDP and personal income. For example, in sales services there are busy and non-busy seasons, meaning it affects the GDP accuracy when we only look at one. Moreover, people might prefer getting vaccinated at a specific season than others, hence will create a difference. Another bias is that we don’t have many research data to choose. Since the vaccine only became available in March this year, we had to select data from march onward for our research analysis. And because the government did not release GDP per person for the third quarter of this year when we did our survey, we have a narrower range of data to choose from. Finally, we only chose the data of the second quarter of 2021 as our research data. However, we think our research is still very necessary. Data from early vaccine research can help governments choose the number and region which vaccines need to be spread.\n",
    "To avoid any biases we will bring our data in a broader view because there isn’t any other season for comparisons. Furthermore, due to sample sizes and variation, there may be bias in a specific state. If we are collecting 1000 samples from both California and Michigan, then the sample will better represent Michigan than California because California has a bigger population. Therefore, we hope to be consistent with all samples and be as balanced as possible. There is also the problem of sample size mentioned above. The data we have so far is still sparse. To better improve our research and improve the accuracy of our research results, we can carry out more in-depth investigation and research. We can run the same survey again next March when the problem will be gone.\n",
    "\n",
    "In order to prevent the invasion of personal privacy, we selected all data from official government websites. The data is publicly available, which has been publicized by the Bureau of Economic Analysis(BEA) and Centers for Disease Control and Prevention(CDC). In the process of data cleaning and data analysis, we did not select any data of each body. This is also a good way to prevent information leakage."
   ]
  },
  {
   "cell_type": "markdown",
   "metadata": {},
   "source": [
    "# Conclusion & Discussion"
   ]
  },
  {
   "cell_type": "markdown",
   "metadata": {},
   "source": [
    "After deciding the final version of the hypothesis, our first step was to collect data and do data cleaning for our dataset  in order to perform data analysis logically and tightly. We collected four main dataset, they are vaccination rate, personal income, GDP and  increase rate of the vaccinated population, and one ancillary dataset to indicate the 51 states correctly. In order to find out the dataset we need, we extracted the number of vaccinations by state. And then, filtering the personal income data to get the data from 04/01/2021 to 06/30/2021 in the consideration of the limitation on official state personal income data integrity. After we extract the columns of value we need and renaming them, we calculated the vaccination rate of each state. Moreover, we combined all these data to form a new dataset named df.\n",
    "\n",
    "In the step of the data analysis, we found that personal income and vaccination rates showed a positive linear relationship. We used the matrix function to draw a scatter plot and used lmplot to add an upward line to the scatter plot to show the upward trend. However, there is no linear relationship between GDP and vaccination rates. We inferring this phenomenon is probably due to the fact that GDP contains too much non-personal related data, which is the market value of all final products produced by economic activity in a region at a given period. The reason for the correlation between personal income and vaccination rates is that both vaccination and income are related to individuals, and no unrelated data such as market value are included. We also found that population is a confounding variable because it is not related to the vaccination rate or the increase rate of the vaccinated population. The reason we still add population in our OLS regression model is because population contains many other factors that might affect personal income such as demographics and the age distribution. \n",
    "\n",
    "To sum up, even though our project was able to conclude that personal income and vaccination rates have a positive relationship, we still need more information to make a more complete statement. Since we only collected two months of data and covid-19 is the new disease we are facing, vaccination policy is also changing. Variables like government policy, individual’s age, and much more information are needed to be included to make a complete statement.\n"
   ]
  },
  {
   "cell_type": "markdown",
   "metadata": {},
   "source": [
    "# Team Contributions"
   ]
  },
  {
   "cell_type": "markdown",
   "metadata": {},
   "source": [
    "Jianfan Huo: Topic Choosing, Data cleaning, Data Analysis, Data description, Edit cleaning and analysis <br>\n",
    "Yunhao Du: Topic Choosing, Data obtain, Data cleaning, Data Analysis, Data description, Video powerpoint <br>\n",
    "Yixin Jiang: Topic Choosing, Data obtain, Data cleaning, Data Analysis, Data description, Video content <br>\n",
    "Yixiao An: Background, Data description, Conclusion & Discussion, Video <br>\n",
    "Celine Zhao: Overview, Ethics&Privacy, Team Expectations"
   ]
  }
 ],
 "metadata": {
  "kernelspec": {
   "display_name": "Python 3",
   "language": "python",
   "name": "python3"
  },
  "language_info": {
   "codemirror_mode": {
    "name": "ipython",
    "version": 3
   },
   "file_extension": ".py",
   "mimetype": "text/x-python",
   "name": "python",
   "nbconvert_exporter": "python",
   "pygments_lexer": "ipython3",
   "version": "3.8.5"
  }
 },
 "nbformat": 4,
 "nbformat_minor": 2
}
