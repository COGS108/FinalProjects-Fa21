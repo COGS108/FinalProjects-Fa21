{
 "cells": [
  {
   "cell_type": "markdown",
   "metadata": {},
   "source": [
    "# UC Scam Diego? "
   ]
  },
  {
   "cell_type": "markdown",
   "metadata": {},
   "source": [
    "## Permissions\n",
    "\n",
    "Place an `X` in the appropriate bracket below to specify if you would like your group's project to be made available to the public. (Note that student names will be included (but PIDs will be scraped from any groups who include their PIDs).\n",
    "\n",
    "* [ X ] YES - make available\n",
    "* [  ] NO - keep private"
   ]
  },
  {
   "cell_type": "markdown",
   "metadata": {},
   "source": [
    "# Overview"
   ]
  },
  {
   "cell_type": "markdown",
   "metadata": {},
   "source": [
    "Our project will analyze the subreddits of several California universities in hopes of finding how students view their respective university's administrative decisions. By implementing a scraper API, we were able to isolate the text of these posts and filter them to create our dataset. By performing sentiment analysis on posts that reference topics like housing, dining, and classes; we will compare the conversations of UC San Diego students to other California schools. Once we discovered the proportion of negative words, we performed a Chi Squared test to see if the UC San Diego Reddit community had a different perception of their administration compared to other university subreddits. Our results indicated that UCSD does in fact have a more negative sentiment towards their administration compared to other California universities."
   ]
  },
  {
   "cell_type": "markdown",
   "metadata": {},
   "source": [
    "# Names\n",
    "\n",
    "- Yuri Bukhradze\n",
    "- Matthew Chong\n",
    "- Caleb Ko\n",
    "- Amy Nguyen\n",
    "- Miles Simitz"
   ]
  },
  {
   "cell_type": "markdown",
   "metadata": {},
   "source": [
    "<a id='research_question'></a>\n",
    "# Research Question"
   ]
  },
  {
   "cell_type": "markdown",
   "metadata": {},
   "source": [
    "Has the UC San Diego Reddit community voiced a more negative reaction to their university's administrative decisions regarding Coronavirus compared to other California universities (specifically UCSD, UC Berkeley, SDSU, Stanford, CalPoly SLO, USC, CSU Fullerton and UC Davis)? "
   ]
  },
  {
   "cell_type": "markdown",
   "metadata": {},
   "source": [
    "<a id='background'></a>\n",
    "\n",
    "## Background & Prior Work"
   ]
  },
  {
   "cell_type": "markdown",
   "metadata": {},
   "source": [
    "In the past 2 years, the world was rocked by the COVID-19 pandemic, and many spheres of life changed abruptly. As college students, we are the most concerned about how the pandemic and the ensuing lockdown affected our ability to attend classes, connect with peers, and get work experience. In these circumstances, we had to adapt to online learning, and such a \"remote\" presence in the learning environment had different effects on people. Hoping to research how the pandemic affected college students and their ability to learn, socialize and work remotely, we decided to analyze data in different online communities that are hosted on Reddit. This way we will be able to determine whether colleges responded to the pandemic in a similar manner, whether the students had the similar sentiments across universities, and just in general how the pandemic affected the sentiments on students on these online forums.\n",
    "\n",
    "The topic and methodology of our project is not unique: many groups before chose to research certain data as the COVID-19 pandemic progressed. For instance, a common research question is how the COVID pandemic affected mental health of people, such as the research into survey data by KFF: according to them, 11% of adults reported anxiety or depressive disorders in the first half of 2019, and by January 2021 this number increased 2021 (KFF, Reference 1). The data in this research was collected through direct polling and reflected the people's mental health nationwide, which is different from our methodology, but similar in a way that we are studying how the pandemic was the factor in these changes. For our project, we want to see the similar change, but grouped by different universities (essentially different populations) and sourced in a way that will make answering the question \"Did things change for the better or the worse?\" much harder.\n",
    "\n",
    "In fact, one of the previous COGS 108 projects touched on the similar topic by performing sentiment analysis of Tweets related to the COVID pandemic. While the results of the project were inconclusive and the results did not confirm the hypothesis that the sentiments became more negative (COGS 108, Reference 2), this projects demonstrates that there was previous work done on determining the people's opinions over time using sentiment analysis. The authors of the projects made use of Twitter API and certain tools that streamlined the analysis process. In our case, we will be expecting to make use of similar libraries fine tuned to source Reddit data, such as Reddit's own API (Reference 3).\n",
    "\n",
    "Our research question is primarily motivated by our personal experiences on the r/UCSD community. Dozens of posts surface every month giving scathing criticism of the university's administration. One particularly notable decision is to require many students to return to campus and subsequently demoting triples to doubles. This created a frenzied rush of students trying to find housing, many students having to pay exorbitant prices just to live in La Jolla. Other points of controversy include the number of strikes have increased as student workers struggle to make their needs met (Reference 4) and the ongoing pandemic jeopardized many students' ability to find affordable (or even availabe) housing to continue studying in person (Reference 5). Even 8 months ago, earlier in the pandemic, students expressed their complaints about university's ability to operate during the pandemic (Reference 6). \n",
    "\n",
    "Sentiments like that became a somewhat notable feature of the UCSD subreddit community, but during our research we noticed that communities for other universities also have students complain about online learning, such as Stanford's post from 8 months ago (Reference 7). We were curious if these negative posts were caused by UCSD's decisions, the pessimism of its students, or if it was an issue affecting all universities. The presence of these negative posts from other universities and the climate of California in general lead us to believe that these sentiments applied to everyone, not just UCSD. \n",
    "\n",
    "There exists a wide array of data, tools and reasons for us to undertake the project, which is why we set on confirming that the pandemic truly has been so negative for students, and not just at UCSD. COVID is a historic event that has affected everyone, not just UC San Diego, which is why we felt it was important to explore other schools.\n",
    "\n",
    "References (include links):\n",
    "\n",
    "1) https://www.kff.org/coronavirus-covid-19/issue-brief/the-implications-of-covid-19-for-mental-health-and-substance-use/\n",
    "2) https://github.com/COGS108/FinalProjects-Wi21/blob/main/FinalProject_group028.ipynb\n",
    "3) https://www.reddit.com/dev/api/\n",
    "4) https://www.reddit.com/r/UCSD/comments/ptm5ia/64_student_employees_are_currently_on_strike_for/\n",
    "5) https://www.reddit.com/r/UCSD/comments/pjck5n/tired_of_la_jolla_ignoring_students_with_housing/\n",
    "6) https://www.reddit.com/r/UCSD/comments/ln1ve3/cant_handle_enrollment_really_the_one_thing_that/\n",
    "7) https://www.reddit.com/r/stanford/comments/l8z7y9/online_school_is_trash/"
   ]
  },
  {
   "cell_type": "markdown",
   "metadata": {},
   "source": [
    "# Hypothesis\n"
   ]
  },
  {
   "cell_type": "markdown",
   "metadata": {},
   "source": [
    "We are expecting communities in all of the universities we study to reflect a generally negative sentiment over the course of the pandemic. We believe that this is the case due to the generally poor response to the pandemic by university administrations, uncertainties about academic and professional opportunities in the ongoing lockdown, and the housing crises caused by the economic struggles as a result of the pandemic. We also believe that because of the college climate in California, this sentiment will apply to all California schools, not just UCSD.\n",
    "\n",
    "Our null hypothesis is there is no difference in the sentiments student bodies have towards their administrations. Our alternative hypothesis is that at least one subreddit had a different reception than the others. We will be using a significance level (alpha) of 0.05."
   ]
  },
  {
   "cell_type": "markdown",
   "metadata": {},
   "source": [
    "# Dataset(s)"
   ]
  },
  {
   "cell_type": "markdown",
   "metadata": {},
   "source": [
    "- Dataset Name: Reddit API Results from the Subreddits of UCSD, UC Berkeley, SDSU, Stanford, CalPoly SLO, USC, CSU Fullerton and UC Davis.\n",
    "- Link to the dataset: N/A, the dataset is provided in the repo as a CSV file under name 'posts.csv'\n",
    "- Number of observations: 4972 rows.\n",
    "\n",
    "We will analyze posts on Reddit communities for different univerisities (e.g. r/UCSD for UC San Diego), which we plan to gather by scraping with the Reddit API. This will read and store the text from posts on the website. Our dataset will consist of data from March 2020 (the beginning of the pandemic) until November 1st, when the dataset was created. We will use the search feature of the API in order to filter out posts that weren't relevant to college administration. \n",
    "\n",
    "The list of keywords used is: ['administration', 'housing', 'dining', 'admin', 'chancellor', 'staff', 'strike', 'protest']\n",
    "\n",
    "The list of subreddits is: ['UCSD', 'csuf', 'stanford', 'berkeley', 'USC', 'UCSantaBarbara', 'CalPoly', 'UCDavis']. 'USC' stands for University of Southern California, and CSUF stands for Cal State Fullerton.\n",
    "\n",
    "In order to attempt to get a more representative dataset, we will sample several college from each category (private, public, higher in academic ratings, lower in ratings, etc.), while also performing an independent research in an attempt to understand which universities are more likely to respond to the pandemic in a more effective manner. This will help us alleviate bias and also to better understand what factors could contribute to different sentiments that we might find as a result of our analysis -- after all, the goal of our research is to analyze whether there are differences, and if we do find any it is crucial for us to understand what might be the underlying cause."
   ]
  },
  {
   "cell_type": "markdown",
   "metadata": {},
   "source": [
    "# Setup"
   ]
  },
  {
   "cell_type": "code",
   "execution_count": 41,
   "metadata": {},
   "outputs": [
    {
     "name": "stderr",
     "output_type": "stream",
     "text": [
      "[nltk_data] Downloading package vader_lexicon to\n",
      "[nltk_data]     /home/msimitz/nltk_data...\n",
      "[nltk_data]   Package vader_lexicon is already up-to-date!\n"
     ]
    }
   ],
   "source": [
    "import praw\n",
    "import pandas as pd\n",
    "import numpy as np\n",
    "import seaborn as sns\n",
    "import matplotlib.pyplot as plt\n",
    "import functions as func\n",
    "\n",
    "import nltk\n",
    "nltk.download('vader_lexicon')\n",
    "from nltk.tokenize import word_tokenize\n",
    "from nltk.corpus import stopwords\n",
    "\n",
    "from nltk.sentiment.vader import SentimentIntensityAnalyzer\n",
    "\n",
    "import scipy.stats"
   ]
  },
  {
   "cell_type": "code",
   "execution_count": 42,
   "metadata": {},
   "outputs": [],
   "source": [
    "posts = pd.read_csv('posts.csv')"
   ]
  },
  {
   "cell_type": "code",
   "execution_count": 43,
   "metadata": {},
   "outputs": [
    {
     "data": {
      "text/html": [
       "<div>\n",
       "<style scoped>\n",
       "    .dataframe tbody tr th:only-of-type {\n",
       "        vertical-align: middle;\n",
       "    }\n",
       "\n",
       "    .dataframe tbody tr th {\n",
       "        vertical-align: top;\n",
       "    }\n",
       "\n",
       "    .dataframe thead th {\n",
       "        text-align: right;\n",
       "    }\n",
       "</style>\n",
       "<table border=\"1\" class=\"dataframe\">\n",
       "  <thead>\n",
       "    <tr style=\"text-align: right;\">\n",
       "      <th></th>\n",
       "      <th>title</th>\n",
       "      <th>score</th>\n",
       "      <th>id</th>\n",
       "      <th>subreddit</th>\n",
       "      <th>url</th>\n",
       "      <th>num_comments</th>\n",
       "      <th>body</th>\n",
       "      <th>created</th>\n",
       "    </tr>\n",
       "  </thead>\n",
       "  <tbody>\n",
       "    <tr>\n",
       "      <th>0</th>\n",
       "      <td>Dear UCSD,</td>\n",
       "      <td>148</td>\n",
       "      <td>pxb6c3</td>\n",
       "      <td>UCSD</td>\n",
       "      <td>https://www.reddit.com/r/UCSD/comments/pxb6c3/...</td>\n",
       "      <td>12</td>\n",
       "      <td>As I sit in the dusty gravel lots of Gliderpor...</td>\n",
       "      <td>2021-09-28 17:19:53</td>\n",
       "    </tr>\n",
       "    <tr>\n",
       "      <th>1</th>\n",
       "      <td>Been feeling lost, regretful, and anxious abou...</td>\n",
       "      <td>75</td>\n",
       "      <td>qc8pjz</td>\n",
       "      <td>UCSD</td>\n",
       "      <td>https://www.reddit.com/r/UCSD/comments/qc8pjz/...</td>\n",
       "      <td>26</td>\n",
       "      <td>Its been a rough couple of months for me since...</td>\n",
       "      <td>2021-10-20 19:22:39</td>\n",
       "    </tr>\n",
       "    <tr>\n",
       "      <th>2</th>\n",
       "      <td>Harassment from Administration (or staff in ge...</td>\n",
       "      <td>254</td>\n",
       "      <td>lbhq7z</td>\n",
       "      <td>UCSD</td>\n",
       "      <td>https://www.reddit.com/r/UCSD/comments/lbhq7z/...</td>\n",
       "      <td>8</td>\n",
       "      <td>I recently had an experience of being harassed...</td>\n",
       "      <td>2021-02-03 06:46:54</td>\n",
       "    </tr>\n",
       "    <tr>\n",
       "      <th>3</th>\n",
       "      <td>School Pride Never Hurt Anyone</td>\n",
       "      <td>139</td>\n",
       "      <td>pcaouf</td>\n",
       "      <td>UCSD</td>\n",
       "      <td>https://www.reddit.com/r/UCSD/comments/pcaouf/...</td>\n",
       "      <td>25</td>\n",
       "      <td>Given this subreddit’s somewhat anti-athletics...</td>\n",
       "      <td>2021-08-26 22:57:55</td>\n",
       "    </tr>\n",
       "    <tr>\n",
       "      <th>4</th>\n",
       "      <td>UCSD (international business) vs Cal Poly SLO ...</td>\n",
       "      <td>4</td>\n",
       "      <td>mkg2vc</td>\n",
       "      <td>UCSD</td>\n",
       "      <td>https://www.reddit.com/r/UCSD/comments/mkg2vc/...</td>\n",
       "      <td>10</td>\n",
       "      <td>I got into the undergraduate international bus...</td>\n",
       "      <td>2021-04-05 08:45:14</td>\n",
       "    </tr>\n",
       "  </tbody>\n",
       "</table>\n",
       "</div>"
      ],
      "text/plain": [
       "                                               title  score      id subreddit  \\\n",
       "0                                         Dear UCSD,    148  pxb6c3      UCSD   \n",
       "1  Been feeling lost, regretful, and anxious abou...     75  qc8pjz      UCSD   \n",
       "2  Harassment from Administration (or staff in ge...    254  lbhq7z      UCSD   \n",
       "3                     School Pride Never Hurt Anyone    139  pcaouf      UCSD   \n",
       "4  UCSD (international business) vs Cal Poly SLO ...      4  mkg2vc      UCSD   \n",
       "\n",
       "                                                 url  num_comments  \\\n",
       "0  https://www.reddit.com/r/UCSD/comments/pxb6c3/...            12   \n",
       "1  https://www.reddit.com/r/UCSD/comments/qc8pjz/...            26   \n",
       "2  https://www.reddit.com/r/UCSD/comments/lbhq7z/...             8   \n",
       "3  https://www.reddit.com/r/UCSD/comments/pcaouf/...            25   \n",
       "4  https://www.reddit.com/r/UCSD/comments/mkg2vc/...            10   \n",
       "\n",
       "                                                body              created  \n",
       "0  As I sit in the dusty gravel lots of Gliderpor...  2021-09-28 17:19:53  \n",
       "1  Its been a rough couple of months for me since...  2021-10-20 19:22:39  \n",
       "2  I recently had an experience of being harassed...  2021-02-03 06:46:54  \n",
       "3  Given this subreddit’s somewhat anti-athletics...  2021-08-26 22:57:55  \n",
       "4  I got into the undergraduate international bus...  2021-04-05 08:45:14  "
      ]
     },
     "execution_count": 43,
     "metadata": {},
     "output_type": "execute_result"
    }
   ],
   "source": [
    "posts.head()"
   ]
  },
  {
   "cell_type": "markdown",
   "metadata": {},
   "source": [
    "# Data Cleaning"
   ]
  },
  {
   "cell_type": "markdown",
   "metadata": {},
   "source": [
    "Let's first look at the dataset we have fetched from the CSV file."
   ]
  },
  {
   "cell_type": "code",
   "execution_count": 44,
   "metadata": {},
   "outputs": [
    {
     "data": {
      "text/html": [
       "<div>\n",
       "<style scoped>\n",
       "    .dataframe tbody tr th:only-of-type {\n",
       "        vertical-align: middle;\n",
       "    }\n",
       "\n",
       "    .dataframe tbody tr th {\n",
       "        vertical-align: top;\n",
       "    }\n",
       "\n",
       "    .dataframe thead th {\n",
       "        text-align: right;\n",
       "    }\n",
       "</style>\n",
       "<table border=\"1\" class=\"dataframe\">\n",
       "  <thead>\n",
       "    <tr style=\"text-align: right;\">\n",
       "      <th></th>\n",
       "      <th>title</th>\n",
       "      <th>score</th>\n",
       "      <th>id</th>\n",
       "      <th>subreddit</th>\n",
       "      <th>url</th>\n",
       "      <th>num_comments</th>\n",
       "      <th>body</th>\n",
       "      <th>created</th>\n",
       "    </tr>\n",
       "  </thead>\n",
       "  <tbody>\n",
       "    <tr>\n",
       "      <th>0</th>\n",
       "      <td>Dear UCSD,</td>\n",
       "      <td>148</td>\n",
       "      <td>pxb6c3</td>\n",
       "      <td>UCSD</td>\n",
       "      <td>https://www.reddit.com/r/UCSD/comments/pxb6c3/...</td>\n",
       "      <td>12</td>\n",
       "      <td>As I sit in the dusty gravel lots of Gliderpor...</td>\n",
       "      <td>2021-09-28 17:19:53</td>\n",
       "    </tr>\n",
       "    <tr>\n",
       "      <th>1</th>\n",
       "      <td>Been feeling lost, regretful, and anxious abou...</td>\n",
       "      <td>75</td>\n",
       "      <td>qc8pjz</td>\n",
       "      <td>UCSD</td>\n",
       "      <td>https://www.reddit.com/r/UCSD/comments/qc8pjz/...</td>\n",
       "      <td>26</td>\n",
       "      <td>Its been a rough couple of months for me since...</td>\n",
       "      <td>2021-10-20 19:22:39</td>\n",
       "    </tr>\n",
       "    <tr>\n",
       "      <th>2</th>\n",
       "      <td>Harassment from Administration (or staff in ge...</td>\n",
       "      <td>254</td>\n",
       "      <td>lbhq7z</td>\n",
       "      <td>UCSD</td>\n",
       "      <td>https://www.reddit.com/r/UCSD/comments/lbhq7z/...</td>\n",
       "      <td>8</td>\n",
       "      <td>I recently had an experience of being harassed...</td>\n",
       "      <td>2021-02-03 06:46:54</td>\n",
       "    </tr>\n",
       "    <tr>\n",
       "      <th>3</th>\n",
       "      <td>School Pride Never Hurt Anyone</td>\n",
       "      <td>139</td>\n",
       "      <td>pcaouf</td>\n",
       "      <td>UCSD</td>\n",
       "      <td>https://www.reddit.com/r/UCSD/comments/pcaouf/...</td>\n",
       "      <td>25</td>\n",
       "      <td>Given this subreddit’s somewhat anti-athletics...</td>\n",
       "      <td>2021-08-26 22:57:55</td>\n",
       "    </tr>\n",
       "    <tr>\n",
       "      <th>4</th>\n",
       "      <td>UCSD (international business) vs Cal Poly SLO ...</td>\n",
       "      <td>4</td>\n",
       "      <td>mkg2vc</td>\n",
       "      <td>UCSD</td>\n",
       "      <td>https://www.reddit.com/r/UCSD/comments/mkg2vc/...</td>\n",
       "      <td>10</td>\n",
       "      <td>I got into the undergraduate international bus...</td>\n",
       "      <td>2021-04-05 08:45:14</td>\n",
       "    </tr>\n",
       "  </tbody>\n",
       "</table>\n",
       "</div>"
      ],
      "text/plain": [
       "                                               title  score      id subreddit  \\\n",
       "0                                         Dear UCSD,    148  pxb6c3      UCSD   \n",
       "1  Been feeling lost, regretful, and anxious abou...     75  qc8pjz      UCSD   \n",
       "2  Harassment from Administration (or staff in ge...    254  lbhq7z      UCSD   \n",
       "3                     School Pride Never Hurt Anyone    139  pcaouf      UCSD   \n",
       "4  UCSD (international business) vs Cal Poly SLO ...      4  mkg2vc      UCSD   \n",
       "\n",
       "                                                 url  num_comments  \\\n",
       "0  https://www.reddit.com/r/UCSD/comments/pxb6c3/...            12   \n",
       "1  https://www.reddit.com/r/UCSD/comments/qc8pjz/...            26   \n",
       "2  https://www.reddit.com/r/UCSD/comments/lbhq7z/...             8   \n",
       "3  https://www.reddit.com/r/UCSD/comments/pcaouf/...            25   \n",
       "4  https://www.reddit.com/r/UCSD/comments/mkg2vc/...            10   \n",
       "\n",
       "                                                body              created  \n",
       "0  As I sit in the dusty gravel lots of Gliderpor...  2021-09-28 17:19:53  \n",
       "1  Its been a rough couple of months for me since...  2021-10-20 19:22:39  \n",
       "2  I recently had an experience of being harassed...  2021-02-03 06:46:54  \n",
       "3  Given this subreddit’s somewhat anti-athletics...  2021-08-26 22:57:55  \n",
       "4  I got into the undergraduate international bus...  2021-04-05 08:45:14  "
      ]
     },
     "execution_count": 44,
     "metadata": {},
     "output_type": "execute_result"
    }
   ],
   "source": [
    "posts.head()"
   ]
  },
  {
   "cell_type": "markdown",
   "metadata": {},
   "source": [
    "First of all, in order to keep track of the original dataset, we need to make a copy saved in the `clean` variable."
   ]
  },
  {
   "cell_type": "code",
   "execution_count": 45,
   "metadata": {},
   "outputs": [],
   "source": [
    "clean = posts.copy()"
   ]
  },
  {
   "cell_type": "code",
   "execution_count": 46,
   "metadata": {},
   "outputs": [
    {
     "data": {
      "text/html": [
       "<div>\n",
       "<style scoped>\n",
       "    .dataframe tbody tr th:only-of-type {\n",
       "        vertical-align: middle;\n",
       "    }\n",
       "\n",
       "    .dataframe tbody tr th {\n",
       "        vertical-align: top;\n",
       "    }\n",
       "\n",
       "    .dataframe thead th {\n",
       "        text-align: right;\n",
       "    }\n",
       "</style>\n",
       "<table border=\"1\" class=\"dataframe\">\n",
       "  <thead>\n",
       "    <tr style=\"text-align: right;\">\n",
       "      <th></th>\n",
       "      <th>title</th>\n",
       "      <th>score</th>\n",
       "      <th>id</th>\n",
       "      <th>subreddit</th>\n",
       "      <th>url</th>\n",
       "      <th>num_comments</th>\n",
       "      <th>body</th>\n",
       "      <th>created</th>\n",
       "    </tr>\n",
       "  </thead>\n",
       "  <tbody>\n",
       "    <tr>\n",
       "      <th>0</th>\n",
       "      <td>Dear UCSD,</td>\n",
       "      <td>148</td>\n",
       "      <td>pxb6c3</td>\n",
       "      <td>UCSD</td>\n",
       "      <td>https://www.reddit.com/r/UCSD/comments/pxb6c3/...</td>\n",
       "      <td>12</td>\n",
       "      <td>As I sit in the dusty gravel lots of Gliderpor...</td>\n",
       "      <td>2021-09-28 17:19:53</td>\n",
       "    </tr>\n",
       "    <tr>\n",
       "      <th>1</th>\n",
       "      <td>Been feeling lost, regretful, and anxious abou...</td>\n",
       "      <td>75</td>\n",
       "      <td>qc8pjz</td>\n",
       "      <td>UCSD</td>\n",
       "      <td>https://www.reddit.com/r/UCSD/comments/qc8pjz/...</td>\n",
       "      <td>26</td>\n",
       "      <td>Its been a rough couple of months for me since...</td>\n",
       "      <td>2021-10-20 19:22:39</td>\n",
       "    </tr>\n",
       "    <tr>\n",
       "      <th>2</th>\n",
       "      <td>Harassment from Administration (or staff in ge...</td>\n",
       "      <td>254</td>\n",
       "      <td>lbhq7z</td>\n",
       "      <td>UCSD</td>\n",
       "      <td>https://www.reddit.com/r/UCSD/comments/lbhq7z/...</td>\n",
       "      <td>8</td>\n",
       "      <td>I recently had an experience of being harassed...</td>\n",
       "      <td>2021-02-03 06:46:54</td>\n",
       "    </tr>\n",
       "    <tr>\n",
       "      <th>3</th>\n",
       "      <td>School Pride Never Hurt Anyone</td>\n",
       "      <td>139</td>\n",
       "      <td>pcaouf</td>\n",
       "      <td>UCSD</td>\n",
       "      <td>https://www.reddit.com/r/UCSD/comments/pcaouf/...</td>\n",
       "      <td>25</td>\n",
       "      <td>Given this subreddit’s somewhat anti-athletics...</td>\n",
       "      <td>2021-08-26 22:57:55</td>\n",
       "    </tr>\n",
       "    <tr>\n",
       "      <th>4</th>\n",
       "      <td>UCSD (international business) vs Cal Poly SLO ...</td>\n",
       "      <td>4</td>\n",
       "      <td>mkg2vc</td>\n",
       "      <td>UCSD</td>\n",
       "      <td>https://www.reddit.com/r/UCSD/comments/mkg2vc/...</td>\n",
       "      <td>10</td>\n",
       "      <td>I got into the undergraduate international bus...</td>\n",
       "      <td>2021-04-05 08:45:14</td>\n",
       "    </tr>\n",
       "  </tbody>\n",
       "</table>\n",
       "</div>"
      ],
      "text/plain": [
       "                                               title  score      id subreddit  \\\n",
       "0                                         Dear UCSD,    148  pxb6c3      UCSD   \n",
       "1  Been feeling lost, regretful, and anxious abou...     75  qc8pjz      UCSD   \n",
       "2  Harassment from Administration (or staff in ge...    254  lbhq7z      UCSD   \n",
       "3                     School Pride Never Hurt Anyone    139  pcaouf      UCSD   \n",
       "4  UCSD (international business) vs Cal Poly SLO ...      4  mkg2vc      UCSD   \n",
       "\n",
       "                                                 url  num_comments  \\\n",
       "0  https://www.reddit.com/r/UCSD/comments/pxb6c3/...            12   \n",
       "1  https://www.reddit.com/r/UCSD/comments/qc8pjz/...            26   \n",
       "2  https://www.reddit.com/r/UCSD/comments/lbhq7z/...             8   \n",
       "3  https://www.reddit.com/r/UCSD/comments/pcaouf/...            25   \n",
       "4  https://www.reddit.com/r/UCSD/comments/mkg2vc/...            10   \n",
       "\n",
       "                                                body              created  \n",
       "0  As I sit in the dusty gravel lots of Gliderpor...  2021-09-28 17:19:53  \n",
       "1  Its been a rough couple of months for me since...  2021-10-20 19:22:39  \n",
       "2  I recently had an experience of being harassed...  2021-02-03 06:46:54  \n",
       "3  Given this subreddit’s somewhat anti-athletics...  2021-08-26 22:57:55  \n",
       "4  I got into the undergraduate international bus...  2021-04-05 08:45:14  "
      ]
     },
     "execution_count": 46,
     "metadata": {},
     "output_type": "execute_result"
    }
   ],
   "source": [
    "clean.head()"
   ]
  },
  {
   "cell_type": "markdown",
   "metadata": {},
   "source": [
    "We notice that `body` and `title` columns have both upper and lowercase letters -- we don't care about capitalization for our purposes (Sentiment Analysis), so we can just convert them to lowercase. We can also get rid of the `url` column since the URL of the post is not relevant for the purposes -- keeping the Subreddit and the post ID is enough."
   ]
  },
  {
   "cell_type": "code",
   "execution_count": 47,
   "metadata": {},
   "outputs": [],
   "source": [
    "clean = clean.drop('url', axis = 1)"
   ]
  },
  {
   "cell_type": "code",
   "execution_count": 48,
   "metadata": {},
   "outputs": [],
   "source": [
    "clean.title = clean.title.str.lower()\n",
    "clean.body = clean.body.str.lower()"
   ]
  },
  {
   "cell_type": "code",
   "execution_count": 49,
   "metadata": {},
   "outputs": [
    {
     "data": {
      "text/html": [
       "<div>\n",
       "<style scoped>\n",
       "    .dataframe tbody tr th:only-of-type {\n",
       "        vertical-align: middle;\n",
       "    }\n",
       "\n",
       "    .dataframe tbody tr th {\n",
       "        vertical-align: top;\n",
       "    }\n",
       "\n",
       "    .dataframe thead th {\n",
       "        text-align: right;\n",
       "    }\n",
       "</style>\n",
       "<table border=\"1\" class=\"dataframe\">\n",
       "  <thead>\n",
       "    <tr style=\"text-align: right;\">\n",
       "      <th></th>\n",
       "      <th>title</th>\n",
       "      <th>score</th>\n",
       "      <th>id</th>\n",
       "      <th>subreddit</th>\n",
       "      <th>num_comments</th>\n",
       "      <th>body</th>\n",
       "      <th>created</th>\n",
       "    </tr>\n",
       "  </thead>\n",
       "  <tbody>\n",
       "    <tr>\n",
       "      <th>0</th>\n",
       "      <td>dear ucsd,</td>\n",
       "      <td>148</td>\n",
       "      <td>pxb6c3</td>\n",
       "      <td>UCSD</td>\n",
       "      <td>12</td>\n",
       "      <td>as i sit in the dusty gravel lots of gliderpor...</td>\n",
       "      <td>2021-09-28 17:19:53</td>\n",
       "    </tr>\n",
       "    <tr>\n",
       "      <th>1</th>\n",
       "      <td>been feeling lost, regretful, and anxious abou...</td>\n",
       "      <td>75</td>\n",
       "      <td>qc8pjz</td>\n",
       "      <td>UCSD</td>\n",
       "      <td>26</td>\n",
       "      <td>its been a rough couple of months for me since...</td>\n",
       "      <td>2021-10-20 19:22:39</td>\n",
       "    </tr>\n",
       "    <tr>\n",
       "      <th>2</th>\n",
       "      <td>harassment from administration (or staff in ge...</td>\n",
       "      <td>254</td>\n",
       "      <td>lbhq7z</td>\n",
       "      <td>UCSD</td>\n",
       "      <td>8</td>\n",
       "      <td>i recently had an experience of being harassed...</td>\n",
       "      <td>2021-02-03 06:46:54</td>\n",
       "    </tr>\n",
       "    <tr>\n",
       "      <th>3</th>\n",
       "      <td>school pride never hurt anyone</td>\n",
       "      <td>139</td>\n",
       "      <td>pcaouf</td>\n",
       "      <td>UCSD</td>\n",
       "      <td>25</td>\n",
       "      <td>given this subreddit’s somewhat anti-athletics...</td>\n",
       "      <td>2021-08-26 22:57:55</td>\n",
       "    </tr>\n",
       "    <tr>\n",
       "      <th>4</th>\n",
       "      <td>ucsd (international business) vs cal poly slo ...</td>\n",
       "      <td>4</td>\n",
       "      <td>mkg2vc</td>\n",
       "      <td>UCSD</td>\n",
       "      <td>10</td>\n",
       "      <td>i got into the undergraduate international bus...</td>\n",
       "      <td>2021-04-05 08:45:14</td>\n",
       "    </tr>\n",
       "  </tbody>\n",
       "</table>\n",
       "</div>"
      ],
      "text/plain": [
       "                                               title  score      id subreddit  \\\n",
       "0                                         dear ucsd,    148  pxb6c3      UCSD   \n",
       "1  been feeling lost, regretful, and anxious abou...     75  qc8pjz      UCSD   \n",
       "2  harassment from administration (or staff in ge...    254  lbhq7z      UCSD   \n",
       "3                     school pride never hurt anyone    139  pcaouf      UCSD   \n",
       "4  ucsd (international business) vs cal poly slo ...      4  mkg2vc      UCSD   \n",
       "\n",
       "   num_comments                                               body  \\\n",
       "0            12  as i sit in the dusty gravel lots of gliderpor...   \n",
       "1            26  its been a rough couple of months for me since...   \n",
       "2             8  i recently had an experience of being harassed...   \n",
       "3            25  given this subreddit’s somewhat anti-athletics...   \n",
       "4            10  i got into the undergraduate international bus...   \n",
       "\n",
       "               created  \n",
       "0  2021-09-28 17:19:53  \n",
       "1  2021-10-20 19:22:39  \n",
       "2  2021-02-03 06:46:54  \n",
       "3  2021-08-26 22:57:55  \n",
       "4  2021-04-05 08:45:14  "
      ]
     },
     "execution_count": 49,
     "metadata": {},
     "output_type": "execute_result"
    }
   ],
   "source": [
    "clean.head()"
   ]
  },
  {
   "cell_type": "markdown",
   "metadata": {},
   "source": [
    "So far so good. Out of the existing columns, each are required for our further analysis:\n",
    "* `title` contains the title of the post and has valuable textual information, same as `body`\n",
    "* `score` reflects the number of upvotes and downvotes; the higher the number, the more people \"agree\" with the post\n",
    "* `num_comments` reflects the number of comments there are at the post; this will allow us to determine which issues people talk about\n",
    "* `created` reflects the date when the post was created -- we want only those made after April 1, 2020 (the start of the pandemic)\n",
    "* `id` is the unique identifier of each post, we are keeping to be able to access the URL of the post in case we need to fetch comments (or anything else related to the post)\n",
    "* `subreddit` is the university this post is about, this is important for analysing the data per and across different schools"
   ]
  },
  {
   "cell_type": "markdown",
   "metadata": {},
   "source": [
    "One thing that is important is to check if all of our posts are \"self\" posts: posts that contain text. To do that, we need to check which posts have NaN values in `body`:"
   ]
  },
  {
   "cell_type": "code",
   "execution_count": 50,
   "metadata": {},
   "outputs": [
    {
     "data": {
      "text/plain": [
       "1048"
      ]
     },
     "execution_count": 50,
     "metadata": {},
     "output_type": "execute_result"
    }
   ],
   "source": [
    "clean.isna().body.sum()"
   ]
  },
  {
   "cell_type": "markdown",
   "metadata": {},
   "source": [
    "There are 1048 posts that have NaN in `body`. However, we can't just drop those, as we might make use of their titles. Instead, we will just fill those with empty strings to fit the format of other observations in the same column:"
   ]
  },
  {
   "cell_type": "code",
   "execution_count": 51,
   "metadata": {},
   "outputs": [],
   "source": [
    "clean = clean.fillna({'body':''})"
   ]
  },
  {
   "cell_type": "markdown",
   "metadata": {},
   "source": [
    "The first step towards NLP would be to tokenize the textual data we have in `body` and `title`. In order to do that, we will remove all punctuation (except apostrophes and hyphens, those are parts of words and are important), as well as any newlines and non-text attachments. This is done using the `tokenize` function:"
   ]
  },
  {
   "cell_type": "code",
   "execution_count": 52,
   "metadata": {},
   "outputs": [],
   "source": [
    "def tokenize(col):\n",
    "    # tokenizes the textual data in the column by \n",
    "    # removing non-essential characters and splitting the words\n",
    "    return (\n",
    "        col\n",
    "        .str.replace('[,!?.:]+|\\s-+\\s|\\n*', '', regex = True)\n",
    "        .str.replace('&#x200b;', ' ', regex = False)\n",
    "    )"
   ]
  },
  {
   "cell_type": "markdown",
   "metadata": {},
   "source": [
    "This is what the result looks like on `body` column."
   ]
  },
  {
   "cell_type": "code",
   "execution_count": 53,
   "metadata": {},
   "outputs": [
    {
     "data": {
      "text/plain": [
       "0       as i sit in the dusty gravel lots of gliderpor...\n",
       "1       its been a rough couple of months for me since...\n",
       "2       i recently had an experience of being harassed...\n",
       "3       given this subreddit’s somewhat anti-athletics...\n",
       "4       i got into the undergraduate international bus...\n",
       "                              ...                        \n",
       "4967    i'm willing to buy two protest signs i saw las...\n",
       "4968    i might be completely misremembering but i swe...\n",
       "4969    i was just wondering how many people agree wit...\n",
       "4970    to my peers and classmateswe are going through...\n",
       "4971     # hello fellow uc davis studentson **wednesda...\n",
       "Name: body, Length: 4972, dtype: object"
      ]
     },
     "execution_count": 53,
     "metadata": {},
     "output_type": "execute_result"
    }
   ],
   "source": [
    "tokenize(clean.body)"
   ]
  },
  {
   "cell_type": "markdown",
   "metadata": {},
   "source": [
    "Let's run this for both `title` and `body`:"
   ]
  },
  {
   "cell_type": "code",
   "execution_count": 54,
   "metadata": {},
   "outputs": [],
   "source": [
    "for col in ['title', 'body']:\n",
    "    clean[col] = tokenize(clean[col])"
   ]
  },
  {
   "cell_type": "code",
   "execution_count": 55,
   "metadata": {},
   "outputs": [
    {
     "data": {
      "text/html": [
       "<div>\n",
       "<style scoped>\n",
       "    .dataframe tbody tr th:only-of-type {\n",
       "        vertical-align: middle;\n",
       "    }\n",
       "\n",
       "    .dataframe tbody tr th {\n",
       "        vertical-align: top;\n",
       "    }\n",
       "\n",
       "    .dataframe thead th {\n",
       "        text-align: right;\n",
       "    }\n",
       "</style>\n",
       "<table border=\"1\" class=\"dataframe\">\n",
       "  <thead>\n",
       "    <tr style=\"text-align: right;\">\n",
       "      <th></th>\n",
       "      <th>title</th>\n",
       "      <th>score</th>\n",
       "      <th>id</th>\n",
       "      <th>subreddit</th>\n",
       "      <th>num_comments</th>\n",
       "      <th>body</th>\n",
       "      <th>created</th>\n",
       "    </tr>\n",
       "  </thead>\n",
       "  <tbody>\n",
       "    <tr>\n",
       "      <th>0</th>\n",
       "      <td>dear ucsd</td>\n",
       "      <td>148</td>\n",
       "      <td>pxb6c3</td>\n",
       "      <td>UCSD</td>\n",
       "      <td>12</td>\n",
       "      <td>as i sit in the dusty gravel lots of gliderpor...</td>\n",
       "      <td>2021-09-28 17:19:53</td>\n",
       "    </tr>\n",
       "    <tr>\n",
       "      <th>1</th>\n",
       "      <td>been feeling lost regretful and anxious about ...</td>\n",
       "      <td>75</td>\n",
       "      <td>qc8pjz</td>\n",
       "      <td>UCSD</td>\n",
       "      <td>26</td>\n",
       "      <td>its been a rough couple of months for me since...</td>\n",
       "      <td>2021-10-20 19:22:39</td>\n",
       "    </tr>\n",
       "    <tr>\n",
       "      <th>2</th>\n",
       "      <td>harassment from administration (or staff in ge...</td>\n",
       "      <td>254</td>\n",
       "      <td>lbhq7z</td>\n",
       "      <td>UCSD</td>\n",
       "      <td>8</td>\n",
       "      <td>i recently had an experience of being harassed...</td>\n",
       "      <td>2021-02-03 06:46:54</td>\n",
       "    </tr>\n",
       "    <tr>\n",
       "      <th>3</th>\n",
       "      <td>school pride never hurt anyone</td>\n",
       "      <td>139</td>\n",
       "      <td>pcaouf</td>\n",
       "      <td>UCSD</td>\n",
       "      <td>25</td>\n",
       "      <td>given this subreddit’s somewhat anti-athletics...</td>\n",
       "      <td>2021-08-26 22:57:55</td>\n",
       "    </tr>\n",
       "    <tr>\n",
       "      <th>4</th>\n",
       "      <td>ucsd (international business) vs cal poly slo ...</td>\n",
       "      <td>4</td>\n",
       "      <td>mkg2vc</td>\n",
       "      <td>UCSD</td>\n",
       "      <td>10</td>\n",
       "      <td>i got into the undergraduate international bus...</td>\n",
       "      <td>2021-04-05 08:45:14</td>\n",
       "    </tr>\n",
       "  </tbody>\n",
       "</table>\n",
       "</div>"
      ],
      "text/plain": [
       "                                               title  score      id subreddit  \\\n",
       "0                                          dear ucsd    148  pxb6c3      UCSD   \n",
       "1  been feeling lost regretful and anxious about ...     75  qc8pjz      UCSD   \n",
       "2  harassment from administration (or staff in ge...    254  lbhq7z      UCSD   \n",
       "3                     school pride never hurt anyone    139  pcaouf      UCSD   \n",
       "4  ucsd (international business) vs cal poly slo ...      4  mkg2vc      UCSD   \n",
       "\n",
       "   num_comments                                               body  \\\n",
       "0            12  as i sit in the dusty gravel lots of gliderpor...   \n",
       "1            26  its been a rough couple of months for me since...   \n",
       "2             8  i recently had an experience of being harassed...   \n",
       "3            25  given this subreddit’s somewhat anti-athletics...   \n",
       "4            10  i got into the undergraduate international bus...   \n",
       "\n",
       "               created  \n",
       "0  2021-09-28 17:19:53  \n",
       "1  2021-10-20 19:22:39  \n",
       "2  2021-02-03 06:46:54  \n",
       "3  2021-08-26 22:57:55  \n",
       "4  2021-04-05 08:45:14  "
      ]
     },
     "execution_count": 55,
     "metadata": {},
     "output_type": "execute_result"
    }
   ],
   "source": [
    "clean.head()"
   ]
  },
  {
   "cell_type": "markdown",
   "metadata": {},
   "source": [
    "Another important part of the dataset is that it should reflect the posts that were created during the pandemic. The `created` column should be in DateTime in order to make use of the date information -- luckily for us, the `created` column already has date in a neat format, all we need to do is just convert it."
   ]
  },
  {
   "cell_type": "code",
   "execution_count": 56,
   "metadata": {},
   "outputs": [],
   "source": [
    "clean['created'] = pd.to_datetime(clean['created'])"
   ]
  },
  {
   "cell_type": "markdown",
   "metadata": {},
   "source": [
    "We also only need posts that are from after the pandemic began, which we assume is March 1, 2020."
   ]
  },
  {
   "cell_type": "code",
   "execution_count": 57,
   "metadata": {},
   "outputs": [],
   "source": [
    "clean = clean[clean['created'] > pd.to_datetime('2020-03-01')]"
   ]
  },
  {
   "cell_type": "code",
   "execution_count": 58,
   "metadata": {},
   "outputs": [
    {
     "data": {
      "text/plain": [
       "Timestamp('2020-03-01 00:46:31')"
      ]
     },
     "execution_count": 58,
     "metadata": {},
     "output_type": "execute_result"
    }
   ],
   "source": [
    "clean.created.min()"
   ]
  },
  {
   "cell_type": "code",
   "execution_count": 59,
   "metadata": {},
   "outputs": [
    {
     "data": {
      "text/plain": [
       "3511"
      ]
     },
     "execution_count": 59,
     "metadata": {},
     "output_type": "execute_result"
    }
   ],
   "source": [
    "clean.shape[0]"
   ]
  },
  {
   "cell_type": "markdown",
   "metadata": {},
   "source": [
    "That means our dataset will only include 3511 posts from the original dataset. This should be fine."
   ]
  },
  {
   "cell_type": "markdown",
   "metadata": {},
   "source": [
    "Now, it looks like that the dataset is ready for our analysis and it is in tidy format: every observation has one row, every variable has one column, there are no units in numeric variables, and each variable has a consistent format. Our dataset is ready for sentiment analysis."
   ]
  },
  {
   "cell_type": "code",
   "execution_count": 60,
   "metadata": {},
   "outputs": [
    {
     "data": {
      "text/html": [
       "<div>\n",
       "<style scoped>\n",
       "    .dataframe tbody tr th:only-of-type {\n",
       "        vertical-align: middle;\n",
       "    }\n",
       "\n",
       "    .dataframe tbody tr th {\n",
       "        vertical-align: top;\n",
       "    }\n",
       "\n",
       "    .dataframe thead th {\n",
       "        text-align: right;\n",
       "    }\n",
       "</style>\n",
       "<table border=\"1\" class=\"dataframe\">\n",
       "  <thead>\n",
       "    <tr style=\"text-align: right;\">\n",
       "      <th></th>\n",
       "      <th>title</th>\n",
       "      <th>score</th>\n",
       "      <th>id</th>\n",
       "      <th>subreddit</th>\n",
       "      <th>num_comments</th>\n",
       "      <th>body</th>\n",
       "      <th>created</th>\n",
       "    </tr>\n",
       "  </thead>\n",
       "  <tbody>\n",
       "    <tr>\n",
       "      <th>0</th>\n",
       "      <td>dear ucsd</td>\n",
       "      <td>148</td>\n",
       "      <td>pxb6c3</td>\n",
       "      <td>UCSD</td>\n",
       "      <td>12</td>\n",
       "      <td>as i sit in the dusty gravel lots of gliderpor...</td>\n",
       "      <td>2021-09-28 17:19:53</td>\n",
       "    </tr>\n",
       "    <tr>\n",
       "      <th>1</th>\n",
       "      <td>been feeling lost regretful and anxious about ...</td>\n",
       "      <td>75</td>\n",
       "      <td>qc8pjz</td>\n",
       "      <td>UCSD</td>\n",
       "      <td>26</td>\n",
       "      <td>its been a rough couple of months for me since...</td>\n",
       "      <td>2021-10-20 19:22:39</td>\n",
       "    </tr>\n",
       "    <tr>\n",
       "      <th>2</th>\n",
       "      <td>harassment from administration (or staff in ge...</td>\n",
       "      <td>254</td>\n",
       "      <td>lbhq7z</td>\n",
       "      <td>UCSD</td>\n",
       "      <td>8</td>\n",
       "      <td>i recently had an experience of being harassed...</td>\n",
       "      <td>2021-02-03 06:46:54</td>\n",
       "    </tr>\n",
       "    <tr>\n",
       "      <th>3</th>\n",
       "      <td>school pride never hurt anyone</td>\n",
       "      <td>139</td>\n",
       "      <td>pcaouf</td>\n",
       "      <td>UCSD</td>\n",
       "      <td>25</td>\n",
       "      <td>given this subreddit’s somewhat anti-athletics...</td>\n",
       "      <td>2021-08-26 22:57:55</td>\n",
       "    </tr>\n",
       "    <tr>\n",
       "      <th>4</th>\n",
       "      <td>ucsd (international business) vs cal poly slo ...</td>\n",
       "      <td>4</td>\n",
       "      <td>mkg2vc</td>\n",
       "      <td>UCSD</td>\n",
       "      <td>10</td>\n",
       "      <td>i got into the undergraduate international bus...</td>\n",
       "      <td>2021-04-05 08:45:14</td>\n",
       "    </tr>\n",
       "  </tbody>\n",
       "</table>\n",
       "</div>"
      ],
      "text/plain": [
       "                                               title  score      id subreddit  \\\n",
       "0                                          dear ucsd    148  pxb6c3      UCSD   \n",
       "1  been feeling lost regretful and anxious about ...     75  qc8pjz      UCSD   \n",
       "2  harassment from administration (or staff in ge...    254  lbhq7z      UCSD   \n",
       "3                     school pride never hurt anyone    139  pcaouf      UCSD   \n",
       "4  ucsd (international business) vs cal poly slo ...      4  mkg2vc      UCSD   \n",
       "\n",
       "   num_comments                                               body  \\\n",
       "0            12  as i sit in the dusty gravel lots of gliderpor...   \n",
       "1            26  its been a rough couple of months for me since...   \n",
       "2             8  i recently had an experience of being harassed...   \n",
       "3            25  given this subreddit’s somewhat anti-athletics...   \n",
       "4            10  i got into the undergraduate international bus...   \n",
       "\n",
       "              created  \n",
       "0 2021-09-28 17:19:53  \n",
       "1 2021-10-20 19:22:39  \n",
       "2 2021-02-03 06:46:54  \n",
       "3 2021-08-26 22:57:55  \n",
       "4 2021-04-05 08:45:14  "
      ]
     },
     "execution_count": 60,
     "metadata": {},
     "output_type": "execute_result"
    }
   ],
   "source": [
    "clean.head()"
   ]
  },
  {
   "cell_type": "code",
   "execution_count": 61,
   "metadata": {},
   "outputs": [],
   "source": [
    "posts = clean"
   ]
  },
  {
   "cell_type": "markdown",
   "metadata": {},
   "source": [
    "# Data Analysis & Results"
   ]
  },
  {
   "cell_type": "markdown",
   "metadata": {},
   "source": [
    "The first step would be to determine the sentiment of each post, using the VADER library. That way we can introduce the main feature of our analysis. Then, using that, we can perform the EDA and also run the hypothesis test for our main question: is UCSD administration more under fire during the pandemic than other college campuses?"
   ]
  },
  {
   "cell_type": "code",
   "execution_count": 62,
   "metadata": {
    "scrolled": false
   },
   "outputs": [],
   "source": [
    "sid = SentimentIntensityAnalyzer()"
   ]
  },
  {
   "cell_type": "markdown",
   "metadata": {},
   "source": [
    "First step: create a sentiment score for every post in the dataset."
   ]
  },
  {
   "cell_type": "code",
   "execution_count": 63,
   "metadata": {},
   "outputs": [],
   "source": [
    "for col in ['body', 'title']:\n",
    "    # we do the sentiment for both the title and the body\n",
    "    posts['{}_sentiment'.format(col)] = posts[col].apply(lambda x: sid.polarity_scores(x)['compound'])"
   ]
  },
  {
   "cell_type": "code",
   "execution_count": 64,
   "metadata": {
    "scrolled": true
   },
   "outputs": [
    {
     "data": {
      "text/html": [
       "<div>\n",
       "<style scoped>\n",
       "    .dataframe tbody tr th:only-of-type {\n",
       "        vertical-align: middle;\n",
       "    }\n",
       "\n",
       "    .dataframe tbody tr th {\n",
       "        vertical-align: top;\n",
       "    }\n",
       "\n",
       "    .dataframe thead th {\n",
       "        text-align: right;\n",
       "    }\n",
       "</style>\n",
       "<table border=\"1\" class=\"dataframe\">\n",
       "  <thead>\n",
       "    <tr style=\"text-align: right;\">\n",
       "      <th></th>\n",
       "      <th>title</th>\n",
       "      <th>score</th>\n",
       "      <th>id</th>\n",
       "      <th>subreddit</th>\n",
       "      <th>num_comments</th>\n",
       "      <th>body</th>\n",
       "      <th>created</th>\n",
       "      <th>body_sentiment</th>\n",
       "      <th>title_sentiment</th>\n",
       "    </tr>\n",
       "  </thead>\n",
       "  <tbody>\n",
       "    <tr>\n",
       "      <th>0</th>\n",
       "      <td>dear ucsd</td>\n",
       "      <td>148</td>\n",
       "      <td>pxb6c3</td>\n",
       "      <td>UCSD</td>\n",
       "      <td>12</td>\n",
       "      <td>as i sit in the dusty gravel lots of gliderpor...</td>\n",
       "      <td>2021-09-28 17:19:53</td>\n",
       "      <td>-0.9894</td>\n",
       "      <td>0.3818</td>\n",
       "    </tr>\n",
       "    <tr>\n",
       "      <th>1</th>\n",
       "      <td>been feeling lost regretful and anxious about ...</td>\n",
       "      <td>75</td>\n",
       "      <td>qc8pjz</td>\n",
       "      <td>UCSD</td>\n",
       "      <td>26</td>\n",
       "      <td>its been a rough couple of months for me since...</td>\n",
       "      <td>2021-10-20 19:22:39</td>\n",
       "      <td>0.9136</td>\n",
       "      <td>-0.6908</td>\n",
       "    </tr>\n",
       "    <tr>\n",
       "      <th>2</th>\n",
       "      <td>harassment from administration (or staff in ge...</td>\n",
       "      <td>254</td>\n",
       "      <td>lbhq7z</td>\n",
       "      <td>UCSD</td>\n",
       "      <td>8</td>\n",
       "      <td>i recently had an experience of being harassed...</td>\n",
       "      <td>2021-02-03 06:46:54</td>\n",
       "      <td>-0.8567</td>\n",
       "      <td>-0.5423</td>\n",
       "    </tr>\n",
       "    <tr>\n",
       "      <th>3</th>\n",
       "      <td>school pride never hurt anyone</td>\n",
       "      <td>139</td>\n",
       "      <td>pcaouf</td>\n",
       "      <td>UCSD</td>\n",
       "      <td>25</td>\n",
       "      <td>given this subreddit’s somewhat anti-athletics...</td>\n",
       "      <td>2021-08-26 22:57:55</td>\n",
       "      <td>0.9989</td>\n",
       "      <td>0.6341</td>\n",
       "    </tr>\n",
       "    <tr>\n",
       "      <th>4</th>\n",
       "      <td>ucsd (international business) vs cal poly slo ...</td>\n",
       "      <td>4</td>\n",
       "      <td>mkg2vc</td>\n",
       "      <td>UCSD</td>\n",
       "      <td>10</td>\n",
       "      <td>i got into the undergraduate international bus...</td>\n",
       "      <td>2021-04-05 08:45:14</td>\n",
       "      <td>0.2732</td>\n",
       "      <td>0.0000</td>\n",
       "    </tr>\n",
       "  </tbody>\n",
       "</table>\n",
       "</div>"
      ],
      "text/plain": [
       "                                               title  score      id subreddit  \\\n",
       "0                                          dear ucsd    148  pxb6c3      UCSD   \n",
       "1  been feeling lost regretful and anxious about ...     75  qc8pjz      UCSD   \n",
       "2  harassment from administration (or staff in ge...    254  lbhq7z      UCSD   \n",
       "3                     school pride never hurt anyone    139  pcaouf      UCSD   \n",
       "4  ucsd (international business) vs cal poly slo ...      4  mkg2vc      UCSD   \n",
       "\n",
       "   num_comments                                               body  \\\n",
       "0            12  as i sit in the dusty gravel lots of gliderpor...   \n",
       "1            26  its been a rough couple of months for me since...   \n",
       "2             8  i recently had an experience of being harassed...   \n",
       "3            25  given this subreddit’s somewhat anti-athletics...   \n",
       "4            10  i got into the undergraduate international bus...   \n",
       "\n",
       "              created  body_sentiment  title_sentiment  \n",
       "0 2021-09-28 17:19:53         -0.9894           0.3818  \n",
       "1 2021-10-20 19:22:39          0.9136          -0.6908  \n",
       "2 2021-02-03 06:46:54         -0.8567          -0.5423  \n",
       "3 2021-08-26 22:57:55          0.9989           0.6341  \n",
       "4 2021-04-05 08:45:14          0.2732           0.0000  "
      ]
     },
     "execution_count": 64,
     "metadata": {},
     "output_type": "execute_result"
    }
   ],
   "source": [
    "posts.head()"
   ]
  },
  {
   "cell_type": "code",
   "execution_count": 65,
   "metadata": {},
   "outputs": [
    {
     "data": {
      "text/plain": [
       "{'neg': 0.09, 'neu': 0.804, 'pos': 0.106, 'compound': 0.9136}"
      ]
     },
     "execution_count": 65,
     "metadata": {},
     "output_type": "execute_result"
    }
   ],
   "source": [
    "sid.polarity_scores(posts.iloc[1]['body'])"
   ]
  },
  {
   "cell_type": "markdown",
   "metadata": {},
   "source": [
    "Let's see the average sentiments by campus, both for post titles and post bodies:"
   ]
  },
  {
   "cell_type": "code",
   "execution_count": 66,
   "metadata": {
    "scrolled": true
   },
   "outputs": [
    {
     "data": {
      "text/html": [
       "<div>\n",
       "<style scoped>\n",
       "    .dataframe tbody tr th:only-of-type {\n",
       "        vertical-align: middle;\n",
       "    }\n",
       "\n",
       "    .dataframe tbody tr th {\n",
       "        vertical-align: top;\n",
       "    }\n",
       "\n",
       "    .dataframe thead th {\n",
       "        text-align: right;\n",
       "    }\n",
       "</style>\n",
       "<table border=\"1\" class=\"dataframe\">\n",
       "  <thead>\n",
       "    <tr style=\"text-align: right;\">\n",
       "      <th></th>\n",
       "      <th>body_sentiment</th>\n",
       "      <th>title_sentiment</th>\n",
       "    </tr>\n",
       "    <tr>\n",
       "      <th>subreddit</th>\n",
       "      <th></th>\n",
       "      <th></th>\n",
       "    </tr>\n",
       "  </thead>\n",
       "  <tbody>\n",
       "    <tr>\n",
       "      <th>CalPoly</th>\n",
       "      <td>0.262531</td>\n",
       "      <td>0.000110</td>\n",
       "    </tr>\n",
       "    <tr>\n",
       "      <th>UCDavis</th>\n",
       "      <td>0.277461</td>\n",
       "      <td>0.018648</td>\n",
       "    </tr>\n",
       "    <tr>\n",
       "      <th>UCSD</th>\n",
       "      <td>0.179343</td>\n",
       "      <td>-0.033622</td>\n",
       "    </tr>\n",
       "    <tr>\n",
       "      <th>UCSantaBarbara</th>\n",
       "      <td>0.155320</td>\n",
       "      <td>-0.034198</td>\n",
       "    </tr>\n",
       "    <tr>\n",
       "      <th>USC</th>\n",
       "      <td>0.264946</td>\n",
       "      <td>0.019427</td>\n",
       "    </tr>\n",
       "    <tr>\n",
       "      <th>berkeley</th>\n",
       "      <td>0.196142</td>\n",
       "      <td>0.003193</td>\n",
       "    </tr>\n",
       "    <tr>\n",
       "      <th>csuf</th>\n",
       "      <td>0.243540</td>\n",
       "      <td>0.044744</td>\n",
       "    </tr>\n",
       "    <tr>\n",
       "      <th>stanford</th>\n",
       "      <td>0.293903</td>\n",
       "      <td>0.022916</td>\n",
       "    </tr>\n",
       "  </tbody>\n",
       "</table>\n",
       "</div>"
      ],
      "text/plain": [
       "                body_sentiment  title_sentiment\n",
       "subreddit                                      \n",
       "CalPoly               0.262531         0.000110\n",
       "UCDavis               0.277461         0.018648\n",
       "UCSD                  0.179343        -0.033622\n",
       "UCSantaBarbara        0.155320        -0.034198\n",
       "USC                   0.264946         0.019427\n",
       "berkeley              0.196142         0.003193\n",
       "csuf                  0.243540         0.044744\n",
       "stanford              0.293903         0.022916"
      ]
     },
     "execution_count": 66,
     "metadata": {},
     "output_type": "execute_result"
    }
   ],
   "source": [
    "posts.groupby('subreddit')[['body_sentiment', 'title_sentiment']].mean()"
   ]
  },
  {
   "cell_type": "markdown",
   "metadata": {},
   "source": [
    "Another important note is to determine whether we have the roughly equal sample sizes for each campus, and that each of them are normally distributed. The sentiment values range from -1 to 1, with -1 being incredibly negative, 0 being neutral, and 1 being incredibly positive. Let's do some plotting:"
   ]
  },
  {
   "cell_type": "code",
   "execution_count": 67,
   "metadata": {
    "scrolled": false
   },
   "outputs": [
    {
     "data": {
      "text/plain": [
       "<AxesSubplot:title={'center':'Distribution of Title Sentiment'}, xlabel='Sentiment Value', ylabel='Amount of Posts'>"
      ]
     },
     "execution_count": 67,
     "metadata": {},
     "output_type": "execute_result"
    },
    {
     "data": {
      "image/png": "[encoded data removed]",
      "text/plain": [
       "<Figure size 432x288 with 1 Axes>"
      ]
     },
     "metadata": {
      "needs_background": "light"
     },
     "output_type": "display_data"
    }
   ],
   "source": [
    "histplot1 = posts['title_sentiment'].hist()\n",
    "histplot1.set_title('Distribution of Title Sentiment')\n",
    "histplot1.set_xlabel('Sentiment Value')\n",
    "histplot1.set_ylabel('Amount of Posts')\n",
    "histplot1"
   ]
  },
  {
   "cell_type": "code",
   "execution_count": 68,
   "metadata": {},
   "outputs": [
    {
     "data": {
      "text/plain": [
       "<AxesSubplot:title={'center':'Distribution of Body Sentiment'}, xlabel='Sentiment Value', ylabel='Amount of Posts'>"
      ]
     },
     "execution_count": 68,
     "metadata": {},
     "output_type": "execute_result"
    },
    {
     "data": {
      "image/png": "[encoded data removed]",
      "text/plain": [
       "<Figure size 432x288 with 1 Axes>"
      ]
     },
     "metadata": {
      "needs_background": "light"
     },
     "output_type": "display_data"
    }
   ],
   "source": [
    "histplot2 = posts['body_sentiment'].hist(color = 'orange')\n",
    "histplot2.set_title('Distribution of Body Sentiment')\n",
    "histplot2.set_xlabel('Sentiment Value')\n",
    "histplot2.set_ylabel('Amount of Posts')\n",
    "histplot2"
   ]
  },
  {
   "cell_type": "markdown",
   "metadata": {},
   "source": [
    "Turns out the sentiments of post *bodies* are **not** distributed normally (there is no point in checking it for individual subreddits -- if they were all normal, the overall distribution would also be normal). Instead, most posts seem to be either completely neutral (around 0.0 in compound) or mostly positive (closer to 1.0). For *titles*, however, the distribution is roughly normal, meaning that we can run something like an ANOVA test to compare the means of groups (i.e. of each campus). For bodies, something else would need to be introduced (for example, a permutation test where we compare UCSD posts to non-UCSD posts)."
   ]
  },
  {
   "cell_type": "markdown",
   "metadata": {},
   "source": [
    "While we are exploring the data, let's see if there is correlation between sentiment and the amount of comments. Is there more discussion on certain types of posts? Are certain sentiments of posts more popular?"
   ]
  },
  {
   "cell_type": "code",
   "execution_count": 69,
   "metadata": {},
   "outputs": [
    {
     "data": {
      "text/plain": [
       "Text(0.5, 1.0, 'Title Sentiment vs. Number of Comments')"
      ]
     },
     "execution_count": 69,
     "metadata": {},
     "output_type": "execute_result"
    },
    {
     "data": {
      "image/png": "[encoded data removed]",
      "text/plain": [
       "<Figure size 432x288 with 1 Axes>"
      ]
     },
     "metadata": {
      "needs_background": "light"
     },
     "output_type": "display_data"
    }
   ],
   "source": [
    "scatterplot1 = sns.scatterplot(y = 'num_comments', x = 'title_sentiment', data = posts)\n",
    "scatterplot1.set_xlabel('Sentiment Value')\n",
    "scatterplot1.set_ylabel('Number of Comments')\n",
    "scatterplot1.set_title('Title Sentiment vs. Number of Comments')"
   ]
  },
  {
   "cell_type": "code",
   "execution_count": 70,
   "metadata": {},
   "outputs": [
    {
     "data": {
      "text/plain": [
       "Text(0.5, 1.0, 'Title Sentiment vs. Number of Likes')"
      ]
     },
     "execution_count": 70,
     "metadata": {},
     "output_type": "execute_result"
    },
    {
     "data": {
      "image/png": "[encoded data removed]",
      "text/plain": [
       "<Figure size 432x288 with 1 Axes>"
      ]
     },
     "metadata": {
      "needs_background": "light"
     },
     "output_type": "display_data"
    }
   ],
   "source": [
    "scatterplot2 = sns.scatterplot(y = 'score', x = 'title_sentiment', data = posts, color = 'green')\n",
    "scatterplot2.set_xlabel('Sentiment Value')\n",
    "scatterplot2.set_ylabel('Number of Likes')\n",
    "scatterplot2.set_title('Title Sentiment vs. Number of Likes')"
   ]
  },
  {
   "cell_type": "markdown",
   "metadata": {},
   "source": [
    "It seems like there is no direct correlation between the sentiment of post titles and the number of comments/upvotes: the scatter plot shows a roughly bell-shaped distribution for `num_comments` and a trimodal distribution with no clear pattern for `score`."
   ]
  },
  {
   "cell_type": "markdown",
   "metadata": {},
   "source": [
    "Let's run a simple ANOVA test for our distributions of titles."
   ]
  },
  {
   "cell_type": "code",
   "execution_count": 71,
   "metadata": {},
   "outputs": [
    {
     "data": {
      "text/html": [
       "<div>\n",
       "<style scoped>\n",
       "    .dataframe tbody tr th:only-of-type {\n",
       "        vertical-align: middle;\n",
       "    }\n",
       "\n",
       "    .dataframe tbody tr th {\n",
       "        vertical-align: top;\n",
       "    }\n",
       "\n",
       "    .dataframe thead th {\n",
       "        text-align: right;\n",
       "    }\n",
       "</style>\n",
       "<table border=\"1\" class=\"dataframe\">\n",
       "  <thead>\n",
       "    <tr style=\"text-align: right;\">\n",
       "      <th></th>\n",
       "      <th>mean</th>\n",
       "      <th>std</th>\n",
       "    </tr>\n",
       "    <tr>\n",
       "      <th>subreddit</th>\n",
       "      <th></th>\n",
       "      <th></th>\n",
       "    </tr>\n",
       "  </thead>\n",
       "  <tbody>\n",
       "    <tr>\n",
       "      <th>CalPoly</th>\n",
       "      <td>0.000110</td>\n",
       "      <td>0.264877</td>\n",
       "    </tr>\n",
       "    <tr>\n",
       "      <th>UCDavis</th>\n",
       "      <td>0.018648</td>\n",
       "      <td>0.264545</td>\n",
       "    </tr>\n",
       "    <tr>\n",
       "      <th>UCSD</th>\n",
       "      <td>-0.033622</td>\n",
       "      <td>0.282723</td>\n",
       "    </tr>\n",
       "    <tr>\n",
       "      <th>UCSantaBarbara</th>\n",
       "      <td>-0.034198</td>\n",
       "      <td>0.304158</td>\n",
       "    </tr>\n",
       "    <tr>\n",
       "      <th>USC</th>\n",
       "      <td>0.019427</td>\n",
       "      <td>0.252130</td>\n",
       "    </tr>\n",
       "    <tr>\n",
       "      <th>berkeley</th>\n",
       "      <td>0.003193</td>\n",
       "      <td>0.299790</td>\n",
       "    </tr>\n",
       "    <tr>\n",
       "      <th>csuf</th>\n",
       "      <td>0.044744</td>\n",
       "      <td>0.213927</td>\n",
       "    </tr>\n",
       "    <tr>\n",
       "      <th>stanford</th>\n",
       "      <td>0.022916</td>\n",
       "      <td>0.220385</td>\n",
       "    </tr>\n",
       "  </tbody>\n",
       "</table>\n",
       "</div>"
      ],
      "text/plain": [
       "                    mean       std\n",
       "subreddit                         \n",
       "CalPoly         0.000110  0.264877\n",
       "UCDavis         0.018648  0.264545\n",
       "UCSD           -0.033622  0.282723\n",
       "UCSantaBarbara -0.034198  0.304158\n",
       "USC             0.019427  0.252130\n",
       "berkeley        0.003193  0.299790\n",
       "csuf            0.044744  0.213927\n",
       "stanford        0.022916  0.220385"
      ]
     },
     "execution_count": 71,
     "metadata": {},
     "output_type": "execute_result"
    }
   ],
   "source": [
    "posts.groupby('subreddit')['title_sentiment'].agg(['mean', 'std'])"
   ]
  },
  {
   "cell_type": "code",
   "execution_count": 72,
   "metadata": {},
   "outputs": [],
   "source": [
    "samples = []\n",
    "for sr in posts.subreddit.unique():\n",
    "    samples.append(posts[posts['subreddit'] == sr]['title_sentiment'].values)"
   ]
  },
  {
   "cell_type": "code",
   "execution_count": 73,
   "metadata": {
    "scrolled": true
   },
   "outputs": [
    {
     "data": {
      "text/plain": [
       "F_onewayResult(statistic=4.6644529824429775, pvalue=3.2478415170218526e-05)"
      ]
     },
     "execution_count": 73,
     "metadata": {},
     "output_type": "execute_result"
    }
   ],
   "source": [
    "scipy.stats.f_oneway(*samples)"
   ]
  },
  {
   "cell_type": "markdown",
   "metadata": {},
   "source": [
    "We get a p-value that is practically 0, meaning that we reject our null hypothesis at significance level 0.05. The data suggests that the average sentiment of titles of posts mentioning administration during the quarantine across subreddits is not equal. This helps us determine that at least one of the subreddits observed has significantly lower average sentiment compared to the others -- however, we can't tell for sure which one. Based on the table we had before running the ANOVA, it seems like UCSB and UCSD have the two lowest average sentiments, so it's quite possible that UCSD, generally, had a more negative response to administration's actions during the pandemic."
   ]
  },
  {
   "cell_type": "markdown",
   "metadata": {},
   "source": [
    "Now let's run the similar analysis for bodies. This one is a little trickier and will require a permutation test where we reassign labels. What we will do is we will compare UCSD posts to non-UCSD posts -- that way we will be able to tell if the average sentiment of UCSD and non-UCSD posts is from the same distribution (meaning, if they are the same or not)."
   ]
  },
  {
   "cell_type": "code",
   "execution_count": 74,
   "metadata": {},
   "outputs": [
    {
     "data": {
      "text/html": [
       "<div>\n",
       "<style scoped>\n",
       "    .dataframe tbody tr th:only-of-type {\n",
       "        vertical-align: middle;\n",
       "    }\n",
       "\n",
       "    .dataframe tbody tr th {\n",
       "        vertical-align: top;\n",
       "    }\n",
       "\n",
       "    .dataframe thead th {\n",
       "        text-align: right;\n",
       "    }\n",
       "</style>\n",
       "<table border=\"1\" class=\"dataframe\">\n",
       "  <thead>\n",
       "    <tr style=\"text-align: right;\">\n",
       "      <th></th>\n",
       "      <th>title</th>\n",
       "      <th>score</th>\n",
       "      <th>id</th>\n",
       "      <th>subreddit</th>\n",
       "      <th>num_comments</th>\n",
       "      <th>body</th>\n",
       "      <th>created</th>\n",
       "      <th>body_sentiment</th>\n",
       "      <th>title_sentiment</th>\n",
       "    </tr>\n",
       "  </thead>\n",
       "  <tbody>\n",
       "    <tr>\n",
       "      <th>0</th>\n",
       "      <td>dear ucsd</td>\n",
       "      <td>148</td>\n",
       "      <td>pxb6c3</td>\n",
       "      <td>UCSD</td>\n",
       "      <td>12</td>\n",
       "      <td>as i sit in the dusty gravel lots of gliderpor...</td>\n",
       "      <td>2021-09-28 17:19:53</td>\n",
       "      <td>-0.9894</td>\n",
       "      <td>0.3818</td>\n",
       "    </tr>\n",
       "    <tr>\n",
       "      <th>1</th>\n",
       "      <td>been feeling lost regretful and anxious about ...</td>\n",
       "      <td>75</td>\n",
       "      <td>qc8pjz</td>\n",
       "      <td>UCSD</td>\n",
       "      <td>26</td>\n",
       "      <td>its been a rough couple of months for me since...</td>\n",
       "      <td>2021-10-20 19:22:39</td>\n",
       "      <td>0.9136</td>\n",
       "      <td>-0.6908</td>\n",
       "    </tr>\n",
       "    <tr>\n",
       "      <th>2</th>\n",
       "      <td>harassment from administration (or staff in ge...</td>\n",
       "      <td>254</td>\n",
       "      <td>lbhq7z</td>\n",
       "      <td>UCSD</td>\n",
       "      <td>8</td>\n",
       "      <td>i recently had an experience of being harassed...</td>\n",
       "      <td>2021-02-03 06:46:54</td>\n",
       "      <td>-0.8567</td>\n",
       "      <td>-0.5423</td>\n",
       "    </tr>\n",
       "    <tr>\n",
       "      <th>3</th>\n",
       "      <td>school pride never hurt anyone</td>\n",
       "      <td>139</td>\n",
       "      <td>pcaouf</td>\n",
       "      <td>UCSD</td>\n",
       "      <td>25</td>\n",
       "      <td>given this subreddit’s somewhat anti-athletics...</td>\n",
       "      <td>2021-08-26 22:57:55</td>\n",
       "      <td>0.9989</td>\n",
       "      <td>0.6341</td>\n",
       "    </tr>\n",
       "    <tr>\n",
       "      <th>4</th>\n",
       "      <td>ucsd (international business) vs cal poly slo ...</td>\n",
       "      <td>4</td>\n",
       "      <td>mkg2vc</td>\n",
       "      <td>UCSD</td>\n",
       "      <td>10</td>\n",
       "      <td>i got into the undergraduate international bus...</td>\n",
       "      <td>2021-04-05 08:45:14</td>\n",
       "      <td>0.2732</td>\n",
       "      <td>0.0000</td>\n",
       "    </tr>\n",
       "  </tbody>\n",
       "</table>\n",
       "</div>"
      ],
      "text/plain": [
       "                                               title  score      id subreddit  \\\n",
       "0                                          dear ucsd    148  pxb6c3      UCSD   \n",
       "1  been feeling lost regretful and anxious about ...     75  qc8pjz      UCSD   \n",
       "2  harassment from administration (or staff in ge...    254  lbhq7z      UCSD   \n",
       "3                     school pride never hurt anyone    139  pcaouf      UCSD   \n",
       "4  ucsd (international business) vs cal poly slo ...      4  mkg2vc      UCSD   \n",
       "\n",
       "   num_comments                                               body  \\\n",
       "0            12  as i sit in the dusty gravel lots of gliderpor...   \n",
       "1            26  its been a rough couple of months for me since...   \n",
       "2             8  i recently had an experience of being harassed...   \n",
       "3            25  given this subreddit’s somewhat anti-athletics...   \n",
       "4            10  i got into the undergraduate international bus...   \n",
       "\n",
       "              created  body_sentiment  title_sentiment  \n",
       "0 2021-09-28 17:19:53         -0.9894           0.3818  \n",
       "1 2021-10-20 19:22:39          0.9136          -0.6908  \n",
       "2 2021-02-03 06:46:54         -0.8567          -0.5423  \n",
       "3 2021-08-26 22:57:55          0.9989           0.6341  \n",
       "4 2021-04-05 08:45:14          0.2732           0.0000  "
      ]
     },
     "execution_count": 74,
     "metadata": {},
     "output_type": "execute_result"
    }
   ],
   "source": [
    "posts_test = posts.copy()\n",
    "posts_test.head()"
   ]
  },
  {
   "cell_type": "markdown",
   "metadata": {},
   "source": [
    "As our distributions are not normal and running a permutaiton test on more than two groups is not reasonable, we will try to answer the question of whether UCSD and non-UCSD subreddits have different sentiments towards administration. Therefore, in that case our null hypothesis will be \"Average sentiment of UCSD and non-UCSD posts is the same\", and the alternative is that the average sentiments are different. The test statistic will be the difference of means."
   ]
  },
  {
   "cell_type": "code",
   "execution_count": 75,
   "metadata": {
    "scrolled": true
   },
   "outputs": [
    {
     "data": {
      "text/plain": [
       "is_UCSD\n",
       "False    0.232149\n",
       "True     0.179343\n",
       "Name: body_sentiment, dtype: float64"
      ]
     },
     "execution_count": 75,
     "metadata": {},
     "output_type": "execute_result"
    }
   ],
   "source": [
    "# The observed means\n",
    "posts_test['is_UCSD'] = posts_test.subreddit == 'UCSD'\n",
    "posts_test.groupby('is_UCSD')['body_sentiment'].mean()"
   ]
  },
  {
   "cell_type": "code",
   "execution_count": 77,
   "metadata": {},
   "outputs": [],
   "source": [
    "# The permutation test\n",
    "test_statistics = []\n",
    "observed = posts_test.groupby('is_UCSD')['body_sentiment'].mean().diff()[True]\n",
    "\n",
    "index = posts_test.index\n",
    "\n",
    "for _ in range(1000):\n",
    "    shuffled_column = posts_test['is_UCSD'].sample(n = posts_test.shape[0])\n",
    "    shuffled_column.index = index\n",
    "    posts_test['is_UCSD'] = shuffled_column\n",
    "    test_statistics.append(posts_test.groupby('is_UCSD')['body_sentiment'].mean().diff()[True])"
   ]
  },
  {
   "cell_type": "code",
   "execution_count": 78,
   "metadata": {},
   "outputs": [],
   "source": [
    "test_statistics = np.array(test_statistics)"
   ]
  },
  {
   "cell_type": "code",
   "execution_count": 87,
   "metadata": {
    "scrolled": true
   },
   "outputs": [
    {
     "data": {
      "text/plain": [
       "<function matplotlib.pyplot.hist(x, bins=None, range=None, density=False, weights=None, cumulative=False, bottom=None, histtype='bar', align='mid', orientation='vertical', rwidth=None, log=False, color=None, label=None, stacked=False, *, data=None, **kwargs)>"
      ]
     },
     "execution_count": 87,
     "metadata": {},
     "output_type": "execute_result"
    },
    {
     "data": {
      "image/png": "[encoded data removed]",
      "text/plain": [
       "<Figure size 432x288 with 1 Axes>"
      ]
     },
     "metadata": {
      "needs_background": "light"
     },
     "output_type": "display_data"
    }
   ],
   "source": [
    "plt.hist(test_statistics, color = 'purple')\n",
    "plt.title('Distribution of the Difference of Means Between UCSD and Other Universities')\n",
    "plt.xlabel('Difference in Mean')\n",
    "plt.ylabel('Amount of Samples')\n",
    "plt.hist"
   ]
  },
  {
   "cell_type": "code",
   "execution_count": 130,
   "metadata": {},
   "outputs": [
    {
     "data": {
      "text/plain": [
       "0.017"
      ]
     },
     "execution_count": 130,
     "metadata": {},
     "output_type": "execute_result"
    }
   ],
   "source": [
    "(test_statistics < observed).mean()"
   ]
  },
  {
   "cell_type": "markdown",
   "metadata": {},
   "source": [
    "After running 1000 permutations, our observed difference produces the p-value of 0.017, meaning we reject the null at significance level 0.05. With bodies of posts, our data suggests that the sentiment of Reddit posts on r/UCSD and other sampled college subreddits is not the same (i.e. the sentiments don't come from the same distribution). This gives us further evidence that UCSD subreddit, on average and based on statistics, had a more negative response to administration's actions during the COVID-19 pandemic."
   ]
  },
  {
   "cell_type": "markdown",
   "metadata": {},
   "source": [
    "# Ethics & Privacy"
   ]
  },
  {
   "cell_type": "markdown",
   "metadata": {},
   "source": [
    "Reddit posts are linked to the users that submit them, and therefore the most important part would be to anonymize the posts. User data is irrelevant for our analysis, and therefore it will be removed from our dataset. We expect the contents of the posts to refer to people in university administrations and faculty, and if particular persons are present in our analysis, we will remove their names and identifying information. The only exception is the administrators of each university (e.g. Chancellor Khosla at UCSD), because Chancellors accept their positions knowing they will represent their respective universities. \n",
    "\n",
    "The demographic of the posts will primarily reflect young adults (mostly in the 18-25 age bracket), but it is possible that minors will be represented in our dataset. Since we will be removing user data, this should not be a concern. If any other identifying or sensitive information is present in the bodies of messages, that will be deleted as well. As we are studying posts on Reddit communities and we are analyzing their sentiment, another expected occurrence is profanity. We plan to include profanity in our analysis due to it being essential to us determining the sentiment value of each post -- if we were to remove them from the analysis, that would undeniably skew the data. However, in pursuit of general academic decency and professionalism, we will censor such language in our reports and refer to them in general as \"profanity\"."
   ]
  },
  {
   "cell_type": "markdown",
   "metadata": {},
   "source": [
    "# Conclusion & Discussion"
   ]
  },
  {
   "cell_type": "markdown",
   "metadata": {},
   "source": [
    "Our research question was \"Has the UC San Diego Reddit community voiced a more negative reaction to their university's administrative decisions regarding Coronavirus compared to other California universities?\" \n",
    "\n",
    "First we collected our data using the Reddit API, and then cleaned our data. We then curated keywords in order to filter through irrelevant posts. Discarding filler words would essentially skew our sentiment analysis, so we kept the filler words in our data. To effectively analyze our data, we had to seperate the titles and bodies of our posts because the bodies of the posts were not normally distributed. Due to this skewed distribution, we could not run a simple ANOVA test and had to work with a permutation test. \n",
    "\n",
    "Our results for the project were that we rejected the null hypothesis for both of our tests. Based on post titles, average sentiments across universities were not the same. This was the result of the ANOVA test. After further research, we observed that the results for UCSD and UCSB were lower than other universities. The permutation test on post bodies, however, concluded that post sentiments for UCSD and non-UCSD subreddits do not come from the same distribution, indicating that UCSD's response was lower. Therefore, the UCSD subreddit, on average and based on statistics, has a more negative response to its administration's actions during the COVID-19 pandemic.\n",
    "\n",
    "Some of the major limitations on our project were time and experience. Most of us are beginners in Data Science and therefore had limited experience while completing this project. We initially wanted to incorporate the number of upvotes and number of comments in order to get a more accurate analysis, rather than just analyzing post titles and post bodies, but due to the time constraint, we decided it would not be feasible. We also attempted to include TF/IDF in our analysis but due to time constraints, we chose to forgo this as well. We were also limited by the data that we had decided to work with because many subreddits were not equal in size and activity. \n",
    "\n",
    "The impact of our work on society is that it shows us, statistically, how much students believe university administrations have underperformed during the pandemic and have not effectively supported students in their perceived hardships. This is reflected by the reddit posts that we analyzed. Through our analysis we are able to statistically confirm that UCSD students have felt dissatisfaction with the university's administrative decisions during quarantine. We also confirmed that students in other universities voiced grievances for such decisions, though not as negatively as with UCSD and UCSB."
   ]
  },
  {
   "cell_type": "markdown",
   "metadata": {},
   "source": [
    "# Team Contributions"
   ]
  },
  {
   "cell_type": "markdown",
   "metadata": {},
   "source": [
    "Yuri Bukhradze - Worked on the bulk of the code during the data cleaning, exploratory data analysis and the running of the permutation and ANOVA tests, as well as oversaw most of the technical side of the project.\n",
    "\n",
    "Miles Simitz - Made sure our data represented our question, was responsible for pivoting the data and keeping the group on track. Edited all of the text and updated the Overview, Data, Ethics & Privacy sections. Pushed for TF/IDF analysis and made sure all project deadlines were hit. Responsible for data visualization on the histograms in the Data Analysis & Results section.\n",
    "\n",
    "Caleb Ko - Aided in scraper function development (scraper and scrapersearch prototypes). Reviewed and proofread the Overview and Ethics & Privacy sections. Contributed, reviewed and proofread the Conclusion & Discussion section. Contributed to the PowerPoint used in the final video.\n",
    "\n",
    "Amy Nguyen - Responsible for non-technical aspects of our project such as creating the final project slideshow, created the final project video, and was responsible for managing and directing the group in creating the video. Created a cohesive timeline of our project from start to finish and ensured the audience was able to understand every step of our process. Analyzed and concluded our results and analyzed the impact of our work on society and the UCSD community.\n",
    "\n",
    "Matthew Chong - Helped develop research question in addition to background research on other subreddits. Contributed to the ethics and privacy section as well as offered input on the overall structure of our project. Assisted in the conclusion and discussion section."
   ]
  },
  {
   "cell_type": "markdown",
   "metadata": {},
   "source": [
    "# Final Project Video\n",
    "\n",
    "https://drive.google.com/file/d/1PI0IDwtO47hILPTN072q0YudbhuLSdVC/view?usp=sharing"
   ]
  }
 ],
 "metadata": {
  "kernelspec": {
   "display_name": "Python 3 (ipykernel)",
   "language": "python",
   "name": "python3"
  },
  "language_info": {
   "codemirror_mode": {
    "name": "ipython",
    "version": 3
   },
   "file_extension": ".py",
   "mimetype": "text/x-python",
   "name": "python",
   "nbconvert_exporter": "python",
   "pygments_lexer": "ipython3",
   "version": "3.9.5"
  }
 },
 "nbformat": 4,
 "nbformat_minor": 2
}
