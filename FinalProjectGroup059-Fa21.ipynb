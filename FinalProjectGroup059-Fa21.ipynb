{
 "cells": [
  {
   "cell_type": "markdown",
   "metadata": {},
   "source": [
    "# COGS 108 - Final Project - Analyzing the Correlation Between Gold Lead and Match Outcome Across Different League of Legends Leagues"
   ]
  },
  {
   "cell_type": "markdown",
   "metadata": {},
   "source": [
    "## Permissions\n",
    "\n",
    "Place an `X` in the appropriate bracket below to specify if you would like your group's project to be made available to the public. (Note that student names will be included (but PIDs will be scraped from any groups who include their PIDs).\n",
    "\n",
    "* [X] YES - make available\n",
    "* [  ] NO - keep private"
   ]
  },
  {
   "cell_type": "markdown",
   "metadata": {},
   "source": [
    "# Overview"
   ]
  },
  {
   "cell_type": "markdown",
   "metadata": {},
   "source": [
    "# Names\n",
    "\n",
    "- Justin Chu \n",
    "- John Li\n",
    "- Luke Lloyd\n",
    "- Prathik Malireddy\n",
    "- Dustin Lin"
   ]
  },
  {
   "cell_type": "markdown",
   "metadata": {},
   "source": [
    "<a id='research_question'></a>\n",
    "# Research Question"
   ]
  },
  {
   "cell_type": "markdown",
   "metadata": {},
   "source": [
    "In the competivite League of Legends video game scene, is there a difference in how well teams across different leagues can close out games when having an advantage (gold lead) at 20 minutes?"
   ]
  },
  {
   "cell_type": "markdown",
   "metadata": {},
   "source": [
    "<a id='background'></a>\n",
    "\n",
    "## Background & Prior Work"
   ]
  },
  {
   "cell_type": "markdown",
   "metadata": {},
   "source": [
    "## Background\n",
    "\n",
    "### What is \"League of Legends\"?\n",
    "\n",
    "For anyone blessed enough to not know what League of Legends is, let me ruin that for you. League of Legends is a 5v5 online competitive game where before each match, each player picks a *champion* to play as. The 10 champions interact with each other and other neutral monsters/minions in a large square arena (often called the *map*). Each game usuaslly begins with players spread across the map in what are called *lanes*, gaining gold and experience by killing neutral monsters and minions in order to get stronger. Each game is played between 2 teams (a *blue* team and a *red* team) each consisting of 5 players.\n",
    "\n",
    "\n",
    "Throughout the course of a game the players on each team attempt to gain an advantage over their opponents by gaining gold and experience at a faster rate. With more gold and experience, members of each time can buy items and level up to become stronger than their opponents. With the ultimate goal of destroying the opposing team's base, which is located at the ends of the map/playing field, it is paramount that a team gets an advantage.\n",
    "\n",
    "Gold and experience are gained by getting kills on enemy players, destroying pieces of the enemy’s base (ie: turrets and inhibitors), killing epic monsters that spawn every five minutes as a team (ie: Baron and dragons), and finally by killing creeps (minions that fight for each team and neutral monsters that are distributed around the map). The game is decided when one team reaches the back of the other team’s base and destroys their *Nexus*.\n",
    "\n",
    "### The League of Legends (LoL) competitive scene\n",
    "\n",
    "The League of Legends competitive scene (sometimes called the *professional scene* or *pro scene*) consists of different teams of 5 players each (and typically a coach as well as supporting staff) competing against other teams in a circuit seperated by regions. For example, the north america regional circuit contains around 10 teams with players mostly coming from the US and Canada. Other regions that we will look at include Europe, Korea, and southeast asia. There are often international tournements where teams from different regions come together to compete and decide which region has the best teams and players. *Leagues* refers to the different regional circuits described above. For example, the north american league is referred to as *NALCS*, the european league *EULCS*, the korean's *LCK*, and southeast asia *LMS* just to name a few.\n",
    "\n",
    "\n",
    "As a group, we noticed from our League of Legends playing and watching experience that there is usually a certain point in any specific game where it seems unwinnable for one team. We are interested in how often teams in each region can close out matches that they are already winning. We think that how effective teams are at snowballing their lead and closing out games can be a proxy for their overall skill level.\n",
    "\n",
    "### Choice of parameters for research question\n",
    "\n",
    "We chose to use gold as a proxy for determining which team was \"winning\" at any given point because it both summarizes each team’s performance up until that point and correlates directly with the strength of each team (since individuals can purchase items with their gold which makes their characters stronger), which isn’t something that can be measured on its own.\n",
    "\n",
    "We chose to measure which team was winning at 20 minutes into the match because in our experience, by this time one team usually has a measurable and meaningful lead over the other. In a League of Legends game, 20 minutes is usually when team members leave their *lanes* and begin to group together as 5 team members in order to team up and take down objectives across the map. We affrimed this choice in our EDA section by noticing that a vast majority of obersvations (where each observation is a game) in the dataset last longer than 20 minutes, with the average game time somewhere between 35 and 40 minutes.\n",
    "\n",
    "\n",
    "\n",
    "### Prior Work\n",
    "\n",
    "1) Using the data set, Leonardo Fuchs computed a prediction of which team will win a match when a particular team is playing. They focused on a particular North American team (Cloud9). We consider our work marginally related as we are looking at which teams win certain matches based on their leads. However we are not doing a prediction.\n",
    "\n",
    "2) Chuck Ephron used the data set to compute a heat map of win percentages by gold lead and time for every game in the dataset. They explored a team’s chance of winning based on what gold lead they had at a certain time. We consider our work to be related as we are also looking into how teams are using their gold lead advantage to win the game, but we are doing so across different regions/statistics, not all of the games in the dataset.\n",
    "\n",
    "\n",
    "References (include links):\n",
    "- 1) https://www.kaggle.com/leofuchs/predicting-who-will-win-cloud9-matches-in-lol\n",
    "- 2) https://www.kaggle.com/chuckephron/win-percent-by-gold-lead-and-time-heat-map"
   ]
  },
  {
   "cell_type": "markdown",
   "metadata": {},
   "source": [
    "# Hypothesis\n"
   ]
  },
  {
   "cell_type": "markdown",
   "metadata": {},
   "source": [
    "**Hypothesis:** We expect there to be difference across leagues in how well teams can close out games when having a gold lead at 20 minutes.\n",
    "\n",
    "Form our knowledge of the game, we know that there exists different skill levels among teams across the different leagues. One can also analyze the differences in skill level across leagues by looking at which team wins international tournements. Since there are differences in skill across the different leagues, we believe that teams of a certain league are more efficient and skillful when trying to win a game given that they already have a lead."
   ]
  },
  {
   "cell_type": "markdown",
   "metadata": {},
   "source": [
    "# Dataset(s)"
   ]
  },
  {
   "cell_type": "markdown",
   "metadata": {},
   "source": [
    "- Dataset Name: League of Legends\n",
    "- Link to the dataset: https://www.kaggle.com/chuckephron/leagueoflegends?select=LeagueofLegends.csv\n",
    "- Number of observations: 7620 (where each observation is a game between 2 teams)\n",
    "\n",
    "This dataset includes competitive matches between 2015-2018. The leagues in the dataset are LCK, NALCS, EULCS, LMS, TCL, OPL, WC, CBLoL, LCL, LJL, LLN, CLS, IEM, MSI, and RR. Some of the leagues corrospond to international events, which will need to be excluded. The data also contains the gold difference by minute and the winner of each game."
   ]
  },
  {
   "cell_type": "markdown",
   "metadata": {},
   "source": [
    "# Setup"
   ]
  },
  {
   "cell_type": "code",
   "execution_count": 1,
   "metadata": {},
   "outputs": [],
   "source": [
    "import pandas as pd\n",
    "import seaborn as sns\n",
    "import numpy as np\n",
    "import matplotlib.pyplot as plt\n",
    "from matplotlib.collections import PolyCollection\n",
    "from scipy.stats import binom"
   ]
  },
  {
   "cell_type": "code",
   "execution_count": 2,
   "metadata": {},
   "outputs": [],
   "source": [
    "raw_dataset = pd.read_csv('data/LeagueofLegends.csv')"
   ]
  },
  {
   "cell_type": "code",
   "execution_count": 3,
   "metadata": {
    "scrolled": true
   },
   "outputs": [
    {
     "data": {
      "text/plain": [
       "(7620, 57)"
      ]
     },
     "execution_count": 3,
     "metadata": {},
     "output_type": "execute_result"
    }
   ],
   "source": [
    "raw_dataset.shape"
   ]
  },
  {
   "cell_type": "code",
   "execution_count": 4,
   "metadata": {},
   "outputs": [],
   "source": [
    "dataset = raw_dataset.copy()"
   ]
  },
  {
   "cell_type": "markdown",
   "metadata": {},
   "source": [
    "# Data Cleaning"
   ]
  },
  {
   "cell_type": "markdown",
   "metadata": {},
   "source": [
    "Describe your data cleaning steps here."
   ]
  },
  {
   "cell_type": "markdown",
   "metadata": {},
   "source": [
    "We first removed games that ended before 20 minutes. We consdier these games to be outliers since the games ended much quicker than average."
   ]
  },
  {
   "cell_type": "code",
   "execution_count": 5,
   "metadata": {},
   "outputs": [],
   "source": [
    "dataset = dataset[dataset.gamelength > 20]"
   ]
  },
  {
   "cell_type": "markdown",
   "metadata": {},
   "source": [
    "Next we made a new column *golddiff_20min* that contains the gold difference at 20 minutes between each team where the gold difference = blue team - red team."
   ]
  },
  {
   "cell_type": "code",
   "execution_count": 6,
   "metadata": {},
   "outputs": [],
   "source": [
    "dataset['golddiff_20min'] = dataset.golddiff.str[1:-1].str.split(', ').apply(lambda x: int(x[20]))"
   ]
  },
  {
   "cell_type": "markdown",
   "metadata": {},
   "source": [
    "We renamed the column *'bResult'* which contains a boolean indicating if the blue team won the match or not to *'blue_win'* for clairity."
   ]
  },
  {
   "cell_type": "code",
   "execution_count": 7,
   "metadata": {},
   "outputs": [
    {
     "data": {
      "text/plain": [
       "LCK      1445\n",
       "NALCS    1269\n",
       "EULCS    1099\n",
       "LMS       777\n",
       "TCL       652\n",
       "OPL       456\n",
       "CBLoL     301\n",
       "LCL       279\n",
       "LJL       258\n",
       "LLN       241\n",
       "CLS       175\n",
       "Name: League, dtype: int64"
      ]
     },
     "execution_count": 7,
     "metadata": {},
     "output_type": "execute_result"
    }
   ],
   "source": [
    "dataset.rename({'bResult': 'blue_win'}, axis=1, inplace=True)\n",
    "dataset.rename({'rResult': 'red_win'}, axis=1, inplace=True)\n",
    "\n",
    "dataset[['League', 'Year', 'golddiff_20min']].pivot_table(index='League', columns='Year', aggfunc='count')\n",
    "\n",
    "dataset = dataset[dataset.League.isin(['LCK', 'NALCS', 'EULCS', 'LMS', 'TCL', 'OPL', 'CBLoL', 'LCL', 'LJL', 'LLN', 'CLS'])]\n",
    "\n",
    "\n",
    "# The outputed values below represent the observations we have for each region.\n",
    "# Recall that each obervation is a match, which we know lasts for at least 20 minutes.\n",
    "dataset.League.value_counts()\n",
    "\n",
    "\n",
    "# dataset = dataset[['League', 'Year', 'Type', 'blue_win', 'golddiff_20min']]"
   ]
  },
  {
   "cell_type": "code",
   "execution_count": 8,
   "metadata": {
    "scrolled": true
   },
   "outputs": [
    {
     "data": {
      "text/html": [
       "<div>\n",
       "<style scoped>\n",
       "    .dataframe tbody tr th:only-of-type {\n",
       "        vertical-align: middle;\n",
       "    }\n",
       "\n",
       "    .dataframe tbody tr th {\n",
       "        vertical-align: top;\n",
       "    }\n",
       "\n",
       "    .dataframe thead th {\n",
       "        text-align: right;\n",
       "    }\n",
       "</style>\n",
       "<table border=\"1\" class=\"dataframe\">\n",
       "  <thead>\n",
       "    <tr style=\"text-align: right;\">\n",
       "      <th></th>\n",
       "      <th>League</th>\n",
       "      <th>Year</th>\n",
       "      <th>Season</th>\n",
       "      <th>Type</th>\n",
       "      <th>blueTeamTag</th>\n",
       "      <th>blue_win</th>\n",
       "      <th>red_win</th>\n",
       "      <th>redTeamTag</th>\n",
       "      <th>gamelength</th>\n",
       "      <th>golddiff</th>\n",
       "      <th>...</th>\n",
       "      <th>goldredMiddle</th>\n",
       "      <th>redADC</th>\n",
       "      <th>redADCChamp</th>\n",
       "      <th>goldredADC</th>\n",
       "      <th>redSupport</th>\n",
       "      <th>redSupportChamp</th>\n",
       "      <th>goldredSupport</th>\n",
       "      <th>redBans</th>\n",
       "      <th>Address</th>\n",
       "      <th>golddiff_20min</th>\n",
       "    </tr>\n",
       "  </thead>\n",
       "  <tbody>\n",
       "    <tr>\n",
       "      <th>0</th>\n",
       "      <td>NALCS</td>\n",
       "      <td>2015</td>\n",
       "      <td>Spring</td>\n",
       "      <td>Season</td>\n",
       "      <td>TSM</td>\n",
       "      <td>1</td>\n",
       "      <td>0</td>\n",
       "      <td>C9</td>\n",
       "      <td>40</td>\n",
       "      <td>[0, 0, -14, -65, -268, -431, -488, -789, -494,...</td>\n",
       "      <td>...</td>\n",
       "      <td>[475, 475, 552, 842, 1178, 1378, 1635, 1949, 2...</td>\n",
       "      <td>Sneaky</td>\n",
       "      <td>Sivir</td>\n",
       "      <td>[475, 475, 532, 762, 1097, 1469, 1726, 2112, 2...</td>\n",
       "      <td>LemonNation</td>\n",
       "      <td>Thresh</td>\n",
       "      <td>[515, 515, 577, 722, 911, 1042, 1194, 1370, 14...</td>\n",
       "      <td>['Tristana', 'Leblanc', 'Nidalee']</td>\n",
       "      <td>http://matchhistory.na.leagueoflegends.com/en/...</td>\n",
       "      <td>987</td>\n",
       "    </tr>\n",
       "    <tr>\n",
       "      <th>1</th>\n",
       "      <td>NALCS</td>\n",
       "      <td>2015</td>\n",
       "      <td>Spring</td>\n",
       "      <td>Season</td>\n",
       "      <td>CST</td>\n",
       "      <td>0</td>\n",
       "      <td>1</td>\n",
       "      <td>DIG</td>\n",
       "      <td>38</td>\n",
       "      <td>[0, 0, -26, -18, 147, 237, -152, 18, 88, -242,...</td>\n",
       "      <td>...</td>\n",
       "      <td>[475, 475, 552, 786, 1097, 1389, 1660, 1955, 2...</td>\n",
       "      <td>CoreJJ</td>\n",
       "      <td>Corki</td>\n",
       "      <td>[475, 475, 532, 868, 1220, 1445, 1732, 1979, 2...</td>\n",
       "      <td>KiWiKiD</td>\n",
       "      <td>Annie</td>\n",
       "      <td>[515, 515, 583, 752, 900, 1066, 1236, 1417, 15...</td>\n",
       "      <td>['RekSai', 'Janna', 'Leblanc']</td>\n",
       "      <td>http://matchhistory.na.leagueoflegends.com/en/...</td>\n",
       "      <td>205</td>\n",
       "    </tr>\n",
       "    <tr>\n",
       "      <th>2</th>\n",
       "      <td>NALCS</td>\n",
       "      <td>2015</td>\n",
       "      <td>Spring</td>\n",
       "      <td>Season</td>\n",
       "      <td>WFX</td>\n",
       "      <td>1</td>\n",
       "      <td>0</td>\n",
       "      <td>GV</td>\n",
       "      <td>40</td>\n",
       "      <td>[0, 0, 10, -60, 34, 37, 589, 1064, 1258, 913, ...</td>\n",
       "      <td>...</td>\n",
       "      <td>[475, 475, 533, 801, 1006, 1233, 1385, 1720, 1...</td>\n",
       "      <td>Cop</td>\n",
       "      <td>Corki</td>\n",
       "      <td>[475, 475, 533, 781, 1085, 1398, 1782, 1957, 2...</td>\n",
       "      <td>BunnyFuFuu</td>\n",
       "      <td>Janna</td>\n",
       "      <td>[515, 515, 584, 721, 858, 1002, 1168, 1303, 14...</td>\n",
       "      <td>['Leblanc', 'Zed', 'RekSai']</td>\n",
       "      <td>http://matchhistory.na.leagueoflegends.com/en/...</td>\n",
       "      <td>4597</td>\n",
       "    </tr>\n",
       "    <tr>\n",
       "      <th>3</th>\n",
       "      <td>NALCS</td>\n",
       "      <td>2015</td>\n",
       "      <td>Spring</td>\n",
       "      <td>Season</td>\n",
       "      <td>TIP</td>\n",
       "      <td>0</td>\n",
       "      <td>1</td>\n",
       "      <td>TL</td>\n",
       "      <td>41</td>\n",
       "      <td>[0, 0, -15, 25, 228, -6, -243, 175, -346, 16, ...</td>\n",
       "      <td>...</td>\n",
       "      <td>[475, 475, 532, 771, 1046, 1288, 1534, 1776, 2...</td>\n",
       "      <td>KEITH</td>\n",
       "      <td>KogMaw</td>\n",
       "      <td>[475, 475, 532, 766, 1161, 1438, 1776, 1936, 2...</td>\n",
       "      <td>Xpecial</td>\n",
       "      <td>Janna</td>\n",
       "      <td>[515, 515, 583, 721, 870, 1059, 1205, 1342, 15...</td>\n",
       "      <td>['RekSai', 'Rumble', 'LeeSin']</td>\n",
       "      <td>http://matchhistory.na.leagueoflegends.com/en/...</td>\n",
       "      <td>2712</td>\n",
       "    </tr>\n",
       "    <tr>\n",
       "      <th>4</th>\n",
       "      <td>NALCS</td>\n",
       "      <td>2015</td>\n",
       "      <td>Spring</td>\n",
       "      <td>Season</td>\n",
       "      <td>CLG</td>\n",
       "      <td>1</td>\n",
       "      <td>0</td>\n",
       "      <td>T8</td>\n",
       "      <td>35</td>\n",
       "      <td>[40, 40, 44, -36, 113, 158, -121, -191, 23, 20...</td>\n",
       "      <td>...</td>\n",
       "      <td>[475, 475, 532, 807, 1042, 1338, 1646, 1951, 2...</td>\n",
       "      <td>Maplestreet8</td>\n",
       "      <td>Corki</td>\n",
       "      <td>[475, 475, 532, 792, 1187, 1488, 1832, 2136, 2...</td>\n",
       "      <td>Dodo8</td>\n",
       "      <td>Annie</td>\n",
       "      <td>[475, 475, 538, 671, 817, 948, 1104, 1240, 136...</td>\n",
       "      <td>['Rumble', 'Sivir', 'Rengar']</td>\n",
       "      <td>http://matchhistory.na.leagueoflegends.com/en/...</td>\n",
       "      <td>926</td>\n",
       "    </tr>\n",
       "  </tbody>\n",
       "</table>\n",
       "<p>5 rows × 58 columns</p>\n",
       "</div>"
      ],
      "text/plain": [
       "  League  Year  Season    Type blueTeamTag  blue_win  red_win redTeamTag  \\\n",
       "0  NALCS  2015  Spring  Season         TSM         1        0         C9   \n",
       "1  NALCS  2015  Spring  Season         CST         0        1        DIG   \n",
       "2  NALCS  2015  Spring  Season         WFX         1        0         GV   \n",
       "3  NALCS  2015  Spring  Season         TIP         0        1         TL   \n",
       "4  NALCS  2015  Spring  Season         CLG         1        0         T8   \n",
       "\n",
       "   gamelength                                           golddiff  ...  \\\n",
       "0          40  [0, 0, -14, -65, -268, -431, -488, -789, -494,...  ...   \n",
       "1          38  [0, 0, -26, -18, 147, 237, -152, 18, 88, -242,...  ...   \n",
       "2          40  [0, 0, 10, -60, 34, 37, 589, 1064, 1258, 913, ...  ...   \n",
       "3          41  [0, 0, -15, 25, 228, -6, -243, 175, -346, 16, ...  ...   \n",
       "4          35  [40, 40, 44, -36, 113, 158, -121, -191, 23, 20...  ...   \n",
       "\n",
       "                                       goldredMiddle        redADC  \\\n",
       "0  [475, 475, 552, 842, 1178, 1378, 1635, 1949, 2...        Sneaky   \n",
       "1  [475, 475, 552, 786, 1097, 1389, 1660, 1955, 2...        CoreJJ   \n",
       "2  [475, 475, 533, 801, 1006, 1233, 1385, 1720, 1...           Cop   \n",
       "3  [475, 475, 532, 771, 1046, 1288, 1534, 1776, 2...         KEITH   \n",
       "4  [475, 475, 532, 807, 1042, 1338, 1646, 1951, 2...  Maplestreet8   \n",
       "\n",
       "  redADCChamp                                         goldredADC   redSupport  \\\n",
       "0       Sivir  [475, 475, 532, 762, 1097, 1469, 1726, 2112, 2...  LemonNation   \n",
       "1       Corki  [475, 475, 532, 868, 1220, 1445, 1732, 1979, 2...      KiWiKiD   \n",
       "2       Corki  [475, 475, 533, 781, 1085, 1398, 1782, 1957, 2...   BunnyFuFuu   \n",
       "3      KogMaw  [475, 475, 532, 766, 1161, 1438, 1776, 1936, 2...      Xpecial   \n",
       "4       Corki  [475, 475, 532, 792, 1187, 1488, 1832, 2136, 2...        Dodo8   \n",
       "\n",
       "  redSupportChamp                                     goldredSupport  \\\n",
       "0          Thresh  [515, 515, 577, 722, 911, 1042, 1194, 1370, 14...   \n",
       "1           Annie  [515, 515, 583, 752, 900, 1066, 1236, 1417, 15...   \n",
       "2           Janna  [515, 515, 584, 721, 858, 1002, 1168, 1303, 14...   \n",
       "3           Janna  [515, 515, 583, 721, 870, 1059, 1205, 1342, 15...   \n",
       "4           Annie  [475, 475, 538, 671, 817, 948, 1104, 1240, 136...   \n",
       "\n",
       "                              redBans  \\\n",
       "0  ['Tristana', 'Leblanc', 'Nidalee']   \n",
       "1      ['RekSai', 'Janna', 'Leblanc']   \n",
       "2        ['Leblanc', 'Zed', 'RekSai']   \n",
       "3      ['RekSai', 'Rumble', 'LeeSin']   \n",
       "4       ['Rumble', 'Sivir', 'Rengar']   \n",
       "\n",
       "                                             Address golddiff_20min  \n",
       "0  http://matchhistory.na.leagueoflegends.com/en/...            987  \n",
       "1  http://matchhistory.na.leagueoflegends.com/en/...            205  \n",
       "2  http://matchhistory.na.leagueoflegends.com/en/...           4597  \n",
       "3  http://matchhistory.na.leagueoflegends.com/en/...           2712  \n",
       "4  http://matchhistory.na.leagueoflegends.com/en/...            926  \n",
       "\n",
       "[5 rows x 58 columns]"
      ]
     },
     "execution_count": 8,
     "metadata": {},
     "output_type": "execute_result"
    }
   ],
   "source": [
    "dataset.head()"
   ]
  },
  {
   "cell_type": "code",
   "execution_count": 9,
   "metadata": {},
   "outputs": [],
   "source": [
    "dataset = dataset[['League', 'Year', 'Type', 'blue_win', 'golddiff_20min']]"
   ]
  },
  {
   "cell_type": "markdown",
   "metadata": {},
   "source": [
    "Given the size of the dataset, it's best if we contain the columns to only what's needed"
   ]
  },
  {
   "cell_type": "code",
   "execution_count": 10,
   "metadata": {},
   "outputs": [],
   "source": [
    "def attribute_win(row):\n",
    "    blue_win = row['blue_win']\n",
    "    blue_diff = int(row['golddiff_20min'] > 0)\n",
    "    \n",
    "    if blue_win == blue_diff:\n",
    "        return 1\n",
    "    \n",
    "    return 0"
   ]
  },
  {
   "cell_type": "code",
   "execution_count": 11,
   "metadata": {},
   "outputs": [],
   "source": [
    "dataset = dataset.assign(diff_win = dataset.apply(attribute_win, axis=1))"
   ]
  },
  {
   "cell_type": "markdown",
   "metadata": {},
   "source": [
    "See if a higher gold difference is associated with the win"
   ]
  },
  {
   "cell_type": "code",
   "execution_count": 12,
   "metadata": {},
   "outputs": [
    {
     "data": {
      "text/html": [
       "<div>\n",
       "<style scoped>\n",
       "    .dataframe tbody tr th:only-of-type {\n",
       "        vertical-align: middle;\n",
       "    }\n",
       "\n",
       "    .dataframe tbody tr th {\n",
       "        vertical-align: top;\n",
       "    }\n",
       "\n",
       "    .dataframe thead th {\n",
       "        text-align: right;\n",
       "    }\n",
       "</style>\n",
       "<table border=\"1\" class=\"dataframe\">\n",
       "  <thead>\n",
       "    <tr style=\"text-align: right;\">\n",
       "      <th></th>\n",
       "      <th>League</th>\n",
       "      <th>Year</th>\n",
       "      <th>Type</th>\n",
       "      <th>blue_win</th>\n",
       "      <th>golddiff_20min</th>\n",
       "      <th>diff_win</th>\n",
       "    </tr>\n",
       "  </thead>\n",
       "  <tbody>\n",
       "    <tr>\n",
       "      <th>0</th>\n",
       "      <td>NALCS</td>\n",
       "      <td>2015</td>\n",
       "      <td>Season</td>\n",
       "      <td>1</td>\n",
       "      <td>987</td>\n",
       "      <td>1</td>\n",
       "    </tr>\n",
       "    <tr>\n",
       "      <th>1</th>\n",
       "      <td>NALCS</td>\n",
       "      <td>2015</td>\n",
       "      <td>Season</td>\n",
       "      <td>0</td>\n",
       "      <td>205</td>\n",
       "      <td>0</td>\n",
       "    </tr>\n",
       "    <tr>\n",
       "      <th>2</th>\n",
       "      <td>NALCS</td>\n",
       "      <td>2015</td>\n",
       "      <td>Season</td>\n",
       "      <td>1</td>\n",
       "      <td>4597</td>\n",
       "      <td>1</td>\n",
       "    </tr>\n",
       "    <tr>\n",
       "      <th>3</th>\n",
       "      <td>NALCS</td>\n",
       "      <td>2015</td>\n",
       "      <td>Season</td>\n",
       "      <td>0</td>\n",
       "      <td>2712</td>\n",
       "      <td>0</td>\n",
       "    </tr>\n",
       "    <tr>\n",
       "      <th>4</th>\n",
       "      <td>NALCS</td>\n",
       "      <td>2015</td>\n",
       "      <td>Season</td>\n",
       "      <td>1</td>\n",
       "      <td>926</td>\n",
       "      <td>1</td>\n",
       "    </tr>\n",
       "  </tbody>\n",
       "</table>\n",
       "</div>"
      ],
      "text/plain": [
       "  League  Year    Type  blue_win  golddiff_20min  diff_win\n",
       "0  NALCS  2015  Season         1             987         1\n",
       "1  NALCS  2015  Season         0             205         0\n",
       "2  NALCS  2015  Season         1            4597         1\n",
       "3  NALCS  2015  Season         0            2712         0\n",
       "4  NALCS  2015  Season         1             926         1"
      ]
     },
     "execution_count": 12,
     "metadata": {},
     "output_type": "execute_result"
    }
   ],
   "source": [
    "dataset.head()"
   ]
  },
  {
   "cell_type": "markdown",
   "metadata": {},
   "source": [
    "# Data Analysis & Results"
   ]
  },
  {
   "cell_type": "markdown",
   "metadata": {},
   "source": [
    "### Exploratory Data Analysis"
   ]
  },
  {
   "cell_type": "code",
   "execution_count": 13,
   "metadata": {},
   "outputs": [],
   "source": [
    "eda_dataset = raw_dataset.copy()"
   ]
  },
  {
   "cell_type": "markdown",
   "metadata": {},
   "source": [
    "We were interested at looking at the distribution of game lengths for each region. Perhaps some regions played longer or shorter games due to different playstyles. Out of the 4 regions with the most observations, the distribution seems pretty similar."
   ]
  },
  {
   "cell_type": "code",
   "execution_count": 14,
   "metadata": {},
   "outputs": [
    {
     "data": {
      "text/plain": [
       "[Text(0.5, 0, 'Game time in minutes of LMS games')]"
      ]
     },
     "execution_count": 14,
     "metadata": {},
     "output_type": "execute_result"
    },
    {
     "data": {
      "image/png": "[encoded data removed]",
      "text/plain": [
       "<Figure size 720x360 with 2 Axes>"
      ]
     },
     "metadata": {
      "needs_background": "light"
     },
     "output_type": "display_data"
    },
    {
     "data": {
      "image/png": "[encoded data removed]",
      "text/plain": [
       "<Figure size 720x360 with 2 Axes>"
      ]
     },
     "metadata": {
      "needs_background": "light"
     },
     "output_type": "display_data"
    }
   ],
   "source": [
    "## hist grams for each region\n",
    "dataset_LCK = eda_dataset[eda_dataset['League'] == 'LCK']\n",
    "dataset_NALCS = eda_dataset[eda_dataset['League'] == 'NALCS']\n",
    "dataset_EULCS = eda_dataset[eda_dataset['League'] == 'EULCS']\n",
    "dataset_LMS = eda_dataset[eda_dataset['League'] == 'LMS']\n",
    "\n",
    "\n",
    "fig, ((ax1, ax2)) = plt.subplots(ncols=2, sharey=True, figsize=(10,5))\n",
    "\n",
    "# dataset_LCK['gamelength'].plot.hist(xlabel='Game time in minutes')\n",
    "sns.histplot(data=dataset_LCK, x='gamelength', ax=ax1,  color='m',  )\n",
    "\n",
    "sns.histplot(data=dataset_NALCS, x='gamelength', ax=ax2, color='b' )\n",
    "\n",
    "ax1.set(xlabel='Game time in minutes of LCK games')\n",
    "ax2.set(xlabel='Game time in minutes of NALCS games')\n",
    "\n",
    "\n",
    "fig2, (ax1_2, ax2_2) = plt.subplots(ncols=2, sharey=True, figsize=(10,5))\n",
    "\n",
    "# dataset_LCK['gamelength'].plot.hist(xlabel='Game time in minutes')\n",
    "sns.histplot(data=dataset_EULCS, x='gamelength', ax=ax1_2,  color='r',  )\n",
    "\n",
    "sns.histplot(data=dataset_LMS, x='gamelength', ax=ax2_2, color='g' )\n",
    "\n",
    "ax1_2.set(xlabel='Game time in minutes of EULCS games')\n",
    "ax2_2.set(xlabel='Game time in minutes of LMS games')\n"
   ]
  },
  {
   "cell_type": "markdown",
   "metadata": {},
   "source": [
    "To help compare the averages, we created a barplot (this time with all the different regions included). This backed our discoverey in the hist-plots above that the average game times acorss all observations is around 35-40 minutes"
   ]
  },
  {
   "cell_type": "code",
   "execution_count": 15,
   "metadata": {},
   "outputs": [
    {
     "data": {
      "text/plain": [
       "[Text(0.5, 0, 'Average game length in minutes')]"
      ]
     },
     "execution_count": 15,
     "metadata": {},
     "output_type": "execute_result"
    },
    {
     "data": {
      "image/png": "[encoded data removed]",
      "text/plain": [
       "<Figure size 432x288 with 1 Axes>"
      ]
     },
     "metadata": {
      "needs_background": "light"
     },
     "output_type": "display_data"
    }
   ],
   "source": [
    "avg_game_time = sns.barplot(data = eda_dataset, y = 'League', x = 'gamelength')\n",
    "avg_game_time.set(xlabel='Average game length in minutes')"
   ]
  },
  {
   "cell_type": "markdown",
   "metadata": {},
   "source": [
    "Next we were curious what the average gold load at 20 mintues (the new column we created), would this be similar acorss the board like the average game time?"
   ]
  },
  {
   "cell_type": "code",
   "execution_count": 16,
   "metadata": {},
   "outputs": [
    {
     "data": {
      "text/plain": [
       "LCK      1445\n",
       "NALCS    1269\n",
       "EULCS    1099\n",
       "LMS       777\n",
       "TCL       652\n",
       "OPL       456\n",
       "CBLoL     301\n",
       "LCL       279\n",
       "LJL       258\n",
       "LLN       241\n",
       "CLS       175\n",
       "Name: League, dtype: int64"
      ]
     },
     "execution_count": 16,
     "metadata": {},
     "output_type": "execute_result"
    }
   ],
   "source": [
    "eda_dataset = eda_dataset[eda_dataset.gamelength > 20]\n",
    "\n",
    "eda_dataset['golddiff_20min'] = eda_dataset.golddiff.str[1:-1].str.split(', ').apply(lambda x: int(x[20]))\n",
    "\n",
    "eda_dataset.rename({'bResult': 'blue_win'}, axis=1, inplace=True)\n",
    "\n",
    "eda_dataset[['League', 'Year', 'golddiff_20min']].pivot_table(index='League', columns='Year', aggfunc='count')\n",
    "\n",
    "eda_dataset = eda_dataset[eda_dataset.League.isin(['LCK', 'NALCS', 'EULCS', 'LMS', 'TCL', 'OPL', 'CBLoL', 'LCL', 'LJL', 'LLN', 'CLS'])]\n",
    "\n",
    "eda_dataset.League.value_counts()"
   ]
  },
  {
   "cell_type": "code",
   "execution_count": 17,
   "metadata": {},
   "outputs": [
    {
     "data": {
      "text/plain": [
       "[Text(0.5, 0, 'Average gold lead at 20 min')]"
      ]
     },
     "execution_count": 17,
     "metadata": {},
     "output_type": "execute_result"
    },
    {
     "data": {
      "image/png": "[encoded data removed]",
      "text/plain": [
       "<Figure size 432x288 with 1 Axes>"
      ]
     },
     "metadata": {
      "needs_background": "light"
     },
     "output_type": "display_data"
    }
   ],
   "source": [
    "avg_gold_lead_20 = sns.barplot(data = dataset, y = 'League', x = 'golddiff_20min')\n",
    "avg_gold_lead_20.set(xlabel='Average gold lead at 20 min')\n",
    "# this kinda sucks, hard to look at (positive and negative refer to gold leads for the 2 different teams)"
   ]
  },
  {
   "cell_type": "markdown",
   "metadata": {},
   "source": [
    "Ok we messed up here becuase we forgot to take into account that the \"gold\" lead can be negative or positive depending on which team color (red or blue) is ahead. What we really want to look at is just the gold lead independent of which team is actually ahead. To do this we take the absolute value."
   ]
  },
  {
   "cell_type": "code",
   "execution_count": 18,
   "metadata": {},
   "outputs": [
    {
     "data": {
      "text/plain": [
       "[Text(0.5, 0, 'Average gold lead of a team at 20 min')]"
      ]
     },
     "execution_count": 18,
     "metadata": {},
     "output_type": "execute_result"
    },
    {
     "data": {
      "image/png": "[encoded data removed]",
      "text/plain": [
       "<Figure size 432x288 with 1 Axes>"
      ]
     },
     "metadata": {
      "needs_background": "light"
     },
     "output_type": "display_data"
    }
   ],
   "source": [
    "# want to create a new column that includes the abs value of the gold lead\n",
    "# we are just interested to see how ahead a team is, not caring about which team\n",
    "eda_dataset['golddiff_20min_abs'] = dataset['golddiff_20min'].abs()\n",
    "avg_gold_lead_20 = sns.boxplot(data = eda_dataset, y='League', x='golddiff_20min_abs')\n",
    "avg_gold_lead_20.set(xlabel='Average gold lead of a team at 20 min')"
   ]
  },
  {
   "cell_type": "markdown",
   "metadata": {},
   "source": [
    "To take one more step closer to answering out research question, we wanted to look at if a team who was ahead 20 minutes in-game, if they actually won the game at the end of it. We wanted to create a boleean for each observation."
   ]
  },
  {
   "cell_type": "code",
   "execution_count": 19,
   "metadata": {},
   "outputs": [
    {
     "data": {
      "text/plain": [
       "0        True\n",
       "1       False\n",
       "2        True\n",
       "3       False\n",
       "4        True\n",
       "        ...  \n",
       "7615     True\n",
       "7616     True\n",
       "7617     True\n",
       "7618     True\n",
       "7619    False\n",
       "Length: 6952, dtype: bool"
      ]
     },
     "execution_count": 19,
     "metadata": {},
     "output_type": "execute_result"
    }
   ],
   "source": [
    "# want to create a new column of indicators of if the team had a lead at 20 minutes and ended up wining the game\n",
    "win_given_20min_golddiff= (eda_dataset['blue_win'] == 1) == (eda_dataset['golddiff_20min'] > 0)\n",
    "win_given_20min_golddiff"
   ]
  },
  {
   "cell_type": "markdown",
   "metadata": {},
   "source": [
    "What we actually want to display in a barplot is the win percentage, or the mean of all these True/False indicator variables that we created above (seperated by region)."
   ]
  },
  {
   "cell_type": "code",
   "execution_count": 20,
   "metadata": {},
   "outputs": [],
   "source": [
    "eda_dataset['win_given_20min_golddiff'] = win_given_20min_golddiff\n",
    "\n",
    "league_winrate_given_lead_20 = eda_dataset.groupby('League')['win_given_20min_golddiff'].mean().to_frame().reset_index()"
   ]
  },
  {
   "cell_type": "markdown",
   "metadata": {},
   "source": [
    "Note that in the plot below, we are mostly interesed in the \"percentage rate\" gained, which would be the win percentage - 50%. We are looking into how more likely are teams to win if they have an advatage."
   ]
  },
  {
   "cell_type": "code",
   "execution_count": 21,
   "metadata": {
    "scrolled": false
   },
   "outputs": [
    {
     "data": {
      "text/plain": [
       "[Text(0.5, 0, 'Win percentage of teams given that they have a gold lead at 20 minutes')]"
      ]
     },
     "execution_count": 21,
     "metadata": {},
     "output_type": "execute_result"
    },
    {
     "data": {
      "image/png": "[encoded data removed]",
      "text/plain": [
       "<Figure size 432x288 with 1 Axes>"
      ]
     },
     "metadata": {
      "needs_background": "light"
     },
     "output_type": "display_data"
    }
   ],
   "source": [
    "winrate_plot = sns.barplot(data=league_winrate_given_lead_20, y='League', x='win_given_20min_golddiff')\n",
    "winrate_plot.set(xlabel='Win percentage of teams given that they have a gold lead at 20 minutes')\n",
    "\n",
    "# this seems pretty high, lets see about gold leads at different times"
   ]
  },
  {
   "cell_type": "markdown",
   "metadata": {},
   "source": [
    "After looking at 20 minutes, we wondered if patterns would be different at 10 minutes. We applied the same techniques to generat the 10 minute graph."
   ]
  },
  {
   "cell_type": "code",
   "execution_count": 22,
   "metadata": {
    "scrolled": true
   },
   "outputs": [
    {
     "data": {
      "text/plain": [
       "[Text(0.5, 0, 'Win percentage of teams given that they have a gold lead at 10 minutes')]"
      ]
     },
     "execution_count": 22,
     "metadata": {},
     "output_type": "execute_result"
    },
    {
     "data": {
      "image/png": "[encoded data removed]",
      "text/plain": [
       "<Figure size 432x288 with 1 Axes>"
      ]
     },
     "metadata": {
      "needs_background": "light"
     },
     "output_type": "display_data"
    }
   ],
   "source": [
    "eda_dataset['golddiff_10min'] = eda_dataset.golddiff.str[1:-1].str.split(', ').apply(lambda x: int(x[10]))\n",
    "eda_dataset['win_given_10min_golddiff'] = (eda_dataset['blue_win'] == 1) == (eda_dataset['golddiff_10min'] > 0)\n",
    "\n",
    "league_winrate_given_lead_10 = eda_dataset.groupby('League')['win_given_10min_golddiff'].mean().to_frame().reset_index()\n",
    "\n",
    "winrate_plot = sns.barplot(data=league_winrate_given_lead_10, y='League', x='win_given_10min_golddiff')\n",
    "winrate_plot.set(xlabel='Win percentage of teams given that they have a gold lead at 10 minutes')"
   ]
  },
  {
   "cell_type": "markdown",
   "metadata": {},
   "source": [
    "The variance at 10 minutes seems to be higher than at 20 minutes and the winrate is lower, which is expected."
   ]
  },
  {
   "cell_type": "markdown",
   "metadata": {},
   "source": [
    "### Visualize distributions of dataset vs wins attributed to gold difference @ 20m"
   ]
  },
  {
   "cell_type": "markdown",
   "metadata": {},
   "source": [
    "Visualizing distributions of wins and losses vs gold difference per league"
   ]
  },
  {
   "cell_type": "code",
   "execution_count": 23,
   "metadata": {},
   "outputs": [
    {
     "data": {
      "image/png": "[encoded data removed]",
      "text/plain": [
       "<Figure size 406.875x360 with 1 Axes>"
      ]
     },
     "metadata": {
      "needs_background": "light"
     },
     "output_type": "display_data"
    }
   ],
   "source": [
    "# diff_win = did the team with the gold lead at 20 min win\n",
    "sns.displot(dataset, x=\"golddiff_20min\", y=\"League\", palette=\"magma\", hue=\"diff_win\");"
   ]
  },
  {
   "cell_type": "markdown",
   "metadata": {},
   "source": [
    "A visualization of the distributions of wins where the gold difference @ 20m was greater than 0 only."
   ]
  },
  {
   "cell_type": "code",
   "execution_count": 24,
   "metadata": {
    "scrolled": true
   },
   "outputs": [
    {
     "data": {
      "image/png": "[encoded data removed]",
      "text/plain": [
       "<Figure size 766.875x360 with 1 Axes>"
      ]
     },
     "metadata": {
      "needs_background": "light"
     },
     "output_type": "display_data"
    }
   ],
   "source": [
    "g = sns.catplot(x=\"League\", y=\"golddiff_20min\", hue=\"diff_win\", height=5, aspect=2, kind=\"boxen\", data=dataset)\n",
    "v = sns.violinplot(x=\"League\", y=\"golddiff_20min\", hue=\"diff_win\", height=5, aspect=2, inner=None, data=dataset, ax=g.ax, saturation=0)\n",
    "v_children = v.get_children()\n",
    "for i in v_children:\n",
    "    if isinstance(i, PolyCollection):\n",
    "            i.set_alpha(0.6)\n",
    "g.ax.get_legend().remove()"
   ]
  },
  {
   "cell_type": "markdown",
   "metadata": {},
   "source": [
    "### Statistically Testing for Significant Difference in Winrate Between Regions"
   ]
  },
  {
   "cell_type": "markdown",
   "metadata": {},
   "source": [
    "The null hypothesis is that each league has the same winrate (the average over the entire dataset) given that they have the gold advantage at 20 minutes.\n",
    "The alternate hypothesis is that there is a difference in the winrate of at least one league. We will choose an alpha value of 0.05 for our test."
   ]
  },
  {
   "cell_type": "code",
   "execution_count": 25,
   "metadata": {
    "scrolled": true
   },
   "outputs": [
    {
     "data": {
      "text/plain": [
       "0.7745972382048332"
      ]
     },
     "execution_count": 25,
     "metadata": {},
     "output_type": "execute_result"
    }
   ],
   "source": [
    "null_winrate = dataset.diff_win.mean()\n",
    "null_winrate"
   ]
  },
  {
   "cell_type": "code",
   "execution_count": 26,
   "metadata": {
    "scrolled": true
   },
   "outputs": [
    {
     "data": {
      "text/plain": [
       "League\n",
       "CBLoL    0.750831\n",
       "CLS      0.777143\n",
       "EULCS    0.767061\n",
       "LCK      0.775779\n",
       "LCL      0.788530\n",
       "LJL      0.790698\n",
       "LLN      0.784232\n",
       "LMS      0.804376\n",
       "NALCS    0.742317\n",
       "OPL      0.835526\n",
       "TCL      0.763804\n",
       "Name: diff_win, dtype: float64"
      ]
     },
     "execution_count": 26,
     "metadata": {},
     "output_type": "execute_result"
    }
   ],
   "source": [
    "observations = dataset.groupby('League')['diff_win'].mean()\n",
    "observations"
   ]
  },
  {
   "cell_type": "markdown",
   "metadata": {},
   "source": [
    "The total variation distance, or TVD is a way to calculate how different two catagorical distributions are."
   ]
  },
  {
   "cell_type": "code",
   "execution_count": 27,
   "metadata": {},
   "outputs": [],
   "source": [
    "def total_variation_distance(dist1, dist2):\n",
    "    return np.sum(np.abs(dist1 - dist2))/2"
   ]
  },
  {
   "cell_type": "markdown",
   "metadata": {},
   "source": [
    "We will be using the TVD between a distribution of winrates across the league given that they have the gold advantage at 20 minutes and the uniform distribution consisting of the null winrate as our test statistic."
   ]
  },
  {
   "cell_type": "code",
   "execution_count": 28,
   "metadata": {},
   "outputs": [
    {
     "data": {
      "text/plain": [
       "0.10424015988563679"
      ]
     },
     "execution_count": 28,
     "metadata": {},
     "output_type": "execute_result"
    }
   ],
   "source": [
    "observed_tvd = total_variation_distance(observations, [null_winrate]*len(observations))\n",
    "observed_tvd"
   ]
  },
  {
   "cell_type": "markdown",
   "metadata": {},
   "source": [
    "Emperically finding distribution of TVDs by permuting the League column"
   ]
  },
  {
   "cell_type": "code",
   "execution_count": 29,
   "metadata": {},
   "outputs": [],
   "source": [
    "n_repetitions = 10000\n",
    "\n",
    "shuffled = dataset.copy()\n",
    "shuffled_leagues = shuffled['League'].values\n",
    "\n",
    "tvds = []\n",
    "for _ in range(n_repetitions):\n",
    "    \n",
    "    # shuffle leagues\n",
    "    shuffled_leagues = np.random.permutation(shuffled_leagues)\n",
    "    \n",
    "    # put them in a DataFrame\n",
    "    shuffled['Shuffled League'] = shuffled_leagues\n",
    "    \n",
    "    # compute group winrate\n",
    "    obs = shuffled.groupby('Shuffled League')['diff_win'].mean()\n",
    "    tvd = total_variation_distance(obs, [null_winrate]*len(obs))\n",
    "    \n",
    "    # add it to the list of tvds\n",
    "    tvds.append(tvd)"
   ]
  },
  {
   "cell_type": "markdown",
   "metadata": {},
   "source": [
    "The observed TVD overlayed on top of the distribution of TVDs"
   ]
  },
  {
   "cell_type": "code",
   "execution_count": 30,
   "metadata": {
    "scrolled": false
   },
   "outputs": [
    {
     "data": {
      "image/png": "[encoded data removed]",
      "text/plain": [
       "<Figure size 432x288 with 1 Axes>"
      ]
     },
     "metadata": {
      "needs_background": "light"
     },
     "output_type": "display_data"
    }
   ],
   "source": [
    "plt.hist(tvds, bins=100)\n",
    "plt.scatter(x=observed_tvd, y=0, zorder=2, color='red', s=50)\n",
    "plt.show()"
   ]
  },
  {
   "cell_type": "markdown",
   "metadata": {},
   "source": [
    "Calculating the p-value using the emperical distribution of TVDs"
   ]
  },
  {
   "cell_type": "code",
   "execution_count": 31,
   "metadata": {},
   "outputs": [
    {
     "data": {
      "text/plain": [
       "0.1688"
      ]
     },
     "execution_count": 31,
     "metadata": {},
     "output_type": "execute_result"
    }
   ],
   "source": [
    "p_value = (tvds > observed_tvd).mean()\n",
    "p_value"
   ]
  },
  {
   "cell_type": "markdown",
   "metadata": {},
   "source": [
    "Given that our observed p-value is less extreme than our alpha value, we cannot reject the null hypothesis."
   ]
  },
  {
   "cell_type": "markdown",
   "metadata": {},
   "source": [
    "# Ethics & Privacy"
   ]
  },
  {
   "cell_type": "markdown",
   "metadata": {},
   "source": [
    "Our project identifies the performance trends of teams based on various in-game statistics. All data used is publicly available on Kaggle and players must accept Riot's privacy policy which allows for data collection. As the dataset includes metrics on all aspects of the game, it inherently includes performance data of each individual player, however we will not be using this information in this study since we are analyzing performance on a team-by-team basis.\n",
    "\n",
    "There may be some implied biases in the dataset due to the difference in number of observations (games) recorded in each league. This bias cannot be outright removed from the dataset without introducing some loss of data fidelity and has a negligible impact on the end result."
   ]
  },
  {
   "cell_type": "markdown",
   "metadata": {},
   "source": [
    "# Conclusion & Discussion"
   ]
  },
  {
   "cell_type": "markdown",
   "metadata": {},
   "source": [
    "From our results in the Data Analysis and Results section, we have determined that there is not a statistically significant difference between the leagues in the ability for their teams to close out games in their own home region. Looking more at other intangibles, it makes more sense that this is the case. In each league, there are top teams and bottom teams and the round robin format of the league makes it so that it is not always a foregone conclusion for a team to gain a lead and win. Comparatively, in international play, teams from better regions are more than likely able to close out their games because there is more of a skill gap, especially between major regions (regions that have large player bases and have historically done well at international events) like the LCK and minor regions (regions with smaller player bases and have historically not done as well) like the CBLoL.\n",
    "\n",
    "What other factors could go into this result that was found? In the game of League of Legends, there are comeback mechanics for teams to be able to recover from a fumbled early game and allow themselves to claw their way back into the game and thus win the game. Super objectives like the Baron Nashor and Elder Dragon give opportunities for teams to win a fight and proceed to win the game, all while not having regained a gold lead.\n",
    "\n",
    "Thus, we can deduce that even though a gold lead at 20 minutes is a contributing factor to a team's success, it is not the only factor. We can also see that skill in a region does not necessarily equate to better quality of games in terms of how cleanly executed a team with a lead plays. Therefore, the quality of region a game is in does not determine whether or not a team with a gold lead will be able to win or not."
   ]
  },
  {
   "cell_type": "markdown",
   "metadata": {},
   "source": [
    "# Team Contributions"
   ]
  },
  {
   "cell_type": "markdown",
   "metadata": {},
   "source": [
    "*Specify who in your group worked on which parts of the project.*"
   ]
  },
  {
   "cell_type": "markdown",
   "metadata": {},
   "source": [
    "- Justin Chu: Conclusion and Dicussion\n",
    "- John Li: Ethics and Privacy\n",
    "- Luke Lloyd: Data Analysis and Results\n",
    "- Prathik Malireddy: Data Analysis and Results\n",
    "- Dustin Lin: Background and Prior work"
   ]
  },
  {
   "cell_type": "code",
   "execution_count": null,
   "metadata": {},
   "outputs": [],
   "source": []
  }
 ],
 "metadata": {
  "kernelspec": {
   "display_name": "Python 3",
   "language": "python",
   "name": "python3"
  },
  "language_info": {
   "codemirror_mode": {
    "name": "ipython",
    "version": 3
   },
   "file_extension": ".py",
   "mimetype": "text/x-python",
   "name": "python",
   "nbconvert_exporter": "python",
   "pygments_lexer": "ipython3",
   "version": "3.8.3"
  }
 },
 "nbformat": 4,
 "nbformat_minor": 2
}
