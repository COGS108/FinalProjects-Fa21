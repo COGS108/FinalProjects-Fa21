{
 "cells": [
  {
   "cell_type": "markdown",
   "metadata": {},
   "source": [
    "# COGS 108 - Final Project: Predicting Used Car Prices on Craigslist During the Bubble"
   ]
  },
  {
   "cell_type": "markdown",
   "metadata": {},
   "source": [
    "### Final Video: https://drive.google.com/file/d/1oG-toF0hvNxIhka35dthbd5SRfKxXtzk/view?usp=sharing"
   ]
  },
  {
   "cell_type": "markdown",
   "metadata": {},
   "source": [
    "## Permissions\n",
    "\n",
    "Place an `X` in the appropriate bracket below to specify if you would like your group's project to be made available to the public. (Note that student names will be included (but PIDs will be scraped from any groups who include their PIDs).\n",
    "\n",
    "* [X] YES - make available\n",
    "* [  ] NO - keep private"
   ]
  },
  {
   "cell_type": "markdown",
   "metadata": {},
   "source": [
    "# Overview"
   ]
  },
  {
   "cell_type": "markdown",
   "metadata": {},
   "source": [
    "For this project, a linear regression model was created to predict the price of a used car listed on Craigslist between April - May 2021. 3 different models were created using combinations of features from the following: miles driven, title status, manufacturer of the car, condition of the car, and the number of cylinders the car has. Using the mean squared error (MSE) and root mean squared error (RMSE) to evaluate the models, it was shown that the model using the miles driven, manufacturer, and title status was the best performing model."
   ]
  },
  {
   "cell_type": "markdown",
   "metadata": {},
   "source": [
    "# Names\n",
    "\n",
    "- Kenneth Nguyen\n",
    "- Mandy Lee\n",
    "- Matthew Lund\n",
    "- Yash Potdar\n",
    "\n",
    "\n"
   ]
  },
  {
   "cell_type": "markdown",
   "metadata": {},
   "source": [
    "<a id='research_question'></a>\n",
    "# Research Question"
   ]
  },
  {
   "cell_type": "markdown",
   "metadata": {},
   "source": [
    "Using features of a car such as the manufacturer, miles driven, title status, condition, and number of cylinders from the observations in a used car Craigslist listing dataset between April to May 2021, can we accurately predict the price of a used car during the used car bubble?"
   ]
  },
  {
   "cell_type": "markdown",
   "metadata": {},
   "source": [
    "<a id='background'></a>\n",
    "\n",
    "# Background & Prior Work"
   ]
  },
  {
   "cell_type": "markdown",
   "metadata": {},
   "source": [
    "The year 2021 was out of the ordinary due to the recurring waves of the pandemic followed by flashes of recovery. The economy, which suffered a downturn in 2020, recovered and exceeded the pre-pandemic level, and with this growth came inflation. According to the New York Times, the used car market experienced a significant increase in prices perpetuated by a chip shortage affecting the production and supply of new cars, along with an increased demand for cars as individuals moved out of big cities. Compared to used car prices from 2020, the prices of used cars and trucks in August 2021 were around 32 percent higher **<sup>(1)</sup>**. This used car bubble affects a wide population in the United States due to the supply shortages and high demand, which is why we decided to focus on this topic.\n",
    "\n",
    "Estimating the value of a used car is a challenge in the automotive industry. The price of a used car is not only based on the car’s intrinsic features, but also on the market trends. Based on prior experience and research on used cars, we are aware that cars can either be sold directly from a seller to a buyer, or from a seller to a buyer with a dealership in between. Moreover, since we will be working with data from Craigslist, we are aware that sellers are individuals on the Internet, and there are no constraints for the information they put on their listing. The information can be inaccurate due to entry error or lack of knowledge of a specific feature. There will undoubtedly be missing data with used car listings, as well as listings with extraordinarily high prices. This means there will be a heavily involved process for data cleaning and preprocessing, which would include removing outliers and reasonably imputing missing values.\n",
    "\n",
    "After researching, we determined that regression is best suited to our research question of predicting the used car price and determining which features are important. As noted in the Statistics by Jim tutorial, in regression, you determine relevant variables, specify a model, fit the data, and make predictions. You can then evaluate the model to determine how important features were **<sup>(2)</sup>**. In other words, regression analysis is a useful method to identify variables that can impact our topics of interest. It effectively predicts continuous dependent variables based on the independent variables. This regression model will provide a listing price for individuals who wish to sell their used car during the used car bubble. We can also train models based on a combination of features and determine which combinations of features are the best for predicting price after assessing the model.\n",
    "\n",
    "We were also able to research prior work with used car data. One of the projects we came across had the same objective of predicting used car data. This project, done by Mounir Zaitri, dealt with used car data in Canada. Although our dataset was different, their preprocessing steps look relevant to ours since they are using a mix of categorical and numerical variables. They utilized a one-hot encoding strategy to encode nominal variables such as make, model, and vehicle type. In this project, Zaitri utilized gradient boosting for regression and achieved a reasonable accuracy of around 91% with a test error of around 9% on the test data **<sup>(3)</sup>**. We would be conducting similar steps, but would use ordinal encoding for some categorical features such as the number of cylinders and title status since certain values are objectively better than others. Another project, conducted by Enes Gokce, utilized the same Craigslist car dataset, but ran hypothesis tests isolating price and another feature of interest, such as odometer or condition. During their data cleaning process, they used mean imputation of odometer depending on the condition group a specific row belonged to. They also removed outliers with extraordinarily high or low prices and odometer readings **<sup>(4)</sup>**. Although our question is different, we drew inspiration from this project with regards to the data preprocessing steps. We reasonably dropped outliers as well as used probabilistic imputation to fill missing values.\n",
    "\n",
    "\n",
    "References:\n",
    "- 1) https://urldefense.proofpoint.com/v2/url?u=https-3A__www.nytimes.com_2021_09_27_business_used-2Dcars-2Dinflation.html&d=DwIGAw&c=-35OiAkTchMrZOngvJPOeA&r=dDqFLBXlcIvTyKKWDuoUfAUIL8FF6Kzn30b1P0AX2pc&m=lVX8gXYeD5HerG6paJwqcAIHs1cc3XKvnXabbN0tSnaAXHYgXZrOgiI-2K9oknZo&s=jnHWGsMTYDxgH1wM3mbA_7JM__uciGYYoFLWhFxjjOk&e=  \n",
    "- 2) https://urldefense.proofpoint.com/v2/url?u=https-3A__statisticsbyjim.com_regression_predictions-2Dregression_-255Cn&d=DwIGAw&c=-35OiAkTchMrZOngvJPOeA&r=dDqFLBXlcIvTyKKWDuoUfAUIL8FF6Kzn30b1P0AX2pc&m=lVX8gXYeD5HerG6paJwqcAIHs1cc3XKvnXabbN0tSnaAXHYgXZrOgiI-2K9oknZo&s=W7dX2kaUchBWCkyxt6P5KwE4ui5q34CMllhXq7ZbyK8&e= \n",
    "- 3) https://urldefense.proofpoint.com/v2/url?u=https-3A__blog.jovian.ai_predicting-2Dused-2Dcars-2Dprices-2Dd2e840d49c2a-255Cn&d=DwIGAw&c=-35OiAkTchMrZOngvJPOeA&r=dDqFLBXlcIvTyKKWDuoUfAUIL8FF6Kzn30b1P0AX2pc&m=lVX8gXYeD5HerG6paJwqcAIHs1cc3XKvnXabbN0tSnaAXHYgXZrOgiI-2K9oknZo&s=JHooPd4OE3oG4xN5kcXjt80NYwAgRWNgqNowEwikwfs&e= \n",
    "- 4) https://urldefense.proofpoint.com/v2/url?u=https-3A__towardsdatascience.com_predicting-2Dused-2Dcar-2Dprices-2Dwith-2Dmachine-2Dlearning-2Dtechniques-2D8a9d8313952-255Cn&d=DwIGAw&c=-35OiAkTchMrZOngvJPOeA&r=dDqFLBXlcIvTyKKWDuoUfAUIL8FF6Kzn30b1P0AX2pc&m=lVX8gXYeD5HerG6paJwqcAIHs1cc3XKvnXabbN0tSnaAXHYgXZrOgiI-2K9oknZo&s=J1HkQNDoUVckf0Q-vGH9f1nmXPP0SdlEFXgJqppKCP4&e= "
   ]
  },
  {
   "cell_type": "markdown",
   "metadata": {},
   "source": [
    "# Hypothesis\n"
   ]
  },
  {
   "cell_type": "markdown",
   "metadata": {},
   "source": [
    "A model using the car features of miles_driven, title_status, and manufacturer will be the best at predicting the price of a used car when compared to a model using miles_driven, num_cylinders, and title_status as features, and a model using condition, title_status, and num_cylinders. The miles_driven, title_status, and manufacturer of a car are all properties individuals prioritize when buying a used car, so these should be best at predicting the price.\n",
    "\n"
   ]
  },
  {
   "cell_type": "markdown",
   "metadata": {},
   "source": [
    "# Dataset"
   ]
  },
  {
   "cell_type": "markdown",
   "metadata": {},
   "source": [
    "- Dataset name: vehicles.csv\n",
    "- Link to the data: https://urldefense.proofpoint.com/v2/url?u=https-3A__www.kaggle.com_austinreese_craigslist-2Dcarstrucks-2Ddata_version_10&d=DwIGAw&c=-35OiAkTchMrZOngvJPOeA&r=pFSXhgpDVG1CmxiYYJ9vz2r3p3kNx5vRQ6PVwRAU0lo&m=W_qWOYHtez_783hP7CAlOBa3phldwdzWAjbBn-fKskxQkdeFMsG5N9chyKUNYNj4&s=mXbW7-F9uTWrwJlut17sR3qZNPXWLInu8OdlfiYnBnE&e= \n",
    "- Number of observations: 426,880\n",
    "\n",
    "This dataset contains web-scraped Craigslist listings posted from April to May 2021, during the used car bubble, of 426,880 used cars. Each observation in this dataset represents a used car listing on the Craislist webstie. For each listing, there is information about the odometer reading, manufacturer, title status, listing price, and more. We will be creating a prediction model that aims to estimate the listing price on Craigslist, accounting for the used cars' inflated prices during the bubble.\n",
    "\n",
    "The variables of the dataset are as follows:\n",
    "- id: the Craiglist user's unique identification number\n",
    "- url: the URL to the user's listing\n",
    "- region: the Craigslist region where the post was made\n",
    "- region_url: the URL to the Craigslist site for that region\n",
    "- price: the listing price of the car on the listing\n",
    "- year: the year when the car was made\n",
    "- manufacturer: the manufacturer of the listed car\n",
    "- model: the specific model type of the listed car\n",
    "- condition: the condition of the car listed\n",
    "- cylinders: how many cylinders the car's engine has \n",
    "- fuel: the type of fuel the car takes\n",
    "- odometer: how many miles the car has driven\n",
    "- title_status: the title status of the car\n",
    "- transmission: what type of transmission the listed car has\n",
    "- VIN: the Vehicle Identification Number that identifies the specific car\n",
    "- drive: what type of drive the car uses (all wheel drive, rear wheel, etc)\n",
    "- size: describes how large or small the car is\n",
    "- type: describes the what generic category the car falls under (sedan, truck, etc)\n",
    "- paint_color: the color of the car\n",
    "- image_url: the URL to an image of the listed car\n",
    "- description: a short description of what the listing is about or details about the car\n",
    "- county: the county where the car user is from\n",
    "- state: the state where the car uer is from\n",
    "- lat: the latitude coordinates where the car user is located\n",
    "- long: the longitude coordinate where the car user is located\n",
    "- posting_date: the date when the car listing was posted \n",
    "\n"
   ]
  },
  {
   "cell_type": "markdown",
   "metadata": {},
   "source": [
    "# Setup"
   ]
  },
  {
   "cell_type": "code",
   "execution_count": 14,
   "metadata": {},
   "outputs": [],
   "source": [
    "from sklearn.impute import SimpleImputer\n",
    "from sklearn.preprocessing import OneHotEncoder\n",
    "import seaborn as sns\n",
    "from sklearn.pipeline import Pipeline\n",
    "from sklearn.compose import ColumnTransformer\n",
    "from sklearn.linear_model import LinearRegression\n",
    "import pandas as pd\n",
    "import numpy as np\n",
    "import warnings\n",
    "warnings.filterwarnings(\"ignore\")\n",
    "from sklearn.model_selection import train_test_split\n",
    "import random\n",
    "from sklearn.linear_model import Ridge"
   ]
  },
  {
   "cell_type": "markdown",
   "metadata": {},
   "source": [
    "# Data Cleaning"
   ]
  },
  {
   "cell_type": "code",
   "execution_count": 15,
   "metadata": {},
   "outputs": [],
   "source": [
    "df = pd.read_csv('vehicles.csv')"
   ]
  },
  {
   "cell_type": "code",
   "execution_count": 16,
   "metadata": {},
   "outputs": [
    {
     "data": {
      "text/plain": [
       "Index(['id', 'url', 'region', 'region_url', 'price', 'year', 'manufacturer',\n",
       "       'model', 'condition', 'cylinders', 'fuel', 'odometer', 'title_status',\n",
       "       'transmission', 'VIN', 'drive', 'size', 'type', 'paint_color',\n",
       "       'image_url', 'description', 'county', 'state', 'lat', 'long',\n",
       "       'posting_date'],\n",
       "      dtype='object')"
      ]
     },
     "execution_count": 16,
     "metadata": {},
     "output_type": "execute_result"
    }
   ],
   "source": [
    "df.columns"
   ]
  },
  {
   "cell_type": "markdown",
   "metadata": {},
   "source": [
    "We selected all the desired columns from the dataframe. These columns could be used as predictors, or features in the model. We also want to use the price to evaluate how well our model can predict the listing price.\n",
    "\n",
    "We chose to leave out the region, lat, long, and county attributes and restrict our analysis to the state since regions would be too specific and computationally expensive. We left out the paint_color attribute because customers can always repaint the car and the quality of the paint is not specified in this attribute, but would probably be more important. We left out the model attribute since this would be too computationally expensive as there are over 29,000 unique models. This would be difficult to clean as this field is user-generated, so there are many inconsistencies. We chose to use manufacturer and type instead, since those would give a general idea of what car is being sold. We left out size because cylinder information is probably more informative of a car's worth. We left out description since this was user-generated and many dealerships post listings with the exact same text, which would not be useful in predicting a car's price. We finally left out posting_date since all of these cars were posted on Craigslist around the same time."
   ]
  },
  {
   "cell_type": "code",
   "execution_count": 17,
   "metadata": {},
   "outputs": [
    {
     "data": {
      "text/plain": [
       "(426880, 12)"
      ]
     },
     "execution_count": 17,
     "metadata": {},
     "output_type": "execute_result"
    }
   ],
   "source": [
    "df = df[['year', 'manufacturer', 'type', 'condition', 'cylinders', 'fuel', 'odometer', 'title_status',\n",
    "       'transmission', 'drive', 'state', 'price']]\n",
    "\n",
    "df.shape"
   ]
  },
  {
   "cell_type": "markdown",
   "metadata": {},
   "source": [
    "Drop all the rows that have missing values more than at least 50% of the features."
   ]
  },
  {
   "cell_type": "code",
   "execution_count": 18,
   "metadata": {},
   "outputs": [
    {
     "data": {
      "text/html": [
       "<div>\n",
       "<style scoped>\n",
       "    .dataframe tbody tr th:only-of-type {\n",
       "        vertical-align: middle;\n",
       "    }\n",
       "\n",
       "    .dataframe tbody tr th {\n",
       "        vertical-align: top;\n",
       "    }\n",
       "\n",
       "    .dataframe thead th {\n",
       "        text-align: right;\n",
       "    }\n",
       "</style>\n",
       "<table border=\"1\" class=\"dataframe\">\n",
       "  <thead>\n",
       "    <tr style=\"text-align: right;\">\n",
       "      <th></th>\n",
       "      <th>year</th>\n",
       "      <th>manufacturer</th>\n",
       "      <th>type</th>\n",
       "      <th>condition</th>\n",
       "      <th>cylinders</th>\n",
       "      <th>fuel</th>\n",
       "      <th>odometer</th>\n",
       "      <th>title_status</th>\n",
       "      <th>transmission</th>\n",
       "      <th>drive</th>\n",
       "      <th>state</th>\n",
       "      <th>price</th>\n",
       "    </tr>\n",
       "  </thead>\n",
       "  <tbody>\n",
       "    <tr>\n",
       "      <th>0</th>\n",
       "      <td>2014.0</td>\n",
       "      <td>gmc</td>\n",
       "      <td>pickup</td>\n",
       "      <td>good</td>\n",
       "      <td>8 cylinders</td>\n",
       "      <td>gas</td>\n",
       "      <td>57923.0</td>\n",
       "      <td>clean</td>\n",
       "      <td>other</td>\n",
       "      <td>NaN</td>\n",
       "      <td>al</td>\n",
       "      <td>33590</td>\n",
       "    </tr>\n",
       "    <tr>\n",
       "      <th>1</th>\n",
       "      <td>2010.0</td>\n",
       "      <td>chevrolet</td>\n",
       "      <td>pickup</td>\n",
       "      <td>good</td>\n",
       "      <td>8 cylinders</td>\n",
       "      <td>gas</td>\n",
       "      <td>71229.0</td>\n",
       "      <td>clean</td>\n",
       "      <td>other</td>\n",
       "      <td>NaN</td>\n",
       "      <td>al</td>\n",
       "      <td>22590</td>\n",
       "    </tr>\n",
       "    <tr>\n",
       "      <th>2</th>\n",
       "      <td>2020.0</td>\n",
       "      <td>chevrolet</td>\n",
       "      <td>pickup</td>\n",
       "      <td>good</td>\n",
       "      <td>8 cylinders</td>\n",
       "      <td>gas</td>\n",
       "      <td>19160.0</td>\n",
       "      <td>clean</td>\n",
       "      <td>other</td>\n",
       "      <td>NaN</td>\n",
       "      <td>al</td>\n",
       "      <td>39590</td>\n",
       "    </tr>\n",
       "    <tr>\n",
       "      <th>3</th>\n",
       "      <td>2017.0</td>\n",
       "      <td>toyota</td>\n",
       "      <td>pickup</td>\n",
       "      <td>good</td>\n",
       "      <td>8 cylinders</td>\n",
       "      <td>gas</td>\n",
       "      <td>41124.0</td>\n",
       "      <td>clean</td>\n",
       "      <td>other</td>\n",
       "      <td>NaN</td>\n",
       "      <td>al</td>\n",
       "      <td>30990</td>\n",
       "    </tr>\n",
       "    <tr>\n",
       "      <th>4</th>\n",
       "      <td>2013.0</td>\n",
       "      <td>ford</td>\n",
       "      <td>truck</td>\n",
       "      <td>excellent</td>\n",
       "      <td>6 cylinders</td>\n",
       "      <td>gas</td>\n",
       "      <td>128000.0</td>\n",
       "      <td>clean</td>\n",
       "      <td>automatic</td>\n",
       "      <td>rwd</td>\n",
       "      <td>al</td>\n",
       "      <td>15000</td>\n",
       "    </tr>\n",
       "    <tr>\n",
       "      <th>...</th>\n",
       "      <td>...</td>\n",
       "      <td>...</td>\n",
       "      <td>...</td>\n",
       "      <td>...</td>\n",
       "      <td>...</td>\n",
       "      <td>...</td>\n",
       "      <td>...</td>\n",
       "      <td>...</td>\n",
       "      <td>...</td>\n",
       "      <td>...</td>\n",
       "      <td>...</td>\n",
       "      <td>...</td>\n",
       "    </tr>\n",
       "    <tr>\n",
       "      <th>426115</th>\n",
       "      <td>2019.0</td>\n",
       "      <td>nissan</td>\n",
       "      <td>sedan</td>\n",
       "      <td>good</td>\n",
       "      <td>6 cylinders</td>\n",
       "      <td>gas</td>\n",
       "      <td>32226.0</td>\n",
       "      <td>clean</td>\n",
       "      <td>other</td>\n",
       "      <td>fwd</td>\n",
       "      <td>wy</td>\n",
       "      <td>23590</td>\n",
       "    </tr>\n",
       "    <tr>\n",
       "      <th>426116</th>\n",
       "      <td>2020.0</td>\n",
       "      <td>volvo</td>\n",
       "      <td>sedan</td>\n",
       "      <td>good</td>\n",
       "      <td>NaN</td>\n",
       "      <td>gas</td>\n",
       "      <td>12029.0</td>\n",
       "      <td>clean</td>\n",
       "      <td>other</td>\n",
       "      <td>fwd</td>\n",
       "      <td>wy</td>\n",
       "      <td>30590</td>\n",
       "    </tr>\n",
       "    <tr>\n",
       "      <th>426117</th>\n",
       "      <td>2020.0</td>\n",
       "      <td>cadillac</td>\n",
       "      <td>hatchback</td>\n",
       "      <td>good</td>\n",
       "      <td>NaN</td>\n",
       "      <td>diesel</td>\n",
       "      <td>4174.0</td>\n",
       "      <td>clean</td>\n",
       "      <td>other</td>\n",
       "      <td>NaN</td>\n",
       "      <td>wy</td>\n",
       "      <td>34990</td>\n",
       "    </tr>\n",
       "    <tr>\n",
       "      <th>426118</th>\n",
       "      <td>2018.0</td>\n",
       "      <td>lexus</td>\n",
       "      <td>sedan</td>\n",
       "      <td>good</td>\n",
       "      <td>6 cylinders</td>\n",
       "      <td>gas</td>\n",
       "      <td>30112.0</td>\n",
       "      <td>clean</td>\n",
       "      <td>other</td>\n",
       "      <td>fwd</td>\n",
       "      <td>wy</td>\n",
       "      <td>28990</td>\n",
       "    </tr>\n",
       "    <tr>\n",
       "      <th>426119</th>\n",
       "      <td>2019.0</td>\n",
       "      <td>bmw</td>\n",
       "      <td>coupe</td>\n",
       "      <td>good</td>\n",
       "      <td>NaN</td>\n",
       "      <td>gas</td>\n",
       "      <td>22716.0</td>\n",
       "      <td>clean</td>\n",
       "      <td>other</td>\n",
       "      <td>rwd</td>\n",
       "      <td>wy</td>\n",
       "      <td>30590</td>\n",
       "    </tr>\n",
       "  </tbody>\n",
       "</table>\n",
       "<p>426120 rows × 12 columns</p>\n",
       "</div>"
      ],
      "text/plain": [
       "          year manufacturer       type  condition    cylinders    fuel  \\\n",
       "0       2014.0          gmc     pickup       good  8 cylinders     gas   \n",
       "1       2010.0    chevrolet     pickup       good  8 cylinders     gas   \n",
       "2       2020.0    chevrolet     pickup       good  8 cylinders     gas   \n",
       "3       2017.0       toyota     pickup       good  8 cylinders     gas   \n",
       "4       2013.0         ford      truck  excellent  6 cylinders     gas   \n",
       "...        ...          ...        ...        ...          ...     ...   \n",
       "426115  2019.0       nissan      sedan       good  6 cylinders     gas   \n",
       "426116  2020.0        volvo      sedan       good          NaN     gas   \n",
       "426117  2020.0     cadillac  hatchback       good          NaN  diesel   \n",
       "426118  2018.0        lexus      sedan       good  6 cylinders     gas   \n",
       "426119  2019.0          bmw      coupe       good          NaN     gas   \n",
       "\n",
       "        odometer title_status transmission drive state  price  \n",
       "0        57923.0        clean        other   NaN    al  33590  \n",
       "1        71229.0        clean        other   NaN    al  22590  \n",
       "2        19160.0        clean        other   NaN    al  39590  \n",
       "3        41124.0        clean        other   NaN    al  30990  \n",
       "4       128000.0        clean    automatic   rwd    al  15000  \n",
       "...          ...          ...          ...   ...   ...    ...  \n",
       "426115   32226.0        clean        other   fwd    wy  23590  \n",
       "426116   12029.0        clean        other   fwd    wy  30590  \n",
       "426117    4174.0        clean        other   NaN    wy  34990  \n",
       "426118   30112.0        clean        other   fwd    wy  28990  \n",
       "426119   22716.0        clean        other   rwd    wy  30590  \n",
       "\n",
       "[426120 rows x 12 columns]"
      ]
     },
     "execution_count": 18,
     "metadata": {},
     "output_type": "execute_result"
    }
   ],
   "source": [
    "df.dropna(axis= 0, thresh= 6, inplace= True)\n",
    "df.reset_index(drop = True)\n",
    "df.dropna(axis= 0, thresh= 6, inplace= True)\n",
    "df.reset_index(drop = True)"
   ]
  },
  {
   "cell_type": "code",
   "execution_count": 19,
   "metadata": {},
   "outputs": [
    {
     "data": {
      "text/plain": [
       "(426120, 12)"
      ]
     },
     "execution_count": 19,
     "metadata": {},
     "output_type": "execute_result"
    }
   ],
   "source": [
    "df.shape"
   ]
  },
  {
   "cell_type": "markdown",
   "metadata": {},
   "source": [
    "We will use ordinal encoding for the cylinders, drive, title_status, and condition because these variables are categorical, but they have orders between the groups. For example, clean title used cars are more expensive than salvage title cars due to insurance costs. Moreover, cars with higher cylinders tend to be more expensive as they have more powerful engines. We will be using scikit-learn's OrdinalEncoder for this operation.\n",
    "\n",
    "We will also cast the year and odometer variables to integers since float values do not make sense here.\n",
    "\n",
    "We will be one-hot encoding the nominal categorical variables such as manufacturer, model, state, fuel, and transmission. We will be using scikit-learn's OneHotEncoder for this operation.\n",
    "\n",
    "Since many of the categorical columns have NaN values, we will randomly selecting a value from the probability distribution of the data for that specific column to impute reasonable values.\n",
    "\n",
    "We will be renaming columns to make their names more descriptive.\n"
   ]
  },
  {
   "cell_type": "code",
   "execution_count": 20,
   "metadata": {},
   "outputs": [
    {
     "data": {
      "text/plain": [
       "Index(['year', 'manufacturer', 'type', 'condition', 'cylinders', 'fuel',\n",
       "       'odometer', 'title_status', 'transmission', 'drive', 'state', 'price'],\n",
       "      dtype='object')"
      ]
     },
     "execution_count": 20,
     "metadata": {},
     "output_type": "execute_result"
    }
   ],
   "source": [
    "df.columns\n"
   ]
  },
  {
   "cell_type": "code",
   "execution_count": 21,
   "metadata": {},
   "outputs": [
    {
     "data": {
      "text/html": [
       "<div>\n",
       "<style scoped>\n",
       "    .dataframe tbody tr th:only-of-type {\n",
       "        vertical-align: middle;\n",
       "    }\n",
       "\n",
       "    .dataframe tbody tr th {\n",
       "        vertical-align: top;\n",
       "    }\n",
       "\n",
       "    .dataframe thead th {\n",
       "        text-align: right;\n",
       "    }\n",
       "</style>\n",
       "<table border=\"1\" class=\"dataframe\">\n",
       "  <thead>\n",
       "    <tr style=\"text-align: right;\">\n",
       "      <th></th>\n",
       "      <th>year</th>\n",
       "      <th>manufacturer</th>\n",
       "      <th>car_category</th>\n",
       "      <th>condition</th>\n",
       "      <th>num_cylinders</th>\n",
       "      <th>fuel_type</th>\n",
       "      <th>miles_driven</th>\n",
       "      <th>title_status</th>\n",
       "      <th>transmission</th>\n",
       "      <th>drive</th>\n",
       "      <th>state</th>\n",
       "      <th>price</th>\n",
       "    </tr>\n",
       "  </thead>\n",
       "  <tbody>\n",
       "    <tr>\n",
       "      <th>27</th>\n",
       "      <td>2014.0</td>\n",
       "      <td>gmc</td>\n",
       "      <td>pickup</td>\n",
       "      <td>good</td>\n",
       "      <td>8 cylinders</td>\n",
       "      <td>gas</td>\n",
       "      <td>57923.0</td>\n",
       "      <td>clean</td>\n",
       "      <td>other</td>\n",
       "      <td>NaN</td>\n",
       "      <td>al</td>\n",
       "      <td>33590</td>\n",
       "    </tr>\n",
       "    <tr>\n",
       "      <th>28</th>\n",
       "      <td>2010.0</td>\n",
       "      <td>chevrolet</td>\n",
       "      <td>pickup</td>\n",
       "      <td>good</td>\n",
       "      <td>8 cylinders</td>\n",
       "      <td>gas</td>\n",
       "      <td>71229.0</td>\n",
       "      <td>clean</td>\n",
       "      <td>other</td>\n",
       "      <td>NaN</td>\n",
       "      <td>al</td>\n",
       "      <td>22590</td>\n",
       "    </tr>\n",
       "    <tr>\n",
       "      <th>29</th>\n",
       "      <td>2020.0</td>\n",
       "      <td>chevrolet</td>\n",
       "      <td>pickup</td>\n",
       "      <td>good</td>\n",
       "      <td>8 cylinders</td>\n",
       "      <td>gas</td>\n",
       "      <td>19160.0</td>\n",
       "      <td>clean</td>\n",
       "      <td>other</td>\n",
       "      <td>NaN</td>\n",
       "      <td>al</td>\n",
       "      <td>39590</td>\n",
       "    </tr>\n",
       "    <tr>\n",
       "      <th>30</th>\n",
       "      <td>2017.0</td>\n",
       "      <td>toyota</td>\n",
       "      <td>pickup</td>\n",
       "      <td>good</td>\n",
       "      <td>8 cylinders</td>\n",
       "      <td>gas</td>\n",
       "      <td>41124.0</td>\n",
       "      <td>clean</td>\n",
       "      <td>other</td>\n",
       "      <td>NaN</td>\n",
       "      <td>al</td>\n",
       "      <td>30990</td>\n",
       "    </tr>\n",
       "    <tr>\n",
       "      <th>31</th>\n",
       "      <td>2013.0</td>\n",
       "      <td>ford</td>\n",
       "      <td>truck</td>\n",
       "      <td>excellent</td>\n",
       "      <td>6 cylinders</td>\n",
       "      <td>gas</td>\n",
       "      <td>128000.0</td>\n",
       "      <td>clean</td>\n",
       "      <td>automatic</td>\n",
       "      <td>rwd</td>\n",
       "      <td>al</td>\n",
       "      <td>15000</td>\n",
       "    </tr>\n",
       "  </tbody>\n",
       "</table>\n",
       "</div>"
      ],
      "text/plain": [
       "      year manufacturer car_category  condition num_cylinders fuel_type  \\\n",
       "27  2014.0          gmc       pickup       good   8 cylinders       gas   \n",
       "28  2010.0    chevrolet       pickup       good   8 cylinders       gas   \n",
       "29  2020.0    chevrolet       pickup       good   8 cylinders       gas   \n",
       "30  2017.0       toyota       pickup       good   8 cylinders       gas   \n",
       "31  2013.0         ford        truck  excellent   6 cylinders       gas   \n",
       "\n",
       "    miles_driven title_status transmission drive state  price  \n",
       "27       57923.0        clean        other   NaN    al  33590  \n",
       "28       71229.0        clean        other   NaN    al  22590  \n",
       "29       19160.0        clean        other   NaN    al  39590  \n",
       "30       41124.0        clean        other   NaN    al  30990  \n",
       "31      128000.0        clean    automatic   rwd    al  15000  "
      ]
     },
     "execution_count": 21,
     "metadata": {},
     "output_type": "execute_result"
    }
   ],
   "source": [
    "df = df.rename(columns = {'odometer':'miles_driven', 'fuel': 'fuel_type', 'cylinders': 'num_cylinders', 'type':'car_category'})\n",
    "df.head()"
   ]
  },
  {
   "cell_type": "code",
   "execution_count": 23,
   "metadata": {},
   "outputs": [],
   "source": [
    "title_status_ordinal = {\n",
    "    'missing': 0,\n",
    "    'lien' : 1,\n",
    "    'rebuilt': 2,\n",
    "    'salvage': 3,\n",
    "    'clean': 4,\n",
    "}\n",
    "num_cyl_ordinal = {\n",
    "    'other' : 0,\n",
    "    '3 cylinders': 1,\n",
    "    '4 cylinders' : 2,\n",
    "    '5 cylinders': 3,\n",
    "    '6 cylinders': 4,\n",
    "    '8 cylinders': 5,\n",
    "    '10 cylinders': 6\n",
    "}\n",
    "condition_ordinal = {\n",
    "    'excellent': 5,\n",
    "    'new': 4, \n",
    "    'like new': 3,\n",
    "    'good': 2, \n",
    "    'fair' : 1, \n",
    "    'salvage': 0\n",
    "}"
   ]
  },
  {
   "cell_type": "markdown",
   "metadata": {},
   "source": [
    "We ordinal encoded features such as num_cylinders, title_status, condition into ordinal integer since there exist a known relationship between the categories."
   ]
  },
  {
   "cell_type": "code",
   "execution_count": 24,
   "metadata": {},
   "outputs": [],
   "source": [
    "df['num_cylinders'] = df['num_cylinders'].map(num_cyl_ordinal)\n",
    "df['title_status'] = df['title_status'].map(title_status_ordinal)\n",
    "df['condition'] = df['condition'].map(condition_ordinal)"
   ]
  },
  {
   "cell_type": "markdown",
   "metadata": {},
   "source": [
    "The 'price' and 'miles_driven' columns have obvious outliers. We will be dropping any listings with odomoter readings over 250,000 or under 500 miles, or with prices above 500,000 or under 100."
   ]
  },
  {
   "cell_type": "code",
   "execution_count": 25,
   "metadata": {},
   "outputs": [
    {
     "data": {
      "text/html": [
       "<div>\n",
       "<style scoped>\n",
       "    .dataframe tbody tr th:only-of-type {\n",
       "        vertical-align: middle;\n",
       "    }\n",
       "\n",
       "    .dataframe tbody tr th {\n",
       "        vertical-align: top;\n",
       "    }\n",
       "\n",
       "    .dataframe thead th {\n",
       "        text-align: right;\n",
       "    }\n",
       "</style>\n",
       "<table border=\"1\" class=\"dataframe\">\n",
       "  <thead>\n",
       "    <tr style=\"text-align: right;\">\n",
       "      <th></th>\n",
       "      <th>year</th>\n",
       "      <th>condition</th>\n",
       "      <th>num_cylinders</th>\n",
       "      <th>miles_driven</th>\n",
       "      <th>title_status</th>\n",
       "      <th>price</th>\n",
       "    </tr>\n",
       "  </thead>\n",
       "  <tbody>\n",
       "    <tr>\n",
       "      <th>count</th>\n",
       "      <td>424787</td>\n",
       "      <td>252648</td>\n",
       "      <td>248891</td>\n",
       "      <td>422157</td>\n",
       "      <td>418435</td>\n",
       "      <td>425922</td>\n",
       "    </tr>\n",
       "    <tr>\n",
       "      <th>mean</th>\n",
       "      <td>2011</td>\n",
       "      <td>3</td>\n",
       "      <td>4</td>\n",
       "      <td>97882</td>\n",
       "      <td>4</td>\n",
       "      <td>75352</td>\n",
       "    </tr>\n",
       "    <tr>\n",
       "      <th>std</th>\n",
       "      <td>9</td>\n",
       "      <td>1</td>\n",
       "      <td>1</td>\n",
       "      <td>210953</td>\n",
       "      <td>0</td>\n",
       "      <td>12195974</td>\n",
       "    </tr>\n",
       "    <tr>\n",
       "      <th>min</th>\n",
       "      <td>1900</td>\n",
       "      <td>0</td>\n",
       "      <td>0</td>\n",
       "      <td>0</td>\n",
       "      <td>0</td>\n",
       "      <td>0</td>\n",
       "    </tr>\n",
       "    <tr>\n",
       "      <th>25%</th>\n",
       "      <td>2008</td>\n",
       "      <td>2</td>\n",
       "      <td>2</td>\n",
       "      <td>37697</td>\n",
       "      <td>4</td>\n",
       "      <td>5900</td>\n",
       "    </tr>\n",
       "    <tr>\n",
       "      <th>50%</th>\n",
       "      <td>2013</td>\n",
       "      <td>2</td>\n",
       "      <td>4</td>\n",
       "      <td>85530</td>\n",
       "      <td>4</td>\n",
       "      <td>13980</td>\n",
       "    </tr>\n",
       "    <tr>\n",
       "      <th>75%</th>\n",
       "      <td>2017</td>\n",
       "      <td>5</td>\n",
       "      <td>5</td>\n",
       "      <td>133533</td>\n",
       "      <td>4</td>\n",
       "      <td>26500</td>\n",
       "    </tr>\n",
       "    <tr>\n",
       "      <th>max</th>\n",
       "      <td>2022</td>\n",
       "      <td>5</td>\n",
       "      <td>6</td>\n",
       "      <td>10000000</td>\n",
       "      <td>4</td>\n",
       "      <td>3736928711</td>\n",
       "    </tr>\n",
       "  </tbody>\n",
       "</table>\n",
       "</div>"
      ],
      "text/plain": [
       "         year condition num_cylinders miles_driven title_status       price\n",
       "count  424787    252648        248891       422157       418435      425922\n",
       "mean     2011         3             4        97882            4       75352\n",
       "std         9         1             1       210953            0    12195974\n",
       "min      1900         0             0            0            0           0\n",
       "25%      2008         2             2        37697            4        5900\n",
       "50%      2013         2             4        85530            4       13980\n",
       "75%      2017         5             5       133533            4       26500\n",
       "max      2022         5             6     10000000            4  3736928711"
      ]
     },
     "execution_count": 25,
     "metadata": {},
     "output_type": "execute_result"
    }
   ],
   "source": [
    "df.describe().apply(lambda s: s.apply('{0:.0f}'.format))"
   ]
  },
  {
   "cell_type": "code",
   "execution_count": 26,
   "metadata": {},
   "outputs": [],
   "source": [
    "df = df[(df['price'] < 500000) & (df['price'] > 100)]\n",
    "df = df[(df['miles_driven'] > 500) & (df['miles_driven'] < 250000)]"
   ]
  },
  {
   "cell_type": "markdown",
   "metadata": {},
   "source": [
    "# Imputation"
   ]
  },
  {
   "cell_type": "code",
   "execution_count": 27,
   "metadata": {},
   "outputs": [],
   "source": [
    "#select desired columns\n",
    "pre_df = df[['miles_driven', 'title_status', 'num_cylinders', 'condition', 'manufacturer']]"
   ]
  },
  {
   "cell_type": "markdown",
   "metadata": {},
   "source": [
    "Imputation based on mean per manufacturer"
   ]
  },
  {
   "cell_type": "code",
   "execution_count": 28,
   "metadata": {
    "scrolled": true
   },
   "outputs": [
    {
     "data": {
      "text/plain": [
       "0"
      ]
     },
     "execution_count": 28,
     "metadata": {},
     "output_type": "execute_result"
    }
   ],
   "source": [
    "#impute manufacture\n",
    "manu_dist = pre_df['manufacturer'].value_counts(normalize = True)\n",
    "\n",
    "def impute_manu(x):\n",
    "    if pd.isna(x):\n",
    "        return random.choices(manu_dist.index, manu_dist.values)[0]\n",
    "    else:\n",
    "        return x\n",
    "\n",
    "pre_df['manufacturer'] = pre_df['manufacturer'].apply(lambda x: impute_manu(x))\n",
    "pre_df['manufacturer'].isna().sum()"
   ]
  },
  {
   "cell_type": "markdown",
   "metadata": {},
   "source": [
    "Imputation based on probability"
   ]
  },
  {
   "cell_type": "code",
   "execution_count": 29,
   "metadata": {},
   "outputs": [
    {
     "data": {
      "text/plain": [
       "0"
      ]
     },
     "execution_count": 29,
     "metadata": {},
     "output_type": "execute_result"
    }
   ],
   "source": [
    "#impute miles_driven\n",
    "miles_per_manu = pre_df[['manufacturer', 'miles_driven']].groupby('manufacturer').mean()\n",
    "\n",
    "def impute_miles_driven(x):\n",
    "    if pd.isna(x['miles_driven']):\n",
    "        return miles_per_manu.loc[x['manufacturer']][0]\n",
    "    else:\n",
    "        return x['miles_driven']\n",
    "\n",
    "pre_df['miles_driven'] = pre_df[['manufacturer',  'miles_driven']].apply(lambda x: impute_miles_driven(x), axis = 1)\n",
    "pre_df['miles_driven'].isna().sum()"
   ]
  },
  {
   "cell_type": "markdown",
   "metadata": {},
   "source": [
    "Imputation based on probability"
   ]
  },
  {
   "cell_type": "code",
   "execution_count": 30,
   "metadata": {
    "scrolled": true
   },
   "outputs": [
    {
     "data": {
      "text/plain": [
       "0"
      ]
     },
     "execution_count": 30,
     "metadata": {},
     "output_type": "execute_result"
    }
   ],
   "source": [
    "#impute title_status\n",
    "title_status_dist = pre_df['title_status'].value_counts(normalize = True)\n",
    "\n",
    "def impute_title_status(x):\n",
    "    if pd.isna(x):\n",
    "        return random.choices(title_status_dist.index, title_status_dist.values)[0]\n",
    "    else:\n",
    "        return x\n",
    "\n",
    "pre_df['title_status'] = pre_df['title_status'].apply(lambda x: impute_title_status(x))\n",
    "pre_df['title_status'].isna().sum()"
   ]
  },
  {
   "cell_type": "markdown",
   "metadata": {},
   "source": [
    "Imputation based on probability"
   ]
  },
  {
   "cell_type": "code",
   "execution_count": 31,
   "metadata": {},
   "outputs": [
    {
     "data": {
      "text/plain": [
       "0"
      ]
     },
     "execution_count": 31,
     "metadata": {},
     "output_type": "execute_result"
    }
   ],
   "source": [
    "#impute num_cylinders\n",
    "num_cylinders_dist = pre_df['num_cylinders'].value_counts(normalize = True)\n",
    "\n",
    "def impute_num_cylinders(x):\n",
    "    if pd.isna(x):\n",
    "        return random.choices(num_cylinders_dist.index, num_cylinders_dist.values)[0]\n",
    "    else:\n",
    "        return x\n",
    "\n",
    "pre_df['num_cylinders'] = pre_df['num_cylinders'].apply(lambda x: impute_num_cylinders(x))\n",
    "pre_df['num_cylinders'].isna().sum()"
   ]
  },
  {
   "cell_type": "markdown",
   "metadata": {},
   "source": [
    "Imputation based on probability"
   ]
  },
  {
   "cell_type": "code",
   "execution_count": 32,
   "metadata": {},
   "outputs": [
    {
     "data": {
      "text/plain": [
       "0"
      ]
     },
     "execution_count": 32,
     "metadata": {},
     "output_type": "execute_result"
    }
   ],
   "source": [
    "#impute condition\n",
    "condition_dist = pre_df['condition'].value_counts(normalize = True)\n",
    "\n",
    "def impute_condition(x):\n",
    "    if pd.isna(x):\n",
    "        return random.choices(condition_dist.index, condition_dist.values)[0]\n",
    "    else:\n",
    "        return x\n",
    "\n",
    "pre_df['condition'] = pre_df['condition'].apply(lambda x: impute_condition(x))\n",
    "pre_df['condition'].isna().sum()"
   ]
  },
  {
   "cell_type": "code",
   "execution_count": 33,
   "metadata": {},
   "outputs": [
    {
     "data": {
      "text/plain": [
       "miles_driven     0\n",
       "title_status     0\n",
       "num_cylinders    0\n",
       "condition        0\n",
       "manufacturer     0\n",
       "dtype: int64"
      ]
     },
     "execution_count": 33,
     "metadata": {},
     "output_type": "execute_result"
    }
   ],
   "source": [
    "pre_df.isna().sum()"
   ]
  },
  {
   "cell_type": "markdown",
   "metadata": {},
   "source": [
    "We then one hot encode features that has categorical variables. These columns includes : manufacturer, car_category, fuel_type, transmission, drive, state."
   ]
  },
  {
   "cell_type": "code",
   "execution_count": 34,
   "metadata": {},
   "outputs": [],
   "source": [
    "df_onehot = pd.get_dummies(pre_df, columns = ['manufacturer'])"
   ]
  },
  {
   "cell_type": "code",
   "execution_count": 35,
   "metadata": {},
   "outputs": [
    {
     "data": {
      "text/html": [
       "<div>\n",
       "<style scoped>\n",
       "    .dataframe tbody tr th:only-of-type {\n",
       "        vertical-align: middle;\n",
       "    }\n",
       "\n",
       "    .dataframe tbody tr th {\n",
       "        vertical-align: top;\n",
       "    }\n",
       "\n",
       "    .dataframe thead th {\n",
       "        text-align: right;\n",
       "    }\n",
       "</style>\n",
       "<table border=\"1\" class=\"dataframe\">\n",
       "  <thead>\n",
       "    <tr style=\"text-align: right;\">\n",
       "      <th></th>\n",
       "      <th>miles_driven</th>\n",
       "      <th>title_status</th>\n",
       "      <th>num_cylinders</th>\n",
       "      <th>condition</th>\n",
       "      <th>manufacturer_acura</th>\n",
       "      <th>manufacturer_alfa-romeo</th>\n",
       "      <th>manufacturer_aston-martin</th>\n",
       "      <th>manufacturer_audi</th>\n",
       "      <th>manufacturer_bmw</th>\n",
       "      <th>manufacturer_buick</th>\n",
       "      <th>...</th>\n",
       "      <th>manufacturer_pontiac</th>\n",
       "      <th>manufacturer_porsche</th>\n",
       "      <th>manufacturer_ram</th>\n",
       "      <th>manufacturer_rover</th>\n",
       "      <th>manufacturer_saturn</th>\n",
       "      <th>manufacturer_subaru</th>\n",
       "      <th>manufacturer_tesla</th>\n",
       "      <th>manufacturer_toyota</th>\n",
       "      <th>manufacturer_volkswagen</th>\n",
       "      <th>manufacturer_volvo</th>\n",
       "    </tr>\n",
       "  </thead>\n",
       "  <tbody>\n",
       "    <tr>\n",
       "      <th>0</th>\n",
       "      <td>57923.0</td>\n",
       "      <td>4.0</td>\n",
       "      <td>5.0</td>\n",
       "      <td>2.0</td>\n",
       "      <td>0</td>\n",
       "      <td>0</td>\n",
       "      <td>0</td>\n",
       "      <td>0</td>\n",
       "      <td>0</td>\n",
       "      <td>0</td>\n",
       "      <td>...</td>\n",
       "      <td>0</td>\n",
       "      <td>0</td>\n",
       "      <td>0</td>\n",
       "      <td>0</td>\n",
       "      <td>0</td>\n",
       "      <td>0</td>\n",
       "      <td>0</td>\n",
       "      <td>0</td>\n",
       "      <td>0</td>\n",
       "      <td>0</td>\n",
       "    </tr>\n",
       "    <tr>\n",
       "      <th>1</th>\n",
       "      <td>71229.0</td>\n",
       "      <td>4.0</td>\n",
       "      <td>5.0</td>\n",
       "      <td>2.0</td>\n",
       "      <td>0</td>\n",
       "      <td>0</td>\n",
       "      <td>0</td>\n",
       "      <td>0</td>\n",
       "      <td>0</td>\n",
       "      <td>0</td>\n",
       "      <td>...</td>\n",
       "      <td>0</td>\n",
       "      <td>0</td>\n",
       "      <td>0</td>\n",
       "      <td>0</td>\n",
       "      <td>0</td>\n",
       "      <td>0</td>\n",
       "      <td>0</td>\n",
       "      <td>0</td>\n",
       "      <td>0</td>\n",
       "      <td>0</td>\n",
       "    </tr>\n",
       "    <tr>\n",
       "      <th>2</th>\n",
       "      <td>19160.0</td>\n",
       "      <td>4.0</td>\n",
       "      <td>5.0</td>\n",
       "      <td>2.0</td>\n",
       "      <td>0</td>\n",
       "      <td>0</td>\n",
       "      <td>0</td>\n",
       "      <td>0</td>\n",
       "      <td>0</td>\n",
       "      <td>0</td>\n",
       "      <td>...</td>\n",
       "      <td>0</td>\n",
       "      <td>0</td>\n",
       "      <td>0</td>\n",
       "      <td>0</td>\n",
       "      <td>0</td>\n",
       "      <td>0</td>\n",
       "      <td>0</td>\n",
       "      <td>0</td>\n",
       "      <td>0</td>\n",
       "      <td>0</td>\n",
       "    </tr>\n",
       "    <tr>\n",
       "      <th>3</th>\n",
       "      <td>41124.0</td>\n",
       "      <td>4.0</td>\n",
       "      <td>5.0</td>\n",
       "      <td>2.0</td>\n",
       "      <td>0</td>\n",
       "      <td>0</td>\n",
       "      <td>0</td>\n",
       "      <td>0</td>\n",
       "      <td>0</td>\n",
       "      <td>0</td>\n",
       "      <td>...</td>\n",
       "      <td>0</td>\n",
       "      <td>0</td>\n",
       "      <td>0</td>\n",
       "      <td>0</td>\n",
       "      <td>0</td>\n",
       "      <td>0</td>\n",
       "      <td>0</td>\n",
       "      <td>1</td>\n",
       "      <td>0</td>\n",
       "      <td>0</td>\n",
       "    </tr>\n",
       "    <tr>\n",
       "      <th>4</th>\n",
       "      <td>128000.0</td>\n",
       "      <td>4.0</td>\n",
       "      <td>4.0</td>\n",
       "      <td>5.0</td>\n",
       "      <td>0</td>\n",
       "      <td>0</td>\n",
       "      <td>0</td>\n",
       "      <td>0</td>\n",
       "      <td>0</td>\n",
       "      <td>0</td>\n",
       "      <td>...</td>\n",
       "      <td>0</td>\n",
       "      <td>0</td>\n",
       "      <td>0</td>\n",
       "      <td>0</td>\n",
       "      <td>0</td>\n",
       "      <td>0</td>\n",
       "      <td>0</td>\n",
       "      <td>0</td>\n",
       "      <td>0</td>\n",
       "      <td>0</td>\n",
       "    </tr>\n",
       "  </tbody>\n",
       "</table>\n",
       "<p>5 rows × 46 columns</p>\n",
       "</div>"
      ],
      "text/plain": [
       "   miles_driven  title_status  num_cylinders  condition  manufacturer_acura  \\\n",
       "0       57923.0           4.0            5.0        2.0                   0   \n",
       "1       71229.0           4.0            5.0        2.0                   0   \n",
       "2       19160.0           4.0            5.0        2.0                   0   \n",
       "3       41124.0           4.0            5.0        2.0                   0   \n",
       "4      128000.0           4.0            4.0        5.0                   0   \n",
       "\n",
       "   manufacturer_alfa-romeo  manufacturer_aston-martin  manufacturer_audi  \\\n",
       "0                        0                          0                  0   \n",
       "1                        0                          0                  0   \n",
       "2                        0                          0                  0   \n",
       "3                        0                          0                  0   \n",
       "4                        0                          0                  0   \n",
       "\n",
       "   manufacturer_bmw  manufacturer_buick  ...  manufacturer_pontiac  \\\n",
       "0                 0                   0  ...                     0   \n",
       "1                 0                   0  ...                     0   \n",
       "2                 0                   0  ...                     0   \n",
       "3                 0                   0  ...                     0   \n",
       "4                 0                   0  ...                     0   \n",
       "\n",
       "   manufacturer_porsche  manufacturer_ram  manufacturer_rover  \\\n",
       "0                     0                 0                   0   \n",
       "1                     0                 0                   0   \n",
       "2                     0                 0                   0   \n",
       "3                     0                 0                   0   \n",
       "4                     0                 0                   0   \n",
       "\n",
       "   manufacturer_saturn  manufacturer_subaru  manufacturer_tesla  \\\n",
       "0                    0                    0                   0   \n",
       "1                    0                    0                   0   \n",
       "2                    0                    0                   0   \n",
       "3                    0                    0                   0   \n",
       "4                    0                    0                   0   \n",
       "\n",
       "   manufacturer_toyota  manufacturer_volkswagen  manufacturer_volvo  \n",
       "0                    0                        0                   0  \n",
       "1                    0                        0                   0  \n",
       "2                    0                        0                   0  \n",
       "3                    1                        0                   0  \n",
       "4                    0                        0                   0  \n",
       "\n",
       "[5 rows x 46 columns]"
      ]
     },
     "execution_count": 35,
     "metadata": {},
     "output_type": "execute_result"
    }
   ],
   "source": [
    "df_onehot.head()"
   ]
  },
  {
   "cell_type": "markdown",
   "metadata": {},
   "source": [
    "# Data Analysis & Results"
   ]
  },
  {
   "cell_type": "markdown",
   "metadata": {},
   "source": [
    "## Structure:\n",
    "The used car data that we used is in a tabular format of a single table (CSV file) with each row being a single observation of a used car and its information. There are 12 columns in the dataset, with the year, miles_driven, price,. and num_cylinders columns being integer types. The manufacturer, car_category, condition, fuel type, title_status, transmission, state, and drive columns being string types."
   ]
  },
  {
   "cell_type": "code",
   "execution_count": 36,
   "metadata": {},
   "outputs": [
    {
     "data": {
      "text/html": [
       "<div>\n",
       "<style scoped>\n",
       "    .dataframe tbody tr th:only-of-type {\n",
       "        vertical-align: middle;\n",
       "    }\n",
       "\n",
       "    .dataframe tbody tr th {\n",
       "        vertical-align: top;\n",
       "    }\n",
       "\n",
       "    .dataframe thead th {\n",
       "        text-align: right;\n",
       "    }\n",
       "</style>\n",
       "<table border=\"1\" class=\"dataframe\">\n",
       "  <thead>\n",
       "    <tr style=\"text-align: right;\">\n",
       "      <th></th>\n",
       "      <th>year</th>\n",
       "      <th>manufacturer</th>\n",
       "      <th>car_category</th>\n",
       "      <th>condition</th>\n",
       "      <th>num_cylinders</th>\n",
       "      <th>fuel_type</th>\n",
       "      <th>miles_driven</th>\n",
       "      <th>title_status</th>\n",
       "      <th>transmission</th>\n",
       "      <th>drive</th>\n",
       "      <th>state</th>\n",
       "      <th>price</th>\n",
       "    </tr>\n",
       "  </thead>\n",
       "  <tbody>\n",
       "    <tr>\n",
       "      <th>0</th>\n",
       "      <td>2014.0</td>\n",
       "      <td>gmc</td>\n",
       "      <td>pickup</td>\n",
       "      <td>2.0</td>\n",
       "      <td>5.0</td>\n",
       "      <td>gas</td>\n",
       "      <td>57923.0</td>\n",
       "      <td>4.0</td>\n",
       "      <td>other</td>\n",
       "      <td>NaN</td>\n",
       "      <td>al</td>\n",
       "      <td>33590</td>\n",
       "    </tr>\n",
       "    <tr>\n",
       "      <th>1</th>\n",
       "      <td>2010.0</td>\n",
       "      <td>chevrolet</td>\n",
       "      <td>pickup</td>\n",
       "      <td>2.0</td>\n",
       "      <td>5.0</td>\n",
       "      <td>gas</td>\n",
       "      <td>71229.0</td>\n",
       "      <td>4.0</td>\n",
       "      <td>other</td>\n",
       "      <td>NaN</td>\n",
       "      <td>al</td>\n",
       "      <td>22590</td>\n",
       "    </tr>\n",
       "    <tr>\n",
       "      <th>2</th>\n",
       "      <td>2020.0</td>\n",
       "      <td>chevrolet</td>\n",
       "      <td>pickup</td>\n",
       "      <td>2.0</td>\n",
       "      <td>5.0</td>\n",
       "      <td>gas</td>\n",
       "      <td>19160.0</td>\n",
       "      <td>4.0</td>\n",
       "      <td>other</td>\n",
       "      <td>NaN</td>\n",
       "      <td>al</td>\n",
       "      <td>39590</td>\n",
       "    </tr>\n",
       "    <tr>\n",
       "      <th>3</th>\n",
       "      <td>2017.0</td>\n",
       "      <td>toyota</td>\n",
       "      <td>pickup</td>\n",
       "      <td>2.0</td>\n",
       "      <td>5.0</td>\n",
       "      <td>gas</td>\n",
       "      <td>41124.0</td>\n",
       "      <td>4.0</td>\n",
       "      <td>other</td>\n",
       "      <td>NaN</td>\n",
       "      <td>al</td>\n",
       "      <td>30990</td>\n",
       "    </tr>\n",
       "    <tr>\n",
       "      <th>4</th>\n",
       "      <td>2013.0</td>\n",
       "      <td>ford</td>\n",
       "      <td>truck</td>\n",
       "      <td>5.0</td>\n",
       "      <td>4.0</td>\n",
       "      <td>gas</td>\n",
       "      <td>128000.0</td>\n",
       "      <td>4.0</td>\n",
       "      <td>automatic</td>\n",
       "      <td>rwd</td>\n",
       "      <td>al</td>\n",
       "      <td>15000</td>\n",
       "    </tr>\n",
       "  </tbody>\n",
       "</table>\n",
       "</div>"
      ],
      "text/plain": [
       "     year manufacturer car_category  condition  num_cylinders fuel_type  \\\n",
       "0  2014.0          gmc       pickup        2.0            5.0       gas   \n",
       "1  2010.0    chevrolet       pickup        2.0            5.0       gas   \n",
       "2  2020.0    chevrolet       pickup        2.0            5.0       gas   \n",
       "3  2017.0       toyota       pickup        2.0            5.0       gas   \n",
       "4  2013.0         ford        truck        5.0            4.0       gas   \n",
       "\n",
       "   miles_driven  title_status transmission drive state  price  \n",
       "0       57923.0           4.0        other   NaN    al  33590  \n",
       "1       71229.0           4.0        other   NaN    al  22590  \n",
       "2       19160.0           4.0        other   NaN    al  39590  \n",
       "3       41124.0           4.0        other   NaN    al  30990  \n",
       "4      128000.0           4.0    automatic   rwd    al  15000  "
      ]
     },
     "execution_count": 36,
     "metadata": {},
     "output_type": "execute_result"
    }
   ],
   "source": [
    "df.head()"
   ]
  },
  {
   "cell_type": "markdown",
   "metadata": {},
   "source": [
    "## Granularity:\n",
    "Each row in our dataset represents an observation of a used car and its information: price, condition, manufacture, latitude/longitude, and 18 other categories. All records uniformaly represents the same level of granulaity since each row represents a single observation on an individual level. The data is not summarized nor aggregated. As for summaraizing, we plan on plotting a histogram to show the distribution of different prices amoung the used cars. We also plan to evaluate the count for each title_status, and will also do a bar chart of the amount of manufactures within the dataset do determine the amount of cars under each manufacture. Some interesting aggregates includes the average price/year/miles driven for each manufacture."
   ]
  },
  {
   "cell_type": "code",
   "execution_count": 37,
   "metadata": {},
   "outputs": [
    {
     "data": {
      "text/html": [
       "<div>\n",
       "<style scoped>\n",
       "    .dataframe tbody tr th:only-of-type {\n",
       "        vertical-align: middle;\n",
       "    }\n",
       "\n",
       "    .dataframe tbody tr th {\n",
       "        vertical-align: top;\n",
       "    }\n",
       "\n",
       "    .dataframe thead th {\n",
       "        text-align: right;\n",
       "    }\n",
       "</style>\n",
       "<table border=\"1\" class=\"dataframe\">\n",
       "  <thead>\n",
       "    <tr style=\"text-align: right;\">\n",
       "      <th></th>\n",
       "      <th>year</th>\n",
       "      <th>manufacturer</th>\n",
       "      <th>car_category</th>\n",
       "      <th>condition</th>\n",
       "      <th>num_cylinders</th>\n",
       "      <th>fuel_type</th>\n",
       "      <th>miles_driven</th>\n",
       "      <th>title_status</th>\n",
       "      <th>transmission</th>\n",
       "      <th>drive</th>\n",
       "      <th>state</th>\n",
       "      <th>price</th>\n",
       "    </tr>\n",
       "  </thead>\n",
       "  <tbody>\n",
       "    <tr>\n",
       "      <th>0</th>\n",
       "      <td>2014.0</td>\n",
       "      <td>gmc</td>\n",
       "      <td>pickup</td>\n",
       "      <td>2.0</td>\n",
       "      <td>5.0</td>\n",
       "      <td>gas</td>\n",
       "      <td>57923.0</td>\n",
       "      <td>4.0</td>\n",
       "      <td>other</td>\n",
       "      <td>NaN</td>\n",
       "      <td>al</td>\n",
       "      <td>33590</td>\n",
       "    </tr>\n",
       "  </tbody>\n",
       "</table>\n",
       "</div>"
      ],
      "text/plain": [
       "     year manufacturer car_category  condition  num_cylinders fuel_type  \\\n",
       "0  2014.0          gmc       pickup        2.0            5.0       gas   \n",
       "\n",
       "   miles_driven  title_status transmission drive state  price  \n",
       "0       57923.0           4.0        other   NaN    al  33590  "
      ]
     },
     "execution_count": 37,
     "metadata": {},
     "output_type": "execute_result"
    }
   ],
   "source": [
    "df[0:1]"
   ]
  },
  {
   "cell_type": "markdown",
   "metadata": {},
   "source": [
    "### Temporality:\n",
    "The dataset is comprised of used car postings on Craigslist that were posted between April to May 2021. The date allows us to generalize the findings to the present day. However, the dates at which the postings were made are not very important to our analysis. Within the dataset, we find a 'year' column which represents each vehicle's model year. These values are of particular importance given that the age of the car could affect its price.\n",
    "\n",
    "Year is stored as a float:"
   ]
  },
  {
   "cell_type": "code",
   "execution_count": 79,
   "metadata": {},
   "outputs": [
    {
     "data": {
      "text/plain": [
       "0    2014.0\n",
       "1    2010.0\n",
       "2    2020.0\n",
       "3    2017.0\n",
       "4    2013.0\n",
       "Name: year, dtype: float64"
      ]
     },
     "execution_count": 79,
     "metadata": {},
     "output_type": "execute_result"
    }
   ],
   "source": [
    "df['year'].head()"
   ]
  },
  {
   "cell_type": "markdown",
   "metadata": {},
   "source": [
    "We see the range of years is from [1900,2022]"
   ]
  },
  {
   "cell_type": "code",
   "execution_count": 39,
   "metadata": {},
   "outputs": [
    {
     "data": {
      "text/plain": [
       "count    372653.000000\n",
       "mean       2011.273858\n",
       "std           9.114572\n",
       "min        1900.000000\n",
       "25%        2008.000000\n",
       "50%        2013.000000\n",
       "75%        2017.000000\n",
       "max        2022.000000\n",
       "Name: year, dtype: float64"
      ]
     },
     "execution_count": 39,
     "metadata": {},
     "output_type": "execute_result"
    }
   ],
   "source": [
    "df['year'].describe()\n"
   ]
  },
  {
   "cell_type": "markdown",
   "metadata": {},
   "source": [
    "Not all entries include information about the car's year.\n",
    "\n"
   ]
  },
  {
   "cell_type": "code",
   "execution_count": 40,
   "metadata": {},
   "outputs": [
    {
     "data": {
      "text/html": [
       "<div>\n",
       "<style scoped>\n",
       "    .dataframe tbody tr th:only-of-type {\n",
       "        vertical-align: middle;\n",
       "    }\n",
       "\n",
       "    .dataframe tbody tr th {\n",
       "        vertical-align: top;\n",
       "    }\n",
       "\n",
       "    .dataframe thead th {\n",
       "        text-align: right;\n",
       "    }\n",
       "</style>\n",
       "<table border=\"1\" class=\"dataframe\">\n",
       "  <thead>\n",
       "    <tr style=\"text-align: right;\">\n",
       "      <th></th>\n",
       "      <th>year</th>\n",
       "      <th>manufacturer</th>\n",
       "      <th>car_category</th>\n",
       "      <th>condition</th>\n",
       "      <th>num_cylinders</th>\n",
       "      <th>fuel_type</th>\n",
       "      <th>miles_driven</th>\n",
       "      <th>title_status</th>\n",
       "      <th>transmission</th>\n",
       "      <th>drive</th>\n",
       "      <th>state</th>\n",
       "      <th>price</th>\n",
       "    </tr>\n",
       "  </thead>\n",
       "  <tbody>\n",
       "    <tr>\n",
       "      <th>167</th>\n",
       "      <td>NaN</td>\n",
       "      <td>NaN</td>\n",
       "      <td>SUV</td>\n",
       "      <td>NaN</td>\n",
       "      <td>4.0</td>\n",
       "      <td>gas</td>\n",
       "      <td>48784.0</td>\n",
       "      <td>4.0</td>\n",
       "      <td>automatic</td>\n",
       "      <td>fwd</td>\n",
       "      <td>al</td>\n",
       "      <td>33990</td>\n",
       "    </tr>\n",
       "    <tr>\n",
       "      <th>323</th>\n",
       "      <td>NaN</td>\n",
       "      <td>NaN</td>\n",
       "      <td>sedan</td>\n",
       "      <td>NaN</td>\n",
       "      <td>2.0</td>\n",
       "      <td>gas</td>\n",
       "      <td>14000.0</td>\n",
       "      <td>4.0</td>\n",
       "      <td>automatic</td>\n",
       "      <td>rwd</td>\n",
       "      <td>al</td>\n",
       "      <td>35495</td>\n",
       "    </tr>\n",
       "    <tr>\n",
       "      <th>551</th>\n",
       "      <td>NaN</td>\n",
       "      <td>NaN</td>\n",
       "      <td>sedan</td>\n",
       "      <td>NaN</td>\n",
       "      <td>2.0</td>\n",
       "      <td>gas</td>\n",
       "      <td>22105.0</td>\n",
       "      <td>4.0</td>\n",
       "      <td>automatic</td>\n",
       "      <td>rwd</td>\n",
       "      <td>al</td>\n",
       "      <td>32995</td>\n",
       "    </tr>\n",
       "    <tr>\n",
       "      <th>651</th>\n",
       "      <td>NaN</td>\n",
       "      <td>NaN</td>\n",
       "      <td>SUV</td>\n",
       "      <td>NaN</td>\n",
       "      <td>4.0</td>\n",
       "      <td>gas</td>\n",
       "      <td>30934.0</td>\n",
       "      <td>4.0</td>\n",
       "      <td>automatic</td>\n",
       "      <td>fwd</td>\n",
       "      <td>al</td>\n",
       "      <td>29890</td>\n",
       "    </tr>\n",
       "    <tr>\n",
       "      <th>683</th>\n",
       "      <td>NaN</td>\n",
       "      <td>NaN</td>\n",
       "      <td>sedan</td>\n",
       "      <td>NaN</td>\n",
       "      <td>2.0</td>\n",
       "      <td>gas</td>\n",
       "      <td>42455.0</td>\n",
       "      <td>4.0</td>\n",
       "      <td>automatic</td>\n",
       "      <td>NaN</td>\n",
       "      <td>al</td>\n",
       "      <td>26495</td>\n",
       "    </tr>\n",
       "  </tbody>\n",
       "</table>\n",
       "</div>"
      ],
      "text/plain": [
       "     year manufacturer car_category  condition  num_cylinders fuel_type  \\\n",
       "167   NaN          NaN          SUV        NaN            4.0       gas   \n",
       "323   NaN          NaN        sedan        NaN            2.0       gas   \n",
       "551   NaN          NaN        sedan        NaN            2.0       gas   \n",
       "651   NaN          NaN          SUV        NaN            4.0       gas   \n",
       "683   NaN          NaN        sedan        NaN            2.0       gas   \n",
       "\n",
       "     miles_driven  title_status transmission drive state  price  \n",
       "167       48784.0           4.0    automatic   fwd    al  33990  \n",
       "323       14000.0           4.0    automatic   rwd    al  35495  \n",
       "551       22105.0           4.0    automatic   rwd    al  32995  \n",
       "651       30934.0           4.0    automatic   fwd    al  29890  \n",
       "683       42455.0           4.0    automatic   NaN    al  26495  "
      ]
     },
     "execution_count": 40,
     "metadata": {},
     "output_type": "execute_result"
    }
   ],
   "source": [
    "incorrect_year = df[df['year'].isna()]\n",
    "incorrect_year.head()"
   ]
  },
  {
   "cell_type": "markdown",
   "metadata": {},
   "source": [
    "## Faithfulness:\n",
    "The faithfulness of the data is quite difficult to determine as Craigslist is based purely on individual user input that does not screen for unreasonable values. For example, some cars have a listing price of well over three billion dollars in price for a pickup truck and some cars were listed at zero dollars (which was probably done to get people to click on the post). This is also a form of falsification as the true price of the car is not being stated, which leads to more missing values and a less accurate representation of the data. We removed all of the outliers within our data cleaning section to get the following:"
   ]
  },
  {
   "cell_type": "code",
   "execution_count": 41,
   "metadata": {},
   "outputs": [
    {
     "data": {
      "text/html": [
       "<div>\n",
       "<style scoped>\n",
       "    .dataframe tbody tr th:only-of-type {\n",
       "        vertical-align: middle;\n",
       "    }\n",
       "\n",
       "    .dataframe tbody tr th {\n",
       "        vertical-align: top;\n",
       "    }\n",
       "\n",
       "    .dataframe thead th {\n",
       "        text-align: right;\n",
       "    }\n",
       "</style>\n",
       "<table border=\"1\" class=\"dataframe\">\n",
       "  <thead>\n",
       "    <tr style=\"text-align: right;\">\n",
       "      <th></th>\n",
       "      <th>year</th>\n",
       "      <th>condition</th>\n",
       "      <th>num_cylinders</th>\n",
       "      <th>miles_driven</th>\n",
       "      <th>title_status</th>\n",
       "      <th>price</th>\n",
       "    </tr>\n",
       "  </thead>\n",
       "  <tbody>\n",
       "    <tr>\n",
       "      <th>count</th>\n",
       "      <td>372653</td>\n",
       "      <td>230699</td>\n",
       "      <td>222326</td>\n",
       "      <td>373598</td>\n",
       "      <td>366813</td>\n",
       "      <td>373598</td>\n",
       "    </tr>\n",
       "    <tr>\n",
       "      <th>mean</th>\n",
       "      <td>2011</td>\n",
       "      <td>3</td>\n",
       "      <td>4</td>\n",
       "      <td>91200</td>\n",
       "      <td>4</td>\n",
       "      <td>19193</td>\n",
       "    </tr>\n",
       "    <tr>\n",
       "      <th>std</th>\n",
       "      <td>9</td>\n",
       "      <td>1</td>\n",
       "      <td>1</td>\n",
       "      <td>58523</td>\n",
       "      <td>0</td>\n",
       "      <td>15083</td>\n",
       "    </tr>\n",
       "    <tr>\n",
       "      <th>min</th>\n",
       "      <td>1900</td>\n",
       "      <td>0</td>\n",
       "      <td>0</td>\n",
       "      <td>501</td>\n",
       "      <td>0</td>\n",
       "      <td>101</td>\n",
       "    </tr>\n",
       "    <tr>\n",
       "      <th>25%</th>\n",
       "      <td>2008</td>\n",
       "      <td>2</td>\n",
       "      <td>2</td>\n",
       "      <td>39676</td>\n",
       "      <td>4</td>\n",
       "      <td>7700</td>\n",
       "    </tr>\n",
       "    <tr>\n",
       "      <th>50%</th>\n",
       "      <td>2013</td>\n",
       "      <td>2</td>\n",
       "      <td>4</td>\n",
       "      <td>87212</td>\n",
       "      <td>4</td>\n",
       "      <td>15900</td>\n",
       "    </tr>\n",
       "    <tr>\n",
       "      <th>75%</th>\n",
       "      <td>2017</td>\n",
       "      <td>5</td>\n",
       "      <td>5</td>\n",
       "      <td>133685</td>\n",
       "      <td>4</td>\n",
       "      <td>27990</td>\n",
       "    </tr>\n",
       "    <tr>\n",
       "      <th>max</th>\n",
       "      <td>2022</td>\n",
       "      <td>5</td>\n",
       "      <td>6</td>\n",
       "      <td>249961</td>\n",
       "      <td>4</td>\n",
       "      <td>470000</td>\n",
       "    </tr>\n",
       "  </tbody>\n",
       "</table>\n",
       "</div>"
      ],
      "text/plain": [
       "         year condition num_cylinders miles_driven title_status   price\n",
       "count  372653    230699        222326       373598       366813  373598\n",
       "mean     2011         3             4        91200            4   19193\n",
       "std         9         1             1        58523            0   15083\n",
       "min      1900         0             0          501            0     101\n",
       "25%      2008         2             2        39676            4    7700\n",
       "50%      2013         2             4        87212            4   15900\n",
       "75%      2017         5             5       133685            4   27990\n",
       "max      2022         5             6       249961            4  470000"
      ]
     },
     "execution_count": 41,
     "metadata": {},
     "output_type": "execute_result"
    }
   ],
   "source": [
    "df.describe().apply(lambda s: s.apply('{0:.0f}'.format))"
   ]
  },
  {
   "cell_type": "markdown",
   "metadata": {},
   "source": [
    "Throughout the whole data set we also see that many of the columns have missing values."
   ]
  },
  {
   "cell_type": "code",
   "execution_count": 42,
   "metadata": {},
   "outputs": [
    {
     "data": {
      "text/plain": [
       "year                945\n",
       "manufacturer      13531\n",
       "car_category      78034\n",
       "condition        142899\n",
       "num_cylinders    151272\n",
       "fuel_type          2078\n",
       "miles_driven          0\n",
       "title_status       6785\n",
       "transmission       1390\n",
       "drive            112417\n",
       "state                 0\n",
       "price                 0\n",
       "dtype: int64"
      ]
     },
     "execution_count": 42,
     "metadata": {},
     "output_type": "execute_result"
    }
   ],
   "source": [
    "df.isna().sum()"
   ]
  },
  {
   "cell_type": "code",
   "execution_count": 43,
   "metadata": {},
   "outputs": [
    {
     "data": {
      "text/html": [
       "<div>\n",
       "<style scoped>\n",
       "    .dataframe tbody tr th:only-of-type {\n",
       "        vertical-align: middle;\n",
       "    }\n",
       "\n",
       "    .dataframe tbody tr th {\n",
       "        vertical-align: top;\n",
       "    }\n",
       "\n",
       "    .dataframe thead th {\n",
       "        text-align: right;\n",
       "    }\n",
       "</style>\n",
       "<table border=\"1\" class=\"dataframe\">\n",
       "  <thead>\n",
       "    <tr style=\"text-align: right;\">\n",
       "      <th></th>\n",
       "      <th>year</th>\n",
       "      <th>manufacturer</th>\n",
       "      <th>car_category</th>\n",
       "      <th>condition</th>\n",
       "      <th>num_cylinders</th>\n",
       "      <th>fuel_type</th>\n",
       "      <th>miles_driven</th>\n",
       "      <th>title_status</th>\n",
       "      <th>transmission</th>\n",
       "      <th>drive</th>\n",
       "      <th>state</th>\n",
       "      <th>price</th>\n",
       "    </tr>\n",
       "  </thead>\n",
       "  <tbody>\n",
       "    <tr>\n",
       "      <th>0</th>\n",
       "      <td>2014.0</td>\n",
       "      <td>gmc</td>\n",
       "      <td>pickup</td>\n",
       "      <td>2.0</td>\n",
       "      <td>5.0</td>\n",
       "      <td>gas</td>\n",
       "      <td>57923.0</td>\n",
       "      <td>4.0</td>\n",
       "      <td>other</td>\n",
       "      <td>NaN</td>\n",
       "      <td>al</td>\n",
       "      <td>33590</td>\n",
       "    </tr>\n",
       "    <tr>\n",
       "      <th>1</th>\n",
       "      <td>2010.0</td>\n",
       "      <td>chevrolet</td>\n",
       "      <td>pickup</td>\n",
       "      <td>2.0</td>\n",
       "      <td>5.0</td>\n",
       "      <td>gas</td>\n",
       "      <td>71229.0</td>\n",
       "      <td>4.0</td>\n",
       "      <td>other</td>\n",
       "      <td>NaN</td>\n",
       "      <td>al</td>\n",
       "      <td>22590</td>\n",
       "    </tr>\n",
       "    <tr>\n",
       "      <th>2</th>\n",
       "      <td>2020.0</td>\n",
       "      <td>chevrolet</td>\n",
       "      <td>pickup</td>\n",
       "      <td>2.0</td>\n",
       "      <td>5.0</td>\n",
       "      <td>gas</td>\n",
       "      <td>19160.0</td>\n",
       "      <td>4.0</td>\n",
       "      <td>other</td>\n",
       "      <td>NaN</td>\n",
       "      <td>al</td>\n",
       "      <td>39590</td>\n",
       "    </tr>\n",
       "    <tr>\n",
       "      <th>3</th>\n",
       "      <td>2017.0</td>\n",
       "      <td>toyota</td>\n",
       "      <td>pickup</td>\n",
       "      <td>2.0</td>\n",
       "      <td>5.0</td>\n",
       "      <td>gas</td>\n",
       "      <td>41124.0</td>\n",
       "      <td>4.0</td>\n",
       "      <td>other</td>\n",
       "      <td>NaN</td>\n",
       "      <td>al</td>\n",
       "      <td>30990</td>\n",
       "    </tr>\n",
       "    <tr>\n",
       "      <th>10</th>\n",
       "      <td>1992.0</td>\n",
       "      <td>jeep</td>\n",
       "      <td>NaN</td>\n",
       "      <td>5.0</td>\n",
       "      <td>4.0</td>\n",
       "      <td>gas</td>\n",
       "      <td>192000.0</td>\n",
       "      <td>4.0</td>\n",
       "      <td>automatic</td>\n",
       "      <td>4wd</td>\n",
       "      <td>al</td>\n",
       "      <td>4500</td>\n",
       "    </tr>\n",
       "  </tbody>\n",
       "</table>\n",
       "</div>"
      ],
      "text/plain": [
       "      year manufacturer car_category  condition  num_cylinders fuel_type  \\\n",
       "0   2014.0          gmc       pickup        2.0            5.0       gas   \n",
       "1   2010.0    chevrolet       pickup        2.0            5.0       gas   \n",
       "2   2020.0    chevrolet       pickup        2.0            5.0       gas   \n",
       "3   2017.0       toyota       pickup        2.0            5.0       gas   \n",
       "10  1992.0         jeep          NaN        5.0            4.0       gas   \n",
       "\n",
       "    miles_driven  title_status transmission drive state  price  \n",
       "0        57923.0           4.0        other   NaN    al  33590  \n",
       "1        71229.0           4.0        other   NaN    al  22590  \n",
       "2        19160.0           4.0        other   NaN    al  39590  \n",
       "3        41124.0           4.0        other   NaN    al  30990  \n",
       "10      192000.0           4.0    automatic   4wd    al   4500  "
      ]
     },
     "execution_count": 43,
     "metadata": {},
     "output_type": "execute_result"
    }
   ],
   "source": [
    "df[df.isna().any(axis=1)].head()\n"
   ]
  },
  {
   "cell_type": "markdown",
   "metadata": {},
   "source": [
    "## Scope:\n",
    "\n",
    "Shape of the dataset:\n"
   ]
  },
  {
   "cell_type": "code",
   "execution_count": 44,
   "metadata": {},
   "outputs": [
    {
     "data": {
      "text/plain": [
       "(373598, 12)"
      ]
     },
     "execution_count": 44,
     "metadata": {},
     "output_type": "execute_result"
    }
   ],
   "source": [
    "df.shape"
   ]
  },
  {
   "cell_type": "markdown",
   "metadata": {},
   "source": [
    "## Categorical Variables:"
   ]
  },
  {
   "cell_type": "markdown",
   "metadata": {},
   "source": [
    "#### Manufacturer:"
   ]
  },
  {
   "cell_type": "code",
   "execution_count": 45,
   "metadata": {},
   "outputs": [
    {
     "data": {
      "text/plain": [
       "<AxesSubplot:xlabel='count', ylabel='manufacturer'>"
      ]
     },
     "execution_count": 45,
     "metadata": {},
     "output_type": "execute_result"
    },
    {
     "data": {
      "image/png": "[encoded data removed]",
      "text/plain": [
       "<Figure size 1080x576 with 1 Axes>"
      ]
     },
     "metadata": {},
     "output_type": "display_data"
    }
   ],
   "source": [
    "sns.set(rc = {'figure.figsize':(15,8)})\n",
    "sns.countplot(y = 'manufacturer', orient = 'h', order = df['manufacturer'].value_counts().index,data = df)"
   ]
  },
  {
   "cell_type": "markdown",
   "metadata": {},
   "source": [
    "Our dataset appears to be dominated by three manufacturers in particular: Ford, Chevrolet, and Toyota."
   ]
  },
  {
   "cell_type": "code",
   "execution_count": 46,
   "metadata": {},
   "outputs": [
    {
     "data": {
      "text/html": [
       "<div>\n",
       "<style scoped>\n",
       "    .dataframe tbody tr th:only-of-type {\n",
       "        vertical-align: middle;\n",
       "    }\n",
       "\n",
       "    .dataframe tbody tr th {\n",
       "        vertical-align: top;\n",
       "    }\n",
       "\n",
       "    .dataframe thead th {\n",
       "        text-align: right;\n",
       "    }\n",
       "</style>\n",
       "<table border=\"1\" class=\"dataframe\">\n",
       "  <thead>\n",
       "    <tr style=\"text-align: right;\">\n",
       "      <th></th>\n",
       "      <th>count</th>\n",
       "      <th>mean</th>\n",
       "      <th>std</th>\n",
       "      <th>min</th>\n",
       "      <th>25%</th>\n",
       "      <th>50%</th>\n",
       "      <th>75%</th>\n",
       "      <th>max</th>\n",
       "    </tr>\n",
       "    <tr>\n",
       "      <th>manufacturer</th>\n",
       "      <th></th>\n",
       "      <th></th>\n",
       "      <th></th>\n",
       "      <th></th>\n",
       "      <th></th>\n",
       "      <th></th>\n",
       "      <th></th>\n",
       "      <th></th>\n",
       "    </tr>\n",
       "  </thead>\n",
       "  <tbody>\n",
       "    <tr>\n",
       "      <th>acura</th>\n",
       "      <td>5543.0</td>\n",
       "      <td>21251.9</td>\n",
       "      <td>12951.4</td>\n",
       "      <td>116.0</td>\n",
       "      <td>10369.0</td>\n",
       "      <td>20289.0</td>\n",
       "      <td>31355.0</td>\n",
       "      <td>139999.0</td>\n",
       "    </tr>\n",
       "    <tr>\n",
       "      <th>alfa-romeo</th>\n",
       "      <td>828.0</td>\n",
       "      <td>29423.2</td>\n",
       "      <td>5216.7</td>\n",
       "      <td>1000.0</td>\n",
       "      <td>27990.0</td>\n",
       "      <td>29590.0</td>\n",
       "      <td>31146.8</td>\n",
       "      <td>62950.0</td>\n",
       "    </tr>\n",
       "    <tr>\n",
       "      <th>aston-martin</th>\n",
       "      <td>21.0</td>\n",
       "      <td>61136.6</td>\n",
       "      <td>46597.1</td>\n",
       "      <td>1947.0</td>\n",
       "      <td>37000.0</td>\n",
       "      <td>52000.0</td>\n",
       "      <td>74991.0</td>\n",
       "      <td>179888.0</td>\n",
       "    </tr>\n",
       "    <tr>\n",
       "      <th>audi</th>\n",
       "      <td>7031.0</td>\n",
       "      <td>25149.0</td>\n",
       "      <td>15270.7</td>\n",
       "      <td>129.0</td>\n",
       "      <td>13995.0</td>\n",
       "      <td>24990.0</td>\n",
       "      <td>33990.0</td>\n",
       "      <td>160000.0</td>\n",
       "    </tr>\n",
       "    <tr>\n",
       "      <th>bmw</th>\n",
       "      <td>13402.0</td>\n",
       "      <td>20700.8</td>\n",
       "      <td>13169.9</td>\n",
       "      <td>101.0</td>\n",
       "      <td>10988.0</td>\n",
       "      <td>17999.0</td>\n",
       "      <td>28909.0</td>\n",
       "      <td>138000.0</td>\n",
       "    </tr>\n",
       "    <tr>\n",
       "      <th>buick</th>\n",
       "      <td>4963.0</td>\n",
       "      <td>15234.9</td>\n",
       "      <td>11414.7</td>\n",
       "      <td>104.0</td>\n",
       "      <td>5900.0</td>\n",
       "      <td>12988.0</td>\n",
       "      <td>22590.0</td>\n",
       "      <td>123456.0</td>\n",
       "    </tr>\n",
       "    <tr>\n",
       "      <th>cadillac</th>\n",
       "      <td>6282.0</td>\n",
       "      <td>20735.0</td>\n",
       "      <td>14839.4</td>\n",
       "      <td>135.0</td>\n",
       "      <td>8900.0</td>\n",
       "      <td>17882.5</td>\n",
       "      <td>31590.0</td>\n",
       "      <td>195000.0</td>\n",
       "    </tr>\n",
       "    <tr>\n",
       "      <th>chevrolet</th>\n",
       "      <td>47490.0</td>\n",
       "      <td>20242.4</td>\n",
       "      <td>15605.7</td>\n",
       "      <td>108.0</td>\n",
       "      <td>7995.0</td>\n",
       "      <td>16000.5</td>\n",
       "      <td>29980.0</td>\n",
       "      <td>152995.0</td>\n",
       "    </tr>\n",
       "    <tr>\n",
       "      <th>chrysler</th>\n",
       "      <td>5421.0</td>\n",
       "      <td>10952.2</td>\n",
       "      <td>9216.1</td>\n",
       "      <td>116.0</td>\n",
       "      <td>4750.0</td>\n",
       "      <td>7996.0</td>\n",
       "      <td>15561.0</td>\n",
       "      <td>290000.0</td>\n",
       "    </tr>\n",
       "    <tr>\n",
       "      <th>datsun</th>\n",
       "      <td>58.0</td>\n",
       "      <td>16387.7</td>\n",
       "      <td>9045.0</td>\n",
       "      <td>2200.0</td>\n",
       "      <td>8124.2</td>\n",
       "      <td>18700.0</td>\n",
       "      <td>23000.0</td>\n",
       "      <td>30000.0</td>\n",
       "    </tr>\n",
       "    <tr>\n",
       "      <th>dodge</th>\n",
       "      <td>11710.0</td>\n",
       "      <td>16243.1</td>\n",
       "      <td>14026.8</td>\n",
       "      <td>103.0</td>\n",
       "      <td>5990.0</td>\n",
       "      <td>11995.0</td>\n",
       "      <td>23999.0</td>\n",
       "      <td>180000.0</td>\n",
       "    </tr>\n",
       "    <tr>\n",
       "      <th>ferrari</th>\n",
       "      <td>77.0</td>\n",
       "      <td>125314.0</td>\n",
       "      <td>71083.4</td>\n",
       "      <td>2034.0</td>\n",
       "      <td>85500.0</td>\n",
       "      <td>105000.0</td>\n",
       "      <td>149995.0</td>\n",
       "      <td>349999.0</td>\n",
       "    </tr>\n",
       "    <tr>\n",
       "      <th>fiat</th>\n",
       "      <td>754.0</td>\n",
       "      <td>12436.3</td>\n",
       "      <td>7045.8</td>\n",
       "      <td>159.0</td>\n",
       "      <td>6496.2</td>\n",
       "      <td>10600.0</td>\n",
       "      <td>19990.0</td>\n",
       "      <td>32500.0</td>\n",
       "    </tr>\n",
       "    <tr>\n",
       "      <th>ford</th>\n",
       "      <td>61453.0</td>\n",
       "      <td>21357.2</td>\n",
       "      <td>16055.9</td>\n",
       "      <td>101.0</td>\n",
       "      <td>8800.0</td>\n",
       "      <td>17500.0</td>\n",
       "      <td>30900.0</td>\n",
       "      <td>225000.0</td>\n",
       "    </tr>\n",
       "    <tr>\n",
       "      <th>gmc</th>\n",
       "      <td>14673.0</td>\n",
       "      <td>25553.6</td>\n",
       "      <td>17005.0</td>\n",
       "      <td>123.0</td>\n",
       "      <td>11600.0</td>\n",
       "      <td>24590.0</td>\n",
       "      <td>34995.0</td>\n",
       "      <td>175000.0</td>\n",
       "    </tr>\n",
       "    <tr>\n",
       "      <th>harley-davidson</th>\n",
       "      <td>132.0</td>\n",
       "      <td>12981.6</td>\n",
       "      <td>5963.9</td>\n",
       "      <td>192.0</td>\n",
       "      <td>7995.0</td>\n",
       "      <td>11975.0</td>\n",
       "      <td>18125.0</td>\n",
       "      <td>27000.0</td>\n",
       "    </tr>\n",
       "    <tr>\n",
       "      <th>honda</th>\n",
       "      <td>18959.0</td>\n",
       "      <td>11754.1</td>\n",
       "      <td>8383.4</td>\n",
       "      <td>101.0</td>\n",
       "      <td>5500.0</td>\n",
       "      <td>9470.0</td>\n",
       "      <td>16222.0</td>\n",
       "      <td>123456.0</td>\n",
       "    </tr>\n",
       "    <tr>\n",
       "      <th>hyundai</th>\n",
       "      <td>9098.0</td>\n",
       "      <td>12001.4</td>\n",
       "      <td>7190.4</td>\n",
       "      <td>113.0</td>\n",
       "      <td>6500.0</td>\n",
       "      <td>10800.0</td>\n",
       "      <td>16990.0</td>\n",
       "      <td>49788.0</td>\n",
       "    </tr>\n",
       "    <tr>\n",
       "      <th>infiniti</th>\n",
       "      <td>4379.0</td>\n",
       "      <td>21238.8</td>\n",
       "      <td>11015.8</td>\n",
       "      <td>137.0</td>\n",
       "      <td>11995.0</td>\n",
       "      <td>21590.0</td>\n",
       "      <td>28990.0</td>\n",
       "      <td>69995.0</td>\n",
       "    </tr>\n",
       "    <tr>\n",
       "      <th>jaguar</th>\n",
       "      <td>1796.0</td>\n",
       "      <td>26408.1</td>\n",
       "      <td>14366.5</td>\n",
       "      <td>134.0</td>\n",
       "      <td>15497.0</td>\n",
       "      <td>28590.0</td>\n",
       "      <td>35590.0</td>\n",
       "      <td>150000.0</td>\n",
       "    </tr>\n",
       "    <tr>\n",
       "      <th>jeep</th>\n",
       "      <td>16618.0</td>\n",
       "      <td>20072.3</td>\n",
       "      <td>13054.5</td>\n",
       "      <td>111.0</td>\n",
       "      <td>8999.0</td>\n",
       "      <td>18793.5</td>\n",
       "      <td>28997.0</td>\n",
       "      <td>140000.0</td>\n",
       "    </tr>\n",
       "    <tr>\n",
       "      <th>kia</th>\n",
       "      <td>7291.0</td>\n",
       "      <td>12548.4</td>\n",
       "      <td>7488.2</td>\n",
       "      <td>101.0</td>\n",
       "      <td>6995.0</td>\n",
       "      <td>11900.0</td>\n",
       "      <td>16990.0</td>\n",
       "      <td>55000.0</td>\n",
       "    </tr>\n",
       "    <tr>\n",
       "      <th>land rover</th>\n",
       "      <td>11.0</td>\n",
       "      <td>15103.0</td>\n",
       "      <td>18222.5</td>\n",
       "      <td>3199.0</td>\n",
       "      <td>5747.5</td>\n",
       "      <td>7995.0</td>\n",
       "      <td>10499.5</td>\n",
       "      <td>55000.0</td>\n",
       "    </tr>\n",
       "    <tr>\n",
       "      <th>lexus</th>\n",
       "      <td>7501.0</td>\n",
       "      <td>20716.3</td>\n",
       "      <td>11886.5</td>\n",
       "      <td>116.0</td>\n",
       "      <td>10500.0</td>\n",
       "      <td>19999.0</td>\n",
       "      <td>29798.0</td>\n",
       "      <td>114950.0</td>\n",
       "    </tr>\n",
       "    <tr>\n",
       "      <th>lincoln</th>\n",
       "      <td>3920.0</td>\n",
       "      <td>20758.5</td>\n",
       "      <td>13884.8</td>\n",
       "      <td>123.0</td>\n",
       "      <td>8900.0</td>\n",
       "      <td>18969.0</td>\n",
       "      <td>30590.0</td>\n",
       "      <td>215000.0</td>\n",
       "    </tr>\n",
       "    <tr>\n",
       "      <th>mazda</th>\n",
       "      <td>4878.0</td>\n",
       "      <td>13517.0</td>\n",
       "      <td>9307.7</td>\n",
       "      <td>103.0</td>\n",
       "      <td>5900.0</td>\n",
       "      <td>9999.0</td>\n",
       "      <td>19990.8</td>\n",
       "      <td>45000.0</td>\n",
       "    </tr>\n",
       "    <tr>\n",
       "      <th>mercedes-benz</th>\n",
       "      <td>9943.0</td>\n",
       "      <td>22171.5</td>\n",
       "      <td>17737.1</td>\n",
       "      <td>101.0</td>\n",
       "      <td>9999.0</td>\n",
       "      <td>18999.0</td>\n",
       "      <td>30495.0</td>\n",
       "      <td>255000.0</td>\n",
       "    </tr>\n",
       "    <tr>\n",
       "      <th>mercury</th>\n",
       "      <td>1084.0</td>\n",
       "      <td>5734.4</td>\n",
       "      <td>6074.1</td>\n",
       "      <td>101.0</td>\n",
       "      <td>2900.0</td>\n",
       "      <td>4500.0</td>\n",
       "      <td>6495.0</td>\n",
       "      <td>95000.0</td>\n",
       "    </tr>\n",
       "    <tr>\n",
       "      <th>mini</th>\n",
       "      <td>2218.0</td>\n",
       "      <td>15033.6</td>\n",
       "      <td>9232.5</td>\n",
       "      <td>109.0</td>\n",
       "      <td>7500.0</td>\n",
       "      <td>12997.5</td>\n",
       "      <td>21435.5</td>\n",
       "      <td>42500.0</td>\n",
       "    </tr>\n",
       "    <tr>\n",
       "      <th>mitsubishi</th>\n",
       "      <td>2897.0</td>\n",
       "      <td>14840.2</td>\n",
       "      <td>8671.9</td>\n",
       "      <td>128.0</td>\n",
       "      <td>6795.0</td>\n",
       "      <td>15590.0</td>\n",
       "      <td>20590.0</td>\n",
       "      <td>40000.0</td>\n",
       "    </tr>\n",
       "    <tr>\n",
       "      <th>morgan</th>\n",
       "      <td>3.0</td>\n",
       "      <td>13100.0</td>\n",
       "      <td>20268.9</td>\n",
       "      <td>1000.0</td>\n",
       "      <td>1400.0</td>\n",
       "      <td>1800.0</td>\n",
       "      <td>19150.0</td>\n",
       "      <td>36500.0</td>\n",
       "    </tr>\n",
       "    <tr>\n",
       "      <th>nissan</th>\n",
       "      <td>16772.0</td>\n",
       "      <td>13091.6</td>\n",
       "      <td>9774.3</td>\n",
       "      <td>101.0</td>\n",
       "      <td>5999.0</td>\n",
       "      <td>10500.0</td>\n",
       "      <td>17989.0</td>\n",
       "      <td>169999.0</td>\n",
       "    </tr>\n",
       "    <tr>\n",
       "      <th>pontiac</th>\n",
       "      <td>2128.0</td>\n",
       "      <td>8278.8</td>\n",
       "      <td>9155.8</td>\n",
       "      <td>109.0</td>\n",
       "      <td>3500.0</td>\n",
       "      <td>4995.0</td>\n",
       "      <td>8500.0</td>\n",
       "      <td>98000.0</td>\n",
       "    </tr>\n",
       "    <tr>\n",
       "      <th>porsche</th>\n",
       "      <td>1272.0</td>\n",
       "      <td>33665.4</td>\n",
       "      <td>26681.6</td>\n",
       "      <td>159.0</td>\n",
       "      <td>16375.0</td>\n",
       "      <td>29997.0</td>\n",
       "      <td>39990.0</td>\n",
       "      <td>244999.0</td>\n",
       "    </tr>\n",
       "    <tr>\n",
       "      <th>ram</th>\n",
       "      <td>15636.0</td>\n",
       "      <td>30459.4</td>\n",
       "      <td>15695.8</td>\n",
       "      <td>101.0</td>\n",
       "      <td>19900.0</td>\n",
       "      <td>30495.0</td>\n",
       "      <td>39995.0</td>\n",
       "      <td>110000.0</td>\n",
       "    </tr>\n",
       "    <tr>\n",
       "      <th>rover</th>\n",
       "      <td>1917.0</td>\n",
       "      <td>28965.2</td>\n",
       "      <td>20220.8</td>\n",
       "      <td>101.0</td>\n",
       "      <td>14900.0</td>\n",
       "      <td>24999.0</td>\n",
       "      <td>38950.0</td>\n",
       "      <td>129888.0</td>\n",
       "    </tr>\n",
       "    <tr>\n",
       "      <th>saturn</th>\n",
       "      <td>1040.0</td>\n",
       "      <td>5229.3</td>\n",
       "      <td>4203.9</td>\n",
       "      <td>188.0</td>\n",
       "      <td>2999.8</td>\n",
       "      <td>4297.5</td>\n",
       "      <td>5495.0</td>\n",
       "      <td>22000.0</td>\n",
       "    </tr>\n",
       "    <tr>\n",
       "      <th>subaru</th>\n",
       "      <td>8666.0</td>\n",
       "      <td>13984.8</td>\n",
       "      <td>9126.7</td>\n",
       "      <td>108.0</td>\n",
       "      <td>6998.0</td>\n",
       "      <td>11980.0</td>\n",
       "      <td>19977.0</td>\n",
       "      <td>195000.0</td>\n",
       "    </tr>\n",
       "    <tr>\n",
       "      <th>tesla</th>\n",
       "      <td>836.0</td>\n",
       "      <td>39638.3</td>\n",
       "      <td>14066.6</td>\n",
       "      <td>348.0</td>\n",
       "      <td>32990.0</td>\n",
       "      <td>37990.0</td>\n",
       "      <td>40990.0</td>\n",
       "      <td>104990.0</td>\n",
       "    </tr>\n",
       "    <tr>\n",
       "      <th>toyota</th>\n",
       "      <td>29819.0</td>\n",
       "      <td>17499.9</td>\n",
       "      <td>12491.7</td>\n",
       "      <td>101.0</td>\n",
       "      <td>7000.0</td>\n",
       "      <td>14500.0</td>\n",
       "      <td>25998.0</td>\n",
       "      <td>131500.0</td>\n",
       "    </tr>\n",
       "    <tr>\n",
       "      <th>volkswagen</th>\n",
       "      <td>8453.0</td>\n",
       "      <td>13614.2</td>\n",
       "      <td>8730.4</td>\n",
       "      <td>101.0</td>\n",
       "      <td>6900.0</td>\n",
       "      <td>12000.0</td>\n",
       "      <td>18900.0</td>\n",
       "      <td>149000.0</td>\n",
       "    </tr>\n",
       "    <tr>\n",
       "      <th>volvo</th>\n",
       "      <td>3094.0</td>\n",
       "      <td>18510.9</td>\n",
       "      <td>14718.2</td>\n",
       "      <td>170.0</td>\n",
       "      <td>5950.0</td>\n",
       "      <td>13993.0</td>\n",
       "      <td>29990.0</td>\n",
       "      <td>144832.0</td>\n",
       "    </tr>\n",
       "  </tbody>\n",
       "</table>\n",
       "</div>"
      ],
      "text/plain": [
       "                   count      mean      std     min      25%       50%  \\\n",
       "manufacturer                                                             \n",
       "acura             5543.0   21251.9  12951.4   116.0  10369.0   20289.0   \n",
       "alfa-romeo         828.0   29423.2   5216.7  1000.0  27990.0   29590.0   \n",
       "aston-martin        21.0   61136.6  46597.1  1947.0  37000.0   52000.0   \n",
       "audi              7031.0   25149.0  15270.7   129.0  13995.0   24990.0   \n",
       "bmw              13402.0   20700.8  13169.9   101.0  10988.0   17999.0   \n",
       "buick             4963.0   15234.9  11414.7   104.0   5900.0   12988.0   \n",
       "cadillac          6282.0   20735.0  14839.4   135.0   8900.0   17882.5   \n",
       "chevrolet        47490.0   20242.4  15605.7   108.0   7995.0   16000.5   \n",
       "chrysler          5421.0   10952.2   9216.1   116.0   4750.0    7996.0   \n",
       "datsun              58.0   16387.7   9045.0  2200.0   8124.2   18700.0   \n",
       "dodge            11710.0   16243.1  14026.8   103.0   5990.0   11995.0   \n",
       "ferrari             77.0  125314.0  71083.4  2034.0  85500.0  105000.0   \n",
       "fiat               754.0   12436.3   7045.8   159.0   6496.2   10600.0   \n",
       "ford             61453.0   21357.2  16055.9   101.0   8800.0   17500.0   \n",
       "gmc              14673.0   25553.6  17005.0   123.0  11600.0   24590.0   \n",
       "harley-davidson    132.0   12981.6   5963.9   192.0   7995.0   11975.0   \n",
       "honda            18959.0   11754.1   8383.4   101.0   5500.0    9470.0   \n",
       "hyundai           9098.0   12001.4   7190.4   113.0   6500.0   10800.0   \n",
       "infiniti          4379.0   21238.8  11015.8   137.0  11995.0   21590.0   \n",
       "jaguar            1796.0   26408.1  14366.5   134.0  15497.0   28590.0   \n",
       "jeep             16618.0   20072.3  13054.5   111.0   8999.0   18793.5   \n",
       "kia               7291.0   12548.4   7488.2   101.0   6995.0   11900.0   \n",
       "land rover          11.0   15103.0  18222.5  3199.0   5747.5    7995.0   \n",
       "lexus             7501.0   20716.3  11886.5   116.0  10500.0   19999.0   \n",
       "lincoln           3920.0   20758.5  13884.8   123.0   8900.0   18969.0   \n",
       "mazda             4878.0   13517.0   9307.7   103.0   5900.0    9999.0   \n",
       "mercedes-benz     9943.0   22171.5  17737.1   101.0   9999.0   18999.0   \n",
       "mercury           1084.0    5734.4   6074.1   101.0   2900.0    4500.0   \n",
       "mini              2218.0   15033.6   9232.5   109.0   7500.0   12997.5   \n",
       "mitsubishi        2897.0   14840.2   8671.9   128.0   6795.0   15590.0   \n",
       "morgan               3.0   13100.0  20268.9  1000.0   1400.0    1800.0   \n",
       "nissan           16772.0   13091.6   9774.3   101.0   5999.0   10500.0   \n",
       "pontiac           2128.0    8278.8   9155.8   109.0   3500.0    4995.0   \n",
       "porsche           1272.0   33665.4  26681.6   159.0  16375.0   29997.0   \n",
       "ram              15636.0   30459.4  15695.8   101.0  19900.0   30495.0   \n",
       "rover             1917.0   28965.2  20220.8   101.0  14900.0   24999.0   \n",
       "saturn            1040.0    5229.3   4203.9   188.0   2999.8    4297.5   \n",
       "subaru            8666.0   13984.8   9126.7   108.0   6998.0   11980.0   \n",
       "tesla              836.0   39638.3  14066.6   348.0  32990.0   37990.0   \n",
       "toyota           29819.0   17499.9  12491.7   101.0   7000.0   14500.0   \n",
       "volkswagen        8453.0   13614.2   8730.4   101.0   6900.0   12000.0   \n",
       "volvo             3094.0   18510.9  14718.2   170.0   5950.0   13993.0   \n",
       "\n",
       "                      75%       max  \n",
       "manufacturer                         \n",
       "acura             31355.0  139999.0  \n",
       "alfa-romeo        31146.8   62950.0  \n",
       "aston-martin      74991.0  179888.0  \n",
       "audi              33990.0  160000.0  \n",
       "bmw               28909.0  138000.0  \n",
       "buick             22590.0  123456.0  \n",
       "cadillac          31590.0  195000.0  \n",
       "chevrolet         29980.0  152995.0  \n",
       "chrysler          15561.0  290000.0  \n",
       "datsun            23000.0   30000.0  \n",
       "dodge             23999.0  180000.0  \n",
       "ferrari          149995.0  349999.0  \n",
       "fiat              19990.0   32500.0  \n",
       "ford              30900.0  225000.0  \n",
       "gmc               34995.0  175000.0  \n",
       "harley-davidson   18125.0   27000.0  \n",
       "honda             16222.0  123456.0  \n",
       "hyundai           16990.0   49788.0  \n",
       "infiniti          28990.0   69995.0  \n",
       "jaguar            35590.0  150000.0  \n",
       "jeep              28997.0  140000.0  \n",
       "kia               16990.0   55000.0  \n",
       "land rover        10499.5   55000.0  \n",
       "lexus             29798.0  114950.0  \n",
       "lincoln           30590.0  215000.0  \n",
       "mazda             19990.8   45000.0  \n",
       "mercedes-benz     30495.0  255000.0  \n",
       "mercury            6495.0   95000.0  \n",
       "mini              21435.5   42500.0  \n",
       "mitsubishi        20590.0   40000.0  \n",
       "morgan            19150.0   36500.0  \n",
       "nissan            17989.0  169999.0  \n",
       "pontiac            8500.0   98000.0  \n",
       "porsche           39990.0  244999.0  \n",
       "ram               39995.0  110000.0  \n",
       "rover             38950.0  129888.0  \n",
       "saturn             5495.0   22000.0  \n",
       "subaru            19977.0  195000.0  \n",
       "tesla             40990.0  104990.0  \n",
       "toyota            25998.0  131500.0  \n",
       "volkswagen        18900.0  149000.0  \n",
       "volvo             29990.0  144832.0  "
      ]
     },
     "execution_count": 46,
     "metadata": {},
     "output_type": "execute_result"
    }
   ],
   "source": [
    "manufacturer_price = df.groupby('manufacturer')['price']\n",
    "manufacturer_price.describe().apply(lambda s: s.apply('{0:.1f}'.format))"
   ]
  },
  {
   "cell_type": "markdown",
   "metadata": {},
   "source": [
    "The table above shows that manufacturer is in fact important when determining used car price. This is expected given that exotic brands such as 'aston-martin' and 'ferrari' tend to sell new cars at higher prices when compared to other manufacturers. This difference can also be attributed due to the rarity of certain brands."
   ]
  },
  {
   "cell_type": "markdown",
   "metadata": {},
   "source": [
    "#### Condition, Number of Cylinders, and Title Status:"
   ]
  },
  {
   "cell_type": "code",
   "execution_count": 73,
   "metadata": {},
   "outputs": [
    {
     "data": {
      "text/plain": [
       "Text(0.5, 1.0, 'Counts Of Cars Grouped By Title Status')"
      ]
     },
     "execution_count": 73,
     "metadata": {},
     "output_type": "execute_result"
    },
    {
     "data": {
      "image/png": "[encoded data removed]",
      "text/plain": [
       "<Figure size 1080x360 with 3 Axes>"
      ]
     },
     "metadata": {},
     "output_type": "display_data"
    }
   ],
   "source": [
    "fig, axs = plt.subplots(ncols=3)\n",
    "sns.countplot(data = df, x = 'condition', ax=axs[0]).set(xticklabels=[\"Salvage\", \"Fair\", \"Good\", \"Like New\", \"New\", \"Excellent\"])\n",
    "sns.countplot(data = df, x = 'num_cylinders', ax=axs[1]).set(xticklabels=[\"Other\", \"3 Cyl\", \"4 Cyl\", \"5 Cyl\", \"6 Cyl\", \"8 Cyl\", \"10 Cyl\"])\n",
    "sns.countplot(data = df, x = 'title_status', ax=axs[2]).set(xticklabels=[\"Missing\", \"Lien\", \"Rebuilt\", \"Salvage\", \"Clean\"])\n",
    "fig.tight_layout(pad=2)\n",
    "fig.set_figheight(5)\n",
    "fig.set_figwidth(15)\n",
    "axs[0].set_xlabel(\"Condition\")\n",
    "axs[0].set_ylabel(\"Count\")\n",
    "axs[0].set_title(\"Counts Of Cars Grouped By Condition\")\n",
    "axs[1].set_xlabel(\"Number of Cylinders\")\n",
    "axs[1].set_ylabel(\"Count\")\n",
    "axs[1].set_title(\"Counts Of Cars Grouped By Number Of Cylinders\")\n",
    "axs[2].set_xlabel(\"Title Status\")\n",
    "axs[2].set_ylabel(\"Count\")\n",
    "axs[2].set_title(\"Counts Of Cars Grouped By Title Status\")"
   ]
  },
  {
   "cell_type": "markdown",
   "metadata": {},
   "source": [
    "The count plots up above show that within each of our selected categorical variables, there tends to be a skew. When it comes to condition, our dataset is dominated by cars which where in good and excellent condition. Furthermore, we can see that almost all of the cars sold has a 'clean' title status. Finally, we can see that the cars within our dataset primarily have 4, 6, or 8 cylinders. The skew in our data might make our model biased, making it difficult as a metric to find the 'general' used car prices given the lack of data for certain categories."
   ]
  },
  {
   "cell_type": "code",
   "execution_count": 74,
   "metadata": {},
   "outputs": [
    {
     "data": {
      "text/plain": [
       "Text(0.5, 1.0, 'Average Price Grouped By Title Status')"
      ]
     },
     "execution_count": 74,
     "metadata": {},
     "output_type": "execute_result"
    },
    {
     "data": {
      "image/png": "[encoded data removed]",
      "text/plain": [
       "<Figure size 1080x360 with 3 Axes>"
      ]
     },
     "metadata": {},
     "output_type": "display_data"
    }
   ],
   "source": [
    "fig, axs = plt.subplots(ncols=3)\n",
    "sns.barplot(data = df_vis, x = 'condition', y = 'price', ax=axs[0]).set(xticklabels=[\"Salvage\", \"Fair\", \"Good\", \"Like New\", \"New\", \"Excellent\"])\n",
    "sns.barplot(data = df_vis, x = 'num_cylinders', y = 'price', ax=axs[1]).set(xticklabels=[\"Other\", \"3 Cyl\", \"4 Cyl\", \"5 Cyl\", \"6 Cyl\", \"8 Cyl\", \"10 Cyl\"])\n",
    "sns.barplot(data = df_vis, x = 'title_status', y = 'price', ax=axs[2]).set(xticklabels=[\"Missing\", \"Lien\", \"Rebuilt\", \"Salvage\", \"Clean\"])\n",
    "fig.tight_layout(pad=2)\n",
    "fig.set_figheight(5)\n",
    "fig.set_figwidth(15)\n",
    "axs[0].set_xlabel(\"Condition\")\n",
    "axs[0].set_ylabel(\"Count\")\n",
    "axs[0].set_title(\"Average Price Grouped By Condition\")\n",
    "axs[1].set_xlabel(\"Number of Cylinders\")\n",
    "axs[1].set_ylabel(\"Count\")\n",
    "axs[1].set_title(\"Average Price Grouped By Number Of Cylinders\")\n",
    "axs[2].set_xlabel(\"Title Status\")\n",
    "axs[2].set_ylabel(\"Count\")\n",
    "axs[2].set_title(\"Average Price Grouped By Title Status\")"
   ]
  },
  {
   "cell_type": "markdown",
   "metadata": {},
   "source": [
    "Looking at the bar plots above, we can see that price does change when looking at our selected categorical variables indendently. Surprisingly, cars with a 'good' condition tend, on average, to have higher sell prices than those in 'excellent' condition. This is perhaps reflective of the fact that these categorical variables are slightly ambiguous and hard to determine from sale to sale. In general, the barplot shows that the cars with more cylinders do not necessarily have higher sell prices. This is evident by the fact that cars with 5 cylinders sold for less on average than those with either 3 or 4 cylinders. Finally, we can see that title status does impact price, potentially making title status a good predictor."
   ]
  },
  {
   "cell_type": "markdown",
   "metadata": {},
   "source": [
    "#### States:"
   ]
  },
  {
   "cell_type": "code",
   "execution_count": 77,
   "metadata": {},
   "outputs": [
    {
     "data": {
      "text/plain": [
       "<AxesSubplot:xlabel='count', ylabel='state'>"
      ]
     },
     "execution_count": 77,
     "metadata": {},
     "output_type": "execute_result"
    },
    {
     "data": {
      "image/png": "[encoded data removed]",
      "text/plain": [
       "<Figure size 1080x576 with 1 Axes>"
      ]
     },
     "metadata": {},
     "output_type": "display_data"
    }
   ],
   "source": [
    "sns.countplot(data = df, y = 'state', order = df['state'].value_counts().index)"
   ]
  },
  {
   "cell_type": "markdown",
   "metadata": {},
   "source": [
    "Most of the cars within our dataset came from California. This could perhaps affect our model given that price could vary between different regions, which our model could not accurately account for given the lack of data for certain states compared to others."
   ]
  },
  {
   "cell_type": "markdown",
   "metadata": {},
   "source": [
    "## Quantitative Variables:"
   ]
  },
  {
   "cell_type": "code",
   "execution_count": 75,
   "metadata": {},
   "outputs": [
    {
     "data": {
      "text/plain": [
       "count    373598.00000\n",
       "mean      91199.51474\n",
       "std       58522.95875\n",
       "min         501.00000\n",
       "25%       39676.25000\n",
       "50%       87211.50000\n",
       "75%      133685.00000\n",
       "max      249961.00000\n",
       "Name: miles_driven, dtype: float64"
      ]
     },
     "execution_count": 75,
     "metadata": {},
     "output_type": "execute_result"
    }
   ],
   "source": [
    "df['miles_driven'].describe()"
   ]
  },
  {
   "cell_type": "code",
   "execution_count": 76,
   "metadata": {},
   "outputs": [
    {
     "data": {
      "text/plain": [
       "array([[<AxesSubplot:xlabel='miles_driven', ylabel='miles_driven'>,\n",
       "        <AxesSubplot:xlabel='price', ylabel='miles_driven'>],\n",
       "       [<AxesSubplot:xlabel='miles_driven', ylabel='price'>,\n",
       "        <AxesSubplot:xlabel='price', ylabel='price'>]], dtype=object)"
      ]
     },
     "execution_count": 76,
     "metadata": {},
     "output_type": "execute_result"
    },
    {
     "data": {
      "image/png": "[encoded data removed]",
      "text/plain": [
       "<Figure size 1080x576 with 4 Axes>"
      ]
     },
     "metadata": {},
     "output_type": "display_data"
    }
   ],
   "source": [
    "df_scatter = df[['miles_driven', 'price']]\n",
    "pd.plotting.scatter_matrix(df_scatter, alpha=0.2)"
   ]
  },
  {
   "cell_type": "markdown",
   "metadata": {},
   "source": [
    "Looking at the scatter matrix above, we see that our quantatative variable do influence the sell price of the car. The 'miles_driven' and 'price' graph shows that price decreases as the number of miles a car has driven increases."
   ]
  },
  {
   "cell_type": "markdown",
   "metadata": {},
   "source": [
    "# Model Creation & Result"
   ]
  },
  {
   "cell_type": "markdown",
   "metadata": {},
   "source": [
    "Extract price from our data since it is the varible that we will be predicting."
   ]
  },
  {
   "cell_type": "code",
   "execution_count": 59,
   "metadata": {},
   "outputs": [],
   "source": [
    "X = df_onehot\n",
    "y = df['price']"
   ]
  },
  {
   "cell_type": "code",
   "execution_count": 160,
   "metadata": {
    "scrolled": true
   },
   "outputs": [
    {
     "data": {
      "text/html": [
       "<div>\n",
       "<style scoped>\n",
       "    .dataframe tbody tr th:only-of-type {\n",
       "        vertical-align: middle;\n",
       "    }\n",
       "\n",
       "    .dataframe tbody tr th {\n",
       "        vertical-align: top;\n",
       "    }\n",
       "\n",
       "    .dataframe thead th {\n",
       "        text-align: right;\n",
       "    }\n",
       "</style>\n",
       "<table border=\"1\" class=\"dataframe\">\n",
       "  <thead>\n",
       "    <tr style=\"text-align: right;\">\n",
       "      <th></th>\n",
       "      <th>miles_driven</th>\n",
       "      <th>title_status</th>\n",
       "      <th>num_cylinders</th>\n",
       "      <th>condition</th>\n",
       "      <th>manufacturer_acura</th>\n",
       "      <th>manufacturer_alfa-romeo</th>\n",
       "      <th>manufacturer_aston-martin</th>\n",
       "      <th>manufacturer_audi</th>\n",
       "      <th>manufacturer_bmw</th>\n",
       "      <th>manufacturer_buick</th>\n",
       "      <th>...</th>\n",
       "      <th>manufacturer_pontiac</th>\n",
       "      <th>manufacturer_porsche</th>\n",
       "      <th>manufacturer_ram</th>\n",
       "      <th>manufacturer_rover</th>\n",
       "      <th>manufacturer_saturn</th>\n",
       "      <th>manufacturer_subaru</th>\n",
       "      <th>manufacturer_tesla</th>\n",
       "      <th>manufacturer_toyota</th>\n",
       "      <th>manufacturer_volkswagen</th>\n",
       "      <th>manufacturer_volvo</th>\n",
       "    </tr>\n",
       "  </thead>\n",
       "  <tbody>\n",
       "    <tr>\n",
       "      <th>0</th>\n",
       "      <td>57923.0</td>\n",
       "      <td>4.0</td>\n",
       "      <td>5.0</td>\n",
       "      <td>2.0</td>\n",
       "      <td>0</td>\n",
       "      <td>0</td>\n",
       "      <td>0</td>\n",
       "      <td>0</td>\n",
       "      <td>0</td>\n",
       "      <td>0</td>\n",
       "      <td>...</td>\n",
       "      <td>0</td>\n",
       "      <td>0</td>\n",
       "      <td>0</td>\n",
       "      <td>0</td>\n",
       "      <td>0</td>\n",
       "      <td>0</td>\n",
       "      <td>0</td>\n",
       "      <td>0</td>\n",
       "      <td>0</td>\n",
       "      <td>0</td>\n",
       "    </tr>\n",
       "    <tr>\n",
       "      <th>1</th>\n",
       "      <td>71229.0</td>\n",
       "      <td>4.0</td>\n",
       "      <td>5.0</td>\n",
       "      <td>2.0</td>\n",
       "      <td>0</td>\n",
       "      <td>0</td>\n",
       "      <td>0</td>\n",
       "      <td>0</td>\n",
       "      <td>0</td>\n",
       "      <td>0</td>\n",
       "      <td>...</td>\n",
       "      <td>0</td>\n",
       "      <td>0</td>\n",
       "      <td>0</td>\n",
       "      <td>0</td>\n",
       "      <td>0</td>\n",
       "      <td>0</td>\n",
       "      <td>0</td>\n",
       "      <td>0</td>\n",
       "      <td>0</td>\n",
       "      <td>0</td>\n",
       "    </tr>\n",
       "    <tr>\n",
       "      <th>2</th>\n",
       "      <td>19160.0</td>\n",
       "      <td>4.0</td>\n",
       "      <td>5.0</td>\n",
       "      <td>2.0</td>\n",
       "      <td>0</td>\n",
       "      <td>0</td>\n",
       "      <td>0</td>\n",
       "      <td>0</td>\n",
       "      <td>0</td>\n",
       "      <td>0</td>\n",
       "      <td>...</td>\n",
       "      <td>0</td>\n",
       "      <td>0</td>\n",
       "      <td>0</td>\n",
       "      <td>0</td>\n",
       "      <td>0</td>\n",
       "      <td>0</td>\n",
       "      <td>0</td>\n",
       "      <td>0</td>\n",
       "      <td>0</td>\n",
       "      <td>0</td>\n",
       "    </tr>\n",
       "    <tr>\n",
       "      <th>3</th>\n",
       "      <td>41124.0</td>\n",
       "      <td>4.0</td>\n",
       "      <td>5.0</td>\n",
       "      <td>2.0</td>\n",
       "      <td>0</td>\n",
       "      <td>0</td>\n",
       "      <td>0</td>\n",
       "      <td>0</td>\n",
       "      <td>0</td>\n",
       "      <td>0</td>\n",
       "      <td>...</td>\n",
       "      <td>0</td>\n",
       "      <td>0</td>\n",
       "      <td>0</td>\n",
       "      <td>0</td>\n",
       "      <td>0</td>\n",
       "      <td>0</td>\n",
       "      <td>0</td>\n",
       "      <td>1</td>\n",
       "      <td>0</td>\n",
       "      <td>0</td>\n",
       "    </tr>\n",
       "    <tr>\n",
       "      <th>4</th>\n",
       "      <td>128000.0</td>\n",
       "      <td>4.0</td>\n",
       "      <td>4.0</td>\n",
       "      <td>5.0</td>\n",
       "      <td>0</td>\n",
       "      <td>0</td>\n",
       "      <td>0</td>\n",
       "      <td>0</td>\n",
       "      <td>0</td>\n",
       "      <td>0</td>\n",
       "      <td>...</td>\n",
       "      <td>0</td>\n",
       "      <td>0</td>\n",
       "      <td>0</td>\n",
       "      <td>0</td>\n",
       "      <td>0</td>\n",
       "      <td>0</td>\n",
       "      <td>0</td>\n",
       "      <td>0</td>\n",
       "      <td>0</td>\n",
       "      <td>0</td>\n",
       "    </tr>\n",
       "  </tbody>\n",
       "</table>\n",
       "<p>5 rows × 46 columns</p>\n",
       "</div>"
      ],
      "text/plain": [
       "   miles_driven  title_status  num_cylinders  condition  manufacturer_acura  \\\n",
       "0       57923.0           4.0            5.0        2.0                   0   \n",
       "1       71229.0           4.0            5.0        2.0                   0   \n",
       "2       19160.0           4.0            5.0        2.0                   0   \n",
       "3       41124.0           4.0            5.0        2.0                   0   \n",
       "4      128000.0           4.0            4.0        5.0                   0   \n",
       "\n",
       "   manufacturer_alfa-romeo  manufacturer_aston-martin  manufacturer_audi  \\\n",
       "0                        0                          0                  0   \n",
       "1                        0                          0                  0   \n",
       "2                        0                          0                  0   \n",
       "3                        0                          0                  0   \n",
       "4                        0                          0                  0   \n",
       "\n",
       "   manufacturer_bmw  manufacturer_buick  ...  manufacturer_pontiac  \\\n",
       "0                 0                   0  ...                     0   \n",
       "1                 0                   0  ...                     0   \n",
       "2                 0                   0  ...                     0   \n",
       "3                 0                   0  ...                     0   \n",
       "4                 0                   0  ...                     0   \n",
       "\n",
       "   manufacturer_porsche  manufacturer_ram  manufacturer_rover  \\\n",
       "0                     0                 0                   0   \n",
       "1                     0                 0                   0   \n",
       "2                     0                 0                   0   \n",
       "3                     0                 0                   0   \n",
       "4                     0                 0                   0   \n",
       "\n",
       "   manufacturer_saturn  manufacturer_subaru  manufacturer_tesla  \\\n",
       "0                    0                    0                   0   \n",
       "1                    0                    0                   0   \n",
       "2                    0                    0                   0   \n",
       "3                    0                    0                   0   \n",
       "4                    0                    0                   0   \n",
       "\n",
       "   manufacturer_toyota  manufacturer_volkswagen  manufacturer_volvo  \n",
       "0                    0                        0                   0  \n",
       "1                    0                        0                   0  \n",
       "2                    0                        0                   0  \n",
       "3                    1                        0                   0  \n",
       "4                    0                        0                   0  \n",
       "\n",
       "[5 rows x 46 columns]"
      ]
     },
     "execution_count": 160,
     "metadata": {},
     "output_type": "execute_result"
    }
   ],
   "source": [
    "X.head()"
   ]
  },
  {
   "cell_type": "markdown",
   "metadata": {},
   "source": [
    "Functions that we will use to determine accuracy of our model."
   ]
  },
  {
   "cell_type": "code",
   "execution_count": 145,
   "metadata": {},
   "outputs": [],
   "source": [
    "#Mean Square Error\n",
    "def MSE(pred, y_test):\n",
    "    return (((pred - y_test)**2).mean())"
   ]
  },
  {
   "cell_type": "code",
   "execution_count": 146,
   "metadata": {},
   "outputs": [],
   "source": [
    "#Root Mean Square Error\n",
    "def RMSE(pred, y_test):\n",
    "    return np.sqrt(MSE(pred, y_test))"
   ]
  },
  {
   "cell_type": "markdown",
   "metadata": {},
   "source": [
    "Used sklean's test_train_split to split our data into training and testing set with a train size of 0.7 and test size of 0.3."
   ]
  },
  {
   "cell_type": "markdown",
   "metadata": {},
   "source": [
    "We decided to use Ridge regression for our regression model."
   ]
  },
  {
   "cell_type": "markdown",
   "metadata": {},
   "source": [
    "<b>Model 1: miles_driven, title_status, manufacturer<b/>"
   ]
  },
  {
   "cell_type": "code",
   "execution_count": 154,
   "metadata": {
    "scrolled": true
   },
   "outputs": [
    {
     "name": "stdout",
     "output_type": "stream",
     "text": [
      "MSE:\t 137962234.27966952\n",
      "RMSE:\t 11745.732598678956\n"
     ]
    }
   ],
   "source": [
    "X_1 = df_onehot.drop(['num_cylinders', 'condition'], axis = 1)\n",
    "X_train, X_test, y_train, y_test = train_test_split(X_1, y, test_size=0.3)\n",
    "reg = Ridge(alpha=1)\n",
    "reg.fit(X_train, y_train)\n",
    "y_pred = reg.predict(X_test)\n",
    "print('MSE:\\t', MSE(y_pred, y_test))\n",
    "print('RMSE:\\t', RMSE(y_pred, y_test))"
   ]
  },
  {
   "cell_type": "markdown",
   "metadata": {},
   "source": [
    "<b>Model 2: miles_driven, title_status, num_cylinders<b/>"
   ]
  },
  {
   "cell_type": "code",
   "execution_count": 155,
   "metadata": {
    "scrolled": true
   },
   "outputs": [
    {
     "name": "stdout",
     "output_type": "stream",
     "text": [
      "MSE:\t 154553029.10266316\n",
      "RMSE:\t 12431.935854993106\n"
     ]
    }
   ],
   "source": [
    "X_2 = df_onehot[['miles_driven', 'title_status', 'num_cylinders']]\n",
    "X_train, X_test, y_train, y_test = train_test_split(X_2, y, test_size=0.3, random_state=42)\n",
    "reg = Ridge(alpha=1.0)\n",
    "reg.fit(X_train, y_train)\n",
    "y_pred = reg.predict(X_test)\n",
    "print('MSE:\\t', MSE(y_pred, y_test))\n",
    "print('RMSE:\\t', RMSE(y_pred, y_test))"
   ]
  },
  {
   "cell_type": "markdown",
   "metadata": {},
   "source": [
    "<b>Model 3: condition, title_status, num_cylinders<b/>"
   ]
  },
  {
   "cell_type": "code",
   "execution_count": 156,
   "metadata": {
    "scrolled": true
   },
   "outputs": [
    {
     "name": "stdout",
     "output_type": "stream",
     "text": [
      "MSE:\t 217253580.04708567\n",
      "RMSE:\t 14739.524417262779\n"
     ]
    }
   ],
   "source": [
    "X_3 = df_onehot[['condition', 'title_status', 'num_cylinders']]\n",
    "X_train, X_test, y_train, y_test = train_test_split(X_3, y, test_size=0.3, random_state=42)\n",
    "reg = Ridge(alpha=1.0)\n",
    "reg.fit(X_train, y_train)\n",
    "y_pred = reg.predict(X_test)\n",
    "print('MSE:\\t', MSE(y_pred, y_test))\n",
    "print('RMSE:\\t', RMSE(y_pred, y_test))\n"
   ]
  },
  {
   "cell_type": "markdown",
   "metadata": {},
   "source": [
    "Model 1 with RMSE as 11745.73 yields the best result out of all three models."
   ]
  },
  {
   "cell_type": "markdown",
   "metadata": {},
   "source": [
    "# Ethics & Privacy"
   ]
  },
  {
   "cell_type": "markdown",
   "metadata": {},
   "source": [
    "The license plate information, Craigslist user upload URLs, and VIN numbers are all privacy concerns because these data can be used to track back to a specific user. Since that is personally identifiable information, these columns will be dropped during the data cleaning process in order to protect the privacy of the users.\n",
    "\n",
    "In regards to the privacy of the data, because all of the personal identifiable information for each user is dropped, there is no way to connect a user to their car anymore, which maintains the user’s privacy. However, because the state where the car was listed is still being used for analysis, there is still some private information being used. Despite this, it would be very difficult to track down the exact user from simply knowing their state, which means that this should not be that big of a concern. Additionally, when the URLs to the posting were clicked on, they were no longer found (even though this variable was removed from the data) which is another way the user’s data was kept private. The data was also taken under the public domain usage, meaning that it was publicly available for use. \n",
    "\n",
    "In short, most of the personal identification information from the dataset has been removed and the only possible identification variable that could be used is not specific enough to trace back the user. \n"
   ]
  },
  {
   "cell_type": "markdown",
   "metadata": {},
   "source": [
    "# Conclusion & Discussion"
   ]
  },
  {
   "cell_type": "markdown",
   "metadata": {},
   "source": [
    "After training and testing each of the three linear regression models, the results show that the model that used miles_driven, title_status, manufacturer as features was the most successful at predicting the price of a used car in the dataset as it had the lowest RMSE and MSE out of all the models, which supports our hypothesis. This conclusion does make sense as these features are the most important factors in determining the car as they have a large impact on how the car would run, and thus how it would be priced. \n",
    "\n",
    "The target audience of individuals who are either seeking or looking to list used cars on Craigslist would be the target audience of this model. Despite this model being the \"best\" model, the limitations of it should be considered. The dataset was heavily skewed towards cars that were made by Ford, Chevrolet, and Toyota, had a clean title status, and came from California. Taking this into consideration, it may be the case that the model does not work as well at predicting the price of a used car that does not fit these descriptions as the model would not have had as much data to train on. Additionally, because the data was collected between April - May 2021, it would not be beneficial to use this model outside the scope of these months as the bubble would have much more inflated prices than a normal year. This model would be a tool for buyers or sellers who want a price for a used car during the pandemic's bubble due to the chip shortage and increased demand."
   ]
  },
  {
   "cell_type": "markdown",
   "metadata": {},
   "source": [
    "# Team Contributions"
   ]
  },
  {
   "cell_type": "markdown",
   "metadata": {},
   "source": [
    "As a team we all helped out each other with each of the part, but the majority of each part was done by the following:\n",
    "\n",
    "- Yash Potdar: Background, Model Creation, Data Cleaning, Overview\n",
    "- Mandy Lee: Data Cleaning, Model Creation\n",
    "- Kenneth Nguyen: EDA, Hypothesis, Conclusion, Ethics and Privacy\n",
    "- Matthew Lund: EDA, Data Cleaning"
   ]
  },
  {
   "cell_type": "markdown",
   "metadata": {},
   "source": [
    "### Final Video: https://drive.google.com/file/d/1oG-toF0hvNxIhka35dthbd5SRfKxXtzk/view?usp=sharing"
   ]
  }
 ],
 "metadata": {
  "kernelspec": {
   "display_name": "Python 3",
   "language": "python",
   "name": "python3"
  },
  "language_info": {
   "codemirror_mode": {
    "name": "ipython",
    "version": 3
   },
   "file_extension": ".py",
   "mimetype": "text/x-python",
   "name": "python",
   "nbconvert_exporter": "python",
   "pygments_lexer": "ipython3",
   "version": "3.7.4"
  }
 },
 "nbformat": 4,
 "nbformat_minor": 2
}
