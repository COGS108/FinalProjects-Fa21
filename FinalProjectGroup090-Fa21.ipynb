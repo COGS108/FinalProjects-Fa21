{
 "cells": [
  {
   "cell_type": "markdown",
   "metadata": {},
   "source": [
    "# COGS 108 - An Analysis of the Effect of Commute Time on UCSD Students"
   ]
  },
  {
   "cell_type": "markdown",
   "metadata": {},
   "source": [
    "## Permissions\n",
    "\n",
    "Place an `X` in the appropriate bracket below to specify if you would like your group's project to be made available to the public. (Note that student names will be included (but PIDs will be scraped from any groups who include their PIDs).\n",
    "\n",
    "* [X] YES - make available\n",
    "* [  ] NO - keep private"
   ]
  },
  {
   "cell_type": "markdown",
   "metadata": {},
   "source": [
    "# Overview"
   ]
  },
  {
   "cell_type": "markdown",
   "metadata": {},
   "source": [
    "Housing at UCSD has been a highly prominent topic recently, most specifically due to the large amount of students that were required to find off-campus housing this year. In this project, we set out to analyze data to research the tentative relationship between commute time to campus and sleep time for current UCSD students. The data that we used were collected directly from UCSD students through a Google Form and analyzed through linear regression. Overall, our results show that there is a statistically significant correlation between commute time and sleep time for current students, even after accounting for the probable effects of a student's year affecting hours of sleep. "
   ]
  },
  {
   "cell_type": "markdown",
   "metadata": {},
   "source": [
    "# Names\n",
    "\n",
    "- Kaushika Uppu\n",
    "- Lorenzo Topacio\n",
    "- Jacob Zhong\n",
    "- Jialin Yan\n",
    "- Yu-Jung Lin"
   ]
  },
  {
   "cell_type": "markdown",
   "metadata": {},
   "source": [
    "<a id='research_question'></a>\n",
    "# Research Question"
   ]
  },
  {
   "cell_type": "markdown",
   "metadata": {},
   "source": [
    "Is there a correlation between student commute time and the amount of sleep they get per night?"
   ]
  },
  {
   "cell_type": "markdown",
   "metadata": {},
   "source": [
    "<a id='background'></a>\n",
    "\n",
    "## Background & Prior Work"
   ]
  },
  {
   "cell_type": "markdown",
   "metadata": {},
   "source": [
    "We chose this topic because the housing situation this year changed dramatically from the previous year due to the pandemic. Many students are forced to leave the campus, resulting in an increase in commuting time. For this reason, we would like to know whether student's sleep time will be affected by commuting time.\n",
    "\n",
    "Due to the increasing popularity of vaccines, the restrictions of the United States government on international students were lifted, and most fall classes in UCSD were offered in a hybrid format making many students choose to go back to school after staying in lock down for over a year. UCSD has increased the number of students enrolled without increasing the housing, and additionally limited the housing. Due to COVID-19, and an influx in the number of students living on campus, UCSD adopted a lottery mode, where a computer generated list of second year students were guaranteed beds and the students left off of that list were forced to find off campus housing. If students live far away from school, students who take public transport need to spend more time waiting or on the way to campus. For those students who drive to school, because of the limited parking spaces on campus, they need to spend more time looking for parking lots. The increase of commuting time leads to the decrease of sleep time. In addition, many students' classes are usually scheduled in the morning, which is also the reason for the increased commuting time, because traffic is more crowded in the morning. So they need to get up earlier than students who live on campus, which also reduces their sleep time.\n",
    "\n",
    "We will collect data in the form of a questionnaire/survey from students directly. This data is important as it will give not only direct data and numbers from affected students, but also allow us to see just how much this situation is affecting our fellow classmates.\n",
    "\n",
    "References (include links):\n",
    "\n",
    "1) https://www.lajollalight.com/news/story/2021-07-18/got-a-spare-apartment-thousands-of-uc-san-diego-students-need-a-place-to-live\n",
    "\n",
    "2) https://ucsdguardian.org/2021/07/22/ucsd-students-express-frustration-with-new-campus-housing-lottery-system/\n",
    "\n",
    "3) https://triton.news/2018/11/life-as-a-first-year-commuter/\n",
    "\n",
    "4) https://pubmed.ncbi.nlm.nih.gov/24152062/\n",
    "\n",
    "5) https://transportation.ucsd.edu/_files/parking/QPASS-FALL2021Week1Data.pdf"
   ]
  },
  {
   "cell_type": "markdown",
   "metadata": {},
   "source": [
    "# Hypothesis\n"
   ]
  },
  {
   "cell_type": "markdown",
   "metadata": {},
   "source": [
    "We hypothesize that students with a longer commute time will get less hours of sleep on average than students with a shorter commute time. We predict this based on the assumption that higher commuting times will cut into the limited time that students have to sleep on an average weekday."
   ]
  },
  {
   "cell_type": "markdown",
   "metadata": {},
   "source": [
    "# Dataset(s)"
   ]
  },
  {
   "cell_type": "markdown",
   "metadata": {},
   "source": [
    "- Dataset Name: Response for Housing Survey\n",
    "- Link to the dataset: https://docs.google.com/spreadsheets/d/1sj9oegTkMMYcSs4e1zMRUCEOOiSBoiCmBWQEqWshty0/edit?resourcekey#gid=1563854802\n",
    "- Number of observations: 132\n",
    "\n",
    "The dataset has the information on commute time and sleeping time gathered from UCSD students. Information includes distance from school, commute time, means of commute, and their average sleeping time on weekdays. We plan to anaylze the data and see if there is any relationship between commute time and average sleeping time."
   ]
  },
  {
   "cell_type": "markdown",
   "metadata": {},
   "source": [
    "# Setup"
   ]
  },
  {
   "cell_type": "code",
   "execution_count": 2,
   "metadata": {},
   "outputs": [],
   "source": [
    "# imports\n",
    "import pandas as pd\n",
    "import numpy as np\n",
    "import seaborn as sns\n",
    "import matplotlib.pyplot as plt\n",
    "import patsy\n",
    "import statsmodels.api as sm\n",
    "import scipy.stats as stats\n",
    "from scipy.stats import ttest_ind, chisquare, normaltest"
   ]
  },
  {
   "cell_type": "code",
   "execution_count": 3,
   "metadata": {},
   "outputs": [
    {
     "data": {
      "text/html": [
       "<div>\n",
       "<style scoped>\n",
       "    .dataframe tbody tr th:only-of-type {\n",
       "        vertical-align: middle;\n",
       "    }\n",
       "\n",
       "    .dataframe tbody tr th {\n",
       "        vertical-align: top;\n",
       "    }\n",
       "\n",
       "    .dataframe thead th {\n",
       "        text-align: right;\n",
       "    }\n",
       "</style>\n",
       "<table border=\"1\" class=\"dataframe\">\n",
       "  <thead>\n",
       "    <tr style=\"text-align: right;\">\n",
       "      <th></th>\n",
       "      <th>Timestamp</th>\n",
       "      <th>Have you read and agreed to the description?</th>\n",
       "      <th>What year are you?</th>\n",
       "      <th>As of right now, what is your housing situation?</th>\n",
       "      <th>How far are you from campus? (miles, please set the destination to Geisel when looking up the distance, put 0 if on campus)</th>\n",
       "      <th>How do you commute to campus? (check all that apply)</th>\n",
       "      <th>How long is the commute time? (in minutes, including time taken to park vehicle if applicable)</th>\n",
       "      <th>How long do you sleep on an average weekday? (in hours)</th>\n",
       "    </tr>\n",
       "  </thead>\n",
       "  <tbody>\n",
       "    <tr>\n",
       "      <th>0</th>\n",
       "      <td>11/4/2021 20:29:18</td>\n",
       "      <td>Yes</td>\n",
       "      <td>Senior</td>\n",
       "      <td>I live off-campus (includes living at home)</td>\n",
       "      <td>1.9</td>\n",
       "      <td>Bus, Walk</td>\n",
       "      <td>30.0</td>\n",
       "      <td>7.0</td>\n",
       "    </tr>\n",
       "    <tr>\n",
       "      <th>1</th>\n",
       "      <td>11/4/2021 21:06:45</td>\n",
       "      <td>Yes</td>\n",
       "      <td>Sophomore</td>\n",
       "      <td>I live on-campus</td>\n",
       "      <td>0.0</td>\n",
       "      <td>Walk</td>\n",
       "      <td>5.0</td>\n",
       "      <td>6.5</td>\n",
       "    </tr>\n",
       "    <tr>\n",
       "      <th>2</th>\n",
       "      <td>11/5/2021 9:53:05</td>\n",
       "      <td>Yes</td>\n",
       "      <td>Senior</td>\n",
       "      <td>I live off-campus (includes living at home)</td>\n",
       "      <td>10.2</td>\n",
       "      <td>Drive</td>\n",
       "      <td>16.0</td>\n",
       "      <td>6.5</td>\n",
       "    </tr>\n",
       "    <tr>\n",
       "      <th>3</th>\n",
       "      <td>NaN</td>\n",
       "      <td>NaN</td>\n",
       "      <td>NaN</td>\n",
       "      <td>NaN</td>\n",
       "      <td>NaN</td>\n",
       "      <td>NaN</td>\n",
       "      <td>NaN</td>\n",
       "      <td>NaN</td>\n",
       "    </tr>\n",
       "    <tr>\n",
       "      <th>4</th>\n",
       "      <td>11/1/2021 17:59:48</td>\n",
       "      <td>Yes</td>\n",
       "      <td>Senior</td>\n",
       "      <td>I live off-campus (includes living at home)</td>\n",
       "      <td>1.9</td>\n",
       "      <td>Bus, Walk</td>\n",
       "      <td>35.0</td>\n",
       "      <td>6.5</td>\n",
       "    </tr>\n",
       "  </tbody>\n",
       "</table>\n",
       "</div>"
      ],
      "text/plain": [
       "            Timestamp Have you read and agreed to the description?  \\\n",
       "0  11/4/2021 20:29:18                                          Yes   \n",
       "1  11/4/2021 21:06:45                                          Yes   \n",
       "2   11/5/2021 9:53:05                                          Yes   \n",
       "3                 NaN                                          NaN   \n",
       "4  11/1/2021 17:59:48                                          Yes   \n",
       "\n",
       "  What year are you? As of right now, what is your housing situation?  \\\n",
       "0             Senior      I live off-campus (includes living at home)   \n",
       "1          Sophomore                                 I live on-campus   \n",
       "2             Senior      I live off-campus (includes living at home)   \n",
       "3                NaN                                              NaN   \n",
       "4             Senior      I live off-campus (includes living at home)   \n",
       "\n",
       "   How far are you from campus? (miles, please set the destination to Geisel when looking up the distance, put 0 if on campus)  \\\n",
       "0                                                1.9                                                                             \n",
       "1                                                0.0                                                                             \n",
       "2                                               10.2                                                                             \n",
       "3                                                NaN                                                                             \n",
       "4                                                1.9                                                                             \n",
       "\n",
       "  How do you commute to campus? (check all that apply)  \\\n",
       "0                                          Bus, Walk     \n",
       "1                                               Walk     \n",
       "2                                              Drive     \n",
       "3                                                NaN     \n",
       "4                                          Bus, Walk     \n",
       "\n",
       "   How long is the commute time? (in minutes, including time taken to park vehicle if applicable)  \\\n",
       "0                                               30.0                                                \n",
       "1                                                5.0                                                \n",
       "2                                               16.0                                                \n",
       "3                                                NaN                                                \n",
       "4                                               35.0                                                \n",
       "\n",
       "   How long do you sleep on an average weekday? (in hours)  \n",
       "0                                                7.0        \n",
       "1                                                6.5        \n",
       "2                                                6.5        \n",
       "3                                                NaN        \n",
       "4                                                6.5        "
      ]
     },
     "execution_count": 3,
     "metadata": {},
     "output_type": "execute_result"
    }
   ],
   "source": [
    "# read dataset as csv\n",
    "df = pd.read_csv(\"Housing Survey.csv\")\n",
    "df.head()"
   ]
  },
  {
   "cell_type": "code",
   "execution_count": 4,
   "metadata": {},
   "outputs": [
    {
     "data": {
      "text/plain": [
       "(132, 8)"
      ]
     },
     "execution_count": 4,
     "metadata": {},
     "output_type": "execute_result"
    }
   ],
   "source": [
    "df.shape"
   ]
  },
  {
   "cell_type": "markdown",
   "metadata": {},
   "source": [
    "# Data Cleaning"
   ]
  },
  {
   "cell_type": "markdown",
   "metadata": {},
   "source": [
    "The first step in our data cleaning process was to rename columns in our DataFrame for easier reading and comprehension. Second, we removed columns that were not relevant to our analysis. However, as we did have a question on our survey regarding consent, if consent was not given, the row was dropped. The consent column was then removed for easier viewing of the DataFrame, as all of the remaining rows had consent given."
   ]
  },
  {
   "cell_type": "code",
   "execution_count": 5,
   "metadata": {},
   "outputs": [
    {
     "data": {
      "text/html": [
       "<div>\n",
       "<style scoped>\n",
       "    .dataframe tbody tr th:only-of-type {\n",
       "        vertical-align: middle;\n",
       "    }\n",
       "\n",
       "    .dataframe tbody tr th {\n",
       "        vertical-align: top;\n",
       "    }\n",
       "\n",
       "    .dataframe thead th {\n",
       "        text-align: right;\n",
       "    }\n",
       "</style>\n",
       "<table border=\"1\" class=\"dataframe\">\n",
       "  <thead>\n",
       "    <tr style=\"text-align: right;\">\n",
       "      <th></th>\n",
       "      <th>timestamp</th>\n",
       "      <th>consent</th>\n",
       "      <th>year</th>\n",
       "      <th>housing</th>\n",
       "      <th>distance</th>\n",
       "      <th>means of commute</th>\n",
       "      <th>commute</th>\n",
       "      <th>sleep</th>\n",
       "    </tr>\n",
       "  </thead>\n",
       "  <tbody>\n",
       "    <tr>\n",
       "      <th>0</th>\n",
       "      <td>11/4/2021 20:29:18</td>\n",
       "      <td>Yes</td>\n",
       "      <td>Senior</td>\n",
       "      <td>I live off-campus (includes living at home)</td>\n",
       "      <td>1.9</td>\n",
       "      <td>Bus, Walk</td>\n",
       "      <td>30.0</td>\n",
       "      <td>7.0</td>\n",
       "    </tr>\n",
       "    <tr>\n",
       "      <th>1</th>\n",
       "      <td>11/4/2021 21:06:45</td>\n",
       "      <td>Yes</td>\n",
       "      <td>Sophomore</td>\n",
       "      <td>I live on-campus</td>\n",
       "      <td>0.0</td>\n",
       "      <td>Walk</td>\n",
       "      <td>5.0</td>\n",
       "      <td>6.5</td>\n",
       "    </tr>\n",
       "    <tr>\n",
       "      <th>2</th>\n",
       "      <td>11/5/2021 9:53:05</td>\n",
       "      <td>Yes</td>\n",
       "      <td>Senior</td>\n",
       "      <td>I live off-campus (includes living at home)</td>\n",
       "      <td>10.2</td>\n",
       "      <td>Drive</td>\n",
       "      <td>16.0</td>\n",
       "      <td>6.5</td>\n",
       "    </tr>\n",
       "    <tr>\n",
       "      <th>3</th>\n",
       "      <td>NaN</td>\n",
       "      <td>NaN</td>\n",
       "      <td>NaN</td>\n",
       "      <td>NaN</td>\n",
       "      <td>NaN</td>\n",
       "      <td>NaN</td>\n",
       "      <td>NaN</td>\n",
       "      <td>NaN</td>\n",
       "    </tr>\n",
       "    <tr>\n",
       "      <th>4</th>\n",
       "      <td>11/1/2021 17:59:48</td>\n",
       "      <td>Yes</td>\n",
       "      <td>Senior</td>\n",
       "      <td>I live off-campus (includes living at home)</td>\n",
       "      <td>1.9</td>\n",
       "      <td>Bus, Walk</td>\n",
       "      <td>35.0</td>\n",
       "      <td>6.5</td>\n",
       "    </tr>\n",
       "  </tbody>\n",
       "</table>\n",
       "</div>"
      ],
      "text/plain": [
       "            timestamp consent       year  \\\n",
       "0  11/4/2021 20:29:18     Yes     Senior   \n",
       "1  11/4/2021 21:06:45     Yes  Sophomore   \n",
       "2   11/5/2021 9:53:05     Yes     Senior   \n",
       "3                 NaN     NaN        NaN   \n",
       "4  11/1/2021 17:59:48     Yes     Senior   \n",
       "\n",
       "                                       housing  distance means of commute  \\\n",
       "0  I live off-campus (includes living at home)       1.9        Bus, Walk   \n",
       "1                             I live on-campus       0.0             Walk   \n",
       "2  I live off-campus (includes living at home)      10.2            Drive   \n",
       "3                                          NaN       NaN              NaN   \n",
       "4  I live off-campus (includes living at home)       1.9        Bus, Walk   \n",
       "\n",
       "   commute  sleep  \n",
       "0     30.0    7.0  \n",
       "1      5.0    6.5  \n",
       "2     16.0    6.5  \n",
       "3      NaN    NaN  \n",
       "4     35.0    6.5  "
      ]
     },
     "execution_count": 5,
     "metadata": {},
     "output_type": "execute_result"
    }
   ],
   "source": [
    "# rename columns\n",
    "\n",
    "temp = list(df.columns)\n",
    "new_col = ['timestamp', 'consent', 'year', 'housing', 'distance', 'means of commute', 'commute', 'sleep']\n",
    "new_name = {}\n",
    "for i, j in zip(temp, new_col):\n",
    "    new_name[i] = j\n",
    "\n",
    "df = df.rename(columns=new_name)\n",
    "\n",
    "df.head()"
   ]
  },
  {
   "cell_type": "code",
   "execution_count": 6,
   "metadata": {},
   "outputs": [],
   "source": [
    "# remove unnecessary columns\n",
    "df = df.drop('timestamp', axis=1)\n",
    "try:\n",
    "    df = df.drop(df['consent'] == 'no')\n",
    "except:\n",
    "    df = df.drop('consent', axis=1)\n",
    "    "
   ]
  },
  {
   "cell_type": "markdown",
   "metadata": {},
   "source": [
    "Third, rows with missing values `year`, `commute`, and `sleep` are dropped. Rows with missing values for other columns are kept because we only need `year`, `commute`, and `sleep` in the analysis."
   ]
  },
  {
   "cell_type": "code",
   "execution_count": 7,
   "metadata": {},
   "outputs": [],
   "source": [
    "# remove rows that contain NaN\n",
    "# only remove data entry for year commute time and sleep time\n",
    "df = df.dropna(axis=0, subset=['year', 'commute', 'sleep'])"
   ]
  },
  {
   "cell_type": "code",
   "execution_count": 8,
   "metadata": {},
   "outputs": [
    {
     "data": {
      "text/html": [
       "<div>\n",
       "<style scoped>\n",
       "    .dataframe tbody tr th:only-of-type {\n",
       "        vertical-align: middle;\n",
       "    }\n",
       "\n",
       "    .dataframe tbody tr th {\n",
       "        vertical-align: top;\n",
       "    }\n",
       "\n",
       "    .dataframe thead th {\n",
       "        text-align: right;\n",
       "    }\n",
       "</style>\n",
       "<table border=\"1\" class=\"dataframe\">\n",
       "  <thead>\n",
       "    <tr style=\"text-align: right;\">\n",
       "      <th></th>\n",
       "      <th>year</th>\n",
       "      <th>housing</th>\n",
       "      <th>distance</th>\n",
       "      <th>means of commute</th>\n",
       "      <th>commute</th>\n",
       "      <th>sleep</th>\n",
       "    </tr>\n",
       "  </thead>\n",
       "  <tbody>\n",
       "    <tr>\n",
       "      <th>0</th>\n",
       "      <td>Senior</td>\n",
       "      <td>I live off-campus (includes living at home)</td>\n",
       "      <td>1.9</td>\n",
       "      <td>Bus, Walk</td>\n",
       "      <td>30.0</td>\n",
       "      <td>7.0</td>\n",
       "    </tr>\n",
       "    <tr>\n",
       "      <th>1</th>\n",
       "      <td>Sophomore</td>\n",
       "      <td>I live on-campus</td>\n",
       "      <td>0.0</td>\n",
       "      <td>Walk</td>\n",
       "      <td>5.0</td>\n",
       "      <td>6.5</td>\n",
       "    </tr>\n",
       "    <tr>\n",
       "      <th>2</th>\n",
       "      <td>Senior</td>\n",
       "      <td>I live off-campus (includes living at home)</td>\n",
       "      <td>10.2</td>\n",
       "      <td>Drive</td>\n",
       "      <td>16.0</td>\n",
       "      <td>6.5</td>\n",
       "    </tr>\n",
       "    <tr>\n",
       "      <th>4</th>\n",
       "      <td>Senior</td>\n",
       "      <td>I live off-campus (includes living at home)</td>\n",
       "      <td>1.9</td>\n",
       "      <td>Bus, Walk</td>\n",
       "      <td>35.0</td>\n",
       "      <td>6.5</td>\n",
       "    </tr>\n",
       "    <tr>\n",
       "      <th>5</th>\n",
       "      <td>Senior</td>\n",
       "      <td>I live off-campus (includes living at home)</td>\n",
       "      <td>1.4</td>\n",
       "      <td>Drive</td>\n",
       "      <td>10.0</td>\n",
       "      <td>8.0</td>\n",
       "    </tr>\n",
       "  </tbody>\n",
       "</table>\n",
       "</div>"
      ],
      "text/plain": [
       "        year                                      housing  distance  \\\n",
       "0     Senior  I live off-campus (includes living at home)       1.9   \n",
       "1  Sophomore                             I live on-campus       0.0   \n",
       "2     Senior  I live off-campus (includes living at home)      10.2   \n",
       "4     Senior  I live off-campus (includes living at home)       1.9   \n",
       "5     Senior  I live off-campus (includes living at home)       1.4   \n",
       "\n",
       "  means of commute  commute  sleep  \n",
       "0        Bus, Walk     30.0    7.0  \n",
       "1             Walk      5.0    6.5  \n",
       "2            Drive     16.0    6.5  \n",
       "4        Bus, Walk     35.0    6.5  \n",
       "5            Drive     10.0    8.0  "
      ]
     },
     "execution_count": 8,
     "metadata": {},
     "output_type": "execute_result"
    }
   ],
   "source": [
    "df.head()"
   ]
  },
  {
   "cell_type": "markdown",
   "metadata": {},
   "source": [
    "Fourth, data for `housing` is simplified to `off-campus` and `on-campus`. The means of commute were also modified so its easier to read in the table."
   ]
  },
  {
   "cell_type": "code",
   "execution_count": 9,
   "metadata": {},
   "outputs": [
    {
     "data": {
      "text/html": [
       "<div>\n",
       "<style scoped>\n",
       "    .dataframe tbody tr th:only-of-type {\n",
       "        vertical-align: middle;\n",
       "    }\n",
       "\n",
       "    .dataframe tbody tr th {\n",
       "        vertical-align: top;\n",
       "    }\n",
       "\n",
       "    .dataframe thead th {\n",
       "        text-align: right;\n",
       "    }\n",
       "</style>\n",
       "<table border=\"1\" class=\"dataframe\">\n",
       "  <thead>\n",
       "    <tr style=\"text-align: right;\">\n",
       "      <th></th>\n",
       "      <th>year</th>\n",
       "      <th>housing</th>\n",
       "      <th>distance</th>\n",
       "      <th>means of commute</th>\n",
       "      <th>commute</th>\n",
       "      <th>sleep</th>\n",
       "    </tr>\n",
       "  </thead>\n",
       "  <tbody>\n",
       "    <tr>\n",
       "      <th>0</th>\n",
       "      <td>Senior</td>\n",
       "      <td>off-campus</td>\n",
       "      <td>1.9</td>\n",
       "      <td>Bus, Walk</td>\n",
       "      <td>30.0</td>\n",
       "      <td>7.0</td>\n",
       "    </tr>\n",
       "    <tr>\n",
       "      <th>1</th>\n",
       "      <td>Sophomore</td>\n",
       "      <td>on-campus</td>\n",
       "      <td>0.0</td>\n",
       "      <td>Walk</td>\n",
       "      <td>5.0</td>\n",
       "      <td>6.5</td>\n",
       "    </tr>\n",
       "    <tr>\n",
       "      <th>2</th>\n",
       "      <td>Senior</td>\n",
       "      <td>off-campus</td>\n",
       "      <td>10.2</td>\n",
       "      <td>Drive</td>\n",
       "      <td>16.0</td>\n",
       "      <td>6.5</td>\n",
       "    </tr>\n",
       "    <tr>\n",
       "      <th>4</th>\n",
       "      <td>Senior</td>\n",
       "      <td>off-campus</td>\n",
       "      <td>1.9</td>\n",
       "      <td>Bus, Walk</td>\n",
       "      <td>35.0</td>\n",
       "      <td>6.5</td>\n",
       "    </tr>\n",
       "    <tr>\n",
       "      <th>5</th>\n",
       "      <td>Senior</td>\n",
       "      <td>off-campus</td>\n",
       "      <td>1.4</td>\n",
       "      <td>Drive</td>\n",
       "      <td>10.0</td>\n",
       "      <td>8.0</td>\n",
       "    </tr>\n",
       "  </tbody>\n",
       "</table>\n",
       "</div>"
      ],
      "text/plain": [
       "        year     housing  distance means of commute  commute  sleep\n",
       "0     Senior  off-campus       1.9        Bus, Walk     30.0    7.0\n",
       "1  Sophomore   on-campus       0.0             Walk      5.0    6.5\n",
       "2     Senior  off-campus      10.2            Drive     16.0    6.5\n",
       "4     Senior  off-campus       1.9        Bus, Walk     35.0    6.5\n",
       "5     Senior  off-campus       1.4            Drive     10.0    8.0"
      ]
     },
     "execution_count": 9,
     "metadata": {},
     "output_type": "execute_result"
    }
   ],
   "source": [
    "# replace input\n",
    "df = df.replace({'I live off-campus (includes living at home)':'off-campus', 'I live on-campus':'on-campus'})\n",
    "df.head()"
   ]
  },
  {
   "cell_type": "code",
   "execution_count": 10,
   "metadata": {},
   "outputs": [
    {
     "data": {
      "text/html": [
       "<div>\n",
       "<style scoped>\n",
       "    .dataframe tbody tr th:only-of-type {\n",
       "        vertical-align: middle;\n",
       "    }\n",
       "\n",
       "    .dataframe tbody tr th {\n",
       "        vertical-align: top;\n",
       "    }\n",
       "\n",
       "    .dataframe thead th {\n",
       "        text-align: right;\n",
       "    }\n",
       "</style>\n",
       "<table border=\"1\" class=\"dataframe\">\n",
       "  <thead>\n",
       "    <tr style=\"text-align: right;\">\n",
       "      <th></th>\n",
       "      <th>year</th>\n",
       "      <th>housing</th>\n",
       "      <th>distance</th>\n",
       "      <th>means of commute</th>\n",
       "      <th>commute</th>\n",
       "      <th>sleep</th>\n",
       "    </tr>\n",
       "  </thead>\n",
       "  <tbody>\n",
       "    <tr>\n",
       "      <th>0</th>\n",
       "      <td>Senior</td>\n",
       "      <td>off-campus</td>\n",
       "      <td>1.9</td>\n",
       "      <td>Bus, Walk</td>\n",
       "      <td>30.0</td>\n",
       "      <td>7.0</td>\n",
       "    </tr>\n",
       "    <tr>\n",
       "      <th>1</th>\n",
       "      <td>Sophomore</td>\n",
       "      <td>on-campus</td>\n",
       "      <td>0.0</td>\n",
       "      <td>Walk</td>\n",
       "      <td>5.0</td>\n",
       "      <td>6.5</td>\n",
       "    </tr>\n",
       "    <tr>\n",
       "      <th>2</th>\n",
       "      <td>Senior</td>\n",
       "      <td>off-campus</td>\n",
       "      <td>10.2</td>\n",
       "      <td>Drive</td>\n",
       "      <td>16.0</td>\n",
       "      <td>6.5</td>\n",
       "    </tr>\n",
       "    <tr>\n",
       "      <th>4</th>\n",
       "      <td>Senior</td>\n",
       "      <td>off-campus</td>\n",
       "      <td>1.9</td>\n",
       "      <td>Bus, Walk</td>\n",
       "      <td>35.0</td>\n",
       "      <td>6.5</td>\n",
       "    </tr>\n",
       "    <tr>\n",
       "      <th>5</th>\n",
       "      <td>Senior</td>\n",
       "      <td>off-campus</td>\n",
       "      <td>1.4</td>\n",
       "      <td>Drive</td>\n",
       "      <td>10.0</td>\n",
       "      <td>8.0</td>\n",
       "    </tr>\n",
       "  </tbody>\n",
       "</table>\n",
       "</div>"
      ],
      "text/plain": [
       "        year     housing  distance means of commute  commute  sleep\n",
       "0     Senior  off-campus       1.9        Bus, Walk     30.0    7.0\n",
       "1  Sophomore   on-campus       0.0             Walk      5.0    6.5\n",
       "2     Senior  off-campus      10.2            Drive     16.0    6.5\n",
       "4     Senior  off-campus       1.9        Bus, Walk     35.0    6.5\n",
       "5     Senior  off-campus       1.4            Drive     10.0    8.0"
      ]
     },
     "execution_count": 10,
     "metadata": {},
     "output_type": "execute_result"
    }
   ],
   "source": [
    "df = df.replace({';':','})\n",
    "df.head()"
   ]
  },
  {
   "cell_type": "code",
   "execution_count": 11,
   "metadata": {},
   "outputs": [],
   "source": [
    "# function for replacing semi-colons in 'means of commute' column\n",
    "def replacesemicolon(str_in):\n",
    "    try:\n",
    "        str_in = str_in.lower().strip()\n",
    "\n",
    "        if ';' in str_in:\n",
    "            str_in = str_in.replace(';', ', ')\n",
    "            output = str_in\n",
    "        else:\n",
    "            output = str_in\n",
    "    except:\n",
    "        output = str_in\n",
    "        \n",
    "    return output"
   ]
  },
  {
   "cell_type": "code",
   "execution_count": 12,
   "metadata": {},
   "outputs": [
    {
     "data": {
      "text/html": [
       "<div>\n",
       "<style scoped>\n",
       "    .dataframe tbody tr th:only-of-type {\n",
       "        vertical-align: middle;\n",
       "    }\n",
       "\n",
       "    .dataframe tbody tr th {\n",
       "        vertical-align: top;\n",
       "    }\n",
       "\n",
       "    .dataframe thead th {\n",
       "        text-align: right;\n",
       "    }\n",
       "</style>\n",
       "<table border=\"1\" class=\"dataframe\">\n",
       "  <thead>\n",
       "    <tr style=\"text-align: right;\">\n",
       "      <th></th>\n",
       "      <th>year</th>\n",
       "      <th>housing</th>\n",
       "      <th>distance</th>\n",
       "      <th>means of commute</th>\n",
       "      <th>commute</th>\n",
       "      <th>sleep</th>\n",
       "    </tr>\n",
       "  </thead>\n",
       "  <tbody>\n",
       "    <tr>\n",
       "      <th>0</th>\n",
       "      <td>Senior</td>\n",
       "      <td>off-campus</td>\n",
       "      <td>1.9</td>\n",
       "      <td>bus, walk</td>\n",
       "      <td>30.0</td>\n",
       "      <td>7.0</td>\n",
       "    </tr>\n",
       "    <tr>\n",
       "      <th>1</th>\n",
       "      <td>Sophomore</td>\n",
       "      <td>on-campus</td>\n",
       "      <td>0.0</td>\n",
       "      <td>walk</td>\n",
       "      <td>5.0</td>\n",
       "      <td>6.5</td>\n",
       "    </tr>\n",
       "    <tr>\n",
       "      <th>2</th>\n",
       "      <td>Senior</td>\n",
       "      <td>off-campus</td>\n",
       "      <td>10.2</td>\n",
       "      <td>drive</td>\n",
       "      <td>16.0</td>\n",
       "      <td>6.5</td>\n",
       "    </tr>\n",
       "    <tr>\n",
       "      <th>4</th>\n",
       "      <td>Senior</td>\n",
       "      <td>off-campus</td>\n",
       "      <td>1.9</td>\n",
       "      <td>bus, walk</td>\n",
       "      <td>35.0</td>\n",
       "      <td>6.5</td>\n",
       "    </tr>\n",
       "    <tr>\n",
       "      <th>5</th>\n",
       "      <td>Senior</td>\n",
       "      <td>off-campus</td>\n",
       "      <td>1.4</td>\n",
       "      <td>drive</td>\n",
       "      <td>10.0</td>\n",
       "      <td>8.0</td>\n",
       "    </tr>\n",
       "  </tbody>\n",
       "</table>\n",
       "</div>"
      ],
      "text/plain": [
       "        year     housing  distance means of commute  commute  sleep\n",
       "0     Senior  off-campus       1.9        bus, walk     30.0    7.0\n",
       "1  Sophomore   on-campus       0.0             walk      5.0    6.5\n",
       "2     Senior  off-campus      10.2            drive     16.0    6.5\n",
       "4     Senior  off-campus       1.9        bus, walk     35.0    6.5\n",
       "5     Senior  off-campus       1.4            drive     10.0    8.0"
      ]
     },
     "execution_count": 12,
     "metadata": {},
     "output_type": "execute_result"
    }
   ],
   "source": [
    "# replacing semi-colons\n",
    "df['means of commute'] = df['means of commute'].apply(replacesemicolon)\n",
    "df.head()"
   ]
  },
  {
   "cell_type": "markdown",
   "metadata": {},
   "source": [
    "The value of `year` column is change to numerical so that it can be used in linear regression analysis."
   ]
  },
  {
   "cell_type": "code",
   "execution_count": 13,
   "metadata": {},
   "outputs": [],
   "source": [
    "# function for making strings lowercase and change to numeric value\n",
    "def replace_year(str_in):\n",
    "    try:\n",
    "        str_in = str_in.lower().strip()\n",
    "        \n",
    "        if 'freshman' in str_in:\n",
    "            output = str_in.replace('freshman', '1')\n",
    "        elif 'sophomore' in str_in:\n",
    "            output = str_in.replace('sophomore', '2')\n",
    "        elif 'junior' in str_in:\n",
    "            output = str_in.replace('junior', '3')\n",
    "        elif 'senior' in str_in:\n",
    "            output = str_in.replace('senior', '4')\n",
    "        elif 'graduate' in str_in:\n",
    "            output = str_in.replace('graduate', '5')\n",
    "        else:\n",
    "            output = str_in\n",
    "    \n",
    "        if output.isnumeric():\n",
    "            output = int(output)\n",
    "        else:\n",
    "            output = np.nan\n",
    "    except:\n",
    "        output = np.nan\n",
    "    return output"
   ]
  },
  {
   "cell_type": "code",
   "execution_count": 14,
   "metadata": {},
   "outputs": [
    {
     "data": {
      "text/plain": [
       "(1, nan, nan)"
      ]
     },
     "execution_count": 14,
     "metadata": {},
     "output_type": "execute_result"
    }
   ],
   "source": [
    "# function test\n",
    "temp = replace_year('freshman')\n",
    "temp2 = replace_year('hiiii')\n",
    "temp3 = replace_year('nan')\n",
    "temp, temp2, temp3"
   ]
  },
  {
   "cell_type": "code",
   "execution_count": 15,
   "metadata": {},
   "outputs": [
    {
     "data": {
      "text/html": [
       "<div>\n",
       "<style scoped>\n",
       "    .dataframe tbody tr th:only-of-type {\n",
       "        vertical-align: middle;\n",
       "    }\n",
       "\n",
       "    .dataframe tbody tr th {\n",
       "        vertical-align: top;\n",
       "    }\n",
       "\n",
       "    .dataframe thead th {\n",
       "        text-align: right;\n",
       "    }\n",
       "</style>\n",
       "<table border=\"1\" class=\"dataframe\">\n",
       "  <thead>\n",
       "    <tr style=\"text-align: right;\">\n",
       "      <th></th>\n",
       "      <th>year</th>\n",
       "      <th>housing</th>\n",
       "      <th>distance</th>\n",
       "      <th>means of commute</th>\n",
       "      <th>commute</th>\n",
       "      <th>sleep</th>\n",
       "    </tr>\n",
       "  </thead>\n",
       "  <tbody>\n",
       "    <tr>\n",
       "      <th>0</th>\n",
       "      <td>4</td>\n",
       "      <td>off-campus</td>\n",
       "      <td>1.9</td>\n",
       "      <td>bus, walk</td>\n",
       "      <td>30.0</td>\n",
       "      <td>7.0</td>\n",
       "    </tr>\n",
       "    <tr>\n",
       "      <th>1</th>\n",
       "      <td>2</td>\n",
       "      <td>on-campus</td>\n",
       "      <td>0.0</td>\n",
       "      <td>walk</td>\n",
       "      <td>5.0</td>\n",
       "      <td>6.5</td>\n",
       "    </tr>\n",
       "    <tr>\n",
       "      <th>2</th>\n",
       "      <td>4</td>\n",
       "      <td>off-campus</td>\n",
       "      <td>10.2</td>\n",
       "      <td>drive</td>\n",
       "      <td>16.0</td>\n",
       "      <td>6.5</td>\n",
       "    </tr>\n",
       "    <tr>\n",
       "      <th>4</th>\n",
       "      <td>4</td>\n",
       "      <td>off-campus</td>\n",
       "      <td>1.9</td>\n",
       "      <td>bus, walk</td>\n",
       "      <td>35.0</td>\n",
       "      <td>6.5</td>\n",
       "    </tr>\n",
       "    <tr>\n",
       "      <th>5</th>\n",
       "      <td>4</td>\n",
       "      <td>off-campus</td>\n",
       "      <td>1.4</td>\n",
       "      <td>drive</td>\n",
       "      <td>10.0</td>\n",
       "      <td>8.0</td>\n",
       "    </tr>\n",
       "  </tbody>\n",
       "</table>\n",
       "</div>"
      ],
      "text/plain": [
       "   year     housing  distance means of commute  commute  sleep\n",
       "0     4  off-campus       1.9        bus, walk     30.0    7.0\n",
       "1     2   on-campus       0.0             walk      5.0    6.5\n",
       "2     4  off-campus      10.2            drive     16.0    6.5\n",
       "4     4  off-campus       1.9        bus, walk     35.0    6.5\n",
       "5     4  off-campus       1.4            drive     10.0    8.0"
      ]
     },
     "execution_count": 15,
     "metadata": {},
     "output_type": "execute_result"
    }
   ],
   "source": [
    "# making year lowercase\n",
    "df['year'] = df['year'].apply(replace_year)\n",
    "df.head()"
   ]
  },
  {
   "cell_type": "markdown",
   "metadata": {},
   "source": [
    "`dropna` is performed again to remove missing values from `year`, `commute`, and `sleep` columns after the conversion functions are applied."
   ]
  },
  {
   "cell_type": "code",
   "execution_count": 16,
   "metadata": {},
   "outputs": [],
   "source": [
    "# remove rows that contain NaN\n",
    "# only remove data entry for year commute time and sleep time\n",
    "df = df.dropna(axis=0, subset=['year', 'commute', 'sleep'])"
   ]
  },
  {
   "cell_type": "code",
   "execution_count": 17,
   "metadata": {},
   "outputs": [
    {
     "data": {
      "text/plain": [
       "(131, 6)"
      ]
     },
     "execution_count": 17,
     "metadata": {},
     "output_type": "execute_result"
    }
   ],
   "source": [
    "df.shape"
   ]
  },
  {
   "cell_type": "markdown",
   "metadata": {},
   "source": [
    "# Data Analysis & Results"
   ]
  },
  {
   "cell_type": "markdown",
   "metadata": {},
   "source": [
    "We first wanted to see a general overview of the data that we collected."
   ]
  },
  {
   "cell_type": "code",
   "execution_count": 18,
   "metadata": {},
   "outputs": [
    {
     "data": {
      "text/html": [
       "<div>\n",
       "<style scoped>\n",
       "    .dataframe tbody tr th:only-of-type {\n",
       "        vertical-align: middle;\n",
       "    }\n",
       "\n",
       "    .dataframe tbody tr th {\n",
       "        vertical-align: top;\n",
       "    }\n",
       "\n",
       "    .dataframe thead th {\n",
       "        text-align: right;\n",
       "    }\n",
       "</style>\n",
       "<table border=\"1\" class=\"dataframe\">\n",
       "  <thead>\n",
       "    <tr style=\"text-align: right;\">\n",
       "      <th></th>\n",
       "      <th>year</th>\n",
       "      <th>distance</th>\n",
       "      <th>commute</th>\n",
       "      <th>sleep</th>\n",
       "    </tr>\n",
       "  </thead>\n",
       "  <tbody>\n",
       "    <tr>\n",
       "      <th>count</th>\n",
       "      <td>131.000000</td>\n",
       "      <td>131.000000</td>\n",
       "      <td>131.000000</td>\n",
       "      <td>131.000000</td>\n",
       "    </tr>\n",
       "    <tr>\n",
       "      <th>mean</th>\n",
       "      <td>3.229008</td>\n",
       "      <td>3.845038</td>\n",
       "      <td>22.616794</td>\n",
       "      <td>7.083969</td>\n",
       "    </tr>\n",
       "    <tr>\n",
       "      <th>std</th>\n",
       "      <td>1.027056</td>\n",
       "      <td>5.158387</td>\n",
       "      <td>17.367796</td>\n",
       "      <td>1.086902</td>\n",
       "    </tr>\n",
       "    <tr>\n",
       "      <th>min</th>\n",
       "      <td>1.000000</td>\n",
       "      <td>0.000000</td>\n",
       "      <td>0.100000</td>\n",
       "      <td>4.000000</td>\n",
       "    </tr>\n",
       "    <tr>\n",
       "      <th>25%</th>\n",
       "      <td>3.000000</td>\n",
       "      <td>1.300000</td>\n",
       "      <td>15.000000</td>\n",
       "      <td>6.000000</td>\n",
       "    </tr>\n",
       "    <tr>\n",
       "      <th>50%</th>\n",
       "      <td>4.000000</td>\n",
       "      <td>2.000000</td>\n",
       "      <td>20.000000</td>\n",
       "      <td>7.000000</td>\n",
       "    </tr>\n",
       "    <tr>\n",
       "      <th>75%</th>\n",
       "      <td>4.000000</td>\n",
       "      <td>3.500000</td>\n",
       "      <td>30.000000</td>\n",
       "      <td>8.000000</td>\n",
       "    </tr>\n",
       "    <tr>\n",
       "      <th>max</th>\n",
       "      <td>5.000000</td>\n",
       "      <td>30.000000</td>\n",
       "      <td>160.000000</td>\n",
       "      <td>10.000000</td>\n",
       "    </tr>\n",
       "  </tbody>\n",
       "</table>\n",
       "</div>"
      ],
      "text/plain": [
       "             year    distance     commute       sleep\n",
       "count  131.000000  131.000000  131.000000  131.000000\n",
       "mean     3.229008    3.845038   22.616794    7.083969\n",
       "std      1.027056    5.158387   17.367796    1.086902\n",
       "min      1.000000    0.000000    0.100000    4.000000\n",
       "25%      3.000000    1.300000   15.000000    6.000000\n",
       "50%      4.000000    2.000000   20.000000    7.000000\n",
       "75%      4.000000    3.500000   30.000000    8.000000\n",
       "max      5.000000   30.000000  160.000000   10.000000"
      ]
     },
     "execution_count": 18,
     "metadata": {},
     "output_type": "execute_result"
    }
   ],
   "source": [
    "df.describe()"
   ]
  },
  {
   "cell_type": "markdown",
   "metadata": {},
   "source": [
    "The scatter matrix below shows the relationships between the four variables we have in the data: year, distance from campus, commute time, and sleep."
   ]
  },
  {
   "cell_type": "code",
   "execution_count": 19,
   "metadata": {},
   "outputs": [
    {
     "data": {
      "image/png": "[encoded data removed]",
      "text/plain": [
       "<Figure size 432x288 with 16 Axes>"
      ]
     },
     "metadata": {
      "needs_background": "light"
     },
     "output_type": "display_data"
    }
   ],
   "source": [
    "fig = pd.plotting.scatter_matrix(df)"
   ]
  },
  {
   "cell_type": "markdown",
   "metadata": {},
   "source": [
    "Next, we wanted to checkout the distributions of the two variables that we are focusing on: sleep time and commute time."
   ]
  },
  {
   "cell_type": "code",
   "execution_count": 20,
   "metadata": {},
   "outputs": [
    {
     "data": {
      "text/plain": [
       "Text(0.5, 1.0, 'Sleep Time Distribution')"
      ]
     },
     "execution_count": 20,
     "metadata": {},
     "output_type": "execute_result"
    },
    {
     "data": {
      "image/png": "[encoded data removed]",
      "text/plain": [
       "<Figure size 360x360 with 1 Axes>"
      ]
     },
     "metadata": {
      "needs_background": "light"
     },
     "output_type": "display_data"
    }
   ],
   "source": [
    "# sleep time\n",
    "sns.displot(df['sleep'], bins = 10)\n",
    "plt.title('Sleep Time Distribution')"
   ]
  },
  {
   "cell_type": "code",
   "execution_count": 21,
   "metadata": {},
   "outputs": [
    {
     "data": {
      "text/plain": [
       "Text(0.5, 1.0, 'Commute Time Distribution')"
      ]
     },
     "execution_count": 21,
     "metadata": {},
     "output_type": "execute_result"
    },
    {
     "data": {
      "image/png": "[encoded data removed]",
      "text/plain": [
       "<Figure size 360x360 with 1 Axes>"
      ]
     },
     "metadata": {
      "needs_background": "light"
     },
     "output_type": "display_data"
    }
   ],
   "source": [
    "# commute time\n",
    "sns.displot(df['commute'], bins = 30, color = 'green')\n",
    "plt.title('Commute Time Distribution')"
   ]
  },
  {
   "cell_type": "markdown",
   "metadata": {},
   "source": [
    "As seen in the two plots above, while sleep time has a pretty normal distribution, commute time is skewed right heavily, with a couple of outliers on the far right of the plot. To make the analysis more accurate, we will be removing the outliers in the data, which are the two data with values above 80. After removing the outliers, we regenerated the plot for commute time and sleep time again."
   ]
  },
  {
   "cell_type": "code",
   "execution_count": 22,
   "metadata": {},
   "outputs": [],
   "source": [
    "# remove outlier from commute dataset\n",
    "# from the plot above we can see that outlier is greater than 100\n",
    "# remove any commute time thats longer than 80 min\n",
    "\n",
    "df = df[df['commute'] < 80]"
   ]
  },
  {
   "cell_type": "code",
   "execution_count": 23,
   "metadata": {},
   "outputs": [
    {
     "data": {
      "text/plain": [
       "(129, 6)"
      ]
     },
     "execution_count": 23,
     "metadata": {},
     "output_type": "execute_result"
    }
   ],
   "source": [
    "# check if rows has been removed\n",
    "df.shape"
   ]
  },
  {
   "cell_type": "code",
   "execution_count": 24,
   "metadata": {},
   "outputs": [
    {
     "data": {
      "text/plain": [
       "Text(0.5, 1.0, 'Commute Time Distribution Without Outliers')"
      ]
     },
     "execution_count": 24,
     "metadata": {},
     "output_type": "execute_result"
    },
    {
     "data": {
      "image/png": "[encoded data removed]",
      "text/plain": [
       "<Figure size 360x360 with 1 Axes>"
      ]
     },
     "metadata": {
      "needs_background": "light"
     },
     "output_type": "display_data"
    }
   ],
   "source": [
    "# regenerate the plot\n",
    "sns.displot(df['commute'], bins = 30, color = 'green')\n",
    "plt.title('Commute Time Distribution Without Outliers')"
   ]
  },
  {
   "cell_type": "code",
   "execution_count": 25,
   "metadata": {},
   "outputs": [
    {
     "data": {
      "text/plain": [
       "Text(0.5, 1.0, 'Sleep Time Distribution Without Outliers')"
      ]
     },
     "execution_count": 25,
     "metadata": {},
     "output_type": "execute_result"
    },
    {
     "data": {
      "image/png": "[encoded data removed]",
      "text/plain": [
       "<Figure size 360x360 with 1 Axes>"
      ]
     },
     "metadata": {
      "needs_background": "light"
     },
     "output_type": "display_data"
    }
   ],
   "source": [
    "# regenerate sleep plot\n",
    "sns.displot(df['sleep'], bins = 10)\n",
    "plt.title('Sleep Time Distribution Without Outliers')"
   ]
  },
  {
   "cell_type": "markdown",
   "metadata": {},
   "source": [
    "After regenerating the plots, we can see that the distribution of sleep time does not change much while the commute time distribution moved to the center.  \n",
    "Next, we obtained data of `year`, `commute`, and `sleep` from the dataset to perform t-tests to anaylze the relationships between all three of these factors."
   ]
  },
  {
   "cell_type": "code",
   "execution_count": 25,
   "metadata": {},
   "outputs": [],
   "source": [
    "#overall year, commute and sleep time\n",
    "year = df['year']\n",
    "com = df['commute']\n",
    "sleep = df['sleep']\n",
    "\n",
    "#overall avg\n",
    "avg_c = np.mean(df['commute'])\n",
    "avg_s = np.mean(df['sleep'])"
   ]
  },
  {
   "cell_type": "code",
   "execution_count": 26,
   "metadata": {},
   "outputs": [
    {
     "data": {
      "text/plain": [
       "(21.029457364341084, 7.065891472868217)"
      ]
     },
     "execution_count": 26,
     "metadata": {},
     "output_type": "execute_result"
    }
   ],
   "source": [
    "avg_c, avg_s"
   ]
  },
  {
   "cell_type": "code",
   "execution_count": 27,
   "metadata": {},
   "outputs": [
    {
     "data": {
      "text/plain": [
       "(-14.35523731791673, 1.1026894141596651e-34)"
      ]
     },
     "execution_count": 27,
     "metadata": {},
     "output_type": "execute_result"
    }
   ],
   "source": [
    "#t-test for overall sleep time and commute time\n",
    "t_1, p_1 = ttest_ind(a=sleep, b=com)\n",
    "t_1, p_1"
   ]
  },
  {
   "cell_type": "code",
   "execution_count": 28,
   "metadata": {},
   "outputs": [
    {
     "data": {
      "text/plain": [
       "(-18.320106343604085, 1.7858975243690324e-48)"
      ]
     },
     "execution_count": 28,
     "metadata": {},
     "output_type": "execute_result"
    }
   ],
   "source": [
    "#t-test for overall year and commute\n",
    "t_2, p_2 = ttest_ind(a=year, b=com)\n",
    "t_2, p_2"
   ]
  },
  {
   "cell_type": "code",
   "execution_count": 29,
   "metadata": {},
   "outputs": [
    {
     "data": {
      "text/plain": [
       "(-29.26448264759551, 1.2203908369272774e-83)"
      ]
     },
     "execution_count": 29,
     "metadata": {},
     "output_type": "execute_result"
    }
   ],
   "source": [
    "#t-test for overall year and sleep\n",
    "t_3, p_3 = ttest_ind(a=year, b=sleep)\n",
    "t_3, p_3"
   ]
  },
  {
   "cell_type": "markdown",
   "metadata": {},
   "source": [
    "From the three t-tests performed above, we can see that p-values of all of the tests are less than 0.05, which suggests that the null hypothesis should be rejected. Therefore, we can conclude that there is a correlation between commute time and sleep time of students. However, we wanted to further analyze the relationships between commute and sleep time, so we performed linear regressions on the data."
   ]
  },
  {
   "cell_type": "code",
   "execution_count": 30,
   "metadata": {},
   "outputs": [
    {
     "name": "stdout",
     "output_type": "stream",
     "text": [
      "                            OLS Regression Results                            \n",
      "==============================================================================\n",
      "Dep. Variable:                  sleep   R-squared:                       0.050\n",
      "Model:                            OLS   Adj. R-squared:                  0.042\n",
      "Method:                 Least Squares   F-statistic:                     6.669\n",
      "Date:                Thu, 09 Dec 2021   Prob (F-statistic):             0.0109\n",
      "Time:                        11:36:38   Log-Likelihood:                -189.34\n",
      "No. Observations:                 129   AIC:                             382.7\n",
      "Df Residuals:                     127   BIC:                             388.4\n",
      "Df Model:                           1                                         \n",
      "Covariance Type:            nonrobust                                         \n",
      "==============================================================================\n",
      "                 coef    std err          t      P>|t|      [0.025      0.975]\n",
      "------------------------------------------------------------------------------\n",
      "Intercept      7.5279      0.202     37.321      0.000       7.129       7.927\n",
      "commute       -0.0220      0.009     -2.582      0.011      -0.039      -0.005\n",
      "==============================================================================\n",
      "Omnibus:                        2.060   Durbin-Watson:                   2.137\n",
      "Prob(Omnibus):                  0.357   Jarque-Bera (JB):                1.565\n",
      "Skew:                           0.180   Prob(JB):                        0.457\n",
      "Kurtosis:                       3.402   Cond. No.                         51.4\n",
      "==============================================================================\n",
      "\n",
      "Notes:\n",
      "[1] Standard Errors assume that the covariance matrix of the errors is correctly specified.\n"
     ]
    }
   ],
   "source": [
    "# linear regression predicting sleep time from commute time \n",
    "outcome1, predictors1 = patsy.dmatrices('sleep ~ commute', df)\n",
    "mod1 = sm.OLS(outcome1, predictors1)\n",
    "res1 = mod1.fit()\n",
    "print(res1.summary())"
   ]
  },
  {
   "cell_type": "markdown",
   "metadata": {},
   "source": [
    "The equation for sleep is equal to -0.0011 * commute + 7.1099, which means that for every one minute of increase in commute time, sleep time decreases by 0.0011 minutes. Also, the p-value for this linear model is 0.011, which means that this correlation is statistically significant. We plotted the two variables below, along with the regression line."
   ]
  },
  {
   "cell_type": "code",
   "execution_count": 31,
   "metadata": {},
   "outputs": [
    {
     "data": {
      "text/plain": [
       "Text(0.5, 1.0, 'Regression Line')"
      ]
     },
     "execution_count": 31,
     "metadata": {},
     "output_type": "execute_result"
    },
    {
     "data": {
      "image/png": "[encoded data removed]",
      "text/plain": [
       "<Figure size 720x576 with 1 Axes>"
      ]
     },
     "metadata": {
      "needs_background": "light"
     },
     "output_type": "display_data"
    }
   ],
   "source": [
    "# plot the relationship between sleep time and commute time\n",
    "fig, ax = plt.subplots()\n",
    "fig.set_figheight(8)\n",
    "fig.set_figwidth(10)\n",
    "sns.regplot(x = 'commute', y = 'sleep', data = df).set_title('Regression Line')"
   ]
  },
  {
   "cell_type": "markdown",
   "metadata": {},
   "source": [
    "We can see from this graph that the relationship between the two variables, `sleep time` and `commute time`, is not very strong, causing the slope of the regression line to be nearly 0, with a slight negative correlation.  \n",
    "\n",
    "Next, we added `year` as the 2nd predictor in the new linear regression so we can examine if `year` is the reason why the relationship between `sleep` and `commute time` is weak."
   ]
  },
  {
   "cell_type": "code",
   "execution_count": 32,
   "metadata": {},
   "outputs": [
    {
     "name": "stdout",
     "output_type": "stream",
     "text": [
      "                            OLS Regression Results                            \n",
      "==============================================================================\n",
      "Dep. Variable:                  sleep   R-squared:                       0.057\n",
      "Model:                            OLS   Adj. R-squared:                  0.042\n",
      "Method:                 Least Squares   F-statistic:                     3.822\n",
      "Date:                Thu, 09 Dec 2021   Prob (F-statistic):             0.0245\n",
      "Time:                        11:36:38   Log-Likelihood:                -188.84\n",
      "No. Observations:                 129   AIC:                             383.7\n",
      "Df Residuals:                     126   BIC:                             392.3\n",
      "Df Model:                           2                                         \n",
      "Covariance Type:            nonrobust                                         \n",
      "==============================================================================\n",
      "                 coef    std err          t      P>|t|      [0.025      0.975]\n",
      "------------------------------------------------------------------------------\n",
      "Intercept      7.2692      0.331     21.992      0.000       6.615       7.923\n",
      "commute       -0.0237      0.009     -2.727      0.007      -0.041      -0.006\n",
      "year           0.0915      0.093      0.988      0.325      -0.092       0.275\n",
      "==============================================================================\n",
      "Omnibus:                        2.083   Durbin-Watson:                   2.149\n",
      "Prob(Omnibus):                  0.353   Jarque-Bera (JB):                1.580\n",
      "Skew:                           0.190   Prob(JB):                        0.454\n",
      "Kurtosis:                       3.386   Cond. No.                         86.9\n",
      "==============================================================================\n",
      "\n",
      "Notes:\n",
      "[1] Standard Errors assume that the covariance matrix of the errors is correctly specified.\n"
     ]
    }
   ],
   "source": [
    "#linear regression for predicting commute time + year level to sleep time\n",
    "outcome2, predictors2 = patsy.dmatrices('sleep ~ commute + year', df)\n",
    "mod2 = sm.OLS(outcome2, predictors2)\n",
    "res2 = mod2.fit()\n",
    "print(res2.summary())"
   ]
  },
  {
   "cell_type": "markdown",
   "metadata": {},
   "source": [
    "From the summary, we can see that `year` has p-values greater than 0.05 while the p-value of `commute` time is less than 0.05, which means the null hypothesis for `year` is accepted and the one for `commute` is rejected. Therefore, we can conclude that commute time significantly affects the sleep time and the year students are in does not affect the sleep time. From the two analyses we conducted, we can confidently say that commute time affects sleep time significantly."
   ]
  },
  {
   "cell_type": "markdown",
   "metadata": {},
   "source": [
    "# Ethics & Privacy"
   ]
  },
  {
   "cell_type": "markdown",
   "metadata": {},
   "source": [
    "With our data science project, we collected our own data rather than using a pre-existing dataset online. We created a Google Form where we curated our own questions and then sent it out on various platforms to be answered by UCSD students. We were able to obtain a decent amount of responses from students which we were thankful for. To ensure absolute anonymity, we did not require our responders to put their names or any form of identification, and did not collect any idenitfying information such as their emails. This was because our responders were answering personal questions about themselves that regarded their commute time, sleep schedule, and living situation. We felt that omitting names would make our responders feel more comfortable in answering the multiple questions that were presented to them, and if we could get them to answer all the questions, that would yield the best data possible for our project. Additionally, we made sure to incorporate all the different responses in our analyses, rather than only selecting the responses that would produce the cleanest graphs or reduce the workload for the group in general."
   ]
  },
  {
   "cell_type": "markdown",
   "metadata": {},
   "source": [
    "# Conclusion & Discussion"
   ]
  },
  {
   "cell_type": "markdown",
   "metadata": {},
   "source": [
    "When we first started this project, we hypothesized that students with longer commute times will experience less hours of sleep on average (weekly) than students with shorter commute times. After gathering and analyzing the data, our study showed that there is a significant correlation between commute time and hours of sleep experienced, meaning that student commute times do affect how long they sleep per night. \n",
    "\n",
    "For our study, we wanted to gather real data from UCSD students who go to campus so we decided to create our own dataset by creating a google survey and posting the survey on various social media platforms such as Discord, Reddit, and WeChat. In total we observed around 132 responses from students from varying grade levels. The survey created was looking for the year level of the student, how far away from campus the student lived, how long their commute time was, and how many hours of sleep they got on average for a weekday. With this data, we first plotted a bar graphs of sleep time and commute time to observe the distributions and identify any outliers.  Sleep time displayed a relatively normal distribution whereas the distribution of commute time is skewed to the right. Through displaying the distributions, we were able to see one outlier from two students in the commute time plot, however, our datapool is small and a bit limited due to how our data was gathered and the limited amount of responses we got. After removing outliers from the commute data set, the commute time distribution histogram plot was then regenerated and displayed a more normal distribution to help with analysis. \n",
    "\n",
    "Next, a t-test was performed using the data gathered in year, commute, and sleep times to analyze the relationship between the three factors. From the 3 t-tests, we saw that the p-values of the datasets were below 0.05, which suggests that one factor does significantly affect the other factor. But the p-value only tells us that the effects they (year, commute time, sleep time) have with each other is scientifically significant. We do not know if there is any relationship between the factors and more importantly, the relationship between commute time and sleep time. To further analyze the relationships between commute and sleep time, linear regression was performed on the data.\n",
    "\n",
    "From the linear regression that we conducted with only sleep and commute time, we found a p-value that is less than 0.05, meaning that the correlation between sleep and commute time is statistically significant. However, we wanted to further test that by accounting for another possible variable that could affect sleep time: year in school. Therefore, we conducted another linear regression that took both year and commute time into consideration and it resulted in a p-value greater than 0.05 for year. We can thus conclude that while year does not significantly affect sleep time of current UCSD students, commute time does.\n",
    "\n",
    "One limitation of our study was our relatively low number of observations that we analyzed, and if further studied, gathering data from a higher number of students would help us both in increasing the validity of our results and aiding us in generalizing our findings to a larger population. In addition, more factors that could affect sleep time could be studied in order to account for other possible causes. \n",
    "\n",
    "In conclusion, the results that we got from the data that we collected highlight one negative consequence that distant off-campus housing has on students, and emphasize one specific facet of the housing crisis that has overtaken UCSD. "
   ]
  },
  {
   "cell_type": "markdown",
   "metadata": {},
   "source": [
    "# Team Contributions"
   ]
  },
  {
   "cell_type": "markdown",
   "metadata": {},
   "source": [
    "- Kaushika Uppu: Survey Questions, Overview, Conclusion and Discussion, EDA, Powerpoint\n",
    "- Lorenzo Topacio: Survey Questions, Research question, Ethic and Privacy, EDA, Powerpoint, Presentation\n",
    "- Jacob Zhong: Survey Questions, Conclusion and Discussion, EDA, Powerpoint, Presentation\n",
    "- Jialin Yan: Survey Questions, Background and Prior work, Powerpoint\n",
    "- Yu-Jung Lin: Survey Questions, Data cleaning, EDA, Powerpoint"
   ]
  }
 ],
 "metadata": {
  "kernelspec": {
   "display_name": "Python 3 (ipykernel)",
   "language": "python",
   "name": "python3"
  },
  "language_info": {
   "codemirror_mode": {
    "name": "ipython",
    "version": 3
   },
   "file_extension": ".py",
   "mimetype": "text/x-python",
   "name": "python",
   "nbconvert_exporter": "python",
   "pygments_lexer": "ipython3",
   "version": "3.9.5"
  }
 },
 "nbformat": 4,
 "nbformat_minor": 2
}
