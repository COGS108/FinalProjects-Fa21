{
 "cells": [
  {
   "cell_type": "markdown",
   "metadata": {},
   "source": [
    "# COGS 108 - Predicting Electricity Use in California"
   ]
  },
  {
   "cell_type": "markdown",
   "metadata": {},
   "source": [
    "## Permissions\n",
    "\n",
    "Place an `X` in the appropriate bracket below to specify if you would like your group's project to be made available to the public. (Note that student names will be included (but PIDs will be scraped from any groups who include their PIDs).\n",
    "\n",
    "* [ X ] YES - make available\n",
    "* [  ] NO - keep private"
   ]
  },
  {
   "cell_type": "markdown",
   "metadata": {},
   "source": [
    "# Overview"
   ]
  },
  {
   "cell_type": "markdown",
   "metadata": {},
   "source": [
    "In this project, we analyzed different features of a county to study how these may or may not correlate with the energy use of that county. We performed regression analysis on each of our chosen variables, and built a predictive models using the variables that we found correlated with the energy use of a county. We also discuss the social implications and importance of our work.\n",
    "\n",
    "Video Presentation: https://drive.google.com/file/d/1Ui174PYZx8_cMtyuPkG6BKKPR5E4gAP0/view?usp=sharing"
   ]
  },
  {
   "cell_type": "markdown",
   "metadata": {},
   "source": [
    "# Names\n",
    "\n",
    "- Olivia Roth\n",
    "- Amiet Scheidegger\n",
    "- Riley Liu\n",
    "- Katie Li"
   ]
  },
  {
   "cell_type": "markdown",
   "metadata": {},
   "source": [
    "<a id='research_question'></a>\n",
    "# Research Question"
   ]
  },
  {
   "cell_type": "markdown",
   "metadata": {},
   "source": [
    "How does the income of residents in a California county affect the county’s energy use? "
   ]
  },
  {
   "cell_type": "markdown",
   "metadata": {},
   "source": [
    "## Background & Prior Work"
   ]
  },
  {
   "cell_type": "markdown",
   "metadata": {},
   "source": [
    "For our final project we wanted to discuss an environmental issue regarding electricity consumption as much of our modern day is consumed by technology. With this boom in electricity usage, we wondered if we could make predictions on electricity use based on income and if there is a ripple effect of this on our environment or poverty levels. Since our location is specifically California, we decided to keep our research focused here. \n",
    "To better understand our topic, we looked at a discussion of California specifically and found that there have been restrictions set in place on the use of natural gases here in California which may seem, at surface level, as a promising factor. However, energy, or electricity in this case, becomes more expensive the more restrictions that are placed. Even looking at gas prices that are surging currently we can see how prices can affect even the most necessary of things. Since California also has one of the highest poverty rates in the nation, the increasing prices on electricity (or energy) are exacerbating this issue (1). As well, one article focused specifically on Los Angeles, stating that these wealthier areas use more energy than poor ones in coastal cities like Malibu, using the most at 95 million btu. It was also found that specific buildings like commercial, industry, and multifamily apartments use more energy than single family homes which could be a contributing factor that we must consider when analyzing our data (2). \n",
    "\n",
    "In California, households also typically require less average consumption of electrical energy, however, due to the high prices within the state, many homeowners spend up to the national average for electricity. Most of the actual spending on electricity comes from appliances, electronics, and lights while heating and cooling only makes up for about 31% of the energy consumed. California households also are recognized for having significantly more televisions than the average US household thus adding to the knowledge that California’s electrical energy usage is higher for things other than A/C (3). Overall, these figures suggest that increased electricity consumption could be a factor predicted by income. \n",
    "For environmental reasons, California is placing restrictions on the use of natural gases. While at first glance, this seems to be a good thing, it also makes energy much more expensive. California has one of the highest poverty rates in the nation, and the increasing prices of energy is contributing to this issue (1).\n",
    "\n",
    "1)Poverty rates and energy costs: https://freopp.org/the-high-cost-of-california-electricity-is-increasing-poverty-d7bc4021b705\n",
    " \n",
    "2)LA energy consumption: https://www.latimes.com/science/la-me-1001-ucla-energy-data-20151001-story.html\n",
    "\n",
    "3)California energy use: https://www.eia.gov/consumption/residential/reports/2009/state_briefs/pdf/ca.pdf\n",
    "\n",
    "4)Low income: https://iopscience.iop.org/article/10.1088/1748-9326/aba030"
   ]
  },
  {
   "cell_type": "markdown",
   "metadata": {},
   "source": [
    "# Hypothesis"
   ]
  },
  {
   "cell_type": "markdown",
   "metadata": {},
   "source": [
    "We predict that higher income counties will have higher rates of energy consumption compared to lower income counties. In Los Angeles, wealthy coastal cities use the most energy while poorer areas in the southeast part of the county use the least energy. California is also making energy more expensive by placing restrictions on the use of natural gases, which could negatively impact low-income areas. Based on our background research, we have found these statements to hold true, so we expect to continue to find this in our own findings."
   ]
  },
  {
   "cell_type": "markdown",
   "metadata": {},
   "source": [
    "# Dataset(s)"
   ]
  },
  {
   "cell_type": "markdown",
   "metadata": {},
   "source": [
    "## - Dataset Name: California - Electricity Consumption by County\n",
    "- Link to the dataset: https://www.kaggle.com/devkambhampati/california-electricity-consumption-by-county\n",
    "- Number of observations: 58 counties, each with 3 types of observations: Residential, Non-Residential, and Total. Total of 174 observations.\n",
    "\n",
    "The dataset contains electricity usage in 58 counties from 1990 to 2019, and each county’s electricity usage is divided into 3 sectors, one for residential electricity usage, one for non-residential electricity usage, and a total that sums the above two values. \n",
    "In addition to the total electricity usage per year, the data set also contains a totals column that adds the values across the rows, thus summing the total amount of electricity used throughout the 29 years by the 3 vectors mentioned above. \n",
    "\n",
    "- Dataset Name: US Household Income Statistics\n",
    "- Link to the dataset: https://www.kaggle.com/goldenoakresearch/us-household-income-stats-geo-locations\n",
    "- Number of observations: A total of 32,000 records on US Household Income.\n",
    "\n",
    "The dataset includes information about household income organized by cities in each of the counties of the US states and territories, the income is given in the form of both mean and median along with the standard deviation. The dataset provides geological information through state code, state name, state abbreviation, county, city, place, type, zip code, and area code, as well as the number of households used in each calculation. \n",
    "\n",
    "- Dataset name: California Counties Fiscal Year 2016-17\n",
    "- Link to dataset: https://www.kaggle.com/threattb/california-counties-fiscal-year-201617 \n",
    "- Number of Observations: used 2 observations of the area in square miles of each county and estimated population \n",
    "\n",
    "In this dataset, we are provided with a list of counties that also include much information about zip code, class data, etc. However, the main focus was on the area in square miles and estimated population which is found when clicking the Entities tab. This data is specific to what we need in order to better understand population information for each county and how far of a spread the data is. This data is also used in our regression analysis when comparing energy use. \n",
    "\n",
    "*Comparing*: \n",
    "To better compare the datasets we would clean the US Household income data to only include the California counties so that it matches our energy consumption data. \n",
    "This would allow us to directly compare the two without extra data getting confused and congested. \n",
    "We would strip the word 'county' from the US Household income data as well. \n",
    "The income data would also need to be cleaned to only keep data for median and county names matching these names to the energy consumption dataset. \n",
    "We would also clean the energy consumption data to only include 2017 since that is what the US Household income includes. \n",
    "Our population data would also need to be cleaned to include county names and population numbers without commas. \n",
    "As well, we would make a counties table to visualize what the area in square miles each county is. \n",
    "It would also be better for us to keep the data separate during cleaning and then once the data has been cleaned we will merge everything together. \n"
   ]
  },
  {
   "cell_type": "markdown",
   "metadata": {},
   "source": [
    "# Setup"
   ]
  },
  {
   "cell_type": "code",
   "execution_count": 15,
   "metadata": {},
   "outputs": [],
   "source": [
    "# Imports \n",
    "%matplotlib inline\n",
    "\n",
    "import numpy as np\n",
    "import pandas as pd\n",
    "import matplotlib.pyplot as plt\n",
    "\n",
    "import seaborn as sns\n",
    "sns.set()\n",
    "sns.set_context('talk')\n",
    "\n",
    "import warnings\n",
    "warnings.filterwarnings('ignore')\n",
    "\n",
    "import patsy\n",
    "import statsmodels.api as sm\n",
    "import scipy.stats as stats\n",
    "from scipy.stats import ttest_ind, chisquare, normaltest\n",
    "\n",
    "from sklearn.linear_model import LinearRegression\n",
    "from sklearn.preprocessing import FunctionTransformer\n",
    "from sklearn.preprocessing import OneHotEncoder\n",
    "from sklearn.pipeline import Pipeline\n",
    "from sklearn.compose import ColumnTransformer\n",
    "\n",
    "from sklearn.tree import DecisionTreeRegressor, DecisionTreeClassifier\n",
    "from sklearn.model_selection import train_test_split\n",
    "from sklearn.neighbors import KNeighborsRegressor\n",
    "from sklearn.model_selection import train_test_split"
   ]
  },
  {
   "cell_type": "markdown",
   "metadata": {},
   "source": [
    "# Data Cleaning"
   ]
  },
  {
   "cell_type": "markdown",
   "metadata": {},
   "source": [
    "### Loading all datasets"
   ]
  },
  {
   "cell_type": "code",
   "execution_count": 16,
   "metadata": {},
   "outputs": [],
   "source": [
    "# Reading Electricity by County Data \n",
    "#electric_url = 'https://raw.githubusercontent.com/COGS108/Group025-Fa21/master/ElectricityByCounty%20CALIFORNIA%20Usage%20in%20Millions%20of%20kWh.csv?token=AV5JIPZN3ZUJOVAH22MVD4LBTL3M6'\n",
    "electric_url = 'electricity.csv'\n",
    "electric = pd.read_csv(electric_url) "
   ]
  },
  {
   "cell_type": "code",
   "execution_count": 17,
   "metadata": {},
   "outputs": [],
   "source": [
    "# Reading US Income Data \n",
    "#income_url = 'https://raw.githubusercontent.com/COGS108/Group025-Fa21/master/kaggle_income.csv?token=AV5JIP7YAGOE3PMVR2HO42TBTL3HG'\n",
    "income_url = 'income.csv'\n",
    "income = pd.read_csv(income_url, encoding='latin-1')"
   ]
  },
  {
   "cell_type": "code",
   "execution_count": 18,
   "metadata": {},
   "outputs": [],
   "source": [
    "# Reading California County Fiscal Data\n",
    "counties_url = 'counties.csv'\n",
    "counties = pd.read_csv(counties_url)"
   ]
  },
  {
   "cell_type": "markdown",
   "metadata": {},
   "source": [
    "### Cleaning electricity dataset"
   ]
  },
  {
   "cell_type": "code",
   "execution_count": 19,
   "metadata": {},
   "outputs": [],
   "source": [
    "electric.head();"
   ]
  },
  {
   "cell_type": "code",
   "execution_count": 20,
   "metadata": {},
   "outputs": [],
   "source": [
    "# Checking Datatypes\n",
    "electric.dtypes;"
   ]
  },
  {
   "cell_type": "code",
   "execution_count": 21,
   "metadata": {},
   "outputs": [],
   "source": [
    "# check for null entries \n",
    "electric.isnull().any();"
   ]
  },
  {
   "cell_type": "code",
   "execution_count": 22,
   "metadata": {},
   "outputs": [
    {
     "data": {
      "text/html": [
       "<div>\n",
       "<style scoped>\n",
       "    .dataframe tbody tr th:only-of-type {\n",
       "        vertical-align: middle;\n",
       "    }\n",
       "\n",
       "    .dataframe tbody tr th {\n",
       "        vertical-align: top;\n",
       "    }\n",
       "\n",
       "    .dataframe thead th {\n",
       "        text-align: right;\n",
       "    }\n",
       "</style>\n",
       "<table border=\"1\" class=\"dataframe\">\n",
       "  <thead>\n",
       "    <tr style=\"text-align: right;\">\n",
       "      <th></th>\n",
       "      <th>County</th>\n",
       "      <th>Energy Use</th>\n",
       "    </tr>\n",
       "  </thead>\n",
       "  <tbody>\n",
       "    <tr>\n",
       "      <th>0</th>\n",
       "      <td>ALAMEDA</td>\n",
       "      <td>11079.450563</td>\n",
       "    </tr>\n",
       "    <tr>\n",
       "      <th>1</th>\n",
       "      <td>ALPINE</td>\n",
       "      <td>18.976912</td>\n",
       "    </tr>\n",
       "    <tr>\n",
       "      <th>2</th>\n",
       "      <td>AMADOR</td>\n",
       "      <td>313.312866</td>\n",
       "    </tr>\n",
       "    <tr>\n",
       "      <th>3</th>\n",
       "      <td>BUTTE</td>\n",
       "      <td>1529.818607</td>\n",
       "    </tr>\n",
       "    <tr>\n",
       "      <th>4</th>\n",
       "      <td>CALAVERAS</td>\n",
       "      <td>347.931437</td>\n",
       "    </tr>\n",
       "  </tbody>\n",
       "</table>\n",
       "</div>"
      ],
      "text/plain": [
       "      County    Energy Use\n",
       "0    ALAMEDA  11079.450563\n",
       "1     ALPINE     18.976912\n",
       "2     AMADOR    313.312866\n",
       "3      BUTTE   1529.818607\n",
       "4  CALAVERAS    347.931437"
      ]
     },
     "execution_count": 22,
     "metadata": {},
     "output_type": "execute_result"
    }
   ],
   "source": [
    "# Keeping only County Name, Sector, and 2017 total data \n",
    "dropped_col_elect = ['2019', '2018', '2016', '2015', '2014', '2013', '2012', '2011', '2010', '2009', '2008', '2007', '2006', '2005', '2004', '2003', '2002', '2001', '2000', '1999', '1998', '1997', '1996', '1995', '1994', '1993', '1992', '1991', '1990', 'Total Usage'] \n",
    "electric_2017 = electric.drop(dropped_col_elect, axis =1) \n",
    "electric_2017['County'] = electric_2017['County'].str.strip()\n",
    "electric_2017 = electric_2017[electric_2017['Sector'] == 'Total'].drop('Sector', axis = 1).reset_index().drop('index', axis=1).rename({'2017':'Energy Use'}, axis = 1)\n",
    "electric_2017.head()"
   ]
  },
  {
   "cell_type": "markdown",
   "metadata": {},
   "source": [
    "### Cleaning income dataset"
   ]
  },
  {
   "cell_type": "code",
   "execution_count": 23,
   "metadata": {},
   "outputs": [
    {
     "data": {
      "text/html": [
       "<div>\n",
       "<style scoped>\n",
       "    .dataframe tbody tr th:only-of-type {\n",
       "        vertical-align: middle;\n",
       "    }\n",
       "\n",
       "    .dataframe tbody tr th {\n",
       "        vertical-align: top;\n",
       "    }\n",
       "\n",
       "    .dataframe thead th {\n",
       "        text-align: right;\n",
       "    }\n",
       "</style>\n",
       "<table border=\"1\" class=\"dataframe\">\n",
       "  <thead>\n",
       "    <tr style=\"text-align: right;\">\n",
       "      <th></th>\n",
       "      <th>id</th>\n",
       "      <th>State_Code</th>\n",
       "      <th>State_Name</th>\n",
       "      <th>State_ab</th>\n",
       "      <th>County</th>\n",
       "      <th>City</th>\n",
       "      <th>Place</th>\n",
       "      <th>Type</th>\n",
       "      <th>Primary</th>\n",
       "      <th>Zip_Code</th>\n",
       "      <th>Area_Code</th>\n",
       "      <th>ALand</th>\n",
       "      <th>AWater</th>\n",
       "      <th>Lat</th>\n",
       "      <th>Lon</th>\n",
       "      <th>Mean</th>\n",
       "      <th>Median</th>\n",
       "      <th>Stdev</th>\n",
       "      <th>sum_w</th>\n",
       "    </tr>\n",
       "  </thead>\n",
       "  <tbody>\n",
       "    <tr>\n",
       "      <th>0</th>\n",
       "      <td>1011000</td>\n",
       "      <td>1</td>\n",
       "      <td>Alabama</td>\n",
       "      <td>AL</td>\n",
       "      <td>Mobile County</td>\n",
       "      <td>Chickasaw</td>\n",
       "      <td>Chickasaw city</td>\n",
       "      <td>City</td>\n",
       "      <td>place</td>\n",
       "      <td>36611</td>\n",
       "      <td>251</td>\n",
       "      <td>10894952</td>\n",
       "      <td>909156</td>\n",
       "      <td>30.771450</td>\n",
       "      <td>-88.079697</td>\n",
       "      <td>38773</td>\n",
       "      <td>30506</td>\n",
       "      <td>33101</td>\n",
       "      <td>1638.260513</td>\n",
       "    </tr>\n",
       "    <tr>\n",
       "      <th>1</th>\n",
       "      <td>1011010</td>\n",
       "      <td>1</td>\n",
       "      <td>Alabama</td>\n",
       "      <td>AL</td>\n",
       "      <td>Barbour County</td>\n",
       "      <td>Louisville</td>\n",
       "      <td>Clio city</td>\n",
       "      <td>City</td>\n",
       "      <td>place</td>\n",
       "      <td>36048</td>\n",
       "      <td>334</td>\n",
       "      <td>26070325</td>\n",
       "      <td>23254</td>\n",
       "      <td>31.708516</td>\n",
       "      <td>-85.611039</td>\n",
       "      <td>37725</td>\n",
       "      <td>19528</td>\n",
       "      <td>43789</td>\n",
       "      <td>258.017685</td>\n",
       "    </tr>\n",
       "    <tr>\n",
       "      <th>2</th>\n",
       "      <td>1011020</td>\n",
       "      <td>1</td>\n",
       "      <td>Alabama</td>\n",
       "      <td>AL</td>\n",
       "      <td>Shelby County</td>\n",
       "      <td>Columbiana</td>\n",
       "      <td>Columbiana city</td>\n",
       "      <td>City</td>\n",
       "      <td>place</td>\n",
       "      <td>35051</td>\n",
       "      <td>205</td>\n",
       "      <td>44835274</td>\n",
       "      <td>261034</td>\n",
       "      <td>33.191452</td>\n",
       "      <td>-86.615618</td>\n",
       "      <td>54606</td>\n",
       "      <td>31930</td>\n",
       "      <td>57348</td>\n",
       "      <td>926.031000</td>\n",
       "    </tr>\n",
       "    <tr>\n",
       "      <th>3</th>\n",
       "      <td>1011030</td>\n",
       "      <td>1</td>\n",
       "      <td>Alabama</td>\n",
       "      <td>AL</td>\n",
       "      <td>Mobile County</td>\n",
       "      <td>Satsuma</td>\n",
       "      <td>Creola city</td>\n",
       "      <td>City</td>\n",
       "      <td>place</td>\n",
       "      <td>36572</td>\n",
       "      <td>251</td>\n",
       "      <td>36878729</td>\n",
       "      <td>2374530</td>\n",
       "      <td>30.874343</td>\n",
       "      <td>-88.009442</td>\n",
       "      <td>63919</td>\n",
       "      <td>52814</td>\n",
       "      <td>47707</td>\n",
       "      <td>378.114619</td>\n",
       "    </tr>\n",
       "    <tr>\n",
       "      <th>4</th>\n",
       "      <td>1011040</td>\n",
       "      <td>1</td>\n",
       "      <td>Alabama</td>\n",
       "      <td>AL</td>\n",
       "      <td>Mobile County</td>\n",
       "      <td>Dauphin Island</td>\n",
       "      <td>Dauphin Island</td>\n",
       "      <td>Town</td>\n",
       "      <td>place</td>\n",
       "      <td>36528</td>\n",
       "      <td>251</td>\n",
       "      <td>16204185</td>\n",
       "      <td>413605152</td>\n",
       "      <td>30.250913</td>\n",
       "      <td>-88.171268</td>\n",
       "      <td>77948</td>\n",
       "      <td>67225</td>\n",
       "      <td>54270</td>\n",
       "      <td>282.320328</td>\n",
       "    </tr>\n",
       "  </tbody>\n",
       "</table>\n",
       "</div>"
      ],
      "text/plain": [
       "        id  State_Code State_Name State_ab          County            City  \\\n",
       "0  1011000           1    Alabama       AL   Mobile County       Chickasaw   \n",
       "1  1011010           1    Alabama       AL  Barbour County      Louisville   \n",
       "2  1011020           1    Alabama       AL   Shelby County      Columbiana   \n",
       "3  1011030           1    Alabama       AL   Mobile County         Satsuma   \n",
       "4  1011040           1    Alabama       AL   Mobile County  Dauphin Island   \n",
       "\n",
       "             Place  Type Primary  Zip_Code Area_Code     ALand     AWater  \\\n",
       "0   Chickasaw city  City   place     36611       251  10894952     909156   \n",
       "1        Clio city  City   place     36048       334  26070325      23254   \n",
       "2  Columbiana city  City   place     35051       205  44835274     261034   \n",
       "3      Creola city  City   place     36572       251  36878729    2374530   \n",
       "4   Dauphin Island  Town   place     36528       251  16204185  413605152   \n",
       "\n",
       "         Lat        Lon   Mean  Median  Stdev        sum_w  \n",
       "0  30.771450 -88.079697  38773   30506  33101  1638.260513  \n",
       "1  31.708516 -85.611039  37725   19528  43789   258.017685  \n",
       "2  33.191452 -86.615618  54606   31930  57348   926.031000  \n",
       "3  30.874343 -88.009442  63919   52814  47707   378.114619  \n",
       "4  30.250913 -88.171268  77948   67225  54270   282.320328  "
      ]
     },
     "execution_count": 23,
     "metadata": {},
     "output_type": "execute_result"
    }
   ],
   "source": [
    "income.head()"
   ]
  },
  {
   "cell_type": "code",
   "execution_count": 24,
   "metadata": {},
   "outputs": [],
   "source": [
    "# Checking Datatypes\n",
    "income.dtypes;"
   ]
  },
  {
   "cell_type": "code",
   "execution_count": 25,
   "metadata": {},
   "outputs": [],
   "source": [
    "#check for null entries \n",
    "income.isnull().any();"
   ]
  },
  {
   "cell_type": "code",
   "execution_count": 36,
   "metadata": {},
   "outputs": [
    {
     "data": {
      "text/html": [
       "<div>\n",
       "<style scoped>\n",
       "    .dataframe tbody tr th:only-of-type {\n",
       "        vertical-align: middle;\n",
       "    }\n",
       "\n",
       "    .dataframe tbody tr th {\n",
       "        vertical-align: top;\n",
       "    }\n",
       "\n",
       "    .dataframe thead th {\n",
       "        text-align: right;\n",
       "    }\n",
       "</style>\n",
       "<table border=\"1\" class=\"dataframe\">\n",
       "  <thead>\n",
       "    <tr style=\"text-align: right;\">\n",
       "      <th></th>\n",
       "      <th>State_ab</th>\n",
       "      <th>County</th>\n",
       "      <th>Mean</th>\n",
       "      <th>Median</th>\n",
       "      <th>Stdev</th>\n",
       "    </tr>\n",
       "  </thead>\n",
       "  <tbody>\n",
       "    <tr>\n",
       "      <th>0</th>\n",
       "      <td>AL</td>\n",
       "      <td>Mobile County</td>\n",
       "      <td>38773</td>\n",
       "      <td>30506</td>\n",
       "      <td>33101</td>\n",
       "    </tr>\n",
       "    <tr>\n",
       "      <th>1</th>\n",
       "      <td>AL</td>\n",
       "      <td>Barbour County</td>\n",
       "      <td>37725</td>\n",
       "      <td>19528</td>\n",
       "      <td>43789</td>\n",
       "    </tr>\n",
       "    <tr>\n",
       "      <th>2</th>\n",
       "      <td>AL</td>\n",
       "      <td>Shelby County</td>\n",
       "      <td>54606</td>\n",
       "      <td>31930</td>\n",
       "      <td>57348</td>\n",
       "    </tr>\n",
       "    <tr>\n",
       "      <th>3</th>\n",
       "      <td>AL</td>\n",
       "      <td>Mobile County</td>\n",
       "      <td>63919</td>\n",
       "      <td>52814</td>\n",
       "      <td>47707</td>\n",
       "    </tr>\n",
       "    <tr>\n",
       "      <th>4</th>\n",
       "      <td>AL</td>\n",
       "      <td>Mobile County</td>\n",
       "      <td>77948</td>\n",
       "      <td>67225</td>\n",
       "      <td>54270</td>\n",
       "    </tr>\n",
       "  </tbody>\n",
       "</table>\n",
       "</div>"
      ],
      "text/plain": [
       "  State_ab          County   Mean  Median  Stdev\n",
       "0       AL   Mobile County  38773   30506  33101\n",
       "1       AL  Barbour County  37725   19528  43789\n",
       "2       AL   Shelby County  54606   31930  57348\n",
       "3       AL   Mobile County  63919   52814  47707\n",
       "4       AL   Mobile County  77948   67225  54270"
      ]
     },
     "execution_count": 36,
     "metadata": {},
     "output_type": "execute_result"
    }
   ],
   "source": [
    "#Keeping only State Abbreviations, County Name, Median \n",
    "dropped_col_income = ['id', 'State_Code', 'State_Name', 'City', 'Place', 'Type', 'Primary', 'Zip_Code', 'Area_Code', 'ALand', 'AWater', 'Lat', 'Lon', 'sum_w'] \n",
    "income_stats = income.drop(dropped_col_income, axis =1) \n",
    "income_stats.head()"
   ]
  },
  {
   "cell_type": "code",
   "execution_count": 37,
   "metadata": {},
   "outputs": [
    {
     "data": {
      "text/html": [
       "<div>\n",
       "<style scoped>\n",
       "    .dataframe tbody tr th:only-of-type {\n",
       "        vertical-align: middle;\n",
       "    }\n",
       "\n",
       "    .dataframe tbody tr th {\n",
       "        vertical-align: top;\n",
       "    }\n",
       "\n",
       "    .dataframe thead th {\n",
       "        text-align: right;\n",
       "    }\n",
       "</style>\n",
       "<table border=\"1\" class=\"dataframe\">\n",
       "  <thead>\n",
       "    <tr style=\"text-align: right;\">\n",
       "      <th></th>\n",
       "      <th>County</th>\n",
       "      <th>Mean Income</th>\n",
       "      <th>Median Income</th>\n",
       "      <th>Standard Deviation of Income</th>\n",
       "    </tr>\n",
       "  </thead>\n",
       "  <tbody>\n",
       "    <tr>\n",
       "      <th>0</th>\n",
       "      <td>ALAMEDA</td>\n",
       "      <td>78596.131394</td>\n",
       "      <td>101372.401854</td>\n",
       "      <td>53885.474425</td>\n",
       "    </tr>\n",
       "    <tr>\n",
       "      <th>1</th>\n",
       "      <td>AMADOR</td>\n",
       "      <td>52845.666667</td>\n",
       "      <td>216879.000000</td>\n",
       "      <td>33820.000000</td>\n",
       "    </tr>\n",
       "    <tr>\n",
       "      <th>2</th>\n",
       "      <td>BUTTE</td>\n",
       "      <td>63420.666667</td>\n",
       "      <td>49121.000000</td>\n",
       "      <td>51103.666667</td>\n",
       "    </tr>\n",
       "    <tr>\n",
       "      <th>3</th>\n",
       "      <td>ALAVERAS</td>\n",
       "      <td>81593.000000</td>\n",
       "      <td>42435.500000</td>\n",
       "      <td>74656.000000</td>\n",
       "    </tr>\n",
       "    <tr>\n",
       "      <th>4</th>\n",
       "      <td>RA COSTA</td>\n",
       "      <td>87779.833333</td>\n",
       "      <td>107466.333333</td>\n",
       "      <td>58249.166667</td>\n",
       "    </tr>\n",
       "  </tbody>\n",
       "</table>\n",
       "</div>"
      ],
      "text/plain": [
       "     County   Mean Income  Median Income  Standard Deviation of Income\n",
       "0   ALAMEDA  78596.131394  101372.401854                  53885.474425\n",
       "1    AMADOR  52845.666667  216879.000000                  33820.000000\n",
       "2     BUTTE  63420.666667   49121.000000                  51103.666667\n",
       "3  ALAVERAS  81593.000000   42435.500000                  74656.000000\n",
       "4  RA COSTA  87779.833333  107466.333333                  58249.166667"
      ]
     },
     "execution_count": 37,
     "metadata": {},
     "output_type": "execute_result"
    }
   ],
   "source": [
    "# Removing all states that are not California (CA) \n",
    "CA_income_stats = income_stats.loc[income_stats['State_ab'] == 'CA'] \n",
    "\n",
    "# Averaging different county entries to get one value per county \n",
    "CA_income_stats = CA_income_stats.groupby(['County'], as_index=False).mean() \n",
    "\n",
    "# manipulate county names to match county names in energy consumption data set \n",
    "CA_income_stats['County'] = CA_income_stats['County'].str.strip('County').str.upper().str.strip()\n",
    "\n",
    "CA_income_stats = CA_income_stats.rename({'Mean': 'Mean Income', 'Median': 'Median Income', 'Stdev': 'Standard Deviation of Income'}, axis=1)\n",
    "\n",
    "CA_income_stats.head()"
   ]
  },
  {
   "cell_type": "markdown",
   "metadata": {},
   "source": [
    "### Cleaning counties dataset"
   ]
  },
  {
   "cell_type": "code",
   "execution_count": 28,
   "metadata": {},
   "outputs": [
    {
     "data": {
      "text/html": [
       "<div>\n",
       "<style scoped>\n",
       "    .dataframe tbody tr th:only-of-type {\n",
       "        vertical-align: middle;\n",
       "    }\n",
       "\n",
       "    .dataframe tbody tr th {\n",
       "        vertical-align: top;\n",
       "    }\n",
       "\n",
       "    .dataframe thead th {\n",
       "        text-align: right;\n",
       "    }\n",
       "</style>\n",
       "<table border=\"1\" class=\"dataframe\">\n",
       "  <thead>\n",
       "    <tr style=\"text-align: right;\">\n",
       "      <th></th>\n",
       "      <th>Entity Name</th>\n",
       "      <th>Entity ID</th>\n",
       "      <th>Entity Type</th>\n",
       "      <th>County Name</th>\n",
       "      <th>City</th>\n",
       "      <th>State</th>\n",
       "      <th>Zip</th>\n",
       "      <th>Area in Square Miles</th>\n",
       "      <th>Estimated Population</th>\n",
       "      <th>Class Data</th>\n",
       "      <th>Fiscal Year End</th>\n",
       "      <th>Paper Report Due Date</th>\n",
       "      <th>Electronic Report Due Date</th>\n",
       "      <th>Report Ranking</th>\n",
       "      <th>County Budget Due Date</th>\n",
       "    </tr>\n",
       "  </thead>\n",
       "  <tbody>\n",
       "    <tr>\n",
       "      <th>0</th>\n",
       "      <td>Alameda</td>\n",
       "      <td>1</td>\n",
       "      <td>CON</td>\n",
       "      <td>Alameda</td>\n",
       "      <td>Oakland</td>\n",
       "      <td>CA</td>\n",
       "      <td>94612</td>\n",
       "      <td>825</td>\n",
       "      <td>1645359</td>\n",
       "      <td>Chartered</td>\n",
       "      <td>630</td>\n",
       "      <td>131</td>\n",
       "      <td>131</td>\n",
       "      <td>8.0</td>\n",
       "      <td>1201</td>\n",
       "    </tr>\n",
       "    <tr>\n",
       "      <th>1</th>\n",
       "      <td>Alpine</td>\n",
       "      <td>2</td>\n",
       "      <td>CON</td>\n",
       "      <td>Alpine</td>\n",
       "      <td>Markleeville</td>\n",
       "      <td>CA</td>\n",
       "      <td>96120</td>\n",
       "      <td>727</td>\n",
       "      <td>1151</td>\n",
       "      <td>General Law</td>\n",
       "      <td>630</td>\n",
       "      <td>131</td>\n",
       "      <td>131</td>\n",
       "      <td>NaN</td>\n",
       "      <td>1201</td>\n",
       "    </tr>\n",
       "    <tr>\n",
       "      <th>2</th>\n",
       "      <td>Amador</td>\n",
       "      <td>3</td>\n",
       "      <td>CON</td>\n",
       "      <td>Amador</td>\n",
       "      <td>Jackson</td>\n",
       "      <td>CA</td>\n",
       "      <td>95642</td>\n",
       "      <td>601</td>\n",
       "      <td>38382</td>\n",
       "      <td>General Law</td>\n",
       "      <td>630</td>\n",
       "      <td>131</td>\n",
       "      <td>131</td>\n",
       "      <td>NaN</td>\n",
       "      <td>1201</td>\n",
       "    </tr>\n",
       "    <tr>\n",
       "      <th>3</th>\n",
       "      <td>Butte</td>\n",
       "      <td>4</td>\n",
       "      <td>CON</td>\n",
       "      <td>Butte</td>\n",
       "      <td>Oroville</td>\n",
       "      <td>CA</td>\n",
       "      <td>95965-3316</td>\n",
       "      <td>1665</td>\n",
       "      <td>226404</td>\n",
       "      <td>Chartered</td>\n",
       "      <td>630</td>\n",
       "      <td>131</td>\n",
       "      <td>131</td>\n",
       "      <td>NaN</td>\n",
       "      <td>1201</td>\n",
       "    </tr>\n",
       "    <tr>\n",
       "      <th>4</th>\n",
       "      <td>Calaveras</td>\n",
       "      <td>5</td>\n",
       "      <td>CON</td>\n",
       "      <td>Calaveras</td>\n",
       "      <td>San Andreas</td>\n",
       "      <td>CA</td>\n",
       "      <td>95249</td>\n",
       "      <td>1036</td>\n",
       "      <td>45168</td>\n",
       "      <td>General Law</td>\n",
       "      <td>630</td>\n",
       "      <td>131</td>\n",
       "      <td>131</td>\n",
       "      <td>NaN</td>\n",
       "      <td>1201</td>\n",
       "    </tr>\n",
       "  </tbody>\n",
       "</table>\n",
       "</div>"
      ],
      "text/plain": [
       "  Entity Name  Entity ID Entity Type County Name          City State  \\\n",
       "0     Alameda          1         CON     Alameda       Oakland    CA   \n",
       "1      Alpine          2         CON      Alpine  Markleeville    CA   \n",
       "2      Amador          3         CON      Amador       Jackson    CA   \n",
       "3       Butte          4         CON       Butte      Oroville    CA   \n",
       "4   Calaveras          5         CON   Calaveras   San Andreas    CA   \n",
       "\n",
       "          Zip  Area in Square Miles  Estimated Population   Class Data  \\\n",
       "0       94612                   825               1645359    Chartered   \n",
       "1       96120                   727                  1151  General Law   \n",
       "2       95642                   601                 38382  General Law   \n",
       "3  95965-3316                  1665                226404    Chartered   \n",
       "4       95249                  1036                 45168  General Law   \n",
       "\n",
       "   Fiscal Year End  Paper Report Due Date  Electronic Report Due Date  \\\n",
       "0              630                    131                         131   \n",
       "1              630                    131                         131   \n",
       "2              630                    131                         131   \n",
       "3              630                    131                         131   \n",
       "4              630                    131                         131   \n",
       "\n",
       "   Report Ranking  County Budget Due Date  \n",
       "0             8.0                    1201  \n",
       "1             NaN                    1201  \n",
       "2             NaN                    1201  \n",
       "3             NaN                    1201  \n",
       "4             NaN                    1201  "
      ]
     },
     "execution_count": 28,
     "metadata": {},
     "output_type": "execute_result"
    }
   ],
   "source": [
    "counties.head()"
   ]
  },
  {
   "cell_type": "code",
   "execution_count": 29,
   "metadata": {},
   "outputs": [
    {
     "data": {
      "text/plain": [
       "(57, 15)"
      ]
     },
     "execution_count": 29,
     "metadata": {},
     "output_type": "execute_result"
    }
   ],
   "source": [
    "counties.shape"
   ]
  },
  {
   "cell_type": "code",
   "execution_count": 30,
   "metadata": {},
   "outputs": [
    {
     "data": {
      "text/html": [
       "<div>\n",
       "<style scoped>\n",
       "    .dataframe tbody tr th:only-of-type {\n",
       "        vertical-align: middle;\n",
       "    }\n",
       "\n",
       "    .dataframe tbody tr th {\n",
       "        vertical-align: top;\n",
       "    }\n",
       "\n",
       "    .dataframe thead th {\n",
       "        text-align: right;\n",
       "    }\n",
       "</style>\n",
       "<table border=\"1\" class=\"dataframe\">\n",
       "  <thead>\n",
       "    <tr style=\"text-align: right;\">\n",
       "      <th></th>\n",
       "      <th>County</th>\n",
       "      <th>Area in Square Miles</th>\n",
       "      <th>Population</th>\n",
       "    </tr>\n",
       "  </thead>\n",
       "  <tbody>\n",
       "    <tr>\n",
       "      <th>0</th>\n",
       "      <td>Alameda</td>\n",
       "      <td>825</td>\n",
       "      <td>1645359</td>\n",
       "    </tr>\n",
       "    <tr>\n",
       "      <th>1</th>\n",
       "      <td>Alpine</td>\n",
       "      <td>727</td>\n",
       "      <td>1151</td>\n",
       "    </tr>\n",
       "    <tr>\n",
       "      <th>2</th>\n",
       "      <td>Amador</td>\n",
       "      <td>601</td>\n",
       "      <td>38382</td>\n",
       "    </tr>\n",
       "    <tr>\n",
       "      <th>3</th>\n",
       "      <td>Butte</td>\n",
       "      <td>1665</td>\n",
       "      <td>226404</td>\n",
       "    </tr>\n",
       "    <tr>\n",
       "      <th>4</th>\n",
       "      <td>Calaveras</td>\n",
       "      <td>1036</td>\n",
       "      <td>45168</td>\n",
       "    </tr>\n",
       "  </tbody>\n",
       "</table>\n",
       "</div>"
      ],
      "text/plain": [
       "      County  Area in Square Miles  Population\n",
       "0    Alameda                   825     1645359\n",
       "1     Alpine                   727        1151\n",
       "2     Amador                   601       38382\n",
       "3      Butte                  1665      226404\n",
       "4  Calaveras                  1036       45168"
      ]
     },
     "execution_count": 30,
     "metadata": {},
     "output_type": "execute_result"
    }
   ],
   "source": [
    "counties = counties[['Entity Name', 'Area in Square Miles', 'Estimated Population']]\n",
    "counties = counties.rename({'Entity Name': 'County', 'Estimated Population': 'Population'}, axis = 1)\n",
    "counties.head()"
   ]
  },
  {
   "cell_type": "code",
   "execution_count": 31,
   "metadata": {},
   "outputs": [
    {
     "data": {
      "text/html": [
       "<div>\n",
       "<style scoped>\n",
       "    .dataframe tbody tr th:only-of-type {\n",
       "        vertical-align: middle;\n",
       "    }\n",
       "\n",
       "    .dataframe tbody tr th {\n",
       "        vertical-align: top;\n",
       "    }\n",
       "\n",
       "    .dataframe thead th {\n",
       "        text-align: right;\n",
       "    }\n",
       "</style>\n",
       "<table border=\"1\" class=\"dataframe\">\n",
       "  <thead>\n",
       "    <tr style=\"text-align: right;\">\n",
       "      <th></th>\n",
       "      <th>County</th>\n",
       "      <th>Area in Square Miles</th>\n",
       "      <th>Population</th>\n",
       "    </tr>\n",
       "  </thead>\n",
       "  <tbody>\n",
       "    <tr>\n",
       "      <th>0</th>\n",
       "      <td>ALAMEDA</td>\n",
       "      <td>825</td>\n",
       "      <td>1645359</td>\n",
       "    </tr>\n",
       "    <tr>\n",
       "      <th>1</th>\n",
       "      <td>ALPINE</td>\n",
       "      <td>727</td>\n",
       "      <td>1151</td>\n",
       "    </tr>\n",
       "    <tr>\n",
       "      <th>2</th>\n",
       "      <td>AMADOR</td>\n",
       "      <td>601</td>\n",
       "      <td>38382</td>\n",
       "    </tr>\n",
       "    <tr>\n",
       "      <th>3</th>\n",
       "      <td>BUTTE</td>\n",
       "      <td>1665</td>\n",
       "      <td>226404</td>\n",
       "    </tr>\n",
       "    <tr>\n",
       "      <th>4</th>\n",
       "      <td>CALAVERAS</td>\n",
       "      <td>1036</td>\n",
       "      <td>45168</td>\n",
       "    </tr>\n",
       "  </tbody>\n",
       "</table>\n",
       "</div>"
      ],
      "text/plain": [
       "      County  Area in Square Miles  Population\n",
       "0    ALAMEDA                   825     1645359\n",
       "1     ALPINE                   727        1151\n",
       "2     AMADOR                   601       38382\n",
       "3      BUTTE                  1665      226404\n",
       "4  CALAVERAS                  1036       45168"
      ]
     },
     "execution_count": 31,
     "metadata": {},
     "output_type": "execute_result"
    }
   ],
   "source": [
    "counties['County'] = counties['County'].str.strip().str.upper()\n",
    "counties.head()"
   ]
  },
  {
   "cell_type": "markdown",
   "metadata": {},
   "source": [
    "### Merging datasets together"
   ]
  },
  {
   "cell_type": "code",
   "execution_count": 38,
   "metadata": {},
   "outputs": [],
   "source": [
    "merged = electric_2017.merge(CA_income_stats, on='County')\n",
    "merged = merged.merge(counties, on='County')"
   ]
  },
  {
   "cell_type": "code",
   "execution_count": 39,
   "metadata": {},
   "outputs": [
    {
     "data": {
      "text/html": [
       "<div>\n",
       "<style scoped>\n",
       "    .dataframe tbody tr th:only-of-type {\n",
       "        vertical-align: middle;\n",
       "    }\n",
       "\n",
       "    .dataframe tbody tr th {\n",
       "        vertical-align: top;\n",
       "    }\n",
       "\n",
       "    .dataframe thead th {\n",
       "        text-align: right;\n",
       "    }\n",
       "</style>\n",
       "<table border=\"1\" class=\"dataframe\">\n",
       "  <thead>\n",
       "    <tr style=\"text-align: right;\">\n",
       "      <th></th>\n",
       "      <th>County</th>\n",
       "      <th>Energy Use</th>\n",
       "      <th>Mean Income</th>\n",
       "      <th>Median Income</th>\n",
       "      <th>Standard Deviation of Income</th>\n",
       "      <th>Area in Square Miles</th>\n",
       "      <th>Population</th>\n",
       "    </tr>\n",
       "  </thead>\n",
       "  <tbody>\n",
       "    <tr>\n",
       "      <th>0</th>\n",
       "      <td>ALAMEDA</td>\n",
       "      <td>11079.450563</td>\n",
       "      <td>78596.131394</td>\n",
       "      <td>101372.401854</td>\n",
       "      <td>53885.474425</td>\n",
       "      <td>825</td>\n",
       "      <td>1645359</td>\n",
       "    </tr>\n",
       "    <tr>\n",
       "      <th>1</th>\n",
       "      <td>AMADOR</td>\n",
       "      <td>313.312866</td>\n",
       "      <td>52845.666667</td>\n",
       "      <td>216879.000000</td>\n",
       "      <td>33820.000000</td>\n",
       "      <td>601</td>\n",
       "      <td>38382</td>\n",
       "    </tr>\n",
       "    <tr>\n",
       "      <th>2</th>\n",
       "      <td>BUTTE</td>\n",
       "      <td>1529.818607</td>\n",
       "      <td>63420.666667</td>\n",
       "      <td>49121.000000</td>\n",
       "      <td>51103.666667</td>\n",
       "      <td>1665</td>\n",
       "      <td>226404</td>\n",
       "    </tr>\n",
       "    <tr>\n",
       "      <th>3</th>\n",
       "      <td>FRESNO</td>\n",
       "      <td>7380.733777</td>\n",
       "      <td>43426.000000</td>\n",
       "      <td>159208.500000</td>\n",
       "      <td>50120.500000</td>\n",
       "      <td>5998</td>\n",
       "      <td>995975</td>\n",
       "    </tr>\n",
       "    <tr>\n",
       "      <th>4</th>\n",
       "      <td>GLENN</td>\n",
       "      <td>390.979920</td>\n",
       "      <td>43059.000000</td>\n",
       "      <td>36830.000000</td>\n",
       "      <td>25925.000000</td>\n",
       "      <td>1319</td>\n",
       "      <td>28731</td>\n",
       "    </tr>\n",
       "  </tbody>\n",
       "</table>\n",
       "</div>"
      ],
      "text/plain": [
       "    County    Energy Use   Mean Income  Median Income  \\\n",
       "0  ALAMEDA  11079.450563  78596.131394  101372.401854   \n",
       "1   AMADOR    313.312866  52845.666667  216879.000000   \n",
       "2    BUTTE   1529.818607  63420.666667   49121.000000   \n",
       "3   FRESNO   7380.733777  43426.000000  159208.500000   \n",
       "4    GLENN    390.979920  43059.000000   36830.000000   \n",
       "\n",
       "   Standard Deviation of Income  Area in Square Miles  Population  \n",
       "0                  53885.474425                   825     1645359  \n",
       "1                  33820.000000                   601       38382  \n",
       "2                  51103.666667                  1665      226404  \n",
       "3                  50120.500000                  5998      995975  \n",
       "4                  25925.000000                  1319       28731  "
      ]
     },
     "execution_count": 39,
     "metadata": {},
     "output_type": "execute_result"
    }
   ],
   "source": [
    "merged.head()"
   ]
  },
  {
   "cell_type": "markdown",
   "metadata": {},
   "source": [
    "# Data Visualization"
   ]
  },
  {
   "cell_type": "code",
   "execution_count": 27,
   "metadata": {},
   "outputs": [
    {
     "data": {
      "text/plain": [
       "<seaborn.axisgrid.FacetGrid at 0x7fb769f8d6d0>"
      ]
     },
     "execution_count": 27,
     "metadata": {},
     "output_type": "execute_result"
    },
    {
     "data": {
      "image/png": "[encoded data removed]",
      "text/plain": [
       "<Figure size 1080x360 with 1 Axes>"
      ]
     },
     "metadata": {},
     "output_type": "display_data"
    }
   ],
   "source": [
    "# Viewing distribution of Median Income Among CA Counties\n",
    "sns.set_palette(sns.color_palette(\"Accent\", 1))\n",
    "ax = sns.displot(merged['Median Income'], kde=True, bins=50, height=5, aspect=3)\n",
    "\n",
    "ax.set_axis_labels(\"Median Income\", \"Number of counties\")\n",
    "ax.set(title=\"Distribution of Median Income Among CA Counties\")"
   ]
  },
  {
   "cell_type": "markdown",
   "metadata": {},
   "source": [
    "The distribution for median income among CA counties in 2017 has a positive skew. Looking at the distribution graph, counties in CA have a median income around the 50,000 - 100,000 USD range. There are some outliers beyond 200,000 USD which is causing the skew in the data."
   ]
  },
  {
   "cell_type": "code",
   "execution_count": 28,
   "metadata": {},
   "outputs": [
    {
     "data": {
      "image/png": "[encoded data removed]",
      "text/plain": [
       "<Figure size 720x360 with 1 Axes>"
      ]
     },
     "metadata": {},
     "output_type": "display_data"
    }
   ],
   "source": [
    "# Viewing Distribution of Electricity Use Among CA Counties\n",
    "sns.set_palette(sns.color_palette(\"colorblind\", 1))\n",
    "ax = sns.displot(merged['Energy Use'], kde=True, bins=80, height=5, aspect=2)\n",
    "\n",
    "ax.set_axis_labels(\"Electricity Use (Usage in Millions of kWh)\", \"Number of counties\")\n",
    "ax.set(title=\"Electricity Use Among CA Counties\")\n",
    "plt.show()"
   ]
  },
  {
   "cell_type": "markdown",
   "metadata": {},
   "source": [
    "The distribution for electricity use among CA counties in 2017 has a positive skew. Most counties use an amount between 0 - 20,000 Millions of kWh of energy. There is an outlier beyond 30,000 Millions of kWh."
   ]
  },
  {
   "cell_type": "code",
   "execution_count": 29,
   "metadata": {},
   "outputs": [
    {
     "data": {
      "image/png": "[encoded data removed]",
      "text/plain": [
       "<Figure size 720x360 with 1 Axes>"
      ]
     },
     "metadata": {},
     "output_type": "display_data"
    }
   ],
   "source": [
    "# Viewing distribution of Population Among CA Counties\n",
    "sns.set_palette(sns.color_palette(\"flare\", 1))\n",
    "ax = sns.displot(merged['Population'], kde=True, bins=50, height=5, aspect=2)\n",
    "\n",
    "ax.set_axis_labels(\"Population\", \"Number of counties\")\n",
    "ax.set(title=\"Population of CA Counties\")\n",
    "plt.show()"
   ]
  },
  {
   "cell_type": "markdown",
   "metadata": {},
   "source": [
    "The distribution for population of CA counties has a positive skew, with most counties having a population count of between 0 - 4,000,000. There is an outlier beyond 4,000,000, which is responsible for the skew."
   ]
  },
  {
   "cell_type": "markdown",
   "metadata": {},
   "source": [
    "# Data Analysis & Results (EDA)"
   ]
  },
  {
   "cell_type": "code",
   "execution_count": 30,
   "metadata": {},
   "outputs": [
    {
     "data": {
      "text/html": [
       "<div>\n",
       "<style scoped>\n",
       "    .dataframe tbody tr th:only-of-type {\n",
       "        vertical-align: middle;\n",
       "    }\n",
       "\n",
       "    .dataframe tbody tr th {\n",
       "        vertical-align: top;\n",
       "    }\n",
       "\n",
       "    .dataframe thead th {\n",
       "        text-align: right;\n",
       "    }\n",
       "</style>\n",
       "<table border=\"1\" class=\"dataframe\">\n",
       "  <thead>\n",
       "    <tr style=\"text-align: right;\">\n",
       "      <th></th>\n",
       "      <th>County</th>\n",
       "      <th>Energy Use</th>\n",
       "      <th>Mean Income</th>\n",
       "      <th>Median Income</th>\n",
       "      <th>Standard Deviation of Income</th>\n",
       "      <th>Population</th>\n",
       "      <th>Area in Square Miles</th>\n",
       "    </tr>\n",
       "  </thead>\n",
       "  <tbody>\n",
       "    <tr>\n",
       "      <th>0</th>\n",
       "      <td>ALAMEDA</td>\n",
       "      <td>11079.450563</td>\n",
       "      <td>78596.131394</td>\n",
       "      <td>101372.401854</td>\n",
       "      <td>53885.474425</td>\n",
       "      <td>1646405</td>\n",
       "      <td>825</td>\n",
       "    </tr>\n",
       "    <tr>\n",
       "      <th>1</th>\n",
       "      <td>AMADOR</td>\n",
       "      <td>313.312866</td>\n",
       "      <td>52845.666667</td>\n",
       "      <td>216879.000000</td>\n",
       "      <td>33820.000000</td>\n",
       "      <td>38382</td>\n",
       "      <td>601</td>\n",
       "    </tr>\n",
       "    <tr>\n",
       "      <th>2</th>\n",
       "      <td>BUTTE</td>\n",
       "      <td>1529.818607</td>\n",
       "      <td>63420.666667</td>\n",
       "      <td>49121.000000</td>\n",
       "      <td>51103.666667</td>\n",
       "      <td>226403</td>\n",
       "      <td>1665</td>\n",
       "    </tr>\n",
       "    <tr>\n",
       "      <th>3</th>\n",
       "      <td>FRESNO</td>\n",
       "      <td>7380.733777</td>\n",
       "      <td>43426.000000</td>\n",
       "      <td>159208.500000</td>\n",
       "      <td>50120.500000</td>\n",
       "      <td>995233</td>\n",
       "      <td>5998</td>\n",
       "    </tr>\n",
       "    <tr>\n",
       "      <th>4</th>\n",
       "      <td>GLENN</td>\n",
       "      <td>390.979920</td>\n",
       "      <td>43059.000000</td>\n",
       "      <td>36830.000000</td>\n",
       "      <td>25925.000000</td>\n",
       "      <td>28730</td>\n",
       "      <td>1319</td>\n",
       "    </tr>\n",
       "  </tbody>\n",
       "</table>\n",
       "</div>"
      ],
      "text/plain": [
       "    County    Energy Use   Mean Income  Median Income  \\\n",
       "0  ALAMEDA  11079.450563  78596.131394  101372.401854   \n",
       "1   AMADOR    313.312866  52845.666667  216879.000000   \n",
       "2    BUTTE   1529.818607  63420.666667   49121.000000   \n",
       "3   FRESNO   7380.733777  43426.000000  159208.500000   \n",
       "4    GLENN    390.979920  43059.000000   36830.000000   \n",
       "\n",
       "   Standard Deviation of Income  Population  Area in Square Miles  \n",
       "0                  53885.474425     1646405                   825  \n",
       "1                  33820.000000       38382                   601  \n",
       "2                  51103.666667      226403                  1665  \n",
       "3                  50120.500000      995233                  5998  \n",
       "4                  25925.000000       28730                  1319  "
      ]
     },
     "execution_count": 30,
     "metadata": {},
     "output_type": "execute_result"
    }
   ],
   "source": [
    "merged.head()"
   ]
  },
  {
   "cell_type": "code",
   "execution_count": 31,
   "metadata": {},
   "outputs": [
    {
     "data": {
      "text/plain": [
       "County                           object\n",
       "Energy Use                      float64\n",
       "Mean Income                     float64\n",
       "Median Income                   float64\n",
       "Standard Deviation of Income    float64\n",
       "Population                        int64\n",
       "Area in Square Miles              int64\n",
       "dtype: object"
      ]
     },
     "execution_count": 31,
     "metadata": {},
     "output_type": "execute_result"
    }
   ],
   "source": [
    "merged.dtypes"
   ]
  },
  {
   "cell_type": "code",
   "execution_count": 44,
   "metadata": {},
   "outputs": [
    {
     "data": {
      "text/html": [
       "<div>\n",
       "<style scoped>\n",
       "    .dataframe tbody tr th:only-of-type {\n",
       "        vertical-align: middle;\n",
       "    }\n",
       "\n",
       "    .dataframe tbody tr th {\n",
       "        vertical-align: top;\n",
       "    }\n",
       "\n",
       "    .dataframe thead th {\n",
       "        text-align: right;\n",
       "    }\n",
       "</style>\n",
       "<table border=\"1\" class=\"dataframe\">\n",
       "  <thead>\n",
       "    <tr style=\"text-align: right;\">\n",
       "      <th></th>\n",
       "      <th>County</th>\n",
       "      <th>Energy Use</th>\n",
       "      <th>Mean Income</th>\n",
       "      <th>Median Income</th>\n",
       "      <th>Standard Deviation of Income</th>\n",
       "      <th>Population</th>\n",
       "      <th>Area in Square Miles</th>\n",
       "    </tr>\n",
       "  </thead>\n",
       "  <tbody>\n",
       "    <tr>\n",
       "      <th>9</th>\n",
       "      <td>LOS ANGELES</td>\n",
       "      <td>68656.720182</td>\n",
       "      <td>80469.625</td>\n",
       "      <td>69254.4375</td>\n",
       "      <td>56014.625</td>\n",
       "      <td>10231271</td>\n",
       "      <td>4079</td>\n",
       "    </tr>\n",
       "  </tbody>\n",
       "</table>\n",
       "</div>"
      ],
      "text/plain": [
       "        County    Energy Use  Mean Income  Median Income  \\\n",
       "9  LOS ANGELES  68656.720182    80469.625     69254.4375   \n",
       "\n",
       "   Standard Deviation of Income  Population  Area in Square Miles  \n",
       "9                     56014.625    10231271                  4079  "
      ]
     },
     "execution_count": 44,
     "metadata": {},
     "output_type": "execute_result"
    }
   ],
   "source": [
    "# identify outliers\n",
    "merged[merged['Energy Use'] > 30000]"
   ]
  },
  {
   "cell_type": "markdown",
   "metadata": {},
   "source": [
    "### Regression Analysis for Energy Use vs. Median Income"
   ]
  },
  {
   "cell_type": "code",
   "execution_count": 32,
   "metadata": {},
   "outputs": [
    {
     "data": {
      "image/png": "[encoded data removed]",
      "text/plain": [
       "<Figure size 360x360 with 1 Axes>"
      ]
     },
     "metadata": {},
     "output_type": "display_data"
    }
   ],
   "source": [
    "sns.lmplot(x = 'Median Income', y ='Energy Use', data = merged);"
   ]
  },
  {
   "cell_type": "code",
   "execution_count": 40,
   "metadata": {},
   "outputs": [
    {
     "data": {
      "text/html": [
       "<div>\n",
       "<style scoped>\n",
       "    .dataframe tbody tr th:only-of-type {\n",
       "        vertical-align: middle;\n",
       "    }\n",
       "\n",
       "    .dataframe tbody tr th {\n",
       "        vertical-align: top;\n",
       "    }\n",
       "\n",
       "    .dataframe thead th {\n",
       "        text-align: right;\n",
       "    }\n",
       "</style>\n",
       "<table border=\"1\" class=\"dataframe\">\n",
       "  <thead>\n",
       "    <tr style=\"text-align: right;\">\n",
       "      <th></th>\n",
       "      <th>County</th>\n",
       "      <th>Energy Use</th>\n",
       "      <th>Mean Income</th>\n",
       "      <th>Median Income</th>\n",
       "      <th>Standard Deviation of Income</th>\n",
       "      <th>Area in Square Miles</th>\n",
       "      <th>Population</th>\n",
       "    </tr>\n",
       "  </thead>\n",
       "  <tbody>\n",
       "    <tr>\n",
       "      <th>1</th>\n",
       "      <td>AMADOR</td>\n",
       "      <td>313.312866</td>\n",
       "      <td>52845.666667</td>\n",
       "      <td>216879.0</td>\n",
       "      <td>33820.0</td>\n",
       "      <td>601</td>\n",
       "      <td>38382</td>\n",
       "    </tr>\n",
       "    <tr>\n",
       "      <th>8</th>\n",
       "      <td>LASSEN</td>\n",
       "      <td>385.690994</td>\n",
       "      <td>91621.500000</td>\n",
       "      <td>300000.0</td>\n",
       "      <td>48305.5</td>\n",
       "      <td>4690</td>\n",
       "      <td>30918</td>\n",
       "    </tr>\n",
       "    <tr>\n",
       "      <th>17</th>\n",
       "      <td>NEVADA</td>\n",
       "      <td>740.855019</td>\n",
       "      <td>30614.000000</td>\n",
       "      <td>300000.0</td>\n",
       "      <td>2958.0</td>\n",
       "      <td>992</td>\n",
       "      <td>98828</td>\n",
       "    </tr>\n",
       "  </tbody>\n",
       "</table>\n",
       "</div>"
      ],
      "text/plain": [
       "    County  Energy Use   Mean Income  Median Income  \\\n",
       "1   AMADOR  313.312866  52845.666667       216879.0   \n",
       "8   LASSEN  385.690994  91621.500000       300000.0   \n",
       "17  NEVADA  740.855019  30614.000000       300000.0   \n",
       "\n",
       "    Standard Deviation of Income  Area in Square Miles  Population  \n",
       "1                        33820.0                   601       38382  \n",
       "8                        48305.5                  4690       30918  \n",
       "17                        2958.0                   992       98828  "
      ]
     },
     "execution_count": 40,
     "metadata": {},
     "output_type": "execute_result"
    }
   ],
   "source": [
    "# identify outliers\n",
    "merged[merged['Median Income'] > 200000]"
   ]
  },
  {
   "cell_type": "code",
   "execution_count": 35,
   "metadata": {},
   "outputs": [
    {
     "name": "stdout",
     "output_type": "stream",
     "text": [
      "                            OLS Regression Results                            \n",
      "==============================================================================\n",
      "Dep. Variable:                 energy   R-squared:                       0.009\n",
      "Model:                            OLS   Adj. R-squared:                 -0.017\n",
      "Method:                 Least Squares   F-statistic:                    0.3327\n",
      "Date:                Tue, 07 Dec 2021   Prob (F-statistic):              0.567\n",
      "Time:                        10:12:11   Log-Likelihood:                -431.03\n",
      "No. Observations:                  40   AIC:                             866.1\n",
      "Df Residuals:                      38   BIC:                             869.4\n",
      "Df Model:                           1                                         \n",
      "Covariance Type:            nonrobust                                         \n",
      "==============================================================================\n",
      "                 coef    std err          t      P>|t|      [0.025      0.975]\n",
      "------------------------------------------------------------------------------\n",
      "Intercept   8089.8899   3257.118      2.484      0.018    1496.198    1.47e+04\n",
      "med           -0.0169      0.029     -0.577      0.567      -0.076       0.042\n",
      "==============================================================================\n",
      "Omnibus:                       64.785   Durbin-Watson:                   2.082\n",
      "Prob(Omnibus):                  0.000   Jarque-Bera (JB):              603.424\n",
      "Skew:                           3.859   Prob(JB):                    9.29e-132\n",
      "Kurtosis:                      20.392   Cond. No.                     1.93e+05\n",
      "==============================================================================\n",
      "\n",
      "Notes:\n",
      "[1] Standard Errors assume that the covariance matrix of the errors is correctly specified.\n",
      "[2] The condition number is large, 1.93e+05. This might indicate that there are\n",
      "strong multicollinearity or other numerical problems.\n"
     ]
    }
   ],
   "source": [
    "energy = merged['Energy Use']\n",
    "med = merged['Median Income']\n",
    "dependent, predictors = patsy.dmatrices('energy ~ med', merged)\n",
    "model = sm.OLS(dependent, predictors)\n",
    "res_1 = model.fit()\n",
    "print(res_1.summary())"
   ]
  },
  {
   "cell_type": "markdown",
   "metadata": {},
   "source": [
    "This plot and regression analysis show that median income is uncorrleated with energy use."
   ]
  },
  {
   "cell_type": "markdown",
   "metadata": {},
   "source": [
    "### Regression Analysis for Energy Use vs. Mean Income"
   ]
  },
  {
   "cell_type": "code",
   "execution_count": 42,
   "metadata": {},
   "outputs": [
    {
     "data": {
      "image/png": "[encoded data removed]",
      "text/plain": [
       "<Figure size 360x360 with 1 Axes>"
      ]
     },
     "metadata": {},
     "output_type": "display_data"
    }
   ],
   "source": [
    "sns.lmplot(x = 'Mean Income', y ='Energy Use', data = merged);"
   ]
  },
  {
   "cell_type": "code",
   "execution_count": 43,
   "metadata": {},
   "outputs": [
    {
     "name": "stdout",
     "output_type": "stream",
     "text": [
      "                            OLS Regression Results                            \n",
      "==============================================================================\n",
      "Dep. Variable:                 energy   R-squared:                       0.080\n",
      "Model:                            OLS   Adj. R-squared:                  0.056\n",
      "Method:                 Least Squares   F-statistic:                     3.311\n",
      "Date:                Tue, 07 Dec 2021   Prob (F-statistic):             0.0767\n",
      "Time:                        10:16:18   Log-Likelihood:                -429.54\n",
      "No. Observations:                  40   AIC:                             863.1\n",
      "Df Residuals:                      38   BIC:                             866.5\n",
      "Df Model:                           1                                         \n",
      "Covariance Type:            nonrobust                                         \n",
      "==============================================================================\n",
      "                 coef    std err          t      P>|t|      [0.025      0.975]\n",
      "------------------------------------------------------------------------------\n",
      "Intercept  -2035.7386   5055.867     -0.403      0.689   -1.23e+04    8199.330\n",
      "med            0.1326      0.073      1.820      0.077      -0.015       0.280\n",
      "==============================================================================\n",
      "Omnibus:                       65.564   Durbin-Watson:                   2.233\n",
      "Prob(Omnibus):                  0.000   Jarque-Bera (JB):              651.075\n",
      "Skew:                           3.883   Prob(JB):                    4.18e-142\n",
      "Kurtosis:                      21.175   Cond. No.                     1.94e+05\n",
      "==============================================================================\n",
      "\n",
      "Notes:\n",
      "[1] Standard Errors assume that the covariance matrix of the errors is correctly specified.\n",
      "[2] The condition number is large, 1.94e+05. This might indicate that there are\n",
      "strong multicollinearity or other numerical problems.\n"
     ]
    }
   ],
   "source": [
    "energy = merged['Energy Use']\n",
    "med = merged['Mean Income']\n",
    "dependent, predictors = patsy.dmatrices('energy ~ med', merged)\n",
    "model = sm.OLS(dependent, predictors)\n",
    "res_1 = model.fit()\n",
    "print(res_1.summary())"
   ]
  },
  {
   "cell_type": "markdown",
   "metadata": {},
   "source": [
    "This plot and regression analysis show that mean income is slightly positivly correlated with energy use, the r squared value is not statistically significant."
   ]
  },
  {
   "cell_type": "markdown",
   "metadata": {},
   "source": [
    "### Regression Analysis for Energy Use vs. Standard Deviation of Income"
   ]
  },
  {
   "cell_type": "code",
   "execution_count": 36,
   "metadata": {},
   "outputs": [
    {
     "data": {
      "image/png": "[encoded data removed]",
      "text/plain": [
       "<Figure size 360x360 with 1 Axes>"
      ]
     },
     "metadata": {},
     "output_type": "display_data"
    }
   ],
   "source": [
    "sns.lmplot(x = 'Standard Deviation of Income', y ='Energy Use', data = merged);"
   ]
  },
  {
   "cell_type": "code",
   "execution_count": 38,
   "metadata": {},
   "outputs": [
    {
     "name": "stdout",
     "output_type": "stream",
     "text": [
      "                            OLS Regression Results                            \n",
      "==============================================================================\n",
      "Dep. Variable:                 energy   R-squared:                       0.117\n",
      "Model:                            OLS   Adj. R-squared:                  0.094\n",
      "Method:                 Least Squares   F-statistic:                     5.047\n",
      "Date:                Tue, 07 Dec 2021   Prob (F-statistic):             0.0306\n",
      "Time:                        10:13:44   Log-Likelihood:                -428.71\n",
      "No. Observations:                  40   AIC:                             861.4\n",
      "Df Residuals:                      38   BIC:                             864.8\n",
      "Df Model:                           1                                         \n",
      "Covariance Type:            nonrobust                                         \n",
      "==============================================================================\n",
      "                 coef    std err          t      P>|t|      [0.025      0.975]\n",
      "------------------------------------------------------------------------------\n",
      "Intercept  -4291.2988   5143.185     -0.834      0.409   -1.47e+04    6120.534\n",
      "med            0.2430      0.108      2.246      0.031       0.024       0.462\n",
      "==============================================================================\n",
      "Omnibus:                       66.895   Durbin-Watson:                   2.181\n",
      "Prob(Omnibus):                  0.000   Jarque-Bera (JB):              701.808\n",
      "Skew:                           3.970   Prob(JB):                    4.02e-153\n",
      "Kurtosis:                      21.922   Cond. No.                     1.38e+05\n",
      "==============================================================================\n",
      "\n",
      "Notes:\n",
      "[1] Standard Errors assume that the covariance matrix of the errors is correctly specified.\n",
      "[2] The condition number is large, 1.38e+05. This might indicate that there are\n",
      "strong multicollinearity or other numerical problems.\n"
     ]
    }
   ],
   "source": [
    "energy = merged['Energy Use']\n",
    "med = merged['Standard Deviation of Income']\n",
    "dependent, predictors = patsy.dmatrices('energy ~ med', merged)\n",
    "model = sm.OLS(dependent, predictors)\n",
    "res_1 = model.fit()\n",
    "print(res_1.summary())"
   ]
  },
  {
   "cell_type": "markdown",
   "metadata": {},
   "source": [
    "This plot and regression analysis show that standard deviation of income is slightly positivly correlated with energy use, but the r squared value is not statistically significant."
   ]
  },
  {
   "cell_type": "markdown",
   "metadata": {},
   "source": [
    "### Regression Analysis for Energy Use vs. Population"
   ]
  },
  {
   "cell_type": "code",
   "execution_count": 33,
   "metadata": {},
   "outputs": [
    {
     "data": {
      "image/png": "[encoded data removed]",
      "text/plain": [
       "<Figure size 360x360 with 1 Axes>"
      ]
     },
     "metadata": {},
     "output_type": "display_data"
    }
   ],
   "source": [
    "sns.lmplot(x = 'Population', y ='Energy Use', data = merged);"
   ]
  },
  {
   "cell_type": "code",
   "execution_count": 41,
   "metadata": {
    "scrolled": true
   },
   "outputs": [
    {
     "data": {
      "text/html": [
       "<div>\n",
       "<style scoped>\n",
       "    .dataframe tbody tr th:only-of-type {\n",
       "        vertical-align: middle;\n",
       "    }\n",
       "\n",
       "    .dataframe tbody tr th {\n",
       "        vertical-align: top;\n",
       "    }\n",
       "\n",
       "    .dataframe thead th {\n",
       "        text-align: right;\n",
       "    }\n",
       "</style>\n",
       "<table border=\"1\" class=\"dataframe\">\n",
       "  <thead>\n",
       "    <tr style=\"text-align: right;\">\n",
       "      <th></th>\n",
       "      <th>County</th>\n",
       "      <th>Energy Use</th>\n",
       "      <th>Mean Income</th>\n",
       "      <th>Median Income</th>\n",
       "      <th>Standard Deviation of Income</th>\n",
       "      <th>Area in Square Miles</th>\n",
       "      <th>Population</th>\n",
       "    </tr>\n",
       "  </thead>\n",
       "  <tbody>\n",
       "    <tr>\n",
       "      <th>9</th>\n",
       "      <td>LOS ANGELES</td>\n",
       "      <td>68656.720182</td>\n",
       "      <td>80469.625</td>\n",
       "      <td>69254.4375</td>\n",
       "      <td>56014.625</td>\n",
       "      <td>4079</td>\n",
       "      <td>10241278</td>\n",
       "    </tr>\n",
       "  </tbody>\n",
       "</table>\n",
       "</div>"
      ],
      "text/plain": [
       "        County    Energy Use  Mean Income  Median Income  \\\n",
       "9  LOS ANGELES  68656.720182    80469.625     69254.4375   \n",
       "\n",
       "   Standard Deviation of Income  Area in Square Miles  Population  \n",
       "9                     56014.625                  4079    10241278  "
      ]
     },
     "execution_count": 41,
     "metadata": {},
     "output_type": "execute_result"
    }
   ],
   "source": [
    "# identify outliers\n",
    "merged[merged['Population'] > 10000000]"
   ]
  },
  {
   "cell_type": "code",
   "execution_count": 36,
   "metadata": {},
   "outputs": [
    {
     "name": "stdout",
     "output_type": "stream",
     "text": [
      "                            OLS Regression Results                            \n",
      "==============================================================================\n",
      "Dep. Variable:                 energy   R-squared:                       0.966\n",
      "Model:                            OLS   Adj. R-squared:                  0.965\n",
      "Method:                 Least Squares   F-statistic:                     1089.\n",
      "Date:                Tue, 07 Dec 2021   Prob (F-statistic):           1.40e-29\n",
      "Time:                        10:12:54   Log-Likelihood:                -363.41\n",
      "No. Observations:                  40   AIC:                             730.8\n",
      "Df Residuals:                      38   BIC:                             734.2\n",
      "Df Model:                           1                                         \n",
      "Covariance Type:            nonrobust                                         \n",
      "==============================================================================\n",
      "                 coef    std err          t      P>|t|      [0.025      0.975]\n",
      "------------------------------------------------------------------------------\n",
      "Intercept    536.1050    391.496      1.369      0.179    -256.437    1328.647\n",
      "population     0.0067      0.000     32.999      0.000       0.006       0.007\n",
      "==============================================================================\n",
      "Omnibus:                       73.324   Durbin-Watson:                   2.162\n",
      "Prob(Omnibus):                  0.000   Jarque-Bera (JB):              950.768\n",
      "Skew:                           4.459   Prob(JB):                    3.49e-207\n",
      "Kurtosis:                      25.157   Cond. No.                     2.19e+06\n",
      "==============================================================================\n",
      "\n",
      "Notes:\n",
      "[1] Standard Errors assume that the covariance matrix of the errors is correctly specified.\n",
      "[2] The condition number is large, 2.19e+06. This might indicate that there are\n",
      "strong multicollinearity or other numerical problems.\n"
     ]
    }
   ],
   "source": [
    "energy = merged['Energy Use']\n",
    "population = merged['Population']\n",
    "dependent, predictors = patsy.dmatrices('energy ~ population', merged)\n",
    "model = sm.OLS(dependent, predictors)\n",
    "res_2 = model.fit()\n",
    "print(res_2.summary())"
   ]
  },
  {
   "cell_type": "markdown",
   "metadata": {},
   "source": [
    "This plot and regression analysis show that population is highly positivly correlated with energy use, and is likley to be a predictive factor."
   ]
  },
  {
   "cell_type": "markdown",
   "metadata": {},
   "source": [
    "### Regression Analysis for Energy Use vs. Area in Square Miles"
   ]
  },
  {
   "cell_type": "code",
   "execution_count": 37,
   "metadata": {},
   "outputs": [
    {
     "data": {
      "image/png": "[encoded data removed]",
      "text/plain": [
       "<Figure size 360x360 with 1 Axes>"
      ]
     },
     "metadata": {},
     "output_type": "display_data"
    }
   ],
   "source": [
    "sns.lmplot(x = 'Area in Square Miles', y ='Energy Use', data = merged);"
   ]
  },
  {
   "cell_type": "code",
   "execution_count": 42,
   "metadata": {},
   "outputs": [
    {
     "data": {
      "text/html": [
       "<div>\n",
       "<style scoped>\n",
       "    .dataframe tbody tr th:only-of-type {\n",
       "        vertical-align: middle;\n",
       "    }\n",
       "\n",
       "    .dataframe tbody tr th {\n",
       "        vertical-align: top;\n",
       "    }\n",
       "\n",
       "    .dataframe thead th {\n",
       "        text-align: right;\n",
       "    }\n",
       "</style>\n",
       "<table border=\"1\" class=\"dataframe\">\n",
       "  <thead>\n",
       "    <tr style=\"text-align: right;\">\n",
       "      <th></th>\n",
       "      <th>County</th>\n",
       "      <th>Energy Use</th>\n",
       "      <th>Mean Income</th>\n",
       "      <th>Median Income</th>\n",
       "      <th>Standard Deviation of Income</th>\n",
       "      <th>Area in Square Miles</th>\n",
       "      <th>Population</th>\n",
       "    </tr>\n",
       "  </thead>\n",
       "  <tbody>\n",
       "    <tr>\n",
       "      <th>23</th>\n",
       "      <td>SAN BERNARDINO</td>\n",
       "      <td>15283.329154</td>\n",
       "      <td>63765.818182</td>\n",
       "      <td>52047.545455</td>\n",
       "      <td>48323.545455</td>\n",
       "      <td>20164</td>\n",
       "      <td>2160256</td>\n",
       "    </tr>\n",
       "  </tbody>\n",
       "</table>\n",
       "</div>"
      ],
      "text/plain": [
       "            County    Energy Use   Mean Income  Median Income  \\\n",
       "23  SAN BERNARDINO  15283.329154  63765.818182   52047.545455   \n",
       "\n",
       "    Standard Deviation of Income  Area in Square Miles  Population  \n",
       "23                  48323.545455                 20164     2160256  "
      ]
     },
     "execution_count": 42,
     "metadata": {},
     "output_type": "execute_result"
    }
   ],
   "source": [
    "# identify outliers\n",
    "merged[merged['Area in Square Miles'] > 15000]"
   ]
  },
  {
   "cell_type": "code",
   "execution_count": 46,
   "metadata": {},
   "outputs": [
    {
     "name": "stdout",
     "output_type": "stream",
     "text": [
      "                            OLS Regression Results                            \n",
      "==============================================================================\n",
      "Dep. Variable:                 energy   R-squared:                       0.040\n",
      "Model:                            OLS   Adj. R-squared:                  0.015\n",
      "Method:                 Least Squares   F-statistic:                     1.576\n",
      "Date:                Mon, 06 Dec 2021   Prob (F-statistic):              0.217\n",
      "Time:                        10:48:37   Log-Likelihood:                -430.40\n",
      "No. Observations:                  40   AIC:                             864.8\n",
      "Df Residuals:                      38   BIC:                             868.2\n",
      "Df Model:                           1                                         \n",
      "Covariance Type:            nonrobust                                         \n",
      "==============================================================================\n",
      "                 coef    std err          t      P>|t|      [0.025      0.975]\n",
      "------------------------------------------------------------------------------\n",
      "Intercept   4429.4369   2506.569      1.767      0.085    -644.848    9503.721\n",
      "med            0.6664      0.531      1.256      0.217      -0.408       1.741\n",
      "==============================================================================\n",
      "Omnibus:                       66.841   Durbin-Watson:                   2.275\n",
      "Prob(Omnibus):                  0.000   Jarque-Bera (JB):              672.690\n",
      "Skew:                           4.000   Prob(JB):                    8.46e-147\n",
      "Kurtosis:                      21.428   Cond. No.                     6.40e+03\n",
      "==============================================================================\n",
      "\n",
      "Notes:\n",
      "[1] Standard Errors assume that the covariance matrix of the errors is correctly specified.\n",
      "[2] The condition number is large, 6.4e+03. This might indicate that there are\n",
      "strong multicollinearity or other numerical problems.\n"
     ]
    }
   ],
   "source": [
    "energy = merged['Energy Use']\n",
    "med = merged['Area in Square Miles']\n",
    "dependent, predictors = patsy.dmatrices('energy ~ med', merged)\n",
    "model = sm.OLS(dependent, predictors)\n",
    "res_1 = model.fit()\n",
    "print(res_1.summary())"
   ]
  },
  {
   "cell_type": "markdown",
   "metadata": {},
   "source": [
    "This plot and regression analysis show that area is uncorrleated with energy use."
   ]
  },
  {
   "cell_type": "markdown",
   "metadata": {},
   "source": [
    "### Building a Predictive Model"
   ]
  },
  {
   "cell_type": "code",
   "execution_count": 57,
   "metadata": {},
   "outputs": [
    {
     "data": {
      "text/html": [
       "<div>\n",
       "<style scoped>\n",
       "    .dataframe tbody tr th:only-of-type {\n",
       "        vertical-align: middle;\n",
       "    }\n",
       "\n",
       "    .dataframe tbody tr th {\n",
       "        vertical-align: top;\n",
       "    }\n",
       "\n",
       "    .dataframe thead th {\n",
       "        text-align: right;\n",
       "    }\n",
       "</style>\n",
       "<table border=\"1\" class=\"dataframe\">\n",
       "  <thead>\n",
       "    <tr style=\"text-align: right;\">\n",
       "      <th></th>\n",
       "      <th>County</th>\n",
       "      <th>Energy Use</th>\n",
       "      <th>Mean Income</th>\n",
       "      <th>Median Income</th>\n",
       "      <th>Standard Deviation of Income</th>\n",
       "      <th>Population</th>\n",
       "      <th>Area in Square Miles</th>\n",
       "    </tr>\n",
       "  </thead>\n",
       "  <tbody>\n",
       "    <tr>\n",
       "      <th>0</th>\n",
       "      <td>ALAMEDA</td>\n",
       "      <td>11079.450563</td>\n",
       "      <td>78596.131394</td>\n",
       "      <td>101372.401854</td>\n",
       "      <td>53885.474425</td>\n",
       "      <td>1646405</td>\n",
       "      <td>825</td>\n",
       "    </tr>\n",
       "    <tr>\n",
       "      <th>1</th>\n",
       "      <td>AMADOR</td>\n",
       "      <td>313.312866</td>\n",
       "      <td>52845.666667</td>\n",
       "      <td>216879.000000</td>\n",
       "      <td>33820.000000</td>\n",
       "      <td>38382</td>\n",
       "      <td>601</td>\n",
       "    </tr>\n",
       "    <tr>\n",
       "      <th>2</th>\n",
       "      <td>BUTTE</td>\n",
       "      <td>1529.818607</td>\n",
       "      <td>63420.666667</td>\n",
       "      <td>49121.000000</td>\n",
       "      <td>51103.666667</td>\n",
       "      <td>226403</td>\n",
       "      <td>1665</td>\n",
       "    </tr>\n",
       "    <tr>\n",
       "      <th>3</th>\n",
       "      <td>FRESNO</td>\n",
       "      <td>7380.733777</td>\n",
       "      <td>43426.000000</td>\n",
       "      <td>159208.500000</td>\n",
       "      <td>50120.500000</td>\n",
       "      <td>995233</td>\n",
       "      <td>5998</td>\n",
       "    </tr>\n",
       "    <tr>\n",
       "      <th>4</th>\n",
       "      <td>GLENN</td>\n",
       "      <td>390.979920</td>\n",
       "      <td>43059.000000</td>\n",
       "      <td>36830.000000</td>\n",
       "      <td>25925.000000</td>\n",
       "      <td>28730</td>\n",
       "      <td>1319</td>\n",
       "    </tr>\n",
       "  </tbody>\n",
       "</table>\n",
       "</div>"
      ],
      "text/plain": [
       "    County    Energy Use   Mean Income  Median Income  \\\n",
       "0  ALAMEDA  11079.450563  78596.131394  101372.401854   \n",
       "1   AMADOR    313.312866  52845.666667  216879.000000   \n",
       "2    BUTTE   1529.818607  63420.666667   49121.000000   \n",
       "3   FRESNO   7380.733777  43426.000000  159208.500000   \n",
       "4    GLENN    390.979920  43059.000000   36830.000000   \n",
       "\n",
       "   Standard Deviation of Income  Population  Area in Square Miles  \n",
       "0                  53885.474425     1646405                   825  \n",
       "1                  33820.000000       38382                   601  \n",
       "2                  51103.666667      226403                  1665  \n",
       "3                  50120.500000      995233                  5998  \n",
       "4                  25925.000000       28730                  1319  "
      ]
     },
     "execution_count": 57,
     "metadata": {},
     "output_type": "execute_result"
    }
   ],
   "source": [
    "merged.head()"
   ]
  },
  {
   "cell_type": "markdown",
   "metadata": {},
   "source": [
    "#### Create training and test sets"
   ]
  },
  {
   "cell_type": "code",
   "execution_count": 48,
   "metadata": {},
   "outputs": [],
   "source": [
    "num_training = int(len(merged)*.8)\n",
    "num_testing = int(len(merged) - num_training)"
   ]
  },
  {
   "cell_type": "code",
   "execution_count": 104,
   "metadata": {},
   "outputs": [],
   "source": [
    "merged_X = merged[['Population', 'Mean Income', 'Standard Deviation of Income', 'County']]\n",
    "merged_Y = np.array(merged['Energy Use'])"
   ]
  },
  {
   "cell_type": "code",
   "execution_count": 105,
   "metadata": {},
   "outputs": [],
   "source": [
    "merged_train_X = merged_X[:num_training]\n",
    "merged_train_Y = merged_Y[:num_training]\n",
    "merged_test_X = merged_X[num_training:]\n",
    "merged_test_Y = merged_Y[num_training:]"
   ]
  },
  {
   "cell_type": "markdown",
   "metadata": {},
   "source": [
    "#### Build model with selected features"
   ]
  },
  {
   "cell_type": "code",
   "execution_count": 136,
   "metadata": {},
   "outputs": [],
   "source": [
    "def energy_model(df):\n",
    "    \n",
    "    preproc = ColumnTransformer(transformers=[('County', OneHotEncoder(), ['County'])])\n",
    "    p = Pipeline(steps=[('preprocessor', preproc), ('tree', KNeighborsRegressor(n_neighbors=2))])\n",
    "    p.fit(df[['Population', 'Mean Income', 'Standard Deviation of Income', 'County']], df['Energy Use'])\n",
    "\n",
    "    return p"
   ]
  },
  {
   "cell_type": "code",
   "execution_count": 137,
   "metadata": {},
   "outputs": [],
   "source": [
    "regr1 = energy_model(merged)"
   ]
  },
  {
   "cell_type": "markdown",
   "metadata": {},
   "source": [
    "#### Test model performance on training and test sets"
   ]
  },
  {
   "cell_type": "code",
   "execution_count": 138,
   "metadata": {},
   "outputs": [
    {
     "data": {
      "text/plain": [
       "0.6652634617758859"
      ]
     },
     "execution_count": 138,
     "metadata": {},
     "output_type": "execute_result"
    }
   ],
   "source": [
    "regr1.score(merged_train_X, merged_train_Y)"
   ]
  },
  {
   "cell_type": "code",
   "execution_count": 139,
   "metadata": {},
   "outputs": [
    {
     "data": {
      "text/plain": [
       "0.3841154557123838"
      ]
     },
     "execution_count": 139,
     "metadata": {},
     "output_type": "execute_result"
    }
   ],
   "source": [
    "regr1.score(merged_test_X, merged_test_Y)"
   ]
  },
  {
   "cell_type": "markdown",
   "metadata": {},
   "source": [
    "# Ethics & Privacy"
   ]
  },
  {
   "cell_type": "markdown",
   "metadata": {},
   "source": [
    "We did not include any personally identifying information (ex. family income, address) within our data, as we used average income levels that is publicly available on the internet. There is also no record of individual household incomes or specific addresses, as we correlated average income levels with different counties in California. We cannot know where in the county a household is located or how much their annual income is based on the level of specifity in our data.\n",
    "\n",
    "In terms of including a representative sample, no populations should have been left out since we used county and state documentation of income levels and energy consumption levels, and data from all populations within a county or state should have been accounted for. Variables like income level and energy consumption can be objectively collected, so human biases in collecting the data should not be a concern."
   ]
  },
  {
   "cell_type": "markdown",
   "metadata": {},
   "source": [
    "# Conclusion & Discussion"
   ]
  },
  {
   "cell_type": "markdown",
   "metadata": {},
   "source": [
    "In this project, we aimed to understand how income statistics of a county could help predict the energy use of that county. Initially, we thought that the higher the median income of a county, the more energy they would use. After doing a regression analysis on energy use vs. median income, we found that they were uncorrelated. We performed regression analysis on more variables and found that energy use was very highly (positively) correlated with population, but was not correlated with the any income statistics or area (in square miles) of the county. We realized that while a larger income may lead to more energy use on an individual (or even neighborhood-wide level), this does not extend to larger areas such as counties. On the county level, we also need to take into account the energy used by public facilities (not just individual households) and also the wide range of incomes a single county can have. \n",
    "\n",
    "After performing the regressions analysis, we attempted to build a predictive model that would predict how much energy a county would use. We used the KNeighborsRegressor model from sklearn (using 2 neighbors). We based the features we used on how well they correlated with energy use, so we used population, mean income, and standard deviation of income (and county). Althought median and standard deviatin of income were not did not have statistcally significant r squared values, they still showed slight correlation in the graphs and we wanted to use more variable in our model. We split our dataset into training and testing data. Our model performed with 66% accuracy on our training data and with 38% accuracy on our testing data. Our model did not perform very well partially due to the lack of data. Since we only used California counties, we had very few data points. Our model could have been trained better if we used more data, such as using all the counties in the US or performing the same process on a city-wide basis.We used 4 data sets, and although they had many variables, only a few were actually usable for our prediction model, and this created some limitations. Our model could be improved by using more predictive variables. Population size was very predictive, but our other variables were not as strongly correlated.\n",
    "\n",
    "In conclusion, we found that the mean income and standard deviation of income are positively correlated with a county’s energy use, but that income statistics are not as strongly correlated, or as strong of a predictor, than a county’s population is. Energy consumption is currently one of the major topics in the environmental sphere. Many areas are switching to using clean energy - even San Diego has stopped building houses that use gas. Being able to predict a neighborhood, or city, or county’s energy use can be valuable as it can help leaders make decisions about important changes being implemented such as new methods to source clean energy. However, this issue is complex, because clean energy can also be more expensive. This can affect a city or county on a large scale, but can also affect people on an individual level. There has been research that shows that the increasing energy costs in California, due to the transition to cleaner energy, is leading to higher rates of poverty. This is one example of why it is important to look at issues such as energy use through an intersectional perspective. The kind work we did is valuable, and the transition to cleaner energy is important for our future, but as data scientists, we need to make sure to look at our data from every angle to make sure we can help make decisions that ultimately benefit our society."
   ]
  },
  {
   "cell_type": "markdown",
   "metadata": {},
   "source": [
    "# Team Contributions"
   ]
  },
  {
   "cell_type": "markdown",
   "metadata": {},
   "source": [
    "- Amiet: data analysis, discussion and conclusions \n",
    "\n",
    "- Olivia: Background & prior Work, dataset research, research question formation, overview, slides for video presentation, overall proofreading \n",
    "\n",
    "- Katie: Background resources, dataset research, data summarization, general data cleaning, video presentation, video editing\n",
    "\n",
    "- Riley: EDA, ethics and privacy \n"
   ]
  }
 ],
 "metadata": {
  "kernelspec": {
   "display_name": "Python 3",
   "language": "python",
   "name": "python3"
  },
  "language_info": {
   "codemirror_mode": {
    "name": "ipython",
    "version": 3
   },
   "file_extension": ".py",
   "mimetype": "text/x-python",
   "name": "python",
   "nbconvert_exporter": "python",
   "pygments_lexer": "ipython3",
   "version": "3.8.5"
  }
 },
 "nbformat": 4,
 "nbformat_minor": 2
}
