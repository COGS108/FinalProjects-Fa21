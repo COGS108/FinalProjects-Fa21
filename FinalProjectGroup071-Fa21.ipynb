{
 "cells": [
  {
   "cell_type": "markdown",
   "metadata": {},
   "source": [
    "# COGS 108 - Final Project"
   ]
  },
  {
   "cell_type": "markdown",
   "metadata": {},
   "source": [
    "## Permission"
   ]
  },
  {
   "cell_type": "markdown",
   "metadata": {},
   "source": [
    "Place an X in the appropriate bracket below to specify if you would like your group's project to be made available to the public. (Note that student names will be included (but PIDs will be scraped from any groups who include their PIDs).\n",
    "\n",
    "[ x ] YES - make available\n",
    "[ ] NO - keep private"
   ]
  },
  {
   "cell_type": "markdown",
   "metadata": {},
   "source": [
    "# Names\n",
    "\n",
    "- Vincent Santos\n",
    "- Campbell Moco\n",
    "- Mary Mei Longano\n",
    "- Zara Nazir\n",
    "- Isabella Gonzalez "
   ]
  },
  {
   "cell_type": "markdown",
   "metadata": {},
   "source": [
    "## Background and Prior Work"
   ]
  },
  {
   "cell_type": "markdown",
   "metadata": {},
   "source": [
    "Since the onset of the COVID-19 pandemic, the general public has been polarized by the politicization of a global health crisis. Social media plays a major role in leading the general sentiment on pressing issues such as the Coronavirus. More apparently, the world has visualized this social disparity by observing the rate of vaccination. In a recent study, it was found that almost half of Americans get their news about COVID-19 vaccines from social media (Pew Research). It is important to note that a significant portion of the U.S. seeks insight on sociological and scientific topics by way of sensitized and unregulated platforms. \n",
    "\n",
    "  We focus primarily on the social media platform, Twitter. Twitter is a source of online news and social networking with around 200 million users worldwide and 34 million active U.S. users (Statistica). It is most commonly used to express quick and engaging bites about ongoing social matters, such as the pandemic. Twitter can be used as a powerful tool over the public–as we’ve seen by the former U.S. President rallying support and rising commotion through his tweets. One study used an algorithm to evaluate 1 million tweets related to the vaccine and discovered that the conversations were primarily influenced by political and nonmedical users (NIH). This implies that the vaccine conversations on twitter are sparked by personal and political stances, generally leaving the professional medical community out of it. Consequently, this has led to a unique relationship between social media activity, public sentiment, and its impact on the pandemic. \n",
    "    \n",
    "  Prior to the pandemic, a study conducted by Valdes et al analyzed over a million tweets from June 2011 to April 2019 in order to determine overall sentiment towards general vaccinations. The results showed a drop in neutral opinionated vaccination tweets and an increase in positive or negative vaccination tweets over time. Focusing on COVID-19, results from study conducted by Hussein et al displayed higher positive and negative sentiments compared to neutral sentiment. The study used natural language processing and deep learning algorithms in order to analyze over 300,000 social media posts including facebook and twitter. The prior study allowed us to want to further research and develop a question regarding the impact of vaccination sentiment due to social media. Our team is looking to explore if twitter sentiment has any relationship with vaccination rates.   \n",
    "\n",
    "References (include links):\n",
    "- https://www.pewresearch.org/fact-tank/2021/08/24/about-four-in-ten-americans-say-social-media-is-an-important-way-of-following-covid-19-vaccine-news/\n",
    "- https://pubmed.ncbi.nlm.nih.gov/33890838/ \n",
    "- https://www.statista.com/statistics/970911/monetizable-daily-active-twitter-users-in-the-united-states/ \n",
    "- https://www.mdpi.com/2076-393X/9/1/28/htm \n",
    "- https://www.jmir.org/2021/4/e26627 \n"
   ]
  },
  {
   "cell_type": "markdown",
   "metadata": {},
   "source": [
    "<a id='research_question'></a>\n",
    "# Research Question"
   ]
  },
  {
   "cell_type": "markdown",
   "metadata": {},
   "source": [
    "Is there any relationship between twitter vaccine sentiment and vaccination rates within the United States? "
   ]
  },
  {
   "cell_type": "markdown",
   "metadata": {},
   "source": [
    "# The Data"
   ]
  },
  {
   "cell_type": "markdown",
   "metadata": {},
   "source": [
    "The first data set collected was obtained from the CDC and is titled \"COVID-19 Vaccinations in the United States, Jurisdiction\". This allowed us to look at multiple vaccination rate and distribution variables. The second data set was collected from kaggle and is titled \"COVID-19 All Vaccines Tweets\", this file contained tweets containing specific key words relating to Covid 19 vaccinations, each observation contained information about the tweet such as the user, location, date, etc. Due to time constraints and the immense amount of data there was per file, and because we wanted to do a sentiment analysis as well, we condensed our data frame to facilitate this. "
   ]
  },
  {
   "cell_type": "markdown",
   "metadata": {},
   "source": [
    "# Hypothesis"
   ]
  },
  {
   "cell_type": "markdown",
   "metadata": {},
   "source": [
    "Although at first our goal was to see if twitter sentiment influenced vaccination rates, upon further research we realized that due to the nature of the pandemic and the increasing requirements of vaccinations that have come with it, that vaccination rates would increase throughout time regardless of twitter sentiment. So instead we want to observe if the vaccination rates affect twitter sentiment. The null hypothesis is that vaccination rates have no effect on twitter sentiment, the alternative hypothesis is that vaccination rates do have an effect on twitter sentiment. "
   ]
  },
  {
   "cell_type": "markdown",
   "metadata": {},
   "source": [
    "# Setup"
   ]
  },
  {
   "cell_type": "markdown",
   "metadata": {},
   "source": [
    "In order to analyze the sentiment of tweets we will be using the vaderSentiment python package that has built in functions that provide the sentiment of each individual tweet. vaderSentiment also has a lexicon catered specifically for social media posts that aids in determining the polarity of each tweet."
   ]
  },
  {
   "cell_type": "code",
   "execution_count": 44,
   "metadata": {},
   "outputs": [
    {
     "name": "stdout",
     "output_type": "stream",
     "text": [
      "Defaulting to user installation because normal site-packages is not writeable\n",
      "Requirement already satisfied: vaderSentiment in /home/jvsantos/.local/lib/python3.9/site-packages (3.3.2)\n",
      "Requirement already satisfied: requests in /opt/conda/lib/python3.9/site-packages (from vaderSentiment) (2.26.0)\n",
      "Requirement already satisfied: certifi>=2017.4.17 in /opt/conda/lib/python3.9/site-packages (from requests->vaderSentiment) (2021.10.8)\n",
      "Requirement already satisfied: urllib3<1.27,>=1.21.1 in /opt/conda/lib/python3.9/site-packages (from requests->vaderSentiment) (1.26.6)\n",
      "Requirement already satisfied: idna<4,>=2.5 in /opt/conda/lib/python3.9/site-packages (from requests->vaderSentiment) (3.1)\n",
      "Requirement already satisfied: charset-normalizer~=2.0.0 in /opt/conda/lib/python3.9/site-packages (from requests->vaderSentiment) (2.0.0)\n",
      "Note: you may need to restart the kernel to use updated packages.\n"
     ]
    }
   ],
   "source": [
    "pip install vaderSentiment"
   ]
  },
  {
   "cell_type": "markdown",
   "metadata": {},
   "source": [
    "We will be using various python packages that will assist in cleaning the data, plotting the results, and setting up helper functions for sentiment analysis"
   ]
  },
  {
   "cell_type": "code",
   "execution_count": 45,
   "metadata": {},
   "outputs": [],
   "source": [
    "# creating data frames\n",
    "import pandas as pd\n",
    "import numpy as np\n",
    "\n",
    "# ased in plotting\n",
    "import seaborn as sns\n",
    "import matplotlib as mpl\n",
    "import matplotlib.pyplot as plt\n",
    "import matplotlib.style as style\n",
    "import re\n",
    "from datetime import date\n",
    "\n",
    "# packages for sentiment analysis\n",
    "from vaderSentiment.vaderSentiment import SentimentIntensityAnalyzer\n",
    "import patsy\n",
    "import statsmodels.api as sm\n",
    "from scipy.stats import pearsonr, norm, ttest_ind\n",
    "\n",
    "# used for ignoring certain warnings\n",
    "import warnings\n",
    "warnings.filterwarnings('ignore')\n",
    "\n",
    "# initializing maing data frames\n",
    "tweets = pd.read_csv('vaccination_tweets.csv')\n",
    "vaccine_rates= pd.read_csv('COVID-19_Vaccinations_in_the_United_States_Jurisdiction.csv')"
   ]
  },
  {
   "cell_type": "markdown",
   "metadata": {},
   "source": [
    "There will be two ways sentiment analysis will be conducted. One way is to return the compound sentiment score returned by our SentimentIntensityAnalyzer object that determines how positive or negative a tweet is. The alternate way of analyzing tweet sentiment is checking to see if the compound score is positive or negative, and labeling each tweet as either 1 as positive, -1 as negative, and 0 as neutral."
   ]
  },
  {
   "cell_type": "code",
   "execution_count": 46,
   "metadata": {},
   "outputs": [],
   "source": [
    "sid = SentimentIntensityAnalyzer() # initializing sentiment analyzer object\n",
    "\n",
    "# finding actual value of sentiment\n",
    "def sentimentOfTweet(tweet):\n",
    "    sentiment_dict = sid.polarity_scores(tweet)\n",
    "    \n",
    "    # decide sentiment as positive, negative and neutral\n",
    "    return sentiment_dict['compound']\n",
    "\n",
    "# finding categorical value of sentiment (positive, neutral, negative)\n",
    "def sentimentOfTweetAlt(tweet):\n",
    "    sentiment_dict = sid.polarity_scores(tweet)\n",
    "    \n",
    "    # decide sentiment as positive, negative and neutral\n",
    "    if sentiment_dict['compound'] > 0:\n",
    "        return 1\n",
    "    elif sentiment_dict['compound'] < 0:\n",
    "        return -1\n",
    "    else:\n",
    "        return 0"
   ]
  },
  {
   "cell_type": "markdown",
   "metadata": {},
   "source": [
    "These are the range lists for each month that we will try to correlate vaccine rates and tweet sentiment. For December we will be looking at tweets starting from December 13 as the first tweet in our data set serves as a lower constraint for our analysis. The remainder months will take tweets from the second of each month to the first of the next month."
   ]
  },
  {
   "cell_type": "code",
   "execution_count": 47,
   "metadata": {},
   "outputs": [],
   "source": [
    "# list of date ranges to correlate tweet sentiment and month\n",
    "date_range_list = [ (date(2020,12,13), date(2021,1,1)) ,\n",
    "                    (date(2021,1,2)  , date(2021,2,1)) ,\n",
    "                    (date(2021,2,2)  , date(2021,3,1)) ,\n",
    "                    (date(2021,3,2)  , date(2021,4,1)) ,\n",
    "                    (date(2021,4,2)  , date(2021,5,1)) ,\n",
    "                    (date(2021,5,2)  , date(2021,6,1)) ,\n",
    "                    (date(2021,6,2)  , date(2021,7,1)) ,\n",
    "                    (date(2021,7,2)  , date(2021,8,1)) ,\n",
    "                    (date(2021,8,2)  , date(2021,9,1)) ,\n",
    "                    (date(2021,9,2)  , date(2021,10,1)),\n",
    "                    (date(2021,10,2) , date(2021,11,1))  ]\n",
    "\n",
    "# list of months to find tweet sentiment for\n",
    "month_list = [ 'Dec'  ,\n",
    "               'Jan'  ,\n",
    "               'Feb'  ,\n",
    "               'Mar'  ,\n",
    "               'Apr'  ,\n",
    "               'May'  ,\n",
    "               'June' ,\n",
    "               'July' ,\n",
    "               'Aug'  ,\n",
    "               'Sep'  , \n",
    "               'Oct'    ]"
   ]
  },
  {
   "cell_type": "markdown",
   "metadata": {},
   "source": [
    "# Data Cleaning"
   ]
  },
  {
   "cell_type": "markdown",
   "metadata": {},
   "source": [
    "To study any possible correlation between Covid Vaccination rates and Tweet Sentiment in the United States, we will be using a data set from the CDC \"COVID-19 Vaccination in the United States, Jurisdiction\" and the \"COVID-19 All Vaccine Tweets\". US Covid records and Vaccine Tweets are up to date all the way to November 17 2021, but we want to analyze tweet sentiment for each month starting from December 2020. Each data set will be additionally cleaned based on location, date, and relevant details."
   ]
  },
  {
   "cell_type": "markdown",
   "metadata": {},
   "source": [
    "## Tweet Data"
   ]
  },
  {
   "cell_type": "markdown",
   "metadata": {},
   "source": [
    "Details of how the tweet data was collected can be found in this link: https://www.kaggle.com/gpreda/all-covid19-vaccines-tweets. To summarize they collect tweets around the following vaccines: Pfizer, BioNTech, Sinopharm, Sinovac, Moderna, Oxford/AstraZeneca, Covaxin, Sputnik V.\n",
    "\n",
    "To clean and anonymize our tweet dataset, we removed every unnecessary column and left: location, date, text, and hashtags used. Using hashtag data ensures that each tweet we evaluate mentions the vaccine. Combining these datasets will show us a correlation based, (and perhaps even causal) relationship between the rate of COVID-19 vaccine administration, and frequency of tweets pertaining to it from particular geographical locations.\n",
    "\n",
    "Due to the large number of different geographical locations in both tweet and vaccine data sets, it was difficult to match a tweet's location to a vaccination location. As a consequence, we decided to us the US as a whole and summed vaccination rates per month. Then we normalized the data to conduct further analysis. "
   ]
  },
  {
   "cell_type": "code",
   "execution_count": 48,
   "metadata": {},
   "outputs": [
    {
     "data": {
      "text/html": [
       "<div>\n",
       "<style scoped>\n",
       "    .dataframe tbody tr th:only-of-type {\n",
       "        vertical-align: middle;\n",
       "    }\n",
       "\n",
       "    .dataframe tbody tr th {\n",
       "        vertical-align: top;\n",
       "    }\n",
       "\n",
       "    .dataframe thead th {\n",
       "        text-align: right;\n",
       "    }\n",
       "</style>\n",
       "<table border=\"1\" class=\"dataframe\">\n",
       "  <thead>\n",
       "    <tr style=\"text-align: right;\">\n",
       "      <th></th>\n",
       "      <th>location</th>\n",
       "      <th>date</th>\n",
       "      <th>text</th>\n",
       "    </tr>\n",
       "  </thead>\n",
       "  <tbody>\n",
       "    <tr>\n",
       "      <th>0</th>\n",
       "      <td>Texas</td>\n",
       "      <td>2020-12-13</td>\n",
       "      <td>It’s here. #Covid_19 #CovidVaccine  #PfizerBio...</td>\n",
       "    </tr>\n",
       "    <tr>\n",
       "      <th>1</th>\n",
       "      <td>United States</td>\n",
       "      <td>2020-12-13</td>\n",
       "      <td>The first trucks loaded with Pfizer’s coronavi...</td>\n",
       "    </tr>\n",
       "    <tr>\n",
       "      <th>2</th>\n",
       "      <td>United States</td>\n",
       "      <td>2020-12-13</td>\n",
       "      <td>@JoeBiden @KamalaHarris Thanks to you both for...</td>\n",
       "    </tr>\n",
       "    <tr>\n",
       "      <th>3</th>\n",
       "      <td>Texas</td>\n",
       "      <td>2020-12-13</td>\n",
       "      <td>The entire ingredients of the #Pfizervaccine: ...</td>\n",
       "    </tr>\n",
       "    <tr>\n",
       "      <th>4</th>\n",
       "      <td>Kentucky</td>\n",
       "      <td>2020-12-14</td>\n",
       "      <td>The hospital I work at has received the vaccin...</td>\n",
       "    </tr>\n",
       "    <tr>\n",
       "      <th>...</th>\n",
       "      <td>...</td>\n",
       "      <td>...</td>\n",
       "      <td>...</td>\n",
       "    </tr>\n",
       "    <tr>\n",
       "      <th>4130</th>\n",
       "      <td>California</td>\n",
       "      <td>2021-11-16</td>\n",
       "      <td>🙆🏻‍♀️.I Did It.🩹. 1st Shot. Moderna Covid19 Va...</td>\n",
       "    </tr>\n",
       "    <tr>\n",
       "      <th>4131</th>\n",
       "      <td>United States</td>\n",
       "      <td>2021-11-16</td>\n",
       "      <td>Should we be vaccinating the deer too? #COVID1...</td>\n",
       "    </tr>\n",
       "    <tr>\n",
       "      <th>4132</th>\n",
       "      <td>Texas</td>\n",
       "      <td>2021-11-17</td>\n",
       "      <td>Wake\\nThe\\nFuck\\nUp\\nSheeple\\n\\nWhat has chang...</td>\n",
       "    </tr>\n",
       "    <tr>\n",
       "      <th>4133</th>\n",
       "      <td>America</td>\n",
       "      <td>2021-11-17</td>\n",
       "      <td>Interesting topic to do some research on.  #Je...</td>\n",
       "    </tr>\n",
       "    <tr>\n",
       "      <th>4134</th>\n",
       "      <td>NY</td>\n",
       "      <td>2021-11-17</td>\n",
       "      <td>There is no profit in a cure...\\n\\n#johnsonand...</td>\n",
       "    </tr>\n",
       "  </tbody>\n",
       "</table>\n",
       "<p>4135 rows × 3 columns</p>\n",
       "</div>"
      ],
      "text/plain": [
       "           location        date  \\\n",
       "0             Texas  2020-12-13   \n",
       "1     United States  2020-12-13   \n",
       "2     United States  2020-12-13   \n",
       "3             Texas  2020-12-13   \n",
       "4          Kentucky  2020-12-14   \n",
       "...             ...         ...   \n",
       "4130     California  2021-11-16   \n",
       "4131  United States  2021-11-16   \n",
       "4132          Texas  2021-11-17   \n",
       "4133        America  2021-11-17   \n",
       "4134             NY  2021-11-17   \n",
       "\n",
       "                                                   text  \n",
       "0     It’s here. #Covid_19 #CovidVaccine  #PfizerBio...  \n",
       "1     The first trucks loaded with Pfizer’s coronavi...  \n",
       "2     @JoeBiden @KamalaHarris Thanks to you both for...  \n",
       "3     The entire ingredients of the #Pfizervaccine: ...  \n",
       "4     The hospital I work at has received the vaccin...  \n",
       "...                                                 ...  \n",
       "4130  🙆🏻‍♀️.I Did It.🩹. 1st Shot. Moderna Covid19 Va...  \n",
       "4131  Should we be vaccinating the deer too? #COVID1...  \n",
       "4132  Wake\\nThe\\nFuck\\nUp\\nSheeple\\n\\nWhat has chang...  \n",
       "4133  Interesting topic to do some research on.  #Je...  \n",
       "4134  There is no profit in a cure...\\n\\n#johnsonand...  \n",
       "\n",
       "[4135 rows x 3 columns]"
      ]
     },
     "execution_count": 48,
     "metadata": {},
     "output_type": "execute_result"
    }
   ],
   "source": [
    "# reorganizing dateframe to only include necessary values\n",
    "tweets = tweets[['user_location', 'date', 'text']]\n",
    "tweets = tweets.rename({'user_location' : 'location'}, axis='columns')\n",
    "tweets.dropna(how='any', inplace=True)\n",
    "\n",
    "# filtering for tweets only in the U.S.\n",
    "tweet_locations = open('tweet_locations.txt').read().splitlines()\n",
    "tweets = tweets[tweets['location'].isin(tweet_locations)]\n",
    "\n",
    "# sort by date and reset index\n",
    "tweets['date'] = pd.to_datetime(tweets['date']).dt.date\n",
    "tweets = tweets.sort_values(by='date')\n",
    "tweets = tweets.reset_index(drop = True)\n",
    "tweets"
   ]
  },
  {
   "cell_type": "markdown",
   "metadata": {},
   "source": [
    "## Vaccine Data"
   ]
  },
  {
   "cell_type": "markdown",
   "metadata": {},
   "source": [
    "The number of distributed and administered vaccinations in a list of regions in California were found by limiting the dataset to the US We removed null values from the dataset and limited the columns we selected based on relevance to the research question. The columns we kept were: location, distribution, and administration.\n",
    "COVID-19 All Vaccine Tweets"
   ]
  },
  {
   "cell_type": "code",
   "execution_count": 49,
   "metadata": {},
   "outputs": [
    {
     "data": {
      "text/html": [
       "<div>\n",
       "<style scoped>\n",
       "    .dataframe tbody tr th:only-of-type {\n",
       "        vertical-align: middle;\n",
       "    }\n",
       "\n",
       "    .dataframe tbody tr th {\n",
       "        vertical-align: top;\n",
       "    }\n",
       "\n",
       "    .dataframe thead th {\n",
       "        text-align: right;\n",
       "    }\n",
       "</style>\n",
       "<table border=\"1\" class=\"dataframe\">\n",
       "  <thead>\n",
       "    <tr style=\"text-align: right;\">\n",
       "      <th></th>\n",
       "      <th>Date</th>\n",
       "      <th>Location</th>\n",
       "      <th>Distributed</th>\n",
       "      <th>Administered</th>\n",
       "      <th>Administered_Dose1_Recip</th>\n",
       "      <th>Series_Complete_Yes</th>\n",
       "    </tr>\n",
       "  </thead>\n",
       "  <tbody>\n",
       "    <tr>\n",
       "      <th>0</th>\n",
       "      <td>Dec 2020</td>\n",
       "      <td>US</td>\n",
       "      <td>14786525</td>\n",
       "      <td>4172658</td>\n",
       "      <td>0</td>\n",
       "      <td>0</td>\n",
       "    </tr>\n",
       "    <tr>\n",
       "      <th>1</th>\n",
       "      <td>Jan 2021</td>\n",
       "      <td>US</td>\n",
       "      <td>49936450</td>\n",
       "      <td>32222402</td>\n",
       "      <td>0</td>\n",
       "      <td>0</td>\n",
       "    </tr>\n",
       "    <tr>\n",
       "      <th>2</th>\n",
       "      <td>Feb 2021</td>\n",
       "      <td>US</td>\n",
       "      <td>96402490</td>\n",
       "      <td>76899987</td>\n",
       "      <td>50732997</td>\n",
       "      <td>0</td>\n",
       "    </tr>\n",
       "    <tr>\n",
       "      <th>3</th>\n",
       "      <td>Mar 2021</td>\n",
       "      <td>US</td>\n",
       "      <td>200496635</td>\n",
       "      <td>153631404</td>\n",
       "      <td>99565311</td>\n",
       "      <td>56089614</td>\n",
       "    </tr>\n",
       "    <tr>\n",
       "      <th>4</th>\n",
       "      <td>Apr 2021</td>\n",
       "      <td>US</td>\n",
       "      <td>312508205</td>\n",
       "      <td>243463471</td>\n",
       "      <td>146239208</td>\n",
       "      <td>103422555</td>\n",
       "    </tr>\n",
       "    <tr>\n",
       "      <th>5</th>\n",
       "      <td>May 2021</td>\n",
       "      <td>US</td>\n",
       "      <td>366317045</td>\n",
       "      <td>296404240</td>\n",
       "      <td>168489729</td>\n",
       "      <td>135867425</td>\n",
       "    </tr>\n",
       "    <tr>\n",
       "      <th>6</th>\n",
       "      <td>June 2021</td>\n",
       "      <td>US</td>\n",
       "      <td>382283990</td>\n",
       "      <td>328152304</td>\n",
       "      <td>181339416</td>\n",
       "      <td>155884601</td>\n",
       "    </tr>\n",
       "    <tr>\n",
       "      <th>7</th>\n",
       "      <td>July 2021</td>\n",
       "      <td>US</td>\n",
       "      <td>400674525</td>\n",
       "      <td>346456669</td>\n",
       "      <td>191498983</td>\n",
       "      <td>164757423</td>\n",
       "    </tr>\n",
       "    <tr>\n",
       "      <th>8</th>\n",
       "      <td>Aug 2021</td>\n",
       "      <td>US</td>\n",
       "      <td>443741705</td>\n",
       "      <td>371280129</td>\n",
       "      <td>205527578</td>\n",
       "      <td>174600017</td>\n",
       "    </tr>\n",
       "    <tr>\n",
       "      <th>9</th>\n",
       "      <td>Sep 2021</td>\n",
       "      <td>US</td>\n",
       "      <td>477069555</td>\n",
       "      <td>393756866</td>\n",
       "      <td>214597690</td>\n",
       "      <td>184852416</td>\n",
       "    </tr>\n",
       "    <tr>\n",
       "      <th>10</th>\n",
       "      <td>Oct 2021</td>\n",
       "      <td>US</td>\n",
       "      <td>518561375</td>\n",
       "      <td>423005384</td>\n",
       "      <td>221760691</td>\n",
       "      <td>192586927</td>\n",
       "    </tr>\n",
       "  </tbody>\n",
       "</table>\n",
       "</div>"
      ],
      "text/plain": [
       "         Date Location  Distributed  Administered  Administered_Dose1_Recip  \\\n",
       "0    Dec 2020       US     14786525       4172658                         0   \n",
       "1    Jan 2021       US     49936450      32222402                         0   \n",
       "2    Feb 2021       US     96402490      76899987                  50732997   \n",
       "3    Mar 2021       US    200496635     153631404                  99565311   \n",
       "4    Apr 2021       US    312508205     243463471                 146239208   \n",
       "5    May 2021       US    366317045     296404240                 168489729   \n",
       "6   June 2021       US    382283990     328152304                 181339416   \n",
       "7   July 2021       US    400674525     346456669                 191498983   \n",
       "8    Aug 2021       US    443741705     371280129                 205527578   \n",
       "9    Sep 2021       US    477069555     393756866                 214597690   \n",
       "10   Oct 2021       US    518561375     423005384                 221760691   \n",
       "\n",
       "    Series_Complete_Yes  \n",
       "0                     0  \n",
       "1                     0  \n",
       "2                     0  \n",
       "3              56089614  \n",
       "4             103422555  \n",
       "5             135867425  \n",
       "6             155884601  \n",
       "7             164757423  \n",
       "8             174600017  \n",
       "9             184852416  \n",
       "10            192586927  "
      ]
     },
     "execution_count": 49,
     "metadata": {},
     "output_type": "execute_result"
    }
   ],
   "source": [
    "#Dropping all unused columns\n",
    "cleaned_vaccine_rates = vaccine_rates[['Date', 'Location', 'Distributed', 'Administered', 'Administered_Dose1_Recip', 'Series_Complete_Yes' ]]\n",
    "\n",
    "#Only using observations within list of CA territories\n",
    "cleaned_vaccine_rates = cleaned_vaccine_rates[cleaned_vaccine_rates['Location'] == 'US']\n",
    "dates = ['01/01/2021', '02/01/2021', '03/01/2021','04/01/2021', '05/01/2021', '06/01/2021', '07/01/2021', '08/01/2021',\n",
    "         '09/01/2021', '10/01/2021', '11/01/2021']\n",
    "cleaned_vaccine_rates = cleaned_vaccine_rates[cleaned_vaccine_rates['Date'].isin(dates)]\n",
    "\n",
    "#Dropping null values\n",
    "cleaned_vaccine_rates = cleaned_vaccine_rates.dropna(axis=0)\n",
    "\n",
    "cleaned_vaccine_rates['Date'] = pd.to_datetime(cleaned_vaccine_rates['Date']).dt.date\n",
    "cleaned_vaccine_rates = cleaned_vaccine_rates.sort_values(by='Date')\n",
    "cleaned_vaccine_rates['Date'] = month_list\n",
    "cleaned_vaccine_rates = cleaned_vaccine_rates.reset_index(drop = True)\n",
    "\n",
    "# cinverting the dates from month format to month year\n",
    "cleaned_vaccine_rates['Date'] = cleaned_vaccine_rates['Date'].str.replace('Dec', 'Dec 2020')\n",
    "cleaned_vaccine_rates['Date'] = cleaned_vaccine_rates['Date'].str.replace('Jan', 'Jan 2021')\n",
    "cleaned_vaccine_rates['Date'] = cleaned_vaccine_rates['Date'].str.replace('Feb', 'Feb 2021')\n",
    "cleaned_vaccine_rates['Date'] = cleaned_vaccine_rates['Date'].str.replace('Mar', 'Mar 2021')\n",
    "cleaned_vaccine_rates['Date'] = cleaned_vaccine_rates['Date'].str.replace('Apr', 'Apr 2021')\n",
    "cleaned_vaccine_rates['Date'] = cleaned_vaccine_rates['Date'].str.replace('May', 'May 2021')\n",
    "cleaned_vaccine_rates['Date'] = cleaned_vaccine_rates['Date'].str.replace('June', 'June 2021')\n",
    "cleaned_vaccine_rates['Date'] = cleaned_vaccine_rates['Date'].str.replace('July', 'July 2021')\n",
    "cleaned_vaccine_rates['Date'] = cleaned_vaccine_rates['Date'].str.replace('Aug', 'Aug 2021')\n",
    "cleaned_vaccine_rates['Date'] = cleaned_vaccine_rates['Date'].str.replace('Sep', 'Sep 2021')\n",
    "cleaned_vaccine_rates['Date'] = cleaned_vaccine_rates['Date'].str.replace('Oct', 'Oct 2021')\n",
    "\n",
    "cleaned_vaccine_rates"
   ]
  },
  {
   "cell_type": "markdown",
   "metadata": {},
   "source": [
    "# Data Analysis & Results"
   ]
  },
  {
   "cell_type": "markdown",
   "metadata": {},
   "source": [
    "The tweets used in our data set come from a kaggle data set that is updated daily of tweets webscraped from the Twitter website using a twitter api. We begin by turning our tweet data consisting of each individual tweet as a string, the location it was tweeted from, and the date of the tweet, into aggregate sentiment information. The tweet sentiment will be done in two ways: average montly sentiment and comparing categorical monthly sentiments. After montlhy sentiments are aggregated, the tweet sentiment data will be plottted against the monthly vaccination records to study for correlation in Figures 1 - 8."
   ]
  },
  {
   "cell_type": "markdown",
   "metadata": {},
   "source": [
    "## Tweet Sentiment Analysis"
   ]
  },
  {
   "cell_type": "markdown",
   "metadata": {},
   "source": [
    "Since the data values vaccine records are large, tweet sentiments will be difficult to plot with the vaccine records. To ameliorate this the vaccine rates will be normalized to values between 0 and 1."
   ]
  },
  {
   "cell_type": "code",
   "execution_count": 50,
   "metadata": {},
   "outputs": [
    {
     "data": {
      "text/html": [
       "<div>\n",
       "<style scoped>\n",
       "    .dataframe tbody tr th:only-of-type {\n",
       "        vertical-align: middle;\n",
       "    }\n",
       "\n",
       "    .dataframe tbody tr th {\n",
       "        vertical-align: top;\n",
       "    }\n",
       "\n",
       "    .dataframe thead th {\n",
       "        text-align: right;\n",
       "    }\n",
       "</style>\n",
       "<table border=\"1\" class=\"dataframe\">\n",
       "  <thead>\n",
       "    <tr style=\"text-align: right;\">\n",
       "      <th></th>\n",
       "      <th>Distributed</th>\n",
       "      <th>Administered</th>\n",
       "      <th>Administered_Dose1_Recip</th>\n",
       "      <th>Series_Complete_Yes</th>\n",
       "      <th>Date</th>\n",
       "      <th>Location</th>\n",
       "    </tr>\n",
       "  </thead>\n",
       "  <tbody>\n",
       "    <tr>\n",
       "      <th>0</th>\n",
       "      <td>0.000000</td>\n",
       "      <td>0.000000</td>\n",
       "      <td>0.000000</td>\n",
       "      <td>0.000000</td>\n",
       "      <td>Dec 2020</td>\n",
       "      <td>US</td>\n",
       "    </tr>\n",
       "    <tr>\n",
       "      <th>1</th>\n",
       "      <td>0.069773</td>\n",
       "      <td>0.066971</td>\n",
       "      <td>0.000000</td>\n",
       "      <td>0.000000</td>\n",
       "      <td>Jan 2021</td>\n",
       "      <td>US</td>\n",
       "    </tr>\n",
       "    <tr>\n",
       "      <th>2</th>\n",
       "      <td>0.162009</td>\n",
       "      <td>0.173643</td>\n",
       "      <td>0.228774</td>\n",
       "      <td>0.000000</td>\n",
       "      <td>Feb 2021</td>\n",
       "      <td>US</td>\n",
       "    </tr>\n",
       "    <tr>\n",
       "      <th>3</th>\n",
       "      <td>0.368637</td>\n",
       "      <td>0.356846</td>\n",
       "      <td>0.448976</td>\n",
       "      <td>0.291243</td>\n",
       "      <td>Mar 2021</td>\n",
       "      <td>US</td>\n",
       "    </tr>\n",
       "    <tr>\n",
       "      <th>4</th>\n",
       "      <td>0.590982</td>\n",
       "      <td>0.571328</td>\n",
       "      <td>0.659446</td>\n",
       "      <td>0.537018</td>\n",
       "      <td>Apr 2021</td>\n",
       "      <td>US</td>\n",
       "    </tr>\n",
       "    <tr>\n",
       "      <th>5</th>\n",
       "      <td>0.697793</td>\n",
       "      <td>0.697729</td>\n",
       "      <td>0.759782</td>\n",
       "      <td>0.705486</td>\n",
       "      <td>May 2021</td>\n",
       "      <td>US</td>\n",
       "    </tr>\n",
       "    <tr>\n",
       "      <th>6</th>\n",
       "      <td>0.729488</td>\n",
       "      <td>0.773530</td>\n",
       "      <td>0.817726</td>\n",
       "      <td>0.809425</td>\n",
       "      <td>June 2021</td>\n",
       "      <td>US</td>\n",
       "    </tr>\n",
       "    <tr>\n",
       "      <th>7</th>\n",
       "      <td>0.765993</td>\n",
       "      <td>0.817233</td>\n",
       "      <td>0.863539</td>\n",
       "      <td>0.855496</td>\n",
       "      <td>July 2021</td>\n",
       "      <td>US</td>\n",
       "    </tr>\n",
       "    <tr>\n",
       "      <th>8</th>\n",
       "      <td>0.851482</td>\n",
       "      <td>0.876501</td>\n",
       "      <td>0.926799</td>\n",
       "      <td>0.906604</td>\n",
       "      <td>Aug 2021</td>\n",
       "      <td>US</td>\n",
       "    </tr>\n",
       "    <tr>\n",
       "      <th>9</th>\n",
       "      <td>0.917638</td>\n",
       "      <td>0.930167</td>\n",
       "      <td>0.967699</td>\n",
       "      <td>0.959839</td>\n",
       "      <td>Sep 2021</td>\n",
       "      <td>US</td>\n",
       "    </tr>\n",
       "    <tr>\n",
       "      <th>10</th>\n",
       "      <td>1.000000</td>\n",
       "      <td>1.000000</td>\n",
       "      <td>1.000000</td>\n",
       "      <td>1.000000</td>\n",
       "      <td>Oct 2021</td>\n",
       "      <td>US</td>\n",
       "    </tr>\n",
       "  </tbody>\n",
       "</table>\n",
       "</div>"
      ],
      "text/plain": [
       "    Distributed  Administered  Administered_Dose1_Recip  Series_Complete_Yes  \\\n",
       "0      0.000000      0.000000                  0.000000             0.000000   \n",
       "1      0.069773      0.066971                  0.000000             0.000000   \n",
       "2      0.162009      0.173643                  0.228774             0.000000   \n",
       "3      0.368637      0.356846                  0.448976             0.291243   \n",
       "4      0.590982      0.571328                  0.659446             0.537018   \n",
       "5      0.697793      0.697729                  0.759782             0.705486   \n",
       "6      0.729488      0.773530                  0.817726             0.809425   \n",
       "7      0.765993      0.817233                  0.863539             0.855496   \n",
       "8      0.851482      0.876501                  0.926799             0.906604   \n",
       "9      0.917638      0.930167                  0.967699             0.959839   \n",
       "10     1.000000      1.000000                  1.000000             1.000000   \n",
       "\n",
       "         Date Location  \n",
       "0    Dec 2020       US  \n",
       "1    Jan 2021       US  \n",
       "2    Feb 2021       US  \n",
       "3    Mar 2021       US  \n",
       "4    Apr 2021       US  \n",
       "5    May 2021       US  \n",
       "6   June 2021       US  \n",
       "7   July 2021       US  \n",
       "8    Aug 2021       US  \n",
       "9    Sep 2021       US  \n",
       "10   Oct 2021       US  "
      ]
     },
     "execution_count": 50,
     "metadata": {},
     "output_type": "execute_result"
    }
   ],
   "source": [
    "#normalizing vaccine rates\n",
    "df_num = cleaned_vaccine_rates.select_dtypes(include='number')\n",
    "normalized = (df_num - df_num.min(axis=0)) / (df_num.max(axis=0) - df_num.min(axis=0))\n",
    "normalized['Date']= cleaned_vaccine_rates['Date']\n",
    "normalized['Location']= cleaned_vaccine_rates['Location']\n",
    "\n",
    "normalized"
   ]
  },
  {
   "cell_type": "markdown",
   "metadata": {},
   "source": [
    "### Tweet Sentiment Analysis Method 1: Average Monthly Sentiment"
   ]
  },
  {
   "cell_type": "markdown",
   "metadata": {},
   "source": [
    "We will use the sentimentOfTweet helper function created above to find the individual compound sentiment for each tweet in our cleaned tweet data set. These values along with the dates and the original tweets will be stored into a new data frame."
   ]
  },
  {
   "cell_type": "code",
   "execution_count": 51,
   "metadata": {},
   "outputs": [
    {
     "data": {
      "text/html": [
       "<div>\n",
       "<style scoped>\n",
       "    .dataframe tbody tr th:only-of-type {\n",
       "        vertical-align: middle;\n",
       "    }\n",
       "\n",
       "    .dataframe tbody tr th {\n",
       "        vertical-align: top;\n",
       "    }\n",
       "\n",
       "    .dataframe thead th {\n",
       "        text-align: right;\n",
       "    }\n",
       "</style>\n",
       "<table border=\"1\" class=\"dataframe\">\n",
       "  <thead>\n",
       "    <tr style=\"text-align: right;\">\n",
       "      <th></th>\n",
       "      <th>date</th>\n",
       "      <th>text</th>\n",
       "      <th>sentiment</th>\n",
       "    </tr>\n",
       "  </thead>\n",
       "  <tbody>\n",
       "    <tr>\n",
       "      <th>0</th>\n",
       "      <td>2020-12-13</td>\n",
       "      <td>It’s here. #Covid_19 #CovidVaccine  #PfizerBio...</td>\n",
       "      <td>0.0000</td>\n",
       "    </tr>\n",
       "    <tr>\n",
       "      <th>1</th>\n",
       "      <td>2020-12-13</td>\n",
       "      <td>The first trucks loaded with Pfizer’s coronavi...</td>\n",
       "      <td>0.0000</td>\n",
       "    </tr>\n",
       "    <tr>\n",
       "      <th>2</th>\n",
       "      <td>2020-12-13</td>\n",
       "      <td>@JoeBiden @KamalaHarris Thanks to you both for...</td>\n",
       "      <td>0.8934</td>\n",
       "    </tr>\n",
       "    <tr>\n",
       "      <th>3</th>\n",
       "      <td>2020-12-13</td>\n",
       "      <td>The entire ingredients of the #Pfizervaccine: ...</td>\n",
       "      <td>0.3612</td>\n",
       "    </tr>\n",
       "    <tr>\n",
       "      <th>4</th>\n",
       "      <td>2020-12-14</td>\n",
       "      <td>The hospital I work at has received the vaccin...</td>\n",
       "      <td>0.0000</td>\n",
       "    </tr>\n",
       "    <tr>\n",
       "      <th>...</th>\n",
       "      <td>...</td>\n",
       "      <td>...</td>\n",
       "      <td>...</td>\n",
       "    </tr>\n",
       "    <tr>\n",
       "      <th>4130</th>\n",
       "      <td>2021-11-16</td>\n",
       "      <td>🙆🏻‍♀️.I Did It.🩹. 1st Shot. Moderna Covid19 Va...</td>\n",
       "      <td>0.4466</td>\n",
       "    </tr>\n",
       "    <tr>\n",
       "      <th>4131</th>\n",
       "      <td>2021-11-16</td>\n",
       "      <td>Should we be vaccinating the deer too? #COVID1...</td>\n",
       "      <td>0.0000</td>\n",
       "    </tr>\n",
       "    <tr>\n",
       "      <th>4132</th>\n",
       "      <td>2021-11-17</td>\n",
       "      <td>Wake\\nThe\\nFuck\\nUp\\nSheeple\\n\\nWhat has chang...</td>\n",
       "      <td>-0.5423</td>\n",
       "    </tr>\n",
       "    <tr>\n",
       "      <th>4133</th>\n",
       "      <td>2021-11-17</td>\n",
       "      <td>Interesting topic to do some research on.  #Je...</td>\n",
       "      <td>0.4019</td>\n",
       "    </tr>\n",
       "    <tr>\n",
       "      <th>4134</th>\n",
       "      <td>2021-11-17</td>\n",
       "      <td>There is no profit in a cure...\\n\\n#johnsonand...</td>\n",
       "      <td>-0.7786</td>\n",
       "    </tr>\n",
       "  </tbody>\n",
       "</table>\n",
       "<p>4135 rows × 3 columns</p>\n",
       "</div>"
      ],
      "text/plain": [
       "            date                                               text  sentiment\n",
       "0     2020-12-13  It’s here. #Covid_19 #CovidVaccine  #PfizerBio...     0.0000\n",
       "1     2020-12-13  The first trucks loaded with Pfizer’s coronavi...     0.0000\n",
       "2     2020-12-13  @JoeBiden @KamalaHarris Thanks to you both for...     0.8934\n",
       "3     2020-12-13  The entire ingredients of the #Pfizervaccine: ...     0.3612\n",
       "4     2020-12-14  The hospital I work at has received the vaccin...     0.0000\n",
       "...          ...                                                ...        ...\n",
       "4130  2021-11-16  🙆🏻‍♀️.I Did It.🩹. 1st Shot. Moderna Covid19 Va...     0.4466\n",
       "4131  2021-11-16  Should we be vaccinating the deer too? #COVID1...     0.0000\n",
       "4132  2021-11-17  Wake\\nThe\\nFuck\\nUp\\nSheeple\\n\\nWhat has chang...    -0.5423\n",
       "4133  2021-11-17  Interesting topic to do some research on.  #Je...     0.4019\n",
       "4134  2021-11-17  There is no profit in a cure...\\n\\n#johnsonand...    -0.7786\n",
       "\n",
       "[4135 rows x 3 columns]"
      ]
     },
     "execution_count": 51,
     "metadata": {},
     "output_type": "execute_result"
    }
   ],
   "source": [
    "# dropping any potential duplicates\n",
    "tweets.drop_duplicates(inplace = True)\n",
    "\n",
    "# creating new df with new variables\n",
    "tweet_sentiments = tweets[['date', 'text']]\n",
    "\n",
    "# find the sentiment, either positive or negative\n",
    "tweet_sentiments['sentiment'] = tweet_sentiments['text'].apply(sentimentOfTweet)\n",
    "tweet_sentiments"
   ]
  },
  {
   "cell_type": "markdown",
   "metadata": {},
   "source": [
    "For all the tweets and their corresponding sentiment in our data frame, we will be segmenting the data frame into monthly segments as described in our Setup section. For each month we will calculate the average sentiment for all the tweets in that month. These averages will then be added to a new data frame with the corresponding month."
   ]
  },
  {
   "cell_type": "code",
   "execution_count": 52,
   "metadata": {},
   "outputs": [
    {
     "data": {
      "text/html": [
       "<div>\n",
       "<style scoped>\n",
       "    .dataframe tbody tr th:only-of-type {\n",
       "        vertical-align: middle;\n",
       "    }\n",
       "\n",
       "    .dataframe tbody tr th {\n",
       "        vertical-align: top;\n",
       "    }\n",
       "\n",
       "    .dataframe thead th {\n",
       "        text-align: right;\n",
       "    }\n",
       "</style>\n",
       "<table border=\"1\" class=\"dataframe\">\n",
       "  <thead>\n",
       "    <tr style=\"text-align: right;\">\n",
       "      <th></th>\n",
       "      <th>month</th>\n",
       "      <th>avg_sentiment</th>\n",
       "    </tr>\n",
       "  </thead>\n",
       "  <tbody>\n",
       "    <tr>\n",
       "      <th>0</th>\n",
       "      <td>Dec 2020</td>\n",
       "      <td>0.007949</td>\n",
       "    </tr>\n",
       "    <tr>\n",
       "      <th>1</th>\n",
       "      <td>Jan 2021</td>\n",
       "      <td>0.195487</td>\n",
       "    </tr>\n",
       "    <tr>\n",
       "      <th>2</th>\n",
       "      <td>Feb 2021</td>\n",
       "      <td>0.105642</td>\n",
       "    </tr>\n",
       "    <tr>\n",
       "      <th>3</th>\n",
       "      <td>Mar 2021</td>\n",
       "      <td>0.111548</td>\n",
       "    </tr>\n",
       "    <tr>\n",
       "      <th>4</th>\n",
       "      <td>Apr 2021</td>\n",
       "      <td>0.104468</td>\n",
       "    </tr>\n",
       "    <tr>\n",
       "      <th>5</th>\n",
       "      <td>May 2021</td>\n",
       "      <td>0.142204</td>\n",
       "    </tr>\n",
       "    <tr>\n",
       "      <th>6</th>\n",
       "      <td>June 2021</td>\n",
       "      <td>0.018781</td>\n",
       "    </tr>\n",
       "    <tr>\n",
       "      <th>7</th>\n",
       "      <td>July 2021</td>\n",
       "      <td>0.036391</td>\n",
       "    </tr>\n",
       "    <tr>\n",
       "      <th>8</th>\n",
       "      <td>Aug 2021</td>\n",
       "      <td>0.011761</td>\n",
       "    </tr>\n",
       "    <tr>\n",
       "      <th>9</th>\n",
       "      <td>Sep 2021</td>\n",
       "      <td>0.064281</td>\n",
       "    </tr>\n",
       "    <tr>\n",
       "      <th>10</th>\n",
       "      <td>Oct 2021</td>\n",
       "      <td>0.073497</td>\n",
       "    </tr>\n",
       "  </tbody>\n",
       "</table>\n",
       "</div>"
      ],
      "text/plain": [
       "        month  avg_sentiment\n",
       "0    Dec 2020       0.007949\n",
       "1    Jan 2021       0.195487\n",
       "2    Feb 2021       0.105642\n",
       "3    Mar 2021       0.111548\n",
       "4    Apr 2021       0.104468\n",
       "5    May 2021       0.142204\n",
       "6   June 2021       0.018781\n",
       "7   July 2021       0.036391\n",
       "8    Aug 2021       0.011761\n",
       "9    Sep 2021       0.064281\n",
       "10   Oct 2021       0.073497"
      ]
     },
     "execution_count": 52,
     "metadata": {},
     "output_type": "execute_result"
    }
   ],
   "source": [
    "# calculating avg sentiment for each month for each month\n",
    "i=0\n",
    "sentiments_list = []\n",
    "for start_date, end_date in date_range_list:\n",
    "    #finding avg sentiment\n",
    "    monthly_sentiments = tweet_sentiments[(tweet_sentiments['date'] >= start_date) & (tweet_sentiments['date'] <= end_date)]\n",
    "    avg_sentiment = monthly_sentiments['sentiment'].mean()\n",
    "    \n",
    "    #creating a list of month and corresponding average sentiment\n",
    "    sentiments_list.append(\n",
    "        {\n",
    "            'month':         month_list[i],\n",
    "            'avg_sentiment': avg_sentiment,\n",
    "        }\n",
    "    )\n",
    "    i = i+1\n",
    "\n",
    "# converting avg entiments list to dataframe\n",
    "sentiments = pd.DataFrame(sentiments_list)\n",
    "sentiments['month'] = sentiments['month'].str.replace('Dec', 'Dec 2020')\n",
    "sentiments['month'] = sentiments['month'].str.replace('Jan', 'Jan 2021')\n",
    "sentiments['month'] = sentiments['month'].str.replace('Feb', 'Feb 2021')\n",
    "sentiments['month'] = sentiments['month'].str.replace('Mar', 'Mar 2021')\n",
    "sentiments['month'] = sentiments['month'].str.replace('Apr', 'Apr 2021')\n",
    "sentiments['month'] = sentiments['month'].str.replace('May', 'May 2021')\n",
    "sentiments['month'] = sentiments['month'].str.replace('June', 'June 2021')\n",
    "sentiments['month'] = sentiments['month'].str.replace('July', 'July 2021')\n",
    "sentiments['month'] = sentiments['month'].str.replace('Aug', 'Aug 2021')\n",
    "sentiments['month'] = sentiments['month'].str.replace('Sep', 'Sep 2021')\n",
    "sentiments['month'] = sentiments['month'].str.replace('Oct', 'Oct 2021')\n",
    "sentiments"
   ]
  },
  {
   "cell_type": "markdown",
   "metadata": {},
   "source": [
    "### Tweet Sentiment Analysis Method 2: Monthly Totals for Positive, Negative, and Neutral Sentiments"
   ]
  },
  {
   "cell_type": "markdown",
   "metadata": {},
   "source": [
    "This alternate method will use the sentimentOfTweetAlt helper function that categorizes each individual tweet as either positive or negative."
   ]
  },
  {
   "cell_type": "code",
   "execution_count": 43,
   "metadata": {},
   "outputs": [
    {
     "data": {
      "text/html": [
       "<div>\n",
       "<style scoped>\n",
       "    .dataframe tbody tr th:only-of-type {\n",
       "        vertical-align: middle;\n",
       "    }\n",
       "\n",
       "    .dataframe tbody tr th {\n",
       "        vertical-align: top;\n",
       "    }\n",
       "\n",
       "    .dataframe thead th {\n",
       "        text-align: right;\n",
       "    }\n",
       "</style>\n",
       "<table border=\"1\" class=\"dataframe\">\n",
       "  <thead>\n",
       "    <tr style=\"text-align: right;\">\n",
       "      <th></th>\n",
       "      <th>date</th>\n",
       "      <th>text</th>\n",
       "      <th>sentiment</th>\n",
       "    </tr>\n",
       "  </thead>\n",
       "  <tbody>\n",
       "    <tr>\n",
       "      <th>0</th>\n",
       "      <td>2020-12-13</td>\n",
       "      <td>It’s here. #Covid_19 #CovidVaccine  #PfizerBio...</td>\n",
       "      <td>0</td>\n",
       "    </tr>\n",
       "    <tr>\n",
       "      <th>1</th>\n",
       "      <td>2020-12-13</td>\n",
       "      <td>The first trucks loaded with Pfizer’s coronavi...</td>\n",
       "      <td>0</td>\n",
       "    </tr>\n",
       "    <tr>\n",
       "      <th>2</th>\n",
       "      <td>2020-12-13</td>\n",
       "      <td>@JoeBiden @KamalaHarris Thanks to you both for...</td>\n",
       "      <td>1</td>\n",
       "    </tr>\n",
       "    <tr>\n",
       "      <th>3</th>\n",
       "      <td>2020-12-13</td>\n",
       "      <td>The entire ingredients of the #Pfizervaccine: ...</td>\n",
       "      <td>1</td>\n",
       "    </tr>\n",
       "    <tr>\n",
       "      <th>4</th>\n",
       "      <td>2020-12-14</td>\n",
       "      <td>The hospital I work at has received the vaccin...</td>\n",
       "      <td>0</td>\n",
       "    </tr>\n",
       "    <tr>\n",
       "      <th>...</th>\n",
       "      <td>...</td>\n",
       "      <td>...</td>\n",
       "      <td>...</td>\n",
       "    </tr>\n",
       "    <tr>\n",
       "      <th>4130</th>\n",
       "      <td>2021-11-16</td>\n",
       "      <td>🙆🏻‍♀️.I Did It.🩹. 1st Shot. Moderna Covid19 Va...</td>\n",
       "      <td>1</td>\n",
       "    </tr>\n",
       "    <tr>\n",
       "      <th>4131</th>\n",
       "      <td>2021-11-16</td>\n",
       "      <td>Should we be vaccinating the deer too? #COVID1...</td>\n",
       "      <td>0</td>\n",
       "    </tr>\n",
       "    <tr>\n",
       "      <th>4132</th>\n",
       "      <td>2021-11-17</td>\n",
       "      <td>Wake\\nThe\\nFuck\\nUp\\nSheeple\\n\\nWhat has chang...</td>\n",
       "      <td>-1</td>\n",
       "    </tr>\n",
       "    <tr>\n",
       "      <th>4133</th>\n",
       "      <td>2021-11-17</td>\n",
       "      <td>Interesting topic to do some research on.  #Je...</td>\n",
       "      <td>1</td>\n",
       "    </tr>\n",
       "    <tr>\n",
       "      <th>4134</th>\n",
       "      <td>2021-11-17</td>\n",
       "      <td>There is no profit in a cure...\\n\\n#johnsonand...</td>\n",
       "      <td>-1</td>\n",
       "    </tr>\n",
       "  </tbody>\n",
       "</table>\n",
       "<p>4135 rows × 3 columns</p>\n",
       "</div>"
      ],
      "text/plain": [
       "            date                                               text  sentiment\n",
       "0     2020-12-13  It’s here. #Covid_19 #CovidVaccine  #PfizerBio...          0\n",
       "1     2020-12-13  The first trucks loaded with Pfizer’s coronavi...          0\n",
       "2     2020-12-13  @JoeBiden @KamalaHarris Thanks to you both for...          1\n",
       "3     2020-12-13  The entire ingredients of the #Pfizervaccine: ...          1\n",
       "4     2020-12-14  The hospital I work at has received the vaccin...          0\n",
       "...          ...                                                ...        ...\n",
       "4130  2021-11-16  🙆🏻‍♀️.I Did It.🩹. 1st Shot. Moderna Covid19 Va...          1\n",
       "4131  2021-11-16  Should we be vaccinating the deer too? #COVID1...          0\n",
       "4132  2021-11-17  Wake\\nThe\\nFuck\\nUp\\nSheeple\\n\\nWhat has chang...         -1\n",
       "4133  2021-11-17  Interesting topic to do some research on.  #Je...          1\n",
       "4134  2021-11-17  There is no profit in a cure...\\n\\n#johnsonand...         -1\n",
       "\n",
       "[4135 rows x 3 columns]"
      ]
     },
     "execution_count": 43,
     "metadata": {},
     "output_type": "execute_result"
    }
   ],
   "source": [
    "# creating new df with new variables\n",
    "tweet_sentiments_alt = tweets[['date', 'text']]\n",
    "\n",
    "# find the sentiment, either positive or negative\n",
    "tweet_sentiments_alt['sentiment'] = tweet_sentiments_alt['text'].apply(sentimentOfTweetAlt)\n",
    "tweet_sentiments_alt"
   ]
  },
  {
   "cell_type": "markdown",
   "metadata": {},
   "source": [
    "As above, all the data ranges will correspond with a certain Month. All the tweets in our alternate tweets sentiment data fram will then be segmented based on each data range. In each of the data ranges, the total of positive, negative, and neutral tweets will be aggregated. Then each category will be examined compared to the total number of tweets in this data range. This is done to see how many of each category is present in the month."
   ]
  },
  {
   "cell_type": "code",
   "execution_count": 33,
   "metadata": {},
   "outputs": [
    {
     "data": {
      "text/html": [
       "<div>\n",
       "<style scoped>\n",
       "    .dataframe tbody tr th:only-of-type {\n",
       "        vertical-align: middle;\n",
       "    }\n",
       "\n",
       "    .dataframe tbody tr th {\n",
       "        vertical-align: top;\n",
       "    }\n",
       "\n",
       "    .dataframe thead th {\n",
       "        text-align: right;\n",
       "    }\n",
       "</style>\n",
       "<table border=\"1\" class=\"dataframe\">\n",
       "  <thead>\n",
       "    <tr style=\"text-align: right;\">\n",
       "      <th></th>\n",
       "      <th>month</th>\n",
       "      <th>pos_total</th>\n",
       "      <th>neu_total</th>\n",
       "      <th>neg_total</th>\n",
       "      <th>total</th>\n",
       "      <th>pos_ratio</th>\n",
       "      <th>neu_ratio</th>\n",
       "      <th>neg_ratio</th>\n",
       "    </tr>\n",
       "  </thead>\n",
       "  <tbody>\n",
       "    <tr>\n",
       "      <th>0</th>\n",
       "      <td>Dec 2020</td>\n",
       "      <td>15</td>\n",
       "      <td>18</td>\n",
       "      <td>12</td>\n",
       "      <td>45</td>\n",
       "      <td>0.333333</td>\n",
       "      <td>0.400000</td>\n",
       "      <td>0.266667</td>\n",
       "    </tr>\n",
       "    <tr>\n",
       "      <th>1</th>\n",
       "      <td>Jan 2021</td>\n",
       "      <td>22</td>\n",
       "      <td>11</td>\n",
       "      <td>6</td>\n",
       "      <td>39</td>\n",
       "      <td>0.564103</td>\n",
       "      <td>0.282051</td>\n",
       "      <td>0.153846</td>\n",
       "    </tr>\n",
       "    <tr>\n",
       "      <th>2</th>\n",
       "      <td>Feb 2021</td>\n",
       "      <td>131</td>\n",
       "      <td>105</td>\n",
       "      <td>67</td>\n",
       "      <td>303</td>\n",
       "      <td>0.432343</td>\n",
       "      <td>0.346535</td>\n",
       "      <td>0.221122</td>\n",
       "    </tr>\n",
       "    <tr>\n",
       "      <th>3</th>\n",
       "      <td>Mar 2021</td>\n",
       "      <td>316</td>\n",
       "      <td>281</td>\n",
       "      <td>165</td>\n",
       "      <td>762</td>\n",
       "      <td>0.414698</td>\n",
       "      <td>0.368766</td>\n",
       "      <td>0.216535</td>\n",
       "    </tr>\n",
       "    <tr>\n",
       "      <th>4</th>\n",
       "      <td>Apr 2021</td>\n",
       "      <td>283</td>\n",
       "      <td>278</td>\n",
       "      <td>160</td>\n",
       "      <td>721</td>\n",
       "      <td>0.392510</td>\n",
       "      <td>0.385576</td>\n",
       "      <td>0.221914</td>\n",
       "    </tr>\n",
       "    <tr>\n",
       "      <th>5</th>\n",
       "      <td>May 2021</td>\n",
       "      <td>110</td>\n",
       "      <td>99</td>\n",
       "      <td>49</td>\n",
       "      <td>258</td>\n",
       "      <td>0.426357</td>\n",
       "      <td>0.383721</td>\n",
       "      <td>0.189922</td>\n",
       "    </tr>\n",
       "    <tr>\n",
       "      <th>6</th>\n",
       "      <td>June 2021</td>\n",
       "      <td>79</td>\n",
       "      <td>78</td>\n",
       "      <td>73</td>\n",
       "      <td>230</td>\n",
       "      <td>0.343478</td>\n",
       "      <td>0.339130</td>\n",
       "      <td>0.317391</td>\n",
       "    </tr>\n",
       "    <tr>\n",
       "      <th>7</th>\n",
       "      <td>July 2021</td>\n",
       "      <td>63</td>\n",
       "      <td>69</td>\n",
       "      <td>59</td>\n",
       "      <td>191</td>\n",
       "      <td>0.329843</td>\n",
       "      <td>0.361257</td>\n",
       "      <td>0.308901</td>\n",
       "    </tr>\n",
       "    <tr>\n",
       "      <th>8</th>\n",
       "      <td>Aug 2021</td>\n",
       "      <td>245</td>\n",
       "      <td>205</td>\n",
       "      <td>344</td>\n",
       "      <td>794</td>\n",
       "      <td>0.308564</td>\n",
       "      <td>0.258186</td>\n",
       "      <td>0.433249</td>\n",
       "    </tr>\n",
       "    <tr>\n",
       "      <th>9</th>\n",
       "      <td>Sep 2021</td>\n",
       "      <td>84</td>\n",
       "      <td>95</td>\n",
       "      <td>50</td>\n",
       "      <td>229</td>\n",
       "      <td>0.366812</td>\n",
       "      <td>0.414847</td>\n",
       "      <td>0.218341</td>\n",
       "    </tr>\n",
       "    <tr>\n",
       "      <th>10</th>\n",
       "      <td>Oct 2021</td>\n",
       "      <td>118</td>\n",
       "      <td>113</td>\n",
       "      <td>73</td>\n",
       "      <td>304</td>\n",
       "      <td>0.388158</td>\n",
       "      <td>0.371711</td>\n",
       "      <td>0.240132</td>\n",
       "    </tr>\n",
       "  </tbody>\n",
       "</table>\n",
       "</div>"
      ],
      "text/plain": [
       "        month  pos_total  neu_total  neg_total  total  pos_ratio  neu_ratio  \\\n",
       "0    Dec 2020         15         18         12     45   0.333333   0.400000   \n",
       "1    Jan 2021         22         11          6     39   0.564103   0.282051   \n",
       "2    Feb 2021        131        105         67    303   0.432343   0.346535   \n",
       "3    Mar 2021        316        281        165    762   0.414698   0.368766   \n",
       "4    Apr 2021        283        278        160    721   0.392510   0.385576   \n",
       "5    May 2021        110         99         49    258   0.426357   0.383721   \n",
       "6   June 2021         79         78         73    230   0.343478   0.339130   \n",
       "7   July 2021         63         69         59    191   0.329843   0.361257   \n",
       "8    Aug 2021        245        205        344    794   0.308564   0.258186   \n",
       "9    Sep 2021         84         95         50    229   0.366812   0.414847   \n",
       "10   Oct 2021        118        113         73    304   0.388158   0.371711   \n",
       "\n",
       "    neg_ratio  \n",
       "0    0.266667  \n",
       "1    0.153846  \n",
       "2    0.221122  \n",
       "3    0.216535  \n",
       "4    0.221914  \n",
       "5    0.189922  \n",
       "6    0.317391  \n",
       "7    0.308901  \n",
       "8    0.433249  \n",
       "9    0.218341  \n",
       "10   0.240132  "
      ]
     },
     "execution_count": 33,
     "metadata": {},
     "output_type": "execute_result"
    }
   ],
   "source": [
    "#calculating totals and ratio for positive, neutral, and negative tweets\n",
    "i=0\n",
    "sentiments_alt_list = []\n",
    "for start_date, end_date in date_range_list:\n",
    "    # finding totals for positive, neutral, and negative tweets\n",
    "    monthly_sentiments = tweet_sentiments_alt[(tweet_sentiments['date'] >= start_date) & \n",
    "                                              (tweet_sentiments['date'] <= end_date)]\n",
    "    pos_total = monthly_sentiments[monthly_sentiments['sentiment'] == 1].shape[0]\n",
    "    neu_total = monthly_sentiments[monthly_sentiments['sentiment'] == 0].shape[0]\n",
    "    neg_total = monthly_sentiments[monthly_sentiments['sentiment'] == -1].shape[0]\n",
    "    total = monthly_sentiments.shape[0]\n",
    "    \n",
    "    # creating list of sentiment totals\n",
    "    sentiments_alt_list.append(\n",
    "        {\n",
    "            'month':         month_list[i],\n",
    "            'pos_total':      pos_total,\n",
    "            'neu_total':     neu_total,\n",
    "            'neg_total':     neg_total,\n",
    "            'total':         total,\n",
    "            'pos_ratio':     pos_total/total,\n",
    "            'neu_ratio':     neu_total/total,\n",
    "            'neg_ratio':     neg_total/total,\n",
    "        }\n",
    "    )\n",
    "    i = i+1\n",
    "\n",
    "# converting total of sentiments list to a dataframe\n",
    "sentiments_alt = pd.DataFrame(sentiments_alt_list)\n",
    "#fixing month names\n",
    "sentiments_alt['month'] = sentiments_alt['month'].str.replace('Dec', 'Dec 2020')\n",
    "sentiments_alt['month'] = sentiments_alt['month'].str.replace('Jan', 'Jan 2021')\n",
    "sentiments_alt['month'] = sentiments_alt['month'].str.replace('Feb', 'Feb 2021')\n",
    "sentiments_alt['month'] = sentiments_alt['month'].str.replace('Mar', 'Mar 2021')\n",
    "sentiments_alt['month'] = sentiments_alt['month'].str.replace('Apr', 'Apr 2021')\n",
    "sentiments_alt['month'] = sentiments_alt['month'].str.replace('May', 'May 2021')\n",
    "sentiments_alt['month'] = sentiments_alt['month'].str.replace('June', 'June 2021')\n",
    "sentiments_alt['month'] = sentiments_alt['month'].str.replace('July', 'July 2021')\n",
    "sentiments_alt['month'] = sentiments_alt['month'].str.replace('Aug', 'Aug 2021')\n",
    "sentiments_alt['month'] = sentiments_alt['month'].str.replace('Sep', 'Sep 2021')\n",
    "sentiments_alt['month'] = sentiments_alt['month'].str.replace('Oct', 'Oct 2021')\n",
    "\n",
    "sentiments_alt\n"
   ]
  },
  {
   "cell_type": "markdown",
   "metadata": {},
   "source": [
    "## Plots of Tweet Sentiment vs. Vaccine Rates"
   ]
  },
  {
   "cell_type": "markdown",
   "metadata": {},
   "source": [
    "The following graph is to show how the average vaccine tweet sentiment per month changes over time. We will then try to compare and analyze how this correlated with vaccine rates over time."
   ]
  },
  {
   "cell_type": "code",
   "execution_count": 17,
   "metadata": {},
   "outputs": [
    {
     "data": {
      "text/plain": [
       "([0, 1, 2, 3, 4, 5, 6, 7, 8, 9, 10],\n",
       " [Text(0, 0, ''),\n",
       "  Text(0, 0, ''),\n",
       "  Text(0, 0, ''),\n",
       "  Text(0, 0, ''),\n",
       "  Text(0, 0, ''),\n",
       "  Text(0, 0, ''),\n",
       "  Text(0, 0, ''),\n",
       "  Text(0, 0, ''),\n",
       "  Text(0, 0, ''),\n",
       "  Text(0, 0, ''),\n",
       "  Text(0, 0, '')])"
      ]
     },
     "execution_count": 17,
     "metadata": {},
     "output_type": "execute_result"
    },
    {
     "data": {
      "image/png": "[encoded data removed]",
      "text/plain": [
       "<Figure size 432x288 with 1 Axes>"
      ]
     },
     "metadata": {
      "needs_background": "light"
     },
     "output_type": "display_data"
    }
   ],
   "source": [
    "#looking at average over time\n",
    "p = sns.lineplot(data=sentiments, x=\"month\", y=\"avg_sentiment\", markers = True)\n",
    "p.set(xlabel='Date', ylabel='Average Sentiment')\n",
    "p.set_title('Average Vaccine Tweet Sentiment per Month')\n",
    "plt.xticks(rotation = 'vertical')"
   ]
  },
  {
   "cell_type": "markdown",
   "metadata": {},
   "source": [
    "### Figure 1\n",
    "First we categorized the data by month to demonstrate the distribution of vaccine tweets over time. Figure 1 tracks the sentiment of these tweets over the course of 11 months, December 2020 to October 2021. The average sentiment–the mean between negative, neutral, and positive associations–peaked in January, with smaller peaks in May, July, and September. The months in which sentiment was lowest are in the span between February to April and June to August. "
   ]
  },
  {
   "cell_type": "code",
   "execution_count": 18,
   "metadata": {},
   "outputs": [
    {
     "data": {
      "text/plain": [
       "([0, 1, 2, 3, 4, 5, 6, 7, 8, 9, 10],\n",
       " [Text(0, 0, ''),\n",
       "  Text(0, 0, ''),\n",
       "  Text(0, 0, ''),\n",
       "  Text(0, 0, ''),\n",
       "  Text(0, 0, ''),\n",
       "  Text(0, 0, ''),\n",
       "  Text(0, 0, ''),\n",
       "  Text(0, 0, ''),\n",
       "  Text(0, 0, ''),\n",
       "  Text(0, 0, ''),\n",
       "  Text(0, 0, '')])"
      ]
     },
     "execution_count": 18,
     "metadata": {},
     "output_type": "execute_result"
    },
    {
     "data": {
      "image/png": "[encoded data removed]",
      "text/plain": [
       "<Figure size 432x288 with 1 Axes>"
      ]
     },
     "metadata": {
      "needs_background": "light"
     },
     "output_type": "display_data"
    }
   ],
   "source": [
    "#looking at sentiment over time\n",
    "temp = sentiments_alt[[\"month\", \"pos_total\", 'neg_total', 'neu_total']]\n",
    "temp\n",
    "p = sns.lineplot(data = temp, x = 'month', markers = True)\n",
    "p.set(xlabel='Date', ylabel='Count')\n",
    "p.set_title('Total Positive, Neutral, and Negative sentiment tweets per Month')\n",
    "sns.lineplot(data=temp['pos_total'], label = 'positive total', markers = True)\n",
    "sns.lineplot(data=temp['neg_total'], label = 'negative total', markers = True)\n",
    "sns.lineplot(data=temp['neu_total'], label = 'neutral total', markers = True)\n",
    "plt.xticks(rotation = 'vertical')"
   ]
  },
  {
   "cell_type": "markdown",
   "metadata": {},
   "source": [
    "### Figure 2\n",
    "Our second graph demonstrates the total positive, neutral, and negative sentiment tweets per month. To determine the average sentiment of tweets regarding the vaccine, we used a pre-trained model which sifted through a large list of words to assign the tweet sentiment as positive, neutral, or negative. We then created ratios from this data by dividing the total number of positive/neutral/negative sentiment by the total number of words used in each tweet.\n",
    "\n",
    "The graph shows a general increase in tweets regarding the vaccine from January to March 2021 with the greatest number of tweets having a positive total sentiment. Tweets with a neutral sentiment showed a similar increase during this time, while negative sentiment tweets increased to around 150 tweets per month. Tweets pertaining to the vaccine showed a significant decrease from April to May and continued to fall at a less significant rate until July. From July until August, there was a significant increase from around 50 tweets for each sentiment, to about 200 for neutral, 250 for positive, and around 350 or negative sentiment tweets. There was a dramatic decrease in all tweets pertaining to the vaccine fromAugust to September of 2021, and the most significant decrease was for negative sentiment tweets which dropped from 350 to around 50 tweets. "
   ]
  },
  {
   "cell_type": "code",
   "execution_count": 19,
   "metadata": {},
   "outputs": [
    {
     "data": {
      "text/plain": [
       "([0, 1, 2, 3, 4, 5, 6, 7, 8, 9, 10],\n",
       " [Text(0, 0, ''),\n",
       "  Text(0, 0, ''),\n",
       "  Text(0, 0, ''),\n",
       "  Text(0, 0, ''),\n",
       "  Text(0, 0, ''),\n",
       "  Text(0, 0, ''),\n",
       "  Text(0, 0, ''),\n",
       "  Text(0, 0, ''),\n",
       "  Text(0, 0, ''),\n",
       "  Text(0, 0, ''),\n",
       "  Text(0, 0, '')])"
      ]
     },
     "execution_count": 19,
     "metadata": {},
     "output_type": "execute_result"
    },
    {
     "data": {
      "image/png": "[encoded data removed]",
      "text/plain": [
       "<Figure size 432x288 with 1 Axes>"
      ]
     },
     "metadata": {
      "needs_background": "light"
     },
     "output_type": "display_data"
    }
   ],
   "source": [
    "temp2 = sentiments_alt[[\"month\", \"pos_ratio\", 'neg_ratio', 'neu_ratio']]\n",
    "p = sns.lineplot(data = temp, x = 'month', markers = True)\n",
    "p.set(xlabel='Date', ylabel='Count')\n",
    "p.set_title('Positive, Neutral, and Negative Sentiment Tweet Ratios per Month')\n",
    "sns.lineplot(data=temp2['pos_ratio'], label = 'positive ratio', markers = True)\n",
    "sns.lineplot(data=temp2['neg_ratio'], label = 'negative ratio', markers = True)\n",
    "sns.lineplot(data=temp2['neu_ratio'], label = 'neutral ratio', markers = True)\n",
    "plt.xticks(rotation = 'vertical')"
   ]
  },
  {
   "cell_type": "markdown",
   "metadata": {},
   "source": [
    "### Figure 3"
   ]
  },
  {
   "cell_type": "code",
   "execution_count": 20,
   "metadata": {},
   "outputs": [
    {
     "data": {
      "text/plain": [
       "Text(0.5, 1.0, 'Covid-19 Administered Vaccinations per Month')"
      ]
     },
     "execution_count": 20,
     "metadata": {},
     "output_type": "execute_result"
    },
    {
     "data": {
      "image/png": "[encoded data removed]",
      "text/plain": [
       "<Figure size 432x288 with 1 Axes>"
      ]
     },
     "metadata": {
      "needs_background": "light"
     },
     "output_type": "display_data"
    }
   ],
   "source": [
    "temp3 = cleaned_vaccine_rates[[\"Date\", \"Administered\"]]\n",
    "\n",
    "p = sns.lineplot(data = temp3, x = 'Date', y = \"Administered\")\n",
    "plt.xticks(rotation = 'vertical')\n",
    "p.set(xlabel='Date', ylabel='Count')\n",
    "p.set_title('Covid-19 Administered Vaccinations per Month')"
   ]
  },
  {
   "cell_type": "markdown",
   "metadata": {},
   "source": [
    "### Figure 4\n",
    "This graph demonstrates the rate of administering the vaccine in California from December of 2020 to October of 2021. There was a steady increase in the rate of administration from December to February, which began to increase more rapidly until May of 2021. While the general trend continued to have an upward progression, the rate of administration began to slow from May until October 2021. "
   ]
  },
  {
   "cell_type": "code",
   "execution_count": 21,
   "metadata": {},
   "outputs": [
    {
     "data": {
      "text/plain": [
       "Text(0.5, 1.0, 'Average Tweet Sentiments and Normalized Administration Rates')"
      ]
     },
     "execution_count": 21,
     "metadata": {},
     "output_type": "execute_result"
    },
    {
     "data": {
      "image/png": "[encoded data removed]",
      "text/plain": [
       "<Figure size 432x288 with 1 Axes>"
      ]
     },
     "metadata": {
      "needs_background": "light"
     },
     "output_type": "display_data"
    }
   ],
   "source": [
    "temp4 = normalized[[\"Date\", \"Administered\"]]\n",
    "p = sns.lineplot(data = temp4, x = 'Date', y = \"Administered\")\n",
    "sns.lineplot(data=sentiments, x=\"month\", y=\"avg_sentiment\", markers = True)\n",
    "plt.xticks(rotation = 'vertical')\n",
    "p.set(xlabel='Date', ylabel='Count')\n",
    "p.set_title('Average Tweet Sentiments and Normalized Administration Rates')"
   ]
  },
  {
   "cell_type": "markdown",
   "metadata": {},
   "source": [
    "### Figure 5\n",
    "Our next figure displays the temporal relationship between the normalized administration rate and the average tweet sentiments. Regardless of the minimal increases and decreases in tweets pertaining to the vaccine, the rate of administration progressively increased. Additionally, the tweet sentiments do not correlate with the increasing rate of administration. "
   ]
  },
  {
   "cell_type": "code",
   "execution_count": 22,
   "metadata": {},
   "outputs": [
    {
     "data": {
      "text/plain": [
       "Text(0.5, 1.0, 'Positive, Neutral, and Negative sentiment Tweet Ratios and Vaccine Administrations per Month')"
      ]
     },
     "execution_count": 22,
     "metadata": {},
     "output_type": "execute_result"
    },
    {
     "data": {
      "image/png": "[encoded data removed]",
      "text/plain": [
       "<Figure size 432x288 with 1 Axes>"
      ]
     },
     "metadata": {
      "needs_background": "light"
     },
     "output_type": "display_data"
    }
   ],
   "source": [
    "p = sns.lineplot(data = temp4, x = 'Date', y = \"Administered\")\n",
    "sns.lineplot(data=temp2['pos_ratio'], label = 'positive ratio', markers = True)\n",
    "sns.lineplot(data=temp2['neg_ratio'], label = 'negative ratio', markers = True)\n",
    "sns.lineplot(data=temp2['neu_ratio'], label = 'neutral ratio', markers = True)\n",
    "plt.xticks(rotation = 'vertical')\n",
    "p.set(xlabel='Month', ylabel='Count')\n",
    "p.set_title('Positive, Neutral, and Negative sentiment Tweet Ratios and Vaccine Administrations per Month')"
   ]
  },
  {
   "cell_type": "markdown",
   "metadata": {},
   "source": [
    "### Figure 6\n",
    "As the administration rate increases, the trend amongst positive, negative, and neutral ratios have varying behaviors. The positive sentiment slightly declines over time after peaking in the beginning months of January and February. The neutral sentiment remains at a consistent count of around 0.4. As for the negative sentiment, it has an upward trend over time, while dropping off in the last months of September and October. This graph points to the general sentiment dropping in positivity and increasing in negativity as the administration rate increases. \n"
   ]
  },
  {
   "cell_type": "code",
   "execution_count": 23,
   "metadata": {},
   "outputs": [
    {
     "data": {
      "text/plain": [
       "<AxesSubplot:xlabel='Administered'>"
      ]
     },
     "execution_count": 23,
     "metadata": {},
     "output_type": "execute_result"
    },
    {
     "data": {
      "image/png": "[encoded data removed]",
      "text/plain": [
       "<Figure size 432x288 with 1 Axes>"
      ]
     },
     "metadata": {
      "needs_background": "light"
     },
     "output_type": "display_data"
    },
    {
     "data": {
      "image/png": "[encoded data removed]",
      "text/plain": [
       "<Figure size 432x288 with 1 Axes>"
      ]
     },
     "metadata": {
      "needs_background": "light"
     },
     "output_type": "display_data"
    },
    {
     "data": {
      "image/png": "[encoded data removed]",
      "text/plain": [
       "<Figure size 432x288 with 1 Axes>"
      ]
     },
     "metadata": {
      "needs_background": "light"
     },
     "output_type": "display_data"
    }
   ],
   "source": [
    "temp_2 = normalized[[\"Administered\"]]\n",
    "temp_3 = sentiments_alt[['pos_ratio', 'neu_ratio', 'neg_ratio']]\n",
    "temp_3[\"Administered\"] = normalized[\"Administered\"]\n",
    "temp_3\n",
    "p = temp_3.plot(x='Administered', y='pos_ratio', style='o')\n",
    "p.set(xlabel='Administered Vaccines', ylabel='Positive Sentiment Ratio')\n",
    "p.set_title('Sentiment Tweet Ratios vs Vaccine Administrations')\n",
    "\n",
    "temp_3.plot(x='Administered', y='neg_ratio', style='rx')\n",
    "    \n",
    "temp_3.plot(x='Administered', y='neu_ratio', style='o')"
   ]
  },
  {
   "cell_type": "markdown",
   "metadata": {},
   "source": [
    "### Figure 7\n",
    "Figure 7a. Our graph displaying the relationship between the positive sentiment ratio and administered vaccines shows a somewhat negative slope where smaller positive sentiment ratios indicated a great number of vaccines administered. There was an outlier for this data where the highest positive sentiment ratio of about 0.57 coincided with one of the lowest vaccine administration rates. \n",
    "\n",
    "Figure 7b. The data for the negative sentiment ratio against administered vaccines demonstrates a close to constant slope, where the negative sentiment ratio had a minimal effect on the rate of administration. There was a single outlier where the most negative sentiment ratio coincided with one of the highest administration rates.\n",
    "\n",
    "Figure 7c. The neutral ratio trend also has a positive slope, although it is weak. The outliers include the high 0.4 value at the very start of the vaccine administration as well as the extremely low value of 0.26 toward the end of administration. "
   ]
  },
  {
   "cell_type": "code",
   "execution_count": 24,
   "metadata": {},
   "outputs": [
    {
     "data": {
      "text/plain": [
       "Text(0.5, 1.0, 'Tweet Sentiment Ratios')"
      ]
     },
     "execution_count": 24,
     "metadata": {},
     "output_type": "execute_result"
    },
    {
     "data": {
      "image/png": "[encoded data removed]",
      "text/plain": [
       "<Figure size 432x288 with 1 Axes>"
      ]
     },
     "metadata": {
      "needs_background": "light"
     },
     "output_type": "display_data"
    }
   ],
   "source": [
    "temp_3 = sentiments_alt[['pos_ratio', 'neu_ratio', 'neg_ratio']]\n",
    "p = temp_3.boxplot()\n",
    "p.set(xlabel='Sentiment Ratios', ylabel='Count')\n",
    "p.set_title('Tweet Sentiment Ratios')"
   ]
  },
  {
   "cell_type": "markdown",
   "metadata": {},
   "source": [
    "### Figure 8\n",
    "Our last graph displays that the positive ratio for sentiment tweets had the smallest range, a greater range for the neutral ratio, and the largest range for the negative ratio. The average count for the positive ratio was 0.38, 0.36 for neutral, and 0.23 for the negative ratio. Each of the three ratios had one noteworthy outlier outside of the range, where the values were significantly higher than the range for the positive and negative ratios, and somewhat below the range for the neutral value. \n"
   ]
  },
  {
   "cell_type": "markdown",
   "metadata": {},
   "source": [
    "Since the release of the vaccine in December of 2020, there has been a noteworthy increase in tweets pertaining to the vaccine. When it comes to the magnitude of tweets, the positive and neutral sentiment was much larger than the negative sentiment. However, as time progressed the number of negative sentiment tweets increased and surpassed that of neutral and positive sentiment tweets. This relationship could be due to the fact that when the vaccine was originally released, Americans were very eager to feel protected against the virus as the lack of research and methods for protection instilled fear in a large population. However as time progressed, side effects due to the vaccine began to emerge and this was reflected through social media. This caused greater controversy surrounding the safety of the vaccine which led to an increase in negative sentiment tweets, and those opposing them as well. "
   ]
  },
  {
   "cell_type": "markdown",
   "metadata": {},
   "source": [
    "# Statistical Analysis: Regression"
   ]
  },
  {
   "cell_type": "markdown",
   "metadata": {},
   "source": [
    "Before we did our regression analysis, we wanted to look at the correlations between our variables to determine which ones to use in our regression analysis. Our correlation test showed that most of our variables had high correlations, except for the ratio of positive sentiment among our tweets. Because of this, we had to exclude most of our variables from our analysis. Once we dropped all our other variables, we can see that the ratio of positive sentiment and the number of vaccines administered have a negative correlation. \n",
    "\n",
    "We then carried out an Ordinary Least Squares regression on our variables, which showed that the ratio of positive sentiment did not have a significant effect on the rate at which vaccines were administered. Additionally, this model only accounts for 26% of the variation in the dependent variable. We can retain the null hypothesis."
   ]
  },
  {
   "cell_type": "code",
   "execution_count": 32,
   "metadata": {},
   "outputs": [
    {
     "data": {
      "text/html": [
       "<div>\n",
       "<style scoped>\n",
       "    .dataframe tbody tr th:only-of-type {\n",
       "        vertical-align: middle;\n",
       "    }\n",
       "\n",
       "    .dataframe tbody tr th {\n",
       "        vertical-align: top;\n",
       "    }\n",
       "\n",
       "    .dataframe thead th {\n",
       "        text-align: right;\n",
       "    }\n",
       "</style>\n",
       "<table border=\"1\" class=\"dataframe\">\n",
       "  <thead>\n",
       "    <tr style=\"text-align: right;\">\n",
       "      <th></th>\n",
       "      <th>Distributed</th>\n",
       "      <th>Administered</th>\n",
       "      <th>Administered_Dose1_Recip</th>\n",
       "      <th>Series_Complete_Yes</th>\n",
       "      <th>pos_ratio</th>\n",
       "    </tr>\n",
       "  </thead>\n",
       "  <tbody>\n",
       "    <tr>\n",
       "      <th>Distributed</th>\n",
       "      <td>1.000000</td>\n",
       "      <td>0.998365</td>\n",
       "      <td>0.992828</td>\n",
       "      <td>0.989767</td>\n",
       "      <td>-0.492580</td>\n",
       "    </tr>\n",
       "    <tr>\n",
       "      <th>Administered</th>\n",
       "      <td>0.998365</td>\n",
       "      <td>1.000000</td>\n",
       "      <td>0.993476</td>\n",
       "      <td>0.993040</td>\n",
       "      <td>-0.511710</td>\n",
       "    </tr>\n",
       "    <tr>\n",
       "      <th>Administered_Dose1_Recip</th>\n",
       "      <td>0.992828</td>\n",
       "      <td>0.993476</td>\n",
       "      <td>1.000000</td>\n",
       "      <td>0.982551</td>\n",
       "      <td>-0.544834</td>\n",
       "    </tr>\n",
       "    <tr>\n",
       "      <th>Series_Complete_Yes</th>\n",
       "      <td>0.989767</td>\n",
       "      <td>0.993040</td>\n",
       "      <td>0.982551</td>\n",
       "      <td>1.000000</td>\n",
       "      <td>-0.549490</td>\n",
       "    </tr>\n",
       "    <tr>\n",
       "      <th>pos_ratio</th>\n",
       "      <td>-0.492580</td>\n",
       "      <td>-0.511710</td>\n",
       "      <td>-0.544834</td>\n",
       "      <td>-0.549490</td>\n",
       "      <td>1.000000</td>\n",
       "    </tr>\n",
       "  </tbody>\n",
       "</table>\n",
       "</div>"
      ],
      "text/plain": [
       "                          Distributed  Administered  Administered_Dose1_Recip  \\\n",
       "Distributed                  1.000000      0.998365                  0.992828   \n",
       "Administered                 0.998365      1.000000                  0.993476   \n",
       "Administered_Dose1_Recip     0.992828      0.993476                  1.000000   \n",
       "Series_Complete_Yes          0.989767      0.993040                  0.982551   \n",
       "pos_ratio                   -0.492580     -0.511710                 -0.544834   \n",
       "\n",
       "                          Series_Complete_Yes  pos_ratio  \n",
       "Distributed                          0.989767  -0.492580  \n",
       "Administered                         0.993040  -0.511710  \n",
       "Administered_Dose1_Recip             0.982551  -0.544834  \n",
       "Series_Complete_Yes                  1.000000  -0.549490  \n",
       "pos_ratio                           -0.549490   1.000000  "
      ]
     },
     "execution_count": 32,
     "metadata": {},
     "output_type": "execute_result"
    }
   ],
   "source": [
    "#want to look at how positive tweet ratio changes due to independent variables. \n",
    "#temp = sentiments_alt[[\"month\", \"pos_total\", 'neg_total', 'neu_total']]\n",
    "#sentiments_alt\n",
    "#normalized\n",
    "new = normalized.join(sentiments_alt['pos_ratio'], how='outer')\n",
    "first_column = new.pop('Date')\n",
    "new.insert(0, 'Date', first_column)\n",
    "new\n",
    "new2 = new.drop(['Date'], axis=1)\n",
    "new2.corr()\n",
    "#Did not want to exclude so many variables but after running a coorrelation test we can see that distributed, administered, series complete, and administered dose 1 all are highly correlated, so we have to exclude them from our regression model"
   ]
  },
  {
   "cell_type": "code",
   "execution_count": 26,
   "metadata": {},
   "outputs": [
    {
     "data": {
      "text/html": [
       "<div>\n",
       "<style scoped>\n",
       "    .dataframe tbody tr th:only-of-type {\n",
       "        vertical-align: middle;\n",
       "    }\n",
       "\n",
       "    .dataframe tbody tr th {\n",
       "        vertical-align: top;\n",
       "    }\n",
       "\n",
       "    .dataframe thead th {\n",
       "        text-align: right;\n",
       "    }\n",
       "</style>\n",
       "<table border=\"1\" class=\"dataframe\">\n",
       "  <thead>\n",
       "    <tr style=\"text-align: right;\">\n",
       "      <th></th>\n",
       "      <th>Administered</th>\n",
       "      <th>pos_ratio</th>\n",
       "    </tr>\n",
       "  </thead>\n",
       "  <tbody>\n",
       "    <tr>\n",
       "      <th>Administered</th>\n",
       "      <td>1.00000</td>\n",
       "      <td>-0.51171</td>\n",
       "    </tr>\n",
       "    <tr>\n",
       "      <th>pos_ratio</th>\n",
       "      <td>-0.51171</td>\n",
       "      <td>1.00000</td>\n",
       "    </tr>\n",
       "  </tbody>\n",
       "</table>\n",
       "</div>"
      ],
      "text/plain": [
       "              Administered  pos_ratio\n",
       "Administered       1.00000   -0.51171\n",
       "pos_ratio         -0.51171    1.00000"
      ]
     },
     "execution_count": 26,
     "metadata": {},
     "output_type": "execute_result"
    }
   ],
   "source": [
    "#dropping all variables except pos_ratio and Administered\n",
    "new2 = new2.drop(['Distributed', 'Administered_Dose1_Recip', 'Series_Complete_Yes'], axis = 1)\n",
    "new2\n",
    "new2.corr()\n",
    "#we see that there is a negative correlation\n"
   ]
  },
  {
   "cell_type": "code",
   "execution_count": 27,
   "metadata": {},
   "outputs": [
    {
     "name": "stdout",
     "output_type": "stream",
     "text": [
      "                            OLS Regression Results                            \n",
      "==============================================================================\n",
      "Dep. Variable:              pos_ratio   R-squared:                       0.262\n",
      "Model:                            OLS   Adj. R-squared:                  0.180\n",
      "Method:                 Least Squares   F-statistic:                     3.193\n",
      "Date:                Fri, 10 Dec 2021   Prob (F-statistic):              0.108\n",
      "Time:                        12:24:20   Log-Likelihood:                 15.704\n",
      "No. Observations:                  11   AIC:                            -27.41\n",
      "Df Residuals:                       9   BIC:                            -26.61\n",
      "Df Model:                           1                                         \n",
      "Covariance Type:            nonrobust                                         \n",
      "================================================================================\n",
      "                   coef    std err          t      P>|t|      [0.025      0.975]\n",
      "--------------------------------------------------------------------------------\n",
      "Intercept        0.4480      0.037     11.995      0.000       0.364       0.533\n",
      "Administered    -0.1003      0.056     -1.787      0.108      -0.227       0.027\n",
      "==============================================================================\n",
      "Omnibus:                        1.431   Durbin-Watson:                   2.268\n",
      "Prob(Omnibus):                  0.489   Jarque-Bera (JB):                0.096\n",
      "Skew:                           0.148   Prob(JB):                        0.953\n",
      "Kurtosis:                       3.347   Cond. No.                         3.93\n",
      "==============================================================================\n",
      "\n",
      "Notes:\n",
      "[1] Standard Errors assume that the covariance matrix of the errors is correctly specified.\n"
     ]
    }
   ],
   "source": [
    "#model\n",
    "outcome, predictors = patsy.dmatrices('pos_ratio ~ Administered', new)\n",
    "mod = sm.OLS(outcome, predictors)\n",
    "res = mod.fit()\n",
    "print(res.summary())"
   ]
  },
  {
   "cell_type": "markdown",
   "metadata": {},
   "source": [
    "As we can see, the results of our regression model indicate non significant effects of Administration on Positive Tweet Numbers. Additionally, this model only accounts for 26% of the variation in the dependent variable. We can retain the null hypothesis. Below is a graph displaying no linear relationship between variables. "
   ]
  },
  {
   "cell_type": "code",
   "execution_count": 28,
   "metadata": {},
   "outputs": [
    {
     "data": {
      "text/plain": [
       "(0.0, 1.0)"
      ]
     },
     "execution_count": 28,
     "metadata": {},
     "output_type": "execute_result"
    },
    {
     "data": {
      "image/png": "[encoded data removed]",
      "text/plain": [
       "<Figure size 432x288 with 1 Axes>"
      ]
     },
     "metadata": {
      "needs_background": "light"
     },
     "output_type": "display_data"
    }
   ],
   "source": [
    "## Plot \n",
    "sns.scatterplot(x='Administered', y='pos_ratio', data=new);\n",
    "\n",
    "# Generate and plot the model fit line learned from class\n",
    "xs = np.arange(new['Administered'].min(), new['Administered'].max())\n",
    "ys = 1.9292 * xs + 16.7423\n",
    "plt.plot(xs, ys, '--k', linewidth=1, label='Model')\n",
    "plt.xlabel('Administered')\n",
    "plt.ylabel('pos_ratio')\n",
    "plt.legend();\n",
    "plt.ylim(0.0, 1.0)"
   ]
  },
  {
   "cell_type": "markdown",
   "metadata": {},
   "source": [
    "There is no visible correlation between administered vaccination rates and positive vaccine sentiment, however there was a non significant negative correlation. If we plot just the administration rates and positive tweet ratios then we observe that the peak of positive tweets is when administration rates were very low"
   ]
  },
  {
   "cell_type": "code",
   "execution_count": 29,
   "metadata": {},
   "outputs": [
    {
     "data": {
      "text/plain": [
       "([0, 1, 2, 3, 4, 5, 6, 7, 8, 9, 10],\n",
       " [Text(0, 0, ''),\n",
       "  Text(0, 0, ''),\n",
       "  Text(0, 0, ''),\n",
       "  Text(0, 0, ''),\n",
       "  Text(0, 0, ''),\n",
       "  Text(0, 0, ''),\n",
       "  Text(0, 0, ''),\n",
       "  Text(0, 0, ''),\n",
       "  Text(0, 0, ''),\n",
       "  Text(0, 0, ''),\n",
       "  Text(0, 0, '')])"
      ]
     },
     "execution_count": 29,
     "metadata": {},
     "output_type": "execute_result"
    },
    {
     "data": {
      "image/png": "[encoded data removed]",
      "text/plain": [
       "<Figure size 432x288 with 1 Axes>"
      ]
     },
     "metadata": {
      "needs_background": "light"
     },
     "output_type": "display_data"
    }
   ],
   "source": [
    "p = sns.lineplot(data = new, x = 'Date', markers = True)\n",
    "p.set(xlabel='Date', ylabel='Count')\n",
    "p.set_title('Administered Vaccinations and Positive Tweet Ratio')\n",
    "sns.lineplot(data=new['pos_ratio'], label = 'Positive Tweet Ratio', markers = True)\n",
    "sns.lineplot(data=new['Administered'], label = 'Administered', markers = True)\n",
    "plt.xticks(rotation = 'vertical')"
   ]
  },
  {
   "cell_type": "markdown",
   "metadata": {},
   "source": [
    "# Ethics and Privacy \n",
    "\n",
    "No dataset is without biases. The most obvious one comes from how we got our Tweets. The tweets were gathered by a third party and posted to Kaggle, so we have no way to know how or what criteria was used to gather the tweets. Also, our tweets only take into account sentiment from when the vaccine became available, and not any prior sentiment, which could have influenced people's decision to get the vaccine. In this project, we aimed to minimize privacy risks and concerns. Despite the tweets being public information and posted to public twitter accounts, we still omitted all names, usernames, and any other identifying information from our final dataset. All our other data is public information from the CDC, which has no identifying information included in it. \n",
    "\n",
    "Due to the fact that the pandemic is a current event that has sparked major controversy, particularly regarding mask mandates and vaccine requirements, there are sensitivities that surround discussing it. Our data will thus maintain a level of anonymity and be entirely based on logistical data collection. Data analysis will be conducted on cleaned data that generalizes the overall sentiment towards the COVID vaccine for the United States as a whole to protect the integrity of twitter users who tweeted about the vaccine and ensure no state is ostracized or shunned based on their tweet sentiment. We consistently made efforts to eliminate our own biases surrounding this subject matter through using objective language, facts and evidence, and by consulting our fellow team members to ensure we uphold this standard. \n",
    "\n",
    "Because we referred to existing data sets rather than cultivating our own, there is of course the potential for hidden biases within the data collection methods and the potential that those who extracted the data, framed it in such a manner to adhere to a particular side of the argument (depending on their own vaccination stance). There is a strong chance that particular groups may be omitted from the data, due to undetectable methods. For example, affluent and populations of higher socioeconomic status may have higher reports of vaccination due to more access to such resources. There is additionally a strong chance that impoverished districts may report lower vaccine numbers solely due to the lack of resources rather than a stance on whether or not they’d like to receive the vaccine if the opportunity was presented. There is also a bias present on the sentiment analysis of tweets, as there may not be a uniform distribution of people with a given age, gender, race, ethnicity, and political affiliation that tweet about the COVID vaccine.\n"
   ]
  },
  {
   "cell_type": "markdown",
   "metadata": {},
   "source": [
    "# Conclusion\n",
    "The purpose of this project was to look for evidence that sentiment towards the various COVID-19 vaccines in social media, specifically Twitter, affected the rates at which vaccines were administered to people. To look for this we found a dataset of tweets regarding the COVID vaccine, and the official CDC vaccination dataset, and carried out a multivariate regression analysis. Before carrying out our analysis, we hypothesized that an overall positive twitter sentiment for a period of time would lead to an increase in the rate at which vaccines were administered. \n",
    "\n",
    "The results of our multivariate analysis showed that there was no significant relationship between our two variables, which refuted our hypothesis. Additionally, we found a negative correlation between our two main variables, the ratio of positive sentiment and the change in administered vaccines. \n",
    "\n",
    "As a whole, the scope of our project was limited. The dataset we found for our tweets after cleaning only had around 4000 observations, and we don’t know how the data was compiled. If we could go back and do this project again, we would have made use of the twitter API, and searched for tweets regarding the covid vaccine ourselves, which could have yielded more or better data. Given more time and more data, we could have looked at individual states or even individual counties across the US, which may have given us some more insight into how social media from those specific areas reflect those areas vaccination rates. \n",
    "\n",
    "We also must acknowledge that despite social media's ever growing influence, vaccination rates are affected by a lot more than just social media, for example: religion, political stance, ethnic/cultural background, and level of education. Therefore it's possible that twitter sentiment does not take precedence as a determining factor of whether or not someone decides to get vaccinated.\n"
   ]
  },
  {
   "cell_type": "markdown",
   "metadata": {},
   "source": [
    "# Team Contributions\n",
    "All of our meetings were either in person or over discord. We did most of the work collaboratively during meetings, but in the instances where we could not meet all team members completed the roles and sections they were assigned in a timely manner. "
   ]
  }
 ],
 "metadata": {
  "kernelspec": {
   "display_name": "Python 3 (ipykernel)",
   "language": "python",
   "name": "python3"
  },
  "language_info": {
   "codemirror_mode": {
    "name": "ipython",
    "version": 3
   },
   "file_extension": ".py",
   "mimetype": "text/x-python",
   "name": "python",
   "nbconvert_exporter": "python",
   "pygments_lexer": "ipython3",
   "version": "3.9.5"
  }
 },
 "nbformat": 4,
 "nbformat_minor": 2
}
