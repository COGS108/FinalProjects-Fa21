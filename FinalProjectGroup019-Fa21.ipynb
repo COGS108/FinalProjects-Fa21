{
 "cells": [
  {
   "cell_type": "markdown",
   "metadata": {},
   "source": [
    "# COGS 108 - Final Project (Sleep in Mammals)"
   ]
  },
  {
   "cell_type": "markdown",
   "metadata": {},
   "source": [
    "## Permissions\n",
    "\n",
    "Place an `X` in the appropriate bracket below to specify if you would like your group's project to be made available to the public. (Note that student names will be included (but PIDs will be scraped from any groups who include their PIDs).\n",
    "\n",
    "* [ X ] YES - make available\n",
    "* [   ] NO - keep private"
   ]
  },
  {
   "cell_type": "markdown",
   "metadata": {},
   "source": [
    "# Overview"
   ]
  },
  {
   "cell_type": "markdown",
   "metadata": {},
   "source": [
    "In this project, we are going to examine the relationship between mammal properties, such as their body weight, life span, gestation, predation, exposure, and danger, and the sleep time of the mammal. According to our background research, many scientists have established connections between mammals' sleep patterns and certain bodily features and habits, including predation. Thus, amongst other factors, we are interested to explore whether predation has the most significant influence on sleep time. By analyzing the average coefficient, average p-values, average contribution, and Adjusted R-squared of linear regression models with all possible feature combinations after bootstrapping, we aim to explore whether our chosen feature is the strongest predictor.\n"
   ]
  },
  {
   "cell_type": "markdown",
   "metadata": {},
   "source": [
    "# Names\n",
    "\n",
    "- Chia-yu Chang (A15935893)\n",
    "- Cecilia Liu (A15912399)\n",
    "- Hannah Lin (A15999441)\n",
    "- Jinyu Rao (A15625300)\n",
    "- Lanzhuo Wu (A15581462)"
   ]
  },
  {
   "cell_type": "markdown",
   "metadata": {},
   "source": [
    "<a id='research_question'></a>\n",
    "# Research Question"
   ]
  },
  {
   "cell_type": "markdown",
   "metadata": {},
   "source": [
    "*Do mammal properties (body weight, brain weight, life span, gestation, predation, exposure, danger) predict the sleeping time of an animal?*"
   ]
  },
  {
   "cell_type": "markdown",
   "metadata": {},
   "source": [
    "<a id='background'></a>\n",
    "\n",
    "## Background & Prior Work"
   ]
  },
  {
   "cell_type": "markdown",
   "metadata": {},
   "source": [
    "One of our members used to take a class on the Psychology of Sleep. In the class, the professor mentioned that the total sleeping time for predators is significantly less than that of prey. This discovery sparked particular interest in her. Thus, having conducted some primary research and discovering a relevant dataset, we have decided to extend this interest and our project research question after we've found this dataset.\n",
    "\n",
    "In the history of animal studies, scientists have conducted extensive research on animals' sleeping patterns, particularly on how a variety of factors influence sleeping time. They have discovered that other than feeding habits, other factors such as body size and life span of an animal might also have an impact on sleeping time. (1). In addition, other articles have probed deeper into how a specific feature relates to an animal's sleep time. For instance, it has been discovered that animals that are considered as prey tend to sleep less than their predators due to the increased risks involved during their sleeping time, particularly risks of attacks and seizures (2) (4). Furthermore, studies have shown that there exists a negative correlation between the body size and the sleep time of herbivores, which could be a possible explanation for the short sleeping time of elephants (3). Since most of the studies focus on mammalian research, we have decided to center our study on mammals as well.\n",
    "\n",
    "Based on this information, we are interested in building a regression model to predict a mammal's sleeping time based on its properties and checking whether predation has the most significant influence on their sleeping time.\n",
    "\n",
    "\n",
    "References (include links):\n",
    "1. For How Many Hours Do Animals Sleep?\n",
    "    http://school.sleepeducation.com/hoursanimalssleep.aspx \n",
    "    \n",
    "2. Sleep Under the Risks of Predation \n",
    "    https://www.sciencedirect.com/science/article/abs/pii/S0003347205002009    \n",
    "    \n",
    "3. Inactivity/Sleep in two wild free-roaming African Elephant Matriarchs --- Does Large body size make elephants the \n",
    "    shortest mammalian sleepers? \n",
    "    https://www.ncbi.nlm.nih.gov/pmc/articles/PMC5382951/\n",
    "    \n",
    "4. Sleep in mammals: ecological and constitutional correlates https://www.jstor.org/stable/1743947  "
   ]
  },
  {
   "cell_type": "markdown",
   "metadata": {},
   "source": [
    "# Hypothesis\n"
   ]
  },
  {
   "cell_type": "markdown",
   "metadata": {},
   "source": [
    "We hypothesize that the predation (an index of how likely the mammal is to be preyed upon) has the most significant influence on the prediction of mamallian sleep time among all the variables."
   ]
  },
  {
   "cell_type": "markdown",
   "metadata": {},
   "source": [
    "# Dataset(s)"
   ]
  },
  {
   "cell_type": "markdown",
   "metadata": {},
   "source": [
    "The ideal dataset should include various general features of mammalian like the body weight, predation status etc. as the independent variables and the total sleep time as the dependent variable that we should predict on. It would be better if these data are collected by reliable scientific research teams and organized as semi-structured data in a CSV file.\n",
    "\n",
    "\n",
    "Our dataset *Sleep in Mammals* (https://www.kaggle.com/volkandl/sleep-in-mammals) is a dataset contributed by Volkan Özdemir on Kaggle and the source is attributed to *Sleep in mammals: ecological and constitutional correlates* (https://www.jstor.org/stable/1743947). This dataset contains information about 39 species of mammals distributed over 13 orders and 62 observations in total. It has 11 variables including **species** (species of mammals), **body_wt** (total body weight of the mammal in kg), **brain_wt** (brain weight of the mammal in kg), **non_dreaming** (number of hours of non dreaming sleep), **dreaming** (number of hours of dreaming sleep), **total_sleep** (total number of hours of sleep), **life_span** (in years), **gestation** (gestation time in days), **predation** (an index of how likely the mammal is to be preyed upon. 1 = least likely to be preyed upon. 5 = most likely to be preyed upon), **exposure** (an index of the how exposed the mammal is during sleep. 1 = least exposed (e.g., sleeps in a well-protected den). 5 = most exposed), and **danger** (an index of how much danger the mammal faces from other animals. This index is based upon Predation and Exposure. 1 = least danger from other animals. 5 = most danger from other animals). \n",
    "\n",
    "The dataset was collected by Truett Allison and Domenic V. Cicchetti's research team so the reliability of this dataset should be high; however, since the paper was published in 1976, the precision might be limited by the measurement techniques at that time. In addition, since the dataset only have 62 observations and will be less potentially after data cleaning, the data might has high variance and affect the accuracy of the model.\n",
    "\n"
   ]
  },
  {
   "cell_type": "markdown",
   "metadata": {},
   "source": [
    "# Setup"
   ]
  },
  {
   "cell_type": "code",
   "execution_count": 1,
   "metadata": {},
   "outputs": [],
   "source": [
    "# import the packages that we need\n",
    "import pandas as pd\n",
    "import numpy as np\n",
    "import sklearn\n",
    "import seaborn as sns\n",
    "import statsmodels.api as sm\n",
    "import patsy\n",
    "from sklearn import preprocessing\n",
    "import matplotlib.pyplot as plt"
   ]
  },
  {
   "cell_type": "code",
   "execution_count": 2,
   "metadata": {},
   "outputs": [
    {
     "data": {
      "text/html": [
       "<div>\n",
       "<style scoped>\n",
       "    .dataframe tbody tr th:only-of-type {\n",
       "        vertical-align: middle;\n",
       "    }\n",
       "\n",
       "    .dataframe tbody tr th {\n",
       "        vertical-align: top;\n",
       "    }\n",
       "\n",
       "    .dataframe thead th {\n",
       "        text-align: right;\n",
       "    }\n",
       "</style>\n",
       "<table border=\"1\" class=\"dataframe\">\n",
       "  <thead>\n",
       "    <tr style=\"text-align: right;\">\n",
       "      <th></th>\n",
       "      <th>species</th>\n",
       "      <th>body_wt</th>\n",
       "      <th>brain_wt</th>\n",
       "      <th>non_dreaming</th>\n",
       "      <th>dreaming</th>\n",
       "      <th>total_sleep</th>\n",
       "      <th>life_span</th>\n",
       "      <th>gestation</th>\n",
       "      <th>predation</th>\n",
       "      <th>exposure</th>\n",
       "      <th>danger</th>\n",
       "    </tr>\n",
       "  </thead>\n",
       "  <tbody>\n",
       "    <tr>\n",
       "      <th>0</th>\n",
       "      <td>Africanelephant</td>\n",
       "      <td>6654.000</td>\n",
       "      <td>5712.0</td>\n",
       "      <td>NaN</td>\n",
       "      <td>NaN</td>\n",
       "      <td>3.3</td>\n",
       "      <td>38.6</td>\n",
       "      <td>645.0</td>\n",
       "      <td>3</td>\n",
       "      <td>5</td>\n",
       "      <td>3</td>\n",
       "    </tr>\n",
       "    <tr>\n",
       "      <th>1</th>\n",
       "      <td>Africangiantpouchedrat</td>\n",
       "      <td>1.000</td>\n",
       "      <td>6.6</td>\n",
       "      <td>6.3</td>\n",
       "      <td>2.0</td>\n",
       "      <td>8.3</td>\n",
       "      <td>4.5</td>\n",
       "      <td>42.0</td>\n",
       "      <td>3</td>\n",
       "      <td>1</td>\n",
       "      <td>3</td>\n",
       "    </tr>\n",
       "    <tr>\n",
       "      <th>2</th>\n",
       "      <td>ArcticFox</td>\n",
       "      <td>3.385</td>\n",
       "      <td>44.5</td>\n",
       "      <td>NaN</td>\n",
       "      <td>NaN</td>\n",
       "      <td>12.5</td>\n",
       "      <td>14.0</td>\n",
       "      <td>60.0</td>\n",
       "      <td>1</td>\n",
       "      <td>1</td>\n",
       "      <td>1</td>\n",
       "    </tr>\n",
       "    <tr>\n",
       "      <th>3</th>\n",
       "      <td>Arcticgroundsquirrel</td>\n",
       "      <td>0.920</td>\n",
       "      <td>5.7</td>\n",
       "      <td>NaN</td>\n",
       "      <td>NaN</td>\n",
       "      <td>16.5</td>\n",
       "      <td>NaN</td>\n",
       "      <td>25.0</td>\n",
       "      <td>5</td>\n",
       "      <td>2</td>\n",
       "      <td>3</td>\n",
       "    </tr>\n",
       "    <tr>\n",
       "      <th>4</th>\n",
       "      <td>Asianelephant</td>\n",
       "      <td>2547.000</td>\n",
       "      <td>4603.0</td>\n",
       "      <td>2.1</td>\n",
       "      <td>1.8</td>\n",
       "      <td>3.9</td>\n",
       "      <td>69.0</td>\n",
       "      <td>624.0</td>\n",
       "      <td>3</td>\n",
       "      <td>5</td>\n",
       "      <td>4</td>\n",
       "    </tr>\n",
       "    <tr>\n",
       "      <th>...</th>\n",
       "      <td>...</td>\n",
       "      <td>...</td>\n",
       "      <td>...</td>\n",
       "      <td>...</td>\n",
       "      <td>...</td>\n",
       "      <td>...</td>\n",
       "      <td>...</td>\n",
       "      <td>...</td>\n",
       "      <td>...</td>\n",
       "      <td>...</td>\n",
       "      <td>...</td>\n",
       "    </tr>\n",
       "    <tr>\n",
       "      <th>57</th>\n",
       "      <td>Treehyrax</td>\n",
       "      <td>2.000</td>\n",
       "      <td>12.3</td>\n",
       "      <td>4.9</td>\n",
       "      <td>0.5</td>\n",
       "      <td>5.4</td>\n",
       "      <td>7.5</td>\n",
       "      <td>200.0</td>\n",
       "      <td>3</td>\n",
       "      <td>1</td>\n",
       "      <td>3</td>\n",
       "    </tr>\n",
       "    <tr>\n",
       "      <th>58</th>\n",
       "      <td>Treeshrew</td>\n",
       "      <td>0.104</td>\n",
       "      <td>2.5</td>\n",
       "      <td>13.2</td>\n",
       "      <td>2.6</td>\n",
       "      <td>15.8</td>\n",
       "      <td>2.3</td>\n",
       "      <td>46.0</td>\n",
       "      <td>3</td>\n",
       "      <td>2</td>\n",
       "      <td>2</td>\n",
       "    </tr>\n",
       "    <tr>\n",
       "      <th>59</th>\n",
       "      <td>Vervet</td>\n",
       "      <td>4.190</td>\n",
       "      <td>58.0</td>\n",
       "      <td>9.7</td>\n",
       "      <td>0.6</td>\n",
       "      <td>10.3</td>\n",
       "      <td>24.0</td>\n",
       "      <td>210.0</td>\n",
       "      <td>4</td>\n",
       "      <td>3</td>\n",
       "      <td>4</td>\n",
       "    </tr>\n",
       "    <tr>\n",
       "      <th>60</th>\n",
       "      <td>Wateropossum</td>\n",
       "      <td>3.500</td>\n",
       "      <td>3.9</td>\n",
       "      <td>12.8</td>\n",
       "      <td>6.6</td>\n",
       "      <td>19.4</td>\n",
       "      <td>3.0</td>\n",
       "      <td>14.0</td>\n",
       "      <td>2</td>\n",
       "      <td>1</td>\n",
       "      <td>1</td>\n",
       "    </tr>\n",
       "    <tr>\n",
       "      <th>61</th>\n",
       "      <td>Yellow-belliedmarmot</td>\n",
       "      <td>4.050</td>\n",
       "      <td>17.0</td>\n",
       "      <td>NaN</td>\n",
       "      <td>NaN</td>\n",
       "      <td>NaN</td>\n",
       "      <td>13.0</td>\n",
       "      <td>38.0</td>\n",
       "      <td>3</td>\n",
       "      <td>1</td>\n",
       "      <td>1</td>\n",
       "    </tr>\n",
       "  </tbody>\n",
       "</table>\n",
       "<p>62 rows × 11 columns</p>\n",
       "</div>"
      ],
      "text/plain": [
       "                   species   body_wt  brain_wt  non_dreaming  dreaming  \\\n",
       "0          Africanelephant  6654.000    5712.0           NaN       NaN   \n",
       "1   Africangiantpouchedrat     1.000       6.6           6.3       2.0   \n",
       "2                ArcticFox     3.385      44.5           NaN       NaN   \n",
       "3     Arcticgroundsquirrel     0.920       5.7           NaN       NaN   \n",
       "4            Asianelephant  2547.000    4603.0           2.1       1.8   \n",
       "..                     ...       ...       ...           ...       ...   \n",
       "57               Treehyrax     2.000      12.3           4.9       0.5   \n",
       "58               Treeshrew     0.104       2.5          13.2       2.6   \n",
       "59                  Vervet     4.190      58.0           9.7       0.6   \n",
       "60            Wateropossum     3.500       3.9          12.8       6.6   \n",
       "61    Yellow-belliedmarmot     4.050      17.0           NaN       NaN   \n",
       "\n",
       "    total_sleep  life_span  gestation  predation  exposure  danger  \n",
       "0           3.3       38.6      645.0          3         5       3  \n",
       "1           8.3        4.5       42.0          3         1       3  \n",
       "2          12.5       14.0       60.0          1         1       1  \n",
       "3          16.5        NaN       25.0          5         2       3  \n",
       "4           3.9       69.0      624.0          3         5       4  \n",
       "..          ...        ...        ...        ...       ...     ...  \n",
       "57          5.4        7.5      200.0          3         1       3  \n",
       "58         15.8        2.3       46.0          3         2       2  \n",
       "59         10.3       24.0      210.0          4         3       4  \n",
       "60         19.4        3.0       14.0          2         1       1  \n",
       "61          NaN       13.0       38.0          3         1       1  \n",
       "\n",
       "[62 rows x 11 columns]"
      ]
     },
     "execution_count": 2,
     "metadata": {},
     "output_type": "execute_result"
    }
   ],
   "source": [
    "# Download Dataset: Sleep in Mammals\n",
    "# import opendatasets as od\n",
    "# od.download(\"https://www.kaggle.com/volkandl/sleep-in-mammals\")\n",
    "dataset = pd.read_csv('sleep-in-mammals/mammals.csv')\n",
    "dataset"
   ]
  },
  {
   "cell_type": "markdown",
   "metadata": {},
   "source": [
    "# Data Cleaning"
   ]
  },
  {
   "cell_type": "markdown",
   "metadata": {},
   "source": [
    "Rearranging the columns so that the dependent variable 'total_sleep' is the first column. This will make it easier if we want to do some operations based on slicing."
   ]
  },
  {
   "cell_type": "code",
   "execution_count": 3,
   "metadata": {},
   "outputs": [
    {
     "data": {
      "text/html": [
       "<div>\n",
       "<style scoped>\n",
       "    .dataframe tbody tr th:only-of-type {\n",
       "        vertical-align: middle;\n",
       "    }\n",
       "\n",
       "    .dataframe tbody tr th {\n",
       "        vertical-align: top;\n",
       "    }\n",
       "\n",
       "    .dataframe thead th {\n",
       "        text-align: right;\n",
       "    }\n",
       "</style>\n",
       "<table border=\"1\" class=\"dataframe\">\n",
       "  <thead>\n",
       "    <tr style=\"text-align: right;\">\n",
       "      <th></th>\n",
       "      <th>total_sleep</th>\n",
       "      <th>species</th>\n",
       "      <th>body_wt</th>\n",
       "      <th>brain_wt</th>\n",
       "      <th>non_dreaming</th>\n",
       "      <th>dreaming</th>\n",
       "      <th>life_span</th>\n",
       "      <th>gestation</th>\n",
       "      <th>predation</th>\n",
       "      <th>exposure</th>\n",
       "      <th>danger</th>\n",
       "    </tr>\n",
       "  </thead>\n",
       "  <tbody>\n",
       "    <tr>\n",
       "      <th>0</th>\n",
       "      <td>3.3</td>\n",
       "      <td>Africanelephant</td>\n",
       "      <td>6654.000</td>\n",
       "      <td>5712.0</td>\n",
       "      <td>NaN</td>\n",
       "      <td>NaN</td>\n",
       "      <td>38.6</td>\n",
       "      <td>645.0</td>\n",
       "      <td>3</td>\n",
       "      <td>5</td>\n",
       "      <td>3</td>\n",
       "    </tr>\n",
       "    <tr>\n",
       "      <th>1</th>\n",
       "      <td>8.3</td>\n",
       "      <td>Africangiantpouchedrat</td>\n",
       "      <td>1.000</td>\n",
       "      <td>6.6</td>\n",
       "      <td>6.3</td>\n",
       "      <td>2.0</td>\n",
       "      <td>4.5</td>\n",
       "      <td>42.0</td>\n",
       "      <td>3</td>\n",
       "      <td>1</td>\n",
       "      <td>3</td>\n",
       "    </tr>\n",
       "    <tr>\n",
       "      <th>2</th>\n",
       "      <td>12.5</td>\n",
       "      <td>ArcticFox</td>\n",
       "      <td>3.385</td>\n",
       "      <td>44.5</td>\n",
       "      <td>NaN</td>\n",
       "      <td>NaN</td>\n",
       "      <td>14.0</td>\n",
       "      <td>60.0</td>\n",
       "      <td>1</td>\n",
       "      <td>1</td>\n",
       "      <td>1</td>\n",
       "    </tr>\n",
       "    <tr>\n",
       "      <th>3</th>\n",
       "      <td>16.5</td>\n",
       "      <td>Arcticgroundsquirrel</td>\n",
       "      <td>0.920</td>\n",
       "      <td>5.7</td>\n",
       "      <td>NaN</td>\n",
       "      <td>NaN</td>\n",
       "      <td>NaN</td>\n",
       "      <td>25.0</td>\n",
       "      <td>5</td>\n",
       "      <td>2</td>\n",
       "      <td>3</td>\n",
       "    </tr>\n",
       "    <tr>\n",
       "      <th>4</th>\n",
       "      <td>3.9</td>\n",
       "      <td>Asianelephant</td>\n",
       "      <td>2547.000</td>\n",
       "      <td>4603.0</td>\n",
       "      <td>2.1</td>\n",
       "      <td>1.8</td>\n",
       "      <td>69.0</td>\n",
       "      <td>624.0</td>\n",
       "      <td>3</td>\n",
       "      <td>5</td>\n",
       "      <td>4</td>\n",
       "    </tr>\n",
       "    <tr>\n",
       "      <th>...</th>\n",
       "      <td>...</td>\n",
       "      <td>...</td>\n",
       "      <td>...</td>\n",
       "      <td>...</td>\n",
       "      <td>...</td>\n",
       "      <td>...</td>\n",
       "      <td>...</td>\n",
       "      <td>...</td>\n",
       "      <td>...</td>\n",
       "      <td>...</td>\n",
       "      <td>...</td>\n",
       "    </tr>\n",
       "    <tr>\n",
       "      <th>57</th>\n",
       "      <td>5.4</td>\n",
       "      <td>Treehyrax</td>\n",
       "      <td>2.000</td>\n",
       "      <td>12.3</td>\n",
       "      <td>4.9</td>\n",
       "      <td>0.5</td>\n",
       "      <td>7.5</td>\n",
       "      <td>200.0</td>\n",
       "      <td>3</td>\n",
       "      <td>1</td>\n",
       "      <td>3</td>\n",
       "    </tr>\n",
       "    <tr>\n",
       "      <th>58</th>\n",
       "      <td>15.8</td>\n",
       "      <td>Treeshrew</td>\n",
       "      <td>0.104</td>\n",
       "      <td>2.5</td>\n",
       "      <td>13.2</td>\n",
       "      <td>2.6</td>\n",
       "      <td>2.3</td>\n",
       "      <td>46.0</td>\n",
       "      <td>3</td>\n",
       "      <td>2</td>\n",
       "      <td>2</td>\n",
       "    </tr>\n",
       "    <tr>\n",
       "      <th>59</th>\n",
       "      <td>10.3</td>\n",
       "      <td>Vervet</td>\n",
       "      <td>4.190</td>\n",
       "      <td>58.0</td>\n",
       "      <td>9.7</td>\n",
       "      <td>0.6</td>\n",
       "      <td>24.0</td>\n",
       "      <td>210.0</td>\n",
       "      <td>4</td>\n",
       "      <td>3</td>\n",
       "      <td>4</td>\n",
       "    </tr>\n",
       "    <tr>\n",
       "      <th>60</th>\n",
       "      <td>19.4</td>\n",
       "      <td>Wateropossum</td>\n",
       "      <td>3.500</td>\n",
       "      <td>3.9</td>\n",
       "      <td>12.8</td>\n",
       "      <td>6.6</td>\n",
       "      <td>3.0</td>\n",
       "      <td>14.0</td>\n",
       "      <td>2</td>\n",
       "      <td>1</td>\n",
       "      <td>1</td>\n",
       "    </tr>\n",
       "    <tr>\n",
       "      <th>61</th>\n",
       "      <td>NaN</td>\n",
       "      <td>Yellow-belliedmarmot</td>\n",
       "      <td>4.050</td>\n",
       "      <td>17.0</td>\n",
       "      <td>NaN</td>\n",
       "      <td>NaN</td>\n",
       "      <td>13.0</td>\n",
       "      <td>38.0</td>\n",
       "      <td>3</td>\n",
       "      <td>1</td>\n",
       "      <td>1</td>\n",
       "    </tr>\n",
       "  </tbody>\n",
       "</table>\n",
       "<p>62 rows × 11 columns</p>\n",
       "</div>"
      ],
      "text/plain": [
       "    total_sleep                 species   body_wt  brain_wt  non_dreaming  \\\n",
       "0           3.3         Africanelephant  6654.000    5712.0           NaN   \n",
       "1           8.3  Africangiantpouchedrat     1.000       6.6           6.3   \n",
       "2          12.5               ArcticFox     3.385      44.5           NaN   \n",
       "3          16.5    Arcticgroundsquirrel     0.920       5.7           NaN   \n",
       "4           3.9           Asianelephant  2547.000    4603.0           2.1   \n",
       "..          ...                     ...       ...       ...           ...   \n",
       "57          5.4               Treehyrax     2.000      12.3           4.9   \n",
       "58         15.8               Treeshrew     0.104       2.5          13.2   \n",
       "59         10.3                  Vervet     4.190      58.0           9.7   \n",
       "60         19.4            Wateropossum     3.500       3.9          12.8   \n",
       "61          NaN    Yellow-belliedmarmot     4.050      17.0           NaN   \n",
       "\n",
       "    dreaming  life_span  gestation  predation  exposure  danger  \n",
       "0        NaN       38.6      645.0          3         5       3  \n",
       "1        2.0        4.5       42.0          3         1       3  \n",
       "2        NaN       14.0       60.0          1         1       1  \n",
       "3        NaN        NaN       25.0          5         2       3  \n",
       "4        1.8       69.0      624.0          3         5       4  \n",
       "..       ...        ...        ...        ...       ...     ...  \n",
       "57       0.5        7.5      200.0          3         1       3  \n",
       "58       2.6        2.3       46.0          3         2       2  \n",
       "59       0.6       24.0      210.0          4         3       4  \n",
       "60       6.6        3.0       14.0          2         1       1  \n",
       "61       NaN       13.0       38.0          3         1       1  \n",
       "\n",
       "[62 rows x 11 columns]"
      ]
     },
     "execution_count": 3,
     "metadata": {},
     "output_type": "execute_result"
    }
   ],
   "source": [
    "df_col = dataset.columns.to_list()\n",
    "df_col = [df_col[5]] + df_col[:5] + df_col[6:]\n",
    "df_col\n",
    "df = dataset[df_col]\n",
    "df"
   ]
  },
  {
   "cell_type": "markdown",
   "metadata": {},
   "source": [
    "Since the sum of the columns 'non_dreaming' and 'dreaming' is just the answer for the 'total_sleep', we have to drop them otherwise they will dominate our regression model and we can't tell whether we could predict sleeping time based on the mammals' properties.\n",
    "\n",
    "Also, since column 'species' is also not a property of the mammals, we can drop it as well."
   ]
  },
  {
   "cell_type": "code",
   "execution_count": 4,
   "metadata": {},
   "outputs": [
    {
     "name": "stderr",
     "output_type": "stream",
     "text": [
      "/opt/conda/lib/python3.9/site-packages/pandas/core/frame.py:4906: SettingWithCopyWarning: \n",
      "A value is trying to be set on a copy of a slice from a DataFrame\n",
      "\n",
      "See the caveats in the documentation: https://pandas.pydata.org/pandas-docs/stable/user_guide/indexing.html#returning-a-view-versus-a-copy\n",
      "  return super().drop(\n"
     ]
    },
    {
     "data": {
      "text/html": [
       "<div>\n",
       "<style scoped>\n",
       "    .dataframe tbody tr th:only-of-type {\n",
       "        vertical-align: middle;\n",
       "    }\n",
       "\n",
       "    .dataframe tbody tr th {\n",
       "        vertical-align: top;\n",
       "    }\n",
       "\n",
       "    .dataframe thead th {\n",
       "        text-align: right;\n",
       "    }\n",
       "</style>\n",
       "<table border=\"1\" class=\"dataframe\">\n",
       "  <thead>\n",
       "    <tr style=\"text-align: right;\">\n",
       "      <th></th>\n",
       "      <th>total_sleep</th>\n",
       "      <th>body_wt</th>\n",
       "      <th>brain_wt</th>\n",
       "      <th>life_span</th>\n",
       "      <th>gestation</th>\n",
       "      <th>predation</th>\n",
       "      <th>exposure</th>\n",
       "      <th>danger</th>\n",
       "    </tr>\n",
       "  </thead>\n",
       "  <tbody>\n",
       "    <tr>\n",
       "      <th>0</th>\n",
       "      <td>3.3</td>\n",
       "      <td>6654.000</td>\n",
       "      <td>5712.0</td>\n",
       "      <td>38.6</td>\n",
       "      <td>645.0</td>\n",
       "      <td>3</td>\n",
       "      <td>5</td>\n",
       "      <td>3</td>\n",
       "    </tr>\n",
       "    <tr>\n",
       "      <th>1</th>\n",
       "      <td>8.3</td>\n",
       "      <td>1.000</td>\n",
       "      <td>6.6</td>\n",
       "      <td>4.5</td>\n",
       "      <td>42.0</td>\n",
       "      <td>3</td>\n",
       "      <td>1</td>\n",
       "      <td>3</td>\n",
       "    </tr>\n",
       "    <tr>\n",
       "      <th>2</th>\n",
       "      <td>12.5</td>\n",
       "      <td>3.385</td>\n",
       "      <td>44.5</td>\n",
       "      <td>14.0</td>\n",
       "      <td>60.0</td>\n",
       "      <td>1</td>\n",
       "      <td>1</td>\n",
       "      <td>1</td>\n",
       "    </tr>\n",
       "    <tr>\n",
       "      <th>3</th>\n",
       "      <td>16.5</td>\n",
       "      <td>0.920</td>\n",
       "      <td>5.7</td>\n",
       "      <td>NaN</td>\n",
       "      <td>25.0</td>\n",
       "      <td>5</td>\n",
       "      <td>2</td>\n",
       "      <td>3</td>\n",
       "    </tr>\n",
       "    <tr>\n",
       "      <th>4</th>\n",
       "      <td>3.9</td>\n",
       "      <td>2547.000</td>\n",
       "      <td>4603.0</td>\n",
       "      <td>69.0</td>\n",
       "      <td>624.0</td>\n",
       "      <td>3</td>\n",
       "      <td>5</td>\n",
       "      <td>4</td>\n",
       "    </tr>\n",
       "    <tr>\n",
       "      <th>...</th>\n",
       "      <td>...</td>\n",
       "      <td>...</td>\n",
       "      <td>...</td>\n",
       "      <td>...</td>\n",
       "      <td>...</td>\n",
       "      <td>...</td>\n",
       "      <td>...</td>\n",
       "      <td>...</td>\n",
       "    </tr>\n",
       "    <tr>\n",
       "      <th>57</th>\n",
       "      <td>5.4</td>\n",
       "      <td>2.000</td>\n",
       "      <td>12.3</td>\n",
       "      <td>7.5</td>\n",
       "      <td>200.0</td>\n",
       "      <td>3</td>\n",
       "      <td>1</td>\n",
       "      <td>3</td>\n",
       "    </tr>\n",
       "    <tr>\n",
       "      <th>58</th>\n",
       "      <td>15.8</td>\n",
       "      <td>0.104</td>\n",
       "      <td>2.5</td>\n",
       "      <td>2.3</td>\n",
       "      <td>46.0</td>\n",
       "      <td>3</td>\n",
       "      <td>2</td>\n",
       "      <td>2</td>\n",
       "    </tr>\n",
       "    <tr>\n",
       "      <th>59</th>\n",
       "      <td>10.3</td>\n",
       "      <td>4.190</td>\n",
       "      <td>58.0</td>\n",
       "      <td>24.0</td>\n",
       "      <td>210.0</td>\n",
       "      <td>4</td>\n",
       "      <td>3</td>\n",
       "      <td>4</td>\n",
       "    </tr>\n",
       "    <tr>\n",
       "      <th>60</th>\n",
       "      <td>19.4</td>\n",
       "      <td>3.500</td>\n",
       "      <td>3.9</td>\n",
       "      <td>3.0</td>\n",
       "      <td>14.0</td>\n",
       "      <td>2</td>\n",
       "      <td>1</td>\n",
       "      <td>1</td>\n",
       "    </tr>\n",
       "    <tr>\n",
       "      <th>61</th>\n",
       "      <td>NaN</td>\n",
       "      <td>4.050</td>\n",
       "      <td>17.0</td>\n",
       "      <td>13.0</td>\n",
       "      <td>38.0</td>\n",
       "      <td>3</td>\n",
       "      <td>1</td>\n",
       "      <td>1</td>\n",
       "    </tr>\n",
       "  </tbody>\n",
       "</table>\n",
       "<p>62 rows × 8 columns</p>\n",
       "</div>"
      ],
      "text/plain": [
       "    total_sleep   body_wt  brain_wt  life_span  gestation  predation  \\\n",
       "0           3.3  6654.000    5712.0       38.6      645.0          3   \n",
       "1           8.3     1.000       6.6        4.5       42.0          3   \n",
       "2          12.5     3.385      44.5       14.0       60.0          1   \n",
       "3          16.5     0.920       5.7        NaN       25.0          5   \n",
       "4           3.9  2547.000    4603.0       69.0      624.0          3   \n",
       "..          ...       ...       ...        ...        ...        ...   \n",
       "57          5.4     2.000      12.3        7.5      200.0          3   \n",
       "58         15.8     0.104       2.5        2.3       46.0          3   \n",
       "59         10.3     4.190      58.0       24.0      210.0          4   \n",
       "60         19.4     3.500       3.9        3.0       14.0          2   \n",
       "61          NaN     4.050      17.0       13.0       38.0          3   \n",
       "\n",
       "    exposure  danger  \n",
       "0          5       3  \n",
       "1          1       3  \n",
       "2          1       1  \n",
       "3          2       3  \n",
       "4          5       4  \n",
       "..       ...     ...  \n",
       "57         1       3  \n",
       "58         2       2  \n",
       "59         3       4  \n",
       "60         1       1  \n",
       "61         1       1  \n",
       "\n",
       "[62 rows x 8 columns]"
      ]
     },
     "execution_count": 4,
     "metadata": {},
     "output_type": "execute_result"
    }
   ],
   "source": [
    "# Drop columns 'non_dreaming' and 'dreaming'\n",
    "df.drop(['non_dreaming', 'dreaming', 'species'], axis = 1, inplace = True)\n",
    "df"
   ]
  },
  {
   "cell_type": "markdown",
   "metadata": {},
   "source": [
    "After droping the most unuseful columns, we have 8 columns left. We can now check whether they are all in the format that we want. Due to the nature of the dataset we found, all the properties are measured as quantitative data which is perfect for building a regression model. Therefore, for the data cleaning step, we don't need to change the format of any property."
   ]
  },
  {
   "cell_type": "markdown",
   "metadata": {},
   "source": [
    "For the three columns 'predation', 'exposure', and 'danger', since they are discrete categorical values, we have to check whether they are nominal or ordinal. If they are nominal, then instead of keeping them as what they are right now, we have to one-hot encode them. As explained in the description, these three variables are indeed ordinal variables, so we can keep them in the current format."
   ]
  },
  {
   "cell_type": "markdown",
   "metadata": {},
   "source": [
    "In order to do a linear regression with multiple predictors, we have to make sure there is not multicollinearity."
   ]
  },
  {
   "cell_type": "code",
   "execution_count": 5,
   "metadata": {},
   "outputs": [
    {
     "data": {
      "image/png": "[encoded data removed]",
      "text/plain": [
       "<Figure size 1440x720 with 49 Axes>"
      ]
     },
     "metadata": {
      "needs_background": "light"
     },
     "output_type": "display_data"
    }
   ],
   "source": [
    "pd.plotting.scatter_matrix(df.iloc[:, 1:], figsize = (20, 10));"
   ]
  },
  {
   "cell_type": "markdown",
   "metadata": {},
   "source": [
    "Based on this scatter matrix, we could see relatively clear that 'danger' is correlated with both 'exposure' and 'predation'. This is also explained by the dataset description that this index is based on the other two indexes. Therefore, we have to drop this column to avoid multicolinearity. \n",
    "\n",
    "In addition, 'life_span' also seems to be correlated with 'gestation'. After doing a brief search on the internet, many researches suggest that there is a positive correlation between these two variables. Therefore, we have to drop one of the column as well."
   ]
  },
  {
   "cell_type": "code",
   "execution_count": 6,
   "metadata": {},
   "outputs": [
    {
     "data": {
      "text/html": [
       "<div>\n",
       "<style scoped>\n",
       "    .dataframe tbody tr th:only-of-type {\n",
       "        vertical-align: middle;\n",
       "    }\n",
       "\n",
       "    .dataframe tbody tr th {\n",
       "        vertical-align: top;\n",
       "    }\n",
       "\n",
       "    .dataframe thead th {\n",
       "        text-align: right;\n",
       "    }\n",
       "</style>\n",
       "<table border=\"1\" class=\"dataframe\">\n",
       "  <thead>\n",
       "    <tr style=\"text-align: right;\">\n",
       "      <th></th>\n",
       "      <th>total_sleep</th>\n",
       "      <th>body_wt</th>\n",
       "      <th>brain_wt</th>\n",
       "      <th>life_span</th>\n",
       "      <th>gestation</th>\n",
       "      <th>predation</th>\n",
       "      <th>exposure</th>\n",
       "      <th>danger</th>\n",
       "    </tr>\n",
       "  </thead>\n",
       "  <tbody>\n",
       "    <tr>\n",
       "      <th>3</th>\n",
       "      <td>16.5</td>\n",
       "      <td>0.920</td>\n",
       "      <td>5.7</td>\n",
       "      <td>NaN</td>\n",
       "      <td>25.0</td>\n",
       "      <td>5</td>\n",
       "      <td>2</td>\n",
       "      <td>3</td>\n",
       "    </tr>\n",
       "    <tr>\n",
       "      <th>12</th>\n",
       "      <td>10.3</td>\n",
       "      <td>0.550</td>\n",
       "      <td>2.4</td>\n",
       "      <td>NaN</td>\n",
       "      <td>NaN</td>\n",
       "      <td>2</td>\n",
       "      <td>1</td>\n",
       "      <td>2</td>\n",
       "    </tr>\n",
       "    <tr>\n",
       "      <th>18</th>\n",
       "      <td>6.1</td>\n",
       "      <td>1.410</td>\n",
       "      <td>17.5</td>\n",
       "      <td>34.0</td>\n",
       "      <td>NaN</td>\n",
       "      <td>1</td>\n",
       "      <td>2</td>\n",
       "      <td>1</td>\n",
       "    </tr>\n",
       "    <tr>\n",
       "      <th>19</th>\n",
       "      <td>18.1</td>\n",
       "      <td>60.000</td>\n",
       "      <td>81.0</td>\n",
       "      <td>7.0</td>\n",
       "      <td>NaN</td>\n",
       "      <td>1</td>\n",
       "      <td>1</td>\n",
       "      <td>1</td>\n",
       "    </tr>\n",
       "    <tr>\n",
       "      <th>34</th>\n",
       "      <td>10.6</td>\n",
       "      <td>0.122</td>\n",
       "      <td>3.0</td>\n",
       "      <td>NaN</td>\n",
       "      <td>30.0</td>\n",
       "      <td>2</td>\n",
       "      <td>1</td>\n",
       "      <td>1</td>\n",
       "    </tr>\n",
       "    <tr>\n",
       "      <th>35</th>\n",
       "      <td>11.2</td>\n",
       "      <td>1.350</td>\n",
       "      <td>8.1</td>\n",
       "      <td>NaN</td>\n",
       "      <td>45.0</td>\n",
       "      <td>3</td>\n",
       "      <td>1</td>\n",
       "      <td>3</td>\n",
       "    </tr>\n",
       "    <tr>\n",
       "      <th>55</th>\n",
       "      <td>10.3</td>\n",
       "      <td>0.060</td>\n",
       "      <td>1.0</td>\n",
       "      <td>3.5</td>\n",
       "      <td>NaN</td>\n",
       "      <td>3</td>\n",
       "      <td>1</td>\n",
       "      <td>2</td>\n",
       "    </tr>\n",
       "  </tbody>\n",
       "</table>\n",
       "</div>"
      ],
      "text/plain": [
       "    total_sleep  body_wt  brain_wt  life_span  gestation  predation  exposure  \\\n",
       "3          16.5    0.920       5.7        NaN       25.0          5         2   \n",
       "12         10.3    0.550       2.4        NaN        NaN          2         1   \n",
       "18          6.1    1.410      17.5       34.0        NaN          1         2   \n",
       "19         18.1   60.000      81.0        7.0        NaN          1         1   \n",
       "34         10.6    0.122       3.0        NaN       30.0          2         1   \n",
       "35         11.2    1.350       8.1        NaN       45.0          3         1   \n",
       "55         10.3    0.060       1.0        3.5        NaN          3         1   \n",
       "\n",
       "    danger  \n",
       "3        3  \n",
       "12       2  \n",
       "18       1  \n",
       "19       1  \n",
       "34       1  \n",
       "35       3  \n",
       "55       2  "
      ]
     },
     "execution_count": 6,
     "metadata": {},
     "output_type": "execute_result"
    }
   ],
   "source": [
    "df[(df['life_span'].isnull()) | (df['gestation'].isnull())]"
   ]
  },
  {
   "cell_type": "markdown",
   "metadata": {},
   "source": [
    "Since both variables have the same number of missing values, we will just randomly drop one column. We decide to drop the column 'life_span'."
   ]
  },
  {
   "cell_type": "code",
   "execution_count": 7,
   "metadata": {},
   "outputs": [
    {
     "name": "stderr",
     "output_type": "stream",
     "text": [
      "/opt/conda/lib/python3.9/site-packages/pandas/core/frame.py:4906: SettingWithCopyWarning: \n",
      "A value is trying to be set on a copy of a slice from a DataFrame\n",
      "\n",
      "See the caveats in the documentation: https://pandas.pydata.org/pandas-docs/stable/user_guide/indexing.html#returning-a-view-versus-a-copy\n",
      "  return super().drop(\n"
     ]
    },
    {
     "data": {
      "text/html": [
       "<div>\n",
       "<style scoped>\n",
       "    .dataframe tbody tr th:only-of-type {\n",
       "        vertical-align: middle;\n",
       "    }\n",
       "\n",
       "    .dataframe tbody tr th {\n",
       "        vertical-align: top;\n",
       "    }\n",
       "\n",
       "    .dataframe thead th {\n",
       "        text-align: right;\n",
       "    }\n",
       "</style>\n",
       "<table border=\"1\" class=\"dataframe\">\n",
       "  <thead>\n",
       "    <tr style=\"text-align: right;\">\n",
       "      <th></th>\n",
       "      <th>total_sleep</th>\n",
       "      <th>body_wt</th>\n",
       "      <th>brain_wt</th>\n",
       "      <th>gestation</th>\n",
       "      <th>predation</th>\n",
       "      <th>exposure</th>\n",
       "    </tr>\n",
       "  </thead>\n",
       "  <tbody>\n",
       "    <tr>\n",
       "      <th>0</th>\n",
       "      <td>3.3</td>\n",
       "      <td>6654.000</td>\n",
       "      <td>5712.0</td>\n",
       "      <td>645.0</td>\n",
       "      <td>3</td>\n",
       "      <td>5</td>\n",
       "    </tr>\n",
       "    <tr>\n",
       "      <th>1</th>\n",
       "      <td>8.3</td>\n",
       "      <td>1.000</td>\n",
       "      <td>6.6</td>\n",
       "      <td>42.0</td>\n",
       "      <td>3</td>\n",
       "      <td>1</td>\n",
       "    </tr>\n",
       "    <tr>\n",
       "      <th>2</th>\n",
       "      <td>12.5</td>\n",
       "      <td>3.385</td>\n",
       "      <td>44.5</td>\n",
       "      <td>60.0</td>\n",
       "      <td>1</td>\n",
       "      <td>1</td>\n",
       "    </tr>\n",
       "    <tr>\n",
       "      <th>3</th>\n",
       "      <td>16.5</td>\n",
       "      <td>0.920</td>\n",
       "      <td>5.7</td>\n",
       "      <td>25.0</td>\n",
       "      <td>5</td>\n",
       "      <td>2</td>\n",
       "    </tr>\n",
       "    <tr>\n",
       "      <th>4</th>\n",
       "      <td>3.9</td>\n",
       "      <td>2547.000</td>\n",
       "      <td>4603.0</td>\n",
       "      <td>624.0</td>\n",
       "      <td>3</td>\n",
       "      <td>5</td>\n",
       "    </tr>\n",
       "    <tr>\n",
       "      <th>...</th>\n",
       "      <td>...</td>\n",
       "      <td>...</td>\n",
       "      <td>...</td>\n",
       "      <td>...</td>\n",
       "      <td>...</td>\n",
       "      <td>...</td>\n",
       "    </tr>\n",
       "    <tr>\n",
       "      <th>57</th>\n",
       "      <td>5.4</td>\n",
       "      <td>2.000</td>\n",
       "      <td>12.3</td>\n",
       "      <td>200.0</td>\n",
       "      <td>3</td>\n",
       "      <td>1</td>\n",
       "    </tr>\n",
       "    <tr>\n",
       "      <th>58</th>\n",
       "      <td>15.8</td>\n",
       "      <td>0.104</td>\n",
       "      <td>2.5</td>\n",
       "      <td>46.0</td>\n",
       "      <td>3</td>\n",
       "      <td>2</td>\n",
       "    </tr>\n",
       "    <tr>\n",
       "      <th>59</th>\n",
       "      <td>10.3</td>\n",
       "      <td>4.190</td>\n",
       "      <td>58.0</td>\n",
       "      <td>210.0</td>\n",
       "      <td>4</td>\n",
       "      <td>3</td>\n",
       "    </tr>\n",
       "    <tr>\n",
       "      <th>60</th>\n",
       "      <td>19.4</td>\n",
       "      <td>3.500</td>\n",
       "      <td>3.9</td>\n",
       "      <td>14.0</td>\n",
       "      <td>2</td>\n",
       "      <td>1</td>\n",
       "    </tr>\n",
       "    <tr>\n",
       "      <th>61</th>\n",
       "      <td>NaN</td>\n",
       "      <td>4.050</td>\n",
       "      <td>17.0</td>\n",
       "      <td>38.0</td>\n",
       "      <td>3</td>\n",
       "      <td>1</td>\n",
       "    </tr>\n",
       "  </tbody>\n",
       "</table>\n",
       "<p>62 rows × 6 columns</p>\n",
       "</div>"
      ],
      "text/plain": [
       "    total_sleep   body_wt  brain_wt  gestation  predation  exposure\n",
       "0           3.3  6654.000    5712.0      645.0          3         5\n",
       "1           8.3     1.000       6.6       42.0          3         1\n",
       "2          12.5     3.385      44.5       60.0          1         1\n",
       "3          16.5     0.920       5.7       25.0          5         2\n",
       "4           3.9  2547.000    4603.0      624.0          3         5\n",
       "..          ...       ...       ...        ...        ...       ...\n",
       "57          5.4     2.000      12.3      200.0          3         1\n",
       "58         15.8     0.104       2.5       46.0          3         2\n",
       "59         10.3     4.190      58.0      210.0          4         3\n",
       "60         19.4     3.500       3.9       14.0          2         1\n",
       "61          NaN     4.050      17.0       38.0          3         1\n",
       "\n",
       "[62 rows x 6 columns]"
      ]
     },
     "execution_count": 7,
     "metadata": {},
     "output_type": "execute_result"
    }
   ],
   "source": [
    "df.drop(['life_span', 'danger'], axis = 1, inplace = True)\n",
    "df"
   ]
  },
  {
   "cell_type": "markdown",
   "metadata": {},
   "source": [
    "The columns 'body_wt' and 'brain_wt' seems to be correlated as well. However, the correlation is not clear on the graph because the window of the previous plot is not appropriate for most of data that they concentrated on the corner of the graph. Also, the existence of the outliers can highly affect the correlation. We try to make a linear regression line without extreme values to see if there is a stronger relationship (a stronger slope) and window changes. So we decide to plot a new graph without the observations with extreme body weight. Since the two extreme values are around 2500 and 6500, we decide not to include values larger than 2000. After the window changes and slope change, the correlation would become much easier to see.\n",
    "\n",
    "We are not dropping these two values but only exclude them from this plot temporarily. In the future, when we do the prediction, we will include them back into our model."
   ]
  },
  {
   "cell_type": "code",
   "execution_count": 8,
   "metadata": {},
   "outputs": [
    {
     "data": {
      "image/png": "[encoded data removed]",
      "text/plain": [
       "<Figure size 432x288 with 1 Axes>"
      ]
     },
     "metadata": {
      "needs_background": "light"
     },
     "output_type": "display_data"
    }
   ],
   "source": [
    "common_wt = df[df['body_wt'] <= 2000]\n",
    "sns.scatterplot(x = 'body_wt', y = 'brain_wt', data = common_wt);"
   ]
  },
  {
   "cell_type": "markdown",
   "metadata": {},
   "source": [
    "Even we see this graph again without the outliers, however, we are still very hard to see any correlations possible. As a result, we are going to calculate a p-value to see if there is more evidence to show a correlation."
   ]
  },
  {
   "cell_type": "code",
   "execution_count": 9,
   "metadata": {},
   "outputs": [
    {
     "name": "stdout",
     "output_type": "stream",
     "text": [
      "                            OLS Regression Results                            \n",
      "==============================================================================\n",
      "Dep. Variable:                body_wt   R-squared:                       0.423\n",
      "Model:                            OLS   Adj. R-squared:                  0.413\n",
      "Method:                 Least Squares   F-statistic:                     42.56\n",
      "Date:                Fri, 10 Dec 2021   Prob (F-statistic):           1.84e-08\n",
      "Time:                        12:24:58   Log-Likelihood:                -355.11\n",
      "No. Observations:                  60   AIC:                             714.2\n",
      "Df Residuals:                      58   BIC:                             718.4\n",
      "Df Model:                           1                                         \n",
      "Covariance Type:            nonrobust                                         \n",
      "==============================================================================\n",
      "                 coef    std err          t      P>|t|      [0.025      0.975]\n",
      "------------------------------------------------------------------------------\n",
      "Intercept     10.9751     13.388      0.820      0.416     -15.824      37.774\n",
      "brain_wt       0.3406      0.052      6.524      0.000       0.236       0.445\n",
      "==============================================================================\n",
      "Omnibus:                       23.460   Durbin-Watson:                   1.951\n",
      "Prob(Omnibus):                  0.000   Jarque-Bera (JB):              218.579\n",
      "Skew:                           0.336   Prob(JB):                     3.44e-48\n",
      "Kurtosis:                      12.326   Cond. No.                         291.\n",
      "==============================================================================\n",
      "\n",
      "Notes:\n",
      "[1] Standard Errors assume that the covariance matrix of the errors is correctly specified.\n"
     ]
    }
   ],
   "source": [
    "outcome, predictors = patsy.dmatrices('body_wt ~ brain_wt', common_wt)\n",
    "model = sm.OLS(outcome, predictors)\n",
    "results = model.fit()\n",
    "print(results.summary())"
   ]
  },
  {
   "cell_type": "markdown",
   "metadata": {},
   "source": [
    "According to the regression results, if the brain weight is 0, body weight would be 10.9651. For every 1 unit increase in brain weight, it’s expected to see a 0.3406 unit increase in body weight. We can also see that the calculated p-value for brain weight is 0.000 which is less than than 0.001 and makes it statistically significant. We can conclude that brain weight and body weight are indeed highly correlated. Then we need to drop one of the two columns. Since one of the prior research claimed that body weight is related to the sleep time, we will drop 'brain_wt' to avoid multicolinearity."
   ]
  },
  {
   "cell_type": "code",
   "execution_count": 10,
   "metadata": {},
   "outputs": [
    {
     "name": "stderr",
     "output_type": "stream",
     "text": [
      "/opt/conda/lib/python3.9/site-packages/pandas/core/frame.py:4906: SettingWithCopyWarning: \n",
      "A value is trying to be set on a copy of a slice from a DataFrame\n",
      "\n",
      "See the caveats in the documentation: https://pandas.pydata.org/pandas-docs/stable/user_guide/indexing.html#returning-a-view-versus-a-copy\n",
      "  return super().drop(\n"
     ]
    },
    {
     "data": {
      "text/html": [
       "<div>\n",
       "<style scoped>\n",
       "    .dataframe tbody tr th:only-of-type {\n",
       "        vertical-align: middle;\n",
       "    }\n",
       "\n",
       "    .dataframe tbody tr th {\n",
       "        vertical-align: top;\n",
       "    }\n",
       "\n",
       "    .dataframe thead th {\n",
       "        text-align: right;\n",
       "    }\n",
       "</style>\n",
       "<table border=\"1\" class=\"dataframe\">\n",
       "  <thead>\n",
       "    <tr style=\"text-align: right;\">\n",
       "      <th></th>\n",
       "      <th>total_sleep</th>\n",
       "      <th>body_wt</th>\n",
       "      <th>gestation</th>\n",
       "      <th>predation</th>\n",
       "      <th>exposure</th>\n",
       "    </tr>\n",
       "  </thead>\n",
       "  <tbody>\n",
       "    <tr>\n",
       "      <th>0</th>\n",
       "      <td>3.3</td>\n",
       "      <td>6654.000</td>\n",
       "      <td>645.0</td>\n",
       "      <td>3</td>\n",
       "      <td>5</td>\n",
       "    </tr>\n",
       "    <tr>\n",
       "      <th>1</th>\n",
       "      <td>8.3</td>\n",
       "      <td>1.000</td>\n",
       "      <td>42.0</td>\n",
       "      <td>3</td>\n",
       "      <td>1</td>\n",
       "    </tr>\n",
       "    <tr>\n",
       "      <th>2</th>\n",
       "      <td>12.5</td>\n",
       "      <td>3.385</td>\n",
       "      <td>60.0</td>\n",
       "      <td>1</td>\n",
       "      <td>1</td>\n",
       "    </tr>\n",
       "    <tr>\n",
       "      <th>3</th>\n",
       "      <td>16.5</td>\n",
       "      <td>0.920</td>\n",
       "      <td>25.0</td>\n",
       "      <td>5</td>\n",
       "      <td>2</td>\n",
       "    </tr>\n",
       "    <tr>\n",
       "      <th>4</th>\n",
       "      <td>3.9</td>\n",
       "      <td>2547.000</td>\n",
       "      <td>624.0</td>\n",
       "      <td>3</td>\n",
       "      <td>5</td>\n",
       "    </tr>\n",
       "  </tbody>\n",
       "</table>\n",
       "</div>"
      ],
      "text/plain": [
       "   total_sleep   body_wt  gestation  predation  exposure\n",
       "0          3.3  6654.000      645.0          3         5\n",
       "1          8.3     1.000       42.0          3         1\n",
       "2         12.5     3.385       60.0          1         1\n",
       "3         16.5     0.920       25.0          5         2\n",
       "4          3.9  2547.000      624.0          3         5"
      ]
     },
     "execution_count": 10,
     "metadata": {},
     "output_type": "execute_result"
    }
   ],
   "source": [
    "df.drop(['brain_wt'], axis = 1, inplace = True)\n",
    "df.head()"
   ]
  },
  {
   "cell_type": "markdown",
   "metadata": {},
   "source": [
    "Then we could check on the missing values and see what we can do for them."
   ]
  },
  {
   "cell_type": "code",
   "execution_count": 11,
   "metadata": {},
   "outputs": [
    {
     "data": {
      "text/plain": [
       "total_sleep    4\n",
       "body_wt        0\n",
       "gestation      4\n",
       "predation      0\n",
       "exposure       0\n",
       "dtype: int64"
      ]
     },
     "execution_count": 11,
     "metadata": {},
     "output_type": "execute_result"
    }
   ],
   "source": [
    "df.isnull().sum()"
   ]
  },
  {
   "cell_type": "markdown",
   "metadata": {},
   "source": [
    "There are 4 observations without 'total_sleep', and since it's the depedent variable that we have to predict, we have no other choice but to drop these 4 observations."
   ]
  },
  {
   "cell_type": "code",
   "execution_count": 12,
   "metadata": {},
   "outputs": [
    {
     "data": {
      "text/plain": [
       "(58, 5)"
      ]
     },
     "execution_count": 12,
     "metadata": {},
     "output_type": "execute_result"
    }
   ],
   "source": [
    "df = df.dropna(subset = ['total_sleep'])\n",
    "df.shape"
   ]
  },
  {
   "cell_type": "code",
   "execution_count": 13,
   "metadata": {},
   "outputs": [
    {
     "data": {
      "text/plain": [
       "total_sleep    0\n",
       "body_wt        0\n",
       "gestation      4\n",
       "predation      0\n",
       "exposure       0\n",
       "dtype: int64"
      ]
     },
     "execution_count": 13,
     "metadata": {},
     "output_type": "execute_result"
    }
   ],
   "source": [
    "df.isnull().sum()"
   ]
  },
  {
   "cell_type": "markdown",
   "metadata": {},
   "source": [
    "Now we only have 4 missing values in 'gestation'."
   ]
  },
  {
   "cell_type": "markdown",
   "metadata": {},
   "source": [
    "As we've made sure all the predictors are not correlated with each other, and we don't want to lose any observations since we only have 58 observations right now, we will do a probabilistic imputation on 'gestation'. We will replace the missing value with 4 values randomly drawn from the current sample we have."
   ]
  },
  {
   "cell_type": "code",
   "execution_count": 14,
   "metadata": {},
   "outputs": [
    {
     "data": {
      "text/plain": [
       "Int64Index([12, 18, 19, 55], dtype='int64')"
      ]
     },
     "execution_count": 14,
     "metadata": {},
     "output_type": "execute_result"
    }
   ],
   "source": [
    "missing_index = df[df['gestation'].isna() == True].index\n",
    "missing_index"
   ]
  },
  {
   "cell_type": "code",
   "execution_count": 15,
   "metadata": {},
   "outputs": [
    {
     "name": "stderr",
     "output_type": "stream",
     "text": [
      "/tmp/ipykernel_193/872129312.py:4: SettingWithCopyWarning: \n",
      "A value is trying to be set on a copy of a slice from a DataFrame.\n",
      "Try using .loc[row_indexer,col_indexer] = value instead\n",
      "\n",
      "See the caveats in the documentation: https://pandas.pydata.org/pandas-docs/stable/user_guide/indexing.html#returning-a-view-versus-a-copy\n",
      "  df['gestation'] = fill_ges\n"
     ]
    },
    {
     "data": {
      "text/plain": [
       "total_sleep    0\n",
       "body_wt        0\n",
       "gestation      0\n",
       "predation      0\n",
       "exposure       0\n",
       "dtype: int64"
      ]
     },
     "execution_count": 15,
     "metadata": {},
     "output_type": "execute_result"
    }
   ],
   "source": [
    "random_ges = df.dropna().sample(n = 4, replace = True).reset_index(drop = True)['gestation']\n",
    "random_ges.index = missing_index\n",
    "fill_ges = df['gestation'].fillna(random_ges)\n",
    "df['gestation'] = fill_ges\n",
    "df.isnull().sum()"
   ]
  },
  {
   "cell_type": "code",
   "execution_count": 16,
   "metadata": {},
   "outputs": [
    {
     "data": {
      "text/html": [
       "<div>\n",
       "<style scoped>\n",
       "    .dataframe tbody tr th:only-of-type {\n",
       "        vertical-align: middle;\n",
       "    }\n",
       "\n",
       "    .dataframe tbody tr th {\n",
       "        vertical-align: top;\n",
       "    }\n",
       "\n",
       "    .dataframe thead th {\n",
       "        text-align: right;\n",
       "    }\n",
       "</style>\n",
       "<table border=\"1\" class=\"dataframe\">\n",
       "  <thead>\n",
       "    <tr style=\"text-align: right;\">\n",
       "      <th></th>\n",
       "      <th>total_sleep</th>\n",
       "      <th>body_wt</th>\n",
       "      <th>gestation</th>\n",
       "      <th>predation</th>\n",
       "      <th>exposure</th>\n",
       "    </tr>\n",
       "  </thead>\n",
       "  <tbody>\n",
       "    <tr>\n",
       "      <th>0</th>\n",
       "      <td>3.3</td>\n",
       "      <td>6654.000</td>\n",
       "      <td>645.0</td>\n",
       "      <td>3</td>\n",
       "      <td>5</td>\n",
       "    </tr>\n",
       "    <tr>\n",
       "      <th>1</th>\n",
       "      <td>8.3</td>\n",
       "      <td>1.000</td>\n",
       "      <td>42.0</td>\n",
       "      <td>3</td>\n",
       "      <td>1</td>\n",
       "    </tr>\n",
       "    <tr>\n",
       "      <th>2</th>\n",
       "      <td>12.5</td>\n",
       "      <td>3.385</td>\n",
       "      <td>60.0</td>\n",
       "      <td>1</td>\n",
       "      <td>1</td>\n",
       "    </tr>\n",
       "    <tr>\n",
       "      <th>3</th>\n",
       "      <td>16.5</td>\n",
       "      <td>0.920</td>\n",
       "      <td>25.0</td>\n",
       "      <td>5</td>\n",
       "      <td>2</td>\n",
       "    </tr>\n",
       "    <tr>\n",
       "      <th>4</th>\n",
       "      <td>3.9</td>\n",
       "      <td>2547.000</td>\n",
       "      <td>624.0</td>\n",
       "      <td>3</td>\n",
       "      <td>5</td>\n",
       "    </tr>\n",
       "  </tbody>\n",
       "</table>\n",
       "</div>"
      ],
      "text/plain": [
       "   total_sleep   body_wt  gestation  predation  exposure\n",
       "0          3.3  6654.000      645.0          3         5\n",
       "1          8.3     1.000       42.0          3         1\n",
       "2         12.5     3.385       60.0          1         1\n",
       "3         16.5     0.920       25.0          5         2\n",
       "4          3.9  2547.000      624.0          3         5"
      ]
     },
     "execution_count": 16,
     "metadata": {},
     "output_type": "execute_result"
    }
   ],
   "source": [
    "df.head()"
   ]
  },
  {
   "cell_type": "markdown",
   "metadata": {},
   "source": [
    "# Data Analysis & Results"
   ]
  },
  {
   "cell_type": "markdown",
   "metadata": {},
   "source": [
    "We are going to understand our data by Exploratory data analysis (EDA) per the standards of Data 100 Textbook: structure, granularity, scope, temporality, and faithfulness. \n",
    "\n",
    "First, we would look at our dataset:\n"
   ]
  },
  {
   "cell_type": "code",
   "execution_count": 17,
   "metadata": {},
   "outputs": [
    {
     "data": {
      "text/html": [
       "<div>\n",
       "<style scoped>\n",
       "    .dataframe tbody tr th:only-of-type {\n",
       "        vertical-align: middle;\n",
       "    }\n",
       "\n",
       "    .dataframe tbody tr th {\n",
       "        vertical-align: top;\n",
       "    }\n",
       "\n",
       "    .dataframe thead th {\n",
       "        text-align: right;\n",
       "    }\n",
       "</style>\n",
       "<table border=\"1\" class=\"dataframe\">\n",
       "  <thead>\n",
       "    <tr style=\"text-align: right;\">\n",
       "      <th></th>\n",
       "      <th>total_sleep</th>\n",
       "      <th>body_wt</th>\n",
       "      <th>gestation</th>\n",
       "      <th>predation</th>\n",
       "      <th>exposure</th>\n",
       "    </tr>\n",
       "  </thead>\n",
       "  <tbody>\n",
       "    <tr>\n",
       "      <th>0</th>\n",
       "      <td>3.3</td>\n",
       "      <td>6654.000</td>\n",
       "      <td>645.0</td>\n",
       "      <td>3</td>\n",
       "      <td>5</td>\n",
       "    </tr>\n",
       "    <tr>\n",
       "      <th>1</th>\n",
       "      <td>8.3</td>\n",
       "      <td>1.000</td>\n",
       "      <td>42.0</td>\n",
       "      <td>3</td>\n",
       "      <td>1</td>\n",
       "    </tr>\n",
       "    <tr>\n",
       "      <th>2</th>\n",
       "      <td>12.5</td>\n",
       "      <td>3.385</td>\n",
       "      <td>60.0</td>\n",
       "      <td>1</td>\n",
       "      <td>1</td>\n",
       "    </tr>\n",
       "    <tr>\n",
       "      <th>3</th>\n",
       "      <td>16.5</td>\n",
       "      <td>0.920</td>\n",
       "      <td>25.0</td>\n",
       "      <td>5</td>\n",
       "      <td>2</td>\n",
       "    </tr>\n",
       "    <tr>\n",
       "      <th>4</th>\n",
       "      <td>3.9</td>\n",
       "      <td>2547.000</td>\n",
       "      <td>624.0</td>\n",
       "      <td>3</td>\n",
       "      <td>5</td>\n",
       "    </tr>\n",
       "    <tr>\n",
       "      <th>5</th>\n",
       "      <td>9.8</td>\n",
       "      <td>10.550</td>\n",
       "      <td>180.0</td>\n",
       "      <td>4</td>\n",
       "      <td>4</td>\n",
       "    </tr>\n",
       "    <tr>\n",
       "      <th>6</th>\n",
       "      <td>19.7</td>\n",
       "      <td>0.023</td>\n",
       "      <td>35.0</td>\n",
       "      <td>1</td>\n",
       "      <td>1</td>\n",
       "    </tr>\n",
       "    <tr>\n",
       "      <th>7</th>\n",
       "      <td>6.2</td>\n",
       "      <td>160.000</td>\n",
       "      <td>392.0</td>\n",
       "      <td>4</td>\n",
       "      <td>5</td>\n",
       "    </tr>\n",
       "    <tr>\n",
       "      <th>8</th>\n",
       "      <td>14.5</td>\n",
       "      <td>3.300</td>\n",
       "      <td>63.0</td>\n",
       "      <td>1</td>\n",
       "      <td>2</td>\n",
       "    </tr>\n",
       "    <tr>\n",
       "      <th>9</th>\n",
       "      <td>9.7</td>\n",
       "      <td>52.160</td>\n",
       "      <td>230.0</td>\n",
       "      <td>1</td>\n",
       "      <td>1</td>\n",
       "    </tr>\n",
       "    <tr>\n",
       "      <th>10</th>\n",
       "      <td>12.5</td>\n",
       "      <td>0.425</td>\n",
       "      <td>112.0</td>\n",
       "      <td>5</td>\n",
       "      <td>4</td>\n",
       "    </tr>\n",
       "    <tr>\n",
       "      <th>11</th>\n",
       "      <td>3.9</td>\n",
       "      <td>465.000</td>\n",
       "      <td>281.0</td>\n",
       "      <td>5</td>\n",
       "      <td>5</td>\n",
       "    </tr>\n",
       "    <tr>\n",
       "      <th>12</th>\n",
       "      <td>10.3</td>\n",
       "      <td>0.550</td>\n",
       "      <td>120.0</td>\n",
       "      <td>2</td>\n",
       "      <td>1</td>\n",
       "    </tr>\n",
       "    <tr>\n",
       "      <th>13</th>\n",
       "      <td>3.1</td>\n",
       "      <td>187.100</td>\n",
       "      <td>365.0</td>\n",
       "      <td>5</td>\n",
       "      <td>5</td>\n",
       "    </tr>\n",
       "    <tr>\n",
       "      <th>14</th>\n",
       "      <td>8.4</td>\n",
       "      <td>0.075</td>\n",
       "      <td>42.0</td>\n",
       "      <td>1</td>\n",
       "      <td>1</td>\n",
       "    </tr>\n",
       "    <tr>\n",
       "      <th>15</th>\n",
       "      <td>8.6</td>\n",
       "      <td>3.000</td>\n",
       "      <td>28.0</td>\n",
       "      <td>2</td>\n",
       "      <td>2</td>\n",
       "    </tr>\n",
       "    <tr>\n",
       "      <th>16</th>\n",
       "      <td>10.7</td>\n",
       "      <td>0.785</td>\n",
       "      <td>42.0</td>\n",
       "      <td>2</td>\n",
       "      <td>2</td>\n",
       "    </tr>\n",
       "    <tr>\n",
       "      <th>17</th>\n",
       "      <td>10.7</td>\n",
       "      <td>0.200</td>\n",
       "      <td>120.0</td>\n",
       "      <td>2</td>\n",
       "      <td>2</td>\n",
       "    </tr>\n",
       "    <tr>\n",
       "      <th>18</th>\n",
       "      <td>6.1</td>\n",
       "      <td>1.410</td>\n",
       "      <td>115.0</td>\n",
       "      <td>1</td>\n",
       "      <td>2</td>\n",
       "    </tr>\n",
       "    <tr>\n",
       "      <th>19</th>\n",
       "      <td>18.1</td>\n",
       "      <td>60.000</td>\n",
       "      <td>50.0</td>\n",
       "      <td>1</td>\n",
       "      <td>1</td>\n",
       "    </tr>\n",
       "    <tr>\n",
       "      <th>21</th>\n",
       "      <td>3.8</td>\n",
       "      <td>27.660</td>\n",
       "      <td>148.0</td>\n",
       "      <td>5</td>\n",
       "      <td>5</td>\n",
       "    </tr>\n",
       "    <tr>\n",
       "      <th>22</th>\n",
       "      <td>14.4</td>\n",
       "      <td>0.120</td>\n",
       "      <td>16.0</td>\n",
       "      <td>3</td>\n",
       "      <td>1</td>\n",
       "    </tr>\n",
       "    <tr>\n",
       "      <th>23</th>\n",
       "      <td>12.0</td>\n",
       "      <td>207.000</td>\n",
       "      <td>252.0</td>\n",
       "      <td>1</td>\n",
       "      <td>4</td>\n",
       "    </tr>\n",
       "    <tr>\n",
       "      <th>24</th>\n",
       "      <td>6.2</td>\n",
       "      <td>85.000</td>\n",
       "      <td>310.0</td>\n",
       "      <td>1</td>\n",
       "      <td>3</td>\n",
       "    </tr>\n",
       "    <tr>\n",
       "      <th>25</th>\n",
       "      <td>13.0</td>\n",
       "      <td>36.330</td>\n",
       "      <td>63.0</td>\n",
       "      <td>1</td>\n",
       "      <td>1</td>\n",
       "    </tr>\n",
       "    <tr>\n",
       "      <th>26</th>\n",
       "      <td>13.8</td>\n",
       "      <td>0.101</td>\n",
       "      <td>28.0</td>\n",
       "      <td>5</td>\n",
       "      <td>1</td>\n",
       "    </tr>\n",
       "    <tr>\n",
       "      <th>27</th>\n",
       "      <td>8.2</td>\n",
       "      <td>1.040</td>\n",
       "      <td>68.0</td>\n",
       "      <td>5</td>\n",
       "      <td>3</td>\n",
       "    </tr>\n",
       "    <tr>\n",
       "      <th>28</th>\n",
       "      <td>2.9</td>\n",
       "      <td>521.000</td>\n",
       "      <td>336.0</td>\n",
       "      <td>5</td>\n",
       "      <td>5</td>\n",
       "    </tr>\n",
       "    <tr>\n",
       "      <th>29</th>\n",
       "      <td>10.8</td>\n",
       "      <td>100.000</td>\n",
       "      <td>100.0</td>\n",
       "      <td>1</td>\n",
       "      <td>1</td>\n",
       "    </tr>\n",
       "    <tr>\n",
       "      <th>31</th>\n",
       "      <td>9.1</td>\n",
       "      <td>0.005</td>\n",
       "      <td>21.5</td>\n",
       "      <td>5</td>\n",
       "      <td>2</td>\n",
       "    </tr>\n",
       "    <tr>\n",
       "      <th>32</th>\n",
       "      <td>19.9</td>\n",
       "      <td>0.010</td>\n",
       "      <td>50.0</td>\n",
       "      <td>1</td>\n",
       "      <td>1</td>\n",
       "    </tr>\n",
       "    <tr>\n",
       "      <th>33</th>\n",
       "      <td>8.0</td>\n",
       "      <td>62.000</td>\n",
       "      <td>267.0</td>\n",
       "      <td>1</td>\n",
       "      <td>1</td>\n",
       "    </tr>\n",
       "    <tr>\n",
       "      <th>34</th>\n",
       "      <td>10.6</td>\n",
       "      <td>0.122</td>\n",
       "      <td>30.0</td>\n",
       "      <td>2</td>\n",
       "      <td>1</td>\n",
       "    </tr>\n",
       "    <tr>\n",
       "      <th>35</th>\n",
       "      <td>11.2</td>\n",
       "      <td>1.350</td>\n",
       "      <td>45.0</td>\n",
       "      <td>3</td>\n",
       "      <td>1</td>\n",
       "    </tr>\n",
       "    <tr>\n",
       "      <th>36</th>\n",
       "      <td>13.2</td>\n",
       "      <td>0.023</td>\n",
       "      <td>19.0</td>\n",
       "      <td>4</td>\n",
       "      <td>1</td>\n",
       "    </tr>\n",
       "    <tr>\n",
       "      <th>37</th>\n",
       "      <td>12.8</td>\n",
       "      <td>0.048</td>\n",
       "      <td>30.0</td>\n",
       "      <td>4</td>\n",
       "      <td>1</td>\n",
       "    </tr>\n",
       "    <tr>\n",
       "      <th>38</th>\n",
       "      <td>19.4</td>\n",
       "      <td>1.700</td>\n",
       "      <td>12.0</td>\n",
       "      <td>2</td>\n",
       "      <td>1</td>\n",
       "    </tr>\n",
       "    <tr>\n",
       "      <th>39</th>\n",
       "      <td>17.4</td>\n",
       "      <td>3.500</td>\n",
       "      <td>120.0</td>\n",
       "      <td>2</td>\n",
       "      <td>1</td>\n",
       "    </tr>\n",
       "    <tr>\n",
       "      <th>41</th>\n",
       "      <td>17.0</td>\n",
       "      <td>0.480</td>\n",
       "      <td>140.0</td>\n",
       "      <td>2</td>\n",
       "      <td>2</td>\n",
       "    </tr>\n",
       "    <tr>\n",
       "      <th>42</th>\n",
       "      <td>10.9</td>\n",
       "      <td>10.000</td>\n",
       "      <td>170.0</td>\n",
       "      <td>4</td>\n",
       "      <td>4</td>\n",
       "    </tr>\n",
       "    <tr>\n",
       "      <th>43</th>\n",
       "      <td>13.7</td>\n",
       "      <td>1.620</td>\n",
       "      <td>17.0</td>\n",
       "      <td>2</td>\n",
       "      <td>1</td>\n",
       "    </tr>\n",
       "    <tr>\n",
       "      <th>44</th>\n",
       "      <td>8.4</td>\n",
       "      <td>192.000</td>\n",
       "      <td>115.0</td>\n",
       "      <td>4</td>\n",
       "      <td>4</td>\n",
       "    </tr>\n",
       "    <tr>\n",
       "      <th>45</th>\n",
       "      <td>8.4</td>\n",
       "      <td>2.500</td>\n",
       "      <td>31.0</td>\n",
       "      <td>5</td>\n",
       "      <td>5</td>\n",
       "    </tr>\n",
       "    <tr>\n",
       "      <th>46</th>\n",
       "      <td>12.5</td>\n",
       "      <td>4.288</td>\n",
       "      <td>63.0</td>\n",
       "      <td>2</td>\n",
       "      <td>2</td>\n",
       "    </tr>\n",
       "    <tr>\n",
       "      <th>47</th>\n",
       "      <td>13.2</td>\n",
       "      <td>0.280</td>\n",
       "      <td>21.0</td>\n",
       "      <td>3</td>\n",
       "      <td>1</td>\n",
       "    </tr>\n",
       "    <tr>\n",
       "      <th>48</th>\n",
       "      <td>9.8</td>\n",
       "      <td>4.235</td>\n",
       "      <td>52.0</td>\n",
       "      <td>1</td>\n",
       "      <td>1</td>\n",
       "    </tr>\n",
       "    <tr>\n",
       "      <th>49</th>\n",
       "      <td>9.6</td>\n",
       "      <td>6.800</td>\n",
       "      <td>164.0</td>\n",
       "      <td>2</td>\n",
       "      <td>3</td>\n",
       "    </tr>\n",
       "    <tr>\n",
       "      <th>50</th>\n",
       "      <td>6.6</td>\n",
       "      <td>0.750</td>\n",
       "      <td>225.0</td>\n",
       "      <td>2</td>\n",
       "      <td>2</td>\n",
       "    </tr>\n",
       "    <tr>\n",
       "      <th>51</th>\n",
       "      <td>5.4</td>\n",
       "      <td>3.600</td>\n",
       "      <td>225.0</td>\n",
       "      <td>3</td>\n",
       "      <td>2</td>\n",
       "    </tr>\n",
       "    <tr>\n",
       "      <th>52</th>\n",
       "      <td>2.6</td>\n",
       "      <td>14.830</td>\n",
       "      <td>150.0</td>\n",
       "      <td>5</td>\n",
       "      <td>5</td>\n",
       "    </tr>\n",
       "    <tr>\n",
       "      <th>53</th>\n",
       "      <td>3.8</td>\n",
       "      <td>55.500</td>\n",
       "      <td>151.0</td>\n",
       "      <td>5</td>\n",
       "      <td>5</td>\n",
       "    </tr>\n",
       "    <tr>\n",
       "      <th>54</th>\n",
       "      <td>11.0</td>\n",
       "      <td>1.400</td>\n",
       "      <td>90.0</td>\n",
       "      <td>2</td>\n",
       "      <td>2</td>\n",
       "    </tr>\n",
       "    <tr>\n",
       "      <th>55</th>\n",
       "      <td>10.3</td>\n",
       "      <td>0.060</td>\n",
       "      <td>90.0</td>\n",
       "      <td>3</td>\n",
       "      <td>1</td>\n",
       "    </tr>\n",
       "    <tr>\n",
       "      <th>56</th>\n",
       "      <td>13.3</td>\n",
       "      <td>0.900</td>\n",
       "      <td>60.0</td>\n",
       "      <td>2</td>\n",
       "      <td>1</td>\n",
       "    </tr>\n",
       "    <tr>\n",
       "      <th>57</th>\n",
       "      <td>5.4</td>\n",
       "      <td>2.000</td>\n",
       "      <td>200.0</td>\n",
       "      <td>3</td>\n",
       "      <td>1</td>\n",
       "    </tr>\n",
       "    <tr>\n",
       "      <th>58</th>\n",
       "      <td>15.8</td>\n",
       "      <td>0.104</td>\n",
       "      <td>46.0</td>\n",
       "      <td>3</td>\n",
       "      <td>2</td>\n",
       "    </tr>\n",
       "    <tr>\n",
       "      <th>59</th>\n",
       "      <td>10.3</td>\n",
       "      <td>4.190</td>\n",
       "      <td>210.0</td>\n",
       "      <td>4</td>\n",
       "      <td>3</td>\n",
       "    </tr>\n",
       "    <tr>\n",
       "      <th>60</th>\n",
       "      <td>19.4</td>\n",
       "      <td>3.500</td>\n",
       "      <td>14.0</td>\n",
       "      <td>2</td>\n",
       "      <td>1</td>\n",
       "    </tr>\n",
       "  </tbody>\n",
       "</table>\n",
       "</div>"
      ],
      "text/plain": [
       "    total_sleep   body_wt  gestation  predation  exposure\n",
       "0           3.3  6654.000      645.0          3         5\n",
       "1           8.3     1.000       42.0          3         1\n",
       "2          12.5     3.385       60.0          1         1\n",
       "3          16.5     0.920       25.0          5         2\n",
       "4           3.9  2547.000      624.0          3         5\n",
       "5           9.8    10.550      180.0          4         4\n",
       "6          19.7     0.023       35.0          1         1\n",
       "7           6.2   160.000      392.0          4         5\n",
       "8          14.5     3.300       63.0          1         2\n",
       "9           9.7    52.160      230.0          1         1\n",
       "10         12.5     0.425      112.0          5         4\n",
       "11          3.9   465.000      281.0          5         5\n",
       "12         10.3     0.550      120.0          2         1\n",
       "13          3.1   187.100      365.0          5         5\n",
       "14          8.4     0.075       42.0          1         1\n",
       "15          8.6     3.000       28.0          2         2\n",
       "16         10.7     0.785       42.0          2         2\n",
       "17         10.7     0.200      120.0          2         2\n",
       "18          6.1     1.410      115.0          1         2\n",
       "19         18.1    60.000       50.0          1         1\n",
       "21          3.8    27.660      148.0          5         5\n",
       "22         14.4     0.120       16.0          3         1\n",
       "23         12.0   207.000      252.0          1         4\n",
       "24          6.2    85.000      310.0          1         3\n",
       "25         13.0    36.330       63.0          1         1\n",
       "26         13.8     0.101       28.0          5         1\n",
       "27          8.2     1.040       68.0          5         3\n",
       "28          2.9   521.000      336.0          5         5\n",
       "29         10.8   100.000      100.0          1         1\n",
       "31          9.1     0.005       21.5          5         2\n",
       "32         19.9     0.010       50.0          1         1\n",
       "33          8.0    62.000      267.0          1         1\n",
       "34         10.6     0.122       30.0          2         1\n",
       "35         11.2     1.350       45.0          3         1\n",
       "36         13.2     0.023       19.0          4         1\n",
       "37         12.8     0.048       30.0          4         1\n",
       "38         19.4     1.700       12.0          2         1\n",
       "39         17.4     3.500      120.0          2         1\n",
       "41         17.0     0.480      140.0          2         2\n",
       "42         10.9    10.000      170.0          4         4\n",
       "43         13.7     1.620       17.0          2         1\n",
       "44          8.4   192.000      115.0          4         4\n",
       "45          8.4     2.500       31.0          5         5\n",
       "46         12.5     4.288       63.0          2         2\n",
       "47         13.2     0.280       21.0          3         1\n",
       "48          9.8     4.235       52.0          1         1\n",
       "49          9.6     6.800      164.0          2         3\n",
       "50          6.6     0.750      225.0          2         2\n",
       "51          5.4     3.600      225.0          3         2\n",
       "52          2.6    14.830      150.0          5         5\n",
       "53          3.8    55.500      151.0          5         5\n",
       "54         11.0     1.400       90.0          2         2\n",
       "55         10.3     0.060       90.0          3         1\n",
       "56         13.3     0.900       60.0          2         1\n",
       "57          5.4     2.000      200.0          3         1\n",
       "58         15.8     0.104       46.0          3         2\n",
       "59         10.3     4.190      210.0          4         3\n",
       "60         19.4     3.500       14.0          2         1"
      ]
     },
     "execution_count": 17,
     "metadata": {},
     "output_type": "execute_result"
    }
   ],
   "source": [
    "df"
   ]
  },
  {
   "cell_type": "code",
   "execution_count": 18,
   "metadata": {},
   "outputs": [
    {
     "data": {
      "text/plain": [
       "(58, 5)"
      ]
     },
     "execution_count": 18,
     "metadata": {},
     "output_type": "execute_result"
    }
   ],
   "source": [
    "df.shape"
   ]
  },
  {
   "cell_type": "code",
   "execution_count": 19,
   "metadata": {},
   "outputs": [
    {
     "data": {
      "text/html": [
       "<div>\n",
       "<style scoped>\n",
       "    .dataframe tbody tr th:only-of-type {\n",
       "        vertical-align: middle;\n",
       "    }\n",
       "\n",
       "    .dataframe tbody tr th {\n",
       "        vertical-align: top;\n",
       "    }\n",
       "\n",
       "    .dataframe thead th {\n",
       "        text-align: right;\n",
       "    }\n",
       "</style>\n",
       "<table border=\"1\" class=\"dataframe\">\n",
       "  <thead>\n",
       "    <tr style=\"text-align: right;\">\n",
       "      <th></th>\n",
       "      <th>total_sleep</th>\n",
       "      <th>body_wt</th>\n",
       "      <th>gestation</th>\n",
       "      <th>predation</th>\n",
       "      <th>exposure</th>\n",
       "    </tr>\n",
       "  </thead>\n",
       "  <tbody>\n",
       "    <tr>\n",
       "      <th>count</th>\n",
       "      <td>58.000000</td>\n",
       "      <td>58.000000</td>\n",
       "      <td>58.000000</td>\n",
       "      <td>58.000000</td>\n",
       "      <td>58.000000</td>\n",
       "    </tr>\n",
       "    <tr>\n",
       "      <th>mean</th>\n",
       "      <td>10.532759</td>\n",
       "      <td>198.395328</td>\n",
       "      <td>133.112069</td>\n",
       "      <td>2.793103</td>\n",
       "      <td>2.310345</td>\n",
       "    </tr>\n",
       "    <tr>\n",
       "      <th>std</th>\n",
       "      <td>4.606760</td>\n",
       "      <td>928.507308</td>\n",
       "      <td>136.252444</td>\n",
       "      <td>1.472063</td>\n",
       "      <td>1.535623</td>\n",
       "    </tr>\n",
       "    <tr>\n",
       "      <th>min</th>\n",
       "      <td>2.600000</td>\n",
       "      <td>0.005000</td>\n",
       "      <td>12.000000</td>\n",
       "      <td>1.000000</td>\n",
       "      <td>1.000000</td>\n",
       "    </tr>\n",
       "    <tr>\n",
       "      <th>25%</th>\n",
       "      <td>8.050000</td>\n",
       "      <td>0.497500</td>\n",
       "      <td>42.000000</td>\n",
       "      <td>2.000000</td>\n",
       "      <td>1.000000</td>\n",
       "    </tr>\n",
       "    <tr>\n",
       "      <th>50%</th>\n",
       "      <td>10.450000</td>\n",
       "      <td>2.750000</td>\n",
       "      <td>90.000000</td>\n",
       "      <td>2.500000</td>\n",
       "      <td>2.000000</td>\n",
       "    </tr>\n",
       "    <tr>\n",
       "      <th>75%</th>\n",
       "      <td>13.200000</td>\n",
       "      <td>34.162500</td>\n",
       "      <td>177.500000</td>\n",
       "      <td>4.000000</td>\n",
       "      <td>3.750000</td>\n",
       "    </tr>\n",
       "    <tr>\n",
       "      <th>max</th>\n",
       "      <td>19.900000</td>\n",
       "      <td>6654.000000</td>\n",
       "      <td>645.000000</td>\n",
       "      <td>5.000000</td>\n",
       "      <td>5.000000</td>\n",
       "    </tr>\n",
       "  </tbody>\n",
       "</table>\n",
       "</div>"
      ],
      "text/plain": [
       "       total_sleep      body_wt   gestation  predation   exposure\n",
       "count    58.000000    58.000000   58.000000  58.000000  58.000000\n",
       "mean     10.532759   198.395328  133.112069   2.793103   2.310345\n",
       "std       4.606760   928.507308  136.252444   1.472063   1.535623\n",
       "min       2.600000     0.005000   12.000000   1.000000   1.000000\n",
       "25%       8.050000     0.497500   42.000000   2.000000   1.000000\n",
       "50%      10.450000     2.750000   90.000000   2.500000   2.000000\n",
       "75%      13.200000    34.162500  177.500000   4.000000   3.750000\n",
       "max      19.900000  6654.000000  645.000000   5.000000   5.000000"
      ]
     },
     "execution_count": 19,
     "metadata": {},
     "output_type": "execute_result"
    }
   ],
   "source": [
    "# check for basic information for each variable\n",
    "df.describe()"
   ]
  },
  {
   "cell_type": "markdown",
   "metadata": {},
   "source": [
    "Our data is formatted in CSV, each observation is in a separate row, and the total_sleep, body_weight, gestation variables are of type float while the predation and exposure variables are of type integer, and at last we currently have one single table for the data. Since the structure is clear, we don’t need further cleaning. "
   ]
  },
  {
   "cell_type": "markdown",
   "metadata": {},
   "source": [
    "## Univariate Analysis"
   ]
  },
  {
   "cell_type": "markdown",
   "metadata": {},
   "source": [
    "Next, for granularity, each row of our data contain a summary about a number of individuals. \n",
    "\n",
    "As for scope, for each variable, we would first look at their distribution, and then plot the boxplot to check if there is any outliers inside. If there are outliers and the distribution is severely skewed, we would perform log transformation to see if the transformed distribution becomes normal.\n",
    "\n"
   ]
  },
  {
   "cell_type": "code",
   "execution_count": 20,
   "metadata": {},
   "outputs": [
    {
     "data": {
      "image/png": "[encoded data removed]",
      "text/plain": [
       "<Figure size 432x288 with 1 Axes>"
      ]
     },
     "metadata": {
      "needs_background": "light"
     },
     "output_type": "display_data"
    }
   ],
   "source": [
    "# plot the distribution of *total_sleep* in species\n",
    "sns.histplot(df['total_sleep'], kde = True, bins = 15, color = 'green');"
   ]
  },
  {
   "cell_type": "markdown",
   "metadata": {},
   "source": [
    "We can see our distribution for the total_sleep variable is an approxiamtely normal distribution. "
   ]
  },
  {
   "cell_type": "code",
   "execution_count": 21,
   "metadata": {},
   "outputs": [
    {
     "data": {
      "image/png": "[encoded data removed]",
      "text/plain": [
       "<Figure size 432x288 with 1 Axes>"
      ]
     },
     "metadata": {
      "needs_background": "light"
     },
     "output_type": "display_data"
    }
   ],
   "source": [
    "# plot if there are outliers for *total_sleep*\n",
    "sns.boxplot(x = 'total_sleep', data = df);"
   ]
  },
  {
   "cell_type": "markdown",
   "metadata": {},
   "source": [
    "The box plot shows that there is no outliers in total_sleep and the distribution is rather balanced, which corresponds to the histogram we draw above."
   ]
  },
  {
   "cell_type": "code",
   "execution_count": 22,
   "metadata": {},
   "outputs": [
    {
     "data": {
      "image/png": "[encoded data removed]",
      "text/plain": [
       "<Figure size 432x288 with 1 Axes>"
      ]
     },
     "metadata": {
      "needs_background": "light"
     },
     "output_type": "display_data"
    }
   ],
   "source": [
    "# plot the distribution of *body_wt* in species\n",
    "sns.histplot(df['body_wt'], kde = True, bins = 15, color = 'grey');"
   ]
  },
  {
   "cell_type": "markdown",
   "metadata": {},
   "source": [
    "It seems like we have a skewed distribution instead of a normal distribution. However, this might be contrinbuted by several huge outliers in this variable. We would then make a boxplot to see if there are outliers. "
   ]
  },
  {
   "cell_type": "code",
   "execution_count": 23,
   "metadata": {},
   "outputs": [
    {
     "data": {
      "image/png": "[encoded data removed]",
      "text/plain": [
       "<Figure size 432x288 with 1 Axes>"
      ]
     },
     "metadata": {
      "needs_background": "light"
     },
     "output_type": "display_data"
    }
   ],
   "source": [
    "# plot if there are outliers for *body_wt*\n",
    "sns.boxplot(x = 'body_wt', data = df);"
   ]
  },
  {
   "cell_type": "markdown",
   "metadata": {},
   "source": [
    "From the boxplot, we can see that we are facing the same problems from before: there are a few outliers for our variable 'body_wt'. Thus, to make the plot pattern easier to see, we decided to make a plot without them temporary. We are going to use the same criteria to remove outliers by confining the obervation to be less than or equal to 2000. "
   ]
  },
  {
   "cell_type": "code",
   "execution_count": 24,
   "metadata": {},
   "outputs": [],
   "source": [
    "df_remove_outliers = df[df['body_wt'] <= 2000]"
   ]
  },
  {
   "cell_type": "code",
   "execution_count": 25,
   "metadata": {},
   "outputs": [
    {
     "data": {
      "image/png": "[encoded data removed]",
      "text/plain": [
       "<Figure size 432x288 with 1 Axes>"
      ]
     },
     "metadata": {
      "needs_background": "light"
     },
     "output_type": "display_data"
    }
   ],
   "source": [
    "# plot the distribution of *body_wt* in species after outlier removal\n",
    "sns.histplot(df_remove_outliers['body_wt'], kde = True, bins = 30, color = 'purple');"
   ]
  },
  {
   "cell_type": "markdown",
   "metadata": {},
   "source": [
    "We can see that the data without extreme outliers is still not normal. However, we can log transformation the original data to present it in a bell curve shape."
   ]
  },
  {
   "cell_type": "code",
   "execution_count": 26,
   "metadata": {},
   "outputs": [
    {
     "name": "stderr",
     "output_type": "stream",
     "text": [
      "/tmp/ipykernel_193/257392375.py:2: SettingWithCopyWarning: \n",
      "A value is trying to be set on a copy of a slice from a DataFrame.\n",
      "Try using .loc[row_indexer,col_indexer] = value instead\n",
      "\n",
      "See the caveats in the documentation: https://pandas.pydata.org/pandas-docs/stable/user_guide/indexing.html#returning-a-view-versus-a-copy\n",
      "  df['body_wt_log'] = np.log(df['body_wt'])\n"
     ]
    }
   ],
   "source": [
    "# log transformation the variable *body_wt*\n",
    "df['body_wt_log'] = np.log(df['body_wt'])"
   ]
  },
  {
   "cell_type": "code",
   "execution_count": 27,
   "metadata": {},
   "outputs": [
    {
     "data": {
      "text/html": [
       "<div>\n",
       "<style scoped>\n",
       "    .dataframe tbody tr th:only-of-type {\n",
       "        vertical-align: middle;\n",
       "    }\n",
       "\n",
       "    .dataframe tbody tr th {\n",
       "        vertical-align: top;\n",
       "    }\n",
       "\n",
       "    .dataframe thead th {\n",
       "        text-align: right;\n",
       "    }\n",
       "</style>\n",
       "<table border=\"1\" class=\"dataframe\">\n",
       "  <thead>\n",
       "    <tr style=\"text-align: right;\">\n",
       "      <th></th>\n",
       "      <th>total_sleep</th>\n",
       "      <th>body_wt</th>\n",
       "      <th>gestation</th>\n",
       "      <th>predation</th>\n",
       "      <th>exposure</th>\n",
       "      <th>body_wt_log</th>\n",
       "    </tr>\n",
       "  </thead>\n",
       "  <tbody>\n",
       "    <tr>\n",
       "      <th>0</th>\n",
       "      <td>3.3</td>\n",
       "      <td>6654.000</td>\n",
       "      <td>645.0</td>\n",
       "      <td>3</td>\n",
       "      <td>5</td>\n",
       "      <td>8.802973</td>\n",
       "    </tr>\n",
       "    <tr>\n",
       "      <th>1</th>\n",
       "      <td>8.3</td>\n",
       "      <td>1.000</td>\n",
       "      <td>42.0</td>\n",
       "      <td>3</td>\n",
       "      <td>1</td>\n",
       "      <td>0.000000</td>\n",
       "    </tr>\n",
       "    <tr>\n",
       "      <th>2</th>\n",
       "      <td>12.5</td>\n",
       "      <td>3.385</td>\n",
       "      <td>60.0</td>\n",
       "      <td>1</td>\n",
       "      <td>1</td>\n",
       "      <td>1.219354</td>\n",
       "    </tr>\n",
       "    <tr>\n",
       "      <th>3</th>\n",
       "      <td>16.5</td>\n",
       "      <td>0.920</td>\n",
       "      <td>25.0</td>\n",
       "      <td>5</td>\n",
       "      <td>2</td>\n",
       "      <td>-0.083382</td>\n",
       "    </tr>\n",
       "    <tr>\n",
       "      <th>4</th>\n",
       "      <td>3.9</td>\n",
       "      <td>2547.000</td>\n",
       "      <td>624.0</td>\n",
       "      <td>3</td>\n",
       "      <td>5</td>\n",
       "      <td>7.842671</td>\n",
       "    </tr>\n",
       "  </tbody>\n",
       "</table>\n",
       "</div>"
      ],
      "text/plain": [
       "   total_sleep   body_wt  gestation  predation  exposure  body_wt_log\n",
       "0          3.3  6654.000      645.0          3         5     8.802973\n",
       "1          8.3     1.000       42.0          3         1     0.000000\n",
       "2         12.5     3.385       60.0          1         1     1.219354\n",
       "3         16.5     0.920       25.0          5         2    -0.083382\n",
       "4          3.9  2547.000      624.0          3         5     7.842671"
      ]
     },
     "execution_count": 27,
     "metadata": {},
     "output_type": "execute_result"
    }
   ],
   "source": [
    "df.head()"
   ]
  },
  {
   "cell_type": "code",
   "execution_count": 28,
   "metadata": {},
   "outputs": [
    {
     "data": {
      "image/png": "[encoded data removed]",
      "text/plain": [
       "<Figure size 432x288 with 1 Axes>"
      ]
     },
     "metadata": {
      "needs_background": "light"
     },
     "output_type": "display_data"
    }
   ],
   "source": [
    "# plot the distribution of *body_wt* in species after log transformation\n",
    "sns.histplot(df['body_wt_log'], kde = True, bins = 30, color = 'pink');"
   ]
  },
  {
   "cell_type": "markdown",
   "metadata": {},
   "source": [
    "Now we have a normal distribution for our variable 'body_wt'."
   ]
  },
  {
   "cell_type": "code",
   "execution_count": 29,
   "metadata": {},
   "outputs": [
    {
     "data": {
      "image/png": "[encoded data removed]",
      "text/plain": [
       "<Figure size 432x288 with 1 Axes>"
      ]
     },
     "metadata": {
      "needs_background": "light"
     },
     "output_type": "display_data"
    }
   ],
   "source": [
    "# plot the distribution of *gestation* in species\n",
    "sns.histplot(df['gestation'], kde = True, bins = 15, color = 'black');"
   ]
  },
  {
   "cell_type": "markdown",
   "metadata": {},
   "source": [
    "For this variable 'gestation', we have a skewed right distribution."
   ]
  },
  {
   "cell_type": "code",
   "execution_count": 30,
   "metadata": {},
   "outputs": [
    {
     "data": {
      "image/png": "[encoded data removed]",
      "text/plain": [
       "<Figure size 432x288 with 1 Axes>"
      ]
     },
     "metadata": {
      "needs_background": "light"
     },
     "output_type": "display_data"
    }
   ],
   "source": [
    "# plot if there are outliers for *gestation*\n",
    "sns.boxplot(x = 'gestation', data = df);"
   ]
  },
  {
   "cell_type": "markdown",
   "metadata": {},
   "source": [
    "The box plot shows that 'gestation' does have outliers in it. We can make a log transformation to make the distribution normal."
   ]
  },
  {
   "cell_type": "code",
   "execution_count": 31,
   "metadata": {},
   "outputs": [
    {
     "name": "stderr",
     "output_type": "stream",
     "text": [
      "/tmp/ipykernel_193/732173392.py:2: SettingWithCopyWarning: \n",
      "A value is trying to be set on a copy of a slice from a DataFrame.\n",
      "Try using .loc[row_indexer,col_indexer] = value instead\n",
      "\n",
      "See the caveats in the documentation: https://pandas.pydata.org/pandas-docs/stable/user_guide/indexing.html#returning-a-view-versus-a-copy\n",
      "  df['gestation_log'] = np.log(df['gestation']);\n"
     ]
    }
   ],
   "source": [
    "# do the log transformation to the variable *gestation*\n",
    "df['gestation_log'] = np.log(df['gestation']);"
   ]
  },
  {
   "cell_type": "code",
   "execution_count": 32,
   "metadata": {},
   "outputs": [
    {
     "data": {
      "text/html": [
       "<div>\n",
       "<style scoped>\n",
       "    .dataframe tbody tr th:only-of-type {\n",
       "        vertical-align: middle;\n",
       "    }\n",
       "\n",
       "    .dataframe tbody tr th {\n",
       "        vertical-align: top;\n",
       "    }\n",
       "\n",
       "    .dataframe thead th {\n",
       "        text-align: right;\n",
       "    }\n",
       "</style>\n",
       "<table border=\"1\" class=\"dataframe\">\n",
       "  <thead>\n",
       "    <tr style=\"text-align: right;\">\n",
       "      <th></th>\n",
       "      <th>total_sleep</th>\n",
       "      <th>body_wt</th>\n",
       "      <th>gestation</th>\n",
       "      <th>predation</th>\n",
       "      <th>exposure</th>\n",
       "      <th>body_wt_log</th>\n",
       "      <th>gestation_log</th>\n",
       "    </tr>\n",
       "  </thead>\n",
       "  <tbody>\n",
       "    <tr>\n",
       "      <th>0</th>\n",
       "      <td>3.3</td>\n",
       "      <td>6654.000</td>\n",
       "      <td>645.0</td>\n",
       "      <td>3</td>\n",
       "      <td>5</td>\n",
       "      <td>8.802973</td>\n",
       "      <td>6.469250</td>\n",
       "    </tr>\n",
       "    <tr>\n",
       "      <th>1</th>\n",
       "      <td>8.3</td>\n",
       "      <td>1.000</td>\n",
       "      <td>42.0</td>\n",
       "      <td>3</td>\n",
       "      <td>1</td>\n",
       "      <td>0.000000</td>\n",
       "      <td>3.737670</td>\n",
       "    </tr>\n",
       "    <tr>\n",
       "      <th>2</th>\n",
       "      <td>12.5</td>\n",
       "      <td>3.385</td>\n",
       "      <td>60.0</td>\n",
       "      <td>1</td>\n",
       "      <td>1</td>\n",
       "      <td>1.219354</td>\n",
       "      <td>4.094345</td>\n",
       "    </tr>\n",
       "    <tr>\n",
       "      <th>3</th>\n",
       "      <td>16.5</td>\n",
       "      <td>0.920</td>\n",
       "      <td>25.0</td>\n",
       "      <td>5</td>\n",
       "      <td>2</td>\n",
       "      <td>-0.083382</td>\n",
       "      <td>3.218876</td>\n",
       "    </tr>\n",
       "    <tr>\n",
       "      <th>4</th>\n",
       "      <td>3.9</td>\n",
       "      <td>2547.000</td>\n",
       "      <td>624.0</td>\n",
       "      <td>3</td>\n",
       "      <td>5</td>\n",
       "      <td>7.842671</td>\n",
       "      <td>6.436150</td>\n",
       "    </tr>\n",
       "  </tbody>\n",
       "</table>\n",
       "</div>"
      ],
      "text/plain": [
       "   total_sleep   body_wt  gestation  predation  exposure  body_wt_log  \\\n",
       "0          3.3  6654.000      645.0          3         5     8.802973   \n",
       "1          8.3     1.000       42.0          3         1     0.000000   \n",
       "2         12.5     3.385       60.0          1         1     1.219354   \n",
       "3         16.5     0.920       25.0          5         2    -0.083382   \n",
       "4          3.9  2547.000      624.0          3         5     7.842671   \n",
       "\n",
       "   gestation_log  \n",
       "0       6.469250  \n",
       "1       3.737670  \n",
       "2       4.094345  \n",
       "3       3.218876  \n",
       "4       6.436150  "
      ]
     },
     "execution_count": 32,
     "metadata": {},
     "output_type": "execute_result"
    }
   ],
   "source": [
    "df.head()"
   ]
  },
  {
   "cell_type": "code",
   "execution_count": 33,
   "metadata": {},
   "outputs": [
    {
     "data": {
      "image/png": "[encoded data removed]",
      "text/plain": [
       "<Figure size 432x288 with 1 Axes>"
      ]
     },
     "metadata": {
      "needs_background": "light"
     },
     "output_type": "display_data"
    }
   ],
   "source": [
    "# plot the distribution of *gestation_log* in species after log transformation\n",
    "sns.histplot(df['gestation_log'], kde = True, bins = 30, color = 'blue');"
   ]
  },
  {
   "cell_type": "markdown",
   "metadata": {},
   "source": [
    "Now we have a normal distribution for our variable 'gestation'."
   ]
  },
  {
   "cell_type": "code",
   "execution_count": 34,
   "metadata": {},
   "outputs": [
    {
     "data": {
      "image/png": "[encoded data removed]",
      "text/plain": [
       "<Figure size 432x288 with 1 Axes>"
      ]
     },
     "metadata": {
      "needs_background": "light"
     },
     "output_type": "display_data"
    }
   ],
   "source": [
    "# plot the distribution of *predation* in species\n",
    "sns.histplot(dataset['predation'], kde = True, bins = 10, color = 'red');"
   ]
  },
  {
   "cell_type": "code",
   "execution_count": 35,
   "metadata": {},
   "outputs": [
    {
     "data": {
      "image/png": "[encoded data removed]",
      "text/plain": [
       "<Figure size 432x288 with 1 Axes>"
      ]
     },
     "metadata": {
      "needs_background": "light"
     },
     "output_type": "display_data"
    }
   ],
   "source": [
    "# plot if there are outliers for *predation*\n",
    "sns.boxplot(x = 'predation', data = df);"
   ]
  },
  {
   "cell_type": "markdown",
   "metadata": {},
   "source": [
    "From the diagram, we can see the boxlpot has no outlier for predation."
   ]
  },
  {
   "cell_type": "code",
   "execution_count": 36,
   "metadata": {},
   "outputs": [
    {
     "data": {
      "image/png": "[encoded data removed]",
      "text/plain": [
       "<Figure size 432x288 with 1 Axes>"
      ]
     },
     "metadata": {
      "needs_background": "light"
     },
     "output_type": "display_data"
    }
   ],
   "source": [
    "# plot the distribution of *exposure* in species\n",
    "sns.histplot(dataset['exposure'], kde = True, bins = 15, color = 'brown');"
   ]
  },
  {
   "cell_type": "code",
   "execution_count": 37,
   "metadata": {},
   "outputs": [
    {
     "data": {
      "image/png": "[encoded data removed]",
      "text/plain": [
       "<Figure size 432x288 with 1 Axes>"
      ]
     },
     "metadata": {
      "needs_background": "light"
     },
     "output_type": "display_data"
    }
   ],
   "source": [
    "# plot if there are outliers for *exposure*\n",
    "sns.boxplot(x = 'exposure', data = df);"
   ]
  },
  {
   "cell_type": "markdown",
   "metadata": {},
   "source": [
    "From the diagram, we can see that although most data centered at 1.0 & 2.0, exposure still deos not have any outlier in it."
   ]
  },
  {
   "cell_type": "markdown",
   "metadata": {},
   "source": [
    "Both variable 'predation' and variable 'exposure' show no outliers. Since they are categorical variables, we do not need to perform log transformations on them."
   ]
  },
  {
   "cell_type": "markdown",
   "metadata": {},
   "source": [
    "We will drop two original columns before log transformation and keep the two transformed columns in the dataset."
   ]
  },
  {
   "cell_type": "code",
   "execution_count": 38,
   "metadata": {},
   "outputs": [
    {
     "data": {
      "text/html": [
       "<div>\n",
       "<style scoped>\n",
       "    .dataframe tbody tr th:only-of-type {\n",
       "        vertical-align: middle;\n",
       "    }\n",
       "\n",
       "    .dataframe tbody tr th {\n",
       "        vertical-align: top;\n",
       "    }\n",
       "\n",
       "    .dataframe thead th {\n",
       "        text-align: right;\n",
       "    }\n",
       "</style>\n",
       "<table border=\"1\" class=\"dataframe\">\n",
       "  <thead>\n",
       "    <tr style=\"text-align: right;\">\n",
       "      <th></th>\n",
       "      <th>total_sleep</th>\n",
       "      <th>predation</th>\n",
       "      <th>exposure</th>\n",
       "      <th>body_wt_log</th>\n",
       "      <th>gestation_log</th>\n",
       "    </tr>\n",
       "  </thead>\n",
       "  <tbody>\n",
       "    <tr>\n",
       "      <th>0</th>\n",
       "      <td>3.3</td>\n",
       "      <td>3</td>\n",
       "      <td>5</td>\n",
       "      <td>8.802973</td>\n",
       "      <td>6.469250</td>\n",
       "    </tr>\n",
       "    <tr>\n",
       "      <th>1</th>\n",
       "      <td>8.3</td>\n",
       "      <td>3</td>\n",
       "      <td>1</td>\n",
       "      <td>0.000000</td>\n",
       "      <td>3.737670</td>\n",
       "    </tr>\n",
       "    <tr>\n",
       "      <th>2</th>\n",
       "      <td>12.5</td>\n",
       "      <td>1</td>\n",
       "      <td>1</td>\n",
       "      <td>1.219354</td>\n",
       "      <td>4.094345</td>\n",
       "    </tr>\n",
       "    <tr>\n",
       "      <th>3</th>\n",
       "      <td>16.5</td>\n",
       "      <td>5</td>\n",
       "      <td>2</td>\n",
       "      <td>-0.083382</td>\n",
       "      <td>3.218876</td>\n",
       "    </tr>\n",
       "    <tr>\n",
       "      <th>4</th>\n",
       "      <td>3.9</td>\n",
       "      <td>3</td>\n",
       "      <td>5</td>\n",
       "      <td>7.842671</td>\n",
       "      <td>6.436150</td>\n",
       "    </tr>\n",
       "  </tbody>\n",
       "</table>\n",
       "</div>"
      ],
      "text/plain": [
       "   total_sleep  predation  exposure  body_wt_log  gestation_log\n",
       "0          3.3          3         5     8.802973       6.469250\n",
       "1          8.3          3         1     0.000000       3.737670\n",
       "2         12.5          1         1     1.219354       4.094345\n",
       "3         16.5          5         2    -0.083382       3.218876\n",
       "4          3.9          3         5     7.842671       6.436150"
      ]
     },
     "execution_count": 38,
     "metadata": {},
     "output_type": "execute_result"
    }
   ],
   "source": [
    "df = df.reset_index(drop = True)\n",
    "df = df.drop(columns = ['body_wt', 'gestation'])\n",
    "df.head()"
   ]
  },
  {
   "cell_type": "markdown",
   "metadata": {},
   "source": [
    "## Bivariate analysis"
   ]
  },
  {
   "cell_type": "markdown",
   "metadata": {},
   "source": [
    "To examine relationships between independent variables, we would refer back to our scattermatrix analysis previosuly. By plotting a scattermatrix that visualizes bivariate relationships between different combinations of independent variables, we saw multicollinearlity between several variables and dropped the columns to fix the issue. Therefore, each independent variable is now uncorrelated with each other. \n",
    "We would then focus our analysis on the relationship between each indipendent variable and the dependent variable in the later part."
   ]
  },
  {
   "cell_type": "code",
   "execution_count": 39,
   "metadata": {},
   "outputs": [
    {
     "data": {
      "image/png": "[encoded data removed]",
      "text/plain": [
       "<Figure size 360x360 with 1 Axes>"
      ]
     },
     "metadata": {
      "needs_background": "light"
     },
     "output_type": "display_data"
    }
   ],
   "source": [
    "# plot scatterplot of *body_wt_log* and *total_sleep*\n",
    "sns.relplot(x=\"body_wt_log\", y=\"total_sleep\", data=df, color= 'pink');"
   ]
  },
  {
   "cell_type": "code",
   "execution_count": 40,
   "metadata": {},
   "outputs": [
    {
     "data": {
      "image/png": "[encoded data removed]",
      "text/plain": [
       "<Figure size 360x360 with 1 Axes>"
      ]
     },
     "metadata": {
      "needs_background": "light"
     },
     "output_type": "display_data"
    }
   ],
   "source": [
    "# plot scatterplot of *gestation_log* and *total_sleep*\n",
    "sns.relplot(x=\"gestation_log\", y=\"total_sleep\", data=df, color= 'blue');"
   ]
  },
  {
   "cell_type": "code",
   "execution_count": 41,
   "metadata": {},
   "outputs": [
    {
     "data": {
      "image/png": "[encoded data removed]",
      "text/plain": [
       "<Figure size 360x360 with 1 Axes>"
      ]
     },
     "metadata": {
      "needs_background": "light"
     },
     "output_type": "display_data"
    }
   ],
   "source": [
    "# plot scatterplot of *predation* and *total_sleep*\n",
    "sns.relplot(x=\"predation\", y=\"total_sleep\", data=df, color= 'red');"
   ]
  },
  {
   "cell_type": "markdown",
   "metadata": {},
   "source": [
    "Because the data from columns: 'predation' and 'exposure' are in a likert rating format, these two scatterplots do not take the form of a regular scatterplot. "
   ]
  },
  {
   "cell_type": "code",
   "execution_count": 42,
   "metadata": {},
   "outputs": [
    {
     "data": {
      "image/png": "[encoded data removed]",
      "text/plain": [
       "<Figure size 360x360 with 1 Axes>"
      ]
     },
     "metadata": {
      "needs_background": "light"
     },
     "output_type": "display_data"
    }
   ],
   "source": [
    "# plot scatterplot of *exposure* and *total_sleep*\n",
    "sns.relplot(x=\"exposure\", y=\"total_sleep\", data=df, color= 'brown');"
   ]
  },
  {
   "cell_type": "markdown",
   "metadata": {},
   "source": [
    "For each independent variable, it shows a linear correlation with the dependent variable. This should be a good news for us to further perform linear regression on the dataset."
   ]
  },
  {
   "cell_type": "markdown",
   "metadata": {},
   "source": [
    "As for temporality, since no time information is recorded, we don’t need to change or drop any misused time-related information. Our data is generally reasonable since it does not contain nonexistent values nor inconsistencies across tables. We've checked the distribution and outliners for each variable, log transform them if necessary, and checked the bivariant relationship between each independent variable and the dependent variable. Thus, we conclude our EDA analysis by examining the varying properties of our data. Now we have a more complete understanding of our data.  "
   ]
  },
  {
   "cell_type": "markdown",
   "metadata": {},
   "source": [
    "# Analysis"
   ]
  },
  {
   "cell_type": "code",
   "execution_count": 43,
   "metadata": {},
   "outputs": [
    {
     "data": {
      "image/png": "[encoded data removed]",
      "text/plain": [
       "<Figure size 1440x720 with 16 Axes>"
      ]
     },
     "metadata": {
      "needs_background": "light"
     },
     "output_type": "display_data"
    }
   ],
   "source": [
    "pd.plotting.scatter_matrix(df.iloc[:, 1:], figsize = (20, 10));"
   ]
  },
  {
   "cell_type": "markdown",
   "metadata": {},
   "source": [
    "## Feature combination - 15 models\n",
    "\n",
    "Now we will start analyzing our data. In order to see whether predation is the best predictor, we will examine the average coefficient, average p-values, and average contribution to Adjusted R-squared of predation versus other predictors across models with all possible feature combinations. \n",
    "\n",
    "Here are the four remaining variables we have after data cleaning. By looking at the scatter matrix, we could see that the body weight after log transformation is still correlated with gestation after log transformation. However, since we only have 4 remaining features, we could analyze all feature combinations and then decide which one of them to drop to avoid the problem of multicollinearity.\n",
    "\n",
    "- predation\n",
    "- exposure\n",
    "- body_wt_log\n",
    "- gestation_log"
   ]
  },
  {
   "cell_type": "markdown",
   "metadata": {},
   "source": [
    "We are going to have a total of 15 feature combinations as listed below:\n",
    "\n",
    "1. predation\n",
    "\n",
    "2. exposure\n",
    "\n",
    "3. body_wt_log\n",
    "\n",
    "4. gestation_log\n",
    "\n",
    "5. predation + exposure\n",
    "\n",
    "6. predation + body_wt_log\n",
    "\n",
    "7. predation + gestation_log\n",
    "\n",
    "8. predation + exposure + body_wt_log\n",
    "\n",
    "9. predation + body_wt_log + gestation_log\n",
    "\n",
    "10. predation + exposure + gestation_log\n",
    "\n",
    "11. predation + exposure + body_wt_log + gestation_log\n",
    "\n",
    "12. exposure + body_wt_log\n",
    "\n",
    "13. exposure + gestation_log\n",
    "\n",
    "14. exposure + body_wt_log + gestation_log\n",
    "\n",
    "15. body_wt_log + gestation_log"
   ]
  },
  {
   "cell_type": "code",
   "execution_count": 44,
   "metadata": {},
   "outputs": [
    {
     "data": {
      "text/html": [
       "<div>\n",
       "<style scoped>\n",
       "    .dataframe tbody tr th:only-of-type {\n",
       "        vertical-align: middle;\n",
       "    }\n",
       "\n",
       "    .dataframe tbody tr th {\n",
       "        vertical-align: top;\n",
       "    }\n",
       "\n",
       "    .dataframe thead th {\n",
       "        text-align: right;\n",
       "    }\n",
       "</style>\n",
       "<table border=\"1\" class=\"dataframe\">\n",
       "  <thead>\n",
       "    <tr style=\"text-align: right;\">\n",
       "      <th></th>\n",
       "      <th>total_sleep</th>\n",
       "      <th>predation</th>\n",
       "      <th>exposure</th>\n",
       "      <th>body_wt_log</th>\n",
       "      <th>gestation_log</th>\n",
       "    </tr>\n",
       "  </thead>\n",
       "  <tbody>\n",
       "    <tr>\n",
       "      <th>0</th>\n",
       "      <td>3.3</td>\n",
       "      <td>3</td>\n",
       "      <td>5</td>\n",
       "      <td>8.802973</td>\n",
       "      <td>6.469250</td>\n",
       "    </tr>\n",
       "    <tr>\n",
       "      <th>1</th>\n",
       "      <td>8.3</td>\n",
       "      <td>3</td>\n",
       "      <td>1</td>\n",
       "      <td>0.000000</td>\n",
       "      <td>3.737670</td>\n",
       "    </tr>\n",
       "    <tr>\n",
       "      <th>2</th>\n",
       "      <td>12.5</td>\n",
       "      <td>1</td>\n",
       "      <td>1</td>\n",
       "      <td>1.219354</td>\n",
       "      <td>4.094345</td>\n",
       "    </tr>\n",
       "    <tr>\n",
       "      <th>3</th>\n",
       "      <td>16.5</td>\n",
       "      <td>5</td>\n",
       "      <td>2</td>\n",
       "      <td>-0.083382</td>\n",
       "      <td>3.218876</td>\n",
       "    </tr>\n",
       "    <tr>\n",
       "      <th>4</th>\n",
       "      <td>3.9</td>\n",
       "      <td>3</td>\n",
       "      <td>5</td>\n",
       "      <td>7.842671</td>\n",
       "      <td>6.436150</td>\n",
       "    </tr>\n",
       "  </tbody>\n",
       "</table>\n",
       "</div>"
      ],
      "text/plain": [
       "   total_sleep  predation  exposure  body_wt_log  gestation_log\n",
       "0          3.3          3         5     8.802973       6.469250\n",
       "1          8.3          3         1     0.000000       3.737670\n",
       "2         12.5          1         1     1.219354       4.094345\n",
       "3         16.5          5         2    -0.083382       3.218876\n",
       "4          3.9          3         5     7.842671       6.436150"
      ]
     },
     "execution_count": 44,
     "metadata": {},
     "output_type": "execute_result"
    }
   ],
   "source": [
    "df.head()"
   ]
  },
  {
   "cell_type": "code",
   "execution_count": 45,
   "metadata": {},
   "outputs": [
    {
     "data": {
      "text/plain": [
       "(58, 5)"
      ]
     },
     "execution_count": 45,
     "metadata": {},
     "output_type": "execute_result"
    }
   ],
   "source": [
    "df.shape"
   ]
  },
  {
   "cell_type": "markdown",
   "metadata": {},
   "source": [
    "In order to compare the importance of the predictors by looking at their coefficients, we have to standardize them first. Since the dependent variable, total_sleep, does not need to be standardized as well, we first split the dataset into X with all the predictors and Y with only total_sleep."
   ]
  },
  {
   "cell_type": "code",
   "execution_count": 46,
   "metadata": {},
   "outputs": [],
   "source": [
    "X = df[['predation', 'exposure', 'body_wt_log', 'gestation_log']]\n",
    "Y = df['total_sleep']"
   ]
  },
  {
   "cell_type": "code",
   "execution_count": 47,
   "metadata": {},
   "outputs": [],
   "source": [
    "scaler = preprocessing.StandardScaler().fit(X)"
   ]
  },
  {
   "cell_type": "markdown",
   "metadata": {},
   "source": [
    "We are naming the standardized X variable X_scaled:"
   ]
  },
  {
   "cell_type": "code",
   "execution_count": 48,
   "metadata": {},
   "outputs": [],
   "source": [
    "X_scaled = scaler.transform(X)"
   ]
  },
  {
   "cell_type": "markdown",
   "metadata": {},
   "source": [
    "Then, we combine it with the total_sleep to have the overall standardized dataset."
   ]
  },
  {
   "cell_type": "code",
   "execution_count": 49,
   "metadata": {
    "scrolled": false
   },
   "outputs": [
    {
     "data": {
      "text/html": [
       "<div>\n",
       "<style scoped>\n",
       "    .dataframe tbody tr th:only-of-type {\n",
       "        vertical-align: middle;\n",
       "    }\n",
       "\n",
       "    .dataframe tbody tr th {\n",
       "        vertical-align: top;\n",
       "    }\n",
       "\n",
       "    .dataframe thead th {\n",
       "        text-align: right;\n",
       "    }\n",
       "</style>\n",
       "<table border=\"1\" class=\"dataframe\">\n",
       "  <thead>\n",
       "    <tr style=\"text-align: right;\">\n",
       "      <th></th>\n",
       "      <th>predation</th>\n",
       "      <th>exposure</th>\n",
       "      <th>body_wt_log</th>\n",
       "      <th>gestation_log</th>\n",
       "      <th>total_sleep</th>\n",
       "    </tr>\n",
       "  </thead>\n",
       "  <tbody>\n",
       "    <tr>\n",
       "      <th>0</th>\n",
       "      <td>0.141776</td>\n",
       "      <td>1.766805</td>\n",
       "      <td>2.497250</td>\n",
       "      <td>2.048661</td>\n",
       "      <td>3.3</td>\n",
       "    </tr>\n",
       "    <tr>\n",
       "      <th>1</th>\n",
       "      <td>0.141776</td>\n",
       "      <td>-0.860751</td>\n",
       "      <td>-0.371902</td>\n",
       "      <td>-0.685239</td>\n",
       "      <td>8.3</td>\n",
       "    </tr>\n",
       "    <tr>\n",
       "      <th>2</th>\n",
       "      <td>-1.228727</td>\n",
       "      <td>-0.860751</td>\n",
       "      <td>0.025522</td>\n",
       "      <td>-0.328261</td>\n",
       "      <td>12.5</td>\n",
       "    </tr>\n",
       "    <tr>\n",
       "      <th>3</th>\n",
       "      <td>1.512280</td>\n",
       "      <td>-0.203862</td>\n",
       "      <td>-0.399079</td>\n",
       "      <td>-1.204474</td>\n",
       "      <td>16.5</td>\n",
       "    </tr>\n",
       "    <tr>\n",
       "      <th>4</th>\n",
       "      <td>0.141776</td>\n",
       "      <td>1.766805</td>\n",
       "      <td>2.184259</td>\n",
       "      <td>2.015533</td>\n",
       "      <td>3.9</td>\n",
       "    </tr>\n",
       "  </tbody>\n",
       "</table>\n",
       "</div>"
      ],
      "text/plain": [
       "   predation  exposure  body_wt_log  gestation_log  total_sleep\n",
       "0   0.141776  1.766805     2.497250       2.048661          3.3\n",
       "1   0.141776 -0.860751    -0.371902      -0.685239          8.3\n",
       "2  -1.228727 -0.860751     0.025522      -0.328261         12.5\n",
       "3   1.512280 -0.203862    -0.399079      -1.204474         16.5\n",
       "4   0.141776  1.766805     2.184259       2.015533          3.9"
      ]
     },
     "execution_count": 49,
     "metadata": {},
     "output_type": "execute_result"
    }
   ],
   "source": [
    "scaled_df = pd.DataFrame(X_scaled, columns = ['predation', 'exposure', 'body_wt_log', 'gestation_log'])\n",
    "scaled_df['total_sleep'] = Y\n",
    "scaled_df.head()"
   ]
  },
  {
   "cell_type": "markdown",
   "metadata": {},
   "source": [
    "## First Approach: Coefficient & P-values"
   ]
  },
  {
   "cell_type": "markdown",
   "metadata": {},
   "source": [
    "Our first approach to analyze our data is to do 15 linear regression models based on all the feature combinations. Then, we will check on the coefficients and the p-values of each variable across all models. The coefficients represent how much the change in that predictos would lead to the cause in total_sleep. Since the predictors are standardized, these coefficient between predictors could now be compared. Using 0.05 as the boundary, the p-values show the confidence of having a non-zero coefficient as reported by the model. Therefore, having a large absolute value in coefficient and a low p-value give us evidence to say the predictor is significant in prediction."
   ]
  },
  {
   "cell_type": "markdown",
   "metadata": {},
   "source": [
    "To address the problem of having a small dataset, we will conduct bootstrapping for a total of 100 iterations in order to get the averaged statistics which are more reliable then the statistics calculated based on the original dataset alone."
   ]
  },
  {
   "cell_type": "code",
   "execution_count": 50,
   "metadata": {
    "scrolled": true
   },
   "outputs": [
    {
     "data": {
      "text/plain": [
       "array([16, 28, 42, 32,  5, 43, 33,  4,  8,  2, 13,  3, 13, 33, 43, 12,  2,\n",
       "       14, 24, 42, 11, 32,  9, 36,  5, 22, 30, 27, 41, 27,  9, 55, 31,  8,\n",
       "       38, 12, 50, 20, 24, 57, 40, 27,  6,  0, 47, 51, 29, 20,  6,  2, 17,\n",
       "       40, 11,  4, 38, 41, 16,  9])"
      ]
     },
     "execution_count": 50,
     "metadata": {},
     "output_type": "execute_result"
    }
   ],
   "source": [
    "idx_range = scaled_df.shape[0]\n",
    "np.random.choice(idx_range, idx_range)"
   ]
  },
  {
   "cell_type": "code",
   "execution_count": 51,
   "metadata": {},
   "outputs": [],
   "source": [
    "resample_idx = []\n",
    "idx_range = scaled_df.shape[0]\n",
    "for i in range(100):\n",
    "    idx = np.random.choice(idx_range, idx_range)\n",
    "    resample_idx.append(idx)"
   ]
  },
  {
   "cell_type": "markdown",
   "metadata": {},
   "source": [
    "We are going to conduct linear regressions and store the resulting coefficients and p-values of the model in this format:  mod1_coef, mod1_pval.\n",
    " \n",
    "#### 1. predation"
   ]
  },
  {
   "cell_type": "code",
   "execution_count": 52,
   "metadata": {},
   "outputs": [
    {
     "data": {
      "text/plain": [
       "(array([-1.80866027]), array([0.03079415]))"
      ]
     },
     "execution_count": 52,
     "metadata": {},
     "output_type": "execute_result"
    }
   ],
   "source": [
    "mod1_coef = []\n",
    "mod1_pval = []\n",
    "for idx in resample_idx:\n",
    "    data = scaled_df.iloc[idx]\n",
    "    outcome, predictors = patsy.dmatrices('total_sleep ~ predation', data)\n",
    "    model = sm.OLS(outcome, predictors)\n",
    "    results = model.fit()\n",
    "    #print(results.summary())\n",
    "    \n",
    "    mod1_coef.append(results.params[1:])\n",
    "    mod1_pval.append(results.pvalues[1:])\n",
    "\n",
    "np.mean(mod1_coef, axis = 0) , np.mean(mod1_pval, axis = 0)"
   ]
  },
  {
   "cell_type": "markdown",
   "metadata": {},
   "source": [
    "#### 2. exposure"
   ]
  },
  {
   "cell_type": "code",
   "execution_count": 53,
   "metadata": {},
   "outputs": [
    {
     "data": {
      "text/plain": [
       "(array([-2.95476308]), array([4.14521932e-05]))"
      ]
     },
     "execution_count": 53,
     "metadata": {},
     "output_type": "execute_result"
    }
   ],
   "source": [
    "mod2_coef = []\n",
    "mod2_pval = []\n",
    "for idx in resample_idx:\n",
    "    data = scaled_df.iloc[idx]\n",
    "    outcome, predictors = patsy.dmatrices('total_sleep ~ exposure', data)\n",
    "    model = sm.OLS(outcome, predictors)\n",
    "    results = model.fit()\n",
    "    #print(results.summary())\n",
    "    \n",
    "    mod2_coef.append(results.params[1:])\n",
    "    mod2_pval.append(results.pvalues[1:])\n",
    "\n",
    "np.mean(mod2_coef, axis = 0) , np.mean(mod2_pval, axis = 0)"
   ]
  },
  {
   "cell_type": "markdown",
   "metadata": {},
   "source": [
    "#### 3. body_wt_log"
   ]
  },
  {
   "cell_type": "code",
   "execution_count": 54,
   "metadata": {},
   "outputs": [
    {
     "data": {
      "text/plain": [
       "(array([-2.43188784]), array([0.00123057]))"
      ]
     },
     "execution_count": 54,
     "metadata": {},
     "output_type": "execute_result"
    }
   ],
   "source": [
    "mod3_coef = []\n",
    "mod3_pval = []\n",
    "for idx in resample_idx:\n",
    "    data = scaled_df.iloc[idx]\n",
    "    outcome, predictors = patsy.dmatrices('total_sleep ~ body_wt_log', data)\n",
    "    model = sm.OLS(outcome, predictors)\n",
    "    results = model.fit()\n",
    "    #print(results.summary())\n",
    "    \n",
    "    mod3_coef.append(results.params[1:])\n",
    "    mod3_pval.append(results.pvalues[1:])\n",
    "\n",
    "np.mean(mod3_coef, axis = 0) , np.mean(mod3_pval, axis = 0)"
   ]
  },
  {
   "cell_type": "markdown",
   "metadata": {},
   "source": [
    "#### 4. gestation_log"
   ]
  },
  {
   "cell_type": "code",
   "execution_count": 55,
   "metadata": {},
   "outputs": [
    {
     "data": {
      "text/plain": [
       "(array([-3.04375287]), array([3.50740149e-06]))"
      ]
     },
     "execution_count": 55,
     "metadata": {},
     "output_type": "execute_result"
    }
   ],
   "source": [
    "mod4_coef = []\n",
    "mod4_pval = []\n",
    "for idx in resample_idx:\n",
    "    data = scaled_df.iloc[idx]\n",
    "    outcome, predictors = patsy.dmatrices('total_sleep ~ gestation_log', data)\n",
    "    model = sm.OLS(outcome, predictors)\n",
    "    results = model.fit()\n",
    "    #print(results.summary())\n",
    "    \n",
    "    mod4_coef.append(results.params[1:])\n",
    "    mod4_pval.append(results.pvalues[1:])\n",
    "\n",
    "np.mean(mod4_coef, axis = 0) , np.mean(mod4_pval, axis = 0)"
   ]
  },
  {
   "cell_type": "markdown",
   "metadata": {},
   "source": [
    "#### 5. predation + exposure"
   ]
  },
  {
   "cell_type": "code",
   "execution_count": 56,
   "metadata": {},
   "outputs": [
    {
     "data": {
      "text/plain": [
       "(array([-0.07492101, -2.90902071]), array([4.77738439e-01, 4.67036279e-04]))"
      ]
     },
     "execution_count": 56,
     "metadata": {},
     "output_type": "execute_result"
    }
   ],
   "source": [
    "mod5_coef = []\n",
    "mod5_pval = []\n",
    "for idx in resample_idx:\n",
    "    data = scaled_df.iloc[idx]\n",
    "    outcome, predictors = patsy.dmatrices('total_sleep ~ predation + exposure', data)\n",
    "    model = sm.OLS(outcome, predictors)\n",
    "    results = model.fit()\n",
    "    #print(results.summary())\n",
    "    \n",
    "    mod5_coef.append(results.params[1:])\n",
    "    mod5_pval.append(results.pvalues[1:])\n",
    "\n",
    "np.mean(mod5_coef, axis = 0) , np.mean(mod5_pval, axis = 0)"
   ]
  },
  {
   "cell_type": "markdown",
   "metadata": {},
   "source": [
    "#### 6. predation + body_wt_log"
   ]
  },
  {
   "cell_type": "code",
   "execution_count": 57,
   "metadata": {},
   "outputs": [
    {
     "data": {
      "text/plain": [
       "(array([-1.66545501, -2.34895365]), array([0.01501687, 0.00030979]))"
      ]
     },
     "execution_count": 57,
     "metadata": {},
     "output_type": "execute_result"
    }
   ],
   "source": [
    "mod6_coef = []\n",
    "mod6_pval = []\n",
    "for idx in resample_idx:\n",
    "    data = scaled_df.iloc[idx]\n",
    "    outcome, predictors = patsy.dmatrices('total_sleep ~ predation + body_wt_log', data)\n",
    "    model = sm.OLS(outcome, predictors)\n",
    "    results = model.fit()\n",
    "    #print(results.summary())\n",
    "    \n",
    "    mod6_coef.append(results.params[1:])\n",
    "    mod6_pval.append(results.pvalues[1:])\n",
    "\n",
    "np.mean(mod6_coef, axis = 0) , np.mean(mod6_pval, axis = 0)"
   ]
  },
  {
   "cell_type": "markdown",
   "metadata": {},
   "source": [
    "#### 7. predation + gestation_log"
   ]
  },
  {
   "cell_type": "code",
   "execution_count": 58,
   "metadata": {},
   "outputs": [
    {
     "data": {
      "text/plain": [
       "(array([-1.57079719, -2.90213059]), array([8.01902329e-03, 3.05219572e-06]))"
      ]
     },
     "execution_count": 58,
     "metadata": {},
     "output_type": "execute_result"
    }
   ],
   "source": [
    "mod7_coef = []\n",
    "mod7_pval = []\n",
    "for idx in resample_idx:\n",
    "    data = scaled_df.iloc[idx]\n",
    "    outcome, predictors = patsy.dmatrices('total_sleep ~ predation + gestation_log', data)\n",
    "    model = sm.OLS(outcome, predictors)\n",
    "    results = model.fit()\n",
    "    #print(results.summary())\n",
    "    \n",
    "    mod7_coef.append(results.params[1:])\n",
    "    mod7_pval.append(results.pvalues[1:])\n",
    "\n",
    "np.mean(mod7_coef, axis = 0) , np.mean(mod7_pval, axis = 0)"
   ]
  },
  {
   "cell_type": "markdown",
   "metadata": {},
   "source": [
    "#### 8. predation + exposure + body_wt_log"
   ]
  },
  {
   "cell_type": "code",
   "execution_count": 59,
   "metadata": {},
   "outputs": [
    {
     "data": {
      "text/plain": [
       "(array([-0.77212685, -1.59110393, -1.4083894 ]),\n",
       " array([0.31369996, 0.1649826 , 0.14680454]))"
      ]
     },
     "execution_count": 59,
     "metadata": {},
     "output_type": "execute_result"
    }
   ],
   "source": [
    "mod8_coef = []\n",
    "mod8_pval = []\n",
    "for idx in resample_idx:\n",
    "    data = scaled_df.iloc[idx]\n",
    "    outcome, predictors = patsy.dmatrices('total_sleep ~ predation + exposure + body_wt_log', data)\n",
    "    model = sm.OLS(outcome, predictors)\n",
    "    results = model.fit()\n",
    "    #print(results.summary())\n",
    "    \n",
    "    mod8_coef.append(results.params[1:])\n",
    "    mod8_pval.append(results.pvalues[1:])\n",
    "\n",
    "np.mean(mod8_coef, axis = 0) , np.mean(mod8_pval, axis = 0)"
   ]
  },
  {
   "cell_type": "markdown",
   "metadata": {},
   "source": [
    "#### 9. predation + body_wt_log + gestation_log"
   ]
  },
  {
   "cell_type": "code",
   "execution_count": 60,
   "metadata": {},
   "outputs": [
    {
     "data": {
      "text/plain": [
       "(array([-1.55436048, -0.67324499, -2.40913149]),\n",
       " array([0.00839314, 0.36313289, 0.0184064 ]))"
      ]
     },
     "execution_count": 60,
     "metadata": {},
     "output_type": "execute_result"
    }
   ],
   "source": [
    "mod9_coef = []\n",
    "mod9_pval = []\n",
    "for idx in resample_idx:\n",
    "    data = scaled_df.iloc[idx]\n",
    "    outcome, predictors = patsy.dmatrices('total_sleep ~ predation + body_wt_log + gestation_log', data)\n",
    "    model = sm.OLS(outcome, predictors)\n",
    "    results = model.fit()\n",
    "    #print(results.summary())\n",
    "    \n",
    "    mod9_coef.append(results.params[1:])\n",
    "    mod9_pval.append(results.pvalues[1:])\n",
    "\n",
    "np.mean(mod9_coef, axis = 0) , np.mean(mod9_pval, axis = 0)"
   ]
  },
  {
   "cell_type": "markdown",
   "metadata": {},
   "source": [
    "#### 10. predation + exposure + gestation_log"
   ]
  },
  {
   "cell_type": "code",
   "execution_count": 61,
   "metadata": {},
   "outputs": [
    {
     "data": {
      "text/plain": [
       "(array([-1.2222866 , -0.61683031, -2.54684544]),\n",
       " array([0.13504468, 0.41445095, 0.00710487]))"
      ]
     },
     "execution_count": 61,
     "metadata": {},
     "output_type": "execute_result"
    }
   ],
   "source": [
    "mod10_coef = []\n",
    "mod10_pval = []\n",
    "for idx in resample_idx:\n",
    "    data = scaled_df.iloc[idx]\n",
    "    outcome, predictors = patsy.dmatrices('total_sleep ~ predation + exposure + gestation_log', data)\n",
    "    model = sm.OLS(outcome, predictors)\n",
    "    results = model.fit()\n",
    "    #print(results.summary())\n",
    "    \n",
    "    mod10_coef.append(results.params[1:])\n",
    "    mod10_pval.append(results.pvalues[1:])\n",
    "\n",
    "np.mean(mod10_coef, axis = 0) , np.mean(mod10_pval, axis = 0)"
   ]
  },
  {
   "cell_type": "markdown",
   "metadata": {},
   "source": [
    "#### 11. predation + exposure + body_wt_log + gestation_log"
   ]
  },
  {
   "cell_type": "code",
   "execution_count": 62,
   "metadata": {},
   "outputs": [
    {
     "data": {
      "text/plain": [
       "(array([-1.3818166 , -0.29762741, -0.55062974, -2.32240394]),\n",
       " array([0.11626628, 0.48481634, 0.39673457, 0.0315318 ]))"
      ]
     },
     "execution_count": 62,
     "metadata": {},
     "output_type": "execute_result"
    }
   ],
   "source": [
    "mod11_coef = []\n",
    "mod11_pval = []\n",
    "for idx in resample_idx:\n",
    "    data = scaled_df.iloc[idx]\n",
    "    outcome, predictors = patsy.dmatrices('total_sleep ~ predation + exposure + body_wt_log + gestation_log', data)\n",
    "    model = sm.OLS(outcome, predictors)\n",
    "    results = model.fit()\n",
    "    #print(results.summary())\n",
    "    \n",
    "    mod11_coef.append(results.params[1:])\n",
    "    mod11_pval.append(results.pvalues[1:])\n",
    "\n",
    "np.mean(mod11_coef, axis = 0) , np.mean(mod11_pval, axis = 0)"
   ]
  },
  {
   "cell_type": "markdown",
   "metadata": {},
   "source": [
    "#### 12. exposure + body_wt_log"
   ]
  },
  {
   "cell_type": "code",
   "execution_count": 63,
   "metadata": {},
   "outputs": [
    {
     "data": {
      "text/plain": [
       "(array([-2.29582559, -1.02776905]), array([0.00560762, 0.20899736]))"
      ]
     },
     "execution_count": 63,
     "metadata": {},
     "output_type": "execute_result"
    }
   ],
   "source": [
    "mod12_coef = []\n",
    "mod12_pval = []\n",
    "for idx in resample_idx:\n",
    "    data = scaled_df.iloc[idx]\n",
    "    outcome, predictors = patsy.dmatrices('total_sleep ~ exposure + body_wt_log', data)\n",
    "    model = sm.OLS(outcome, predictors)\n",
    "    results = model.fit()\n",
    "    #print(results.summary())\n",
    "    \n",
    "    mod12_coef.append(results.params[1:])\n",
    "    mod12_pval.append(results.pvalues[1:])\n",
    "\n",
    "np.mean(mod12_coef, axis = 0) , np.mean(mod12_pval, axis = 0)"
   ]
  },
  {
   "cell_type": "markdown",
   "metadata": {},
   "source": [
    "#### 13. exposure + gestation_log"
   ]
  },
  {
   "cell_type": "code",
   "execution_count": 64,
   "metadata": {},
   "outputs": [
    {
     "data": {
      "text/plain": [
       "(array([-1.70401206, -1.97912326]), array([0.03045265, 0.01762036]))"
      ]
     },
     "execution_count": 64,
     "metadata": {},
     "output_type": "execute_result"
    }
   ],
   "source": [
    "mod13_coef = []\n",
    "mod13_pval = []\n",
    "for idx in resample_idx:\n",
    "    data = scaled_df.iloc[idx]\n",
    "    outcome, predictors = patsy.dmatrices('total_sleep ~ exposure + gestation_log', data)\n",
    "    model = sm.OLS(outcome, predictors)\n",
    "    results = model.fit()\n",
    "    #print(results.summary())\n",
    "    \n",
    "    mod13_coef.append(results.params[1:])\n",
    "    mod13_pval.append(results.pvalues[1:])\n",
    "\n",
    "np.mean(mod13_coef, axis = 0) , np.mean(mod13_pval, axis = 0)"
   ]
  },
  {
   "cell_type": "markdown",
   "metadata": {},
   "source": [
    "#### 14. exposure + body_wt_log + gestation_log"
   ]
  },
  {
   "cell_type": "code",
   "execution_count": 65,
   "metadata": {},
   "outputs": [
    {
     "data": {
      "text/plain": [
       "(array([-1.68281798, -0.04635679, -1.94114251]),\n",
       " array([0.04481732, 0.39967855, 0.06160679]))"
      ]
     },
     "execution_count": 65,
     "metadata": {},
     "output_type": "execute_result"
    }
   ],
   "source": [
    "mod14_coef = []\n",
    "mod14_pval = []\n",
    "for idx in resample_idx:\n",
    "    data = scaled_df.iloc[idx]\n",
    "    outcome, predictors = patsy.dmatrices('total_sleep ~ exposure + body_wt_log + gestation_log', data)\n",
    "    model = sm.OLS(outcome, predictors)\n",
    "    results = model.fit()\n",
    "    #print(results.summary())\n",
    "    \n",
    "    mod14_coef.append(results.params[1:])\n",
    "    mod14_pval.append(results.pvalues[1:])\n",
    "\n",
    "np.mean(mod14_coef, axis = 0) , np.mean(mod14_pval, axis = 0)"
   ]
  },
  {
   "cell_type": "markdown",
   "metadata": {},
   "source": [
    "#### 15. body_wt_log + gestation_log"
   ]
  },
  {
   "cell_type": "code",
   "execution_count": 66,
   "metadata": {},
   "outputs": [
    {
     "data": {
      "text/plain": [
       "(array([-0.66455264, -2.54448448]), array([0.36803991, 0.01671841]))"
      ]
     },
     "execution_count": 66,
     "metadata": {},
     "output_type": "execute_result"
    }
   ],
   "source": [
    "mod15_coef = []\n",
    "mod15_pval = []\n",
    "for idx in resample_idx:\n",
    "    data = scaled_df.iloc[idx]\n",
    "    outcome, predictors = patsy.dmatrices('total_sleep ~ body_wt_log + gestation_log', data)\n",
    "    model = sm.OLS(outcome, predictors)\n",
    "    results = model.fit()\n",
    "    #print(results.summary())\n",
    "    \n",
    "    mod15_coef.append(results.params[1:])\n",
    "    mod15_pval.append(results.pvalues[1:])\n",
    "\n",
    "np.mean(mod15_coef, axis = 0) , np.mean(mod15_pval, axis = 0)"
   ]
  },
  {
   "cell_type": "markdown",
   "metadata": {},
   "source": [
    "Although body_wt_log has a p-value lower than 0.05 on its own (model 3), all the models that contain gestation_log have p-values that rise above 0.05 while the absolute value of the coefficients fall. At the same time, the p-values of gestation_log remain under 0.05 with larger absolute value of coefficients compared to body_wt_log. Based on this observation, we decide to drop body_wt_log instead of gestation_log to solve the problem of multicollinearity. \n",
    "\n",
    "After deleting body_wt_log from our predictors, we are left with 7 models:\n",
    "\n",
    "1. predation\n",
    "\n",
    "\n",
    "2. exposure\n",
    "\n",
    "\n",
    "4. gestation_log\n",
    "\n",
    "\n",
    "5. predation + exposure\n",
    "\n",
    "\n",
    "7. predation + gestation_log\n",
    "\n",
    "\n",
    "10. predation + exposure + gestation_log\n",
    "\n",
    "\n",
    "13. exposure + gestation_log\n",
    "\n",
    "Whereas the related model for each three variables are:\n",
    "\n",
    "- Predation: [1, 5, 7, 10]\n",
    "- Exposure: [2, 5, 10, 13]\n",
    "- Gestation_log: [4, 7, 10, 13]\n",
    "\n",
    "Then we extract the data for predation, exposure, and gestation from the related models and calculate the average coefficients and p-values for each. \n"
   ]
  },
  {
   "cell_type": "code",
   "execution_count": 67,
   "metadata": {},
   "outputs": [
    {
     "data": {
      "text/plain": [
       "(-1.1691662656813213, 0.16289907118897076)"
      ]
     },
     "execution_count": 67,
     "metadata": {},
     "output_type": "execute_result"
    }
   ],
   "source": [
    "predation_coef = np.concatenate(([x[0] for x in mod1_coef], \n",
    "                                 [x[0] for x in mod5_coef],\n",
    "                                 [x[0] for x in mod7_coef],\n",
    "                                 [x[0] for x in mod10_coef]), axis = None)\n",
    "predation_pval = np.concatenate(([x[0] for x in mod1_pval], \n",
    "                                 [x[0] for x in mod5_pval],\n",
    "                                 [x[0] for x in mod7_pval],\n",
    "                                 [x[0] for x in mod10_pval]), axis = None)\n",
    "np.mean(predation_coef), np.mean(predation_pval)"
   ]
  },
  {
   "cell_type": "code",
   "execution_count": 68,
   "metadata": {},
   "outputs": [
    {
     "data": {
      "text/plain": [
       "(-2.0461565416898924, 0.11135302195190869)"
      ]
     },
     "execution_count": 68,
     "metadata": {},
     "output_type": "execute_result"
    }
   ],
   "source": [
    "exposure_coef = np.concatenate(([x[0] for x in mod2_coef], \n",
    "                                [x[1] for x in mod5_coef],\n",
    "                                [x[1] for x in mod10_coef],\n",
    "                                [x[0] for x in mod13_coef]), axis = None)\n",
    "exposure_pval = np.concatenate(([x[0] for x in mod2_pval], \n",
    "                                [x[1] for x in mod5_pval],\n",
    "                                [x[1] for x in mod10_pval],\n",
    "                                [x[0] for x in mod13_pval]), axis = None)\n",
    "np.mean(exposure_coef), np.mean(exposure_pval)"
   ]
  },
  {
   "cell_type": "code",
   "execution_count": 69,
   "metadata": {},
   "outputs": [
    {
     "data": {
      "text/plain": [
       "(-2.6179630408515164, 0.0061829464308617256)"
      ]
     },
     "execution_count": 69,
     "metadata": {},
     "output_type": "execute_result"
    }
   ],
   "source": [
    "gestation_coef = np.concatenate(([x[0] for x in mod4_coef], \n",
    "                                 [x[1] for x in mod7_coef],\n",
    "                                 [x[2] for x in mod10_coef],\n",
    "                                 [x[1] for x in mod13_coef]), axis = None)\n",
    "gestation_pval = np.concatenate(([x[0] for x in mod4_pval], \n",
    "                                 [x[1] for x in mod7_pval],\n",
    "                                 [x[2] for x in mod10_pval],\n",
    "                                 [x[1] for x in mod13_pval]), axis = None)\n",
    "np.mean(gestation_coef), np.mean(gestation_pval)"
   ]
  },
  {
   "cell_type": "markdown",
   "metadata": {},
   "source": [
    "We now have the average coefficients and p-values for the three predictors for all 7 models over 100 iterations.\n",
    "\n",
    "Based on the result, we could see that predation has the highest average p-value which also shows us the potential insignificance of predation. It also has the smallest absolute value for coefficient. The two statistics suggest that we don’t have sufficient evidence to tell that predation is the strongest predictor, and our hypothesis is incorrect.\n",
    "\n"
   ]
  },
  {
   "cell_type": "markdown",
   "metadata": {},
   "source": [
    "### Second Approach - Adjusted $R^2$"
   ]
  },
  {
   "cell_type": "markdown",
   "metadata": {},
   "source": [
    "To further validate our result, we are going to use Adjusted R-squared for our additional approach. We are using Adjusted R-squared because it describes how much variance is explained by the model based on the number of predictors we have. Therefore, if it is not changing, we can conclude that the newly added predictor is not useful.\n",
    "\n",
    "For this approach, we are using the original dataset and retrieve the Adjusted R-squared for all 7 models left after removing body_wt_log. Then, for each predictor, we calculate the sum of all deviance from the original Adjusted R-squared to the new Adjusted R-squared after the predictor comes in. "
   ]
  },
  {
   "cell_type": "code",
   "execution_count": 70,
   "metadata": {},
   "outputs": [
    {
     "data": {
      "text/html": [
       "<div>\n",
       "<style scoped>\n",
       "    .dataframe tbody tr th:only-of-type {\n",
       "        vertical-align: middle;\n",
       "    }\n",
       "\n",
       "    .dataframe tbody tr th {\n",
       "        vertical-align: top;\n",
       "    }\n",
       "\n",
       "    .dataframe thead th {\n",
       "        text-align: right;\n",
       "    }\n",
       "</style>\n",
       "<table border=\"1\" class=\"dataframe\">\n",
       "  <thead>\n",
       "    <tr style=\"text-align: right;\">\n",
       "      <th></th>\n",
       "      <th>predation</th>\n",
       "      <th>exposure</th>\n",
       "      <th>body_wt_log</th>\n",
       "      <th>gestation_log</th>\n",
       "      <th>total_sleep</th>\n",
       "    </tr>\n",
       "  </thead>\n",
       "  <tbody>\n",
       "    <tr>\n",
       "      <th>0</th>\n",
       "      <td>0.141776</td>\n",
       "      <td>1.766805</td>\n",
       "      <td>2.497250</td>\n",
       "      <td>2.048661</td>\n",
       "      <td>3.3</td>\n",
       "    </tr>\n",
       "    <tr>\n",
       "      <th>1</th>\n",
       "      <td>0.141776</td>\n",
       "      <td>-0.860751</td>\n",
       "      <td>-0.371902</td>\n",
       "      <td>-0.685239</td>\n",
       "      <td>8.3</td>\n",
       "    </tr>\n",
       "    <tr>\n",
       "      <th>2</th>\n",
       "      <td>-1.228727</td>\n",
       "      <td>-0.860751</td>\n",
       "      <td>0.025522</td>\n",
       "      <td>-0.328261</td>\n",
       "      <td>12.5</td>\n",
       "    </tr>\n",
       "    <tr>\n",
       "      <th>3</th>\n",
       "      <td>1.512280</td>\n",
       "      <td>-0.203862</td>\n",
       "      <td>-0.399079</td>\n",
       "      <td>-1.204474</td>\n",
       "      <td>16.5</td>\n",
       "    </tr>\n",
       "    <tr>\n",
       "      <th>4</th>\n",
       "      <td>0.141776</td>\n",
       "      <td>1.766805</td>\n",
       "      <td>2.184259</td>\n",
       "      <td>2.015533</td>\n",
       "      <td>3.9</td>\n",
       "    </tr>\n",
       "  </tbody>\n",
       "</table>\n",
       "</div>"
      ],
      "text/plain": [
       "   predation  exposure  body_wt_log  gestation_log  total_sleep\n",
       "0   0.141776  1.766805     2.497250       2.048661          3.3\n",
       "1   0.141776 -0.860751    -0.371902      -0.685239          8.3\n",
       "2  -1.228727 -0.860751     0.025522      -0.328261         12.5\n",
       "3   1.512280 -0.203862    -0.399079      -1.204474         16.5\n",
       "4   0.141776  1.766805     2.184259       2.015533          3.9"
      ]
     },
     "execution_count": 70,
     "metadata": {},
     "output_type": "execute_result"
    }
   ],
   "source": [
    "scaled_df.head()"
   ]
  },
  {
   "cell_type": "markdown",
   "metadata": {},
   "source": [
    "1. predation\n",
    "2. exposure\n",
    "3. gestation\n",
    "4. predation + exposure\n",
    "5. predation + gestation\n",
    "6. exposure + gestation\n",
    "7. predation + exposure + gestation"
   ]
  },
  {
   "cell_type": "code",
   "execution_count": 71,
   "metadata": {},
   "outputs": [],
   "source": [
    "# predation\n",
    "outcome, predictors = patsy.dmatrices('total_sleep ~ predation', scaled_df)\n",
    "model = sm.OLS(outcome, predictors)\n",
    "results = model.fit()\n",
    "r_p = results.rsquared_adj\n",
    "\n",
    "# exposure\n",
    "outcome, predictors = patsy.dmatrices('total_sleep ~ exposure', scaled_df)\n",
    "model = sm.OLS(outcome, predictors)\n",
    "results = model.fit()\n",
    "r_e = results.rsquared_adj\n",
    "\n",
    "# gestation\n",
    "outcome, predictors = patsy.dmatrices('total_sleep ~ gestation_log', scaled_df)\n",
    "model = sm.OLS(outcome, predictors)\n",
    "results = model.fit()\n",
    "r_g = results.rsquared_adj\n",
    "\n",
    "# predation + exposure\n",
    "outcome, predictors = patsy.dmatrices('total_sleep ~ predation + exposure', scaled_df)\n",
    "model = sm.OLS(outcome, predictors)\n",
    "results = model.fit()\n",
    "r_pe = results.rsquared_adj\n",
    "\n",
    "# predation + gestation\n",
    "outcome, predictors = patsy.dmatrices('total_sleep ~ predation + gestation_log', scaled_df)\n",
    "model = sm.OLS(outcome, predictors)\n",
    "results = model.fit()\n",
    "r_pg = results.rsquared_adj\n",
    "\n",
    "# exposure + gestation\n",
    "outcome, predictors = patsy.dmatrices('total_sleep ~ exposure + gestation_log', scaled_df)\n",
    "model = sm.OLS(outcome, predictors)\n",
    "results = model.fit()\n",
    "r_eg = results.rsquared_adj\n",
    "\n",
    "# predation + exposure + gestation\n",
    "outcome, predictors = patsy.dmatrices('total_sleep ~ predation + exposure + gestation_log', scaled_df)\n",
    "model = sm.OLS(outcome, predictors)\n",
    "results = model.fit()\n",
    "r_peg = results.rsquared_adj\n"
   ]
  },
  {
   "cell_type": "markdown",
   "metadata": {},
   "source": [
    "For each predictor, it could be added to three models to become a new model. Then, we calculate the mean Adjusted R-squared increases to examine how significant each predictor is, and store them into predation_r, exposure_r, and gestation_r. "
   ]
  },
  {
   "cell_type": "markdown",
   "metadata": {},
   "source": [
    "**Predation:**\n",
    "- exposure & predation\n",
    "- gestation_log & predation\n",
    "- exposure + gestation_log & predation"
   ]
  },
  {
   "cell_type": "code",
   "execution_count": 72,
   "metadata": {},
   "outputs": [
    {
     "data": {
      "text/plain": [
       "0.041582880542039735"
      ]
     },
     "execution_count": 72,
     "metadata": {},
     "output_type": "execute_result"
    }
   ],
   "source": [
    "predation_r = np.array([(r_pe - r_e), (r_pg - r_g), (r_peg - r_eg)])\n",
    "predation_rmean = np.mean(predation_r)\n",
    "predation_rmean"
   ]
  },
  {
   "cell_type": "markdown",
   "metadata": {},
   "source": [
    "**Exposure:**\n",
    "- predation & exposure\n",
    "- gestation_log & exposure\n",
    "- predation + gestation_log & exposure"
   ]
  },
  {
   "cell_type": "code",
   "execution_count": 73,
   "metadata": {},
   "outputs": [
    {
     "data": {
      "text/plain": [
       "0.20424775417426336"
      ]
     },
     "execution_count": 73,
     "metadata": {},
     "output_type": "execute_result"
    }
   ],
   "source": [
    "exposure_r = np.array([(r_pe - r_p), (r_eg - r_p), (r_peg - r_pg)])\n",
    "exposure_rmean = np.mean(exposure_r)\n",
    "exposure_rmean"
   ]
  },
  {
   "cell_type": "code",
   "execution_count": 74,
   "metadata": {},
   "outputs": [
    {
     "data": {
      "text/plain": [
       "array([ 0.24965567,  0.36454846, -0.00146087])"
      ]
     },
     "execution_count": 74,
     "metadata": {},
     "output_type": "execute_result"
    }
   ],
   "source": [
    "exposure_r"
   ]
  },
  {
   "cell_type": "markdown",
   "metadata": {},
   "source": [
    "**Gestation:**\n",
    "- predation & gestation_log\n",
    "- exposure & gestation_log\n",
    "- predation + exposure & gestation_log"
   ]
  },
  {
   "cell_type": "code",
   "execution_count": 75,
   "metadata": {},
   "outputs": [
    {
     "data": {
      "text/plain": [
       "0.21266336486369256"
      ]
     },
     "execution_count": 75,
     "metadata": {},
     "output_type": "execute_result"
    }
   ],
   "source": [
    "gestation_r = np.array([(r_pg - r_p), (r_eg - r_e), (r_peg - r_pe)])\n",
    "gestation_rmean = np.mean(gestation_r)\n",
    "gestation_rmean"
   ]
  },
  {
   "cell_type": "markdown",
   "metadata": {},
   "source": [
    "Comparing the three values, adding the predation shows the lowest increase on the Adjusted R-squared. This indicates that predation plays the smallest role in predicting the sleep_time (dependent variable), which suggests that our hypothesis was incorrect like in approach 1."
   ]
  },
  {
   "cell_type": "markdown",
   "metadata": {},
   "source": [
    "## Overall"
   ]
  },
  {
   "cell_type": "markdown",
   "metadata": {},
   "source": [
    "To see our final result more clearly, we placed the three variables and avg_coef, avg_pva, and adj_r_increase into one table.\n"
   ]
  },
  {
   "cell_type": "code",
   "execution_count": 76,
   "metadata": {},
   "outputs": [
    {
     "data": {
      "text/html": [
       "<div>\n",
       "<style scoped>\n",
       "    .dataframe tbody tr th:only-of-type {\n",
       "        vertical-align: middle;\n",
       "    }\n",
       "\n",
       "    .dataframe tbody tr th {\n",
       "        vertical-align: top;\n",
       "    }\n",
       "\n",
       "    .dataframe thead th {\n",
       "        text-align: right;\n",
       "    }\n",
       "</style>\n",
       "<table border=\"1\" class=\"dataframe\">\n",
       "  <thead>\n",
       "    <tr style=\"text-align: right;\">\n",
       "      <th></th>\n",
       "      <th>avg_coef</th>\n",
       "      <th>avg_pval</th>\n",
       "      <th>adj_r_increase</th>\n",
       "    </tr>\n",
       "  </thead>\n",
       "  <tbody>\n",
       "    <tr>\n",
       "      <th>Predation</th>\n",
       "      <td>-1.169166</td>\n",
       "      <td>0.162899</td>\n",
       "      <td>0.041583</td>\n",
       "    </tr>\n",
       "    <tr>\n",
       "      <th>Exposure</th>\n",
       "      <td>-2.046157</td>\n",
       "      <td>0.111353</td>\n",
       "      <td>0.204248</td>\n",
       "    </tr>\n",
       "    <tr>\n",
       "      <th>Gestation</th>\n",
       "      <td>-2.617963</td>\n",
       "      <td>0.006183</td>\n",
       "      <td>0.212663</td>\n",
       "    </tr>\n",
       "  </tbody>\n",
       "</table>\n",
       "</div>"
      ],
      "text/plain": [
       "           avg_coef  avg_pval  adj_r_increase\n",
       "Predation -1.169166  0.162899        0.041583\n",
       "Exposure  -2.046157  0.111353        0.204248\n",
       "Gestation -2.617963  0.006183        0.212663"
      ]
     },
     "execution_count": 76,
     "metadata": {},
     "output_type": "execute_result"
    }
   ],
   "source": [
    "statistics = pd.DataFrame({'avg_coef': [predation_coef.mean(), exposure_coef.mean(), gestation_coef.mean()], \n",
    "                           'avg_pval': [predation_pval.mean(), exposure_pval.mean(), gestation_pval.mean()], \n",
    "                           'adj_r_increase': [predation_rmean, exposure_rmean, gestation_rmean]},\n",
    "                          index = ['Predation', 'Exposure', 'Gestation'])\n",
    "statistics"
   ]
  },
  {
   "cell_type": "markdown",
   "metadata": {},
   "source": [
    "According to this table, we can conclude that the predation variable has the smallest absolute value average coefficient and the highest average p-value. We can also see that it has the lowest Adjusted R-squared value, which means combining predation with other features is not useful for our prediction. As a result, we can conclude that both the first approach, Coefficients & P-values, and the second approach, Adjusted R-squared, indicate that we don’t have enough evidence to support our hypothesis that predation is the strongest predictor of sleeping time.  "
   ]
  },
  {
   "cell_type": "code",
   "execution_count": 77,
   "metadata": {},
   "outputs": [
    {
     "data": {
      "text/plain": [
       "Text(0, 0.5, 'Coefficient')"
      ]
     },
     "execution_count": 77,
     "metadata": {},
     "output_type": "execute_result"
    },
    {
     "data": {
      "image/png": "[encoded data removed]",
      "text/plain": [
       "<Figure size 432x288 with 1 Axes>"
      ]
     },
     "metadata": {
      "needs_background": "light"
     },
     "output_type": "display_data"
    }
   ],
   "source": [
    "sns.scatterplot(x = [i for i in range(400)], y = predation_coef)\n",
    "sns.scatterplot(x = [i for i in range(400)], y = exposure_coef)\n",
    "sns.scatterplot(x = [i for i in range(400)], y = gestation_coef)\n",
    "plt.legend(labels = ['Predation', 'Exposure', 'Gestation'])\n",
    "plt.xlabel('Iteration')\n",
    "plt.ylabel('Coefficient')"
   ]
  },
  {
   "cell_type": "markdown",
   "metadata": {},
   "source": [
    "From this graph, we could see that predation is centered around zero."
   ]
  },
  {
   "cell_type": "code",
   "execution_count": 80,
   "metadata": {},
   "outputs": [
    {
     "data": {
      "text/plain": [
       "Text(0, 0.5, 'P-values')"
      ]
     },
     "execution_count": 80,
     "metadata": {},
     "output_type": "execute_result"
    },
    {
     "data": {
      "image/png": "[encoded data removed]",
      "text/plain": [
       "<Figure size 432x288 with 1 Axes>"
      ]
     },
     "metadata": {
      "needs_background": "light"
     },
     "output_type": "display_data"
    }
   ],
   "source": [
    "sns.scatterplot(x = [i for i in range(400)], y = predation_pval)\n",
    "sns.scatterplot(x = [i for i in range(400)], y = exposure_pval)\n",
    "sns.scatterplot(x = [i for i in range(400)], y = gestation_pval)\n",
    "plt.legend(labels = ['Predation', 'Exposure', 'Gestation'])\n",
    "plt.xlabel('Iteration')\n",
    "plt.ylabel('P-values')"
   ]
  },
  {
   "cell_type": "markdown",
   "metadata": {},
   "source": [
    "From this graph, we could see that the p-values for predation do not differ very much from exposure, but they are much higher on average comparing to gestation."
   ]
  },
  {
   "cell_type": "code",
   "execution_count": 81,
   "metadata": {},
   "outputs": [
    {
     "data": {
      "text/plain": [
       "<AxesSubplot:>"
      ]
     },
     "execution_count": 81,
     "metadata": {},
     "output_type": "execute_result"
    },
    {
     "data": {
      "image/png": "[encoded data removed]",
      "text/plain": [
       "<Figure size 432x288 with 1 Axes>"
      ]
     },
     "metadata": {
      "needs_background": "light"
     },
     "output_type": "display_data"
    }
   ],
   "source": [
    "sns.barplot(x = ['Predation', 'Exposure', 'Gestation'], y = [predation_rmean, exposure_rmean, gestation_rmean])\n",
    "plt.ylable('Avedj. R-suqared increase')"
   ]
  },
  {
   "cell_type": "markdown",
   "metadata": {},
   "source": [
    "From this graph, we could see that the average increase in adj. $R^2$ is much lower than both exposure and gestation."
   ]
  },
  {
   "cell_type": "markdown",
   "metadata": {},
   "source": [
    "# Ethics & Privacy"
   ]
  },
  {
   "cell_type": "markdown",
   "metadata": {},
   "source": [
    "All of our data and background information are sourced from authoritative websites and journals. Our dataset is obtained from Kaggle.com, a public database for the data science and machine learning discipline. The website has filtered permissions of use and thus the data are not under privacy concerns. Reference 1 is sourced from Plos Computational Biology, a monthly peer-reviewed open access scientific journal that was published by Public Library of Science in association with the International Society for Computational Biology. Reference 2 is sourced from the journal Animal Behaviour, which is published for the Association for the Study of Animal Behaviour in collaboration with the Animal Behavior Society and ranks high on the impact factor of Zoology. Reference 3 is sourced from US National Library of Medicine National Institute of Health. Therefore, we can safely assume that our sources are authoritative and the information we use are open-access and free of ethics and privacy concerns. \n",
    "\n",
    "The dataset we have selected does not contain personal identifiers and other private information. It contains information about the physical and behavioral properties of the animals. Because we are only utilizing data about the animals, there will not be an interaction with the animals. The data are empirical and objective therefore there are not any biases. There is not any informed consent to be given as the data are collected from animals that cannot give consent. We can also assume that all research and analyses were done under ethical considerations."
   ]
  },
  {
   "cell_type": "markdown",
   "metadata": {},
   "source": [
    "# Conclusion & Discussion"
   ]
  },
  {
   "cell_type": "markdown",
   "metadata": {},
   "source": [
    "In this study, we explored mammalian sleeping time and its correlations with many mammal properties such as body weight, brain weight, life span, gestation, predation, exposure, and danger. Having conducted preliminary research, we hypothesized that the predation variable would most strongly predict mammalian sleeping time. To determine whether this hypothesis is correct, we first conducted some Data Cleaning where we dropped columns with null values as well as columns that encountered the multicollinearity issue. Next, to understand our dataset more comprehensively, we performed Exploratory Data Analysis (EDA) per the standards of the Data 100 textbook. After we checked the distribution and outliers for each variable, conducted log transforms, and checked the univariate and bivariate relationship between the variables, we moved on to the Analysis part. According to the two approaches we utilized above, we found that the predation variable has the smallest absolute value average coefficient, the highest average p-value, and the lowest Adjusted R-squared. We came to the conclusion that predation is not actually the strongest predictor of sleeping time. \n",
    "\n",
    "We acknowledge the limitation that we have a relatively small dataset with (62 observations before cleaning and 58 after cleaning). The dataset is also very unique so we cannot find any similar dataset to join with it. The variables predation, exposure, and danger are recorded ordinally; it is difficult to find additional data outside of our dataset that include them. If there are larger datasets that contain mammalian properties and total sleeping time similar to our dataset, we would be less limited in exploring the significance of predictors by building more reliable models.\n",
    "\n",
    "We also choose to do linear regression models partially because of the small size of the dataset. Even if it's possible that the predictors are having non-linear relationship with the total_sleep, we would still build linear regression models to avoid over-fitting. It's also possible that the predictors are having interactions between each other, however, after passing the interaction terms in, none of them has a significant p-value that is lower than 0.05, so we exclude them afterwards in the final models."
   ]
  },
  {
   "cell_type": "markdown",
   "metadata": {},
   "source": [
    "# Team Contributions"
   ]
  },
  {
   "cell_type": "markdown",
   "metadata": {},
   "source": [
    "- Chia-yu Chang\n",
    "    - Verbal explanation (All), Visualized graph (EDA), Presentation\n",
    "<br>\n",
    "- Cecilia Liu\n",
    "    - Code (All), Visualized graph (All), Presentation\n",
    "<br>\n",
    "- Hannah Lin\n",
    "    - Verbal Explanation (Data Cleaning), Visualized graph (EDA), Presentation\n",
    "<br>\n",
    "- Jinyu Rao\n",
    "    - Visualized graph (EDA), Code (Analysis), Verbal explanation (EDA), Presentation\n",
    "<br>\n",
    "- Lanzhuo Wu\n",
    "    - Code (Analysis), Verbal explanation (EDA), Visualized graph (EDA), Presentation"
   ]
  },
  {
   "cell_type": "code",
   "execution_count": null,
   "metadata": {},
   "outputs": [],
   "source": []
  }
 ],
 "metadata": {
  "kernelspec": {
   "display_name": "Python 3",
   "language": "python",
   "name": "python3"
  },
  "language_info": {
   "codemirror_mode": {
    "name": "ipython",
    "version": 3
   },
   "file_extension": ".py",
   "mimetype": "text/x-python",
   "name": "python",
   "nbconvert_exporter": "python",
   "pygments_lexer": "ipython3",
   "version": "3.8.8"
  }
 },
 "nbformat": 4,
 "nbformat_minor": 2
}
